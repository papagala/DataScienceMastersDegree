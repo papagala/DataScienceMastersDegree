{
 "cells": [
  {
   "cell_type": "code",
   "execution_count": 1,
   "metadata": {
    "colab": {},
    "colab_type": "code",
    "id": "i-NxNsB_jxjc"
   },
   "outputs": [],
   "source": [
    "#pip install -q opencv-python-headless"
   ]
  },
  {
   "cell_type": "markdown",
   "metadata": {
    "colab_type": "text",
    "id": "ofhPwcsmGoKL"
   },
   "source": [
    "# Signature Extraction Function"
   ]
  },
  {
   "cell_type": "code",
   "execution_count": 9,
   "metadata": {
    "colab": {},
    "colab_type": "code",
    "id": "2NET3iPb22xg"
   },
   "outputs": [],
   "source": [
    "import numpy as np\n",
    "import cv2\n",
    "#from google.colab.patches import cv2_imshow\n",
    "\n",
    "def extract_signature(filename:str):\n",
    "  # Lee la imagen y la guarda en la variable image\n",
    "  image = cv2.imread(filename)\n",
    "  # Vamos a copiar la imagen original en la variable `original` \n",
    "  original = image.copy()\n",
    "  # Vamos a concentrarnos en la parte inferior izquierda de este cheque cortando la imagen\n",
    "  h, w, c = image.shape\n",
    "  print('ancho:  ', w)\n",
    "  print('alto: ', h)\n",
    "  print('canales:', c)\n",
    "  # Debido a que el cheque mide 600 de ancho, 264 de alto, vamos a dividir el cheque en cuatro partes iguales\n",
    "  # y nos quedaremos solo con la esquina inferior derecha.\n",
    "  image = image[ 131:, 299:]\n",
    "  result = image.copy()\n",
    "  # Convertiremos la imagen de BGR a HSV (también conocido como HSL). \n",
    "  image = cv2.cvtColor(image, cv2.COLOR_BGR2HSV)\n",
    "  # Aquí haremos un filtro basado en un rango inferior y superior dados los siguientes valores de HSV. \n",
    "  lower = np.array([0, 0, 0])\n",
    "  upper = np.array([255, 255, 80])\n",
    "  mask = cv2.inRange(image, lower, upper)\n",
    "\n",
    "  kernel = cv2.getStructuringElement(cv2.MORPH_RECT, (3,3))\n",
    "  # En una imagen binaria la erosión hace que un pixel siga siendo 1, si y solo si los pixeles\n",
    "  # de alrededor son también 1\n",
    "  erosion = cv2.erode(mask,kernel,iterations = 1)\n",
    "  # Hace lo opuesto de la erosión. Aquí un pixel es 1 si al menos un pixel debajo del kernel es 1\n",
    "  dilation = cv2.dilate(erosion,kernel,iterations = 1)\n",
    "  # Otras opciones que se pueden aplicar a la imagen\n",
    "  #opening = cv2.morphologyEx(mask, cv2.MORPH_OPEN, kernel, iterations=1)\n",
    "  #close = cv2.morphologyEx(erosion, cv2.MORPH_CLOSE, kernel, iterations=1)\n",
    "\n",
    "  print(\"Original image\",\"\\n\")\n",
    "  cv2.imshow(original)\n",
    "  print(\"dilation\",\"\\n\")\n",
    "  cv2.imshow( dilation)\n",
    "  print(\"Next cheque\",\"\\n\",\"\\n\",\"\\n\",\"\\n\")\n",
    "\n",
    "  output=filename.split(\"/\")[-1].replace(\".jpeg\",\"\")\n",
    "  cv2.imwrite(f'solo_dilation/dilation_{output}.png', dilation)"
   ]
  },
  {
   "cell_type": "code",
   "execution_count": 10,
   "metadata": {
    "colab": {
     "base_uri": "https://localhost:8080/",
     "height": 1000
    },
    "colab_type": "code",
    "id": "3iwXbo1XFMcT",
    "outputId": "7a666474-0cd7-4d98-da89-b0036e40749a"
   },
   "outputs": [],
   "source": [
    "import glob\n",
    "\n",
    "for filepath in glob.iglob('/content/cheques/*.jpeg'):\n",
    "    extract_signature(filepath)"
   ]
  },
  {
   "cell_type": "code",
   "execution_count": 11,
   "metadata": {
    "colab": {},
    "colab_type": "code",
    "id": "kjlmUVR5LLeH"
   },
   "outputs": [
    {
     "ename": "ModuleNotFoundError",
     "evalue": "No module named 'google.colab'",
     "output_type": "error",
     "traceback": [
      "\u001b[0;31m---------------------------------------------------------------------------\u001b[0m",
      "\u001b[0;31mModuleNotFoundError\u001b[0m                       Traceback (most recent call last)",
      "\u001b[0;32m<ipython-input-11-86cfecc9b60b>\u001b[0m in \u001b[0;36m<module>\u001b[0;34m\u001b[0m\n\u001b[1;32m      1\u001b[0m \u001b[0;32mimport\u001b[0m \u001b[0mnumpy\u001b[0m \u001b[0;32mas\u001b[0m \u001b[0mnp\u001b[0m\u001b[0;34m\u001b[0m\u001b[0;34m\u001b[0m\u001b[0m\n\u001b[1;32m      2\u001b[0m \u001b[0;32mimport\u001b[0m \u001b[0mcv2\u001b[0m\u001b[0;34m\u001b[0m\u001b[0;34m\u001b[0m\u001b[0m\n\u001b[0;32m----> 3\u001b[0;31m \u001b[0;32mfrom\u001b[0m \u001b[0mgoogle\u001b[0m\u001b[0;34m.\u001b[0m\u001b[0mcolab\u001b[0m\u001b[0;34m.\u001b[0m\u001b[0mpatches\u001b[0m \u001b[0;32mimport\u001b[0m \u001b[0mcv2_imshow\u001b[0m\u001b[0;34m\u001b[0m\u001b[0;34m\u001b[0m\u001b[0m\n\u001b[0m\u001b[1;32m      4\u001b[0m \u001b[0;34m\u001b[0m\u001b[0m\n\u001b[1;32m      5\u001b[0m \u001b[0;32mdef\u001b[0m \u001b[0mextract_signature_longer\u001b[0m\u001b[0;34m(\u001b[0m\u001b[0mfilename\u001b[0m\u001b[0;34m:\u001b[0m\u001b[0mstr\u001b[0m\u001b[0;34m)\u001b[0m\u001b[0;34m:\u001b[0m\u001b[0;34m\u001b[0m\u001b[0;34m\u001b[0m\u001b[0m\n",
      "\u001b[0;31mModuleNotFoundError\u001b[0m: No module named 'google.colab'"
     ]
    }
   ],
   "source": [
    "import numpy as np\n",
    "import cv2\n",
    "from google.colab.patches import cv2_imshow\n",
    "\n",
    "def extract_signature_longer(filename:str):\n",
    "  # Lee la imagen y la guarda en la variable image\n",
    "  image = cv2.imread(filename)\n",
    "  # Vamos a copiar la imagen original en la variable `original` \n",
    "  original = image.copy()\n",
    "  # Vamos a concentrarnos en la parte inferior izquierda de este cheque cortando la imagen\n",
    "  h, w, c = image.shape\n",
    "  print('ancho:  ', w)\n",
    "  print('alto: ', h)\n",
    "  print('canales:', c)\n",
    "  # Debido a que el cheque mide 600 de ancho, 264 de alto, vamos a dividir el cheque en cuatro partes iguales\n",
    "  # y nos quedaremos solo con la esquina inferior derecha.\n",
    "  image = image[ 131:, 299:]\n",
    "  result = image.copy()\n",
    "  # Convertiremos la imagen de BGR a HSV (también conocido como HSL). \n",
    "  image = cv2.cvtColor(image, cv2.COLOR_BGR2HSV)\n",
    "  # Aquí haremos un filtro basado en un rango inferior y superior dados los siguientes valores de HSV. \n",
    "  lower = np.array([0, 0, 0])\n",
    "  upper = np.array([255, 255, 80])\n",
    "  mask = cv2.inRange(image, lower, upper)\n",
    "\n",
    "  kernel = cv2.getStructuringElement(cv2.MORPH_RECT, (3,3))\n",
    "  # En una imagen binaria la erosión hace que un pixel siga siendo 1, si y solo si los pixeles\n",
    "  # de alrededor son también 1\n",
    "  erosion = cv2.erode(mask,kernel,iterations = 1)\n",
    "  # Hace lo opuesto de la erosión. Aquí un pixel es 1 si al menos un pixel debajo del kernel es 1\n",
    "  dilation = cv2.dilate(erosion,kernel,iterations = 1)\n",
    "  # Otras opciones que se pueden aplicar a la imagen\n",
    "  #opening = cv2.morphologyEx(mask, cv2.MORPH_OPEN, kernel, iterations=1)\n",
    "  #close = cv2.morphologyEx(erosion, cv2.MORPH_CLOSE, kernel, iterations=1)\n",
    "\n",
    "\n",
    "  # Lo siguiente sirve para crear rectángulos alrededor de las firmas. \n",
    "  # no será utilizado en realidad, pero me pareció elegante y útil\n",
    "  cnts = cv2.findContours(dilation, cv2.RETR_EXTERNAL, cv2.CHAIN_APPROX_SIMPLE)\n",
    "  cnts = cnts[0] if len(cnts) == 2 else cnts[1]\n",
    "  boxes = []\n",
    "  for c in cnts:\n",
    "      (x, y, w, h) = cv2.boundingRect(c)\n",
    "      boxes.append([x,y, x+w,y+h])\n",
    "  boxes = np.asarray(boxes)\n",
    "  left = np.min(boxes[:,0])\n",
    "  top = np.min(boxes[:,1])\n",
    "  right = np.max(boxes[:,2])\n",
    "  bottom = np.max(boxes[:,3])\n",
    "  result[dilation==0] = (255,255,255)\n",
    "  ROI = result[top:bottom, left:right].copy()\n",
    "  cv2.rectangle(result, (left,top), (right,bottom), (36, 255, 12), 2)\n",
    "\n",
    "  print(\"Original image\",\"\\n\")\n",
    "  cv2_imshow(original)\n",
    "  #print(\"Result\",\"\\n\")\n",
    "  #cv2_imshow( result)\n",
    "  #print(\"Region of interest\",\"\\n\")\n",
    "  #cv2_imshow( ROI)\n",
    "  print(\"dilation\",\"\\n\")\n",
    "  cv2_imshow( dilation)\n",
    "  print(\"Next cheque\",\"\\n\",\"\\n\",\"\\n\",\"\\n\")\n",
    "\n",
    "  output=filename.split(\"/\")[-1].replace(\".jpeg\",\"\")\n",
    "  cv2.imwrite(f'solo_dilation/dilation_{output}.png', dilation)\n",
    "  cv2.imwrite(f'solo_ROI/ROI_{output}.png', ROI)\n",
    "  cv2.waitKey()"
   ]
  },
  {
   "cell_type": "code",
   "execution_count": null,
   "metadata": {},
   "outputs": [],
   "source": []
  },
  {
   "cell_type": "code",
   "execution_count": null,
   "metadata": {},
   "outputs": [],
   "source": []
  }
 ],
 "metadata": {
  "colab": {
   "collapsed_sections": [],
   "name": "Extract signature.ipynb",
   "provenance": []
  },
  "kernelspec": {
   "display_name": "Python 3",
   "language": "python",
   "name": "python3"
  },
  "language_info": {
   "codemirror_mode": {
    "name": "ipython",
    "version": 3
   },
   "file_extension": ".py",
   "mimetype": "text/x-python",
   "name": "python",
   "nbconvert_exporter": "python",
   "pygments_lexer": "ipython3",
   "version": "3.8.3"
  }
 },
 "nbformat": 4,
 "nbformat_minor": 1
}
