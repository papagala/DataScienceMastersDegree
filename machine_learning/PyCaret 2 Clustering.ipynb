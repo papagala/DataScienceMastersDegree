{
 "cells": [
  {
   "cell_type": "code",
   "execution_count": 1,
   "metadata": {},
   "outputs": [],
   "source": [
    "# Correr brew install libomp en MacOS"
   ]
  },
  {
   "cell_type": "markdown",
   "metadata": {},
   "source": [
    "# PyCaret 2 Clustering Example\n",
    "This notebook is created using PyCaret 2.0. Last updated : 31-07-2020"
   ]
  },
  {
   "cell_type": "code",
   "execution_count": 2,
   "metadata": {},
   "outputs": [
    {
     "name": "stdout",
     "output_type": "stream",
     "text": [
      "2.0\n"
     ]
    }
   ],
   "source": [
    "# check version\n",
    "from pycaret.utils import version\n",
    "version()"
   ]
  },
  {
   "cell_type": "markdown",
   "metadata": {},
   "source": [
    "# 1. Loading Dataset"
   ]
  },
  {
   "cell_type": "code",
   "execution_count": 3,
   "metadata": {},
   "outputs": [
    {
     "data": {
      "text/html": [
       "<div>\n",
       "<style scoped>\n",
       "    .dataframe tbody tr th:only-of-type {\n",
       "        vertical-align: middle;\n",
       "    }\n",
       "\n",
       "    .dataframe tbody tr th {\n",
       "        vertical-align: top;\n",
       "    }\n",
       "\n",
       "    .dataframe thead th {\n",
       "        text-align: right;\n",
       "    }\n",
       "</style>\n",
       "<table border=\"1\" class=\"dataframe\">\n",
       "  <thead>\n",
       "    <tr style=\"text-align: right;\">\n",
       "      <th></th>\n",
       "      <th>Country Name</th>\n",
       "      <th>1995</th>\n",
       "      <th>1996</th>\n",
       "      <th>1997</th>\n",
       "      <th>1998</th>\n",
       "      <th>1999</th>\n",
       "      <th>2000</th>\n",
       "      <th>2001</th>\n",
       "      <th>2002</th>\n",
       "      <th>2003</th>\n",
       "      <th>...</th>\n",
       "      <th>2005</th>\n",
       "      <th>2006</th>\n",
       "      <th>2007</th>\n",
       "      <th>2008</th>\n",
       "      <th>2009</th>\n",
       "      <th>2010</th>\n",
       "      <th>2011</th>\n",
       "      <th>2012</th>\n",
       "      <th>2013</th>\n",
       "      <th>2014</th>\n",
       "    </tr>\n",
       "  </thead>\n",
       "  <tbody>\n",
       "    <tr>\n",
       "      <th>0</th>\n",
       "      <td>Arab World</td>\n",
       "      <td>2.004868</td>\n",
       "      <td>2.014602</td>\n",
       "      <td>2.071309</td>\n",
       "      <td>2.177712</td>\n",
       "      <td>2.331000</td>\n",
       "      <td>2.333596</td>\n",
       "      <td>2.588751</td>\n",
       "      <td>2.540238</td>\n",
       "      <td>2.450415</td>\n",
       "      <td>...</td>\n",
       "      <td>2.134281</td>\n",
       "      <td>2.133038</td>\n",
       "      <td>2.166872</td>\n",
       "      <td>2.101233</td>\n",
       "      <td>2.830067</td>\n",
       "      <td>2.489631</td>\n",
       "      <td>2.539570</td>\n",
       "      <td>2.711262</td>\n",
       "      <td>2.895427</td>\n",
       "      <td>3.073161</td>\n",
       "    </tr>\n",
       "    <tr>\n",
       "      <th>1</th>\n",
       "      <td>Caribbean small states</td>\n",
       "      <td>2.801518</td>\n",
       "      <td>2.856684</td>\n",
       "      <td>2.997157</td>\n",
       "      <td>2.989451</td>\n",
       "      <td>2.767858</td>\n",
       "      <td>2.826752</td>\n",
       "      <td>2.679969</td>\n",
       "      <td>2.888693</td>\n",
       "      <td>2.740593</td>\n",
       "      <td>...</td>\n",
       "      <td>2.629580</td>\n",
       "      <td>2.650900</td>\n",
       "      <td>2.790665</td>\n",
       "      <td>2.822913</td>\n",
       "      <td>3.408651</td>\n",
       "      <td>3.264064</td>\n",
       "      <td>3.087653</td>\n",
       "      <td>3.314303</td>\n",
       "      <td>3.318432</td>\n",
       "      <td>3.260012</td>\n",
       "    </tr>\n",
       "    <tr>\n",
       "      <th>2</th>\n",
       "      <td>Central Europe and the Baltics</td>\n",
       "      <td>4.678528</td>\n",
       "      <td>4.753209</td>\n",
       "      <td>4.604574</td>\n",
       "      <td>4.499988</td>\n",
       "      <td>4.679082</td>\n",
       "      <td>4.539711</td>\n",
       "      <td>4.666272</td>\n",
       "      <td>4.900196</td>\n",
       "      <td>5.100249</td>\n",
       "      <td>...</td>\n",
       "      <td>4.970861</td>\n",
       "      <td>4.841450</td>\n",
       "      <td>4.809057</td>\n",
       "      <td>5.054785</td>\n",
       "      <td>5.394921</td>\n",
       "      <td>5.284380</td>\n",
       "      <td>5.096212</td>\n",
       "      <td>5.041317</td>\n",
       "      <td>5.029266</td>\n",
       "      <td>5.017717</td>\n",
       "    </tr>\n",
       "    <tr>\n",
       "      <th>3</th>\n",
       "      <td>Early-demographic dividend</td>\n",
       "      <td>2.203164</td>\n",
       "      <td>2.156632</td>\n",
       "      <td>2.227311</td>\n",
       "      <td>2.364100</td>\n",
       "      <td>2.454394</td>\n",
       "      <td>2.450555</td>\n",
       "      <td>2.527081</td>\n",
       "      <td>2.347702</td>\n",
       "      <td>2.363263</td>\n",
       "      <td>...</td>\n",
       "      <td>2.337347</td>\n",
       "      <td>2.369884</td>\n",
       "      <td>2.385251</td>\n",
       "      <td>2.405126</td>\n",
       "      <td>2.701260</td>\n",
       "      <td>2.507131</td>\n",
       "      <td>2.495491</td>\n",
       "      <td>2.497340</td>\n",
       "      <td>2.586701</td>\n",
       "      <td>2.665603</td>\n",
       "    </tr>\n",
       "    <tr>\n",
       "      <th>4</th>\n",
       "      <td>East Asia &amp; Pacific</td>\n",
       "      <td>4.429090</td>\n",
       "      <td>4.203152</td>\n",
       "      <td>4.244351</td>\n",
       "      <td>4.453984</td>\n",
       "      <td>4.626920</td>\n",
       "      <td>4.688849</td>\n",
       "      <td>4.684790</td>\n",
       "      <td>4.613537</td>\n",
       "      <td>4.635098</td>\n",
       "      <td>...</td>\n",
       "      <td>4.566215</td>\n",
       "      <td>4.367146</td>\n",
       "      <td>4.297394</td>\n",
       "      <td>4.434848</td>\n",
       "      <td>4.865241</td>\n",
       "      <td>4.775817</td>\n",
       "      <td>4.871727</td>\n",
       "      <td>4.866869</td>\n",
       "      <td>4.643221</td>\n",
       "      <td>4.571448</td>\n",
       "    </tr>\n",
       "  </tbody>\n",
       "</table>\n",
       "<p>5 rows × 21 columns</p>\n",
       "</div>"
      ],
      "text/plain": [
       "                     Country Name      1995      1996      1997      1998  \\\n",
       "0                      Arab World  2.004868  2.014602  2.071309  2.177712   \n",
       "1          Caribbean small states  2.801518  2.856684  2.997157  2.989451   \n",
       "2  Central Europe and the Baltics  4.678528  4.753209  4.604574  4.499988   \n",
       "3      Early-demographic dividend  2.203164  2.156632  2.227311  2.364100   \n",
       "4             East Asia & Pacific  4.429090  4.203152  4.244351  4.453984   \n",
       "\n",
       "       1999      2000      2001      2002      2003  ...      2005      2006  \\\n",
       "0  2.331000  2.333596  2.588751  2.540238  2.450415  ...  2.134281  2.133038   \n",
       "1  2.767858  2.826752  2.679969  2.888693  2.740593  ...  2.629580  2.650900   \n",
       "2  4.679082  4.539711  4.666272  4.900196  5.100249  ...  4.970861  4.841450   \n",
       "3  2.454394  2.450555  2.527081  2.347702  2.363263  ...  2.337347  2.369884   \n",
       "4  4.626920  4.688849  4.684790  4.613537  4.635098  ...  4.566215  4.367146   \n",
       "\n",
       "       2007      2008      2009      2010      2011      2012      2013  \\\n",
       "0  2.166872  2.101233  2.830067  2.489631  2.539570  2.711262  2.895427   \n",
       "1  2.790665  2.822913  3.408651  3.264064  3.087653  3.314303  3.318432   \n",
       "2  4.809057  5.054785  5.394921  5.284380  5.096212  5.041317  5.029266   \n",
       "3  2.385251  2.405126  2.701260  2.507131  2.495491  2.497340  2.586701   \n",
       "4  4.297394  4.434848  4.865241  4.775817  4.871727  4.866869  4.643221   \n",
       "\n",
       "       2014  \n",
       "0  3.073161  \n",
       "1  3.260012  \n",
       "2  5.017717  \n",
       "3  2.665603  \n",
       "4  4.571448  \n",
       "\n",
       "[5 rows x 21 columns]"
      ]
     },
     "metadata": {},
     "output_type": "display_data"
    }
   ],
   "source": [
    "from pycaret.datasets import get_data\n",
    "data = get_data('public_health')"
   ]
  },
  {
   "cell_type": "markdown",
   "metadata": {},
   "source": [
    "# 2. Initialize Setup"
   ]
  },
  {
   "cell_type": "code",
   "execution_count": 4,
   "metadata": {},
   "outputs": [
    {
     "name": "stdout",
     "output_type": "stream",
     "text": [
      "Setup Succesfully Completed!\n"
     ]
    },
    {
     "data": {
      "text/html": [
       "<style  type=\"text/css\" >\n",
       "</style><table id=\"T_37a6020c_dfe3_11ea_a916_acde48001122\" ><thead>    <tr>        <th class=\"blank level0\" ></th>        <th class=\"col_heading level0 col0\" >Description</th>        <th class=\"col_heading level0 col1\" >Value</th>    </tr></thead><tbody>\n",
       "                <tr>\n",
       "                        <th id=\"T_37a6020c_dfe3_11ea_a916_acde48001122level0_row0\" class=\"row_heading level0 row0\" >0</th>\n",
       "                        <td id=\"T_37a6020c_dfe3_11ea_a916_acde48001122row0_col0\" class=\"data row0 col0\" >session_id </td>\n",
       "                        <td id=\"T_37a6020c_dfe3_11ea_a916_acde48001122row0_col1\" class=\"data row0 col1\" >123</td>\n",
       "            </tr>\n",
       "            <tr>\n",
       "                        <th id=\"T_37a6020c_dfe3_11ea_a916_acde48001122level0_row1\" class=\"row_heading level0 row1\" >1</th>\n",
       "                        <td id=\"T_37a6020c_dfe3_11ea_a916_acde48001122row1_col0\" class=\"data row1 col0\" >Original Data </td>\n",
       "                        <td id=\"T_37a6020c_dfe3_11ea_a916_acde48001122row1_col1\" class=\"data row1 col1\" >(224, 21)</td>\n",
       "            </tr>\n",
       "            <tr>\n",
       "                        <th id=\"T_37a6020c_dfe3_11ea_a916_acde48001122level0_row2\" class=\"row_heading level0 row2\" >2</th>\n",
       "                        <td id=\"T_37a6020c_dfe3_11ea_a916_acde48001122row2_col0\" class=\"data row2 col0\" >Missing Values </td>\n",
       "                        <td id=\"T_37a6020c_dfe3_11ea_a916_acde48001122row2_col1\" class=\"data row2 col1\" >False</td>\n",
       "            </tr>\n",
       "            <tr>\n",
       "                        <th id=\"T_37a6020c_dfe3_11ea_a916_acde48001122level0_row3\" class=\"row_heading level0 row3\" >3</th>\n",
       "                        <td id=\"T_37a6020c_dfe3_11ea_a916_acde48001122row3_col0\" class=\"data row3 col0\" >Numeric Features </td>\n",
       "                        <td id=\"T_37a6020c_dfe3_11ea_a916_acde48001122row3_col1\" class=\"data row3 col1\" >20</td>\n",
       "            </tr>\n",
       "            <tr>\n",
       "                        <th id=\"T_37a6020c_dfe3_11ea_a916_acde48001122level0_row4\" class=\"row_heading level0 row4\" >4</th>\n",
       "                        <td id=\"T_37a6020c_dfe3_11ea_a916_acde48001122row4_col0\" class=\"data row4 col0\" >Categorical Features </td>\n",
       "                        <td id=\"T_37a6020c_dfe3_11ea_a916_acde48001122row4_col1\" class=\"data row4 col1\" >1</td>\n",
       "            </tr>\n",
       "            <tr>\n",
       "                        <th id=\"T_37a6020c_dfe3_11ea_a916_acde48001122level0_row5\" class=\"row_heading level0 row5\" >5</th>\n",
       "                        <td id=\"T_37a6020c_dfe3_11ea_a916_acde48001122row5_col0\" class=\"data row5 col0\" >Ordinal Features </td>\n",
       "                        <td id=\"T_37a6020c_dfe3_11ea_a916_acde48001122row5_col1\" class=\"data row5 col1\" >False</td>\n",
       "            </tr>\n",
       "            <tr>\n",
       "                        <th id=\"T_37a6020c_dfe3_11ea_a916_acde48001122level0_row6\" class=\"row_heading level0 row6\" >6</th>\n",
       "                        <td id=\"T_37a6020c_dfe3_11ea_a916_acde48001122row6_col0\" class=\"data row6 col0\" >High Cardinality Features </td>\n",
       "                        <td id=\"T_37a6020c_dfe3_11ea_a916_acde48001122row6_col1\" class=\"data row6 col1\" >False</td>\n",
       "            </tr>\n",
       "            <tr>\n",
       "                        <th id=\"T_37a6020c_dfe3_11ea_a916_acde48001122level0_row7\" class=\"row_heading level0 row7\" >7</th>\n",
       "                        <td id=\"T_37a6020c_dfe3_11ea_a916_acde48001122row7_col0\" class=\"data row7 col0\" >Transformed Data </td>\n",
       "                        <td id=\"T_37a6020c_dfe3_11ea_a916_acde48001122row7_col1\" class=\"data row7 col1\" >(224, 20)</td>\n",
       "            </tr>\n",
       "            <tr>\n",
       "                        <th id=\"T_37a6020c_dfe3_11ea_a916_acde48001122level0_row8\" class=\"row_heading level0 row8\" >8</th>\n",
       "                        <td id=\"T_37a6020c_dfe3_11ea_a916_acde48001122row8_col0\" class=\"data row8 col0\" >Numeric Imputer </td>\n",
       "                        <td id=\"T_37a6020c_dfe3_11ea_a916_acde48001122row8_col1\" class=\"data row8 col1\" >mean</td>\n",
       "            </tr>\n",
       "            <tr>\n",
       "                        <th id=\"T_37a6020c_dfe3_11ea_a916_acde48001122level0_row9\" class=\"row_heading level0 row9\" >9</th>\n",
       "                        <td id=\"T_37a6020c_dfe3_11ea_a916_acde48001122row9_col0\" class=\"data row9 col0\" >Categorical Imputer </td>\n",
       "                        <td id=\"T_37a6020c_dfe3_11ea_a916_acde48001122row9_col1\" class=\"data row9 col1\" >constant</td>\n",
       "            </tr>\n",
       "            <tr>\n",
       "                        <th id=\"T_37a6020c_dfe3_11ea_a916_acde48001122level0_row10\" class=\"row_heading level0 row10\" >10</th>\n",
       "                        <td id=\"T_37a6020c_dfe3_11ea_a916_acde48001122row10_col0\" class=\"data row10 col0\" >Normalize </td>\n",
       "                        <td id=\"T_37a6020c_dfe3_11ea_a916_acde48001122row10_col1\" class=\"data row10 col1\" >False</td>\n",
       "            </tr>\n",
       "            <tr>\n",
       "                        <th id=\"T_37a6020c_dfe3_11ea_a916_acde48001122level0_row11\" class=\"row_heading level0 row11\" >11</th>\n",
       "                        <td id=\"T_37a6020c_dfe3_11ea_a916_acde48001122row11_col0\" class=\"data row11 col0\" >Normalize Method </td>\n",
       "                        <td id=\"T_37a6020c_dfe3_11ea_a916_acde48001122row11_col1\" class=\"data row11 col1\" >None</td>\n",
       "            </tr>\n",
       "            <tr>\n",
       "                        <th id=\"T_37a6020c_dfe3_11ea_a916_acde48001122level0_row12\" class=\"row_heading level0 row12\" >12</th>\n",
       "                        <td id=\"T_37a6020c_dfe3_11ea_a916_acde48001122row12_col0\" class=\"data row12 col0\" >Transformation </td>\n",
       "                        <td id=\"T_37a6020c_dfe3_11ea_a916_acde48001122row12_col1\" class=\"data row12 col1\" >False</td>\n",
       "            </tr>\n",
       "            <tr>\n",
       "                        <th id=\"T_37a6020c_dfe3_11ea_a916_acde48001122level0_row13\" class=\"row_heading level0 row13\" >13</th>\n",
       "                        <td id=\"T_37a6020c_dfe3_11ea_a916_acde48001122row13_col0\" class=\"data row13 col0\" >Transformation Method </td>\n",
       "                        <td id=\"T_37a6020c_dfe3_11ea_a916_acde48001122row13_col1\" class=\"data row13 col1\" >None</td>\n",
       "            </tr>\n",
       "            <tr>\n",
       "                        <th id=\"T_37a6020c_dfe3_11ea_a916_acde48001122level0_row14\" class=\"row_heading level0 row14\" >14</th>\n",
       "                        <td id=\"T_37a6020c_dfe3_11ea_a916_acde48001122row14_col0\" class=\"data row14 col0\" >PCA </td>\n",
       "                        <td id=\"T_37a6020c_dfe3_11ea_a916_acde48001122row14_col1\" class=\"data row14 col1\" >False</td>\n",
       "            </tr>\n",
       "            <tr>\n",
       "                        <th id=\"T_37a6020c_dfe3_11ea_a916_acde48001122level0_row15\" class=\"row_heading level0 row15\" >15</th>\n",
       "                        <td id=\"T_37a6020c_dfe3_11ea_a916_acde48001122row15_col0\" class=\"data row15 col0\" >PCA Method </td>\n",
       "                        <td id=\"T_37a6020c_dfe3_11ea_a916_acde48001122row15_col1\" class=\"data row15 col1\" >None</td>\n",
       "            </tr>\n",
       "            <tr>\n",
       "                        <th id=\"T_37a6020c_dfe3_11ea_a916_acde48001122level0_row16\" class=\"row_heading level0 row16\" >16</th>\n",
       "                        <td id=\"T_37a6020c_dfe3_11ea_a916_acde48001122row16_col0\" class=\"data row16 col0\" >PCA components </td>\n",
       "                        <td id=\"T_37a6020c_dfe3_11ea_a916_acde48001122row16_col1\" class=\"data row16 col1\" >None</td>\n",
       "            </tr>\n",
       "            <tr>\n",
       "                        <th id=\"T_37a6020c_dfe3_11ea_a916_acde48001122level0_row17\" class=\"row_heading level0 row17\" >17</th>\n",
       "                        <td id=\"T_37a6020c_dfe3_11ea_a916_acde48001122row17_col0\" class=\"data row17 col0\" >Ignore Low Variance </td>\n",
       "                        <td id=\"T_37a6020c_dfe3_11ea_a916_acde48001122row17_col1\" class=\"data row17 col1\" >False</td>\n",
       "            </tr>\n",
       "            <tr>\n",
       "                        <th id=\"T_37a6020c_dfe3_11ea_a916_acde48001122level0_row18\" class=\"row_heading level0 row18\" >18</th>\n",
       "                        <td id=\"T_37a6020c_dfe3_11ea_a916_acde48001122row18_col0\" class=\"data row18 col0\" >Combine Rare Levels </td>\n",
       "                        <td id=\"T_37a6020c_dfe3_11ea_a916_acde48001122row18_col1\" class=\"data row18 col1\" >False</td>\n",
       "            </tr>\n",
       "            <tr>\n",
       "                        <th id=\"T_37a6020c_dfe3_11ea_a916_acde48001122level0_row19\" class=\"row_heading level0 row19\" >19</th>\n",
       "                        <td id=\"T_37a6020c_dfe3_11ea_a916_acde48001122row19_col0\" class=\"data row19 col0\" >Rare Level Threshold </td>\n",
       "                        <td id=\"T_37a6020c_dfe3_11ea_a916_acde48001122row19_col1\" class=\"data row19 col1\" >None</td>\n",
       "            </tr>\n",
       "            <tr>\n",
       "                        <th id=\"T_37a6020c_dfe3_11ea_a916_acde48001122level0_row20\" class=\"row_heading level0 row20\" >20</th>\n",
       "                        <td id=\"T_37a6020c_dfe3_11ea_a916_acde48001122row20_col0\" class=\"data row20 col0\" >Numeric Binning </td>\n",
       "                        <td id=\"T_37a6020c_dfe3_11ea_a916_acde48001122row20_col1\" class=\"data row20 col1\" >False</td>\n",
       "            </tr>\n",
       "            <tr>\n",
       "                        <th id=\"T_37a6020c_dfe3_11ea_a916_acde48001122level0_row21\" class=\"row_heading level0 row21\" >21</th>\n",
       "                        <td id=\"T_37a6020c_dfe3_11ea_a916_acde48001122row21_col0\" class=\"data row21 col0\" >Remove Multicollinearity </td>\n",
       "                        <td id=\"T_37a6020c_dfe3_11ea_a916_acde48001122row21_col1\" class=\"data row21 col1\" >False</td>\n",
       "            </tr>\n",
       "            <tr>\n",
       "                        <th id=\"T_37a6020c_dfe3_11ea_a916_acde48001122level0_row22\" class=\"row_heading level0 row22\" >22</th>\n",
       "                        <td id=\"T_37a6020c_dfe3_11ea_a916_acde48001122row22_col0\" class=\"data row22 col0\" >Multicollinearity Threshold </td>\n",
       "                        <td id=\"T_37a6020c_dfe3_11ea_a916_acde48001122row22_col1\" class=\"data row22 col1\" >None</td>\n",
       "            </tr>\n",
       "            <tr>\n",
       "                        <th id=\"T_37a6020c_dfe3_11ea_a916_acde48001122level0_row23\" class=\"row_heading level0 row23\" >23</th>\n",
       "                        <td id=\"T_37a6020c_dfe3_11ea_a916_acde48001122row23_col0\" class=\"data row23 col0\" >Group Features </td>\n",
       "                        <td id=\"T_37a6020c_dfe3_11ea_a916_acde48001122row23_col1\" class=\"data row23 col1\" >False</td>\n",
       "            </tr>\n",
       "    </tbody></table>"
      ],
      "text/plain": [
       "<pandas.io.formats.style.Styler at 0x14626b7f0>"
      ]
     },
     "metadata": {},
     "output_type": "display_data"
    }
   ],
   "source": [
    "from pycaret.clustering import *\n",
    "clu1 = setup(data, ignore_features = ['Country Name'], session_id=123, log_experiment=True, log_plots = True, \n",
    "             experiment_name='health1')"
   ]
  },
  {
   "cell_type": "markdown",
   "metadata": {},
   "source": [
    "# 3. Create Model"
   ]
  },
  {
   "cell_type": "code",
   "execution_count": 5,
   "metadata": {},
   "outputs": [
    {
     "data": {
      "text/html": [
       "<div>\n",
       "<style scoped>\n",
       "    .dataframe tbody tr th:only-of-type {\n",
       "        vertical-align: middle;\n",
       "    }\n",
       "\n",
       "    .dataframe tbody tr th {\n",
       "        vertical-align: top;\n",
       "    }\n",
       "\n",
       "    .dataframe thead th {\n",
       "        text-align: right;\n",
       "    }\n",
       "</style>\n",
       "<table border=\"1\" class=\"dataframe\">\n",
       "  <thead>\n",
       "    <tr style=\"text-align: right;\">\n",
       "      <th></th>\n",
       "      <th>Name</th>\n",
       "      <th>Reference</th>\n",
       "    </tr>\n",
       "    <tr>\n",
       "      <th>ID</th>\n",
       "      <th></th>\n",
       "      <th></th>\n",
       "    </tr>\n",
       "  </thead>\n",
       "  <tbody>\n",
       "    <tr>\n",
       "      <th>kmeans</th>\n",
       "      <td>K-Means Clustering</td>\n",
       "      <td>sklearn.cluster.KMeans</td>\n",
       "    </tr>\n",
       "    <tr>\n",
       "      <th>ap</th>\n",
       "      <td>Affinity Propagation</td>\n",
       "      <td>sklearn.cluster.AffinityPropagation</td>\n",
       "    </tr>\n",
       "    <tr>\n",
       "      <th>meanshift</th>\n",
       "      <td>Mean shift Clustering</td>\n",
       "      <td>sklearn.cluster.MeanShift</td>\n",
       "    </tr>\n",
       "    <tr>\n",
       "      <th>sc</th>\n",
       "      <td>Spectral Clustering</td>\n",
       "      <td>sklearn.cluster.SpectralClustering</td>\n",
       "    </tr>\n",
       "    <tr>\n",
       "      <th>hclust</th>\n",
       "      <td>Agglomerative Clustering</td>\n",
       "      <td>sklearn.cluster.AgglomerativeClustering</td>\n",
       "    </tr>\n",
       "    <tr>\n",
       "      <th>dbscan</th>\n",
       "      <td>Density-Based Spatial Clustering</td>\n",
       "      <td>sklearn.cluster.DBSCAN</td>\n",
       "    </tr>\n",
       "    <tr>\n",
       "      <th>optics</th>\n",
       "      <td>OPTICS Clustering</td>\n",
       "      <td>sklearn.cluster.OPTICS</td>\n",
       "    </tr>\n",
       "    <tr>\n",
       "      <th>birch</th>\n",
       "      <td>Birch Clustering</td>\n",
       "      <td>sklearn.cluster.Birch</td>\n",
       "    </tr>\n",
       "    <tr>\n",
       "      <th>kmodes</th>\n",
       "      <td>K-Modes Clustering</td>\n",
       "      <td>git/nicodv/kmodes</td>\n",
       "    </tr>\n",
       "  </tbody>\n",
       "</table>\n",
       "</div>"
      ],
      "text/plain": [
       "                                       Name  \\\n",
       "ID                                            \n",
       "kmeans                   K-Means Clustering   \n",
       "ap                     Affinity Propagation   \n",
       "meanshift             Mean shift Clustering   \n",
       "sc                      Spectral Clustering   \n",
       "hclust             Agglomerative Clustering   \n",
       "dbscan     Density-Based Spatial Clustering   \n",
       "optics                    OPTICS Clustering   \n",
       "birch                      Birch Clustering   \n",
       "kmodes                   K-Modes Clustering   \n",
       "\n",
       "                                         Reference  \n",
       "ID                                                  \n",
       "kmeans                      sklearn.cluster.KMeans  \n",
       "ap             sklearn.cluster.AffinityPropagation  \n",
       "meanshift                sklearn.cluster.MeanShift  \n",
       "sc              sklearn.cluster.SpectralClustering  \n",
       "hclust     sklearn.cluster.AgglomerativeClustering  \n",
       "dbscan                      sklearn.cluster.DBSCAN  \n",
       "optics                      sklearn.cluster.OPTICS  \n",
       "birch                        sklearn.cluster.Birch  \n",
       "kmodes                           git/nicodv/kmodes  "
      ]
     },
     "execution_count": 5,
     "metadata": {},
     "output_type": "execute_result"
    }
   ],
   "source": [
    "models()"
   ]
  },
  {
   "cell_type": "code",
   "execution_count": 6,
   "metadata": {},
   "outputs": [
    {
     "data": {
      "text/html": [
       "<div>\n",
       "<style scoped>\n",
       "    .dataframe tbody tr th:only-of-type {\n",
       "        vertical-align: middle;\n",
       "    }\n",
       "\n",
       "    .dataframe tbody tr th {\n",
       "        vertical-align: top;\n",
       "    }\n",
       "\n",
       "    .dataframe thead th {\n",
       "        text-align: right;\n",
       "    }\n",
       "</style>\n",
       "<table border=\"1\" class=\"dataframe\">\n",
       "  <thead>\n",
       "    <tr style=\"text-align: right;\">\n",
       "      <th></th>\n",
       "      <th>Metric</th>\n",
       "    </tr>\n",
       "  </thead>\n",
       "  <tbody>\n",
       "    <tr>\n",
       "      <th>Silhouette</th>\n",
       "      <td>0.4335</td>\n",
       "    </tr>\n",
       "    <tr>\n",
       "      <th>Calinski-Harabasz</th>\n",
       "      <td>322.9575</td>\n",
       "    </tr>\n",
       "    <tr>\n",
       "      <th>Davies-Bouldin</th>\n",
       "      <td>0.7471</td>\n",
       "    </tr>\n",
       "  </tbody>\n",
       "</table>\n",
       "</div>"
      ],
      "text/plain": [
       "                     Metric\n",
       "Silhouette           0.4335\n",
       "Calinski-Harabasz  322.9575\n",
       "Davies-Bouldin       0.7471"
      ]
     },
     "metadata": {},
     "output_type": "display_data"
    },
    {
     "data": {
      "text/plain": [
       "<Figure size 576x396 with 0 Axes>"
      ]
     },
     "metadata": {},
     "output_type": "display_data"
    }
   ],
   "source": [
    "kmeans = create_model('kmeans', num_clusters = 4)"
   ]
  },
  {
   "cell_type": "code",
   "execution_count": 7,
   "metadata": {},
   "outputs": [
    {
     "data": {
      "text/html": [
       "<div>\n",
       "<style scoped>\n",
       "    .dataframe tbody tr th:only-of-type {\n",
       "        vertical-align: middle;\n",
       "    }\n",
       "\n",
       "    .dataframe tbody tr th {\n",
       "        vertical-align: top;\n",
       "    }\n",
       "\n",
       "    .dataframe thead th {\n",
       "        text-align: right;\n",
       "    }\n",
       "</style>\n",
       "<table border=\"1\" class=\"dataframe\">\n",
       "  <thead>\n",
       "    <tr style=\"text-align: right;\">\n",
       "      <th></th>\n",
       "      <th>Metric</th>\n",
       "    </tr>\n",
       "  </thead>\n",
       "  <tbody>\n",
       "    <tr>\n",
       "      <th>Silhouette</th>\n",
       "      <td>-0.3632</td>\n",
       "    </tr>\n",
       "    <tr>\n",
       "      <th>Calinski-Harabasz</th>\n",
       "      <td>1.2468</td>\n",
       "    </tr>\n",
       "    <tr>\n",
       "      <th>Davies-Bouldin</th>\n",
       "      <td>1.2297</td>\n",
       "    </tr>\n",
       "  </tbody>\n",
       "</table>\n",
       "</div>"
      ],
      "text/plain": [
       "                   Metric\n",
       "Silhouette        -0.3632\n",
       "Calinski-Harabasz  1.2468\n",
       "Davies-Bouldin     1.2297"
      ]
     },
     "metadata": {},
     "output_type": "display_data"
    },
    {
     "data": {
      "text/plain": [
       "<Figure size 576x396 with 0 Axes>"
      ]
     },
     "metadata": {},
     "output_type": "display_data"
    }
   ],
   "source": [
    "kmodes = create_model('kmodes', num_clusters = 4)"
   ]
  },
  {
   "cell_type": "markdown",
   "metadata": {},
   "source": [
    "# 4. Assign Labels"
   ]
  },
  {
   "cell_type": "code",
   "execution_count": 8,
   "metadata": {},
   "outputs": [
    {
     "data": {
      "text/html": [
       "<div>\n",
       "<style scoped>\n",
       "    .dataframe tbody tr th:only-of-type {\n",
       "        vertical-align: middle;\n",
       "    }\n",
       "\n",
       "    .dataframe tbody tr th {\n",
       "        vertical-align: top;\n",
       "    }\n",
       "\n",
       "    .dataframe thead th {\n",
       "        text-align: right;\n",
       "    }\n",
       "</style>\n",
       "<table border=\"1\" class=\"dataframe\">\n",
       "  <thead>\n",
       "    <tr style=\"text-align: right;\">\n",
       "      <th></th>\n",
       "      <th>Country Name</th>\n",
       "      <th>1995</th>\n",
       "      <th>1996</th>\n",
       "      <th>1997</th>\n",
       "      <th>1998</th>\n",
       "      <th>1999</th>\n",
       "      <th>2000</th>\n",
       "      <th>2001</th>\n",
       "      <th>2002</th>\n",
       "      <th>2003</th>\n",
       "      <th>...</th>\n",
       "      <th>2006</th>\n",
       "      <th>2007</th>\n",
       "      <th>2008</th>\n",
       "      <th>2009</th>\n",
       "      <th>2010</th>\n",
       "      <th>2011</th>\n",
       "      <th>2012</th>\n",
       "      <th>2013</th>\n",
       "      <th>2014</th>\n",
       "      <th>Cluster</th>\n",
       "    </tr>\n",
       "  </thead>\n",
       "  <tbody>\n",
       "    <tr>\n",
       "      <th>0</th>\n",
       "      <td>Arab World</td>\n",
       "      <td>2.004868</td>\n",
       "      <td>2.014602</td>\n",
       "      <td>2.071309</td>\n",
       "      <td>2.177712</td>\n",
       "      <td>2.331000</td>\n",
       "      <td>2.333596</td>\n",
       "      <td>2.588751</td>\n",
       "      <td>2.540238</td>\n",
       "      <td>2.450415</td>\n",
       "      <td>...</td>\n",
       "      <td>2.133038</td>\n",
       "      <td>2.166872</td>\n",
       "      <td>2.101233</td>\n",
       "      <td>2.830067</td>\n",
       "      <td>2.489631</td>\n",
       "      <td>2.539570</td>\n",
       "      <td>2.711262</td>\n",
       "      <td>2.895427</td>\n",
       "      <td>3.073161</td>\n",
       "      <td>Cluster 2</td>\n",
       "    </tr>\n",
       "    <tr>\n",
       "      <th>1</th>\n",
       "      <td>Caribbean small states</td>\n",
       "      <td>2.801518</td>\n",
       "      <td>2.856684</td>\n",
       "      <td>2.997157</td>\n",
       "      <td>2.989451</td>\n",
       "      <td>2.767858</td>\n",
       "      <td>2.826752</td>\n",
       "      <td>2.679969</td>\n",
       "      <td>2.888693</td>\n",
       "      <td>2.740593</td>\n",
       "      <td>...</td>\n",
       "      <td>2.650900</td>\n",
       "      <td>2.790665</td>\n",
       "      <td>2.822913</td>\n",
       "      <td>3.408651</td>\n",
       "      <td>3.264064</td>\n",
       "      <td>3.087653</td>\n",
       "      <td>3.314303</td>\n",
       "      <td>3.318432</td>\n",
       "      <td>3.260012</td>\n",
       "      <td>Cluster 2</td>\n",
       "    </tr>\n",
       "    <tr>\n",
       "      <th>2</th>\n",
       "      <td>Central Europe and the Baltics</td>\n",
       "      <td>4.678528</td>\n",
       "      <td>4.753209</td>\n",
       "      <td>4.604574</td>\n",
       "      <td>4.499988</td>\n",
       "      <td>4.679082</td>\n",
       "      <td>4.539711</td>\n",
       "      <td>4.666272</td>\n",
       "      <td>4.900196</td>\n",
       "      <td>5.100249</td>\n",
       "      <td>...</td>\n",
       "      <td>4.841450</td>\n",
       "      <td>4.809057</td>\n",
       "      <td>5.054785</td>\n",
       "      <td>5.394921</td>\n",
       "      <td>5.284380</td>\n",
       "      <td>5.096212</td>\n",
       "      <td>5.041317</td>\n",
       "      <td>5.029266</td>\n",
       "      <td>5.017717</td>\n",
       "      <td>Cluster 0</td>\n",
       "    </tr>\n",
       "    <tr>\n",
       "      <th>3</th>\n",
       "      <td>Early-demographic dividend</td>\n",
       "      <td>2.203164</td>\n",
       "      <td>2.156632</td>\n",
       "      <td>2.227311</td>\n",
       "      <td>2.364100</td>\n",
       "      <td>2.454394</td>\n",
       "      <td>2.450555</td>\n",
       "      <td>2.527081</td>\n",
       "      <td>2.347702</td>\n",
       "      <td>2.363263</td>\n",
       "      <td>...</td>\n",
       "      <td>2.369884</td>\n",
       "      <td>2.385251</td>\n",
       "      <td>2.405126</td>\n",
       "      <td>2.701260</td>\n",
       "      <td>2.507131</td>\n",
       "      <td>2.495491</td>\n",
       "      <td>2.497340</td>\n",
       "      <td>2.586701</td>\n",
       "      <td>2.665603</td>\n",
       "      <td>Cluster 2</td>\n",
       "    </tr>\n",
       "    <tr>\n",
       "      <th>4</th>\n",
       "      <td>East Asia &amp; Pacific</td>\n",
       "      <td>4.429090</td>\n",
       "      <td>4.203152</td>\n",
       "      <td>4.244351</td>\n",
       "      <td>4.453984</td>\n",
       "      <td>4.626920</td>\n",
       "      <td>4.688849</td>\n",
       "      <td>4.684790</td>\n",
       "      <td>4.613537</td>\n",
       "      <td>4.635098</td>\n",
       "      <td>...</td>\n",
       "      <td>4.367146</td>\n",
       "      <td>4.297394</td>\n",
       "      <td>4.434848</td>\n",
       "      <td>4.865241</td>\n",
       "      <td>4.775817</td>\n",
       "      <td>4.871727</td>\n",
       "      <td>4.866869</td>\n",
       "      <td>4.643221</td>\n",
       "      <td>4.571448</td>\n",
       "      <td>Cluster 0</td>\n",
       "    </tr>\n",
       "  </tbody>\n",
       "</table>\n",
       "<p>5 rows × 22 columns</p>\n",
       "</div>"
      ],
      "text/plain": [
       "                     Country Name      1995      1996      1997      1998  \\\n",
       "0                      Arab World  2.004868  2.014602  2.071309  2.177712   \n",
       "1          Caribbean small states  2.801518  2.856684  2.997157  2.989451   \n",
       "2  Central Europe and the Baltics  4.678528  4.753209  4.604574  4.499988   \n",
       "3      Early-demographic dividend  2.203164  2.156632  2.227311  2.364100   \n",
       "4             East Asia & Pacific  4.429090  4.203152  4.244351  4.453984   \n",
       "\n",
       "       1999      2000      2001      2002      2003  ...      2006      2007  \\\n",
       "0  2.331000  2.333596  2.588751  2.540238  2.450415  ...  2.133038  2.166872   \n",
       "1  2.767858  2.826752  2.679969  2.888693  2.740593  ...  2.650900  2.790665   \n",
       "2  4.679082  4.539711  4.666272  4.900196  5.100249  ...  4.841450  4.809057   \n",
       "3  2.454394  2.450555  2.527081  2.347702  2.363263  ...  2.369884  2.385251   \n",
       "4  4.626920  4.688849  4.684790  4.613537  4.635098  ...  4.367146  4.297394   \n",
       "\n",
       "       2008      2009      2010      2011      2012      2013      2014  \\\n",
       "0  2.101233  2.830067  2.489631  2.539570  2.711262  2.895427  3.073161   \n",
       "1  2.822913  3.408651  3.264064  3.087653  3.314303  3.318432  3.260012   \n",
       "2  5.054785  5.394921  5.284380  5.096212  5.041317  5.029266  5.017717   \n",
       "3  2.405126  2.701260  2.507131  2.495491  2.497340  2.586701  2.665603   \n",
       "4  4.434848  4.865241  4.775817  4.871727  4.866869  4.643221  4.571448   \n",
       "\n",
       "     Cluster  \n",
       "0  Cluster 2  \n",
       "1  Cluster 2  \n",
       "2  Cluster 0  \n",
       "3  Cluster 2  \n",
       "4  Cluster 0  \n",
       "\n",
       "[5 rows x 22 columns]"
      ]
     },
     "execution_count": 8,
     "metadata": {},
     "output_type": "execute_result"
    }
   ],
   "source": [
    "kmeans_results = assign_model(kmeans)\n",
    "kmeans_results.head()"
   ]
  },
  {
   "cell_type": "markdown",
   "metadata": {},
   "source": [
    "# 5. Analyze Model"
   ]
  },
  {
   "cell_type": "code",
   "execution_count": 9,
   "metadata": {},
   "outputs": [
    {
     "data": {
      "text/html": [
       "        <script type=\"text/javascript\">\n",
       "        window.PlotlyConfig = {MathJaxConfig: 'local'};\n",
       "        if (window.MathJax) {MathJax.Hub.Config({SVG: {font: \"STIX-Web\"}});}\n",
       "        if (typeof require !== 'undefined') {\n",
       "        require.undef(\"plotly\");\n",
       "        requirejs.config({\n",
       "            paths: {\n",
       "                'plotly': ['https://cdn.plot.ly/plotly-latest.min']\n",
       "            }\n",
       "        });\n",
       "        require(['plotly'], function(Plotly) {\n",
       "            window._Plotly = Plotly;\n",
       "        });\n",
       "        }\n",
       "        </script>\n",
       "        "
      ]
     },
     "metadata": {},
     "output_type": "display_data"
    },
    {
     "data": {
      "application/vnd.plotly.v1+json": {
       "config": {
        "plotlyServerURL": "https://plot.ly"
       },
       "data": [
        {
         "customdata": [
          [
           "Honduras"
          ],
          [
           "Dominica"
          ],
          [
           "Djibouti"
          ],
          [
           "Samoa"
          ],
          [
           "San Marino"
          ],
          [
           "Sao Tome and Principe"
          ],
          [
           "Colombia"
          ],
          [
           "Chile"
          ],
          [
           "Cabo Verde"
          ],
          [
           "Solomon Islands"
          ],
          [
           "Bulgaria"
          ],
          [
           "South Africa"
          ],
          [
           "Brazil"
          ],
          [
           "Botswana"
          ],
          [
           "Bolivia"
          ],
          [
           "Bhutan"
          ],
          [
           "Belarus"
          ],
          [
           "Barbados"
          ],
          [
           "St. Lucia"
          ],
          [
           "St. Vincent and the Grenadines"
          ],
          [
           "Russian Federation"
          ],
          [
           "Suriname"
          ],
          [
           "Romania"
          ],
          [
           "Estonia"
          ],
          [
           "Moldova"
          ],
          [
           "Malawi"
          ],
          [
           "Monaco"
          ],
          [
           "Macedonia, FYR"
          ],
          [
           "Lithuania"
          ],
          [
           "Lebanon"
          ],
          [
           "Latvia"
          ],
          [
           "Montenegro"
          ],
          [
           "Mozambique"
          ],
          [
           "Namibia"
          ],
          [
           "Jordan"
          ],
          [
           "Israel"
          ],
          [
           "Nicaragua"
          ],
          [
           "Hungary"
          ],
          [
           "Guyana"
          ],
          [
           "Grenada"
          ],
          [
           "Panama"
          ],
          [
           "Papua New Guinea"
          ],
          [
           "Poland"
          ],
          [
           "El Salvador"
          ],
          [
           "Argentina"
          ],
          [
           "Seychelles"
          ],
          [
           "Swaziland"
          ],
          [
           "Small states"
          ],
          [
           "Tonga"
          ],
          [
           "Vanuatu"
          ],
          [
           "Pacific island small states"
          ],
          [
           "Other small states"
          ],
          [
           "Tunisia"
          ],
          [
           "East Asia & Pacific"
          ],
          [
           "Turkey"
          ],
          [
           "Ukraine"
          ],
          [
           "Antigua and Barbuda"
          ],
          [
           "Europe & Central Asia (IDA & IBRD countries)"
          ],
          [
           "Latin America & the Caribbean (IDA & IBRD countries)"
          ],
          [
           "Latin America & Caribbean (excluding high income)"
          ],
          [
           "Latin America & Caribbean"
          ],
          [
           "Europe & Central Asia (excluding high income)"
          ],
          [
           "Thailand"
          ],
          [
           "Uruguay"
          ],
          [
           "Central Europe and the Baltics"
          ],
          [
           "Algeria"
          ],
          [
           "Andorra"
          ]
         ],
         "hovertemplate": "Cluster=Cluster 0<br>PCA1=%{x}<br>PCA2=%{y}<br>Feature=%{customdata[0]}<extra></extra>",
         "legendgroup": "Cluster 0",
         "marker": {
          "color": "#636efa",
          "opacity": 0.5,
          "symbol": "circle"
         },
         "mode": "markers",
         "name": "Cluster 0",
         "orientation": "v",
         "showlegend": true,
         "textposition": "top center",
         "type": "scatter",
         "x": [
          0.052380976704221226,
          -0.6963165842730619,
          3.496362902450416,
          2.239179963842627,
          2.996541555817923,
          -1.9828797671341079,
          5.269249366144288,
          -2.9824819300049716,
          -0.5993207982455234,
          6.323109784117417,
          0.9043237858037502,
          -0.41674848743597354,
          -1.832571139106178,
          -1.686965814851079,
          -0.8536612634039071,
          2.8846255739114017,
          3.0973104640228666,
          0.5412716246977552,
          -1.7848088812854845,
          -0.5138111571569086,
          -0.36390899901084073,
          0.040582767506345596,
          0.7748426086098943,
          3.7119153029666645,
          4.882710147013893,
          3.421105670911858,
          -2.011887424842368,
          4.8117975900245815,
          3.3977115784363083,
          -1.0594868777708542,
          -0.1505343111705641,
          5.5216644402129935,
          -1.5422464279154824,
          2.475123168426271,
          6.379360463316178,
          4.232365223943222,
          -0.42345916952052054,
          6.877428452111313,
          2.762850817234726,
          -2.7100785907146157,
          6.1829001646938995,
          1.7357732814693136,
          2.891565078104709,
          0.40673571172670636,
          1.6549886134245428,
          -0.6367154259911898,
          3.4778417248584135,
          -2.80334887499313,
          0.6882246933431866,
          -2.679774235079103,
          2.521124354529938,
          -2.6780828796626217,
          -2.260400608016422,
          3.732185509922069,
          -0.43740895298230287,
          0.6817178664409332,
          -2.7904247938703297,
          0.18827377624908012,
          -2.3345159400631017,
          -2.078861056251885,
          -2.086614014795427,
          -0.5707423499700737,
          -0.13082493573547307,
          3.7531848592473027,
          5.196532046271687,
          -2.564444039014229,
          4.883437593508745
         ],
         "xaxis": "x",
         "y": [
          -1.0061914536857364,
          1.530567196106187,
          -3.0016842207799748,
          -1.687535648484022,
          -0.2740310411662733,
          1.7913403986410699,
          1.3359849927496943,
          0.1609162784698921,
          2.2543298469994255,
          -1.547414120524147,
          0.5730460663408715,
          0.11355576223380459,
          -0.4294276179163995,
          -0.45382741503654017,
          -0.5170665696550719,
          3.856619596943389,
          3.148695556800249,
          -0.5683861330013144,
          0.03129894274702944,
          -0.06757513689428431,
          1.6575140007352756,
          4.734168013788561,
          -1.2385442803297098,
          1.2643584968373265,
          0.25926155597166395,
          -6.44880400752115,
          -0.4154591228405266,
          3.3873388233345954,
          0.9531860986338618,
          2.993122136765331,
          0.8003393682777392,
          4.121262186928554,
          1.9141130390493317,
          0.5760168892285198,
          0.7145199934098238,
          1.7004237069238604,
          -1.0957750164154754,
          2.5068668117985236,
          2.1863935441044458,
          1.9233874084159055,
          0.6587191354538704,
          1.3772422216355955,
          0.24184140169870266,
          -0.5631591457580736,
          3.9739699054019604,
          3.14259057032015,
          -5.131259458682052,
          1.5032151564745295,
          0.23043470667369692,
          -0.9892378763665279,
          0.5193858572401134,
          1.7809406740110847,
          -0.8410240643570503,
          0.9928267617964192,
          -1.8311715877970045,
          1.1596543184112704,
          -0.6084592632583562,
          0.7463734591250104,
          0.13891010566730813,
          0.12929841063543926,
          0.09429419110350178,
          0.6820820860708179,
          -3.706588405460558,
          -4.1531049826228665,
          0.7126585487039365,
          -2.1296685616125797,
          -2.433941599042846
         ],
         "yaxis": "y"
        },
        {
         "customdata": [
          [
           "Micronesia, Fed. Sts."
          ],
          [
           "Kiribati"
          ],
          [
           "Finland"
          ],
          [
           "France"
          ],
          [
           "United Kingdom"
          ],
          [
           "Germany"
          ],
          [
           "Malta"
          ],
          [
           "Greece"
          ],
          [
           "Portugal"
          ],
          [
           "Austria"
          ],
          [
           "European Union"
          ],
          [
           "Japan"
          ],
          [
           "Australia"
          ],
          [
           "Norway"
          ],
          [
           "Netherlands"
          ],
          [
           "United States"
          ],
          [
           "Iceland"
          ],
          [
           "Italy"
          ],
          [
           "High income"
          ],
          [
           "New Zealand"
          ],
          [
           "Palau"
          ],
          [
           "World"
          ],
          [
           "Sweden"
          ],
          [
           "Cuba"
          ],
          [
           "Switzerland"
          ],
          [
           "Slovak Republic"
          ],
          [
           "Post-demographic dividend"
          ],
          [
           "Serbia"
          ],
          [
           "Spain"
          ],
          [
           "Lesotho"
          ],
          [
           "Europe & Central Asia"
          ],
          [
           "Maldives"
          ],
          [
           "Costa Rica"
          ],
          [
           "Canada"
          ],
          [
           "OECD members"
          ],
          [
           "Croatia"
          ],
          [
           "Ireland"
          ],
          [
           "North America"
          ],
          [
           "Czech Republic"
          ],
          [
           "Denmark"
          ],
          [
           "Euro area"
          ],
          [
           "Belgium"
          ],
          [
           "Slovenia"
          ],
          [
           "Bosnia and Herzegovina"
          ],
          [
           "Luxembourg"
          ]
         ],
         "hovertemplate": "Cluster=Cluster 1<br>PCA1=%{x}<br>PCA2=%{y}<br>Feature=%{customdata[0]}<extra></extra>",
         "legendgroup": "Cluster 1",
         "marker": {
          "color": "#EF553B",
          "opacity": 0.5,
          "symbol": "circle"
         },
         "mode": "markers",
         "name": "Cluster 1",
         "orientation": "v",
         "showlegend": true,
         "textposition": "top center",
         "type": "scatter",
         "x": [
          28.026269553883196,
          23.4209274180096,
          10.726724560722625,
          20.274410375468317,
          12.929593082081045,
          19.69484295490308,
          7.3140917781527355,
          7.186477299903721,
          11.141192979275422,
          18.367344502907944,
          14.943239114650703,
          13.813253198680275,
          8.675223471375856,
          16.67166205014809,
          14.383614043780407,
          14.058971232804133,
          15.946916758968197,
          11.481683009232077,
          13.138218186033129,
          15.482183362753915,
          13.85886447891556,
          8.629457309687261,
          18.38721009205912,
          16.809456411646927,
          11.69398831763859,
          7.348234078370876,
          13.8081286242078,
          7.647162518579739,
          10.043412321500618,
          7.060532218142873,
          13.234086657329977,
          7.472880926088069,
          10.217763125731786,
          13.954540713756638,
          13.11438302712924,
          10.475304935117327,
          7.171364571949278,
          14.032324057252538,
          10.210283019050978,
          20.07095230754882,
          15.823770054445609,
          14.600979477284383,
          11.31808099262243,
          7.014345778510732,
          10.746653539988584
         ],
         "xaxis": "x",
         "y": [
          -6.041878648963881,
          1.8232681705163125,
          -1.0307496953976378,
          0.5893161257926879,
          -2.266138624723641,
          1.2426452203194964,
          -1.6944069348771371,
          -1.3613535609992466,
          -0.3178429143929308,
          0.21312339635189256,
          -0.4116866346696659,
          -2.6865792296916524,
          -0.36967957521681843,
          0.4446501570358723,
          -6.075816075638622,
          -2.128293361440677,
          2.169221640228079,
          -1.2206793438921006,
          -1.1393786999588775,
          -4.743207341003988,
          3.4424525494613603,
          0.3946136452828325,
          -2.2006955984502503,
          -6.478083184227867,
          -1.8339308798468401,
          0.6291036683252434,
          -1.409886537333089,
          -1.4623480949617336,
          -0.9687378170947281,
          -6.8596600891064385,
          0.264163702580193,
          -4.9194173423612755,
          -1.1138186475250493,
          -0.6679680569801186,
          -1.2698155947760232,
          0.35135324468989,
          -0.2558521351774981,
          -2.005564435772476,
          0.9972888247732338,
          -2.0575929021766846,
          -0.14470922160935124,
          -1.8679602899905694,
          0.4399174439131797,
          -3.5188569549087734,
          0.6763558407018946
         ],
         "yaxis": "y"
        },
        {
         "customdata": [
          [
           "Vietnam"
          ],
          [
           "Morocco"
          ],
          [
           "Nepal"
          ],
          [
           "Myanmar"
          ],
          [
           "Venezuela, RB"
          ],
          [
           "Mongolia"
          ],
          [
           "Uzbekistan"
          ],
          [
           "United Arab Emirates"
          ],
          [
           "Nigeria"
          ],
          [
           "Sudan"
          ],
          [
           "St. Kitts and Nevis"
          ],
          [
           "Sri Lanka"
          ],
          [
           "Syrian Arab Republic"
          ],
          [
           "Tajikistan"
          ],
          [
           "Tanzania"
          ],
          [
           "Togo"
          ],
          [
           "Singapore"
          ],
          [
           "Sierra Leone"
          ],
          [
           "Mexico"
          ],
          [
           "Niger"
          ],
          [
           "Senegal"
          ],
          [
           "Trinidad and Tobago"
          ],
          [
           "Rwanda"
          ],
          [
           "Turkmenistan"
          ],
          [
           "Uganda"
          ],
          [
           "Qatar"
          ],
          [
           "Philippines"
          ],
          [
           "Peru"
          ],
          [
           "Paraguay"
          ],
          [
           "Pakistan"
          ],
          [
           "Oman"
          ],
          [
           "Saudi Arabia"
          ],
          [
           "Mauritius"
          ],
          [
           "Arab World"
          ],
          [
           "Chad"
          ],
          [
           "Upper middle income"
          ],
          [
           "Albania"
          ],
          [
           "Angola"
          ],
          [
           "Armenia"
          ],
          [
           "Azerbaijan"
          ],
          [
           "Bahamas, The"
          ],
          [
           "Bahrain"
          ],
          [
           "Bangladesh"
          ],
          [
           "Belize"
          ],
          [
           "Benin"
          ],
          [
           "Brunei Darussalam"
          ],
          [
           "Burkina Faso"
          ],
          [
           "Burundi"
          ],
          [
           "Cambodia"
          ],
          [
           "Cameroon"
          ],
          [
           "Sub-Saharan Africa (IDA & IBRD countries)"
          ],
          [
           "Sub-Saharan Africa (excluding high income)"
          ],
          [
           "Sub-Saharan Africa"
          ],
          [
           "South Asia (IDA & IBRD)"
          ],
          [
           "Caribbean small states"
          ],
          [
           "Early-demographic dividend"
          ],
          [
           "East Asia & Pacific (excluding high income)"
          ],
          [
           "East Asia & Pacific (IDA & IBRD countries)"
          ],
          [
           "Heavily indebted poor countries (HIPC)"
          ],
          [
           "Late-demographic dividend"
          ],
          [
           "Least developed countries: UN classification"
          ],
          [
           "Central African Republic"
          ],
          [
           "Low & middle income"
          ],
          [
           "Lower middle income"
          ],
          [
           "Middle East & North Africa"
          ],
          [
           "Middle East & North Africa (excluding high income)"
          ],
          [
           "Middle East & North Africa (IDA & IBRD countries)"
          ],
          [
           "Middle income"
          ],
          [
           "Pre-demographic dividend"
          ],
          [
           "South Asia"
          ],
          [
           "Low income"
          ],
          [
           "Mauritania"
          ],
          [
           "Zambia"
          ],
          [
           "Comoros"
          ],
          [
           "Yemen, Rep."
          ],
          [
           "India"
          ],
          [
           "Indonesia"
          ],
          [
           "Iran, Islamic Rep."
          ],
          [
           "Jamaica"
          ],
          [
           "Kazakhstan"
          ],
          [
           "Kenya"
          ],
          [
           "Korea, Rep."
          ],
          [
           "Kuwait"
          ],
          [
           "Kyrgyz Republic"
          ],
          [
           "Lao PDR"
          ],
          [
           "Libya"
          ],
          [
           "Madagascar"
          ],
          [
           "Malaysia"
          ],
          [
           "Mali"
          ],
          [
           "China"
          ],
          [
           "Guinea-Bissau"
          ],
          [
           "Haiti"
          ],
          [
           "Guatemala"
          ],
          [
           "Congo, Dem. Rep."
          ],
          [
           "Congo, Rep."
          ],
          [
           "Cote d'Ivoire"
          ],
          [
           "Cyprus"
          ],
          [
           "Dominican Republic"
          ],
          [
           "Ecuador"
          ],
          [
           "Egypt, Arab Rep."
          ],
          [
           "Equatorial Guinea"
          ],
          [
           "Eritrea"
          ],
          [
           "Ethiopia"
          ],
          [
           "Fiji"
          ],
          [
           "Gabon"
          ],
          [
           "Gambia, The"
          ],
          [
           "Georgia"
          ],
          [
           "Ghana"
          ],
          [
           "Guinea"
          ]
         ],
         "hovertemplate": "Cluster=Cluster 2<br>PCA1=%{x}<br>PCA2=%{y}<br>Feature=%{customdata[0]}<extra></extra>",
         "legendgroup": "Cluster 2",
         "marker": {
          "color": "#00cc96",
          "opacity": 0.5,
          "symbol": "circle"
         },
         "mode": "markers",
         "name": "Cluster 2",
         "orientation": "v",
         "showlegend": true,
         "textposition": "top center",
         "type": "scatter",
         "x": [
          -6.838127133689371,
          -9.484297119000681,
          -7.481534537789986,
          -15.115266677686787,
          -8.009970462200501,
          -3.709945822543769,
          -4.3439958993717225,
          -7.527412152427506,
          -12.093503451711781,
          -10.187893573210124,
          -5.982304037394747,
          -9.033280310482064,
          -8.34993440852866,
          -10.740163720954202,
          -6.704510490114221,
          -8.637772998311174,
          -10.783145859486593,
          -6.071121988048265,
          -4.8627877804054735,
          -6.8970171325174014,
          -7.128722124865841,
          -5.193398208285047,
          -4.5367678589804274,
          -7.808119101950002,
          -7.410104286952263,
          -7.287596977267263,
          -10.375982305040118,
          -4.701430209018233,
          -3.325879262397694,
          -13.274173398510676,
          -5.7830515182741244,
          -5.280601942476482,
          -7.183762362692119,
          -5.978111640505863,
          -8.739668478685987,
          -3.556546390843077,
          -5.665968771045835,
          -6.1758384619264985,
          -8.887701105429901,
          -11.990190347513364,
          -3.47273601860984,
          -5.140448924477463,
          -12.279275148006182,
          -3.6782325952668056,
          -6.759047335826217,
          -5.553747628790427,
          -3.5927102273363114,
          -3.9114615341007233,
          -9.835625771928306,
          -11.816550848843821,
          -5.72646040077447,
          -5.733959228379498,
          -5.72646040077447,
          -11.717744407779508,
          -3.533552360275566,
          -5.874889989411106,
          -7.338891894395096,
          -7.338891894395101,
          -6.779112802141313,
          -3.4865834565786384,
          -8.473369637629366,
          -8.328928193317836,
          -5.029770548401174,
          -10.12208829043547,
          -4.754617117667596,
          -5.6689371743232835,
          -5.6689371743232835,
          -5.002990850532889,
          -8.803685060464211,
          -11.717744407779508,
          -6.935487657597177,
          -8.209723823671498,
          -3.718335935066663,
          -7.13163238666764,
          -9.08405838904044,
          -11.64996360056128,
          -12.53819234803707,
          -6.294933725307493,
          -4.276339086039182,
          -6.102007952138876,
          -7.505875796444624,
          -3.8422695092891788,
          -5.756711635031173,
          -3.482951191502167,
          -11.157062106263885,
          -6.8515915723180845,
          -6.318006421470662,
          -7.845046648174214,
          -4.999397273875959,
          -7.0859677684990325,
          -10.52832969892298,
          -9.335434220692619,
          -7.279534380614562,
          -12.749904411139479,
          -8.32172261741887,
          -9.491378675550758,
          -4.343442425602127,
          -7.7808511955199195,
          -7.790551996098867,
          -7.622396289866977,
          -6.338709691007324,
          -9.859076847688465,
          -5.804870493017628,
          -4.139888379414402,
          -9.644119158616423,
          -5.068430173668128,
          -10.269095235769905,
          -5.3292488300306715,
          -10.945540426213428
         ],
         "xaxis": "x",
         "y": [
          -2.1054224181312526,
          -0.674339881895901,
          -0.8377730612890155,
          -0.028339201058389208,
          0.8228560527689589,
          2.5255249894814993,
          1.2898776384266801,
          -0.3688311462459715,
          0.317078277096952,
          -1.5314700249093554,
          2.1232932546309327,
          0.9368375328552417,
          1.9279965762758624,
          -0.3564606077621444,
          -1.2122195613280027,
          -0.4796246484432006,
          0.34533989423746375,
          2.0535688284826765,
          -0.6462077405756083,
          -0.8646847381552376,
          -0.48744350734662595,
          -0.1470950104715112,
          -0.5039192162486812,
          3.631457019761387,
          -0.09849466670467485,
          1.7017615075616372,
          0.6894459850579,
          0.41004174217124467,
          -1.7654684443955153,
          0.15195551398712748,
          1.8771059208222185,
          -0.005353811348649193,
          0.269614037976079,
          0.06008727387118919,
          2.006734701512188,
          0.014294049568387888,
          -0.299148821310172,
          1.048399972443122,
          0.23380355733518995,
          0.6302439716252007,
          -0.4216974744697454,
          1.0191811139862557,
          0.9292942917451489,
          -1.5538410671259397,
          0.27221752660849463,
          2.037198761849658,
          -1.158141149257049,
          -4.799628678285954,
          1.320370034410966,
          0.4203891767923589,
          0.8552924061910828,
          0.8502496554360929,
          0.8552924061910828,
          0.39968228249469384,
          0.427317098923598,
          0.5811594934369007,
          -0.9944962782369453,
          -0.9944962782369442,
          -0.5068844372590346,
          0.03421941894983932,
          -0.09237404974594539,
          0.5463133582843168,
          0.05559276054405554,
          0.475060450210652,
          0.44875985164741067,
          -0.382630101819177,
          -0.382630101819177,
          0.06441920890858754,
          -0.1760458088360439,
          0.39968228249469384,
          -0.5257808006280742,
          2.001794157375586,
          2.117893316914128,
          1.2418292146067695,
          1.9725459159480616,
          0.4387840994705098,
          0.15993643922619147,
          -0.42991124293539934,
          0.8183041735007407,
          1.4083207333161532,
          -0.6464163056969568,
          -2.5218613664013994,
          1.9781672804329213,
          -1.3346870062550669,
          1.9136966118668468,
          -0.815892023885618,
          0.8693110544295628,
          0.028810276635605706,
          1.497615545969876,
          -1.05855950288279,
          1.029264975053775,
          2.009609502540951,
          -0.010123131376214041,
          -1.7875193250832497,
          -1.1761037419663476,
          0.8968873316434847,
          -1.129575189688764,
          -0.7418307711572956,
          -1.9995631693860647,
          0.84327917245056,
          -0.05447341566781257,
          1.4370530974830726,
          -1.606728816326823,
          0.8117649007612829,
          -0.9218388760417191,
          -4.2302591643377045,
          -0.2889516151239764,
          -1.7584576472998465,
          -1.1451215198512827
         ],
         "yaxis": "y"
        },
        {
         "customdata": [
          [
           "Nauru"
          ],
          [
           "Tuvalu"
          ],
          [
           "Marshall Islands"
          ]
         ],
         "hovertemplate": "Cluster=Cluster 3<br>PCA1=%{x}<br>PCA2=%{y}<br>Feature=%{customdata[0]}<extra></extra>",
         "legendgroup": "Cluster 3",
         "marker": {
          "color": "#ab63fa",
          "opacity": 0.5,
          "symbol": "circle"
         },
         "mode": "markers",
         "name": "Cluster 3",
         "orientation": "v",
         "showlegend": true,
         "textposition": "top center",
         "type": "scatter",
         "x": [
          32.54294615578061,
          49.136145464843146,
          55.908067724687456
         ],
         "xaxis": "x",
         "y": [
          14.525514048370512,
          -4.77934261778649,
          11.190154757182905
         ],
         "yaxis": "y"
        }
       ],
       "layout": {
        "height": 600,
        "legend": {
         "title": {
          "text": "Cluster"
         },
         "tracegroupgap": 0
        },
        "margin": {
         "t": 60
        },
        "plot_bgcolor": "rgb(240,240,240)",
        "template": {
         "data": {
          "bar": [
           {
            "error_x": {
             "color": "#2a3f5f"
            },
            "error_y": {
             "color": "#2a3f5f"
            },
            "marker": {
             "line": {
              "color": "#E5ECF6",
              "width": 0.5
             }
            },
            "type": "bar"
           }
          ],
          "barpolar": [
           {
            "marker": {
             "line": {
              "color": "#E5ECF6",
              "width": 0.5
             }
            },
            "type": "barpolar"
           }
          ],
          "carpet": [
           {
            "aaxis": {
             "endlinecolor": "#2a3f5f",
             "gridcolor": "white",
             "linecolor": "white",
             "minorgridcolor": "white",
             "startlinecolor": "#2a3f5f"
            },
            "baxis": {
             "endlinecolor": "#2a3f5f",
             "gridcolor": "white",
             "linecolor": "white",
             "minorgridcolor": "white",
             "startlinecolor": "#2a3f5f"
            },
            "type": "carpet"
           }
          ],
          "choropleth": [
           {
            "colorbar": {
             "outlinewidth": 0,
             "ticks": ""
            },
            "type": "choropleth"
           }
          ],
          "contour": [
           {
            "colorbar": {
             "outlinewidth": 0,
             "ticks": ""
            },
            "colorscale": [
             [
              0,
              "#0d0887"
             ],
             [
              0.1111111111111111,
              "#46039f"
             ],
             [
              0.2222222222222222,
              "#7201a8"
             ],
             [
              0.3333333333333333,
              "#9c179e"
             ],
             [
              0.4444444444444444,
              "#bd3786"
             ],
             [
              0.5555555555555556,
              "#d8576b"
             ],
             [
              0.6666666666666666,
              "#ed7953"
             ],
             [
              0.7777777777777778,
              "#fb9f3a"
             ],
             [
              0.8888888888888888,
              "#fdca26"
             ],
             [
              1,
              "#f0f921"
             ]
            ],
            "type": "contour"
           }
          ],
          "contourcarpet": [
           {
            "colorbar": {
             "outlinewidth": 0,
             "ticks": ""
            },
            "type": "contourcarpet"
           }
          ],
          "heatmap": [
           {
            "colorbar": {
             "outlinewidth": 0,
             "ticks": ""
            },
            "colorscale": [
             [
              0,
              "#0d0887"
             ],
             [
              0.1111111111111111,
              "#46039f"
             ],
             [
              0.2222222222222222,
              "#7201a8"
             ],
             [
              0.3333333333333333,
              "#9c179e"
             ],
             [
              0.4444444444444444,
              "#bd3786"
             ],
             [
              0.5555555555555556,
              "#d8576b"
             ],
             [
              0.6666666666666666,
              "#ed7953"
             ],
             [
              0.7777777777777778,
              "#fb9f3a"
             ],
             [
              0.8888888888888888,
              "#fdca26"
             ],
             [
              1,
              "#f0f921"
             ]
            ],
            "type": "heatmap"
           }
          ],
          "heatmapgl": [
           {
            "colorbar": {
             "outlinewidth": 0,
             "ticks": ""
            },
            "colorscale": [
             [
              0,
              "#0d0887"
             ],
             [
              0.1111111111111111,
              "#46039f"
             ],
             [
              0.2222222222222222,
              "#7201a8"
             ],
             [
              0.3333333333333333,
              "#9c179e"
             ],
             [
              0.4444444444444444,
              "#bd3786"
             ],
             [
              0.5555555555555556,
              "#d8576b"
             ],
             [
              0.6666666666666666,
              "#ed7953"
             ],
             [
              0.7777777777777778,
              "#fb9f3a"
             ],
             [
              0.8888888888888888,
              "#fdca26"
             ],
             [
              1,
              "#f0f921"
             ]
            ],
            "type": "heatmapgl"
           }
          ],
          "histogram": [
           {
            "marker": {
             "colorbar": {
              "outlinewidth": 0,
              "ticks": ""
             }
            },
            "type": "histogram"
           }
          ],
          "histogram2d": [
           {
            "colorbar": {
             "outlinewidth": 0,
             "ticks": ""
            },
            "colorscale": [
             [
              0,
              "#0d0887"
             ],
             [
              0.1111111111111111,
              "#46039f"
             ],
             [
              0.2222222222222222,
              "#7201a8"
             ],
             [
              0.3333333333333333,
              "#9c179e"
             ],
             [
              0.4444444444444444,
              "#bd3786"
             ],
             [
              0.5555555555555556,
              "#d8576b"
             ],
             [
              0.6666666666666666,
              "#ed7953"
             ],
             [
              0.7777777777777778,
              "#fb9f3a"
             ],
             [
              0.8888888888888888,
              "#fdca26"
             ],
             [
              1,
              "#f0f921"
             ]
            ],
            "type": "histogram2d"
           }
          ],
          "histogram2dcontour": [
           {
            "colorbar": {
             "outlinewidth": 0,
             "ticks": ""
            },
            "colorscale": [
             [
              0,
              "#0d0887"
             ],
             [
              0.1111111111111111,
              "#46039f"
             ],
             [
              0.2222222222222222,
              "#7201a8"
             ],
             [
              0.3333333333333333,
              "#9c179e"
             ],
             [
              0.4444444444444444,
              "#bd3786"
             ],
             [
              0.5555555555555556,
              "#d8576b"
             ],
             [
              0.6666666666666666,
              "#ed7953"
             ],
             [
              0.7777777777777778,
              "#fb9f3a"
             ],
             [
              0.8888888888888888,
              "#fdca26"
             ],
             [
              1,
              "#f0f921"
             ]
            ],
            "type": "histogram2dcontour"
           }
          ],
          "mesh3d": [
           {
            "colorbar": {
             "outlinewidth": 0,
             "ticks": ""
            },
            "type": "mesh3d"
           }
          ],
          "parcoords": [
           {
            "line": {
             "colorbar": {
              "outlinewidth": 0,
              "ticks": ""
             }
            },
            "type": "parcoords"
           }
          ],
          "pie": [
           {
            "automargin": true,
            "type": "pie"
           }
          ],
          "scatter": [
           {
            "marker": {
             "colorbar": {
              "outlinewidth": 0,
              "ticks": ""
             }
            },
            "type": "scatter"
           }
          ],
          "scatter3d": [
           {
            "line": {
             "colorbar": {
              "outlinewidth": 0,
              "ticks": ""
             }
            },
            "marker": {
             "colorbar": {
              "outlinewidth": 0,
              "ticks": ""
             }
            },
            "type": "scatter3d"
           }
          ],
          "scattercarpet": [
           {
            "marker": {
             "colorbar": {
              "outlinewidth": 0,
              "ticks": ""
             }
            },
            "type": "scattercarpet"
           }
          ],
          "scattergeo": [
           {
            "marker": {
             "colorbar": {
              "outlinewidth": 0,
              "ticks": ""
             }
            },
            "type": "scattergeo"
           }
          ],
          "scattergl": [
           {
            "marker": {
             "colorbar": {
              "outlinewidth": 0,
              "ticks": ""
             }
            },
            "type": "scattergl"
           }
          ],
          "scattermapbox": [
           {
            "marker": {
             "colorbar": {
              "outlinewidth": 0,
              "ticks": ""
             }
            },
            "type": "scattermapbox"
           }
          ],
          "scatterpolar": [
           {
            "marker": {
             "colorbar": {
              "outlinewidth": 0,
              "ticks": ""
             }
            },
            "type": "scatterpolar"
           }
          ],
          "scatterpolargl": [
           {
            "marker": {
             "colorbar": {
              "outlinewidth": 0,
              "ticks": ""
             }
            },
            "type": "scatterpolargl"
           }
          ],
          "scatterternary": [
           {
            "marker": {
             "colorbar": {
              "outlinewidth": 0,
              "ticks": ""
             }
            },
            "type": "scatterternary"
           }
          ],
          "surface": [
           {
            "colorbar": {
             "outlinewidth": 0,
             "ticks": ""
            },
            "colorscale": [
             [
              0,
              "#0d0887"
             ],
             [
              0.1111111111111111,
              "#46039f"
             ],
             [
              0.2222222222222222,
              "#7201a8"
             ],
             [
              0.3333333333333333,
              "#9c179e"
             ],
             [
              0.4444444444444444,
              "#bd3786"
             ],
             [
              0.5555555555555556,
              "#d8576b"
             ],
             [
              0.6666666666666666,
              "#ed7953"
             ],
             [
              0.7777777777777778,
              "#fb9f3a"
             ],
             [
              0.8888888888888888,
              "#fdca26"
             ],
             [
              1,
              "#f0f921"
             ]
            ],
            "type": "surface"
           }
          ],
          "table": [
           {
            "cells": {
             "fill": {
              "color": "#EBF0F8"
             },
             "line": {
              "color": "white"
             }
            },
            "header": {
             "fill": {
              "color": "#C8D4E3"
             },
             "line": {
              "color": "white"
             }
            },
            "type": "table"
           }
          ]
         },
         "layout": {
          "annotationdefaults": {
           "arrowcolor": "#2a3f5f",
           "arrowhead": 0,
           "arrowwidth": 1
          },
          "coloraxis": {
           "colorbar": {
            "outlinewidth": 0,
            "ticks": ""
           }
          },
          "colorscale": {
           "diverging": [
            [
             0,
             "#8e0152"
            ],
            [
             0.1,
             "#c51b7d"
            ],
            [
             0.2,
             "#de77ae"
            ],
            [
             0.3,
             "#f1b6da"
            ],
            [
             0.4,
             "#fde0ef"
            ],
            [
             0.5,
             "#f7f7f7"
            ],
            [
             0.6,
             "#e6f5d0"
            ],
            [
             0.7,
             "#b8e186"
            ],
            [
             0.8,
             "#7fbc41"
            ],
            [
             0.9,
             "#4d9221"
            ],
            [
             1,
             "#276419"
            ]
           ],
           "sequential": [
            [
             0,
             "#0d0887"
            ],
            [
             0.1111111111111111,
             "#46039f"
            ],
            [
             0.2222222222222222,
             "#7201a8"
            ],
            [
             0.3333333333333333,
             "#9c179e"
            ],
            [
             0.4444444444444444,
             "#bd3786"
            ],
            [
             0.5555555555555556,
             "#d8576b"
            ],
            [
             0.6666666666666666,
             "#ed7953"
            ],
            [
             0.7777777777777778,
             "#fb9f3a"
            ],
            [
             0.8888888888888888,
             "#fdca26"
            ],
            [
             1,
             "#f0f921"
            ]
           ],
           "sequentialminus": [
            [
             0,
             "#0d0887"
            ],
            [
             0.1111111111111111,
             "#46039f"
            ],
            [
             0.2222222222222222,
             "#7201a8"
            ],
            [
             0.3333333333333333,
             "#9c179e"
            ],
            [
             0.4444444444444444,
             "#bd3786"
            ],
            [
             0.5555555555555556,
             "#d8576b"
            ],
            [
             0.6666666666666666,
             "#ed7953"
            ],
            [
             0.7777777777777778,
             "#fb9f3a"
            ],
            [
             0.8888888888888888,
             "#fdca26"
            ],
            [
             1,
             "#f0f921"
            ]
           ]
          },
          "colorway": [
           "#636efa",
           "#EF553B",
           "#00cc96",
           "#ab63fa",
           "#FFA15A",
           "#19d3f3",
           "#FF6692",
           "#B6E880",
           "#FF97FF",
           "#FECB52"
          ],
          "font": {
           "color": "#2a3f5f"
          },
          "geo": {
           "bgcolor": "white",
           "lakecolor": "white",
           "landcolor": "#E5ECF6",
           "showlakes": true,
           "showland": true,
           "subunitcolor": "white"
          },
          "hoverlabel": {
           "align": "left"
          },
          "hovermode": "closest",
          "mapbox": {
           "style": "light"
          },
          "paper_bgcolor": "white",
          "plot_bgcolor": "#E5ECF6",
          "polar": {
           "angularaxis": {
            "gridcolor": "white",
            "linecolor": "white",
            "ticks": ""
           },
           "bgcolor": "#E5ECF6",
           "radialaxis": {
            "gridcolor": "white",
            "linecolor": "white",
            "ticks": ""
           }
          },
          "scene": {
           "xaxis": {
            "backgroundcolor": "#E5ECF6",
            "gridcolor": "white",
            "gridwidth": 2,
            "linecolor": "white",
            "showbackground": true,
            "ticks": "",
            "zerolinecolor": "white"
           },
           "yaxis": {
            "backgroundcolor": "#E5ECF6",
            "gridcolor": "white",
            "gridwidth": 2,
            "linecolor": "white",
            "showbackground": true,
            "ticks": "",
            "zerolinecolor": "white"
           },
           "zaxis": {
            "backgroundcolor": "#E5ECF6",
            "gridcolor": "white",
            "gridwidth": 2,
            "linecolor": "white",
            "showbackground": true,
            "ticks": "",
            "zerolinecolor": "white"
           }
          },
          "shapedefaults": {
           "line": {
            "color": "#2a3f5f"
           }
          },
          "ternary": {
           "aaxis": {
            "gridcolor": "white",
            "linecolor": "white",
            "ticks": ""
           },
           "baxis": {
            "gridcolor": "white",
            "linecolor": "white",
            "ticks": ""
           },
           "bgcolor": "#E5ECF6",
           "caxis": {
            "gridcolor": "white",
            "linecolor": "white",
            "ticks": ""
           }
          },
          "title": {
           "x": 0.05
          },
          "xaxis": {
           "automargin": true,
           "gridcolor": "white",
           "linecolor": "white",
           "ticks": "",
           "title": {
            "standoff": 15
           },
           "zerolinecolor": "white",
           "zerolinewidth": 2
          },
          "yaxis": {
           "automargin": true,
           "gridcolor": "white",
           "linecolor": "white",
           "ticks": "",
           "title": {
            "standoff": 15
           },
           "zerolinecolor": "white",
           "zerolinewidth": 2
          }
         }
        },
        "title": {
         "text": "2D Cluster PCA Plot"
        },
        "xaxis": {
         "anchor": "y",
         "domain": [
          0,
          1
         ],
         "title": {
          "text": "PCA1"
         }
        },
        "yaxis": {
         "anchor": "x",
         "domain": [
          0,
          1
         ],
         "title": {
          "text": "PCA2"
         }
        }
       }
      },
      "text/html": [
       "<div>\n",
       "        \n",
       "        \n",
       "            <div id=\"be9009ca-b45e-46dc-a78d-03031f577347\" class=\"plotly-graph-div\" style=\"height:600px; width:100%;\"></div>\n",
       "            <script type=\"text/javascript\">\n",
       "                require([\"plotly\"], function(Plotly) {\n",
       "                    window.PLOTLYENV=window.PLOTLYENV || {};\n",
       "                    \n",
       "                if (document.getElementById(\"be9009ca-b45e-46dc-a78d-03031f577347\")) {\n",
       "                    Plotly.newPlot(\n",
       "                        'be9009ca-b45e-46dc-a78d-03031f577347',\n",
       "                        [{\"customdata\": [[\"Honduras\"], [\"Dominica\"], [\"Djibouti\"], [\"Samoa\"], [\"San Marino\"], [\"Sao Tome and Principe\"], [\"Colombia\"], [\"Chile\"], [\"Cabo Verde\"], [\"Solomon Islands\"], [\"Bulgaria\"], [\"South Africa\"], [\"Brazil\"], [\"Botswana\"], [\"Bolivia\"], [\"Bhutan\"], [\"Belarus\"], [\"Barbados\"], [\"St. Lucia\"], [\"St. Vincent and the Grenadines\"], [\"Russian Federation\"], [\"Suriname\"], [\"Romania\"], [\"Estonia\"], [\"Moldova\"], [\"Malawi\"], [\"Monaco\"], [\"Macedonia, FYR\"], [\"Lithuania\"], [\"Lebanon\"], [\"Latvia\"], [\"Montenegro\"], [\"Mozambique\"], [\"Namibia\"], [\"Jordan\"], [\"Israel\"], [\"Nicaragua\"], [\"Hungary\"], [\"Guyana\"], [\"Grenada\"], [\"Panama\"], [\"Papua New Guinea\"], [\"Poland\"], [\"El Salvador\"], [\"Argentina\"], [\"Seychelles\"], [\"Swaziland\"], [\"Small states\"], [\"Tonga\"], [\"Vanuatu\"], [\"Pacific island small states\"], [\"Other small states\"], [\"Tunisia\"], [\"East Asia & Pacific\"], [\"Turkey\"], [\"Ukraine\"], [\"Antigua and Barbuda\"], [\"Europe & Central Asia (IDA & IBRD countries)\"], [\"Latin America & the Caribbean (IDA & IBRD countries)\"], [\"Latin America & Caribbean (excluding high income)\"], [\"Latin America & Caribbean\"], [\"Europe & Central Asia (excluding high income)\"], [\"Thailand\"], [\"Uruguay\"], [\"Central Europe and the Baltics\"], [\"Algeria\"], [\"Andorra\"]], \"hovertemplate\": \"Cluster=Cluster 0<br>PCA1=%{x}<br>PCA2=%{y}<br>Feature=%{customdata[0]}<extra></extra>\", \"legendgroup\": \"Cluster 0\", \"marker\": {\"color\": \"#636efa\", \"opacity\": 0.5, \"symbol\": \"circle\"}, \"mode\": \"markers\", \"name\": \"Cluster 0\", \"orientation\": \"v\", \"showlegend\": true, \"textposition\": \"top center\", \"type\": \"scatter\", \"x\": [0.052380976704221226, -0.6963165842730619, 3.496362902450416, 2.239179963842627, 2.996541555817923, -1.9828797671341079, 5.269249366144288, -2.9824819300049716, -0.5993207982455234, 6.323109784117417, 0.9043237858037502, -0.41674848743597354, -1.832571139106178, -1.686965814851079, -0.8536612634039071, 2.8846255739114017, 3.0973104640228666, 0.5412716246977552, -1.7848088812854845, -0.5138111571569086, -0.36390899901084073, 0.040582767506345596, 0.7748426086098943, 3.7119153029666645, 4.882710147013893, 3.421105670911858, -2.011887424842368, 4.8117975900245815, 3.3977115784363083, -1.0594868777708542, -0.1505343111705641, 5.5216644402129935, -1.5422464279154824, 2.475123168426271, 6.379360463316178, 4.232365223943222, -0.42345916952052054, 6.877428452111313, 2.762850817234726, -2.7100785907146157, 6.1829001646938995, 1.7357732814693136, 2.891565078104709, 0.40673571172670636, 1.6549886134245428, -0.6367154259911898, 3.4778417248584135, -2.80334887499313, 0.6882246933431866, -2.679774235079103, 2.521124354529938, -2.6780828796626217, -2.260400608016422, 3.732185509922069, -0.43740895298230287, 0.6817178664409332, -2.7904247938703297, 0.18827377624908012, -2.3345159400631017, -2.078861056251885, -2.086614014795427, -0.5707423499700737, -0.13082493573547307, 3.7531848592473027, 5.196532046271687, -2.564444039014229, 4.883437593508745], \"xaxis\": \"x\", \"y\": [-1.0061914536857364, 1.530567196106187, -3.0016842207799748, -1.687535648484022, -0.2740310411662733, 1.7913403986410699, 1.3359849927496943, 0.1609162784698921, 2.2543298469994255, -1.547414120524147, 0.5730460663408715, 0.11355576223380459, -0.4294276179163995, -0.45382741503654017, -0.5170665696550719, 3.856619596943389, 3.148695556800249, -0.5683861330013144, 0.03129894274702944, -0.06757513689428431, 1.6575140007352756, 4.734168013788561, -1.2385442803297098, 1.2643584968373265, 0.25926155597166395, -6.44880400752115, -0.4154591228405266, 3.3873388233345954, 0.9531860986338618, 2.993122136765331, 0.8003393682777392, 4.121262186928554, 1.9141130390493317, 0.5760168892285198, 0.7145199934098238, 1.7004237069238604, -1.0957750164154754, 2.5068668117985236, 2.1863935441044458, 1.9233874084159055, 0.6587191354538704, 1.3772422216355955, 0.24184140169870266, -0.5631591457580736, 3.9739699054019604, 3.14259057032015, -5.131259458682052, 1.5032151564745295, 0.23043470667369692, -0.9892378763665279, 0.5193858572401134, 1.7809406740110847, -0.8410240643570503, 0.9928267617964192, -1.8311715877970045, 1.1596543184112704, -0.6084592632583562, 0.7463734591250104, 0.13891010566730813, 0.12929841063543926, 0.09429419110350178, 0.6820820860708179, -3.706588405460558, -4.1531049826228665, 0.7126585487039365, -2.1296685616125797, -2.433941599042846], \"yaxis\": \"y\"}, {\"customdata\": [[\"Micronesia, Fed. Sts.\"], [\"Kiribati\"], [\"Finland\"], [\"France\"], [\"United Kingdom\"], [\"Germany\"], [\"Malta\"], [\"Greece\"], [\"Portugal\"], [\"Austria\"], [\"European Union\"], [\"Japan\"], [\"Australia\"], [\"Norway\"], [\"Netherlands\"], [\"United States\"], [\"Iceland\"], [\"Italy\"], [\"High income\"], [\"New Zealand\"], [\"Palau\"], [\"World\"], [\"Sweden\"], [\"Cuba\"], [\"Switzerland\"], [\"Slovak Republic\"], [\"Post-demographic dividend\"], [\"Serbia\"], [\"Spain\"], [\"Lesotho\"], [\"Europe & Central Asia\"], [\"Maldives\"], [\"Costa Rica\"], [\"Canada\"], [\"OECD members\"], [\"Croatia\"], [\"Ireland\"], [\"North America\"], [\"Czech Republic\"], [\"Denmark\"], [\"Euro area\"], [\"Belgium\"], [\"Slovenia\"], [\"Bosnia and Herzegovina\"], [\"Luxembourg\"]], \"hovertemplate\": \"Cluster=Cluster 1<br>PCA1=%{x}<br>PCA2=%{y}<br>Feature=%{customdata[0]}<extra></extra>\", \"legendgroup\": \"Cluster 1\", \"marker\": {\"color\": \"#EF553B\", \"opacity\": 0.5, \"symbol\": \"circle\"}, \"mode\": \"markers\", \"name\": \"Cluster 1\", \"orientation\": \"v\", \"showlegend\": true, \"textposition\": \"top center\", \"type\": \"scatter\", \"x\": [28.026269553883196, 23.4209274180096, 10.726724560722625, 20.274410375468317, 12.929593082081045, 19.69484295490308, 7.3140917781527355, 7.186477299903721, 11.141192979275422, 18.367344502907944, 14.943239114650703, 13.813253198680275, 8.675223471375856, 16.67166205014809, 14.383614043780407, 14.058971232804133, 15.946916758968197, 11.481683009232077, 13.138218186033129, 15.482183362753915, 13.85886447891556, 8.629457309687261, 18.38721009205912, 16.809456411646927, 11.69398831763859, 7.348234078370876, 13.8081286242078, 7.647162518579739, 10.043412321500618, 7.060532218142873, 13.234086657329977, 7.472880926088069, 10.217763125731786, 13.954540713756638, 13.11438302712924, 10.475304935117327, 7.171364571949278, 14.032324057252538, 10.210283019050978, 20.07095230754882, 15.823770054445609, 14.600979477284383, 11.31808099262243, 7.014345778510732, 10.746653539988584], \"xaxis\": \"x\", \"y\": [-6.041878648963881, 1.8232681705163125, -1.0307496953976378, 0.5893161257926879, -2.266138624723641, 1.2426452203194964, -1.6944069348771371, -1.3613535609992466, -0.3178429143929308, 0.21312339635189256, -0.4116866346696659, -2.6865792296916524, -0.36967957521681843, 0.4446501570358723, -6.075816075638622, -2.128293361440677, 2.169221640228079, -1.2206793438921006, -1.1393786999588775, -4.743207341003988, 3.4424525494613603, 0.3946136452828325, -2.2006955984502503, -6.478083184227867, -1.8339308798468401, 0.6291036683252434, -1.409886537333089, -1.4623480949617336, -0.9687378170947281, -6.8596600891064385, 0.264163702580193, -4.9194173423612755, -1.1138186475250493, -0.6679680569801186, -1.2698155947760232, 0.35135324468989, -0.2558521351774981, -2.005564435772476, 0.9972888247732338, -2.0575929021766846, -0.14470922160935124, -1.8679602899905694, 0.4399174439131797, -3.5188569549087734, 0.6763558407018946], \"yaxis\": \"y\"}, {\"customdata\": [[\"Vietnam\"], [\"Morocco\"], [\"Nepal\"], [\"Myanmar\"], [\"Venezuela, RB\"], [\"Mongolia\"], [\"Uzbekistan\"], [\"United Arab Emirates\"], [\"Nigeria\"], [\"Sudan\"], [\"St. Kitts and Nevis\"], [\"Sri Lanka\"], [\"Syrian Arab Republic\"], [\"Tajikistan\"], [\"Tanzania\"], [\"Togo\"], [\"Singapore\"], [\"Sierra Leone\"], [\"Mexico\"], [\"Niger\"], [\"Senegal\"], [\"Trinidad and Tobago\"], [\"Rwanda\"], [\"Turkmenistan\"], [\"Uganda\"], [\"Qatar\"], [\"Philippines\"], [\"Peru\"], [\"Paraguay\"], [\"Pakistan\"], [\"Oman\"], [\"Saudi Arabia\"], [\"Mauritius\"], [\"Arab World\"], [\"Chad\"], [\"Upper middle income\"], [\"Albania\"], [\"Angola\"], [\"Armenia\"], [\"Azerbaijan\"], [\"Bahamas, The\"], [\"Bahrain\"], [\"Bangladesh\"], [\"Belize\"], [\"Benin\"], [\"Brunei Darussalam\"], [\"Burkina Faso\"], [\"Burundi\"], [\"Cambodia\"], [\"Cameroon\"], [\"Sub-Saharan Africa (IDA & IBRD countries)\"], [\"Sub-Saharan Africa (excluding high income)\"], [\"Sub-Saharan Africa\"], [\"South Asia (IDA & IBRD)\"], [\"Caribbean small states\"], [\"Early-demographic dividend\"], [\"East Asia & Pacific (excluding high income)\"], [\"East Asia & Pacific (IDA & IBRD countries)\"], [\"Heavily indebted poor countries (HIPC)\"], [\"Late-demographic dividend\"], [\"Least developed countries: UN classification\"], [\"Central African Republic\"], [\"Low & middle income\"], [\"Lower middle income\"], [\"Middle East & North Africa\"], [\"Middle East & North Africa (excluding high income)\"], [\"Middle East & North Africa (IDA & IBRD countries)\"], [\"Middle income\"], [\"Pre-demographic dividend\"], [\"South Asia\"], [\"Low income\"], [\"Mauritania\"], [\"Zambia\"], [\"Comoros\"], [\"Yemen, Rep.\"], [\"India\"], [\"Indonesia\"], [\"Iran, Islamic Rep.\"], [\"Jamaica\"], [\"Kazakhstan\"], [\"Kenya\"], [\"Korea, Rep.\"], [\"Kuwait\"], [\"Kyrgyz Republic\"], [\"Lao PDR\"], [\"Libya\"], [\"Madagascar\"], [\"Malaysia\"], [\"Mali\"], [\"China\"], [\"Guinea-Bissau\"], [\"Haiti\"], [\"Guatemala\"], [\"Congo, Dem. Rep.\"], [\"Congo, Rep.\"], [\"Cote d'Ivoire\"], [\"Cyprus\"], [\"Dominican Republic\"], [\"Ecuador\"], [\"Egypt, Arab Rep.\"], [\"Equatorial Guinea\"], [\"Eritrea\"], [\"Ethiopia\"], [\"Fiji\"], [\"Gabon\"], [\"Gambia, The\"], [\"Georgia\"], [\"Ghana\"], [\"Guinea\"]], \"hovertemplate\": \"Cluster=Cluster 2<br>PCA1=%{x}<br>PCA2=%{y}<br>Feature=%{customdata[0]}<extra></extra>\", \"legendgroup\": \"Cluster 2\", \"marker\": {\"color\": \"#00cc96\", \"opacity\": 0.5, \"symbol\": \"circle\"}, \"mode\": \"markers\", \"name\": \"Cluster 2\", \"orientation\": \"v\", \"showlegend\": true, \"textposition\": \"top center\", \"type\": \"scatter\", \"x\": [-6.838127133689371, -9.484297119000681, -7.481534537789986, -15.115266677686787, -8.009970462200501, -3.709945822543769, -4.3439958993717225, -7.527412152427506, -12.093503451711781, -10.187893573210124, -5.982304037394747, -9.033280310482064, -8.34993440852866, -10.740163720954202, -6.704510490114221, -8.637772998311174, -10.783145859486593, -6.071121988048265, -4.8627877804054735, -6.8970171325174014, -7.128722124865841, -5.193398208285047, -4.5367678589804274, -7.808119101950002, -7.410104286952263, -7.287596977267263, -10.375982305040118, -4.701430209018233, -3.325879262397694, -13.274173398510676, -5.7830515182741244, -5.280601942476482, -7.183762362692119, -5.978111640505863, -8.739668478685987, -3.556546390843077, -5.665968771045835, -6.1758384619264985, -8.887701105429901, -11.990190347513364, -3.47273601860984, -5.140448924477463, -12.279275148006182, -3.6782325952668056, -6.759047335826217, -5.553747628790427, -3.5927102273363114, -3.9114615341007233, -9.835625771928306, -11.816550848843821, -5.72646040077447, -5.733959228379498, -5.72646040077447, -11.717744407779508, -3.533552360275566, -5.874889989411106, -7.338891894395096, -7.338891894395101, -6.779112802141313, -3.4865834565786384, -8.473369637629366, -8.328928193317836, -5.029770548401174, -10.12208829043547, -4.754617117667596, -5.6689371743232835, -5.6689371743232835, -5.002990850532889, -8.803685060464211, -11.717744407779508, -6.935487657597177, -8.209723823671498, -3.718335935066663, -7.13163238666764, -9.08405838904044, -11.64996360056128, -12.53819234803707, -6.294933725307493, -4.276339086039182, -6.102007952138876, -7.505875796444624, -3.8422695092891788, -5.756711635031173, -3.482951191502167, -11.157062106263885, -6.8515915723180845, -6.318006421470662, -7.845046648174214, -4.999397273875959, -7.0859677684990325, -10.52832969892298, -9.335434220692619, -7.279534380614562, -12.749904411139479, -8.32172261741887, -9.491378675550758, -4.343442425602127, -7.7808511955199195, -7.790551996098867, -7.622396289866977, -6.338709691007324, -9.859076847688465, -5.804870493017628, -4.139888379414402, -9.644119158616423, -5.068430173668128, -10.269095235769905, -5.3292488300306715, -10.945540426213428], \"xaxis\": \"x\", \"y\": [-2.1054224181312526, -0.674339881895901, -0.8377730612890155, -0.028339201058389208, 0.8228560527689589, 2.5255249894814993, 1.2898776384266801, -0.3688311462459715, 0.317078277096952, -1.5314700249093554, 2.1232932546309327, 0.9368375328552417, 1.9279965762758624, -0.3564606077621444, -1.2122195613280027, -0.4796246484432006, 0.34533989423746375, 2.0535688284826765, -0.6462077405756083, -0.8646847381552376, -0.48744350734662595, -0.1470950104715112, -0.5039192162486812, 3.631457019761387, -0.09849466670467485, 1.7017615075616372, 0.6894459850579, 0.41004174217124467, -1.7654684443955153, 0.15195551398712748, 1.8771059208222185, -0.005353811348649193, 0.269614037976079, 0.06008727387118919, 2.006734701512188, 0.014294049568387888, -0.299148821310172, 1.048399972443122, 0.23380355733518995, 0.6302439716252007, -0.4216974744697454, 1.0191811139862557, 0.9292942917451489, -1.5538410671259397, 0.27221752660849463, 2.037198761849658, -1.158141149257049, -4.799628678285954, 1.320370034410966, 0.4203891767923589, 0.8552924061910828, 0.8502496554360929, 0.8552924061910828, 0.39968228249469384, 0.427317098923598, 0.5811594934369007, -0.9944962782369453, -0.9944962782369442, -0.5068844372590346, 0.03421941894983932, -0.09237404974594539, 0.5463133582843168, 0.05559276054405554, 0.475060450210652, 0.44875985164741067, -0.382630101819177, -0.382630101819177, 0.06441920890858754, -0.1760458088360439, 0.39968228249469384, -0.5257808006280742, 2.001794157375586, 2.117893316914128, 1.2418292146067695, 1.9725459159480616, 0.4387840994705098, 0.15993643922619147, -0.42991124293539934, 0.8183041735007407, 1.4083207333161532, -0.6464163056969568, -2.5218613664013994, 1.9781672804329213, -1.3346870062550669, 1.9136966118668468, -0.815892023885618, 0.8693110544295628, 0.028810276635605706, 1.497615545969876, -1.05855950288279, 1.029264975053775, 2.009609502540951, -0.010123131376214041, -1.7875193250832497, -1.1761037419663476, 0.8968873316434847, -1.129575189688764, -0.7418307711572956, -1.9995631693860647, 0.84327917245056, -0.05447341566781257, 1.4370530974830726, -1.606728816326823, 0.8117649007612829, -0.9218388760417191, -4.2302591643377045, -0.2889516151239764, -1.7584576472998465, -1.1451215198512827], \"yaxis\": \"y\"}, {\"customdata\": [[\"Nauru\"], [\"Tuvalu\"], [\"Marshall Islands\"]], \"hovertemplate\": \"Cluster=Cluster 3<br>PCA1=%{x}<br>PCA2=%{y}<br>Feature=%{customdata[0]}<extra></extra>\", \"legendgroup\": \"Cluster 3\", \"marker\": {\"color\": \"#ab63fa\", \"opacity\": 0.5, \"symbol\": \"circle\"}, \"mode\": \"markers\", \"name\": \"Cluster 3\", \"orientation\": \"v\", \"showlegend\": true, \"textposition\": \"top center\", \"type\": \"scatter\", \"x\": [32.54294615578061, 49.136145464843146, 55.908067724687456], \"xaxis\": \"x\", \"y\": [14.525514048370512, -4.77934261778649, 11.190154757182905], \"yaxis\": \"y\"}],\n",
       "                        {\"height\": 600, \"legend\": {\"title\": {\"text\": \"Cluster\"}, \"tracegroupgap\": 0}, \"margin\": {\"t\": 60}, \"plot_bgcolor\": \"rgb(240,240,240)\", \"template\": {\"data\": {\"bar\": [{\"error_x\": {\"color\": \"#2a3f5f\"}, \"error_y\": {\"color\": \"#2a3f5f\"}, \"marker\": {\"line\": {\"color\": \"#E5ECF6\", \"width\": 0.5}}, \"type\": \"bar\"}], \"barpolar\": [{\"marker\": {\"line\": {\"color\": \"#E5ECF6\", \"width\": 0.5}}, \"type\": \"barpolar\"}], \"carpet\": [{\"aaxis\": {\"endlinecolor\": \"#2a3f5f\", \"gridcolor\": \"white\", \"linecolor\": \"white\", \"minorgridcolor\": \"white\", \"startlinecolor\": \"#2a3f5f\"}, \"baxis\": {\"endlinecolor\": \"#2a3f5f\", \"gridcolor\": \"white\", \"linecolor\": \"white\", \"minorgridcolor\": \"white\", \"startlinecolor\": \"#2a3f5f\"}, \"type\": \"carpet\"}], \"choropleth\": [{\"colorbar\": {\"outlinewidth\": 0, \"ticks\": \"\"}, \"type\": \"choropleth\"}], \"contour\": [{\"colorbar\": {\"outlinewidth\": 0, \"ticks\": \"\"}, \"colorscale\": [[0.0, \"#0d0887\"], [0.1111111111111111, \"#46039f\"], [0.2222222222222222, \"#7201a8\"], [0.3333333333333333, \"#9c179e\"], [0.4444444444444444, \"#bd3786\"], [0.5555555555555556, \"#d8576b\"], [0.6666666666666666, \"#ed7953\"], [0.7777777777777778, \"#fb9f3a\"], [0.8888888888888888, \"#fdca26\"], [1.0, \"#f0f921\"]], \"type\": \"contour\"}], \"contourcarpet\": [{\"colorbar\": {\"outlinewidth\": 0, \"ticks\": \"\"}, \"type\": \"contourcarpet\"}], \"heatmap\": [{\"colorbar\": {\"outlinewidth\": 0, \"ticks\": \"\"}, \"colorscale\": [[0.0, \"#0d0887\"], [0.1111111111111111, \"#46039f\"], [0.2222222222222222, \"#7201a8\"], [0.3333333333333333, \"#9c179e\"], [0.4444444444444444, \"#bd3786\"], [0.5555555555555556, \"#d8576b\"], [0.6666666666666666, \"#ed7953\"], [0.7777777777777778, \"#fb9f3a\"], [0.8888888888888888, \"#fdca26\"], [1.0, \"#f0f921\"]], \"type\": \"heatmap\"}], \"heatmapgl\": [{\"colorbar\": {\"outlinewidth\": 0, \"ticks\": \"\"}, \"colorscale\": [[0.0, \"#0d0887\"], [0.1111111111111111, \"#46039f\"], [0.2222222222222222, \"#7201a8\"], [0.3333333333333333, \"#9c179e\"], [0.4444444444444444, \"#bd3786\"], [0.5555555555555556, \"#d8576b\"], [0.6666666666666666, \"#ed7953\"], [0.7777777777777778, \"#fb9f3a\"], [0.8888888888888888, \"#fdca26\"], [1.0, \"#f0f921\"]], \"type\": \"heatmapgl\"}], \"histogram\": [{\"marker\": {\"colorbar\": {\"outlinewidth\": 0, \"ticks\": \"\"}}, \"type\": \"histogram\"}], \"histogram2d\": [{\"colorbar\": {\"outlinewidth\": 0, \"ticks\": \"\"}, \"colorscale\": [[0.0, \"#0d0887\"], [0.1111111111111111, \"#46039f\"], [0.2222222222222222, \"#7201a8\"], [0.3333333333333333, \"#9c179e\"], [0.4444444444444444, \"#bd3786\"], [0.5555555555555556, \"#d8576b\"], [0.6666666666666666, \"#ed7953\"], [0.7777777777777778, \"#fb9f3a\"], [0.8888888888888888, \"#fdca26\"], [1.0, \"#f0f921\"]], \"type\": \"histogram2d\"}], \"histogram2dcontour\": [{\"colorbar\": {\"outlinewidth\": 0, \"ticks\": \"\"}, \"colorscale\": [[0.0, \"#0d0887\"], [0.1111111111111111, \"#46039f\"], [0.2222222222222222, \"#7201a8\"], [0.3333333333333333, \"#9c179e\"], [0.4444444444444444, \"#bd3786\"], [0.5555555555555556, \"#d8576b\"], [0.6666666666666666, \"#ed7953\"], [0.7777777777777778, \"#fb9f3a\"], [0.8888888888888888, \"#fdca26\"], [1.0, \"#f0f921\"]], \"type\": \"histogram2dcontour\"}], \"mesh3d\": [{\"colorbar\": {\"outlinewidth\": 0, \"ticks\": \"\"}, \"type\": \"mesh3d\"}], \"parcoords\": [{\"line\": {\"colorbar\": {\"outlinewidth\": 0, \"ticks\": \"\"}}, \"type\": \"parcoords\"}], \"pie\": [{\"automargin\": true, \"type\": \"pie\"}], \"scatter\": [{\"marker\": {\"colorbar\": {\"outlinewidth\": 0, \"ticks\": \"\"}}, \"type\": \"scatter\"}], \"scatter3d\": [{\"line\": {\"colorbar\": {\"outlinewidth\": 0, \"ticks\": \"\"}}, \"marker\": {\"colorbar\": {\"outlinewidth\": 0, \"ticks\": \"\"}}, \"type\": \"scatter3d\"}], \"scattercarpet\": [{\"marker\": {\"colorbar\": {\"outlinewidth\": 0, \"ticks\": \"\"}}, \"type\": \"scattercarpet\"}], \"scattergeo\": [{\"marker\": {\"colorbar\": {\"outlinewidth\": 0, \"ticks\": \"\"}}, \"type\": \"scattergeo\"}], \"scattergl\": [{\"marker\": {\"colorbar\": {\"outlinewidth\": 0, \"ticks\": \"\"}}, \"type\": \"scattergl\"}], \"scattermapbox\": [{\"marker\": {\"colorbar\": {\"outlinewidth\": 0, \"ticks\": \"\"}}, \"type\": \"scattermapbox\"}], \"scatterpolar\": [{\"marker\": {\"colorbar\": {\"outlinewidth\": 0, \"ticks\": \"\"}}, \"type\": \"scatterpolar\"}], \"scatterpolargl\": [{\"marker\": {\"colorbar\": {\"outlinewidth\": 0, \"ticks\": \"\"}}, \"type\": \"scatterpolargl\"}], \"scatterternary\": [{\"marker\": {\"colorbar\": {\"outlinewidth\": 0, \"ticks\": \"\"}}, \"type\": \"scatterternary\"}], \"surface\": [{\"colorbar\": {\"outlinewidth\": 0, \"ticks\": \"\"}, \"colorscale\": [[0.0, \"#0d0887\"], [0.1111111111111111, \"#46039f\"], [0.2222222222222222, \"#7201a8\"], [0.3333333333333333, \"#9c179e\"], [0.4444444444444444, \"#bd3786\"], [0.5555555555555556, \"#d8576b\"], [0.6666666666666666, \"#ed7953\"], [0.7777777777777778, \"#fb9f3a\"], [0.8888888888888888, \"#fdca26\"], [1.0, \"#f0f921\"]], \"type\": \"surface\"}], \"table\": [{\"cells\": {\"fill\": {\"color\": \"#EBF0F8\"}, \"line\": {\"color\": \"white\"}}, \"header\": {\"fill\": {\"color\": \"#C8D4E3\"}, \"line\": {\"color\": \"white\"}}, \"type\": \"table\"}]}, \"layout\": {\"annotationdefaults\": {\"arrowcolor\": \"#2a3f5f\", \"arrowhead\": 0, \"arrowwidth\": 1}, \"coloraxis\": {\"colorbar\": {\"outlinewidth\": 0, \"ticks\": \"\"}}, \"colorscale\": {\"diverging\": [[0, \"#8e0152\"], [0.1, \"#c51b7d\"], [0.2, \"#de77ae\"], [0.3, \"#f1b6da\"], [0.4, \"#fde0ef\"], [0.5, \"#f7f7f7\"], [0.6, \"#e6f5d0\"], [0.7, \"#b8e186\"], [0.8, \"#7fbc41\"], [0.9, \"#4d9221\"], [1, \"#276419\"]], \"sequential\": [[0.0, \"#0d0887\"], [0.1111111111111111, \"#46039f\"], [0.2222222222222222, \"#7201a8\"], [0.3333333333333333, \"#9c179e\"], [0.4444444444444444, \"#bd3786\"], [0.5555555555555556, \"#d8576b\"], [0.6666666666666666, \"#ed7953\"], [0.7777777777777778, \"#fb9f3a\"], [0.8888888888888888, \"#fdca26\"], [1.0, \"#f0f921\"]], \"sequentialminus\": [[0.0, \"#0d0887\"], [0.1111111111111111, \"#46039f\"], [0.2222222222222222, \"#7201a8\"], [0.3333333333333333, \"#9c179e\"], [0.4444444444444444, \"#bd3786\"], [0.5555555555555556, \"#d8576b\"], [0.6666666666666666, \"#ed7953\"], [0.7777777777777778, \"#fb9f3a\"], [0.8888888888888888, \"#fdca26\"], [1.0, \"#f0f921\"]]}, \"colorway\": [\"#636efa\", \"#EF553B\", \"#00cc96\", \"#ab63fa\", \"#FFA15A\", \"#19d3f3\", \"#FF6692\", \"#B6E880\", \"#FF97FF\", \"#FECB52\"], \"font\": {\"color\": \"#2a3f5f\"}, \"geo\": {\"bgcolor\": \"white\", \"lakecolor\": \"white\", \"landcolor\": \"#E5ECF6\", \"showlakes\": true, \"showland\": true, \"subunitcolor\": \"white\"}, \"hoverlabel\": {\"align\": \"left\"}, \"hovermode\": \"closest\", \"mapbox\": {\"style\": \"light\"}, \"paper_bgcolor\": \"white\", \"plot_bgcolor\": \"#E5ECF6\", \"polar\": {\"angularaxis\": {\"gridcolor\": \"white\", \"linecolor\": \"white\", \"ticks\": \"\"}, \"bgcolor\": \"#E5ECF6\", \"radialaxis\": {\"gridcolor\": \"white\", \"linecolor\": \"white\", \"ticks\": \"\"}}, \"scene\": {\"xaxis\": {\"backgroundcolor\": \"#E5ECF6\", \"gridcolor\": \"white\", \"gridwidth\": 2, \"linecolor\": \"white\", \"showbackground\": true, \"ticks\": \"\", \"zerolinecolor\": \"white\"}, \"yaxis\": {\"backgroundcolor\": \"#E5ECF6\", \"gridcolor\": \"white\", \"gridwidth\": 2, \"linecolor\": \"white\", \"showbackground\": true, \"ticks\": \"\", \"zerolinecolor\": \"white\"}, \"zaxis\": {\"backgroundcolor\": \"#E5ECF6\", \"gridcolor\": \"white\", \"gridwidth\": 2, \"linecolor\": \"white\", \"showbackground\": true, \"ticks\": \"\", \"zerolinecolor\": \"white\"}}, \"shapedefaults\": {\"line\": {\"color\": \"#2a3f5f\"}}, \"ternary\": {\"aaxis\": {\"gridcolor\": \"white\", \"linecolor\": \"white\", \"ticks\": \"\"}, \"baxis\": {\"gridcolor\": \"white\", \"linecolor\": \"white\", \"ticks\": \"\"}, \"bgcolor\": \"#E5ECF6\", \"caxis\": {\"gridcolor\": \"white\", \"linecolor\": \"white\", \"ticks\": \"\"}}, \"title\": {\"x\": 0.05}, \"xaxis\": {\"automargin\": true, \"gridcolor\": \"white\", \"linecolor\": \"white\", \"ticks\": \"\", \"title\": {\"standoff\": 15}, \"zerolinecolor\": \"white\", \"zerolinewidth\": 2}, \"yaxis\": {\"automargin\": true, \"gridcolor\": \"white\", \"linecolor\": \"white\", \"ticks\": \"\", \"title\": {\"standoff\": 15}, \"zerolinecolor\": \"white\", \"zerolinewidth\": 2}}}, \"title\": {\"text\": \"2D Cluster PCA Plot\"}, \"xaxis\": {\"anchor\": \"y\", \"domain\": [0.0, 1.0], \"title\": {\"text\": \"PCA1\"}}, \"yaxis\": {\"anchor\": \"x\", \"domain\": [0.0, 1.0], \"title\": {\"text\": \"PCA2\"}}},\n",
       "                        {\"responsive\": true}\n",
       "                    ).then(function(){\n",
       "                            \n",
       "var gd = document.getElementById('be9009ca-b45e-46dc-a78d-03031f577347');\n",
       "var x = new MutationObserver(function (mutations, observer) {{\n",
       "        var display = window.getComputedStyle(gd).display;\n",
       "        if (!display || display === 'none') {{\n",
       "            console.log([gd, 'removed!']);\n",
       "            Plotly.purge(gd);\n",
       "            observer.disconnect();\n",
       "        }}\n",
       "}});\n",
       "\n",
       "// Listen for the removal of the full notebook cells\n",
       "var notebookContainer = gd.closest('#notebook-container');\n",
       "if (notebookContainer) {{\n",
       "    x.observe(notebookContainer, {childList: true});\n",
       "}}\n",
       "\n",
       "// Listen for the clearing of the current output cell\n",
       "var outputEl = gd.closest('.output');\n",
       "if (outputEl) {{\n",
       "    x.observe(outputEl, {childList: true});\n",
       "}}\n",
       "\n",
       "                        })\n",
       "                };\n",
       "                });\n",
       "            </script>\n",
       "        </div>"
      ]
     },
     "metadata": {},
     "output_type": "display_data"
    }
   ],
   "source": [
    "plot_model(kmeans)"
   ]
  },
  {
   "cell_type": "code",
   "execution_count": 10,
   "metadata": {},
   "outputs": [
    {
     "data": {
      "text/html": [
       "        <script type=\"text/javascript\">\n",
       "        window.PlotlyConfig = {MathJaxConfig: 'local'};\n",
       "        if (window.MathJax) {MathJax.Hub.Config({SVG: {font: \"STIX-Web\"}});}\n",
       "        if (typeof require !== 'undefined') {\n",
       "        require.undef(\"plotly\");\n",
       "        requirejs.config({\n",
       "            paths: {\n",
       "                'plotly': ['https://cdn.plot.ly/plotly-latest.min']\n",
       "            }\n",
       "        });\n",
       "        require(['plotly'], function(Plotly) {\n",
       "            window._Plotly = Plotly;\n",
       "        });\n",
       "        }\n",
       "        </script>\n",
       "        "
      ]
     },
     "metadata": {},
     "output_type": "display_data"
    },
    {
     "data": {
      "application/vnd.plotly.v1+json": {
       "config": {
        "plotlyServerURL": "https://plot.ly"
       },
       "data": [
        {
         "hovertemplate": "Cluster=Cluster 0<br>PCA1=%{x}<br>PCA2=%{y}<br>Label=%{text}<extra></extra>",
         "legendgroup": "Cluster 0",
         "marker": {
          "color": "#636efa",
          "opacity": 0.5,
          "symbol": "circle"
         },
         "mode": "markers+text",
         "name": "Cluster 0",
         "orientation": "v",
         "showlegend": true,
         "text": [
          "Honduras",
          "Dominica",
          "Djibouti",
          "Samoa",
          "San Marino",
          "Sao Tome and Principe",
          "Colombia",
          "Chile",
          "Cabo Verde",
          "Solomon Islands",
          "Bulgaria",
          "South Africa",
          "Brazil",
          "Botswana",
          "Bolivia",
          "Bhutan",
          "Belarus",
          "Barbados",
          "St. Lucia",
          "St. Vincent and the Grenadines",
          "Russian Federation",
          "Suriname",
          "Romania",
          "Estonia",
          "Moldova",
          "Malawi",
          "Monaco",
          "Macedonia, FYR",
          "Lithuania",
          "Lebanon",
          "Latvia",
          "Montenegro",
          "Mozambique",
          "Namibia",
          "Jordan",
          "Israel",
          "Nicaragua",
          "Hungary",
          "Guyana",
          "Grenada",
          "Panama",
          "Papua New Guinea",
          "Poland",
          "El Salvador",
          "Argentina",
          "Seychelles",
          "Swaziland",
          "Small states",
          "Tonga",
          "Vanuatu",
          "Pacific island small states",
          "Other small states",
          "Tunisia",
          "East Asia & Pacific",
          "Turkey",
          "Ukraine",
          "Antigua and Barbuda",
          "Europe & Central Asia (IDA & IBRD countries)",
          "Latin America & the Caribbean (IDA & IBRD countries)",
          "Latin America & Caribbean (excluding high income)",
          "Latin America & Caribbean",
          "Europe & Central Asia (excluding high income)",
          "Thailand",
          "Uruguay",
          "Central Europe and the Baltics",
          "Algeria",
          "Andorra"
         ],
         "textposition": "top center",
         "type": "scatter",
         "x": [
          0.052380976704221226,
          -0.6963165842730619,
          3.496362902450416,
          2.239179963842627,
          2.996541555817923,
          -1.9828797671341079,
          5.269249366144288,
          -2.9824819300049716,
          -0.5993207982455234,
          6.323109784117417,
          0.9043237858037502,
          -0.41674848743597354,
          -1.832571139106178,
          -1.686965814851079,
          -0.8536612634039071,
          2.8846255739114017,
          3.0973104640228666,
          0.5412716246977552,
          -1.7848088812854845,
          -0.5138111571569086,
          -0.36390899901084073,
          0.040582767506345596,
          0.7748426086098943,
          3.7119153029666645,
          4.882710147013893,
          3.421105670911858,
          -2.011887424842368,
          4.8117975900245815,
          3.3977115784363083,
          -1.0594868777708542,
          -0.1505343111705641,
          5.5216644402129935,
          -1.5422464279154824,
          2.475123168426271,
          6.379360463316178,
          4.232365223943222,
          -0.42345916952052054,
          6.877428452111313,
          2.762850817234726,
          -2.7100785907146157,
          6.1829001646938995,
          1.7357732814693136,
          2.891565078104709,
          0.40673571172670636,
          1.6549886134245428,
          -0.6367154259911898,
          3.4778417248584135,
          -2.80334887499313,
          0.6882246933431866,
          -2.679774235079103,
          2.521124354529938,
          -2.6780828796626217,
          -2.260400608016422,
          3.732185509922069,
          -0.43740895298230287,
          0.6817178664409332,
          -2.7904247938703297,
          0.18827377624908012,
          -2.3345159400631017,
          -2.078861056251885,
          -2.086614014795427,
          -0.5707423499700737,
          -0.13082493573547307,
          3.7531848592473027,
          5.196532046271687,
          -2.564444039014229,
          4.883437593508745
         ],
         "xaxis": "x",
         "y": [
          -1.0061914536857364,
          1.530567196106187,
          -3.0016842207799748,
          -1.687535648484022,
          -0.2740310411662733,
          1.7913403986410699,
          1.3359849927496943,
          0.1609162784698921,
          2.2543298469994255,
          -1.547414120524147,
          0.5730460663408715,
          0.11355576223380459,
          -0.4294276179163995,
          -0.45382741503654017,
          -0.5170665696550719,
          3.856619596943389,
          3.148695556800249,
          -0.5683861330013144,
          0.03129894274702944,
          -0.06757513689428431,
          1.6575140007352756,
          4.734168013788561,
          -1.2385442803297098,
          1.2643584968373265,
          0.25926155597166395,
          -6.44880400752115,
          -0.4154591228405266,
          3.3873388233345954,
          0.9531860986338618,
          2.993122136765331,
          0.8003393682777392,
          4.121262186928554,
          1.9141130390493317,
          0.5760168892285198,
          0.7145199934098238,
          1.7004237069238604,
          -1.0957750164154754,
          2.5068668117985236,
          2.1863935441044458,
          1.9233874084159055,
          0.6587191354538704,
          1.3772422216355955,
          0.24184140169870266,
          -0.5631591457580736,
          3.9739699054019604,
          3.14259057032015,
          -5.131259458682052,
          1.5032151564745295,
          0.23043470667369692,
          -0.9892378763665279,
          0.5193858572401134,
          1.7809406740110847,
          -0.8410240643570503,
          0.9928267617964192,
          -1.8311715877970045,
          1.1596543184112704,
          -0.6084592632583562,
          0.7463734591250104,
          0.13891010566730813,
          0.12929841063543926,
          0.09429419110350178,
          0.6820820860708179,
          -3.706588405460558,
          -4.1531049826228665,
          0.7126585487039365,
          -2.1296685616125797,
          -2.433941599042846
         ],
         "yaxis": "y"
        },
        {
         "hovertemplate": "Cluster=Cluster 1<br>PCA1=%{x}<br>PCA2=%{y}<br>Label=%{text}<extra></extra>",
         "legendgroup": "Cluster 1",
         "marker": {
          "color": "#EF553B",
          "opacity": 0.5,
          "symbol": "circle"
         },
         "mode": "markers+text",
         "name": "Cluster 1",
         "orientation": "v",
         "showlegend": true,
         "text": [
          "Micronesia, Fed. Sts.",
          "Kiribati",
          "Finland",
          "France",
          "United Kingdom",
          "Germany",
          "Malta",
          "Greece",
          "Portugal",
          "Austria",
          "European Union",
          "Japan",
          "Australia",
          "Norway",
          "Netherlands",
          "United States",
          "Iceland",
          "Italy",
          "High income",
          "New Zealand",
          "Palau",
          "World",
          "Sweden",
          "Cuba",
          "Switzerland",
          "Slovak Republic",
          "Post-demographic dividend",
          "Serbia",
          "Spain",
          "Lesotho",
          "Europe & Central Asia",
          "Maldives",
          "Costa Rica",
          "Canada",
          "OECD members",
          "Croatia",
          "Ireland",
          "North America",
          "Czech Republic",
          "Denmark",
          "Euro area",
          "Belgium",
          "Slovenia",
          "Bosnia and Herzegovina",
          "Luxembourg"
         ],
         "textposition": "top center",
         "type": "scatter",
         "x": [
          28.026269553883196,
          23.4209274180096,
          10.726724560722625,
          20.274410375468317,
          12.929593082081045,
          19.69484295490308,
          7.3140917781527355,
          7.186477299903721,
          11.141192979275422,
          18.367344502907944,
          14.943239114650703,
          13.813253198680275,
          8.675223471375856,
          16.67166205014809,
          14.383614043780407,
          14.058971232804133,
          15.946916758968197,
          11.481683009232077,
          13.138218186033129,
          15.482183362753915,
          13.85886447891556,
          8.629457309687261,
          18.38721009205912,
          16.809456411646927,
          11.69398831763859,
          7.348234078370876,
          13.8081286242078,
          7.647162518579739,
          10.043412321500618,
          7.060532218142873,
          13.234086657329977,
          7.472880926088069,
          10.217763125731786,
          13.954540713756638,
          13.11438302712924,
          10.475304935117327,
          7.171364571949278,
          14.032324057252538,
          10.210283019050978,
          20.07095230754882,
          15.823770054445609,
          14.600979477284383,
          11.31808099262243,
          7.014345778510732,
          10.746653539988584
         ],
         "xaxis": "x",
         "y": [
          -6.041878648963881,
          1.8232681705163125,
          -1.0307496953976378,
          0.5893161257926879,
          -2.266138624723641,
          1.2426452203194964,
          -1.6944069348771371,
          -1.3613535609992466,
          -0.3178429143929308,
          0.21312339635189256,
          -0.4116866346696659,
          -2.6865792296916524,
          -0.36967957521681843,
          0.4446501570358723,
          -6.075816075638622,
          -2.128293361440677,
          2.169221640228079,
          -1.2206793438921006,
          -1.1393786999588775,
          -4.743207341003988,
          3.4424525494613603,
          0.3946136452828325,
          -2.2006955984502503,
          -6.478083184227867,
          -1.8339308798468401,
          0.6291036683252434,
          -1.409886537333089,
          -1.4623480949617336,
          -0.9687378170947281,
          -6.8596600891064385,
          0.264163702580193,
          -4.9194173423612755,
          -1.1138186475250493,
          -0.6679680569801186,
          -1.2698155947760232,
          0.35135324468989,
          -0.2558521351774981,
          -2.005564435772476,
          0.9972888247732338,
          -2.0575929021766846,
          -0.14470922160935124,
          -1.8679602899905694,
          0.4399174439131797,
          -3.5188569549087734,
          0.6763558407018946
         ],
         "yaxis": "y"
        },
        {
         "hovertemplate": "Cluster=Cluster 2<br>PCA1=%{x}<br>PCA2=%{y}<br>Label=%{text}<extra></extra>",
         "legendgroup": "Cluster 2",
         "marker": {
          "color": "#00cc96",
          "opacity": 0.5,
          "symbol": "circle"
         },
         "mode": "markers+text",
         "name": "Cluster 2",
         "orientation": "v",
         "showlegend": true,
         "text": [
          "Vietnam",
          "Morocco",
          "Nepal",
          "Myanmar",
          "Venezuela, RB",
          "Mongolia",
          "Uzbekistan",
          "United Arab Emirates",
          "Nigeria",
          "Sudan",
          "St. Kitts and Nevis",
          "Sri Lanka",
          "Syrian Arab Republic",
          "Tajikistan",
          "Tanzania",
          "Togo",
          "Singapore",
          "Sierra Leone",
          "Mexico",
          "Niger",
          "Senegal",
          "Trinidad and Tobago",
          "Rwanda",
          "Turkmenistan",
          "Uganda",
          "Qatar",
          "Philippines",
          "Peru",
          "Paraguay",
          "Pakistan",
          "Oman",
          "Saudi Arabia",
          "Mauritius",
          "Arab World",
          "Chad",
          "Upper middle income",
          "Albania",
          "Angola",
          "Armenia",
          "Azerbaijan",
          "Bahamas, The",
          "Bahrain",
          "Bangladesh",
          "Belize",
          "Benin",
          "Brunei Darussalam",
          "Burkina Faso",
          "Burundi",
          "Cambodia",
          "Cameroon",
          "Sub-Saharan Africa (IDA & IBRD countries)",
          "Sub-Saharan Africa (excluding high income)",
          "Sub-Saharan Africa",
          "South Asia (IDA & IBRD)",
          "Caribbean small states",
          "Early-demographic dividend",
          "East Asia & Pacific (excluding high income)",
          "East Asia & Pacific (IDA & IBRD countries)",
          "Heavily indebted poor countries (HIPC)",
          "Late-demographic dividend",
          "Least developed countries: UN classification",
          "Central African Republic",
          "Low & middle income",
          "Lower middle income",
          "Middle East & North Africa",
          "Middle East & North Africa (excluding high income)",
          "Middle East & North Africa (IDA & IBRD countries)",
          "Middle income",
          "Pre-demographic dividend",
          "South Asia",
          "Low income",
          "Mauritania",
          "Zambia",
          "Comoros",
          "Yemen, Rep.",
          "India",
          "Indonesia",
          "Iran, Islamic Rep.",
          "Jamaica",
          "Kazakhstan",
          "Kenya",
          "Korea, Rep.",
          "Kuwait",
          "Kyrgyz Republic",
          "Lao PDR",
          "Libya",
          "Madagascar",
          "Malaysia",
          "Mali",
          "China",
          "Guinea-Bissau",
          "Haiti",
          "Guatemala",
          "Congo, Dem. Rep.",
          "Congo, Rep.",
          "Cote d'Ivoire",
          "Cyprus",
          "Dominican Republic",
          "Ecuador",
          "Egypt, Arab Rep.",
          "Equatorial Guinea",
          "Eritrea",
          "Ethiopia",
          "Fiji",
          "Gabon",
          "Gambia, The",
          "Georgia",
          "Ghana",
          "Guinea"
         ],
         "textposition": "top center",
         "type": "scatter",
         "x": [
          -6.838127133689371,
          -9.484297119000681,
          -7.481534537789986,
          -15.115266677686787,
          -8.009970462200501,
          -3.709945822543769,
          -4.3439958993717225,
          -7.527412152427506,
          -12.093503451711781,
          -10.187893573210124,
          -5.982304037394747,
          -9.033280310482064,
          -8.34993440852866,
          -10.740163720954202,
          -6.704510490114221,
          -8.637772998311174,
          -10.783145859486593,
          -6.071121988048265,
          -4.8627877804054735,
          -6.8970171325174014,
          -7.128722124865841,
          -5.193398208285047,
          -4.5367678589804274,
          -7.808119101950002,
          -7.410104286952263,
          -7.287596977267263,
          -10.375982305040118,
          -4.701430209018233,
          -3.325879262397694,
          -13.274173398510676,
          -5.7830515182741244,
          -5.280601942476482,
          -7.183762362692119,
          -5.978111640505863,
          -8.739668478685987,
          -3.556546390843077,
          -5.665968771045835,
          -6.1758384619264985,
          -8.887701105429901,
          -11.990190347513364,
          -3.47273601860984,
          -5.140448924477463,
          -12.279275148006182,
          -3.6782325952668056,
          -6.759047335826217,
          -5.553747628790427,
          -3.5927102273363114,
          -3.9114615341007233,
          -9.835625771928306,
          -11.816550848843821,
          -5.72646040077447,
          -5.733959228379498,
          -5.72646040077447,
          -11.717744407779508,
          -3.533552360275566,
          -5.874889989411106,
          -7.338891894395096,
          -7.338891894395101,
          -6.779112802141313,
          -3.4865834565786384,
          -8.473369637629366,
          -8.328928193317836,
          -5.029770548401174,
          -10.12208829043547,
          -4.754617117667596,
          -5.6689371743232835,
          -5.6689371743232835,
          -5.002990850532889,
          -8.803685060464211,
          -11.717744407779508,
          -6.935487657597177,
          -8.209723823671498,
          -3.718335935066663,
          -7.13163238666764,
          -9.08405838904044,
          -11.64996360056128,
          -12.53819234803707,
          -6.294933725307493,
          -4.276339086039182,
          -6.102007952138876,
          -7.505875796444624,
          -3.8422695092891788,
          -5.756711635031173,
          -3.482951191502167,
          -11.157062106263885,
          -6.8515915723180845,
          -6.318006421470662,
          -7.845046648174214,
          -4.999397273875959,
          -7.0859677684990325,
          -10.52832969892298,
          -9.335434220692619,
          -7.279534380614562,
          -12.749904411139479,
          -8.32172261741887,
          -9.491378675550758,
          -4.343442425602127,
          -7.7808511955199195,
          -7.790551996098867,
          -7.622396289866977,
          -6.338709691007324,
          -9.859076847688465,
          -5.804870493017628,
          -4.139888379414402,
          -9.644119158616423,
          -5.068430173668128,
          -10.269095235769905,
          -5.3292488300306715,
          -10.945540426213428
         ],
         "xaxis": "x",
         "y": [
          -2.1054224181312526,
          -0.674339881895901,
          -0.8377730612890155,
          -0.028339201058389208,
          0.8228560527689589,
          2.5255249894814993,
          1.2898776384266801,
          -0.3688311462459715,
          0.317078277096952,
          -1.5314700249093554,
          2.1232932546309327,
          0.9368375328552417,
          1.9279965762758624,
          -0.3564606077621444,
          -1.2122195613280027,
          -0.4796246484432006,
          0.34533989423746375,
          2.0535688284826765,
          -0.6462077405756083,
          -0.8646847381552376,
          -0.48744350734662595,
          -0.1470950104715112,
          -0.5039192162486812,
          3.631457019761387,
          -0.09849466670467485,
          1.7017615075616372,
          0.6894459850579,
          0.41004174217124467,
          -1.7654684443955153,
          0.15195551398712748,
          1.8771059208222185,
          -0.005353811348649193,
          0.269614037976079,
          0.06008727387118919,
          2.006734701512188,
          0.014294049568387888,
          -0.299148821310172,
          1.048399972443122,
          0.23380355733518995,
          0.6302439716252007,
          -0.4216974744697454,
          1.0191811139862557,
          0.9292942917451489,
          -1.5538410671259397,
          0.27221752660849463,
          2.037198761849658,
          -1.158141149257049,
          -4.799628678285954,
          1.320370034410966,
          0.4203891767923589,
          0.8552924061910828,
          0.8502496554360929,
          0.8552924061910828,
          0.39968228249469384,
          0.427317098923598,
          0.5811594934369007,
          -0.9944962782369453,
          -0.9944962782369442,
          -0.5068844372590346,
          0.03421941894983932,
          -0.09237404974594539,
          0.5463133582843168,
          0.05559276054405554,
          0.475060450210652,
          0.44875985164741067,
          -0.382630101819177,
          -0.382630101819177,
          0.06441920890858754,
          -0.1760458088360439,
          0.39968228249469384,
          -0.5257808006280742,
          2.001794157375586,
          2.117893316914128,
          1.2418292146067695,
          1.9725459159480616,
          0.4387840994705098,
          0.15993643922619147,
          -0.42991124293539934,
          0.8183041735007407,
          1.4083207333161532,
          -0.6464163056969568,
          -2.5218613664013994,
          1.9781672804329213,
          -1.3346870062550669,
          1.9136966118668468,
          -0.815892023885618,
          0.8693110544295628,
          0.028810276635605706,
          1.497615545969876,
          -1.05855950288279,
          1.029264975053775,
          2.009609502540951,
          -0.010123131376214041,
          -1.7875193250832497,
          -1.1761037419663476,
          0.8968873316434847,
          -1.129575189688764,
          -0.7418307711572956,
          -1.9995631693860647,
          0.84327917245056,
          -0.05447341566781257,
          1.4370530974830726,
          -1.606728816326823,
          0.8117649007612829,
          -0.9218388760417191,
          -4.2302591643377045,
          -0.2889516151239764,
          -1.7584576472998465,
          -1.1451215198512827
         ],
         "yaxis": "y"
        },
        {
         "hovertemplate": "Cluster=Cluster 3<br>PCA1=%{x}<br>PCA2=%{y}<br>Label=%{text}<extra></extra>",
         "legendgroup": "Cluster 3",
         "marker": {
          "color": "#ab63fa",
          "opacity": 0.5,
          "symbol": "circle"
         },
         "mode": "markers+text",
         "name": "Cluster 3",
         "orientation": "v",
         "showlegend": true,
         "text": [
          "Nauru",
          "Tuvalu",
          "Marshall Islands"
         ],
         "textposition": "top center",
         "type": "scatter",
         "x": [
          32.54294615578061,
          49.136145464843146,
          55.908067724687456
         ],
         "xaxis": "x",
         "y": [
          14.525514048370512,
          -4.77934261778649,
          11.190154757182905
         ],
         "yaxis": "y"
        }
       ],
       "layout": {
        "height": 600,
        "legend": {
         "title": {
          "text": "Cluster"
         },
         "tracegroupgap": 0
        },
        "margin": {
         "t": 60
        },
        "plot_bgcolor": "rgb(240,240,240)",
        "template": {
         "data": {
          "bar": [
           {
            "error_x": {
             "color": "#2a3f5f"
            },
            "error_y": {
             "color": "#2a3f5f"
            },
            "marker": {
             "line": {
              "color": "#E5ECF6",
              "width": 0.5
             }
            },
            "type": "bar"
           }
          ],
          "barpolar": [
           {
            "marker": {
             "line": {
              "color": "#E5ECF6",
              "width": 0.5
             }
            },
            "type": "barpolar"
           }
          ],
          "carpet": [
           {
            "aaxis": {
             "endlinecolor": "#2a3f5f",
             "gridcolor": "white",
             "linecolor": "white",
             "minorgridcolor": "white",
             "startlinecolor": "#2a3f5f"
            },
            "baxis": {
             "endlinecolor": "#2a3f5f",
             "gridcolor": "white",
             "linecolor": "white",
             "minorgridcolor": "white",
             "startlinecolor": "#2a3f5f"
            },
            "type": "carpet"
           }
          ],
          "choropleth": [
           {
            "colorbar": {
             "outlinewidth": 0,
             "ticks": ""
            },
            "type": "choropleth"
           }
          ],
          "contour": [
           {
            "colorbar": {
             "outlinewidth": 0,
             "ticks": ""
            },
            "colorscale": [
             [
              0,
              "#0d0887"
             ],
             [
              0.1111111111111111,
              "#46039f"
             ],
             [
              0.2222222222222222,
              "#7201a8"
             ],
             [
              0.3333333333333333,
              "#9c179e"
             ],
             [
              0.4444444444444444,
              "#bd3786"
             ],
             [
              0.5555555555555556,
              "#d8576b"
             ],
             [
              0.6666666666666666,
              "#ed7953"
             ],
             [
              0.7777777777777778,
              "#fb9f3a"
             ],
             [
              0.8888888888888888,
              "#fdca26"
             ],
             [
              1,
              "#f0f921"
             ]
            ],
            "type": "contour"
           }
          ],
          "contourcarpet": [
           {
            "colorbar": {
             "outlinewidth": 0,
             "ticks": ""
            },
            "type": "contourcarpet"
           }
          ],
          "heatmap": [
           {
            "colorbar": {
             "outlinewidth": 0,
             "ticks": ""
            },
            "colorscale": [
             [
              0,
              "#0d0887"
             ],
             [
              0.1111111111111111,
              "#46039f"
             ],
             [
              0.2222222222222222,
              "#7201a8"
             ],
             [
              0.3333333333333333,
              "#9c179e"
             ],
             [
              0.4444444444444444,
              "#bd3786"
             ],
             [
              0.5555555555555556,
              "#d8576b"
             ],
             [
              0.6666666666666666,
              "#ed7953"
             ],
             [
              0.7777777777777778,
              "#fb9f3a"
             ],
             [
              0.8888888888888888,
              "#fdca26"
             ],
             [
              1,
              "#f0f921"
             ]
            ],
            "type": "heatmap"
           }
          ],
          "heatmapgl": [
           {
            "colorbar": {
             "outlinewidth": 0,
             "ticks": ""
            },
            "colorscale": [
             [
              0,
              "#0d0887"
             ],
             [
              0.1111111111111111,
              "#46039f"
             ],
             [
              0.2222222222222222,
              "#7201a8"
             ],
             [
              0.3333333333333333,
              "#9c179e"
             ],
             [
              0.4444444444444444,
              "#bd3786"
             ],
             [
              0.5555555555555556,
              "#d8576b"
             ],
             [
              0.6666666666666666,
              "#ed7953"
             ],
             [
              0.7777777777777778,
              "#fb9f3a"
             ],
             [
              0.8888888888888888,
              "#fdca26"
             ],
             [
              1,
              "#f0f921"
             ]
            ],
            "type": "heatmapgl"
           }
          ],
          "histogram": [
           {
            "marker": {
             "colorbar": {
              "outlinewidth": 0,
              "ticks": ""
             }
            },
            "type": "histogram"
           }
          ],
          "histogram2d": [
           {
            "colorbar": {
             "outlinewidth": 0,
             "ticks": ""
            },
            "colorscale": [
             [
              0,
              "#0d0887"
             ],
             [
              0.1111111111111111,
              "#46039f"
             ],
             [
              0.2222222222222222,
              "#7201a8"
             ],
             [
              0.3333333333333333,
              "#9c179e"
             ],
             [
              0.4444444444444444,
              "#bd3786"
             ],
             [
              0.5555555555555556,
              "#d8576b"
             ],
             [
              0.6666666666666666,
              "#ed7953"
             ],
             [
              0.7777777777777778,
              "#fb9f3a"
             ],
             [
              0.8888888888888888,
              "#fdca26"
             ],
             [
              1,
              "#f0f921"
             ]
            ],
            "type": "histogram2d"
           }
          ],
          "histogram2dcontour": [
           {
            "colorbar": {
             "outlinewidth": 0,
             "ticks": ""
            },
            "colorscale": [
             [
              0,
              "#0d0887"
             ],
             [
              0.1111111111111111,
              "#46039f"
             ],
             [
              0.2222222222222222,
              "#7201a8"
             ],
             [
              0.3333333333333333,
              "#9c179e"
             ],
             [
              0.4444444444444444,
              "#bd3786"
             ],
             [
              0.5555555555555556,
              "#d8576b"
             ],
             [
              0.6666666666666666,
              "#ed7953"
             ],
             [
              0.7777777777777778,
              "#fb9f3a"
             ],
             [
              0.8888888888888888,
              "#fdca26"
             ],
             [
              1,
              "#f0f921"
             ]
            ],
            "type": "histogram2dcontour"
           }
          ],
          "mesh3d": [
           {
            "colorbar": {
             "outlinewidth": 0,
             "ticks": ""
            },
            "type": "mesh3d"
           }
          ],
          "parcoords": [
           {
            "line": {
             "colorbar": {
              "outlinewidth": 0,
              "ticks": ""
             }
            },
            "type": "parcoords"
           }
          ],
          "pie": [
           {
            "automargin": true,
            "type": "pie"
           }
          ],
          "scatter": [
           {
            "marker": {
             "colorbar": {
              "outlinewidth": 0,
              "ticks": ""
             }
            },
            "type": "scatter"
           }
          ],
          "scatter3d": [
           {
            "line": {
             "colorbar": {
              "outlinewidth": 0,
              "ticks": ""
             }
            },
            "marker": {
             "colorbar": {
              "outlinewidth": 0,
              "ticks": ""
             }
            },
            "type": "scatter3d"
           }
          ],
          "scattercarpet": [
           {
            "marker": {
             "colorbar": {
              "outlinewidth": 0,
              "ticks": ""
             }
            },
            "type": "scattercarpet"
           }
          ],
          "scattergeo": [
           {
            "marker": {
             "colorbar": {
              "outlinewidth": 0,
              "ticks": ""
             }
            },
            "type": "scattergeo"
           }
          ],
          "scattergl": [
           {
            "marker": {
             "colorbar": {
              "outlinewidth": 0,
              "ticks": ""
             }
            },
            "type": "scattergl"
           }
          ],
          "scattermapbox": [
           {
            "marker": {
             "colorbar": {
              "outlinewidth": 0,
              "ticks": ""
             }
            },
            "type": "scattermapbox"
           }
          ],
          "scatterpolar": [
           {
            "marker": {
             "colorbar": {
              "outlinewidth": 0,
              "ticks": ""
             }
            },
            "type": "scatterpolar"
           }
          ],
          "scatterpolargl": [
           {
            "marker": {
             "colorbar": {
              "outlinewidth": 0,
              "ticks": ""
             }
            },
            "type": "scatterpolargl"
           }
          ],
          "scatterternary": [
           {
            "marker": {
             "colorbar": {
              "outlinewidth": 0,
              "ticks": ""
             }
            },
            "type": "scatterternary"
           }
          ],
          "surface": [
           {
            "colorbar": {
             "outlinewidth": 0,
             "ticks": ""
            },
            "colorscale": [
             [
              0,
              "#0d0887"
             ],
             [
              0.1111111111111111,
              "#46039f"
             ],
             [
              0.2222222222222222,
              "#7201a8"
             ],
             [
              0.3333333333333333,
              "#9c179e"
             ],
             [
              0.4444444444444444,
              "#bd3786"
             ],
             [
              0.5555555555555556,
              "#d8576b"
             ],
             [
              0.6666666666666666,
              "#ed7953"
             ],
             [
              0.7777777777777778,
              "#fb9f3a"
             ],
             [
              0.8888888888888888,
              "#fdca26"
             ],
             [
              1,
              "#f0f921"
             ]
            ],
            "type": "surface"
           }
          ],
          "table": [
           {
            "cells": {
             "fill": {
              "color": "#EBF0F8"
             },
             "line": {
              "color": "white"
             }
            },
            "header": {
             "fill": {
              "color": "#C8D4E3"
             },
             "line": {
              "color": "white"
             }
            },
            "type": "table"
           }
          ]
         },
         "layout": {
          "annotationdefaults": {
           "arrowcolor": "#2a3f5f",
           "arrowhead": 0,
           "arrowwidth": 1
          },
          "coloraxis": {
           "colorbar": {
            "outlinewidth": 0,
            "ticks": ""
           }
          },
          "colorscale": {
           "diverging": [
            [
             0,
             "#8e0152"
            ],
            [
             0.1,
             "#c51b7d"
            ],
            [
             0.2,
             "#de77ae"
            ],
            [
             0.3,
             "#f1b6da"
            ],
            [
             0.4,
             "#fde0ef"
            ],
            [
             0.5,
             "#f7f7f7"
            ],
            [
             0.6,
             "#e6f5d0"
            ],
            [
             0.7,
             "#b8e186"
            ],
            [
             0.8,
             "#7fbc41"
            ],
            [
             0.9,
             "#4d9221"
            ],
            [
             1,
             "#276419"
            ]
           ],
           "sequential": [
            [
             0,
             "#0d0887"
            ],
            [
             0.1111111111111111,
             "#46039f"
            ],
            [
             0.2222222222222222,
             "#7201a8"
            ],
            [
             0.3333333333333333,
             "#9c179e"
            ],
            [
             0.4444444444444444,
             "#bd3786"
            ],
            [
             0.5555555555555556,
             "#d8576b"
            ],
            [
             0.6666666666666666,
             "#ed7953"
            ],
            [
             0.7777777777777778,
             "#fb9f3a"
            ],
            [
             0.8888888888888888,
             "#fdca26"
            ],
            [
             1,
             "#f0f921"
            ]
           ],
           "sequentialminus": [
            [
             0,
             "#0d0887"
            ],
            [
             0.1111111111111111,
             "#46039f"
            ],
            [
             0.2222222222222222,
             "#7201a8"
            ],
            [
             0.3333333333333333,
             "#9c179e"
            ],
            [
             0.4444444444444444,
             "#bd3786"
            ],
            [
             0.5555555555555556,
             "#d8576b"
            ],
            [
             0.6666666666666666,
             "#ed7953"
            ],
            [
             0.7777777777777778,
             "#fb9f3a"
            ],
            [
             0.8888888888888888,
             "#fdca26"
            ],
            [
             1,
             "#f0f921"
            ]
           ]
          },
          "colorway": [
           "#636efa",
           "#EF553B",
           "#00cc96",
           "#ab63fa",
           "#FFA15A",
           "#19d3f3",
           "#FF6692",
           "#B6E880",
           "#FF97FF",
           "#FECB52"
          ],
          "font": {
           "color": "#2a3f5f"
          },
          "geo": {
           "bgcolor": "white",
           "lakecolor": "white",
           "landcolor": "#E5ECF6",
           "showlakes": true,
           "showland": true,
           "subunitcolor": "white"
          },
          "hoverlabel": {
           "align": "left"
          },
          "hovermode": "closest",
          "mapbox": {
           "style": "light"
          },
          "paper_bgcolor": "white",
          "plot_bgcolor": "#E5ECF6",
          "polar": {
           "angularaxis": {
            "gridcolor": "white",
            "linecolor": "white",
            "ticks": ""
           },
           "bgcolor": "#E5ECF6",
           "radialaxis": {
            "gridcolor": "white",
            "linecolor": "white",
            "ticks": ""
           }
          },
          "scene": {
           "xaxis": {
            "backgroundcolor": "#E5ECF6",
            "gridcolor": "white",
            "gridwidth": 2,
            "linecolor": "white",
            "showbackground": true,
            "ticks": "",
            "zerolinecolor": "white"
           },
           "yaxis": {
            "backgroundcolor": "#E5ECF6",
            "gridcolor": "white",
            "gridwidth": 2,
            "linecolor": "white",
            "showbackground": true,
            "ticks": "",
            "zerolinecolor": "white"
           },
           "zaxis": {
            "backgroundcolor": "#E5ECF6",
            "gridcolor": "white",
            "gridwidth": 2,
            "linecolor": "white",
            "showbackground": true,
            "ticks": "",
            "zerolinecolor": "white"
           }
          },
          "shapedefaults": {
           "line": {
            "color": "#2a3f5f"
           }
          },
          "ternary": {
           "aaxis": {
            "gridcolor": "white",
            "linecolor": "white",
            "ticks": ""
           },
           "baxis": {
            "gridcolor": "white",
            "linecolor": "white",
            "ticks": ""
           },
           "bgcolor": "#E5ECF6",
           "caxis": {
            "gridcolor": "white",
            "linecolor": "white",
            "ticks": ""
           }
          },
          "title": {
           "x": 0.05
          },
          "xaxis": {
           "automargin": true,
           "gridcolor": "white",
           "linecolor": "white",
           "ticks": "",
           "title": {
            "standoff": 15
           },
           "zerolinecolor": "white",
           "zerolinewidth": 2
          },
          "yaxis": {
           "automargin": true,
           "gridcolor": "white",
           "linecolor": "white",
           "ticks": "",
           "title": {
            "standoff": 15
           },
           "zerolinecolor": "white",
           "zerolinewidth": 2
          }
         }
        },
        "title": {
         "text": "2D Cluster PCA Plot"
        },
        "xaxis": {
         "anchor": "y",
         "domain": [
          0,
          1
         ],
         "title": {
          "text": "PCA1"
         }
        },
        "yaxis": {
         "anchor": "x",
         "domain": [
          0,
          1
         ],
         "title": {
          "text": "PCA2"
         }
        }
       }
      },
      "text/html": [
       "<div>\n",
       "        \n",
       "        \n",
       "            <div id=\"fba050f7-e4e9-4176-9e01-387f428781d2\" class=\"plotly-graph-div\" style=\"height:600px; width:100%;\"></div>\n",
       "            <script type=\"text/javascript\">\n",
       "                require([\"plotly\"], function(Plotly) {\n",
       "                    window.PLOTLYENV=window.PLOTLYENV || {};\n",
       "                    \n",
       "                if (document.getElementById(\"fba050f7-e4e9-4176-9e01-387f428781d2\")) {\n",
       "                    Plotly.newPlot(\n",
       "                        'fba050f7-e4e9-4176-9e01-387f428781d2',\n",
       "                        [{\"hovertemplate\": \"Cluster=Cluster 0<br>PCA1=%{x}<br>PCA2=%{y}<br>Label=%{text}<extra></extra>\", \"legendgroup\": \"Cluster 0\", \"marker\": {\"color\": \"#636efa\", \"opacity\": 0.5, \"symbol\": \"circle\"}, \"mode\": \"markers+text\", \"name\": \"Cluster 0\", \"orientation\": \"v\", \"showlegend\": true, \"text\": [\"Honduras\", \"Dominica\", \"Djibouti\", \"Samoa\", \"San Marino\", \"Sao Tome and Principe\", \"Colombia\", \"Chile\", \"Cabo Verde\", \"Solomon Islands\", \"Bulgaria\", \"South Africa\", \"Brazil\", \"Botswana\", \"Bolivia\", \"Bhutan\", \"Belarus\", \"Barbados\", \"St. Lucia\", \"St. Vincent and the Grenadines\", \"Russian Federation\", \"Suriname\", \"Romania\", \"Estonia\", \"Moldova\", \"Malawi\", \"Monaco\", \"Macedonia, FYR\", \"Lithuania\", \"Lebanon\", \"Latvia\", \"Montenegro\", \"Mozambique\", \"Namibia\", \"Jordan\", \"Israel\", \"Nicaragua\", \"Hungary\", \"Guyana\", \"Grenada\", \"Panama\", \"Papua New Guinea\", \"Poland\", \"El Salvador\", \"Argentina\", \"Seychelles\", \"Swaziland\", \"Small states\", \"Tonga\", \"Vanuatu\", \"Pacific island small states\", \"Other small states\", \"Tunisia\", \"East Asia & Pacific\", \"Turkey\", \"Ukraine\", \"Antigua and Barbuda\", \"Europe & Central Asia (IDA & IBRD countries)\", \"Latin America & the Caribbean (IDA & IBRD countries)\", \"Latin America & Caribbean (excluding high income)\", \"Latin America & Caribbean\", \"Europe & Central Asia (excluding high income)\", \"Thailand\", \"Uruguay\", \"Central Europe and the Baltics\", \"Algeria\", \"Andorra\"], \"textposition\": \"top center\", \"type\": \"scatter\", \"x\": [0.052380976704221226, -0.6963165842730619, 3.496362902450416, 2.239179963842627, 2.996541555817923, -1.9828797671341079, 5.269249366144288, -2.9824819300049716, -0.5993207982455234, 6.323109784117417, 0.9043237858037502, -0.41674848743597354, -1.832571139106178, -1.686965814851079, -0.8536612634039071, 2.8846255739114017, 3.0973104640228666, 0.5412716246977552, -1.7848088812854845, -0.5138111571569086, -0.36390899901084073, 0.040582767506345596, 0.7748426086098943, 3.7119153029666645, 4.882710147013893, 3.421105670911858, -2.011887424842368, 4.8117975900245815, 3.3977115784363083, -1.0594868777708542, -0.1505343111705641, 5.5216644402129935, -1.5422464279154824, 2.475123168426271, 6.379360463316178, 4.232365223943222, -0.42345916952052054, 6.877428452111313, 2.762850817234726, -2.7100785907146157, 6.1829001646938995, 1.7357732814693136, 2.891565078104709, 0.40673571172670636, 1.6549886134245428, -0.6367154259911898, 3.4778417248584135, -2.80334887499313, 0.6882246933431866, -2.679774235079103, 2.521124354529938, -2.6780828796626217, -2.260400608016422, 3.732185509922069, -0.43740895298230287, 0.6817178664409332, -2.7904247938703297, 0.18827377624908012, -2.3345159400631017, -2.078861056251885, -2.086614014795427, -0.5707423499700737, -0.13082493573547307, 3.7531848592473027, 5.196532046271687, -2.564444039014229, 4.883437593508745], \"xaxis\": \"x\", \"y\": [-1.0061914536857364, 1.530567196106187, -3.0016842207799748, -1.687535648484022, -0.2740310411662733, 1.7913403986410699, 1.3359849927496943, 0.1609162784698921, 2.2543298469994255, -1.547414120524147, 0.5730460663408715, 0.11355576223380459, -0.4294276179163995, -0.45382741503654017, -0.5170665696550719, 3.856619596943389, 3.148695556800249, -0.5683861330013144, 0.03129894274702944, -0.06757513689428431, 1.6575140007352756, 4.734168013788561, -1.2385442803297098, 1.2643584968373265, 0.25926155597166395, -6.44880400752115, -0.4154591228405266, 3.3873388233345954, 0.9531860986338618, 2.993122136765331, 0.8003393682777392, 4.121262186928554, 1.9141130390493317, 0.5760168892285198, 0.7145199934098238, 1.7004237069238604, -1.0957750164154754, 2.5068668117985236, 2.1863935441044458, 1.9233874084159055, 0.6587191354538704, 1.3772422216355955, 0.24184140169870266, -0.5631591457580736, 3.9739699054019604, 3.14259057032015, -5.131259458682052, 1.5032151564745295, 0.23043470667369692, -0.9892378763665279, 0.5193858572401134, 1.7809406740110847, -0.8410240643570503, 0.9928267617964192, -1.8311715877970045, 1.1596543184112704, -0.6084592632583562, 0.7463734591250104, 0.13891010566730813, 0.12929841063543926, 0.09429419110350178, 0.6820820860708179, -3.706588405460558, -4.1531049826228665, 0.7126585487039365, -2.1296685616125797, -2.433941599042846], \"yaxis\": \"y\"}, {\"hovertemplate\": \"Cluster=Cluster 1<br>PCA1=%{x}<br>PCA2=%{y}<br>Label=%{text}<extra></extra>\", \"legendgroup\": \"Cluster 1\", \"marker\": {\"color\": \"#EF553B\", \"opacity\": 0.5, \"symbol\": \"circle\"}, \"mode\": \"markers+text\", \"name\": \"Cluster 1\", \"orientation\": \"v\", \"showlegend\": true, \"text\": [\"Micronesia, Fed. Sts.\", \"Kiribati\", \"Finland\", \"France\", \"United Kingdom\", \"Germany\", \"Malta\", \"Greece\", \"Portugal\", \"Austria\", \"European Union\", \"Japan\", \"Australia\", \"Norway\", \"Netherlands\", \"United States\", \"Iceland\", \"Italy\", \"High income\", \"New Zealand\", \"Palau\", \"World\", \"Sweden\", \"Cuba\", \"Switzerland\", \"Slovak Republic\", \"Post-demographic dividend\", \"Serbia\", \"Spain\", \"Lesotho\", \"Europe & Central Asia\", \"Maldives\", \"Costa Rica\", \"Canada\", \"OECD members\", \"Croatia\", \"Ireland\", \"North America\", \"Czech Republic\", \"Denmark\", \"Euro area\", \"Belgium\", \"Slovenia\", \"Bosnia and Herzegovina\", \"Luxembourg\"], \"textposition\": \"top center\", \"type\": \"scatter\", \"x\": [28.026269553883196, 23.4209274180096, 10.726724560722625, 20.274410375468317, 12.929593082081045, 19.69484295490308, 7.3140917781527355, 7.186477299903721, 11.141192979275422, 18.367344502907944, 14.943239114650703, 13.813253198680275, 8.675223471375856, 16.67166205014809, 14.383614043780407, 14.058971232804133, 15.946916758968197, 11.481683009232077, 13.138218186033129, 15.482183362753915, 13.85886447891556, 8.629457309687261, 18.38721009205912, 16.809456411646927, 11.69398831763859, 7.348234078370876, 13.8081286242078, 7.647162518579739, 10.043412321500618, 7.060532218142873, 13.234086657329977, 7.472880926088069, 10.217763125731786, 13.954540713756638, 13.11438302712924, 10.475304935117327, 7.171364571949278, 14.032324057252538, 10.210283019050978, 20.07095230754882, 15.823770054445609, 14.600979477284383, 11.31808099262243, 7.014345778510732, 10.746653539988584], \"xaxis\": \"x\", \"y\": [-6.041878648963881, 1.8232681705163125, -1.0307496953976378, 0.5893161257926879, -2.266138624723641, 1.2426452203194964, -1.6944069348771371, -1.3613535609992466, -0.3178429143929308, 0.21312339635189256, -0.4116866346696659, -2.6865792296916524, -0.36967957521681843, 0.4446501570358723, -6.075816075638622, -2.128293361440677, 2.169221640228079, -1.2206793438921006, -1.1393786999588775, -4.743207341003988, 3.4424525494613603, 0.3946136452828325, -2.2006955984502503, -6.478083184227867, -1.8339308798468401, 0.6291036683252434, -1.409886537333089, -1.4623480949617336, -0.9687378170947281, -6.8596600891064385, 0.264163702580193, -4.9194173423612755, -1.1138186475250493, -0.6679680569801186, -1.2698155947760232, 0.35135324468989, -0.2558521351774981, -2.005564435772476, 0.9972888247732338, -2.0575929021766846, -0.14470922160935124, -1.8679602899905694, 0.4399174439131797, -3.5188569549087734, 0.6763558407018946], \"yaxis\": \"y\"}, {\"hovertemplate\": \"Cluster=Cluster 2<br>PCA1=%{x}<br>PCA2=%{y}<br>Label=%{text}<extra></extra>\", \"legendgroup\": \"Cluster 2\", \"marker\": {\"color\": \"#00cc96\", \"opacity\": 0.5, \"symbol\": \"circle\"}, \"mode\": \"markers+text\", \"name\": \"Cluster 2\", \"orientation\": \"v\", \"showlegend\": true, \"text\": [\"Vietnam\", \"Morocco\", \"Nepal\", \"Myanmar\", \"Venezuela, RB\", \"Mongolia\", \"Uzbekistan\", \"United Arab Emirates\", \"Nigeria\", \"Sudan\", \"St. Kitts and Nevis\", \"Sri Lanka\", \"Syrian Arab Republic\", \"Tajikistan\", \"Tanzania\", \"Togo\", \"Singapore\", \"Sierra Leone\", \"Mexico\", \"Niger\", \"Senegal\", \"Trinidad and Tobago\", \"Rwanda\", \"Turkmenistan\", \"Uganda\", \"Qatar\", \"Philippines\", \"Peru\", \"Paraguay\", \"Pakistan\", \"Oman\", \"Saudi Arabia\", \"Mauritius\", \"Arab World\", \"Chad\", \"Upper middle income\", \"Albania\", \"Angola\", \"Armenia\", \"Azerbaijan\", \"Bahamas, The\", \"Bahrain\", \"Bangladesh\", \"Belize\", \"Benin\", \"Brunei Darussalam\", \"Burkina Faso\", \"Burundi\", \"Cambodia\", \"Cameroon\", \"Sub-Saharan Africa (IDA & IBRD countries)\", \"Sub-Saharan Africa (excluding high income)\", \"Sub-Saharan Africa\", \"South Asia (IDA & IBRD)\", \"Caribbean small states\", \"Early-demographic dividend\", \"East Asia & Pacific (excluding high income)\", \"East Asia & Pacific (IDA & IBRD countries)\", \"Heavily indebted poor countries (HIPC)\", \"Late-demographic dividend\", \"Least developed countries: UN classification\", \"Central African Republic\", \"Low & middle income\", \"Lower middle income\", \"Middle East & North Africa\", \"Middle East & North Africa (excluding high income)\", \"Middle East & North Africa (IDA & IBRD countries)\", \"Middle income\", \"Pre-demographic dividend\", \"South Asia\", \"Low income\", \"Mauritania\", \"Zambia\", \"Comoros\", \"Yemen, Rep.\", \"India\", \"Indonesia\", \"Iran, Islamic Rep.\", \"Jamaica\", \"Kazakhstan\", \"Kenya\", \"Korea, Rep.\", \"Kuwait\", \"Kyrgyz Republic\", \"Lao PDR\", \"Libya\", \"Madagascar\", \"Malaysia\", \"Mali\", \"China\", \"Guinea-Bissau\", \"Haiti\", \"Guatemala\", \"Congo, Dem. Rep.\", \"Congo, Rep.\", \"Cote d'Ivoire\", \"Cyprus\", \"Dominican Republic\", \"Ecuador\", \"Egypt, Arab Rep.\", \"Equatorial Guinea\", \"Eritrea\", \"Ethiopia\", \"Fiji\", \"Gabon\", \"Gambia, The\", \"Georgia\", \"Ghana\", \"Guinea\"], \"textposition\": \"top center\", \"type\": \"scatter\", \"x\": [-6.838127133689371, -9.484297119000681, -7.481534537789986, -15.115266677686787, -8.009970462200501, -3.709945822543769, -4.3439958993717225, -7.527412152427506, -12.093503451711781, -10.187893573210124, -5.982304037394747, -9.033280310482064, -8.34993440852866, -10.740163720954202, -6.704510490114221, -8.637772998311174, -10.783145859486593, -6.071121988048265, -4.8627877804054735, -6.8970171325174014, -7.128722124865841, -5.193398208285047, -4.5367678589804274, -7.808119101950002, -7.410104286952263, -7.287596977267263, -10.375982305040118, -4.701430209018233, -3.325879262397694, -13.274173398510676, -5.7830515182741244, -5.280601942476482, -7.183762362692119, -5.978111640505863, -8.739668478685987, -3.556546390843077, -5.665968771045835, -6.1758384619264985, -8.887701105429901, -11.990190347513364, -3.47273601860984, -5.140448924477463, -12.279275148006182, -3.6782325952668056, -6.759047335826217, -5.553747628790427, -3.5927102273363114, -3.9114615341007233, -9.835625771928306, -11.816550848843821, -5.72646040077447, -5.733959228379498, -5.72646040077447, -11.717744407779508, -3.533552360275566, -5.874889989411106, -7.338891894395096, -7.338891894395101, -6.779112802141313, -3.4865834565786384, -8.473369637629366, -8.328928193317836, -5.029770548401174, -10.12208829043547, -4.754617117667596, -5.6689371743232835, -5.6689371743232835, -5.002990850532889, -8.803685060464211, -11.717744407779508, -6.935487657597177, -8.209723823671498, -3.718335935066663, -7.13163238666764, -9.08405838904044, -11.64996360056128, -12.53819234803707, -6.294933725307493, -4.276339086039182, -6.102007952138876, -7.505875796444624, -3.8422695092891788, -5.756711635031173, -3.482951191502167, -11.157062106263885, -6.8515915723180845, -6.318006421470662, -7.845046648174214, -4.999397273875959, -7.0859677684990325, -10.52832969892298, -9.335434220692619, -7.279534380614562, -12.749904411139479, -8.32172261741887, -9.491378675550758, -4.343442425602127, -7.7808511955199195, -7.790551996098867, -7.622396289866977, -6.338709691007324, -9.859076847688465, -5.804870493017628, -4.139888379414402, -9.644119158616423, -5.068430173668128, -10.269095235769905, -5.3292488300306715, -10.945540426213428], \"xaxis\": \"x\", \"y\": [-2.1054224181312526, -0.674339881895901, -0.8377730612890155, -0.028339201058389208, 0.8228560527689589, 2.5255249894814993, 1.2898776384266801, -0.3688311462459715, 0.317078277096952, -1.5314700249093554, 2.1232932546309327, 0.9368375328552417, 1.9279965762758624, -0.3564606077621444, -1.2122195613280027, -0.4796246484432006, 0.34533989423746375, 2.0535688284826765, -0.6462077405756083, -0.8646847381552376, -0.48744350734662595, -0.1470950104715112, -0.5039192162486812, 3.631457019761387, -0.09849466670467485, 1.7017615075616372, 0.6894459850579, 0.41004174217124467, -1.7654684443955153, 0.15195551398712748, 1.8771059208222185, -0.005353811348649193, 0.269614037976079, 0.06008727387118919, 2.006734701512188, 0.014294049568387888, -0.299148821310172, 1.048399972443122, 0.23380355733518995, 0.6302439716252007, -0.4216974744697454, 1.0191811139862557, 0.9292942917451489, -1.5538410671259397, 0.27221752660849463, 2.037198761849658, -1.158141149257049, -4.799628678285954, 1.320370034410966, 0.4203891767923589, 0.8552924061910828, 0.8502496554360929, 0.8552924061910828, 0.39968228249469384, 0.427317098923598, 0.5811594934369007, -0.9944962782369453, -0.9944962782369442, -0.5068844372590346, 0.03421941894983932, -0.09237404974594539, 0.5463133582843168, 0.05559276054405554, 0.475060450210652, 0.44875985164741067, -0.382630101819177, -0.382630101819177, 0.06441920890858754, -0.1760458088360439, 0.39968228249469384, -0.5257808006280742, 2.001794157375586, 2.117893316914128, 1.2418292146067695, 1.9725459159480616, 0.4387840994705098, 0.15993643922619147, -0.42991124293539934, 0.8183041735007407, 1.4083207333161532, -0.6464163056969568, -2.5218613664013994, 1.9781672804329213, -1.3346870062550669, 1.9136966118668468, -0.815892023885618, 0.8693110544295628, 0.028810276635605706, 1.497615545969876, -1.05855950288279, 1.029264975053775, 2.009609502540951, -0.010123131376214041, -1.7875193250832497, -1.1761037419663476, 0.8968873316434847, -1.129575189688764, -0.7418307711572956, -1.9995631693860647, 0.84327917245056, -0.05447341566781257, 1.4370530974830726, -1.606728816326823, 0.8117649007612829, -0.9218388760417191, -4.2302591643377045, -0.2889516151239764, -1.7584576472998465, -1.1451215198512827], \"yaxis\": \"y\"}, {\"hovertemplate\": \"Cluster=Cluster 3<br>PCA1=%{x}<br>PCA2=%{y}<br>Label=%{text}<extra></extra>\", \"legendgroup\": \"Cluster 3\", \"marker\": {\"color\": \"#ab63fa\", \"opacity\": 0.5, \"symbol\": \"circle\"}, \"mode\": \"markers+text\", \"name\": \"Cluster 3\", \"orientation\": \"v\", \"showlegend\": true, \"text\": [\"Nauru\", \"Tuvalu\", \"Marshall Islands\"], \"textposition\": \"top center\", \"type\": \"scatter\", \"x\": [32.54294615578061, 49.136145464843146, 55.908067724687456], \"xaxis\": \"x\", \"y\": [14.525514048370512, -4.77934261778649, 11.190154757182905], \"yaxis\": \"y\"}],\n",
       "                        {\"height\": 600, \"legend\": {\"title\": {\"text\": \"Cluster\"}, \"tracegroupgap\": 0}, \"margin\": {\"t\": 60}, \"plot_bgcolor\": \"rgb(240,240,240)\", \"template\": {\"data\": {\"bar\": [{\"error_x\": {\"color\": \"#2a3f5f\"}, \"error_y\": {\"color\": \"#2a3f5f\"}, \"marker\": {\"line\": {\"color\": \"#E5ECF6\", \"width\": 0.5}}, \"type\": \"bar\"}], \"barpolar\": [{\"marker\": {\"line\": {\"color\": \"#E5ECF6\", \"width\": 0.5}}, \"type\": \"barpolar\"}], \"carpet\": [{\"aaxis\": {\"endlinecolor\": \"#2a3f5f\", \"gridcolor\": \"white\", \"linecolor\": \"white\", \"minorgridcolor\": \"white\", \"startlinecolor\": \"#2a3f5f\"}, \"baxis\": {\"endlinecolor\": \"#2a3f5f\", \"gridcolor\": \"white\", \"linecolor\": \"white\", \"minorgridcolor\": \"white\", \"startlinecolor\": \"#2a3f5f\"}, \"type\": \"carpet\"}], \"choropleth\": [{\"colorbar\": {\"outlinewidth\": 0, \"ticks\": \"\"}, \"type\": \"choropleth\"}], \"contour\": [{\"colorbar\": {\"outlinewidth\": 0, \"ticks\": \"\"}, \"colorscale\": [[0.0, \"#0d0887\"], [0.1111111111111111, \"#46039f\"], [0.2222222222222222, \"#7201a8\"], [0.3333333333333333, \"#9c179e\"], [0.4444444444444444, \"#bd3786\"], [0.5555555555555556, \"#d8576b\"], [0.6666666666666666, \"#ed7953\"], [0.7777777777777778, \"#fb9f3a\"], [0.8888888888888888, \"#fdca26\"], [1.0, \"#f0f921\"]], \"type\": \"contour\"}], \"contourcarpet\": [{\"colorbar\": {\"outlinewidth\": 0, \"ticks\": \"\"}, \"type\": \"contourcarpet\"}], \"heatmap\": [{\"colorbar\": {\"outlinewidth\": 0, \"ticks\": \"\"}, \"colorscale\": [[0.0, \"#0d0887\"], [0.1111111111111111, \"#46039f\"], [0.2222222222222222, \"#7201a8\"], [0.3333333333333333, \"#9c179e\"], [0.4444444444444444, \"#bd3786\"], [0.5555555555555556, \"#d8576b\"], [0.6666666666666666, \"#ed7953\"], [0.7777777777777778, \"#fb9f3a\"], [0.8888888888888888, \"#fdca26\"], [1.0, \"#f0f921\"]], \"type\": \"heatmap\"}], \"heatmapgl\": [{\"colorbar\": {\"outlinewidth\": 0, \"ticks\": \"\"}, \"colorscale\": [[0.0, \"#0d0887\"], [0.1111111111111111, \"#46039f\"], [0.2222222222222222, \"#7201a8\"], [0.3333333333333333, \"#9c179e\"], [0.4444444444444444, \"#bd3786\"], [0.5555555555555556, \"#d8576b\"], [0.6666666666666666, \"#ed7953\"], [0.7777777777777778, \"#fb9f3a\"], [0.8888888888888888, \"#fdca26\"], [1.0, \"#f0f921\"]], \"type\": \"heatmapgl\"}], \"histogram\": [{\"marker\": {\"colorbar\": {\"outlinewidth\": 0, \"ticks\": \"\"}}, \"type\": \"histogram\"}], \"histogram2d\": [{\"colorbar\": {\"outlinewidth\": 0, \"ticks\": \"\"}, \"colorscale\": [[0.0, \"#0d0887\"], [0.1111111111111111, \"#46039f\"], [0.2222222222222222, \"#7201a8\"], [0.3333333333333333, \"#9c179e\"], [0.4444444444444444, \"#bd3786\"], [0.5555555555555556, \"#d8576b\"], [0.6666666666666666, \"#ed7953\"], [0.7777777777777778, \"#fb9f3a\"], [0.8888888888888888, \"#fdca26\"], [1.0, \"#f0f921\"]], \"type\": \"histogram2d\"}], \"histogram2dcontour\": [{\"colorbar\": {\"outlinewidth\": 0, \"ticks\": \"\"}, \"colorscale\": [[0.0, \"#0d0887\"], [0.1111111111111111, \"#46039f\"], [0.2222222222222222, \"#7201a8\"], [0.3333333333333333, \"#9c179e\"], [0.4444444444444444, \"#bd3786\"], [0.5555555555555556, \"#d8576b\"], [0.6666666666666666, \"#ed7953\"], [0.7777777777777778, \"#fb9f3a\"], [0.8888888888888888, \"#fdca26\"], [1.0, \"#f0f921\"]], \"type\": \"histogram2dcontour\"}], \"mesh3d\": [{\"colorbar\": {\"outlinewidth\": 0, \"ticks\": \"\"}, \"type\": \"mesh3d\"}], \"parcoords\": [{\"line\": {\"colorbar\": {\"outlinewidth\": 0, \"ticks\": \"\"}}, \"type\": \"parcoords\"}], \"pie\": [{\"automargin\": true, \"type\": \"pie\"}], \"scatter\": [{\"marker\": {\"colorbar\": {\"outlinewidth\": 0, \"ticks\": \"\"}}, \"type\": \"scatter\"}], \"scatter3d\": [{\"line\": {\"colorbar\": {\"outlinewidth\": 0, \"ticks\": \"\"}}, \"marker\": {\"colorbar\": {\"outlinewidth\": 0, \"ticks\": \"\"}}, \"type\": \"scatter3d\"}], \"scattercarpet\": [{\"marker\": {\"colorbar\": {\"outlinewidth\": 0, \"ticks\": \"\"}}, \"type\": \"scattercarpet\"}], \"scattergeo\": [{\"marker\": {\"colorbar\": {\"outlinewidth\": 0, \"ticks\": \"\"}}, \"type\": \"scattergeo\"}], \"scattergl\": [{\"marker\": {\"colorbar\": {\"outlinewidth\": 0, \"ticks\": \"\"}}, \"type\": \"scattergl\"}], \"scattermapbox\": [{\"marker\": {\"colorbar\": {\"outlinewidth\": 0, \"ticks\": \"\"}}, \"type\": \"scattermapbox\"}], \"scatterpolar\": [{\"marker\": {\"colorbar\": {\"outlinewidth\": 0, \"ticks\": \"\"}}, \"type\": \"scatterpolar\"}], \"scatterpolargl\": [{\"marker\": {\"colorbar\": {\"outlinewidth\": 0, \"ticks\": \"\"}}, \"type\": \"scatterpolargl\"}], \"scatterternary\": [{\"marker\": {\"colorbar\": {\"outlinewidth\": 0, \"ticks\": \"\"}}, \"type\": \"scatterternary\"}], \"surface\": [{\"colorbar\": {\"outlinewidth\": 0, \"ticks\": \"\"}, \"colorscale\": [[0.0, \"#0d0887\"], [0.1111111111111111, \"#46039f\"], [0.2222222222222222, \"#7201a8\"], [0.3333333333333333, \"#9c179e\"], [0.4444444444444444, \"#bd3786\"], [0.5555555555555556, \"#d8576b\"], [0.6666666666666666, \"#ed7953\"], [0.7777777777777778, \"#fb9f3a\"], [0.8888888888888888, \"#fdca26\"], [1.0, \"#f0f921\"]], \"type\": \"surface\"}], \"table\": [{\"cells\": {\"fill\": {\"color\": \"#EBF0F8\"}, \"line\": {\"color\": \"white\"}}, \"header\": {\"fill\": {\"color\": \"#C8D4E3\"}, \"line\": {\"color\": \"white\"}}, \"type\": \"table\"}]}, \"layout\": {\"annotationdefaults\": {\"arrowcolor\": \"#2a3f5f\", \"arrowhead\": 0, \"arrowwidth\": 1}, \"coloraxis\": {\"colorbar\": {\"outlinewidth\": 0, \"ticks\": \"\"}}, \"colorscale\": {\"diverging\": [[0, \"#8e0152\"], [0.1, \"#c51b7d\"], [0.2, \"#de77ae\"], [0.3, \"#f1b6da\"], [0.4, \"#fde0ef\"], [0.5, \"#f7f7f7\"], [0.6, \"#e6f5d0\"], [0.7, \"#b8e186\"], [0.8, \"#7fbc41\"], [0.9, \"#4d9221\"], [1, \"#276419\"]], \"sequential\": [[0.0, \"#0d0887\"], [0.1111111111111111, \"#46039f\"], [0.2222222222222222, \"#7201a8\"], [0.3333333333333333, \"#9c179e\"], [0.4444444444444444, \"#bd3786\"], [0.5555555555555556, \"#d8576b\"], [0.6666666666666666, \"#ed7953\"], [0.7777777777777778, \"#fb9f3a\"], [0.8888888888888888, \"#fdca26\"], [1.0, \"#f0f921\"]], \"sequentialminus\": [[0.0, \"#0d0887\"], [0.1111111111111111, \"#46039f\"], [0.2222222222222222, \"#7201a8\"], [0.3333333333333333, \"#9c179e\"], [0.4444444444444444, \"#bd3786\"], [0.5555555555555556, \"#d8576b\"], [0.6666666666666666, \"#ed7953\"], [0.7777777777777778, \"#fb9f3a\"], [0.8888888888888888, \"#fdca26\"], [1.0, \"#f0f921\"]]}, \"colorway\": [\"#636efa\", \"#EF553B\", \"#00cc96\", \"#ab63fa\", \"#FFA15A\", \"#19d3f3\", \"#FF6692\", \"#B6E880\", \"#FF97FF\", \"#FECB52\"], \"font\": {\"color\": \"#2a3f5f\"}, \"geo\": {\"bgcolor\": \"white\", \"lakecolor\": \"white\", \"landcolor\": \"#E5ECF6\", \"showlakes\": true, \"showland\": true, \"subunitcolor\": \"white\"}, \"hoverlabel\": {\"align\": \"left\"}, \"hovermode\": \"closest\", \"mapbox\": {\"style\": \"light\"}, \"paper_bgcolor\": \"white\", \"plot_bgcolor\": \"#E5ECF6\", \"polar\": {\"angularaxis\": {\"gridcolor\": \"white\", \"linecolor\": \"white\", \"ticks\": \"\"}, \"bgcolor\": \"#E5ECF6\", \"radialaxis\": {\"gridcolor\": \"white\", \"linecolor\": \"white\", \"ticks\": \"\"}}, \"scene\": {\"xaxis\": {\"backgroundcolor\": \"#E5ECF6\", \"gridcolor\": \"white\", \"gridwidth\": 2, \"linecolor\": \"white\", \"showbackground\": true, \"ticks\": \"\", \"zerolinecolor\": \"white\"}, \"yaxis\": {\"backgroundcolor\": \"#E5ECF6\", \"gridcolor\": \"white\", \"gridwidth\": 2, \"linecolor\": \"white\", \"showbackground\": true, \"ticks\": \"\", \"zerolinecolor\": \"white\"}, \"zaxis\": {\"backgroundcolor\": \"#E5ECF6\", \"gridcolor\": \"white\", \"gridwidth\": 2, \"linecolor\": \"white\", \"showbackground\": true, \"ticks\": \"\", \"zerolinecolor\": \"white\"}}, \"shapedefaults\": {\"line\": {\"color\": \"#2a3f5f\"}}, \"ternary\": {\"aaxis\": {\"gridcolor\": \"white\", \"linecolor\": \"white\", \"ticks\": \"\"}, \"baxis\": {\"gridcolor\": \"white\", \"linecolor\": \"white\", \"ticks\": \"\"}, \"bgcolor\": \"#E5ECF6\", \"caxis\": {\"gridcolor\": \"white\", \"linecolor\": \"white\", \"ticks\": \"\"}}, \"title\": {\"x\": 0.05}, \"xaxis\": {\"automargin\": true, \"gridcolor\": \"white\", \"linecolor\": \"white\", \"ticks\": \"\", \"title\": {\"standoff\": 15}, \"zerolinecolor\": \"white\", \"zerolinewidth\": 2}, \"yaxis\": {\"automargin\": true, \"gridcolor\": \"white\", \"linecolor\": \"white\", \"ticks\": \"\", \"title\": {\"standoff\": 15}, \"zerolinecolor\": \"white\", \"zerolinewidth\": 2}}}, \"title\": {\"text\": \"2D Cluster PCA Plot\"}, \"xaxis\": {\"anchor\": \"y\", \"domain\": [0.0, 1.0], \"title\": {\"text\": \"PCA1\"}}, \"yaxis\": {\"anchor\": \"x\", \"domain\": [0.0, 1.0], \"title\": {\"text\": \"PCA2\"}}},\n",
       "                        {\"responsive\": true}\n",
       "                    ).then(function(){\n",
       "                            \n",
       "var gd = document.getElementById('fba050f7-e4e9-4176-9e01-387f428781d2');\n",
       "var x = new MutationObserver(function (mutations, observer) {{\n",
       "        var display = window.getComputedStyle(gd).display;\n",
       "        if (!display || display === 'none') {{\n",
       "            console.log([gd, 'removed!']);\n",
       "            Plotly.purge(gd);\n",
       "            observer.disconnect();\n",
       "        }}\n",
       "}});\n",
       "\n",
       "// Listen for the removal of the full notebook cells\n",
       "var notebookContainer = gd.closest('#notebook-container');\n",
       "if (notebookContainer) {{\n",
       "    x.observe(notebookContainer, {childList: true});\n",
       "}}\n",
       "\n",
       "// Listen for the clearing of the current output cell\n",
       "var outputEl = gd.closest('.output');\n",
       "if (outputEl) {{\n",
       "    x.observe(outputEl, {childList: true});\n",
       "}}\n",
       "\n",
       "                        })\n",
       "                };\n",
       "                });\n",
       "            </script>\n",
       "        </div>"
      ]
     },
     "metadata": {},
     "output_type": "display_data"
    }
   ],
   "source": [
    "plot_model(kmeans, feature = 'Country Name', label=True)"
   ]
  },
  {
   "cell_type": "code",
   "execution_count": 11,
   "metadata": {},
   "outputs": [
    {
     "data": {
      "text/html": [
       "        <script type=\"text/javascript\">\n",
       "        window.PlotlyConfig = {MathJaxConfig: 'local'};\n",
       "        if (window.MathJax) {MathJax.Hub.Config({SVG: {font: \"STIX-Web\"}});}\n",
       "        if (typeof require !== 'undefined') {\n",
       "        require.undef(\"plotly\");\n",
       "        requirejs.config({\n",
       "            paths: {\n",
       "                'plotly': ['https://cdn.plot.ly/plotly-latest.min']\n",
       "            }\n",
       "        });\n",
       "        require(['plotly'], function(Plotly) {\n",
       "            window._Plotly = Plotly;\n",
       "        });\n",
       "        }\n",
       "        </script>\n",
       "        "
      ]
     },
     "metadata": {},
     "output_type": "display_data"
    },
    {
     "data": {
      "application/vnd.plotly.v1+json": {
       "config": {
        "plotlyServerURL": "https://plot.ly"
       },
       "data": [
        {
         "customdata": [
          [
           "Honduras"
          ],
          [
           "Dominica"
          ],
          [
           "Djibouti"
          ],
          [
           "Samoa"
          ],
          [
           "San Marino"
          ],
          [
           "Sao Tome and Principe"
          ],
          [
           "Colombia"
          ],
          [
           "Chile"
          ],
          [
           "Cabo Verde"
          ],
          [
           "Solomon Islands"
          ],
          [
           "Bulgaria"
          ],
          [
           "South Africa"
          ],
          [
           "Brazil"
          ],
          [
           "Botswana"
          ],
          [
           "Bolivia"
          ],
          [
           "Bhutan"
          ],
          [
           "Belarus"
          ],
          [
           "Barbados"
          ],
          [
           "St. Lucia"
          ],
          [
           "St. Vincent and the Grenadines"
          ],
          [
           "Russian Federation"
          ],
          [
           "Suriname"
          ],
          [
           "Romania"
          ],
          [
           "Estonia"
          ],
          [
           "Moldova"
          ],
          [
           "Malawi"
          ],
          [
           "Monaco"
          ],
          [
           "Macedonia, FYR"
          ],
          [
           "Lithuania"
          ],
          [
           "Lebanon"
          ],
          [
           "Latvia"
          ],
          [
           "Montenegro"
          ],
          [
           "Mozambique"
          ],
          [
           "Namibia"
          ],
          [
           "Jordan"
          ],
          [
           "Israel"
          ],
          [
           "Nicaragua"
          ],
          [
           "Hungary"
          ],
          [
           "Guyana"
          ],
          [
           "Grenada"
          ],
          [
           "Panama"
          ],
          [
           "Papua New Guinea"
          ],
          [
           "Poland"
          ],
          [
           "El Salvador"
          ],
          [
           "Argentina"
          ],
          [
           "Seychelles"
          ],
          [
           "Swaziland"
          ],
          [
           "Small states"
          ],
          [
           "Tonga"
          ],
          [
           "Vanuatu"
          ],
          [
           "Pacific island small states"
          ],
          [
           "Other small states"
          ],
          [
           "Tunisia"
          ],
          [
           "East Asia & Pacific"
          ],
          [
           "Turkey"
          ],
          [
           "Ukraine"
          ],
          [
           "Antigua and Barbuda"
          ],
          [
           "Europe & Central Asia (IDA & IBRD countries)"
          ],
          [
           "Latin America & the Caribbean (IDA & IBRD countries)"
          ],
          [
           "Latin America & Caribbean (excluding high income)"
          ],
          [
           "Latin America & Caribbean"
          ],
          [
           "Europe & Central Asia (excluding high income)"
          ],
          [
           "Thailand"
          ],
          [
           "Uruguay"
          ],
          [
           "Central Europe and the Baltics"
          ],
          [
           "Algeria"
          ],
          [
           "Andorra"
          ]
         ],
         "hovertemplate": "Cluster=Cluster 0<br>0=%{x}<br>1=%{y}<br>2=%{z}<br>Feature=%{customdata[0]}<extra></extra>",
         "legendgroup": "Cluster 0",
         "marker": {
          "color": "#636efa",
          "opacity": 0.7,
          "symbol": "circle"
         },
         "mode": "markers",
         "name": "Cluster 0",
         "scene": "scene",
         "showlegend": true,
         "type": "scatter3d",
         "x": [
          -54.514930725097656,
          41.200164794921875,
          -35.60541534423828,
          52.02018737792969,
          61.6292724609375,
          -108.61302947998047,
          -71.6905517578125,
          69.82020568847656,
          2.9113893508911133,
          -149.00181579589844,
          -26.490402221679688,
          -62.20393753051758,
          -66.62078857421875,
          -84.7964859008789,
          -60.19371795654297,
          -133.4934844970703,
          -15.043511390686035,
          -51.274757385253906,
          -0.5193581581115723,
          51.49176025390625,
          39.02735900878906,
          8.919953346252441,
          59.493839263916016,
          21.753358840942383,
          -99.38549041748047,
          -73.61353302001953,
          -60.299869537353516,
          -37.196632385253906,
          39.01942443847656,
          1.122688889503479,
          -25.66119384765625,
          -27.291728973388672,
          90.59162139892578,
          39.00184631347656,
          1.0209076404571533,
          4.161117076873779,
          81.99337768554688,
          -62.90184783935547,
          -103.76394653320312,
          112.48535919189453,
          7.85712194442749,
          50.92815017700195,
          42.80362319946289,
          -37.98423767089844,
          -95.52204132080078,
          4.755452632904053,
          47.28776931762695,
          -111.6592788696289,
          -57.30259323120117,
          -13.97006893157959,
          -7.385033130645752,
          -122.23499298095703,
          -45.8507194519043,
          33.580204010009766,
          85.70339965820312,
          85.20353698730469,
          -48.63250732421875,
          -37.029605865478516,
          74.16984558105469,
          33.99113082885742,
          17.45694351196289,
          -40.34823989868164,
          127.41363525390625,
          -56.44076156616211,
          1.1963034868240356,
          -17.675819396972656,
          -109.03898620605469
         ],
         "y": [
          20.013704299926758,
          -42.63228988647461,
          -45.67970657348633,
          -49.476070404052734,
          -95.01020812988281,
          48.19043731689453,
          -10.734064102172852,
          -47.21592330932617,
          -135.86378479003906,
          -32.526432037353516,
          -2.554169178009033,
          30.81361961364746,
          73.15715026855469,
          25.296411514282227,
          4.758033275604248,
          -30.010330200195312,
          -92.29234313964844,
          23.738147735595703,
          -54.93592834472656,
          -145.3407440185547,
          -11.943456649780273,
          -16.81104850769043,
          98.88428497314453,
          -81.63116455078125,
          30.496875762939453,
          -44.64771270751953,
          57.86308670043945,
          -17.820138931274414,
          -92.89261627197266,
          6.396016597747803,
          -29.833847045898438,
          -5.168951988220215,
          -37.159908294677734,
          -104.12970733642578,
          -58.5325813293457,
          -114.31039428710938,
          -73.4244155883789,
          -5.002730846405029,
          -49.82362365722656,
          -48.16032028198242,
          -119.3364028930664,
          -114.16008758544922,
          -74.6877212524414,
          23.788305282592773,
          -27.105215072631836,
          -28.087697982788086,
          -90.2530746459961,
          -4.121406078338623,
          -10.730372428894043,
          36.2365837097168,
          -8.326059341430664,
          -32.90532684326172,
          40.770423889160156,
          -109.95670318603516,
          -109.28902435302734,
          -84.61644744873047,
          -112.85171508789062,
          53.46544647216797,
          8.45642375946045,
          -50.29498291015625,
          -18.628129959106445,
          43.3729362487793,
          -98.96312713623047,
          -68.4854736328125,
          -92.65069580078125,
          36.21078109741211,
          44.09168243408203
         ],
         "z": [
          34.53225326538086,
          23.758468627929688,
          26.68569564819336,
          -32.81320571899414,
          25.832683563232422,
          22.919157028198242,
          5.87673807144165,
          58.109764099121094,
          57.87172317504883,
          -12.938937187194824,
          47.29804992675781,
          -63.49889373779297,
          -29.541452407836914,
          62.26243209838867,
          98.55332946777344,
          92.75494384765625,
          38.802520751953125,
          -99.47937774658203,
          61.22608947753906,
          24.864383697509766,
          15.727375984191895,
          -11.826140403747559,
          -131.37933349609375,
          28.297636032104492,
          -18.841514587402344,
          38.212196350097656,
          6.114089488983154,
          -6.935775279998779,
          -31.170015335083008,
          20.228364944458008,
          79.36283111572266,
          -42.32292556762695,
          12.392538070678711,
          48.50631332397461,
          -7.590834140777588,
          16.52091407775879,
          99.12434387207031,
          -33.30851745605469,
          112.75639343261719,
          -29.756093978881836,
          -34.58226013183594,
          99.69298553466797,
          -3.2290115356445312,
          0.4435168504714966,
          84.6821060180664,
          22.928834915161133,
          -99.97286987304688,
          34.805912017822266,
          62.49614715576172,
          62.638431549072266,
          -128.53932189941406,
          39.79813766479492,
          86.73697662353516,
          -1.2756315469741821,
          -61.156673431396484,
          -11.61847972869873,
          62.76210403442383,
          -76.36634826660156,
          -125.71061706542969,
          70.04669189453125,
          61.704498291015625,
          -36.82542037963867,
          11.439531326293945,
          49.553470611572266,
          -10.616267204284668,
          111.64794158935547,
          -64.33145904541016
         ]
        },
        {
         "customdata": [
          [
           "Micronesia, Fed. Sts."
          ],
          [
           "Kiribati"
          ],
          [
           "Finland"
          ],
          [
           "France"
          ],
          [
           "United Kingdom"
          ],
          [
           "Germany"
          ],
          [
           "Malta"
          ],
          [
           "Greece"
          ],
          [
           "Portugal"
          ],
          [
           "Austria"
          ],
          [
           "European Union"
          ],
          [
           "Japan"
          ],
          [
           "Australia"
          ],
          [
           "Norway"
          ],
          [
           "Netherlands"
          ],
          [
           "United States"
          ],
          [
           "Iceland"
          ],
          [
           "Italy"
          ],
          [
           "High income"
          ],
          [
           "New Zealand"
          ],
          [
           "Palau"
          ],
          [
           "World"
          ],
          [
           "Sweden"
          ],
          [
           "Cuba"
          ],
          [
           "Switzerland"
          ],
          [
           "Slovak Republic"
          ],
          [
           "Post-demographic dividend"
          ],
          [
           "Serbia"
          ],
          [
           "Spain"
          ],
          [
           "Lesotho"
          ],
          [
           "Europe & Central Asia"
          ],
          [
           "Maldives"
          ],
          [
           "Costa Rica"
          ],
          [
           "Canada"
          ],
          [
           "OECD members"
          ],
          [
           "Croatia"
          ],
          [
           "Ireland"
          ],
          [
           "North America"
          ],
          [
           "Czech Republic"
          ],
          [
           "Denmark"
          ],
          [
           "Euro area"
          ],
          [
           "Belgium"
          ],
          [
           "Slovenia"
          ],
          [
           "Bosnia and Herzegovina"
          ],
          [
           "Luxembourg"
          ]
         ],
         "hovertemplate": "Cluster=Cluster 1<br>0=%{x}<br>1=%{y}<br>2=%{z}<br>Feature=%{customdata[0]}<extra></extra>",
         "legendgroup": "Cluster 1",
         "marker": {
          "color": "#EF553B",
          "opacity": 0.7,
          "symbol": "circle"
         },
         "mode": "markers",
         "name": "Cluster 1",
         "scene": "scene",
         "showlegend": true,
         "type": "scatter3d",
         "x": [
          -77.01698303222656,
          -34.81437683105469,
          -117.95072937011719,
          -61.945648193359375,
          129.91297912597656,
          -27.835180282592773,
          12.9553861618042,
          -5.746758937835693,
          -91.21756744384766,
          -38.8875732421875,
          -72.16942596435547,
          -33.7183837890625,
          -84.302978515625,
          -38.436275482177734,
          -39.91769790649414,
          -40.0877685546875,
          -29.591657638549805,
          -100.76693725585938,
          141.40109252929688,
          -99.35331726074219,
          -94.65715026855469,
          -96.26123046875,
          -69.67498016357422,
          7.784119606018066,
          -71.42476654052734,
          -102.04685974121094,
          -68.72384643554688,
          -16.829702377319336,
          -55.760101318359375,
          -108.33477020263672,
          -100.34049987792969,
          -119.6001968383789,
          -116.76044464111328,
          -66.93895721435547,
          -70.66824340820312,
          -77.06583404541016,
          -31.784276962280273,
          -98.66329193115234,
          -72.01728057861328,
          -6.100942611694336,
          -59.541709899902344,
          -70.81144714355469,
          -48.31180191040039,
          -37.26641082763672,
          -119.1099624633789
         ],
         "y": [
          -154.53994750976562,
          -164.69232177734375,
          -57.044471740722656,
          -150.582275390625,
          91.30694580078125,
          -135.57595825195312,
          -71.45341491699219,
          -44.80300521850586,
          -73.22410583496094,
          -137.17626953125,
          -78.82810974121094,
          -88.51530456542969,
          -99.24139404296875,
          -102.99064636230469,
          -120.43070983886719,
          -61.93454360961914,
          -23.484790802001953,
          -83.0427474975586,
          49.0291862487793,
          -16.03681182861328,
          -117.08245849609375,
          -40.308067321777344,
          -35.121089935302734,
          -121.858642578125,
          -111.83472442626953,
          -9.126380920410156,
          -106.4749755859375,
          -79.437744140625,
          -80.06013488769531,
          45.405635833740234,
          -58.40599822998047,
          0.5746256709098816,
          -101.9568862915039,
          -41.805118560791016,
          -70.6988296508789,
          -41.18659591674805,
          -51.5661735534668,
          -94.99271392822266,
          -63.63969421386719,
          -87.81426239013672,
          -105.79377746582031,
          -33.43077850341797,
          -50.143402099609375,
          -80.85430908203125,
          -69.16474151611328
         ],
         "z": [
          -35.05799865722656,
          -45.5059928894043,
          -66.52572631835938,
          -78.95254516601562,
          65.13925170898438,
          -74.31249237060547,
          -62.9871826171875,
          -48.02372360229492,
          -50.244895935058594,
          -110.788818359375,
          -126.3424072265625,
          -81.79603576660156,
          -26.493040084838867,
          -136.54425048828125,
          -31.233182907104492,
          -107.72952270507812,
          -94.5848617553711,
          5.987100124359131,
          64.64224243164062,
          -71.79610443115234,
          -126.5912094116211,
          -12.055744171142578,
          150.17889404296875,
          -94.73028564453125,
          4.740137100219727,
          -25.063304901123047,
          -68.88631439208984,
          -42.38462829589844,
          -39.9374885559082,
          -111.38770294189453,
          -105.79698944091797,
          -107.13256072998047,
          -49.3154411315918,
          -128.75772094726562,
          -84.51923370361328,
          -45.05519485473633,
          -24.30488395690918,
          -90.40666198730469,
          -13.315034866333008,
          -118.2513427734375,
          -105.22625732421875,
          -93.29899597167969,
          -63.382850646972656,
          2.0322132110595703,
          -26.223876953125
         ]
        },
        {
         "customdata": [
          [
           "Vietnam"
          ],
          [
           "Morocco"
          ],
          [
           "Nepal"
          ],
          [
           "Myanmar"
          ],
          [
           "Venezuela, RB"
          ],
          [
           "Mongolia"
          ],
          [
           "Uzbekistan"
          ],
          [
           "United Arab Emirates"
          ],
          [
           "Nigeria"
          ],
          [
           "Sudan"
          ],
          [
           "St. Kitts and Nevis"
          ],
          [
           "Sri Lanka"
          ],
          [
           "Syrian Arab Republic"
          ],
          [
           "Tajikistan"
          ],
          [
           "Tanzania"
          ],
          [
           "Togo"
          ],
          [
           "Singapore"
          ],
          [
           "Sierra Leone"
          ],
          [
           "Mexico"
          ],
          [
           "Niger"
          ],
          [
           "Senegal"
          ],
          [
           "Trinidad and Tobago"
          ],
          [
           "Rwanda"
          ],
          [
           "Turkmenistan"
          ],
          [
           "Uganda"
          ],
          [
           "Qatar"
          ],
          [
           "Philippines"
          ],
          [
           "Peru"
          ],
          [
           "Paraguay"
          ],
          [
           "Pakistan"
          ],
          [
           "Oman"
          ],
          [
           "Saudi Arabia"
          ],
          [
           "Mauritius"
          ],
          [
           "Arab World"
          ],
          [
           "Chad"
          ],
          [
           "Upper middle income"
          ],
          [
           "Albania"
          ],
          [
           "Angola"
          ],
          [
           "Armenia"
          ],
          [
           "Azerbaijan"
          ],
          [
           "Bahamas, The"
          ],
          [
           "Bahrain"
          ],
          [
           "Bangladesh"
          ],
          [
           "Belize"
          ],
          [
           "Benin"
          ],
          [
           "Brunei Darussalam"
          ],
          [
           "Burkina Faso"
          ],
          [
           "Burundi"
          ],
          [
           "Cambodia"
          ],
          [
           "Cameroon"
          ],
          [
           "Sub-Saharan Africa (IDA & IBRD countries)"
          ],
          [
           "Sub-Saharan Africa (excluding high income)"
          ],
          [
           "Sub-Saharan Africa"
          ],
          [
           "South Asia (IDA & IBRD)"
          ],
          [
           "Caribbean small states"
          ],
          [
           "Early-demographic dividend"
          ],
          [
           "East Asia & Pacific (excluding high income)"
          ],
          [
           "East Asia & Pacific (IDA & IBRD countries)"
          ],
          [
           "Heavily indebted poor countries (HIPC)"
          ],
          [
           "Late-demographic dividend"
          ],
          [
           "Least developed countries: UN classification"
          ],
          [
           "Central African Republic"
          ],
          [
           "Low & middle income"
          ],
          [
           "Lower middle income"
          ],
          [
           "Middle East & North Africa"
          ],
          [
           "Middle East & North Africa (excluding high income)"
          ],
          [
           "Middle East & North Africa (IDA & IBRD countries)"
          ],
          [
           "Middle income"
          ],
          [
           "Pre-demographic dividend"
          ],
          [
           "South Asia"
          ],
          [
           "Low income"
          ],
          [
           "Mauritania"
          ],
          [
           "Zambia"
          ],
          [
           "Comoros"
          ],
          [
           "Yemen, Rep."
          ],
          [
           "India"
          ],
          [
           "Indonesia"
          ],
          [
           "Iran, Islamic Rep."
          ],
          [
           "Jamaica"
          ],
          [
           "Kazakhstan"
          ],
          [
           "Kenya"
          ],
          [
           "Korea, Rep."
          ],
          [
           "Kuwait"
          ],
          [
           "Kyrgyz Republic"
          ],
          [
           "Lao PDR"
          ],
          [
           "Libya"
          ],
          [
           "Madagascar"
          ],
          [
           "Malaysia"
          ],
          [
           "Mali"
          ],
          [
           "China"
          ],
          [
           "Guinea-Bissau"
          ],
          [
           "Haiti"
          ],
          [
           "Guatemala"
          ],
          [
           "Congo, Dem. Rep."
          ],
          [
           "Congo, Rep."
          ],
          [
           "Cote d'Ivoire"
          ],
          [
           "Cyprus"
          ],
          [
           "Dominican Republic"
          ],
          [
           "Ecuador"
          ],
          [
           "Egypt, Arab Rep."
          ],
          [
           "Equatorial Guinea"
          ],
          [
           "Eritrea"
          ],
          [
           "Ethiopia"
          ],
          [
           "Fiji"
          ],
          [
           "Gabon"
          ],
          [
           "Gambia, The"
          ],
          [
           "Georgia"
          ],
          [
           "Ghana"
          ],
          [
           "Guinea"
          ]
         ],
         "hovertemplate": "Cluster=Cluster 2<br>0=%{x}<br>1=%{y}<br>2=%{z}<br>Feature=%{customdata[0]}<extra></extra>",
         "legendgroup": "Cluster 2",
         "marker": {
          "color": "#00cc96",
          "opacity": 0.7,
          "symbol": "circle"
         },
         "mode": "markers",
         "name": "Cluster 2",
         "scene": "scene",
         "showlegend": true,
         "type": "scatter3d",
         "x": [
          165.52488708496094,
          28.953710556030273,
          48.55284118652344,
          118.12539672851562,
          88.21009826660156,
          121.0407943725586,
          80.43162536621094,
          9.106827735900879,
          -7.258913516998291,
          60.91086196899414,
          57.98972702026367,
          -88.56523895263672,
          93.69712829589844,
          -120.74049377441406,
          -25.19600486755371,
          80.21247100830078,
          -142.37527465820312,
          120.97193908691406,
          78.27397155761719,
          -29.339046478271484,
          -1.292059302330017,
          27.124347686767578,
          86.15572357177734,
          86.1968994140625,
          51.931922912597656,
          98.33845520019531,
          -21.50572967529297,
          60.9118766784668,
          -3.0399277210235596,
          88.57759857177734,
          85.93739318847656,
          98.31063842773438,
          -131.43917846679688,
          -36.05065155029297,
          -120.8736343383789,
          14.623124122619629,
          55.240760803222656,
          103.98700714111328,
          -108.31179809570312,
          -155.14926147460938,
          -29.196372985839844,
          -158.62063598632812,
          81.92512512207031,
          -19.919803619384766,
          75.59571075439453,
          118.44386291503906,
          -55.76297378540039,
          -90.05825805664062,
          62.59870910644531,
          100.69937133789062,
          22.42119598388672,
          -80.10823822021484,
          43.30916976928711,
          63.002437591552734,
          14.905265808105469,
          28.640901565551758,
          -19.09986114501953,
          139.35597229003906,
          4.101405620574951,
          44.600032806396484,
          22.063358306884766,
          50.39496994018555,
          52.60954284667969,
          94.08769226074219,
          87.39356231689453,
          -15.275618553161621,
          -1.3899245262145996,
          40.09558868408203,
          101.9990463256836,
          37.38072967529297,
          50.05186080932617,
          61.688777923583984,
          128.4500274658203,
          30.05595588684082,
          70.74815368652344,
          158.05152893066406,
          96.01180267333984,
          34.25953674316406,
          71.97003173828125,
          -47.93724822998047,
          12.202717781066895,
          -53.9240608215332,
          66.84615325927734,
          -62.87268829345703,
          135.77584838867188,
          -9.939355850219727,
          80.8583984375,
          21.577117919921875,
          30.577571868896484,
          22.77103614807129,
          27.00443458557129,
          117.71772003173828,
          24.970701217651367,
          123.65411376953125,
          131.46607971191406,
          9.632973670959473,
          -22.549354553222656,
          -5.563814163208008,
          -23.09260368347168,
          92.33936309814453,
          -75.11148834228516,
          19.66534996032715,
          19.33794593811035,
          1.6773700714111328,
          23.67589569091797,
          -69.01602935791016,
          43.08330535888672,
          -73.12128448486328,
          60.98292922973633
         ],
         "y": [
          23.347360610961914,
          135.08718872070312,
          104.85832977294922,
          146.3326416015625,
          70.6021499633789,
          -15.252081871032715,
          -57.175479888916016,
          96.4166259765625,
          -45.7392578125,
          135.2671356201172,
          -24.078393936157227,
          73.16403198242188,
          59.42128372192383,
          31.947216033935547,
          93.865234375,
          134.42709350585938,
          34.35619354248047,
          5.963825225830078,
          26.005340576171875,
          135.6354217529297,
          -103.8904800415039,
          30.5844783782959,
          39.92638397216797,
          45.92605972290039,
          64.30714416503906,
          31.47559928894043,
          -0.4620949327945709,
          -7.879825592041016,
          65.56436920166016,
          162.2924346923828,
          -16.724599838256836,
          2.029379367828369,
          152.0074920654297,
          -60.814964294433594,
          85.67050170898438,
          -15.493451118469238,
          30.774415969848633,
          -39.23674774169922,
          97.47190856933594,
          -75.53016662597656,
          63.43278884887695,
          -22.420055389404297,
          163.01828002929688,
          50.329383850097656,
          68.55003356933594,
          -50.94734191894531,
          102.27275848388672,
          129.1695098876953,
          120.46908569335938,
          -124.8203125,
          6.033935070037842,
          -79.42107391357422,
          46.1046257019043,
          136.9156494140625,
          -52.45201873779297,
          23.50170135498047,
          112.38658905029297,
          52.4927978515625,
          74.75553131103516,
          -34.659629821777344,
          114.66539764404297,
          87.48026275634766,
          6.6693878173828125,
          -138.5494384765625,
          -16.48210334777832,
          93.00990295410156,
          36.44072723388672,
          24.92801284790039,
          99.22440338134766,
          -39.42949295043945,
          81.8938980102539,
          50.705291748046875,
          -38.291358947753906,
          36.56224822998047,
          76.76948547363281,
          -7.109706878662109,
          124.7998046875,
          62.72688293457031,
          -3.7649223804473877,
          57.68119430541992,
          134.27012634277344,
          -115.26852416992188,
          10.811695098876953,
          69.27619934082031,
          100.29027557373047,
          161.01144409179688,
          31.389955520629883,
          98.20513916015625,
          -9.256759643554688,
          128.46653747558594,
          152.60707092285156,
          92.87648010253906,
          65.23042297363281,
          143.81837463378906,
          32.98118209838867,
          23.492786407470703,
          77.57083892822266,
          120.19808959960938,
          133.4278106689453,
          71.23906707763672,
          101.24974822998047,
          166.56246948242188,
          51.8530387878418,
          42.62065124511719,
          98.02177429199219,
          117.7562026977539,
          169.12652587890625,
          127.91219329833984,
          107.13032531738281
         ],
         "z": [
          -11.59907054901123,
          4.408452987670898,
          81.87559509277344,
          11.028149604797363,
          -10.392598152160645,
          -22.97425079345703,
          -74.68269348144531,
          58.274635314941406,
          155.50787353515625,
          27.14043426513672,
          -89.93993377685547,
          102.54207611083984,
          -51.48328399658203,
          97.296142578125,
          -5.251582622528076,
          63.073974609375,
          61.530479431152344,
          -73.40684509277344,
          85.94891357421875,
          -9.674997329711914,
          101.30361938476562,
          -34.16029357910156,
          133.25357055664062,
          -92.93386840820312,
          8.305984497070312,
          -31.692941665649414,
          142.2208251953125,
          70.13565063476562,
          120.37457275390625,
          -48.63481521606445,
          -61.69993209838867,
          53.81607437133789,
          -52.00331497192383,
          110.68751525878906,
          59.13264846801758,
          101.5733413696289,
          52.3495979309082,
          -121.01412963867188,
          -9.479593276977539,
          26.75726318359375,
          36.02986145019531,
          -68.0774917602539,
          -9.12271785736084,
          -134.63232421875,
          67.28876495361328,
          53.944190979003906,
          30.673215866088867,
          56.2462158203125,
          -79.8084945678711,
          55.227134704589844,
          -81.72286224365234,
          84.8329849243164,
          105.50122833251953,
          -33.76664352416992,
          104.9324951171875,
          76.61824798583984,
          -43.71487808227539,
          -24.366729736328125,
          -31.3070011138916,
          108.94072723388672,
          -28.70147705078125,
          -36.497962951660156,
          107.91503143310547,
          -14.309417724609375,
          92.00916290283203,
          -86.58282470703125,
          -55.21293640136719,
          1.5439709424972534,
          -90.1675796508789,
          -137.258056640625,
          40.27768325805664,
          -42.32261657714844,
          9.9871187210083,
          -123.09622192382812,
          -71.62140655517578,
          40.97850036621094,
          -15.827816009521484,
          69.16920471191406,
          -14.631552696228027,
          149.84986877441406,
          99.05870819091797,
          110.1234130859375,
          -70.88159942626953,
          58.018821716308594,
          -6.815356254577637,
          47.905372619628906,
          20.714487075805664,
          -61.43519973754883,
          -47.342472076416016,
          57.571556091308594,
          -68.71309661865234,
          -49.41930389404297,
          -74.45890045166016,
          -38.86201095581055,
          17.903451919555664,
          154.41192626953125,
          80.37740325927734,
          30.12278938293457,
          80.2887954711914,
          26.580934524536133,
          -86.81275177001953,
          -27.273059844970703,
          34.907981872558594,
          -0.9210973978042603,
          8.639437675476074,
          81.97888946533203,
          20.064739227294922,
          14.101762771606445,
          -0.39261502027511597
         ]
        },
        {
         "customdata": [
          [
           "Nauru"
          ],
          [
           "Tuvalu"
          ],
          [
           "Marshall Islands"
          ]
         ],
         "hovertemplate": "Cluster=Cluster 3<br>0=%{x}<br>1=%{y}<br>2=%{z}<br>Feature=%{customdata[0]}<extra></extra>",
         "legendgroup": "Cluster 3",
         "marker": {
          "color": "#ab63fa",
          "opacity": 0.7,
          "symbol": "circle"
         },
         "mode": "markers",
         "name": "Cluster 3",
         "scene": "scene",
         "showlegend": true,
         "type": "scatter3d",
         "x": [
          -26.804819107055664,
          -155.14239501953125,
          -58.9946403503418
         ],
         "y": [
          -160.0916748046875,
          25.54724884033203,
          -181.54586791992188
         ],
         "z": [
          -6.146026134490967,
          -45.9717903137207,
          -1.1397674083709717
         ]
        }
       ],
       "layout": {
        "height": 800,
        "legend": {
         "title": {
          "text": "Cluster"
         },
         "tracegroupgap": 0
        },
        "scene": {
         "domain": {
          "x": [
           0,
           1
          ],
          "y": [
           0,
           1
          ]
         },
         "xaxis": {
          "title": {
           "text": "0"
          }
         },
         "yaxis": {
          "title": {
           "text": "1"
          }
         },
         "zaxis": {
          "title": {
           "text": "2"
          }
         }
        },
        "template": {
         "data": {
          "bar": [
           {
            "error_x": {
             "color": "#2a3f5f"
            },
            "error_y": {
             "color": "#2a3f5f"
            },
            "marker": {
             "line": {
              "color": "#E5ECF6",
              "width": 0.5
             }
            },
            "type": "bar"
           }
          ],
          "barpolar": [
           {
            "marker": {
             "line": {
              "color": "#E5ECF6",
              "width": 0.5
             }
            },
            "type": "barpolar"
           }
          ],
          "carpet": [
           {
            "aaxis": {
             "endlinecolor": "#2a3f5f",
             "gridcolor": "white",
             "linecolor": "white",
             "minorgridcolor": "white",
             "startlinecolor": "#2a3f5f"
            },
            "baxis": {
             "endlinecolor": "#2a3f5f",
             "gridcolor": "white",
             "linecolor": "white",
             "minorgridcolor": "white",
             "startlinecolor": "#2a3f5f"
            },
            "type": "carpet"
           }
          ],
          "choropleth": [
           {
            "colorbar": {
             "outlinewidth": 0,
             "ticks": ""
            },
            "type": "choropleth"
           }
          ],
          "contour": [
           {
            "colorbar": {
             "outlinewidth": 0,
             "ticks": ""
            },
            "colorscale": [
             [
              0,
              "#0d0887"
             ],
             [
              0.1111111111111111,
              "#46039f"
             ],
             [
              0.2222222222222222,
              "#7201a8"
             ],
             [
              0.3333333333333333,
              "#9c179e"
             ],
             [
              0.4444444444444444,
              "#bd3786"
             ],
             [
              0.5555555555555556,
              "#d8576b"
             ],
             [
              0.6666666666666666,
              "#ed7953"
             ],
             [
              0.7777777777777778,
              "#fb9f3a"
             ],
             [
              0.8888888888888888,
              "#fdca26"
             ],
             [
              1,
              "#f0f921"
             ]
            ],
            "type": "contour"
           }
          ],
          "contourcarpet": [
           {
            "colorbar": {
             "outlinewidth": 0,
             "ticks": ""
            },
            "type": "contourcarpet"
           }
          ],
          "heatmap": [
           {
            "colorbar": {
             "outlinewidth": 0,
             "ticks": ""
            },
            "colorscale": [
             [
              0,
              "#0d0887"
             ],
             [
              0.1111111111111111,
              "#46039f"
             ],
             [
              0.2222222222222222,
              "#7201a8"
             ],
             [
              0.3333333333333333,
              "#9c179e"
             ],
             [
              0.4444444444444444,
              "#bd3786"
             ],
             [
              0.5555555555555556,
              "#d8576b"
             ],
             [
              0.6666666666666666,
              "#ed7953"
             ],
             [
              0.7777777777777778,
              "#fb9f3a"
             ],
             [
              0.8888888888888888,
              "#fdca26"
             ],
             [
              1,
              "#f0f921"
             ]
            ],
            "type": "heatmap"
           }
          ],
          "heatmapgl": [
           {
            "colorbar": {
             "outlinewidth": 0,
             "ticks": ""
            },
            "colorscale": [
             [
              0,
              "#0d0887"
             ],
             [
              0.1111111111111111,
              "#46039f"
             ],
             [
              0.2222222222222222,
              "#7201a8"
             ],
             [
              0.3333333333333333,
              "#9c179e"
             ],
             [
              0.4444444444444444,
              "#bd3786"
             ],
             [
              0.5555555555555556,
              "#d8576b"
             ],
             [
              0.6666666666666666,
              "#ed7953"
             ],
             [
              0.7777777777777778,
              "#fb9f3a"
             ],
             [
              0.8888888888888888,
              "#fdca26"
             ],
             [
              1,
              "#f0f921"
             ]
            ],
            "type": "heatmapgl"
           }
          ],
          "histogram": [
           {
            "marker": {
             "colorbar": {
              "outlinewidth": 0,
              "ticks": ""
             }
            },
            "type": "histogram"
           }
          ],
          "histogram2d": [
           {
            "colorbar": {
             "outlinewidth": 0,
             "ticks": ""
            },
            "colorscale": [
             [
              0,
              "#0d0887"
             ],
             [
              0.1111111111111111,
              "#46039f"
             ],
             [
              0.2222222222222222,
              "#7201a8"
             ],
             [
              0.3333333333333333,
              "#9c179e"
             ],
             [
              0.4444444444444444,
              "#bd3786"
             ],
             [
              0.5555555555555556,
              "#d8576b"
             ],
             [
              0.6666666666666666,
              "#ed7953"
             ],
             [
              0.7777777777777778,
              "#fb9f3a"
             ],
             [
              0.8888888888888888,
              "#fdca26"
             ],
             [
              1,
              "#f0f921"
             ]
            ],
            "type": "histogram2d"
           }
          ],
          "histogram2dcontour": [
           {
            "colorbar": {
             "outlinewidth": 0,
             "ticks": ""
            },
            "colorscale": [
             [
              0,
              "#0d0887"
             ],
             [
              0.1111111111111111,
              "#46039f"
             ],
             [
              0.2222222222222222,
              "#7201a8"
             ],
             [
              0.3333333333333333,
              "#9c179e"
             ],
             [
              0.4444444444444444,
              "#bd3786"
             ],
             [
              0.5555555555555556,
              "#d8576b"
             ],
             [
              0.6666666666666666,
              "#ed7953"
             ],
             [
              0.7777777777777778,
              "#fb9f3a"
             ],
             [
              0.8888888888888888,
              "#fdca26"
             ],
             [
              1,
              "#f0f921"
             ]
            ],
            "type": "histogram2dcontour"
           }
          ],
          "mesh3d": [
           {
            "colorbar": {
             "outlinewidth": 0,
             "ticks": ""
            },
            "type": "mesh3d"
           }
          ],
          "parcoords": [
           {
            "line": {
             "colorbar": {
              "outlinewidth": 0,
              "ticks": ""
             }
            },
            "type": "parcoords"
           }
          ],
          "pie": [
           {
            "automargin": true,
            "type": "pie"
           }
          ],
          "scatter": [
           {
            "marker": {
             "colorbar": {
              "outlinewidth": 0,
              "ticks": ""
             }
            },
            "type": "scatter"
           }
          ],
          "scatter3d": [
           {
            "line": {
             "colorbar": {
              "outlinewidth": 0,
              "ticks": ""
             }
            },
            "marker": {
             "colorbar": {
              "outlinewidth": 0,
              "ticks": ""
             }
            },
            "type": "scatter3d"
           }
          ],
          "scattercarpet": [
           {
            "marker": {
             "colorbar": {
              "outlinewidth": 0,
              "ticks": ""
             }
            },
            "type": "scattercarpet"
           }
          ],
          "scattergeo": [
           {
            "marker": {
             "colorbar": {
              "outlinewidth": 0,
              "ticks": ""
             }
            },
            "type": "scattergeo"
           }
          ],
          "scattergl": [
           {
            "marker": {
             "colorbar": {
              "outlinewidth": 0,
              "ticks": ""
             }
            },
            "type": "scattergl"
           }
          ],
          "scattermapbox": [
           {
            "marker": {
             "colorbar": {
              "outlinewidth": 0,
              "ticks": ""
             }
            },
            "type": "scattermapbox"
           }
          ],
          "scatterpolar": [
           {
            "marker": {
             "colorbar": {
              "outlinewidth": 0,
              "ticks": ""
             }
            },
            "type": "scatterpolar"
           }
          ],
          "scatterpolargl": [
           {
            "marker": {
             "colorbar": {
              "outlinewidth": 0,
              "ticks": ""
             }
            },
            "type": "scatterpolargl"
           }
          ],
          "scatterternary": [
           {
            "marker": {
             "colorbar": {
              "outlinewidth": 0,
              "ticks": ""
             }
            },
            "type": "scatterternary"
           }
          ],
          "surface": [
           {
            "colorbar": {
             "outlinewidth": 0,
             "ticks": ""
            },
            "colorscale": [
             [
              0,
              "#0d0887"
             ],
             [
              0.1111111111111111,
              "#46039f"
             ],
             [
              0.2222222222222222,
              "#7201a8"
             ],
             [
              0.3333333333333333,
              "#9c179e"
             ],
             [
              0.4444444444444444,
              "#bd3786"
             ],
             [
              0.5555555555555556,
              "#d8576b"
             ],
             [
              0.6666666666666666,
              "#ed7953"
             ],
             [
              0.7777777777777778,
              "#fb9f3a"
             ],
             [
              0.8888888888888888,
              "#fdca26"
             ],
             [
              1,
              "#f0f921"
             ]
            ],
            "type": "surface"
           }
          ],
          "table": [
           {
            "cells": {
             "fill": {
              "color": "#EBF0F8"
             },
             "line": {
              "color": "white"
             }
            },
            "header": {
             "fill": {
              "color": "#C8D4E3"
             },
             "line": {
              "color": "white"
             }
            },
            "type": "table"
           }
          ]
         },
         "layout": {
          "annotationdefaults": {
           "arrowcolor": "#2a3f5f",
           "arrowhead": 0,
           "arrowwidth": 1
          },
          "coloraxis": {
           "colorbar": {
            "outlinewidth": 0,
            "ticks": ""
           }
          },
          "colorscale": {
           "diverging": [
            [
             0,
             "#8e0152"
            ],
            [
             0.1,
             "#c51b7d"
            ],
            [
             0.2,
             "#de77ae"
            ],
            [
             0.3,
             "#f1b6da"
            ],
            [
             0.4,
             "#fde0ef"
            ],
            [
             0.5,
             "#f7f7f7"
            ],
            [
             0.6,
             "#e6f5d0"
            ],
            [
             0.7,
             "#b8e186"
            ],
            [
             0.8,
             "#7fbc41"
            ],
            [
             0.9,
             "#4d9221"
            ],
            [
             1,
             "#276419"
            ]
           ],
           "sequential": [
            [
             0,
             "#0d0887"
            ],
            [
             0.1111111111111111,
             "#46039f"
            ],
            [
             0.2222222222222222,
             "#7201a8"
            ],
            [
             0.3333333333333333,
             "#9c179e"
            ],
            [
             0.4444444444444444,
             "#bd3786"
            ],
            [
             0.5555555555555556,
             "#d8576b"
            ],
            [
             0.6666666666666666,
             "#ed7953"
            ],
            [
             0.7777777777777778,
             "#fb9f3a"
            ],
            [
             0.8888888888888888,
             "#fdca26"
            ],
            [
             1,
             "#f0f921"
            ]
           ],
           "sequentialminus": [
            [
             0,
             "#0d0887"
            ],
            [
             0.1111111111111111,
             "#46039f"
            ],
            [
             0.2222222222222222,
             "#7201a8"
            ],
            [
             0.3333333333333333,
             "#9c179e"
            ],
            [
             0.4444444444444444,
             "#bd3786"
            ],
            [
             0.5555555555555556,
             "#d8576b"
            ],
            [
             0.6666666666666666,
             "#ed7953"
            ],
            [
             0.7777777777777778,
             "#fb9f3a"
            ],
            [
             0.8888888888888888,
             "#fdca26"
            ],
            [
             1,
             "#f0f921"
            ]
           ]
          },
          "colorway": [
           "#636efa",
           "#EF553B",
           "#00cc96",
           "#ab63fa",
           "#FFA15A",
           "#19d3f3",
           "#FF6692",
           "#B6E880",
           "#FF97FF",
           "#FECB52"
          ],
          "font": {
           "color": "#2a3f5f"
          },
          "geo": {
           "bgcolor": "white",
           "lakecolor": "white",
           "landcolor": "#E5ECF6",
           "showlakes": true,
           "showland": true,
           "subunitcolor": "white"
          },
          "hoverlabel": {
           "align": "left"
          },
          "hovermode": "closest",
          "mapbox": {
           "style": "light"
          },
          "paper_bgcolor": "white",
          "plot_bgcolor": "#E5ECF6",
          "polar": {
           "angularaxis": {
            "gridcolor": "white",
            "linecolor": "white",
            "ticks": ""
           },
           "bgcolor": "#E5ECF6",
           "radialaxis": {
            "gridcolor": "white",
            "linecolor": "white",
            "ticks": ""
           }
          },
          "scene": {
           "xaxis": {
            "backgroundcolor": "#E5ECF6",
            "gridcolor": "white",
            "gridwidth": 2,
            "linecolor": "white",
            "showbackground": true,
            "ticks": "",
            "zerolinecolor": "white"
           },
           "yaxis": {
            "backgroundcolor": "#E5ECF6",
            "gridcolor": "white",
            "gridwidth": 2,
            "linecolor": "white",
            "showbackground": true,
            "ticks": "",
            "zerolinecolor": "white"
           },
           "zaxis": {
            "backgroundcolor": "#E5ECF6",
            "gridcolor": "white",
            "gridwidth": 2,
            "linecolor": "white",
            "showbackground": true,
            "ticks": "",
            "zerolinecolor": "white"
           }
          },
          "shapedefaults": {
           "line": {
            "color": "#2a3f5f"
           }
          },
          "ternary": {
           "aaxis": {
            "gridcolor": "white",
            "linecolor": "white",
            "ticks": ""
           },
           "baxis": {
            "gridcolor": "white",
            "linecolor": "white",
            "ticks": ""
           },
           "bgcolor": "#E5ECF6",
           "caxis": {
            "gridcolor": "white",
            "linecolor": "white",
            "ticks": ""
           }
          },
          "title": {
           "x": 0.05
          },
          "xaxis": {
           "automargin": true,
           "gridcolor": "white",
           "linecolor": "white",
           "ticks": "",
           "title": {
            "standoff": 15
           },
           "zerolinecolor": "white",
           "zerolinewidth": 2
          },
          "yaxis": {
           "automargin": true,
           "gridcolor": "white",
           "linecolor": "white",
           "ticks": "",
           "title": {
            "standoff": 15
           },
           "zerolinecolor": "white",
           "zerolinewidth": 2
          }
         }
        },
        "title": {
         "text": "3d TSNE Plot for Clusters"
        },
        "width": 900
       }
      },
      "text/html": [
       "<div>\n",
       "        \n",
       "        \n",
       "            <div id=\"aa088272-a0a7-4bc3-a0b3-bf1344402212\" class=\"plotly-graph-div\" style=\"height:800px; width:900px;\"></div>\n",
       "            <script type=\"text/javascript\">\n",
       "                require([\"plotly\"], function(Plotly) {\n",
       "                    window.PLOTLYENV=window.PLOTLYENV || {};\n",
       "                    \n",
       "                if (document.getElementById(\"aa088272-a0a7-4bc3-a0b3-bf1344402212\")) {\n",
       "                    Plotly.newPlot(\n",
       "                        'aa088272-a0a7-4bc3-a0b3-bf1344402212',\n",
       "                        [{\"customdata\": [[\"Honduras\"], [\"Dominica\"], [\"Djibouti\"], [\"Samoa\"], [\"San Marino\"], [\"Sao Tome and Principe\"], [\"Colombia\"], [\"Chile\"], [\"Cabo Verde\"], [\"Solomon Islands\"], [\"Bulgaria\"], [\"South Africa\"], [\"Brazil\"], [\"Botswana\"], [\"Bolivia\"], [\"Bhutan\"], [\"Belarus\"], [\"Barbados\"], [\"St. Lucia\"], [\"St. Vincent and the Grenadines\"], [\"Russian Federation\"], [\"Suriname\"], [\"Romania\"], [\"Estonia\"], [\"Moldova\"], [\"Malawi\"], [\"Monaco\"], [\"Macedonia, FYR\"], [\"Lithuania\"], [\"Lebanon\"], [\"Latvia\"], [\"Montenegro\"], [\"Mozambique\"], [\"Namibia\"], [\"Jordan\"], [\"Israel\"], [\"Nicaragua\"], [\"Hungary\"], [\"Guyana\"], [\"Grenada\"], [\"Panama\"], [\"Papua New Guinea\"], [\"Poland\"], [\"El Salvador\"], [\"Argentina\"], [\"Seychelles\"], [\"Swaziland\"], [\"Small states\"], [\"Tonga\"], [\"Vanuatu\"], [\"Pacific island small states\"], [\"Other small states\"], [\"Tunisia\"], [\"East Asia & Pacific\"], [\"Turkey\"], [\"Ukraine\"], [\"Antigua and Barbuda\"], [\"Europe & Central Asia (IDA & IBRD countries)\"], [\"Latin America & the Caribbean (IDA & IBRD countries)\"], [\"Latin America & Caribbean (excluding high income)\"], [\"Latin America & Caribbean\"], [\"Europe & Central Asia (excluding high income)\"], [\"Thailand\"], [\"Uruguay\"], [\"Central Europe and the Baltics\"], [\"Algeria\"], [\"Andorra\"]], \"hovertemplate\": \"Cluster=Cluster 0<br>0=%{x}<br>1=%{y}<br>2=%{z}<br>Feature=%{customdata[0]}<extra></extra>\", \"legendgroup\": \"Cluster 0\", \"marker\": {\"color\": \"#636efa\", \"opacity\": 0.7, \"symbol\": \"circle\"}, \"mode\": \"markers\", \"name\": \"Cluster 0\", \"scene\": \"scene\", \"showlegend\": true, \"type\": \"scatter3d\", \"x\": [-54.514930725097656, 41.200164794921875, -35.60541534423828, 52.02018737792969, 61.6292724609375, -108.61302947998047, -71.6905517578125, 69.82020568847656, 2.9113893508911133, -149.00181579589844, -26.490402221679688, -62.20393753051758, -66.62078857421875, -84.7964859008789, -60.19371795654297, -133.4934844970703, -15.043511390686035, -51.274757385253906, -0.5193581581115723, 51.49176025390625, 39.02735900878906, 8.919953346252441, 59.493839263916016, 21.753358840942383, -99.38549041748047, -73.61353302001953, -60.299869537353516, -37.196632385253906, 39.01942443847656, 1.122688889503479, -25.66119384765625, -27.291728973388672, 90.59162139892578, 39.00184631347656, 1.0209076404571533, 4.161117076873779, 81.99337768554688, -62.90184783935547, -103.76394653320312, 112.48535919189453, 7.85712194442749, 50.92815017700195, 42.80362319946289, -37.98423767089844, -95.52204132080078, 4.755452632904053, 47.28776931762695, -111.6592788696289, -57.30259323120117, -13.97006893157959, -7.385033130645752, -122.23499298095703, -45.8507194519043, 33.580204010009766, 85.70339965820312, 85.20353698730469, -48.63250732421875, -37.029605865478516, 74.16984558105469, 33.99113082885742, 17.45694351196289, -40.34823989868164, 127.41363525390625, -56.44076156616211, 1.1963034868240356, -17.675819396972656, -109.03898620605469], \"y\": [20.013704299926758, -42.63228988647461, -45.67970657348633, -49.476070404052734, -95.01020812988281, 48.19043731689453, -10.734064102172852, -47.21592330932617, -135.86378479003906, -32.526432037353516, -2.554169178009033, 30.81361961364746, 73.15715026855469, 25.296411514282227, 4.758033275604248, -30.010330200195312, -92.29234313964844, 23.738147735595703, -54.93592834472656, -145.3407440185547, -11.943456649780273, -16.81104850769043, 98.88428497314453, -81.63116455078125, 30.496875762939453, -44.64771270751953, 57.86308670043945, -17.820138931274414, -92.89261627197266, 6.396016597747803, -29.833847045898438, -5.168951988220215, -37.159908294677734, -104.12970733642578, -58.5325813293457, -114.31039428710938, -73.4244155883789, -5.002730846405029, -49.82362365722656, -48.16032028198242, -119.3364028930664, -114.16008758544922, -74.6877212524414, 23.788305282592773, -27.105215072631836, -28.087697982788086, -90.2530746459961, -4.121406078338623, -10.730372428894043, 36.2365837097168, -8.326059341430664, -32.90532684326172, 40.770423889160156, -109.95670318603516, -109.28902435302734, -84.61644744873047, -112.85171508789062, 53.46544647216797, 8.45642375946045, -50.29498291015625, -18.628129959106445, 43.3729362487793, -98.96312713623047, -68.4854736328125, -92.65069580078125, 36.21078109741211, 44.09168243408203], \"z\": [34.53225326538086, 23.758468627929688, 26.68569564819336, -32.81320571899414, 25.832683563232422, 22.919157028198242, 5.87673807144165, 58.109764099121094, 57.87172317504883, -12.938937187194824, 47.29804992675781, -63.49889373779297, -29.541452407836914, 62.26243209838867, 98.55332946777344, 92.75494384765625, 38.802520751953125, -99.47937774658203, 61.22608947753906, 24.864383697509766, 15.727375984191895, -11.826140403747559, -131.37933349609375, 28.297636032104492, -18.841514587402344, 38.212196350097656, 6.114089488983154, -6.935775279998779, -31.170015335083008, 20.228364944458008, 79.36283111572266, -42.32292556762695, 12.392538070678711, 48.50631332397461, -7.590834140777588, 16.52091407775879, 99.12434387207031, -33.30851745605469, 112.75639343261719, -29.756093978881836, -34.58226013183594, 99.69298553466797, -3.2290115356445312, 0.4435168504714966, 84.6821060180664, 22.928834915161133, -99.97286987304688, 34.805912017822266, 62.49614715576172, 62.638431549072266, -128.53932189941406, 39.79813766479492, 86.73697662353516, -1.2756315469741821, -61.156673431396484, -11.61847972869873, 62.76210403442383, -76.36634826660156, -125.71061706542969, 70.04669189453125, 61.704498291015625, -36.82542037963867, 11.439531326293945, 49.553470611572266, -10.616267204284668, 111.64794158935547, -64.33145904541016]}, {\"customdata\": [[\"Micronesia, Fed. Sts.\"], [\"Kiribati\"], [\"Finland\"], [\"France\"], [\"United Kingdom\"], [\"Germany\"], [\"Malta\"], [\"Greece\"], [\"Portugal\"], [\"Austria\"], [\"European Union\"], [\"Japan\"], [\"Australia\"], [\"Norway\"], [\"Netherlands\"], [\"United States\"], [\"Iceland\"], [\"Italy\"], [\"High income\"], [\"New Zealand\"], [\"Palau\"], [\"World\"], [\"Sweden\"], [\"Cuba\"], [\"Switzerland\"], [\"Slovak Republic\"], [\"Post-demographic dividend\"], [\"Serbia\"], [\"Spain\"], [\"Lesotho\"], [\"Europe & Central Asia\"], [\"Maldives\"], [\"Costa Rica\"], [\"Canada\"], [\"OECD members\"], [\"Croatia\"], [\"Ireland\"], [\"North America\"], [\"Czech Republic\"], [\"Denmark\"], [\"Euro area\"], [\"Belgium\"], [\"Slovenia\"], [\"Bosnia and Herzegovina\"], [\"Luxembourg\"]], \"hovertemplate\": \"Cluster=Cluster 1<br>0=%{x}<br>1=%{y}<br>2=%{z}<br>Feature=%{customdata[0]}<extra></extra>\", \"legendgroup\": \"Cluster 1\", \"marker\": {\"color\": \"#EF553B\", \"opacity\": 0.7, \"symbol\": \"circle\"}, \"mode\": \"markers\", \"name\": \"Cluster 1\", \"scene\": \"scene\", \"showlegend\": true, \"type\": \"scatter3d\", \"x\": [-77.01698303222656, -34.81437683105469, -117.95072937011719, -61.945648193359375, 129.91297912597656, -27.835180282592773, 12.9553861618042, -5.746758937835693, -91.21756744384766, -38.8875732421875, -72.16942596435547, -33.7183837890625, -84.302978515625, -38.436275482177734, -39.91769790649414, -40.0877685546875, -29.591657638549805, -100.76693725585938, 141.40109252929688, -99.35331726074219, -94.65715026855469, -96.26123046875, -69.67498016357422, 7.784119606018066, -71.42476654052734, -102.04685974121094, -68.72384643554688, -16.829702377319336, -55.760101318359375, -108.33477020263672, -100.34049987792969, -119.6001968383789, -116.76044464111328, -66.93895721435547, -70.66824340820312, -77.06583404541016, -31.784276962280273, -98.66329193115234, -72.01728057861328, -6.100942611694336, -59.541709899902344, -70.81144714355469, -48.31180191040039, -37.26641082763672, -119.1099624633789], \"y\": [-154.53994750976562, -164.69232177734375, -57.044471740722656, -150.582275390625, 91.30694580078125, -135.57595825195312, -71.45341491699219, -44.80300521850586, -73.22410583496094, -137.17626953125, -78.82810974121094, -88.51530456542969, -99.24139404296875, -102.99064636230469, -120.43070983886719, -61.93454360961914, -23.484790802001953, -83.0427474975586, 49.0291862487793, -16.03681182861328, -117.08245849609375, -40.308067321777344, -35.121089935302734, -121.858642578125, -111.83472442626953, -9.126380920410156, -106.4749755859375, -79.437744140625, -80.06013488769531, 45.405635833740234, -58.40599822998047, 0.5746256709098816, -101.9568862915039, -41.805118560791016, -70.6988296508789, -41.18659591674805, -51.5661735534668, -94.99271392822266, -63.63969421386719, -87.81426239013672, -105.79377746582031, -33.43077850341797, -50.143402099609375, -80.85430908203125, -69.16474151611328], \"z\": [-35.05799865722656, -45.5059928894043, -66.52572631835938, -78.95254516601562, 65.13925170898438, -74.31249237060547, -62.9871826171875, -48.02372360229492, -50.244895935058594, -110.788818359375, -126.3424072265625, -81.79603576660156, -26.493040084838867, -136.54425048828125, -31.233182907104492, -107.72952270507812, -94.5848617553711, 5.987100124359131, 64.64224243164062, -71.79610443115234, -126.5912094116211, -12.055744171142578, 150.17889404296875, -94.73028564453125, 4.740137100219727, -25.063304901123047, -68.88631439208984, -42.38462829589844, -39.9374885559082, -111.38770294189453, -105.79698944091797, -107.13256072998047, -49.3154411315918, -128.75772094726562, -84.51923370361328, -45.05519485473633, -24.30488395690918, -90.40666198730469, -13.315034866333008, -118.2513427734375, -105.22625732421875, -93.29899597167969, -63.382850646972656, 2.0322132110595703, -26.223876953125]}, {\"customdata\": [[\"Vietnam\"], [\"Morocco\"], [\"Nepal\"], [\"Myanmar\"], [\"Venezuela, RB\"], [\"Mongolia\"], [\"Uzbekistan\"], [\"United Arab Emirates\"], [\"Nigeria\"], [\"Sudan\"], [\"St. Kitts and Nevis\"], [\"Sri Lanka\"], [\"Syrian Arab Republic\"], [\"Tajikistan\"], [\"Tanzania\"], [\"Togo\"], [\"Singapore\"], [\"Sierra Leone\"], [\"Mexico\"], [\"Niger\"], [\"Senegal\"], [\"Trinidad and Tobago\"], [\"Rwanda\"], [\"Turkmenistan\"], [\"Uganda\"], [\"Qatar\"], [\"Philippines\"], [\"Peru\"], [\"Paraguay\"], [\"Pakistan\"], [\"Oman\"], [\"Saudi Arabia\"], [\"Mauritius\"], [\"Arab World\"], [\"Chad\"], [\"Upper middle income\"], [\"Albania\"], [\"Angola\"], [\"Armenia\"], [\"Azerbaijan\"], [\"Bahamas, The\"], [\"Bahrain\"], [\"Bangladesh\"], [\"Belize\"], [\"Benin\"], [\"Brunei Darussalam\"], [\"Burkina Faso\"], [\"Burundi\"], [\"Cambodia\"], [\"Cameroon\"], [\"Sub-Saharan Africa (IDA & IBRD countries)\"], [\"Sub-Saharan Africa (excluding high income)\"], [\"Sub-Saharan Africa\"], [\"South Asia (IDA & IBRD)\"], [\"Caribbean small states\"], [\"Early-demographic dividend\"], [\"East Asia & Pacific (excluding high income)\"], [\"East Asia & Pacific (IDA & IBRD countries)\"], [\"Heavily indebted poor countries (HIPC)\"], [\"Late-demographic dividend\"], [\"Least developed countries: UN classification\"], [\"Central African Republic\"], [\"Low & middle income\"], [\"Lower middle income\"], [\"Middle East & North Africa\"], [\"Middle East & North Africa (excluding high income)\"], [\"Middle East & North Africa (IDA & IBRD countries)\"], [\"Middle income\"], [\"Pre-demographic dividend\"], [\"South Asia\"], [\"Low income\"], [\"Mauritania\"], [\"Zambia\"], [\"Comoros\"], [\"Yemen, Rep.\"], [\"India\"], [\"Indonesia\"], [\"Iran, Islamic Rep.\"], [\"Jamaica\"], [\"Kazakhstan\"], [\"Kenya\"], [\"Korea, Rep.\"], [\"Kuwait\"], [\"Kyrgyz Republic\"], [\"Lao PDR\"], [\"Libya\"], [\"Madagascar\"], [\"Malaysia\"], [\"Mali\"], [\"China\"], [\"Guinea-Bissau\"], [\"Haiti\"], [\"Guatemala\"], [\"Congo, Dem. Rep.\"], [\"Congo, Rep.\"], [\"Cote d'Ivoire\"], [\"Cyprus\"], [\"Dominican Republic\"], [\"Ecuador\"], [\"Egypt, Arab Rep.\"], [\"Equatorial Guinea\"], [\"Eritrea\"], [\"Ethiopia\"], [\"Fiji\"], [\"Gabon\"], [\"Gambia, The\"], [\"Georgia\"], [\"Ghana\"], [\"Guinea\"]], \"hovertemplate\": \"Cluster=Cluster 2<br>0=%{x}<br>1=%{y}<br>2=%{z}<br>Feature=%{customdata[0]}<extra></extra>\", \"legendgroup\": \"Cluster 2\", \"marker\": {\"color\": \"#00cc96\", \"opacity\": 0.7, \"symbol\": \"circle\"}, \"mode\": \"markers\", \"name\": \"Cluster 2\", \"scene\": \"scene\", \"showlegend\": true, \"type\": \"scatter3d\", \"x\": [165.52488708496094, 28.953710556030273, 48.55284118652344, 118.12539672851562, 88.21009826660156, 121.0407943725586, 80.43162536621094, 9.106827735900879, -7.258913516998291, 60.91086196899414, 57.98972702026367, -88.56523895263672, 93.69712829589844, -120.74049377441406, -25.19600486755371, 80.21247100830078, -142.37527465820312, 120.97193908691406, 78.27397155761719, -29.339046478271484, -1.292059302330017, 27.124347686767578, 86.15572357177734, 86.1968994140625, 51.931922912597656, 98.33845520019531, -21.50572967529297, 60.9118766784668, -3.0399277210235596, 88.57759857177734, 85.93739318847656, 98.31063842773438, -131.43917846679688, -36.05065155029297, -120.8736343383789, 14.623124122619629, 55.240760803222656, 103.98700714111328, -108.31179809570312, -155.14926147460938, -29.196372985839844, -158.62063598632812, 81.92512512207031, -19.919803619384766, 75.59571075439453, 118.44386291503906, -55.76297378540039, -90.05825805664062, 62.59870910644531, 100.69937133789062, 22.42119598388672, -80.10823822021484, 43.30916976928711, 63.002437591552734, 14.905265808105469, 28.640901565551758, -19.09986114501953, 139.35597229003906, 4.101405620574951, 44.600032806396484, 22.063358306884766, 50.39496994018555, 52.60954284667969, 94.08769226074219, 87.39356231689453, -15.275618553161621, -1.3899245262145996, 40.09558868408203, 101.9990463256836, 37.38072967529297, 50.05186080932617, 61.688777923583984, 128.4500274658203, 30.05595588684082, 70.74815368652344, 158.05152893066406, 96.01180267333984, 34.25953674316406, 71.97003173828125, -47.93724822998047, 12.202717781066895, -53.9240608215332, 66.84615325927734, -62.87268829345703, 135.77584838867188, -9.939355850219727, 80.8583984375, 21.577117919921875, 30.577571868896484, 22.77103614807129, 27.00443458557129, 117.71772003173828, 24.970701217651367, 123.65411376953125, 131.46607971191406, 9.632973670959473, -22.549354553222656, -5.563814163208008, -23.09260368347168, 92.33936309814453, -75.11148834228516, 19.66534996032715, 19.33794593811035, 1.6773700714111328, 23.67589569091797, -69.01602935791016, 43.08330535888672, -73.12128448486328, 60.98292922973633], \"y\": [23.347360610961914, 135.08718872070312, 104.85832977294922, 146.3326416015625, 70.6021499633789, -15.252081871032715, -57.175479888916016, 96.4166259765625, -45.7392578125, 135.2671356201172, -24.078393936157227, 73.16403198242188, 59.42128372192383, 31.947216033935547, 93.865234375, 134.42709350585938, 34.35619354248047, 5.963825225830078, 26.005340576171875, 135.6354217529297, -103.8904800415039, 30.5844783782959, 39.92638397216797, 45.92605972290039, 64.30714416503906, 31.47559928894043, -0.4620949327945709, -7.879825592041016, 65.56436920166016, 162.2924346923828, -16.724599838256836, 2.029379367828369, 152.0074920654297, -60.814964294433594, 85.67050170898438, -15.493451118469238, 30.774415969848633, -39.23674774169922, 97.47190856933594, -75.53016662597656, 63.43278884887695, -22.420055389404297, 163.01828002929688, 50.329383850097656, 68.55003356933594, -50.94734191894531, 102.27275848388672, 129.1695098876953, 120.46908569335938, -124.8203125, 6.033935070037842, -79.42107391357422, 46.1046257019043, 136.9156494140625, -52.45201873779297, 23.50170135498047, 112.38658905029297, 52.4927978515625, 74.75553131103516, -34.659629821777344, 114.66539764404297, 87.48026275634766, 6.6693878173828125, -138.5494384765625, -16.48210334777832, 93.00990295410156, 36.44072723388672, 24.92801284790039, 99.22440338134766, -39.42949295043945, 81.8938980102539, 50.705291748046875, -38.291358947753906, 36.56224822998047, 76.76948547363281, -7.109706878662109, 124.7998046875, 62.72688293457031, -3.7649223804473877, 57.68119430541992, 134.27012634277344, -115.26852416992188, 10.811695098876953, 69.27619934082031, 100.29027557373047, 161.01144409179688, 31.389955520629883, 98.20513916015625, -9.256759643554688, 128.46653747558594, 152.60707092285156, 92.87648010253906, 65.23042297363281, 143.81837463378906, 32.98118209838867, 23.492786407470703, 77.57083892822266, 120.19808959960938, 133.4278106689453, 71.23906707763672, 101.24974822998047, 166.56246948242188, 51.8530387878418, 42.62065124511719, 98.02177429199219, 117.7562026977539, 169.12652587890625, 127.91219329833984, 107.13032531738281], \"z\": [-11.59907054901123, 4.408452987670898, 81.87559509277344, 11.028149604797363, -10.392598152160645, -22.97425079345703, -74.68269348144531, 58.274635314941406, 155.50787353515625, 27.14043426513672, -89.93993377685547, 102.54207611083984, -51.48328399658203, 97.296142578125, -5.251582622528076, 63.073974609375, 61.530479431152344, -73.40684509277344, 85.94891357421875, -9.674997329711914, 101.30361938476562, -34.16029357910156, 133.25357055664062, -92.93386840820312, 8.305984497070312, -31.692941665649414, 142.2208251953125, 70.13565063476562, 120.37457275390625, -48.63481521606445, -61.69993209838867, 53.81607437133789, -52.00331497192383, 110.68751525878906, 59.13264846801758, 101.5733413696289, 52.3495979309082, -121.01412963867188, -9.479593276977539, 26.75726318359375, 36.02986145019531, -68.0774917602539, -9.12271785736084, -134.63232421875, 67.28876495361328, 53.944190979003906, 30.673215866088867, 56.2462158203125, -79.8084945678711, 55.227134704589844, -81.72286224365234, 84.8329849243164, 105.50122833251953, -33.76664352416992, 104.9324951171875, 76.61824798583984, -43.71487808227539, -24.366729736328125, -31.3070011138916, 108.94072723388672, -28.70147705078125, -36.497962951660156, 107.91503143310547, -14.309417724609375, 92.00916290283203, -86.58282470703125, -55.21293640136719, 1.5439709424972534, -90.1675796508789, -137.258056640625, 40.27768325805664, -42.32261657714844, 9.9871187210083, -123.09622192382812, -71.62140655517578, 40.97850036621094, -15.827816009521484, 69.16920471191406, -14.631552696228027, 149.84986877441406, 99.05870819091797, 110.1234130859375, -70.88159942626953, 58.018821716308594, -6.815356254577637, 47.905372619628906, 20.714487075805664, -61.43519973754883, -47.342472076416016, 57.571556091308594, -68.71309661865234, -49.41930389404297, -74.45890045166016, -38.86201095581055, 17.903451919555664, 154.41192626953125, 80.37740325927734, 30.12278938293457, 80.2887954711914, 26.580934524536133, -86.81275177001953, -27.273059844970703, 34.907981872558594, -0.9210973978042603, 8.639437675476074, 81.97888946533203, 20.064739227294922, 14.101762771606445, -0.39261502027511597]}, {\"customdata\": [[\"Nauru\"], [\"Tuvalu\"], [\"Marshall Islands\"]], \"hovertemplate\": \"Cluster=Cluster 3<br>0=%{x}<br>1=%{y}<br>2=%{z}<br>Feature=%{customdata[0]}<extra></extra>\", \"legendgroup\": \"Cluster 3\", \"marker\": {\"color\": \"#ab63fa\", \"opacity\": 0.7, \"symbol\": \"circle\"}, \"mode\": \"markers\", \"name\": \"Cluster 3\", \"scene\": \"scene\", \"showlegend\": true, \"type\": \"scatter3d\", \"x\": [-26.804819107055664, -155.14239501953125, -58.9946403503418], \"y\": [-160.0916748046875, 25.54724884033203, -181.54586791992188], \"z\": [-6.146026134490967, -45.9717903137207, -1.1397674083709717]}],\n",
       "                        {\"height\": 800, \"legend\": {\"title\": {\"text\": \"Cluster\"}, \"tracegroupgap\": 0}, \"scene\": {\"domain\": {\"x\": [0.0, 1.0], \"y\": [0.0, 1.0]}, \"xaxis\": {\"title\": {\"text\": \"0\"}}, \"yaxis\": {\"title\": {\"text\": \"1\"}}, \"zaxis\": {\"title\": {\"text\": \"2\"}}}, \"template\": {\"data\": {\"bar\": [{\"error_x\": {\"color\": \"#2a3f5f\"}, \"error_y\": {\"color\": \"#2a3f5f\"}, \"marker\": {\"line\": {\"color\": \"#E5ECF6\", \"width\": 0.5}}, \"type\": \"bar\"}], \"barpolar\": [{\"marker\": {\"line\": {\"color\": \"#E5ECF6\", \"width\": 0.5}}, \"type\": \"barpolar\"}], \"carpet\": [{\"aaxis\": {\"endlinecolor\": \"#2a3f5f\", \"gridcolor\": \"white\", \"linecolor\": \"white\", \"minorgridcolor\": \"white\", \"startlinecolor\": \"#2a3f5f\"}, \"baxis\": {\"endlinecolor\": \"#2a3f5f\", \"gridcolor\": \"white\", \"linecolor\": \"white\", \"minorgridcolor\": \"white\", \"startlinecolor\": \"#2a3f5f\"}, \"type\": \"carpet\"}], \"choropleth\": [{\"colorbar\": {\"outlinewidth\": 0, \"ticks\": \"\"}, \"type\": \"choropleth\"}], \"contour\": [{\"colorbar\": {\"outlinewidth\": 0, \"ticks\": \"\"}, \"colorscale\": [[0.0, \"#0d0887\"], [0.1111111111111111, \"#46039f\"], [0.2222222222222222, \"#7201a8\"], [0.3333333333333333, \"#9c179e\"], [0.4444444444444444, \"#bd3786\"], [0.5555555555555556, \"#d8576b\"], [0.6666666666666666, \"#ed7953\"], [0.7777777777777778, \"#fb9f3a\"], [0.8888888888888888, \"#fdca26\"], [1.0, \"#f0f921\"]], \"type\": \"contour\"}], \"contourcarpet\": [{\"colorbar\": {\"outlinewidth\": 0, \"ticks\": \"\"}, \"type\": \"contourcarpet\"}], \"heatmap\": [{\"colorbar\": {\"outlinewidth\": 0, \"ticks\": \"\"}, \"colorscale\": [[0.0, \"#0d0887\"], [0.1111111111111111, \"#46039f\"], [0.2222222222222222, \"#7201a8\"], [0.3333333333333333, \"#9c179e\"], [0.4444444444444444, \"#bd3786\"], [0.5555555555555556, \"#d8576b\"], [0.6666666666666666, \"#ed7953\"], [0.7777777777777778, \"#fb9f3a\"], [0.8888888888888888, \"#fdca26\"], [1.0, \"#f0f921\"]], \"type\": \"heatmap\"}], \"heatmapgl\": [{\"colorbar\": {\"outlinewidth\": 0, \"ticks\": \"\"}, \"colorscale\": [[0.0, \"#0d0887\"], [0.1111111111111111, \"#46039f\"], [0.2222222222222222, \"#7201a8\"], [0.3333333333333333, \"#9c179e\"], [0.4444444444444444, \"#bd3786\"], [0.5555555555555556, \"#d8576b\"], [0.6666666666666666, \"#ed7953\"], [0.7777777777777778, \"#fb9f3a\"], [0.8888888888888888, \"#fdca26\"], [1.0, \"#f0f921\"]], \"type\": \"heatmapgl\"}], \"histogram\": [{\"marker\": {\"colorbar\": {\"outlinewidth\": 0, \"ticks\": \"\"}}, \"type\": \"histogram\"}], \"histogram2d\": [{\"colorbar\": {\"outlinewidth\": 0, \"ticks\": \"\"}, \"colorscale\": [[0.0, \"#0d0887\"], [0.1111111111111111, \"#46039f\"], [0.2222222222222222, \"#7201a8\"], [0.3333333333333333, \"#9c179e\"], [0.4444444444444444, \"#bd3786\"], [0.5555555555555556, \"#d8576b\"], [0.6666666666666666, \"#ed7953\"], [0.7777777777777778, \"#fb9f3a\"], [0.8888888888888888, \"#fdca26\"], [1.0, \"#f0f921\"]], \"type\": \"histogram2d\"}], \"histogram2dcontour\": [{\"colorbar\": {\"outlinewidth\": 0, \"ticks\": \"\"}, \"colorscale\": [[0.0, \"#0d0887\"], [0.1111111111111111, \"#46039f\"], [0.2222222222222222, \"#7201a8\"], [0.3333333333333333, \"#9c179e\"], [0.4444444444444444, \"#bd3786\"], [0.5555555555555556, \"#d8576b\"], [0.6666666666666666, \"#ed7953\"], [0.7777777777777778, \"#fb9f3a\"], [0.8888888888888888, \"#fdca26\"], [1.0, \"#f0f921\"]], \"type\": \"histogram2dcontour\"}], \"mesh3d\": [{\"colorbar\": {\"outlinewidth\": 0, \"ticks\": \"\"}, \"type\": \"mesh3d\"}], \"parcoords\": [{\"line\": {\"colorbar\": {\"outlinewidth\": 0, \"ticks\": \"\"}}, \"type\": \"parcoords\"}], \"pie\": [{\"automargin\": true, \"type\": \"pie\"}], \"scatter\": [{\"marker\": {\"colorbar\": {\"outlinewidth\": 0, \"ticks\": \"\"}}, \"type\": \"scatter\"}], \"scatter3d\": [{\"line\": {\"colorbar\": {\"outlinewidth\": 0, \"ticks\": \"\"}}, \"marker\": {\"colorbar\": {\"outlinewidth\": 0, \"ticks\": \"\"}}, \"type\": \"scatter3d\"}], \"scattercarpet\": [{\"marker\": {\"colorbar\": {\"outlinewidth\": 0, \"ticks\": \"\"}}, \"type\": \"scattercarpet\"}], \"scattergeo\": [{\"marker\": {\"colorbar\": {\"outlinewidth\": 0, \"ticks\": \"\"}}, \"type\": \"scattergeo\"}], \"scattergl\": [{\"marker\": {\"colorbar\": {\"outlinewidth\": 0, \"ticks\": \"\"}}, \"type\": \"scattergl\"}], \"scattermapbox\": [{\"marker\": {\"colorbar\": {\"outlinewidth\": 0, \"ticks\": \"\"}}, \"type\": \"scattermapbox\"}], \"scatterpolar\": [{\"marker\": {\"colorbar\": {\"outlinewidth\": 0, \"ticks\": \"\"}}, \"type\": \"scatterpolar\"}], \"scatterpolargl\": [{\"marker\": {\"colorbar\": {\"outlinewidth\": 0, \"ticks\": \"\"}}, \"type\": \"scatterpolargl\"}], \"scatterternary\": [{\"marker\": {\"colorbar\": {\"outlinewidth\": 0, \"ticks\": \"\"}}, \"type\": \"scatterternary\"}], \"surface\": [{\"colorbar\": {\"outlinewidth\": 0, \"ticks\": \"\"}, \"colorscale\": [[0.0, \"#0d0887\"], [0.1111111111111111, \"#46039f\"], [0.2222222222222222, \"#7201a8\"], [0.3333333333333333, \"#9c179e\"], [0.4444444444444444, \"#bd3786\"], [0.5555555555555556, \"#d8576b\"], [0.6666666666666666, \"#ed7953\"], [0.7777777777777778, \"#fb9f3a\"], [0.8888888888888888, \"#fdca26\"], [1.0, \"#f0f921\"]], \"type\": \"surface\"}], \"table\": [{\"cells\": {\"fill\": {\"color\": \"#EBF0F8\"}, \"line\": {\"color\": \"white\"}}, \"header\": {\"fill\": {\"color\": \"#C8D4E3\"}, \"line\": {\"color\": \"white\"}}, \"type\": \"table\"}]}, \"layout\": {\"annotationdefaults\": {\"arrowcolor\": \"#2a3f5f\", \"arrowhead\": 0, \"arrowwidth\": 1}, \"coloraxis\": {\"colorbar\": {\"outlinewidth\": 0, \"ticks\": \"\"}}, \"colorscale\": {\"diverging\": [[0, \"#8e0152\"], [0.1, \"#c51b7d\"], [0.2, \"#de77ae\"], [0.3, \"#f1b6da\"], [0.4, \"#fde0ef\"], [0.5, \"#f7f7f7\"], [0.6, \"#e6f5d0\"], [0.7, \"#b8e186\"], [0.8, \"#7fbc41\"], [0.9, \"#4d9221\"], [1, \"#276419\"]], \"sequential\": [[0.0, \"#0d0887\"], [0.1111111111111111, \"#46039f\"], [0.2222222222222222, \"#7201a8\"], [0.3333333333333333, \"#9c179e\"], [0.4444444444444444, \"#bd3786\"], [0.5555555555555556, \"#d8576b\"], [0.6666666666666666, \"#ed7953\"], [0.7777777777777778, \"#fb9f3a\"], [0.8888888888888888, \"#fdca26\"], [1.0, \"#f0f921\"]], \"sequentialminus\": [[0.0, \"#0d0887\"], [0.1111111111111111, \"#46039f\"], [0.2222222222222222, \"#7201a8\"], [0.3333333333333333, \"#9c179e\"], [0.4444444444444444, \"#bd3786\"], [0.5555555555555556, \"#d8576b\"], [0.6666666666666666, \"#ed7953\"], [0.7777777777777778, \"#fb9f3a\"], [0.8888888888888888, \"#fdca26\"], [1.0, \"#f0f921\"]]}, \"colorway\": [\"#636efa\", \"#EF553B\", \"#00cc96\", \"#ab63fa\", \"#FFA15A\", \"#19d3f3\", \"#FF6692\", \"#B6E880\", \"#FF97FF\", \"#FECB52\"], \"font\": {\"color\": \"#2a3f5f\"}, \"geo\": {\"bgcolor\": \"white\", \"lakecolor\": \"white\", \"landcolor\": \"#E5ECF6\", \"showlakes\": true, \"showland\": true, \"subunitcolor\": \"white\"}, \"hoverlabel\": {\"align\": \"left\"}, \"hovermode\": \"closest\", \"mapbox\": {\"style\": \"light\"}, \"paper_bgcolor\": \"white\", \"plot_bgcolor\": \"#E5ECF6\", \"polar\": {\"angularaxis\": {\"gridcolor\": \"white\", \"linecolor\": \"white\", \"ticks\": \"\"}, \"bgcolor\": \"#E5ECF6\", \"radialaxis\": {\"gridcolor\": \"white\", \"linecolor\": \"white\", \"ticks\": \"\"}}, \"scene\": {\"xaxis\": {\"backgroundcolor\": \"#E5ECF6\", \"gridcolor\": \"white\", \"gridwidth\": 2, \"linecolor\": \"white\", \"showbackground\": true, \"ticks\": \"\", \"zerolinecolor\": \"white\"}, \"yaxis\": {\"backgroundcolor\": \"#E5ECF6\", \"gridcolor\": \"white\", \"gridwidth\": 2, \"linecolor\": \"white\", \"showbackground\": true, \"ticks\": \"\", \"zerolinecolor\": \"white\"}, \"zaxis\": {\"backgroundcolor\": \"#E5ECF6\", \"gridcolor\": \"white\", \"gridwidth\": 2, \"linecolor\": \"white\", \"showbackground\": true, \"ticks\": \"\", \"zerolinecolor\": \"white\"}}, \"shapedefaults\": {\"line\": {\"color\": \"#2a3f5f\"}}, \"ternary\": {\"aaxis\": {\"gridcolor\": \"white\", \"linecolor\": \"white\", \"ticks\": \"\"}, \"baxis\": {\"gridcolor\": \"white\", \"linecolor\": \"white\", \"ticks\": \"\"}, \"bgcolor\": \"#E5ECF6\", \"caxis\": {\"gridcolor\": \"white\", \"linecolor\": \"white\", \"ticks\": \"\"}}, \"title\": {\"x\": 0.05}, \"xaxis\": {\"automargin\": true, \"gridcolor\": \"white\", \"linecolor\": \"white\", \"ticks\": \"\", \"title\": {\"standoff\": 15}, \"zerolinecolor\": \"white\", \"zerolinewidth\": 2}, \"yaxis\": {\"automargin\": true, \"gridcolor\": \"white\", \"linecolor\": \"white\", \"ticks\": \"\", \"title\": {\"standoff\": 15}, \"zerolinecolor\": \"white\", \"zerolinewidth\": 2}}}, \"title\": {\"text\": \"3d TSNE Plot for Clusters\"}, \"width\": 900},\n",
       "                        {\"responsive\": true}\n",
       "                    ).then(function(){\n",
       "                            \n",
       "var gd = document.getElementById('aa088272-a0a7-4bc3-a0b3-bf1344402212');\n",
       "var x = new MutationObserver(function (mutations, observer) {{\n",
       "        var display = window.getComputedStyle(gd).display;\n",
       "        if (!display || display === 'none') {{\n",
       "            console.log([gd, 'removed!']);\n",
       "            Plotly.purge(gd);\n",
       "            observer.disconnect();\n",
       "        }}\n",
       "}});\n",
       "\n",
       "// Listen for the removal of the full notebook cells\n",
       "var notebookContainer = gd.closest('#notebook-container');\n",
       "if (notebookContainer) {{\n",
       "    x.observe(notebookContainer, {childList: true});\n",
       "}}\n",
       "\n",
       "// Listen for the clearing of the current output cell\n",
       "var outputEl = gd.closest('.output');\n",
       "if (outputEl) {{\n",
       "    x.observe(outputEl, {childList: true});\n",
       "}}\n",
       "\n",
       "                        })\n",
       "                };\n",
       "                });\n",
       "            </script>\n",
       "        </div>"
      ]
     },
     "metadata": {},
     "output_type": "display_data"
    }
   ],
   "source": [
    "plot_model(kmeans, plot = 'tsne')"
   ]
  },
  {
   "cell_type": "code",
   "execution_count": 12,
   "metadata": {},
   "outputs": [
    {
     "data": {
      "text/html": [
       "        <script type=\"text/javascript\">\n",
       "        window.PlotlyConfig = {MathJaxConfig: 'local'};\n",
       "        if (window.MathJax) {MathJax.Hub.Config({SVG: {font: \"STIX-Web\"}});}\n",
       "        if (typeof require !== 'undefined') {\n",
       "        require.undef(\"plotly\");\n",
       "        requirejs.config({\n",
       "            paths: {\n",
       "                'plotly': ['https://cdn.plot.ly/plotly-latest.min']\n",
       "            }\n",
       "        });\n",
       "        require(['plotly'], function(Plotly) {\n",
       "            window._Plotly = Plotly;\n",
       "        });\n",
       "        }\n",
       "        </script>\n",
       "        "
      ]
     },
     "metadata": {},
     "output_type": "display_data"
    },
    {
     "data": {
      "image/png": "[encoded data removed]",
      "text/plain": [
       "<Figure size 576x396 with 1 Axes>"
      ]
     },
     "metadata": {},
     "output_type": "display_data"
    }
   ],
   "source": [
    "plot_model(kmeans, plot = 'elbow')"
   ]
  },
  {
   "cell_type": "code",
   "execution_count": 13,
   "metadata": {},
   "outputs": [
    {
     "data": {
      "text/html": [
       "        <script type=\"text/javascript\">\n",
       "        window.PlotlyConfig = {MathJaxConfig: 'local'};\n",
       "        if (window.MathJax) {MathJax.Hub.Config({SVG: {font: \"STIX-Web\"}});}\n",
       "        if (typeof require !== 'undefined') {\n",
       "        require.undef(\"plotly\");\n",
       "        requirejs.config({\n",
       "            paths: {\n",
       "                'plotly': ['https://cdn.plot.ly/plotly-latest.min']\n",
       "            }\n",
       "        });\n",
       "        require(['plotly'], function(Plotly) {\n",
       "            window._Plotly = Plotly;\n",
       "        });\n",
       "        }\n",
       "        </script>\n",
       "        "
      ]
     },
     "metadata": {},
     "output_type": "display_data"
    },
    {
     "data": {
      "image/png": "[encoded data removed]",
      "text/plain": [
       "<Figure size 576x396 with 1 Axes>"
      ]
     },
     "metadata": {},
     "output_type": "display_data"
    }
   ],
   "source": [
    "plot_model(kmeans, plot = 'silhouette')"
   ]
  },
  {
   "cell_type": "code",
   "execution_count": 14,
   "metadata": {},
   "outputs": [
    {
     "data": {
      "text/html": [
       "        <script type=\"text/javascript\">\n",
       "        window.PlotlyConfig = {MathJaxConfig: 'local'};\n",
       "        if (window.MathJax) {MathJax.Hub.Config({SVG: {font: \"STIX-Web\"}});}\n",
       "        if (typeof require !== 'undefined') {\n",
       "        require.undef(\"plotly\");\n",
       "        requirejs.config({\n",
       "            paths: {\n",
       "                'plotly': ['https://cdn.plot.ly/plotly-latest.min']\n",
       "            }\n",
       "        });\n",
       "        require(['plotly'], function(Plotly) {\n",
       "            window._Plotly = Plotly;\n",
       "        });\n",
       "        }\n",
       "        </script>\n",
       "        "
      ]
     },
     "metadata": {},
     "output_type": "display_data"
    },
    {
     "data": {
      "image/png": "[encoded data removed]",
      "text/plain": [
       "<Figure size 576x396 with 2 Axes>"
      ]
     },
     "metadata": {},
     "output_type": "display_data"
    }
   ],
   "source": [
    "plot_model(kmeans, plot = 'distance')"
   ]
  },
  {
   "cell_type": "code",
   "execution_count": 15,
   "metadata": {},
   "outputs": [
    {
     "data": {
      "text/html": [
       "        <script type=\"text/javascript\">\n",
       "        window.PlotlyConfig = {MathJaxConfig: 'local'};\n",
       "        if (window.MathJax) {MathJax.Hub.Config({SVG: {font: \"STIX-Web\"}});}\n",
       "        if (typeof require !== 'undefined') {\n",
       "        require.undef(\"plotly\");\n",
       "        requirejs.config({\n",
       "            paths: {\n",
       "                'plotly': ['https://cdn.plot.ly/plotly-latest.min']\n",
       "            }\n",
       "        });\n",
       "        require(['plotly'], function(Plotly) {\n",
       "            window._Plotly = Plotly;\n",
       "        });\n",
       "        }\n",
       "        </script>\n",
       "        "
      ]
     },
     "metadata": {},
     "output_type": "display_data"
    },
    {
     "data": {
      "application/vnd.plotly.v1+json": {
       "config": {
        "plotlyServerURL": "https://plot.ly"
       },
       "data": [
        {
         "alignmentgroup": "True",
         "bingroup": "x",
         "hovertemplate": "Cluster=%{x}<br>count=%{y}<extra></extra>",
         "legendgroup": "Cluster 0",
         "marker": {
          "color": "#636efa",
          "opacity": 0.7
         },
         "name": "Cluster 0",
         "offsetgroup": "Cluster 0",
         "orientation": "v",
         "showlegend": true,
         "type": "histogram",
         "x": [
          "Cluster 0",
          "Cluster 0",
          "Cluster 0",
          "Cluster 0",
          "Cluster 0",
          "Cluster 0",
          "Cluster 0",
          "Cluster 0",
          "Cluster 0",
          "Cluster 0",
          "Cluster 0",
          "Cluster 0",
          "Cluster 0",
          "Cluster 0",
          "Cluster 0",
          "Cluster 0",
          "Cluster 0",
          "Cluster 0",
          "Cluster 0",
          "Cluster 0",
          "Cluster 0",
          "Cluster 0",
          "Cluster 0",
          "Cluster 0",
          "Cluster 0",
          "Cluster 0",
          "Cluster 0",
          "Cluster 0",
          "Cluster 0",
          "Cluster 0",
          "Cluster 0",
          "Cluster 0",
          "Cluster 0",
          "Cluster 0",
          "Cluster 0",
          "Cluster 0",
          "Cluster 0",
          "Cluster 0",
          "Cluster 0",
          "Cluster 0",
          "Cluster 0",
          "Cluster 0",
          "Cluster 0",
          "Cluster 0",
          "Cluster 0",
          "Cluster 0",
          "Cluster 0",
          "Cluster 0",
          "Cluster 0",
          "Cluster 0",
          "Cluster 0",
          "Cluster 0",
          "Cluster 0",
          "Cluster 0",
          "Cluster 0",
          "Cluster 0",
          "Cluster 0",
          "Cluster 0",
          "Cluster 0",
          "Cluster 0",
          "Cluster 0",
          "Cluster 0",
          "Cluster 0",
          "Cluster 0",
          "Cluster 0",
          "Cluster 0",
          "Cluster 0"
         ],
         "xaxis": "x",
         "yaxis": "y"
        },
        {
         "alignmentgroup": "True",
         "customdata": [
          [
           "Honduras",
           2.86657957,
           2.460607584,
           2.37295217,
           2.92390839,
           2.902757343,
           3.592970163,
           3.6164590089999997,
           3.906168524,
           4.7330869369999995,
           4.207177311000001,
           3.905898653,
           3.48897019,
           3.63946928,
           3.7255735989999996,
           4.554171531000001,
           4.215610713999999,
           3.916841875,
           4.453647583,
           4.457074848,
           4.41783425,
           "Cluster 0"
          ],
          [
           "Dominica",
           4.159861137,
           4.217261905,
           4.370036617,
           4.155978162,
           4.149951581,
           3.308396479,
           3.23826402,
           3.290272803,
           3.173775978,
           2.9741580819999998,
           3.0197000010000004,
           3.094683051,
           3.0779197789999997,
           2.96951027,
           3.6526046819999998,
           4.047182568999999,
           3.9743900930000002,
           3.6693638839999996,
           3.812216844,
           3.767972854,
           "Cluster 0"
          ],
          [
           "Djibouti",
           2.384148412,
           2.318293685,
           2.83292067,
           3.6097572010000003,
           4.407148156,
           3.9005062999999995,
           3.4863802660000003,
           3.516449396,
           4.167696582,
           4.600888287,
           4.939467764,
           4.702732187,
           5.337600592,
           5.745632858,
           5.957206032,
           5.149939099,
           5.019683712,
           5.25888563,
           5.322417486,
           6.750847587000001,
           "Cluster 0"
          ],
          [
           "Samoa",
           3.390716641,
           3.010723905,
           3.338794876,
           3.926948968,
           4.269501817,
           4.11544971,
           3.848022139,
           3.940851472,
           3.64949145,
           3.596860784,
           3.5879326000000002,
           3.925566538,
           4.509782876,
           3.8248453000000002,
           4.341031427,
           4.985224399,
           5.101682632,
           4.337641237,
           6.216667467000001,
           6.536868986,
           "Cluster 0"
          ],
          [
           "San Marino",
           4.5639391830000005,
           4.383787117,
           4.3124433369999995,
           4.248369167,
           4.300679912,
           4.385399883,
           4.296809438,
           4.26944922,
           3.90726845,
           3.832377435,
           3.7497484489999997,
           3.52237298,
           3.54154425,
           3.616263881,
           4.204062797,
           4.647450421,
           5.322357589,
           5.865948338,
           5.656072233,
           5.736058813,
           "Cluster 0"
          ],
          [
           "Sao Tome and Principe",
           2.805079353,
           1.966810767,
           2.938184371,
           2.9092363480000003,
           3.8562996519999997,
           3.823975859,
           3.792038305,
           3.8456142939999998,
           6.03861594,
           5.1383615769999995,
           5.29330423,
           2.5410377769999997,
           2.13790765,
           1.592076218,
           2.507352864,
           2.537331158,
           2.6053125880000003,
           2.48230437,
           3.5868170939999997,
           3.612254726,
           "Cluster 0"
          ],
          [
           "Colombia",
           3.7205698160000003,
           5.067606606,
           5.593914054,
           6.103439101,
           6.459251592,
           4.683826863999999,
           4.690523841,
           4.549736058,
           4.899277437,
           4.082866763999999,
           4.316017077,
           4.535042305,
           4.539526519,
           4.698007256,
           5.148273784,
           4.9756529380000005,
           5.016164698,
           5.277512194,
           5.2189183660000005,
           5.409943154,
           "Cluster 0"
          ],
          [
           "Chile",
           2.483034377,
           2.667579501,
           2.722896255,
           2.999279862,
           3.188783313,
           3.332061767,
           3.484542158,
           3.529890881,
           2.687549761,
           2.63814344,
           2.536291524,
           2.517617347,
           2.655656258,
           2.942588718,
           3.468102151,
           3.294925632,
           3.3326392360000003,
           3.4761647210000004,
           3.632821452,
           3.8513094239999996,
           "Cluster 0"
          ],
          [
           "Cabo Verde",
           4.252399745,
           3.9401934880000002,
           3.862837242,
           3.92627046,
           3.424656164,
           3.5249331219999998,
           3.9135356839999997,
           3.893120524,
           3.746871642,
           3.7893525489999997,
           3.649990513,
           3.962680293,
           3.3863364560000004,
           3.03734974,
           3.239265323,
           3.431766845,
           3.3357602589999997,
           3.33864148,
           3.120439872,
           3.557226753,
           "Cluster 0"
          ],
          [
           "Solomon Islands",
           3.013517642,
           2.7842825980000003,
           3.047041542,
           3.2772146280000003,
           3.544792113,
           4.299521273,
           6.162337203,
           5.8209578,
           5.537965968,
           5.180937453,
           7.370558602000001,
           6.205507441,
           5.9541656089999995,
           5.522732105,
           7.453790237000001,
           7.022895121,
           4.696250372,
           5.0946949560000006,
           4.99069527,
           4.640482319,
           "Cluster 0"
          ],
          [
           "Bulgaria",
           3.515523463,
           3.1825410080000003,
           3.397999988,
           3.262490099,
           3.883886627,
           3.6982741960000003,
           4.2243892810000006,
           4.536791795,
           4.617962963,
           4.30515357,
           4.312971455,
           3.800812847,
           3.730705859,
           3.8703163560000005,
           3.75184985,
           4.0342301,
           3.7596558460000002,
           3.9998185019999997,
           4.1228617419999996,
           4.60763146,
           "Cluster 0"
          ],
          [
           "South Africa",
           3.4277404380000003,
           3.8406204760000002,
           3.7549938330000003,
           3.584417155,
           3.418376453,
           3.290839079,
           3.330803407,
           3.231917455,
           3.3379947910000003,
           3.218086131,
           3.315898573,
           3.360932915,
           3.3985272369999997,
           3.595345502,
           3.94739833,
           3.990053885,
           4.1340834939999995,
           4.276293506,
           4.204760905,
           4.24326873,
           "Cluster 0"
          ],
          [
           "Brazil",
           2.800558403,
           2.700450075,
           2.874414942,
           2.7969900130000003,
           2.9525750339999997,
           2.832471845,
           3.040958916,
           3.1829922930000003,
           3.080328175,
           3.323675591,
           3.43190885,
           3.4926520919999997,
           3.4551482289999997,
           3.61158219,
           3.8413556489999996,
           3.786139623,
           3.6540019860000004,
           3.66135204,
           3.827307012,
           3.831759885,
           "Cluster 0"
          ],
          [
           "Botswana",
           2.126873521,
           2.123124439,
           2.429731822,
           2.1792576759999998,
           2.163569841,
           2.8998524210000003,
           4.146457238,
           4.894689856,
           2.969796404,
           3.888095917,
           4.090479196,
           3.479114149,
           3.3157118810000004,
           3.9283219289999995,
           4.494537231,
           3.544461785,
           3.236016942,
           3.9553822110000003,
           3.50694528,
           3.193884455,
           "Cluster 0"
          ],
          [
           "Bolivia",
           2.112215194,
           2.9782255189999995,
           2.66726091,
           3.122442061,
           3.602860899,
           3.245343618,
           3.744167609,
           4.101807461,
           3.4962789219999997,
           3.492276415,
           3.860740789,
           3.521340785,
           3.408827783,
           3.4068432439999996,
           3.9482262710000002,
           3.662996725,
           3.7521416939999996,
           3.772366172,
           4.238349186000001,
           4.565377537,
           "Cluster 0"
          ],
          [
           "Bhutan",
           2.655671226,
           4.92248937,
           5.589715842,
           5.420760961,
           5.060485995,
           5.325051654,
           4.849893798,
           6.60698513,
           3.749019455,
           3.193554605,
           4.166375755,
           4.29057998,
           5.118893938,
           5.5624086660000005,
           4.8912954719999995,
           4.544794957,
           4.142893462,
           2.7008609310000002,
           2.804824773,
           2.6150396540000003,
           "Cluster 0"
          ],
          [
           "Belarus",
           4.793950729,
           4.696646664,
           5.427282394,
           4.588919064,
           4.7158020689999995,
           4.626454599,
           4.739935352,
           4.560548727,
           4.8657554869999995,
           4.922950998,
           5.022738287,
           4.4504001230000005,
           4.451424325,
           3.871576451,
           3.895442402,
           4.3148055439999995,
           3.472557647,
           3.8657578999999997,
           4.022291167,
           3.7417552510000003,
           "Cluster 0"
          ],
          [
           "Barbados",
           3.541707878,
           3.461739847,
           3.3299528030000003,
           3.1894177860000004,
           3.277842886,
           3.392050008,
           3.6966440169999997,
           3.962990388,
           3.8432781069999997,
           3.7180714760000004,
           3.4632789969999997,
           3.415845805,
           3.7583009119999997,
           4.056312343,
           4.144961775,
           4.009928747,
           4.155989917,
           4.841513416000001,
           4.899894263,
           4.744632219,
           "Cluster 0"
          ],
          [
           "St. Lucia",
           3.044466017,
           3.540413289,
           3.011746972,
           3.0899609160000003,
           3.0860480160000003,
           2.8750947069999997,
           3.2434443760000002,
           3.2677446619999997,
           2.943800165,
           2.9480524710000005,
           2.8950996630000003,
           3.1148809789999996,
           2.979865278,
           3.573426446,
           4.401846474,
           4.034045185,
           3.262981082,
           4.207408698,
           3.535976399,
           3.599295246,
           "Cluster 0"
          ],
          [
           "St. Vincent and the Grenadines",
           3.78040306,
           3.7626628060000002,
           3.905015857,
           3.379166091,
           3.4596669789999996,
           3.067373134,
           2.950634745,
           3.231535161,
           3.2055298039999998,
           3.022706918,
           2.9590426830000003,
           3.1835519619999997,
           3.2201201989999997,
           3.946405784,
           4.33049775,
           3.8582360810000003,
           4.092983481,
           4.403446842,
           4.3086,
           4.385223105,
           "Cluster 0"
          ],
          [
           "Russian Federation",
           3.962243165,
           3.9654738039999997,
           5.026415056,
           4.308860664,
           3.585441199,
           3.2468243560000003,
           3.328637239,
           3.530756868,
           3.298708379,
           3.090936853,
           3.2304787619999997,
           3.35436078,
           3.452891195,
           3.520137222,
           4.159022037,
           3.696945486,
           3.58245544,
           3.795838898,
           3.7073014489999996,
           3.6909228080000003,
           "Cluster 0"
          ],
          [
           "Suriname",
           4.471885239,
           3.145059885,
           5.651223383,
           7.115667758,
           5.196504662,
           5.6175626670000005,
           4.184378634,
           3.551353558,
           3.3571448680000002,
           3.3271645260000002,
           3.469387753,
           3.177793139,
           2.9772981,
           2.709678901,
           3.196518003,
           2.930358668,
           2.921405525,
           3.215861695,
           3.202562051,
           2.94062408,
           "Cluster 0"
          ],
          [
           "Romania",
           2.397777108,
           2.353719196,
           3.3087963410000003,
           2.8352913060000002,
           3.344160172,
           3.5136997310000004,
           3.534191634,
           3.75783267,
           4.4933842660000005,
           4.0521396,
           4.398723805,
           4.030785785,
           4.278891084,
           4.374197997,
           4.391968392,
           4.68660531,
           4.37807867,
           4.397386285,
           4.520294731,
           4.47447755,
           "Cluster 0"
          ],
          [
           "Estonia",
           5.671494836,
           5.809624371,
           5.51790868,
           4.797024971,
           4.536437438,
           4.075514834,
           3.817487064,
           3.735725858,
           3.775009168,
           3.8771176830000003,
           3.850041558,
           3.6735492119999997,
           3.899242751,
           4.712423412,
           5.216716763,
           4.9273468000000005,
           4.625885477,
           5.115761648,
           5.138603368,
           5.028395902,
           "Cluster 0"
          ],
          [
           "Moldova",
           5.815895061,
           6.709797385,
           6.075025236,
           4.323722867,
           2.901963967,
           3.229712857,
           3.2075372680000003,
           4.040610039,
           3.9671964969999998,
           4.182380118999999,
           4.176139383,
           4.718684365,
           4.9197080269999995,
           5.389847747999999,
           6.0594371979999995,
           5.621478753,
           5.311539911000001,
           5.517522784,
           5.031340165,
           5.303988304,
           "Cluster 0"
          ],
          [
           "Malawi",
           1.865213739,
           1.26338764,
           1.600434006,
           1.88109678,
           2.274782235,
           2.7785565489999997,
           2.215081497,
           2.912550035,
           4.578496658,
           5.71696331,
           6.066366509,
           6.194908259,
           4.41611059,
           6.096624721,
           6.185752937,
           6.339254893,
           6.933702546,
           6.765934565,
           5.793450792000001,
           5.998620835,
           "Cluster 0"
          ],
          [
           "Monaco",
           2.7828046389999996,
           2.722031577,
           2.8387481,
           2.760402313,
           2.989907557,
           2.8661872330000002,
           2.911772468,
           2.956788105,
           3.466538501,
           3.5451300519999998,
           3.528936649,
           3.360320254,
           2.952654785,
           3.1897775960000003,
           3.8011578999999998,
           3.896460373,
           3.705257089,
           3.764195008,
           3.554960152,
           3.841098459,
           "Cluster 0"
          ],
          [
           "Macedonia, FYR",
           4.996397418,
           5.135953651,
           5.5549962939999995,
           6.489321372000001,
           5.341639155,
           4.787766545,
           4.631112465,
           5.191571141,
           5.226034904,
           5.039289244,
           4.781614783999999,
           4.87674973,
           4.445867739,
           4.7474917,
           4.456857728999999,
           4.292903636,
           4.272932737,
           4.42539678,
           4.204269092,
           4.1014206380000005,
           "Cluster 0"
          ],
          [
           "Lithuania",
           3.985217925,
           3.931004202,
           4.1614319669999995,
           4.616115978,
           4.64619213,
           4.501929246,
           4.5479188619999995,
           4.792172072,
           4.929875383,
           3.83247282,
           3.953664458,
           4.3067158469999995,
           4.542177272,
           4.784195764,
           5.485546619,
           5.020955675,
           4.739136876,
           4.349539439,
           4.312630815,
           4.446889612,
           "Cluster 0"
          ],
          [
           "Lebanon",
           4.242476487,
           4.991736717,
           5.0616362619999995,
           3.144910175,
           2.943009427,
           3.20634861,
           3.733963909,
           3.735593505,
           3.496375815,
           3.711970773,
           3.7443329469999997,
           3.631882475,
           3.7155355410000004,
           3.144813413,
           3.123417148,
           2.708551485,
           2.7443969960000003,
           3.235855284,
           3.054229695,
           3.043924599,
           "Cluster 0"
          ],
          [
           "Latvia",
           3.820164845,
           3.525870433,
           3.4596156560000004,
           3.6262617789999996,
           3.728657225,
           3.2654466760000003,
           3.1577079460000004,
           3.2790679739999997,
           3.2495228560000005,
           3.684698103,
           3.637151355,
           4.357857145,
           4.255979,
           4.124515045,
           4.070041625,
           3.9402581469999998,
           3.873401416,
           3.576955393,
           3.539843039,
           3.7152319819999997,
           "Cluster 0"
          ],
          [
           "Montenegro",
           5.196505917,
           5.196505919,
           5.196505921,
           5.1965059160000004,
           5.196505922,
           5.19650592,
           5.9571847689999995,
           5.880242121,
           6.663011347,
           6.232366722999999,
           6.022940018,
           5.613499871,
           4.5478217039999995,
           3.9917967869999997,
           3.61393065,
           4.173469442,
           4.186590285,
           4.4723783919999995,
           3.719088236,
           3.66738093,
           "Cluster 0"
          ],
          [
           "Mozambique",
           3.3965561789999996,
           2.598261241,
           2.955873935,
           2.9684768339999996,
           3.5660974999999997,
           4.311883073,
           3.9675961089999996,
           4.488862031,
           4.108240978,
           3.521927947,
           4.306135066,
           3.950981842,
           3.1000050960000003,
           2.606804503,
           2.515159938,
           3.0181028260000002,
           2.6645777330000002,
           2.776382768,
           3.1190876260000002,
           3.936734776,
           "Cluster 0"
          ],
          [
           "Namibia",
           4.413658721,
           4.750908805,
           4.924511725,
           4.952596648,
           5.111744353,
           4.214029426000001,
           3.474246902,
           3.576968668,
           3.722335405,
           3.207038753,
           3.579619723,
           3.129120087,
           3.800771171,
           3.89854309,
           4.417229575,
           4.594429367,
           5.315764413999999,
           4.854097749,
           5.029136422,
           5.357137699,
           "Cluster 0"
          ],
          [
           "Jordan",
           5.328898363,
           5.441182157,
           5.116392745,
           5.300589761,
           4.991069703,
           4.635309347,
           4.786093096,
           4.810691426,
           4.451036994,
           4.692325909,
           4.761008321,
           4.48990028,
           4.994181963,
           5.431250455,
           6.6959843029999995,
           5.921295616,
           5.905862126000001,
           5.5093025760000005,
           4.873555443,
           5.1931019460000005,
           "Cluster 0"
          ],
          [
           "Israel",
           4.950145432,
           5.108144225,
           5.144840787,
           4.762189233,
           4.6017821119999995,
           4.460361462,
           4.719172153,
           4.737818754,
           4.587586374,
           4.473436246,
           4.408425818,
           4.702560226,
           4.56088595,
           4.471592985,
           4.560773264,
           4.6122764819999995,
           4.618524658,
           4.865016995,
           4.857808386,
           4.751695808,
           "Cluster 0"
          ],
          [
           "Nicaragua",
           4.1750942769999995,
           3.7946175460000005,
           2.577101237,
           2.772020641,
           2.433647188,
           2.881102037,
           2.8359501239999996,
           2.995229948,
           3.46223108,
           3.389498166,
           3.45056744,
           3.473051685,
           3.792404173,
           3.830040753,
           4.286697443,
           4.288147231,
           4.081974306,
           4.260162572,
           4.420152655,
           5.095797672,
           "Cluster 0"
          ],
          [
           "Hungary",
           6.06578493,
           5.707631445,
           5.48077096,
           5.293047243,
           5.215692477,
           4.992262794,
           4.907747893,
           5.241660919,
           5.986829456000001,
           5.625904986,
           5.798315898999999,
           5.651159262,
           5.050828075,
           4.9125672730000005,
           4.958614911000001,
           5.117494816000001,
           5.029887063,
           4.910106031000001,
           4.905828404,
           4.8830819089999995,
           "Cluster 0"
          ],
          [
           "Guyana",
           4.1236919819999995,
           4.042182563,
           4.267222814,
           4.314013546,
           3.815805252,
           4.954943485,
           4.898010308,
           4.94658054,
           4.749728887,
           4.548307265,
           4.359658645,
           3.044944275,
           4.685796052,
           5.5972460139999995,
           5.30091141,
           4.460583707,
           4.57147769,
           4.339437853,
           2.896153441,
           3.119698091,
           "Cluster 0"
          ],
          [
           "Grenada",
           3.0064343160000004,
           3.0167429230000002,
           3.157869167,
           3.151488805,
           3.7073192410000004,
           3.4469993260000003,
           4.513238797,
           3.5245498769999997,
           3.055066908,
           2.7005638910000003,
           2.918936395,
           3.208181759,
           2.897890968,
           2.691541613,
           3.073334628,
           3.100526247,
           3.040190628,
           3.045941945,
           2.7824442680000003,
           2.827357413,
           "Cluster 0"
          ],
          [
           "Panama",
           5.246581756,
           4.628785357,
           4.875049583,
           4.727189573,
           4.543351694,
           5.284626305,
           5.179758628,
           5.544147842,
           5.046701513,
           5.688574188,
           5.205403273,
           4.7207796019999995,
           4.048878178,
           4.666452338,
           5.63276516,
           5.6500218460000005,
           5.08973241,
           4.9715198019999995,
           5.804010025,
           5.878366088,
           "Cluster 0"
          ],
          [
           "Papua New Guinea",
           2.449537747,
           2.585706214,
           2.9792040010000003,
           3.16658124,
           3.373244226,
           3.2561626969999997,
           5.895055792999999,
           6.716728432999999,
           6.024920708,
           7.601456272999999,
           5.47058434,
           5.05912292,
           3.123843205,
           3.0754131780000002,
           3.2208812860000005,
           3.1834109230000003,
           4.041347222,
           3.653279542,
           3.906003811,
           3.46554272,
           "Cluster 0"
          ],
          [
           "Poland",
           3.905037381,
           4.224738069,
           3.983748404,
           3.828606974,
           4.0329012760000005,
           3.852713136,
           4.210391357,
           4.497808461,
           4.349887106000001,
           4.242001236,
           4.298902044,
           4.313210083,
           4.4203601710000004,
           4.935315917,
           5.097181114,
           4.902807428,
           4.710355764,
           4.577515541,
           4.534424797,
           4.507639603,
           "Cluster 0"
          ],
          [
           "El Salvador",
           2.456765433,
           3.106327227,
           3.204772995,
           3.68357541,
           3.6517329339999995,
           3.796302763,
           3.753448667,
           3.8056802210000003,
           3.750173665,
           3.6353041960000003,
           3.8125530939999996,
           4.153138804,
           3.7447696460000004,
           3.706714781,
           4.133696927,
           4.29012069,
           4.327903341,
           4.2104711539999995,
           4.632291908,
           4.4695083239999995,
           "Cluster 0"
          ],
          [
           "Argentina",
           4.966443086,
           4.631641218,
           4.553044297,
           4.624211713999999,
           5.152315686000001,
           4.9658035819999995,
           5.065933992,
           4.4529400489999995,
           4.251023183,
           3.522396758,
           3.6642338480000003,
           3.654868936,
           3.7830748410000004,
           4.121097352,
           5.040785799,
           4.163482345,
           3.745392503,
           2.9589508739999997,
           2.735022008,
           2.652673798,
           "Cluster 0"
          ],
          [
           "Seychelles",
           4.22296599,
           4.451643869,
           4.820469327,
           4.185799521,
           4.236396955,
           3.785614663,
           3.758676506,
           3.636458774,
           4.145567132,
           3.812610542,
           3.620129416,
           3.4579109889999997,
           3.060728801,
           2.405118358,
           2.413078163,
           3.2088597510000003,
           3.1987716789999996,
           3.797892539,
           3.335699444,
           3.107242732,
           "Cluster 0"
          ],
          [
           "Swaziland",
           2.832071581,
           3.0579196060000005,
           2.812078497,
           2.879100714,
           3.003066511,
           2.9584121,
           2.933657283,
           3.0504573010000002,
           3.719224901,
           3.7224765680000003,
           4.591988907,
           4.559222042,
           4.817315257,
           5.70029508,
           5.768594858999999,
           5.9652663839999995,
           5.971125925,
           6.295393133999999,
           7.374204077999999,
           7.004909495,
           "Cluster 0"
          ],
          [
           "Small states",
           3.0834417839999997,
           3.155744645,
           3.18509596,
           3.337760802,
           3.2314720930000003,
           3.053471183,
           3.067515292,
           3.2739580310000003,
           3.46788155,
           3.3720450910000004,
           3.17828889,
           2.9852425910000004,
           2.963611867,
           2.787731202,
           3.320674555,
           3.01892481,
           2.816008951,
           3.0011255610000003,
           3.061103031,
           2.9930888060000003,
           "Cluster 0"
          ],
          [
           "Tonga",
           2.670824514,
           2.7968637689999998,
           3.040161598,
           3.2127216389999997,
           3.763892167,
           3.350358074,
           4.284100434,
           3.8079197839999996,
           4.233041111,
           4.050934622,
           5.680380494,
           4.879183916000001,
           4.762818289,
           4.186537045,
           3.705109958,
           3.6948683410000003,
           3.223524387,
           3.640530345,
           4.0556243080000005,
           4.265698947,
           "Cluster 0"
          ],
          [
           "Vanuatu",
           2.139305264,
           1.749746805,
           2.296830253,
           3.038570387,
           2.639952543,
           2.73692934,
           2.7885501360000005,
           2.9076602460000003,
           3.4189271389999996,
           3.524656985,
           3.292996247,
           3.427445317,
           3.161681536,
           3.1798915739999996,
           3.4023226980000003,
           4.182597639,
           3.3201783469999997,
           3.167396258,
           3.391475272,
           4.510749546,
           "Cluster 0"
          ],
          [
           "Pacific island small states",
           4.0892714539999995,
           3.644414077,
           3.8171409,
           3.801815827,
           3.794036075,
           4.478110937,
           4.4304985530000005,
           4.3275116780000005,
           4.223171686000001,
           4.262646193,
           4.517164031,
           4.531308472,
           4.42810272,
           4.253259024,
           4.7700180130000005,
           4.858082923,
           4.239523762,
           4.210439148,
           4.497317273,
           4.57632822,
           "Cluster 0"
          ],
          [
           "Other small states",
           3.116200718,
           3.224322602,
           3.2162667689999997,
           3.450544585,
           3.380267205,
           3.0803314939999997,
           3.1597630889999997,
           3.3745049989999996,
           3.6685363239999997,
           3.488791995,
           3.28108097,
           3.027816988,
           2.968221955,
           2.75019805,
           3.2710470039999997,
           2.934337826,
           2.74322401,
           2.926310097,
           2.99114702,
           2.916463762,
           "Cluster 0"
          ],
          [
           "Tunisia",
           2.8943399860000003,
           2.9873341,
           2.6998275119999997,
           2.9193048719999997,
           2.898708402,
           2.961609952,
           2.834447949,
           2.80141766,
           2.833405347,
           2.913685908,
           2.866036298,
           2.9550662180000002,
           2.95239633,
           3.041912298,
           3.5073788560000003,
           3.829212473,
           4.167224012,
           4.157872526,
           4.229623294,
           3.968816495,
           "Cluster 0"
          ],
          [
           "East Asia & Pacific",
           4.429089623,
           4.203151524,
           4.244351189,
           4.4539837680000005,
           4.626919635,
           4.688849242,
           4.684790174,
           4.6135370689999995,
           4.635098319,
           4.626696416000001,
           4.566215205,
           4.367145726,
           4.29739389,
           4.43484819,
           4.865241195,
           4.7758171439999995,
           4.871726678,
           4.866869481,
           4.643220952,
           4.571447568,
           "Cluster 0"
          ],
          [
           "Turkey",
           1.76287716,
           2.007166944,
           2.244024053,
           2.5846704,
           2.913115705,
           3.1142396469999998,
           3.512553806,
           3.786278215,
           3.839653198,
           3.826071088,
           3.696382908,
           3.971039668,
           4.095218575,
           4.435295202,
           4.922531997,
           4.412270438999999,
           4.205859804,
           4.1491432999999995,
           4.225639909,
           4.193778968999999,
           "Cluster 0"
          ],
          [
           "Ukraine",
           5.088198574,
           4.78908302,
           4.193678375,
           3.540202425,
           2.942150479,
           2.895454814,
           3.0721386930000003,
           3.514016208,
           4.042590061,
           3.869747013,
           3.811739442,
           3.884569232,
           3.9304539430000003,
           3.825090501,
           4.292353932,
           4.421334806,
           3.729821242,
           4.12524044,
           4.150794905,
           3.6045211210000003,
           "Cluster 0"
          ],
          [
           "Antigua and Barbuda",
           2.746344563,
           2.505800464,
           2.597402599,
           2.6720647769999997,
           2.744200045,
           2.78780548,
           2.949759953,
           2.950231444,
           2.950013005,
           2.67979353,
           2.950098595,
           2.9501058739999997,
           2.9499999960000003,
           3.3430313860000003,
           3.3438995960000004,
           3.893547142,
           3.8910395589999998,
           3.652332634,
           3.592597393,
           3.7846106760000002,
           "Cluster 0"
          ],
          [
           "Europe & Central Asia (IDA & IBRD countries)",
           3.537976062,
           3.612690525,
           4.047882124,
           3.552856873,
           3.4807646410000004,
           3.385148495,
           3.605372687,
           3.816964108,
           3.794325476,
           3.642164316,
           3.6815884189999997,
           3.721762687,
           3.7981816160000004,
           3.951117848,
           4.401010223,
           4.068056417,
           3.818966004,
           3.9016659039999997,
           3.8579794,
           3.846191068,
           "Cluster 0"
          ],
          [
           "Latin America & the Caribbean (IDA & IBRD countries)",
           2.956811011,
           2.8777881119999997,
           2.968040205,
           3.004957842,
           3.20538333,
           3.0270711969999997,
           3.1075857360000003,
           2.9494428210000003,
           2.962835975,
           3.036156959,
           3.0753731689999997,
           3.0956160919999998,
           3.153372508,
           3.2389997839999998,
           3.700609301,
           3.5632974539999998,
           3.5165400680000003,
           3.452393518,
           3.551660225,
           3.7318080030000003,
           "Cluster 0"
          ],
          [
           "Latin America & Caribbean (excluding high income)",
           2.996164912,
           2.9066398089999996,
           3.008480229,
           3.040838015,
           3.2475128189999998,
           3.059905096,
           3.146714937,
           2.9871068739999997,
           3.037261298,
           3.0705763210000003,
           3.166319862,
           3.1677693789999997,
           3.2753891889999998,
           3.337349586,
           3.804703623,
           3.638582097,
           3.591022045,
           3.496118138,
           3.606970928,
           3.7073110839999996,
           "Cluster 0"
          ],
          [
           "Latin America & Caribbean",
           2.984770895,
           2.9017704010000003,
           2.990421248,
           3.029994934,
           3.235733893,
           3.0606926660000005,
           3.144669013,
           2.998687771,
           3.012572927,
           3.0775050760000005,
           3.161939378,
           3.1608411760000004,
           3.255992195,
           3.335194417,
           3.8119949810000002,
           3.6386887339999996,
           3.592871857,
           3.509236607,
           3.6191427860000003,
           3.73231283,
           "Cluster 0"
          ],
          [
           "Europe & Central Asia (excluding high income)",
           3.401579475,
           3.4078958989999997,
           4.035214654,
           3.4127523760000003,
           3.222938325,
           3.1671554810000004,
           3.357613026,
           3.60566463,
           3.621672658,
           3.4729823339999997,
           3.506735617,
           3.566116863,
           3.6357801139999997,
           3.735160497,
           4.21818788,
           3.878112626,
           3.6528350869999997,
           3.7801599689999996,
           3.736001803,
           3.714756912,
           "Cluster 0"
          ],
          [
           "Thailand",
           1.9694428380000002,
           2.150730975,
           2.536894078,
           2.455703581,
           2.314820676,
           2.302887157,
           2.292282152,
           3.330872158,
           3.467646858,
           3.33413422,
           3.3812775669999997,
           3.904107096,
           4.608862415,
           4.7146609,
           4.734495331000001,
           4.441559229,
           4.995567322,
           5.237115011,
           5.265840143999999,
           5.615380522000001,
           "Cluster 0"
          ],
          [
           "Uruguay",
           3.880155497,
           3.424728604,
           2.61225038,
           2.586152727,
           2.918063853,
           2.711547548,
           2.314327052,
           2.044716466,
           1.7534277219999999,
           7.293884084,
           7.069810766,
           7.2450250910000005,
           4.593274899,
           5.297812748999999,
           5.352676888,
           5.372432,
           5.520950685,
           5.947088677999999,
           6.074635227999999,
           6.111484304,
           "Cluster 0"
          ],
          [
           "Central Europe and the Baltics",
           4.678528481,
           4.753208836000001,
           4.604573867,
           4.499987761,
           4.679082306000001,
           4.539710822,
           4.6662723889999995,
           4.900195789,
           5.100249244,
           4.913629428,
           4.9708614110000005,
           4.841450127,
           4.80905668,
           5.054785185,
           5.3949206279999995,
           5.284380429,
           5.096212404,
           5.041317268,
           5.029265785,
           5.017716676,
           "Cluster 0"
          ],
          [
           "Algeria",
           2.6735943559999997,
           2.50218252,
           2.553365736,
           2.527980384,
           2.383331292,
           2.55856124,
           2.97171746,
           2.85227361,
           2.802237023,
           2.566248072,
           2.280233074,
           2.334850671,
           2.7055707910000004,
           3.0628038930000003,
           3.83796598,
           3.593208526,
           3.7757293080000003,
           4.52025089,
           5.188359049,
           5.24414553,
           "Cluster 0"
          ],
          [
           "Andorra",
           3.9826832960000003,
           4.235647223,
           4.297070495,
           5.737580229,
           3.9334656389999996,
           3.976548227,
           3.979763508,
           4.109589041,
           3.946179815,
           3.91626014,
           3.4597088489999996,
           3.5661223730000002,
           4.586322912,
           4.825070819,
           5.037537144,
           6.242026697000001,
           4.926289306,
           5.747039877000001,
           9.692356794,
           6.341446004,
           "Cluster 0"
          ]
         ],
         "hovertemplate": "Cluster=%{customdata[21]}<br>Country Name=%{customdata[0]}<br>1995=%{customdata[1]}<br>1996=%{customdata[2]}<br>1997=%{customdata[3]}<br>1998=%{customdata[4]}<br>1999=%{customdata[5]}<br>2000=%{customdata[6]}<br>2001=%{customdata[7]}<br>2002=%{customdata[8]}<br>2003=%{customdata[9]}<br>2004=%{customdata[10]}<br>2005=%{customdata[11]}<br>2006=%{customdata[12]}<br>2007=%{customdata[13]}<br>2008=%{customdata[14]}<br>2009=%{customdata[15]}<br>2010=%{customdata[16]}<br>2011=%{customdata[17]}<br>2012=%{customdata[18]}<br>2013=%{customdata[19]}<br>2014=%{customdata[20]}<extra></extra>",
         "legendgroup": "Cluster 0",
         "marker": {
          "color": "#636efa"
         },
         "name": "Cluster 0",
         "notched": true,
         "offsetgroup": "Cluster 0",
         "showlegend": false,
         "type": "box",
         "x": [
          "Cluster 0",
          "Cluster 0",
          "Cluster 0",
          "Cluster 0",
          "Cluster 0",
          "Cluster 0",
          "Cluster 0",
          "Cluster 0",
          "Cluster 0",
          "Cluster 0",
          "Cluster 0",
          "Cluster 0",
          "Cluster 0",
          "Cluster 0",
          "Cluster 0",
          "Cluster 0",
          "Cluster 0",
          "Cluster 0",
          "Cluster 0",
          "Cluster 0",
          "Cluster 0",
          "Cluster 0",
          "Cluster 0",
          "Cluster 0",
          "Cluster 0",
          "Cluster 0",
          "Cluster 0",
          "Cluster 0",
          "Cluster 0",
          "Cluster 0",
          "Cluster 0",
          "Cluster 0",
          "Cluster 0",
          "Cluster 0",
          "Cluster 0",
          "Cluster 0",
          "Cluster 0",
          "Cluster 0",
          "Cluster 0",
          "Cluster 0",
          "Cluster 0",
          "Cluster 0",
          "Cluster 0",
          "Cluster 0",
          "Cluster 0",
          "Cluster 0",
          "Cluster 0",
          "Cluster 0",
          "Cluster 0",
          "Cluster 0",
          "Cluster 0",
          "Cluster 0",
          "Cluster 0",
          "Cluster 0",
          "Cluster 0",
          "Cluster 0",
          "Cluster 0",
          "Cluster 0",
          "Cluster 0",
          "Cluster 0",
          "Cluster 0",
          "Cluster 0",
          "Cluster 0",
          "Cluster 0",
          "Cluster 0",
          "Cluster 0",
          "Cluster 0"
         ],
         "xaxis": "x2",
         "yaxis": "y2"
        },
        {
         "alignmentgroup": "True",
         "bingroup": "x",
         "hovertemplate": "Cluster=%{x}<br>count=%{y}<extra></extra>",
         "legendgroup": "Cluster 1",
         "marker": {
          "color": "#EF553B",
          "opacity": 0.7
         },
         "name": "Cluster 1",
         "offsetgroup": "Cluster 1",
         "orientation": "v",
         "showlegend": true,
         "type": "histogram",
         "x": [
          "Cluster 1",
          "Cluster 1",
          "Cluster 1",
          "Cluster 1",
          "Cluster 1",
          "Cluster 1",
          "Cluster 1",
          "Cluster 1",
          "Cluster 1",
          "Cluster 1",
          "Cluster 1",
          "Cluster 1",
          "Cluster 1",
          "Cluster 1",
          "Cluster 1",
          "Cluster 1",
          "Cluster 1",
          "Cluster 1",
          "Cluster 1",
          "Cluster 1",
          "Cluster 1",
          "Cluster 1",
          "Cluster 1",
          "Cluster 1",
          "Cluster 1",
          "Cluster 1",
          "Cluster 1",
          "Cluster 1",
          "Cluster 1",
          "Cluster 1",
          "Cluster 1",
          "Cluster 1",
          "Cluster 1",
          "Cluster 1",
          "Cluster 1",
          "Cluster 1",
          "Cluster 1",
          "Cluster 1",
          "Cluster 1",
          "Cluster 1",
          "Cluster 1",
          "Cluster 1",
          "Cluster 1",
          "Cluster 1",
          "Cluster 1"
         ],
         "xaxis": "x",
         "yaxis": "y"
        },
        {
         "alignmentgroup": "True",
         "customdata": [
          [
           "Micronesia, Fed. Sts.",
           8.69618637,
           8.135027023,
           7.277088411,
           6.4621381829999995,
           7.064856562999999,
           7.353309875,
           8.006993747000001,
           7.414073857999999,
           9.029862856,
           9.899822595,
           11.3112,
           11.03399209,
           11.13554688,
           11.6954023,
           12.1732852,
           12.61078232,
           12.53821521,
           11.58813926,
           12.08993842,
           12.43375207,
           "Cluster 1"
          ],
          [
           "Kiribati",
           8.96847138,
           8.797772304,
           8.982999914,
           6.656954317,
           8.444216993,
           7.5829204820000005,
           8.491803281000001,
           8.563909775,
           9.467625904,
           9.892086335,
           9.460431655,
           9.359712228,
           11.40077075,
           10.31166521,
           10.36476503,
           8.725609752999999,
           8.568862275,
           8.313609463999999,
           8.232914284,
           8.291027024,
           "Cluster 1"
          ],
          [
           "Finland",
           5.627186976,
           5.753535627000001,
           5.563132051,
           5.326593103,
           5.268778053999999,
           5.144464163,
           5.343613088,
           5.657160032,
           5.932232517999999,
           6.017266103,
           6.2218654739999995,
           6.27918843,
           6.031731023,
           6.253821942999999,
           6.896822789,
           6.73883183,
           6.753551156,
           7.040839875,
           7.204016684,
           7.289814272999999,
           "Cluster 1"
          ],
          [
           "France",
           8.058218715,
           8.042808693,
           7.944487318999999,
           7.844248058,
           7.831247747999999,
           7.759499572999999,
           7.848666574,
           8.141653894,
           8.127820878,
           8.20640927,
           8.266337172,
           8.173183403,
           8.118287794,
           8.16933746,
           8.74652319,
           8.679104958,
           8.731135953999999,
           8.826051795,
           8.910694046,
           9.024514376,
           "Cluster 1"
          ],
          [
           "United Kingdom",
           5.613873295,
           5.574901951,
           5.216401283,
           5.273439395,
           5.503507084,
           5.523467366,
           5.765949885,
           6.040016206000001,
           6.209568,
           6.482429976000001,
           6.658344919,
           6.826598411,
           6.794481096,
           7.220152923,
           8.162898056,
           7.94167603,
           7.765411293,
           7.80263316,
           7.780480937999999,
           7.578850169,
           "Cluster 1"
          ],
          [
           "Germany",
           7.678673477,
           8.117369547000001,
           8.08569888,
           8.040406659,
           8.012330015,
           7.9987526429999996,
           8.03376379,
           8.181587749,
           8.289385968,
           7.9198192579999995,
           8.006701839,
           7.85851875,
           7.7325195110000005,
           7.9017386620000005,
           8.709862289,
           8.575730796,
           8.307622306,
           8.361114536,
           8.569493975,
           8.697237324,
           "Cluster 1"
          ],
          [
           "Malta",
           3.819517745,
           4.105345357,
           4.384384401,
           4.443696789,
           4.393656255,
           4.742394807,
           4.8342677489999994,
           5.429400948,
           5.542024248,
           5.653685894,
           5.997448889,
           6.0463126979999995,
           5.482240553,
           5.156232157,
           5.2500287619999995,
           5.219545076,
           6.462012081,
           6.6252345660000005,
           6.554282826000001,
           6.74343039,
           "Cluster 1"
          ],
          [
           "Greece",
           4.301359499,
           4.325647391,
           4.232330999999999,
           4.1185477530000005,
           4.34042636,
           4.5622111,
           5.146070341000001,
           5.055646368000001,
           5.14686853,
           4.90873744,
           5.627319096,
           5.790832345,
           5.677828365,
           5.84985855,
           6.781079862,
           6.2163537479999995,
           6.682802397000001,
           6.274430226000001,
           6.066287526,
           4.985039193,
           "Cluster 1"
          ],
          [
           "Portugal",
           4.645839437,
           5.024970483,
           5.049986861,
           5.117457254,
           5.3179309130000005,
           6.193279482,
           6.233144247999999,
           6.4624051929999995,
           6.564295702000001,
           6.8934000829999995,
           6.989928936,
           6.5834602,
           6.506712635,
           6.674037277,
           7.160521451,
           7.171492441,
           6.70065608,
           6.238911387000001,
           6.2321554379999995,
           6.158189113,
           "Cluster 1"
          ],
          [
           "Austria",
           7.137100143,
           7.096256981,
           7.356728587999999,
           7.478719544,
           7.648251788,
           7.536366526,
           7.503314227000001,
           7.606508347999999,
           7.736479762,
           7.791336459,
           7.83141883,
           7.737932786,
           7.775802592000001,
           7.995856889,
           8.466129609,
           8.400006947,
           8.213674722999999,
           8.417189562,
           8.370613437000001,
           8.72502572,
           "Cluster 1"
          ],
          [
           "European Union",
           6.506458015,
           6.584349032,
           6.447821826,
           6.395838336000001,
           6.453924272,
           6.4399001160000005,
           6.570972316000001,
           6.747120362,
           6.899522022999999,
           6.9109638470000005,
           7.051118847000001,
           7.087790266,
           7.002368177999999,
           7.256592777000001,
           7.936430028999999,
           7.820468929,
           7.744258462,
           7.79306822,
           7.8369536570000005,
           7.818446175,
           "Cluster 1"
          ],
          [
           "Japan",
           5.451500805,
           5.342586047,
           5.469916116,
           5.652911799,
           5.909097683,
           6.087614007000001,
           6.297406178999999,
           6.361552576,
           6.420410051,
           6.47273952,
           6.657459568999999,
           6.596439242000001,
           6.715044868,
           6.995021791,
           7.753493212,
           7.861969364,
           8.318249839,
           8.409920777,
           8.528219096,
           8.550081685,
           "Cluster 1"
          ],
          [
           "Australia",
           4.775232585,
           4.856308024,
           5.016476282,
           5.084647809,
           5.326927409,
           5.399511666,
           5.42099866,
           5.620660145,
           5.50612734,
           5.724898888999999,
           5.661448484,
           5.660886591000001,
           5.765876395,
           5.927631008,
           6.186556011,
           6.127334253,
           6.315378278,
           6.285633269,
           6.274917138999999,
           6.316592657999999,
           "Cluster 1"
          ],
          [
           "Norway",
           6.499858794,
           6.45280883,
           6.697116683,
           7.454887071,
           7.547604056,
           6.82382819,
           7.22396035,
           8.027209665,
           8.247464055,
           7.888860771,
           7.430282026,
           7.062887755,
           7.219227008,
           7.091172877000001,
           8.021737678,
           7.839228687,
           7.717230788999999,
           7.773855997999999,
           8.005414287,
           8.309618200000001,
           "Cluster 1"
          ],
          [
           "Netherlands",
           5.286854099999999,
           4.9482342180000005,
           5.071556448,
           4.849467046,
           4.722084285,
           4.682621338,
           4.89473375,
           5.2119207030000005,
           5.627419176,
           5.591158703,
           6.668937025,
           7.974464533,
           7.980489499,
           8.209741428,
           8.901516849,
           9.081296075,
           9.085857928,
           9.528421586,
           9.617134752,
           9.481132729,
           "Cluster 1"
          ],
          [
           "United States",
           5.9094787879999995,
           5.891274291,
           5.830750135,
           5.676669198,
           5.613684996,
           5.653471017999999,
           6.074098006,
           6.423940796,
           6.618867537000001,
           6.69810039,
           6.722608977999999,
           6.882532539,
           7.01636006,
           7.367883673,
           8.014549675,
           8.079784435,
           8.07412666,
           8.042357809,
           8.045006773999999,
           8.278517711000001,
           "Cluster 1"
          ],
          [
           "Iceland",
           6.88713759,
           6.797412968,
           6.493117315,
           7.037368982,
           7.77504317,
           7.5449804160000005,
           7.405369028,
           8.074375998999999,
           8.231289339,
           7.794296374,
           7.499485021,
           7.349510337999999,
           7.225443543,
           7.2743097820000004,
           7.479480519,
           7.116064072,
           6.972243353,
           6.994047937,
           7.067580829,
           7.179705939,
           "Cluster 1"
          ],
          [
           "Italy",
           5.020894767,
           5.084493833,
           5.286288745,
           5.300234371,
           5.384669776,
           5.704658031,
           5.973164167999999,
           6.07690275,
           6.07045375,
           6.414766985,
           6.644147576,
           6.7435972920000005,
           6.487839661000001,
           6.836653592999999,
           7.248665862999999,
           7.256673496,
           6.969185175,
           6.993120899,
           6.967351379,
           6.992651033,
           "Cluster 1"
          ],
          [
           "High income",
           5.8528186589999995,
           5.861951134,
           5.81180873,
           5.837542174,
           5.859037054,
           5.853669228999999,
           6.131478777000001,
           6.354331656,
           6.509857349,
           6.545027623999999,
           6.604202186,
           6.657364768,
           6.685402534,
           6.945781465,
           7.638854311,
           7.562423022000001,
           7.546564171,
           7.556054525,
           7.573148687000001,
           7.6586505670000005,
           "Cluster 1"
          ],
          [
           "New Zealand",
           5.362051931,
           5.283706171,
           5.486240926,
           5.787903257000001,
           5.731562231,
           5.827839126000001,
           5.791984927000001,
           6.146520495,
           6.041511196,
           6.281577112999999,
           6.572475187,
           6.922995765,
           6.883399708,
           8.906984606,
           9.323010285,
           9.305461872999999,
           9.342877083,
           9.547666612999999,
           9.226556936,
           9.082656345,
           "Cluster 1"
          ],
          [
           "Palau",
           8.650190111,
           8.769106997,
           8.390541575,
           7.07424594,
           7.624323455,
           6.370625003,
           6.1851190460000005,
           5.948520708999999,
           6.0942528739999995,
           6.490673575,
           5.895631066,
           6.342105263,
           6.559764147999999,
           6.540845072000001,
           6.614646467999999,
           7.641116751,
           6.548387094,
           6.739224139,
           6.599186992000001,
           6.531970262000001,
           "Cluster 1"
          ],
          [
           "World",
           5.286303621,
           5.246769791,
           5.19680285,
           5.227929882,
           5.2749122989999995,
           5.2211192539999995,
           5.444044382,
           5.633904668,
           5.765420482000001,
           5.755465472000001,
           5.733553112999999,
           5.701873011,
           5.65229917,
           5.78265714,
           6.32094847,
           6.075446192999999,
           5.982564844,
           5.940788187000001,
           5.921679595,
           5.994028234,
           "Cluster 1"
          ],
          [
           "Sweden",
           6.901266869,
           7.1283580970000004,
           6.888226931,
           6.962480445,
           7.027549767000001,
           6.943698089,
           7.188240259,
           7.513944417,
           7.634858717999999,
           7.3951965379999995,
           7.354150307,
           7.259516112999999,
           7.254788683999999,
           7.521564636,
           8.100547687,
           7.7183103289999995,
           9.914691787999999,
           9.955521086000001,
           10.05201524,
           10.02469431,
           "Cluster 1"
          ],
          [
           "Cuba",
           4.648496225,
           4.756708361,
           4.986951137,
           5.226020532,
           5.474999382999999,
           5.509533717,
           5.670491082000001,
           5.724849955,
           5.648789044,
           5.468185582,
           8.744448247000001,
           7.081250077999999,
           9.883198101,
           10.29335824,
           11.28391889,
           9.70382827,
           10.07101019,
           8.088255377000001,
           8.962294541,
           10.57366249,
           "Cluster 1"
          ],
          [
           "Switzerland",
           4.999426018,
           5.292310568,
           5.3136251660000005,
           5.381639812,
           5.51555988,
           5.492175839,
           5.852946307000001,
           6.123779435,
           6.379751456,
           6.4003113570000005,
           6.459405675,
           6.141737847999999,
           6.032418431,
           6.703738631,
           7.209714872999999,
           7.09727006,
           7.2009273579999995,
           7.498784843999999,
           7.733805564,
           7.695117355,
           "Cluster 1"
          ],
          [
           "Slovak Republic",
           5.367669133,
           5.708260171,
           5.302839859,
           5.179371767,
           5.157902597,
           4.915242275,
           4.914849534,
           5.013706746,
           5.138875209,
           5.319742082,
           5.241058358,
           5.020215772,
           5.184301959,
           5.4353000510000005,
           6.012034516,
           5.797130372000001,
           5.643904536,
           5.679221056,
           5.7880822,
           5.8395992020000005,
           "Cluster 1"
          ],
          [
           "Post-demographic dividend",
           5.923737902999999,
           5.937932599,
           5.892328742999999,
           5.914243707000001,
           5.932601223,
           5.939920697000001,
           6.2178511610000005,
           6.445490047000001,
           6.611676409,
           6.657098828,
           6.744363002999999,
           6.812281987,
           6.853256687000001,
           7.145683267000001,
           7.822250526,
           7.781963316000001,
           7.795102793,
           7.812069609,
           7.833116298999999,
           7.914720128,
           "Cluster 1"
          ],
          [
           "Serbia",
           4.267816797,
           4.267816799999999,
           4.267816797,
           4.2678168030000005,
           4.267816797,
           4.267816797,
           4.600455039,
           5.837583112999999,
           5.766948594,
           5.672611076,
           5.742701002,
           5.664904303999999,
           6.146621793,
           6.228211971,
           6.12657588,
           6.241991647000001,
           6.039682906,
           6.049713243999999,
           5.984362308,
           6.416505605,
           "Cluster 1"
          ],
          [
           "Spain",
           5.3735065539999995,
           5.400270122999999,
           5.314511603,
           5.284405916,
           5.269708002,
           5.16745964,
           5.155738488,
           5.168936096,
           5.727875546,
           5.79793601,
           5.875803104,
           6.0053206370000005,
           6.098790144,
           6.512856144,
           7.209759954,
           7.173242115,
           7.001061132,
           6.734615203,
           6.502610209,
           6.399991901,
           "Cluster 1"
          ],
          [
           "Lesotho",
           3.562259305,
           3.780533582,
           3.117609003,
           3.272044207,
           3.239233383,
           3.4740210489999996,
           4.372510108,
           3.831319315,
           4.034880661,
           3.938291734,
           3.309584005,
           4.175710594,
           5.597512217,
           6.059683765,
           7.000413737000001,
           8.079925072,
           9.087435867,
           8.447350944,
           8.408564819,
           8.082167603,
           "Cluster 1"
          ],
          [
           "Europe & Central Asia",
           6.258717592999999,
           6.339840985,
           6.249748329,
           6.19495497,
           6.269452692000001,
           6.207590774,
           6.357420652,
           6.543767225,
           6.68023106,
           6.643569576,
           6.70922848,
           6.691295997,
           6.590409565,
           6.775062286,
           7.489585233,
           7.256678468,
           7.09676356,
           7.10705862,
           7.143518692000001,
           7.184029645,
           "Cluster 1"
          ],
          [
           "Maldives",
           3.662613659,
           3.603093758,
           3.54408858,
           4.648466888,
           4.74957875,
           5.119448212,
           3.7002680060000004,
           3.567182597,
           3.778200959,
           3.8768776689999997,
           7.126649771,
           5.237830448,
           4.553267366,
           7.025877902,
           6.729711552,
           5.273435237,
           5.608781865,
           6.50292714,
           8.263833455,
           10.75705209,
           "Cluster 1"
          ],
          [
           "Costa Rica",
           4.9819644169999995,
           5.065507246,
           4.838992757,
           5.6371740610000005,
           5.362922535,
           5.61242476,
           5.485507511000001,
           6.2834759920000005,
           6.450275287,
           5.653259257,
           5.4657120589999995,
           5.397313924,
           5.627837325,
           6.261310673,
           7.022189965,
           7.092617051,
           7.149714006,
           7.000226946000001,
           6.914441165,
           6.76760152,
           "Cluster 1"
          ],
          [
           "Canada",
           6.3135005,
           6.112419052999999,
           6.033111823,
           6.228970762,
           6.107698328,
           6.098426758,
           6.3649046810000005,
           6.514305746000001,
           6.694243642999999,
           6.719901986,
           6.723559526,
           6.788407822999999,
           6.893501359,
           7.063453852,
           7.914158212,
           7.88439634,
           7.676792501,
           7.651144554,
           7.575664927999999,
           7.4119318839999995,
           "Cluster 1"
          ],
          [
           "OECD members",
           5.837047317000001,
           5.841498345,
           5.7873592060000005,
           5.793233257000001,
           5.816090555,
           5.809017258,
           6.0848777929999995,
           6.308109241,
           6.476244914,
           6.522930721,
           6.584750763,
           6.646100419,
           6.68397179,
           6.97570711,
           7.653295827000001,
           7.58452343,
           7.588942977,
           7.608825853,
           7.617928345,
           7.692358487999999,
           "Cluster 1"
          ],
          [
           "Croatia",
           5.8306697629999995,
           6.135021776,
           4.893760696,
           5.7330917679999995,
           6.326324594,
           6.6022750629999996,
           5.96435491,
           4.955064171,
           5.242817131,
           5.314158705,
           5.930617257000001,
           5.984641875,
           6.477622756000001,
           6.538722947999999,
           7.006867431,
           7.064964214,
           6.25541215,
           6.363207061000001,
           6.403028794,
           6.388287591,
           "Cluster 1"
          ],
          [
           "Ireland",
           4.669802976000001,
           4.541905478,
           4.6448398619999995,
           4.494538697,
           4.461866317,
           4.466601084,
           4.911672749,
           5.1711671,
           5.402683783,
           5.5962288860000005,
           5.520724187999999,
           5.443878625,
           5.729910174,
           6.513027123,
           6.917241581,
           6.101439901,
           5.5260434620000005,
           5.622416984,
           5.333288818,
           5.141484076,
           "Cluster 1"
          ],
          [
           "North America",
           5.9389948960000005,
           5.907198654,
           5.845014468,
           5.71256593,
           5.645996433,
           5.683423459,
           6.092951705,
           6.429777137,
           6.624290735,
           6.699777867000001,
           6.722686909,
           6.874371534,
           7.005070493,
           7.338893627999999,
           8.005831942999999,
           8.060768597000001,
           8.033060722,
           8.002663479,
           7.998392667,
           8.197720774,
           "Cluster 1"
          ],
          [
           "Czech Republic",
           6.084042522000001,
           5.812945806,
           5.779225055,
           5.803851213,
           5.744610454,
           5.702534921,
           5.7649027539999995,
           6.149834668,
           6.404474042,
           6.15449697,
           6.054044375,
           5.805408814,
           5.556626261,
           5.628784423,
           6.5696540279999995,
           6.22493667,
           6.314732469,
           6.341764994,
           6.313087853,
           6.264976383,
           "Cluster 1"
          ],
          [
           "Denmark",
           6.7053440470000005,
           6.76753736,
           6.706312228,
           6.694654162000001,
           7.517019335,
           7.29518541,
           7.660538886,
           7.885050087000001,
           8.039900364,
           8.152818891,
           8.253254964,
           8.399549167,
           8.429011642999999,
           8.621214821,
           9.756125393,
           9.433817543,
           9.26885262,
           9.419660272,
           9.593210322000001,
           9.158734109,
           "Cluster 1"
          ],
          [
           "Euro area",
           6.716641592,
           6.819911767000001,
           6.775234333999999,
           6.713451942000001,
           6.707802202000001,
           6.725721019,
           6.824762086000001,
           6.9704907160000005,
           7.100569779,
           7.08237852,
           7.243410635,
           7.2751367270000005,
           7.183725909,
           7.419702701,
           8.060334166,
           7.985294914,
           7.851059524,
           7.904805463,
           7.961558065,
           8.001479856,
           "Cluster 1"
          ],
          [
           "Belgium",
           5.845320714,
           6.184037715,
           5.853458122999999,
           5.899438234,
           6.023602106,
           6.058374214,
           6.2528146289999995,
           6.24450897,
           6.9180965510000005,
           7.127857092999999,
           7.112748229,
           6.962370453999999,
           6.952936769,
           7.396754446,
           8.043822364,
           7.896702726,
           8.006737375,
           8.186298971,
           8.226719108,
           8.249989468999999,
           "Cluster 1"
          ],
          [
           "Slovenia",
           5.792909005,
           5.819026492000001,
           5.819143855,
           5.897932514,
           5.900414841,
           6.116332806,
           6.280502195,
           6.32476385,
           6.314120889,
           6.221904529,
           6.212733312999999,
           6.122382991,
           5.773929573999999,
           6.291263917999999,
           6.9246336820000005,
           6.72862594,
           6.673550483,
           6.803887187000001,
           6.668260437000001,
           6.623821787000001,
           "Cluster 1"
          ],
          [
           "Bosnia and Herzegovina",
           3.3504531589999997,
           4.802890013,
           3.4999255760000003,
           3.329547245,
           4.7307526289999995,
           4.032095716000001,
           4.312505733,
           4.422546498,
           5.478547872,
           5.173272164,
           4.865928659,
           4.979969839,
           5.334221943,
           5.812860562000001,
           6.803551255,
           6.788921332,
           6.923006484,
           7.080212274,
           6.629772276000001,
           6.813077082,
           "Cluster 1"
          ],
          [
           "Luxembourg",
           5.145716534,
           5.245560163,
           5.173766337,
           5.237903806,
           5.232189737,
           6.361267183,
           6.236389009,
           7.070858488,
           6.457623507,
           6.958297657999999,
           6.747706438,
           6.597379851,
           5.82007398,
           6.492969779,
           7.025644269,
           6.594701877,
           6.26066183,
           5.988070914,
           5.9392373229999995,
           5.822836062,
           "Cluster 1"
          ]
         ],
         "hovertemplate": "Cluster=%{customdata[21]}<br>Country Name=%{customdata[0]}<br>1995=%{customdata[1]}<br>1996=%{customdata[2]}<br>1997=%{customdata[3]}<br>1998=%{customdata[4]}<br>1999=%{customdata[5]}<br>2000=%{customdata[6]}<br>2001=%{customdata[7]}<br>2002=%{customdata[8]}<br>2003=%{customdata[9]}<br>2004=%{customdata[10]}<br>2005=%{customdata[11]}<br>2006=%{customdata[12]}<br>2007=%{customdata[13]}<br>2008=%{customdata[14]}<br>2009=%{customdata[15]}<br>2010=%{customdata[16]}<br>2011=%{customdata[17]}<br>2012=%{customdata[18]}<br>2013=%{customdata[19]}<br>2014=%{customdata[20]}<extra></extra>",
         "legendgroup": "Cluster 1",
         "marker": {
          "color": "#EF553B"
         },
         "name": "Cluster 1",
         "notched": true,
         "offsetgroup": "Cluster 1",
         "showlegend": false,
         "type": "box",
         "x": [
          "Cluster 1",
          "Cluster 1",
          "Cluster 1",
          "Cluster 1",
          "Cluster 1",
          "Cluster 1",
          "Cluster 1",
          "Cluster 1",
          "Cluster 1",
          "Cluster 1",
          "Cluster 1",
          "Cluster 1",
          "Cluster 1",
          "Cluster 1",
          "Cluster 1",
          "Cluster 1",
          "Cluster 1",
          "Cluster 1",
          "Cluster 1",
          "Cluster 1",
          "Cluster 1",
          "Cluster 1",
          "Cluster 1",
          "Cluster 1",
          "Cluster 1",
          "Cluster 1",
          "Cluster 1",
          "Cluster 1",
          "Cluster 1",
          "Cluster 1",
          "Cluster 1",
          "Cluster 1",
          "Cluster 1",
          "Cluster 1",
          "Cluster 1",
          "Cluster 1",
          "Cluster 1",
          "Cluster 1",
          "Cluster 1",
          "Cluster 1",
          "Cluster 1",
          "Cluster 1",
          "Cluster 1",
          "Cluster 1",
          "Cluster 1"
         ],
         "xaxis": "x2",
         "yaxis": "y2"
        },
        {
         "alignmentgroup": "True",
         "bingroup": "x",
         "hovertemplate": "Cluster=%{x}<br>count=%{y}<extra></extra>",
         "legendgroup": "Cluster 2",
         "marker": {
          "color": "#00cc96",
          "opacity": 0.7
         },
         "name": "Cluster 2",
         "offsetgroup": "Cluster 2",
         "orientation": "v",
         "showlegend": true,
         "type": "histogram",
         "x": [
          "Cluster 2",
          "Cluster 2",
          "Cluster 2",
          "Cluster 2",
          "Cluster 2",
          "Cluster 2",
          "Cluster 2",
          "Cluster 2",
          "Cluster 2",
          "Cluster 2",
          "Cluster 2",
          "Cluster 2",
          "Cluster 2",
          "Cluster 2",
          "Cluster 2",
          "Cluster 2",
          "Cluster 2",
          "Cluster 2",
          "Cluster 2",
          "Cluster 2",
          "Cluster 2",
          "Cluster 2",
          "Cluster 2",
          "Cluster 2",
          "Cluster 2",
          "Cluster 2",
          "Cluster 2",
          "Cluster 2",
          "Cluster 2",
          "Cluster 2",
          "Cluster 2",
          "Cluster 2",
          "Cluster 2",
          "Cluster 2",
          "Cluster 2",
          "Cluster 2",
          "Cluster 2",
          "Cluster 2",
          "Cluster 2",
          "Cluster 2",
          "Cluster 2",
          "Cluster 2",
          "Cluster 2",
          "Cluster 2",
          "Cluster 2",
          "Cluster 2",
          "Cluster 2",
          "Cluster 2",
          "Cluster 2",
          "Cluster 2",
          "Cluster 2",
          "Cluster 2",
          "Cluster 2",
          "Cluster 2",
          "Cluster 2",
          "Cluster 2",
          "Cluster 2",
          "Cluster 2",
          "Cluster 2",
          "Cluster 2",
          "Cluster 2",
          "Cluster 2",
          "Cluster 2",
          "Cluster 2",
          "Cluster 2",
          "Cluster 2",
          "Cluster 2",
          "Cluster 2",
          "Cluster 2",
          "Cluster 2",
          "Cluster 2",
          "Cluster 2",
          "Cluster 2",
          "Cluster 2",
          "Cluster 2",
          "Cluster 2",
          "Cluster 2",
          "Cluster 2",
          "Cluster 2",
          "Cluster 2",
          "Cluster 2",
          "Cluster 2",
          "Cluster 2",
          "Cluster 2",
          "Cluster 2",
          "Cluster 2",
          "Cluster 2",
          "Cluster 2",
          "Cluster 2",
          "Cluster 2",
          "Cluster 2",
          "Cluster 2",
          "Cluster 2",
          "Cluster 2",
          "Cluster 2",
          "Cluster 2",
          "Cluster 2",
          "Cluster 2",
          "Cluster 2",
          "Cluster 2",
          "Cluster 2",
          "Cluster 2",
          "Cluster 2",
          "Cluster 2",
          "Cluster 2",
          "Cluster 2",
          "Cluster 2",
          "Cluster 2",
          "Cluster 2"
         ],
         "xaxis": "x",
         "yaxis": "y"
        },
        {
         "alignmentgroup": "True",
         "customdata": [
          [
           "Vietnam",
           1.757862744,
           1.632231732,
           1.604611275,
           1.731437579,
           1.717060034,
           1.513863444,
           1.627560706,
           1.447735609,
           1.551822426,
           1.393649581,
           1.4195695640000001,
           1.94486753,
           2.563552268,
           2.1319632019999997,
           2.5691874219999997,
           2.9609666289999996,
           2.805001867,
           3.722124141,
           3.796360562,
           3.820019105,
           "Cluster 2"
          ],
          [
           "Morocco",
           1.184133718,
           1.14335155,
           1.073390243,
           1.179102117,
           1.149141903,
           1.229737845,
           1.427759227,
           1.378808948,
           1.39499543,
           1.4295298019999998,
           1.4389258669999998,
           1.7144025040000002,
           1.8980773180000001,
           1.891971766,
           2.046396065,
           2.0675720369999997,
           2.08777206,
           2.181466365,
           1.95774948,
           2.001326276,
           "Cluster 2"
          ],
          [
           "Nepal",
           1.407378795,
           1.42214041,
           1.4710270630000002,
           2.554396091,
           1.763231864,
           1.352123349,
           1.5944633019999999,
           1.640840974,
           1.527687611,
           1.590326576,
           1.585328429,
           2.044874971,
           2.2831250830000003,
           2.725698705,
           2.824395263,
           2.867317073,
           3.24209748,
           2.466854595,
           2.2199025619999997,
           2.337819114,
           "Cluster 2"
          ],
          [
           "Myanmar",
           0.40560317,
           0.33454759,
           0.262807177,
           0.16829349300000002,
           0.170964179,
           0.26099717100000003,
           0.224982015,
           0.313588382,
           0.243334548,
           0.266961522,
           0.164974085,
           0.256312052,
           0.19819528600000003,
           0.207554701,
           0.232553662,
           0.299251928,
           0.297624635,
           0.819629102,
           0.826846155,
           1.0448998040000002,
           "Cluster 2"
          ],
          [
           "Venezuela, RB",
           1.803152127,
           1.482414909,
           1.3873164880000002,
           1.466015602,
           1.83342208,
           2.163059483,
           2.3407567019999997,
           2.1513320019999997,
           2.079300496,
           2.158140627,
           2.153332428,
           2.221770123,
           2.4647812030000003,
           1.230489115,
           2.496312442,
           2.088239278,
           2.33545129,
           1.675638027,
           1.5428590880000002,
           1.5427659459999998,
           "Cluster 2"
          ],
          [
           "Mongolia",
           2.598917911,
           3.0338893369999997,
           3.06342556,
           3.4813274830000003,
           3.417399945,
           3.828286275,
           3.89985284,
           3.455279064,
           2.918031289,
           2.92676436,
           2.484591225,
           2.3969135919999998,
           2.736412235,
           3.18351906,
           2.768372713,
           2.654478067,
           2.595706257,
           2.260514895,
           2.21159453,
           2.620572882,
           "Cluster 2"
          ],
          [
           "Uzbekistan",
           3.6000000030000003,
           3.7000000010000003,
           3.300000002,
           2.9445866919999997,
           2.804581287,
           2.5156908159999998,
           2.5501141069999997,
           2.424055326,
           2.3806037019999997,
           2.26249735,
           2.279013274,
           2.4548033890000003,
           2.298687476,
           2.529900054,
           2.619290185,
           2.7513171560000003,
           2.863900619,
           3.1273714530000003,
           3.117906257,
           3.11124825,
           "Cluster 2"
          ],
          [
           "United Arab Emirates",
           2.0817381580000003,
           1.948805565,
           1.9483958190000001,
           2.056706777,
           1.9176294719999998,
           1.6770585919999998,
           1.944492099,
           1.7139829819999999,
           1.67154037,
           1.45604253,
           1.36889725,
           1.3825069509999999,
           1.5553772380000002,
           1.9216341030000001,
           3.0341259469999997,
           2.834165586,
           2.732488042,
           2.550025889,
           2.557326087,
           2.636151579,
           "Cluster 2"
          ],
          [
           "Nigeria",
           0.658145013,
           0.6004809210000001,
           0.717612288,
           0.9066261859999999,
           0.9836661459999999,
           0.949286025,
           1.0177073509999999,
           0.622004345,
           0.9066617840000001,
           1.4147604390000001,
           1.19778681,
           1.204600858,
           1.472728808,
           1.470059403,
           1.324670016,
           0.908580697,
           1.151611248,
           1.033169532,
           0.8826272559999999,
           0.9225351270000001,
           "Cluster 2"
          ],
          [
           "Sudan",
           0.785822105,
           1.1132446329999999,
           0.8913511359999999,
           0.947423065,
           0.7634364029999999,
           0.887398963,
           0.755115843,
           0.7832779759999999,
           0.883215533,
           1.080722762,
           1.091364,
           1.270562706,
           1.511842397,
           2.630955513,
           2.356734868,
           2.698468913,
           2.557343508,
           1.8717955609999999,
           1.859793759,
           1.802361864,
           "Cluster 2"
          ],
          [
           "St. Kitts and Nevis",
           3.210272875,
           3.167420812,
           2.96495957,
           3.0322580639999996,
           3.038774765,
           2.572590516,
           2.262442891,
           2.091861802,
           2.087233898,
           1.8705093169999998,
           1.9221866930000002,
           2.336683006,
           2.154610635,
           2.030668845,
           2.193108956,
           2.532022242,
           2.26067011,
           2.375174636,
           2.183728661,
           2.144605023,
           "Cluster 2"
          ],
          [
           "Sri Lanka",
           1.615371713,
           1.611450175,
           1.520769471,
           1.878021898,
           1.7467114680000002,
           1.846321629,
           1.7582096980000002,
           1.6833360119999998,
           1.677615192,
           2.005508786,
           1.85010327,
           1.950059208,
           1.825976447,
           1.5815241269999998,
           1.53517067,
           1.5538039369999999,
           1.38092651,
           1.219599412,
           2.102564149,
           1.96395333,
           "Cluster 2"
          ],
          [
           "Syrian Arab Republic",
           2.189237706,
           1.9540946959999999,
           1.8777604769999998,
           1.960923229,
           2.01442573,
           1.989779169,
           2.173051471,
           2.262242934,
           2.4683381680000003,
           2.148408978,
           2.075568445,
           1.833546841,
           1.7896512969999998,
           1.5964767030000002,
           1.631376352,
           1.507165795,
           1.507165794,
           1.507165792,
           1.507165795,
           1.507165795,
           "Cluster 2"
          ],
          [
           "Tajikistan",
           1.289444392,
           1.296720852,
           1.601227323,
           1.141229192,
           1.040832288,
           0.946474655,
           0.9497662490000001,
           0.9065827479999999,
           0.910560376,
           0.94333442,
           1.1438192790000001,
           1.129053783,
           1.184751796,
           1.371774183,
           1.478536975,
           1.594683309,
           1.71027997,
           1.87760452,
           2.067731786,
           1.983765009,
           "Cluster 2"
          ],
          [
           "Tanzania",
           1.3671389859999998,
           1.174080484,
           1.127228367,
           1.009735219,
           1.1200299009999999,
           1.1459393759999998,
           1.769595394,
           2.106622222,
           2.573524874,
           2.565945049,
           2.965165865,
           4.763505728,
           3.038471158,
           2.435878095,
           2.109638156,
           2.072897335,
           2.4866151380000003,
           2.790460229,
           2.565408087,
           2.589958711,
           "Cluster 2"
          ],
          [
           "Togo",
           1.5142425659999998,
           1.476366118,
           1.263694426,
           1.5228179240000002,
           1.4206208740000001,
           1.420842968,
           1.25272483,
           0.906148993,
           1.441999812,
           1.6843732040000001,
           1.898455965,
           2.2596331419999998,
           2.157573571,
           2.416491795,
           3.2782154439999998,
           1.9385851369999998,
           1.655337459,
           1.947797344,
           2.148307048,
           2.01732113,
           "Cluster 2"
          ],
          [
           "Singapore",
           1.456150914,
           1.391903127,
           1.344772866,
           1.66411043,
           1.4782905990000001,
           1.217784989,
           0.887039769,
           1.0589667740000002,
           1.346161446,
           1.030256162,
           1.003758123,
           1.0010905540000001,
           0.955389862,
           1.20049011,
           1.526597419,
           1.3714286169999998,
           1.346479037,
           1.501077737,
           1.735920655,
           2.054683314,
           "Cluster 2"
          ],
          [
           "Sierra Leone",
           2.388388089,
           2.163428251,
           2.513163766,
           2.0471494480000003,
           3.064624564,
           3.49413205,
           2.824141502,
           2.9649160219999997,
           2.784261175,
           2.683917256,
           2.676174105,
           1.961695331,
           1.645375923,
           1.7879205000000002,
           2.2075173169999998,
           2.396940634,
           2.646933502,
           1.980878492,
           1.6946554809999999,
           1.8838018559999998,
           "Cluster 2"
          ],
          [
           "Mexico",
           2.130169342,
           1.9017575580000001,
           2.108606157,
           2.209776657,
           2.3947401530000003,
           2.318107511,
           2.39862085,
           2.4220273480000003,
           2.541277434,
           2.688003906,
           2.618877856,
           2.560345155,
           2.6423747680000003,
           2.7609368169999997,
           3.095935571,
           3.103295671,
           3.067131298,
           3.160971159,
           3.2569934060000003,
           3.2595515739999996,
           "Cluster 2"
          ],
          [
           "Niger",
           1.46894782,
           1.28448572,
           1.6847956030000002,
           1.6945951419999998,
           1.6988028130000001,
           1.5224654819999999,
           1.8667212,
           1.909258365,
           1.6804503130000001,
           1.845863957,
           2.978654315,
           3.175497048,
           2.662864682,
           2.6958767939999997,
           2.650386504,
           2.162436939,
           2.453245216,
           2.211834697,
           2.455677176,
           3.214493821,
           "Cluster 2"
          ],
          [
           "Senegal",
           1.2798538309999998,
           1.4840143330000002,
           1.2842599890000002,
           1.311168581,
           1.741001217,
           1.8955416319999998,
           2.135240269,
           1.95048094,
           2.09132832,
           2.1192570930000003,
           2.9824374189999996,
           3.149901608,
           2.3325124280000002,
           2.52752637,
           2.486263648,
           2.368547813,
           2.2798394,
           2.179866218,
           2.238315424,
           2.41795607,
           "Cluster 2"
          ],
          [
           "Trinidad and Tobago",
           2.638269986,
           2.386765057,
           2.344393146,
           1.952658896,
           2.344861306,
           1.9555948980000002,
           2.226981196,
           2.647006573,
           2.599973229,
           2.599777231,
           2.641981687,
           2.2319773019999998,
           2.37526743,
           2.164450301,
           3.2808106789999996,
           3.018338697,
           2.680151372,
           2.894988852,
           3.144494274,
           3.174627521,
           "Cluster 2"
          ],
          [
           "Rwanda",
           1.639887766,
           1.875693261,
           1.8534048269999999,
           2.558416099,
           2.083504954,
           1.65315324,
           2.138891489,
           2.182617409,
           3.345043303,
           2.875959967,
           3.1994948919999997,
           4.98059157,
           3.780193618,
           2.8301189489999996,
           2.402053946,
           2.928013553,
           2.810805898,
           2.835877205,
           2.9251774489999995,
           2.86940115,
           "Cluster 2"
          ],
          [
           "Turkmenistan",
           1.8558282190000002,
           2.261439427,
           3.479223681,
           3.501250448,
           2.385819704,
           3.214627605,
           2.817917069,
           2.43147657,
           2.708526219,
           2.4214305080000003,
           2.021050273,
           1.5455485169999998,
           1.388148149,
           0.946836468,
           1.163073225,
           1.223637874,
           1.268097271,
           1.273376388,
           1.4260022369999998,
           1.348530564,
           "Cluster 2"
          ],
          [
           "Uganda",
           1.419934953,
           1.4132376530000001,
           1.434781572,
           1.895182926,
           1.6585483509999999,
           1.837958926,
           1.9800486640000001,
           2.105321926,
           1.948108485,
           2.265551769,
           2.36197808,
           2.472357111,
           2.461809429,
           2.302819536,
           1.814334366,
           3.118358422,
           2.633267177,
           2.15389932,
           2.087896717,
           1.801251317,
           "Cluster 2"
          ],
          [
           "Qatar",
           2.3204105040000003,
           2.494258485,
           2.14754465,
           2.26219926,
           1.9516241730000001,
           1.574730065,
           1.9219924780000002,
           2.035923049,
           3.488087043,
           3.0369040139999997,
           2.535151656,
           2.172082184,
           1.9433211680000002,
           1.574182634,
           2.065527913,
           1.6208308630000001,
           1.5059314080000001,
           1.8314776730000002,
           1.85480107,
           1.87539141,
           "Cluster 2"
          ],
          [
           "Philippines",
           1.363656828,
           1.451424131,
           1.558107718,
           1.373206902,
           1.428355789,
           1.526761368,
           1.3244430759999999,
           1.116642339,
           1.306200566,
           1.3031314390000002,
           1.5016485869999998,
           1.452187111,
           1.367826516,
           1.332745624,
           1.54867658,
           1.57369151,
           1.306362975,
           1.386256358,
           1.449217044,
           1.614685219,
           "Cluster 2"
          ],
          [
           "Peru",
           2.4000535530000002,
           2.439421903,
           2.266327886,
           2.571913148,
           2.829916303,
           2.720831514,
           2.83143959,
           2.825705616,
           2.690862148,
           2.543761347,
           2.69389613,
           2.392145848,
           2.414623092,
           2.452033774,
           2.983444427,
           2.794287232,
           2.624140306,
           2.846647646,
           3.0451036680000003,
           3.31875118,
           "Cluster 2"
          ],
          [
           "Paraguay",
           2.1300236740000003,
           2.395655422,
           2.428081297,
           2.821045288,
           3.030939089,
           3.2306281489999997,
           2.654111955,
           2.16010372,
           1.94949197,
           2.031570671,
           2.355197356,
           2.610014991,
           2.6921865680000003,
           2.713075726,
           3.498680631,
           3.360902763,
           3.765919165,
           4.598601243,
           4.781259119,
           4.502240378,
           "Cluster 2"
          ],
          [
           "Pakistan",
           0.655509247,
           0.7153439309999999,
           0.6555669679999999,
           0.5714069,
           0.55473074,
           0.608602423,
           0.551524181,
           0.80938608,
           0.648320921,
           0.677300991,
           0.6859182840000001,
           0.7887748040000001,
           0.7988322409999999,
           0.839235884,
           0.802903527,
           0.954234466,
           0.919768299,
           1.0184630190000001,
           0.994330811,
           0.9188114740000001,
           "Cluster 2"
          ],
          [
           "Oman",
           3.060043613,
           2.984456681,
           2.782569753,
           3.0185177010000004,
           2.8937463589999997,
           2.51203413,
           2.528963608,
           2.654750721,
           2.629465786,
           2.437561733,
           2.130347883,
           1.8645977580000002,
           1.968289323,
           1.586300815,
           2.3007373269999998,
           2.269729033,
           2.039566518,
           2.079956768,
           2.4085738130000003,
           3.190228575,
           "Cluster 2"
          ],
          [
           "Saudi Arabia",
           1.5431946069999998,
           1.617271884,
           1.7527047119999999,
           1.945860041,
           2.8033962839999997,
           3.051834468,
           3.25646885,
           3.090089872,
           2.89642297,
           2.561828615,
           2.4783645,
           2.641391252,
           2.5073977469999997,
           1.8894052119999998,
           2.788237062,
           2.2652001090000002,
           2.495887158,
           2.7522826960000004,
           3.1003695560000004,
           3.4907897410000004,
           "Cluster 2"
          ],
          [
           "Mauritius",
           1.9791546869999999,
           1.904916232,
           1.91146883,
           1.954499964,
           1.8827777280000002,
           1.96954971,
           2.004170598,
           2.180551666,
           2.1883490930000002,
           2.349088838,
           2.214836795,
           2.047507497,
           1.872909835,
           1.782954216,
           2.168691339,
           2.5825881280000003,
           2.46122411,
           2.292702791,
           2.3655561919999997,
           2.364685746,
           "Cluster 2"
          ],
          [
           "Arab World",
           2.004867785,
           2.0146024280000003,
           2.071308732,
           2.177711645,
           2.331000345,
           2.3335961,
           2.58875078,
           2.54023836,
           2.450414915,
           2.314914077,
           2.134281009,
           2.133037666,
           2.16687238,
           2.101232726,
           2.830066845,
           2.4896314569999998,
           2.539570311,
           2.7112619789999997,
           2.895427378,
           3.0731609939999998,
           "Cluster 2"
          ],
          [
           "Chad",
           2.011375251,
           1.960913759,
           1.963588748,
           1.659397007,
           1.9898415530000002,
           2.66748418,
           2.396482425,
           2.691863992,
           2.268320284,
           2.299355155,
           1.55797137,
           1.128978799,
           1.2502512209999999,
           0.996604191,
           1.231522791,
           1.185137165,
           1.534874565,
           1.421939407,
           1.774692315,
           1.9789501619999998,
           "Cluster 2"
          ],
          [
           "Upper middle income",
           2.719154058,
           2.6691794090000003,
           2.8588169989999996,
           2.755691745,
           2.7583880960000005,
           2.64226068,
           2.6614438999999996,
           2.653640275,
           2.7072452680000003,
           2.71322832,
           2.754573558,
           2.798324718,
           2.916842398,
           3.039129579,
           3.401348935,
           3.258324431,
           3.26052306,
           3.3247364010000005,
           3.3759578180000003,
           3.424686871,
           "Cluster 2"
          ],
          [
           "Albania",
           1.713004455,
           1.7461975459999999,
           2.024509405,
           2.0951277569999998,
           2.510171417,
           2.2584179580000003,
           2.2922240190000003,
           2.256325893,
           2.2521041509999997,
           2.67940487,
           2.7064554430000003,
           2.5751360919999997,
           2.6291710999999998,
           2.69389845,
           2.833575743,
           2.47656803,
           2.84917086,
           2.7357041,
           2.8359842360000003,
           2.936373275,
           "Cluster 2"
          ],
          [
           "Angola",
           4.659118212,
           1.7397817740000001,
           2.0192194409999997,
           1.414705389,
           2.131797787,
           1.677216464,
           2.812403394,
           1.685217542,
           2.044369358,
           2.407840515,
           2.02464638,
           3.022435345,
           2.213764019,
           2.716334452,
           2.663917207,
           2.0612546640000002,
           2.155094274,
           2.137316503,
           3.080408392,
           2.124912195,
           "Cluster 2"
          ],
          [
           "Armenia",
           1.996272562,
           1.621148073,
           1.407496163,
           1.644913074,
           1.612414885,
           1.1375319990000001,
           1.5914746219999998,
           1.361332463,
           1.516570269,
           1.404450704,
           1.905053401,
           2.0528820530000003,
           2.099284998,
           1.764770313,
           2.010005376,
           1.9227140630000001,
           1.938903536,
           1.8756815409999998,
           1.946690997,
           1.925675667,
           "Cluster 2"
          ],
          [
           "Azerbaijan",
           1.3917525780000002,
           1.485547019,
           1.228625713,
           0.903807033,
           0.985430464,
           0.866892751,
           0.84650113,
           0.791817883,
           0.82967797,
           1.0286700359999998,
           0.880905375,
           0.86418436,
           0.980253879,
           0.824675486,
           1.33896972,
           1.168020723,
           1.080987674,
           1.210596594,
           1.150183905,
           1.230967479,
           "Cluster 2"
          ],
          [
           "Bahamas, The",
           2.729658793,
           2.773621504,
           2.357290763,
           2.539504821,
           2.467818788,
           2.502547587,
           2.466895954,
           2.5106654280000003,
           2.647886116,
           2.880435634,
           2.642189647,
           3.2726021,
           3.18150171,
           3.354877435,
           3.5265241489999997,
           3.4608155039999997,
           3.575056242,
           3.298249273,
           3.07695572,
           3.5506726960000004,
           "Cluster 2"
          ],
          [
           "Bahrain",
           2.818546496,
           2.7515132039999997,
           3.047721744,
           2.881320773,
           2.838727708,
           2.36241776,
           2.532878513,
           2.5843232030000003,
           2.501123649,
           2.267809586,
           2.156522233,
           2.125250656,
           2.184567246,
           2.313058037,
           2.748444379,
           2.593379391,
           2.383532755,
           2.7626622419999998,
           3.015994395,
           3.150500297,
           "Cluster 2"
          ],
          [
           "Bangladesh",
           1.199805247,
           1.0312841240000001,
           0.968124768,
           0.9353350979999999,
           0.9351601490000001,
           0.946712407,
           1.024926461,
           1.067809827,
           0.975548071,
           1.042067184,
           0.9668001420000001,
           1.038830186,
           0.987683698,
           0.9537524690000001,
           0.991099631,
           1.05017299,
           1.041090103,
           0.984483722,
           0.810323956,
           0.786532509,
           "Cluster 2"
          ],
          [
           "Belize",
           2.632365197,
           2.048040973,
           2.263610979,
           2.155696602,
           2.035489918,
           2.091697325,
           2.5894225509999997,
           2.456541789,
           2.589394307,
           2.507171752,
           2.647951095,
           2.669250969,
           3.022312925,
           3.290674586,
           3.862427163,
           3.858381866,
           3.725604295,
           3.5777434360000004,
           3.777130746,
           3.879657845,
           "Cluster 2"
          ],
          [
           "Benin",
           2.111729724,
           2.0315509240000003,
           1.814422789,
           1.939795897,
           2.109912315,
           1.917526784,
           2.308263635,
           1.888670405,
           2.2112665259999997,
           2.175232784,
           2.3524798909999998,
           2.385750932,
           2.307085606,
           2.137696725,
           2.328624079,
           2.688570362,
           2.9290097580000003,
           2.15409384,
           2.215456479,
           2.251196286,
           "Cluster 2"
          ],
          [
           "Brunei Darussalam",
           2.294038745,
           3.0164979919999997,
           3.01723691,
           3.7179108860000003,
           3.1839404819999997,
           2.59858883,
           2.576781266,
           2.5673854080000003,
           2.593538693,
           2.522266585,
           2.2158971480000003,
           1.929077942,
           2.03867096,
           2.015774515,
           2.591951691,
           2.520024437,
           2.066757971,
           2.112532457,
           2.407480899,
           2.485567877,
           "Cluster 2"
          ],
          [
           "Burkina Faso",
           1.8658619580000002,
           1.933787219,
           2.0678869680000003,
           2.061326682,
           2.191443603,
           2.016915355,
           1.832448876,
           2.256686535,
           2.6042529930000002,
           3.464384444,
           4.091775992,
           3.741064955,
           3.995721739,
           3.996973964,
           3.6583793260000004,
           3.9711797669999997,
           2.95514785,
           2.98036859,
           3.48939536,
           2.593973739,
           "Cluster 2"
          ],
          [
           "Burundi",
           1.34643228,
           1.4941034169999998,
           1.130843622,
           1.2478422040000001,
           1.238485735,
           1.4043644640000001,
           1.6344859109999998,
           1.55512254,
           1.345188237,
           2.544952098,
           2.937796431,
           3.5288293360000003,
           3.7804362,
           3.355311709,
           3.093040181,
           5.499656744,
           5.401877297,
           4.930865336,
           4.3966530530000005,
           3.9737275569999997,
           "Cluster 2"
          ],
          [
           "Cambodia",
           1.1239033040000002,
           2.642772374,
           2.0557185319999998,
           1.356775567,
           1.184934454,
           1.3401496179999999,
           1.30376831,
           1.520439279,
           2.416164271,
           2.3923241180000003,
           1.618218744,
           1.2352885740000001,
           1.321770862,
           1.1113312290000001,
           1.312468532,
           1.440774999,
           1.33985553,
           1.5033406980000001,
           1.397584709,
           1.251042011,
           "Cluster 2"
          ],
          [
           "Cameroon",
           0.9002687140000001,
           0.893368284,
           0.978965995,
           0.7846296140000001,
           0.8337348240000001,
           0.9326291859999999,
           1.1291992770000001,
           1.290383204,
           1.3317280120000001,
           1.129638122,
           1.120079177,
           1.076092314,
           1.065776207,
           1.049287334,
           1.28313286,
           1.5076022759999999,
           1.331447157,
           1.066747097,
           1.012469674,
           0.9386336909999999,
           "Cluster 2"
          ],
          [
           "Sub-Saharan Africa (IDA & IBRD countries)",
           2.449863298,
           2.516644595,
           2.494454088,
           2.437191306,
           2.374140004,
           2.271764359,
           2.36589666,
           2.179881571,
           2.392890886,
           2.48694164,
           2.485235818,
           2.510834419,
           2.4624205690000003,
           2.5124766309999997,
           2.71107721,
           2.48903738,
           2.624569905,
           2.543530054,
           2.4598089,
           2.314823041,
           "Cluster 2"
          ],
          [
           "Sub-Saharan Africa (excluding high income)",
           2.447084114,
           2.513732415,
           2.490668403,
           2.433949374,
           2.370627245,
           2.2691877519999997,
           2.363319605,
           2.177062415,
           2.3902048280000003,
           2.484998793,
           2.4836869530000003,
           2.509609703,
           2.4617436809999997,
           2.512576224,
           2.71133,
           2.4885153559999997,
           2.6241637030000002,
           2.5426359130000002,
           2.459070655,
           2.3141783609999997,
           "Cluster 2"
          ],
          [
           "Sub-Saharan Africa",
           2.449863298,
           2.516644595,
           2.494454088,
           2.437191306,
           2.374140004,
           2.271764359,
           2.36589666,
           2.179881571,
           2.392890886,
           2.48694164,
           2.485235818,
           2.510834419,
           2.4624205690000003,
           2.5124766309999997,
           2.71107721,
           2.48903738,
           2.624569905,
           2.543530054,
           2.4598089,
           2.314823041,
           "Cluster 2"
          ],
          [
           "South Asia (IDA & IBRD)",
           1.03503164,
           0.99799026,
           1.0374988109999999,
           1.070832413,
           1.081228019,
           1.0670523109999999,
           1.042238308,
           1.032538376,
           0.9733766779999999,
           1.018914387,
           1.103442311,
           1.103521575,
           1.09051214,
           1.151605829,
           1.205501388,
           1.181098088,
           1.181152879,
           1.19027209,
           1.28224814,
           1.3678991719999998,
           "Cluster 2"
          ],
          [
           "Caribbean small states",
           2.8015183710000002,
           2.856683624,
           2.9971566689999998,
           2.9894512000000004,
           2.7678577189999998,
           2.826752141,
           2.6799687530000003,
           2.888692649,
           2.740592575,
           2.845970706,
           2.629579982,
           2.650899715,
           2.79066499,
           2.8229131219999997,
           3.408651206,
           3.264063783,
           3.08765286,
           3.3143030839999996,
           3.318431579,
           3.2600123180000002,
           "Cluster 2"
          ],
          [
           "Early-demographic dividend",
           2.203164007,
           2.156631825,
           2.227311469,
           2.364099533,
           2.454393636,
           2.450554821,
           2.52708105,
           2.347701787,
           2.36326343,
           2.346823705,
           2.337346649,
           2.369883662,
           2.385250838,
           2.405125681,
           2.701259981,
           2.5071308709999998,
           2.495490968,
           2.497340218,
           2.586701422,
           2.665602603,
           "Cluster 2"
          ],
          [
           "East Asia & Pacific (excluding high income)",
           1.615852443,
           1.640251145,
           1.6783221080000001,
           1.764602604,
           1.75401335,
           1.689184662,
           1.626887281,
           1.736855763,
           1.8086373709999999,
           1.815666676,
           1.79631989,
           1.8752670930000002,
           2.076666145,
           2.256213902,
           2.5749937469999997,
           2.53842979,
           2.669787471,
           2.8114897130000003,
           2.881804892,
           2.975050955,
           "Cluster 2"
          ],
          [
           "East Asia & Pacific (IDA & IBRD countries)",
           1.615852443,
           1.640251145,
           1.6783221080000001,
           1.764602604,
           1.75401335,
           1.689184662,
           1.626887281,
           1.736855763,
           1.8086373709999999,
           1.815666676,
           1.79631989,
           1.8752670930000002,
           2.076666145,
           2.256213902,
           2.5749937469999997,
           2.53842979,
           2.669787471,
           2.8114897130000003,
           2.881804892,
           2.975050955,
           "Cluster 2"
          ],
          [
           "Heavily indebted poor countries (HIPC)",
           1.630562619,
           1.7167492340000001,
           1.65244635,
           1.7718702569999998,
           1.834357688,
           1.79637023,
           2.015090682,
           2.068192564,
           2.1669018159999998,
           2.216858939,
           2.345166979,
           2.4488834919999998,
           2.3024619090000003,
           2.429057526,
           2.539924114,
           2.712862763,
           2.661827679,
           2.58866833,
           2.580611781,
           2.532968767,
           "Cluster 2"
          ],
          [
           "Late-demographic dividend",
           2.749846218,
           2.750524463,
           2.94232719,
           2.7954760419999998,
           2.721888766,
           2.5495596369999998,
           2.589519016,
           2.719474646,
           2.735925695,
           2.744432242,
           2.775096107,
           2.818204592,
           2.932192624,
           3.090526918,
           3.408418886,
           3.27272891,
           3.265710729,
           3.349820181,
           3.376662873,
           3.4269252519999998,
           "Cluster 2"
          ],
          [
           "Least developed countries: UN classification",
           1.52548196,
           1.4297370919999999,
           1.430388652,
           1.471607242,
           1.522391719,
           1.465800489,
           1.689041896,
           1.690471391,
           1.800899345,
           1.880999571,
           1.898899247,
           2.157903627,
           1.9138546930000002,
           2.140700178,
           2.172629716,
           2.198171697,
           2.177006608,
           1.96354228,
           2.031209935,
           1.919877296,
           "Cluster 2"
          ],
          [
           "Central African Republic",
           1.363974592,
           2.023371914,
           1.216183896,
           1.4170993580000002,
           1.871718297,
           2.1021468359999997,
           1.863889207,
           2.062251945,
           2.0768119130000002,
           1.845115241,
           2.1146899390000002,
           1.923990235,
           2.036722449,
           2.290508965,
           1.497162132,
           1.9771464330000001,
           1.840226144,
           1.7680298669999999,
           1.913359234,
           2.0569429830000003,
           "Cluster 2"
          ],
          [
           "Low & middle income",
           2.401016022,
           2.351839879,
           2.507134082,
           2.4654399419999997,
           2.427530862,
           2.34705236,
           2.376884847,
           2.345132586,
           2.384587803,
           2.4076141769999997,
           2.458114132,
           2.506991643,
           2.6052197390000003,
           2.734475624,
           3.005713015,
           2.869481703,
           2.894131937,
           2.9566967039999996,
           3.0130862210000005,
           3.0383182860000004,
           "Cluster 2"
          ],
          [
           "Lower middle income",
           1.3821720169999998,
           1.344572554,
           1.355006184,
           1.4310212219999998,
           1.3888542769999999,
           1.384144461,
           1.4288831530000001,
           1.380571025,
           1.3841809880000002,
           1.400072101,
           1.4280820419999998,
           1.478788431,
           1.521790939,
           1.559230946,
           1.5884407409999999,
           1.5131299669999998,
           1.519120119,
           1.5812649540000001,
           1.639779694,
           1.6358329619999998,
           "Cluster 2"
          ],
          [
           "Middle East & North Africa",
           2.423456889,
           2.430438328,
           2.520586788,
           2.585412087,
           2.614487018,
           2.609441929,
           2.869833259,
           2.818405786,
           2.735597223,
           2.5723098419999997,
           2.411219853,
           2.45275055,
           2.439045576,
           2.352177305,
           3.016616398,
           2.714642506,
           2.711284804,
           2.895571978,
           3.06782614,
           3.224936356,
           "Cluster 2"
          ],
          [
           "Middle East & North Africa (excluding high income)",
           1.986615421,
           2.000319073,
           2.116533205,
           2.180356186,
           2.073848436,
           2.15353996,
           2.4061859269999997,
           2.452578692,
           2.404325255,
           2.413375024,
           2.277110381,
           2.33316934,
           2.38604766,
           2.4840236190000002,
           2.883655535,
           2.674039179,
           2.6663160009999998,
           2.946036225,
           3.1133615810000004,
           3.195117055,
           "Cluster 2"
          ],
          [
           "Middle East & North Africa (IDA & IBRD countries)",
           1.986615421,
           2.000319073,
           2.116533205,
           2.180356186,
           2.073848436,
           2.15353996,
           2.4061859269999997,
           2.452578692,
           2.404325255,
           2.413375024,
           2.277110381,
           2.33316934,
           2.38604766,
           2.4840236190000002,
           2.883655535,
           2.674039179,
           2.6663160009999998,
           2.946036225,
           3.1133615810000004,
           3.195117055,
           "Cluster 2"
          ],
          [
           "Middle income",
           2.412678871,
           2.36362262,
           2.5202424480000003,
           2.477042313,
           2.43762049,
           2.356948176,
           2.382038559,
           2.349752613,
           2.387242359,
           2.4088153219999997,
           2.458108718,
           2.504454687,
           2.60902103,
           2.73939142,
           3.0142344189999997,
           2.872383447,
           2.896995845,
           2.962450623,
           3.0212647560000003,
           3.0467369210000004,
           "Cluster 2"
          ],
          [
           "Pre-demographic dividend",
           1.410676744,
           1.300913774,
           1.3471565680000002,
           1.43327288,
           1.489741772,
           1.4058226130000002,
           1.6053387190000001,
           1.4385881090000001,
           1.6097842219999998,
           2.055879709,
           1.894072295,
           1.9102146830000002,
           1.9152088569999999,
           2.147427747,
           2.25671329,
           1.826936093,
           1.921276365,
           2.018579254,
           2.092089478,
           1.933374353,
           "Cluster 2"
          ],
          [
           "South Asia",
           1.03503164,
           0.99799026,
           1.0374988109999999,
           1.070832413,
           1.081228019,
           1.0670523109999999,
           1.042238308,
           1.032538376,
           0.9733766779999999,
           1.018914387,
           1.103442311,
           1.103521575,
           1.09051214,
           1.151605829,
           1.205501388,
           1.181098088,
           1.181152879,
           1.19027209,
           1.28224814,
           1.3678991719999998,
           "Cluster 2"
          ],
          [
           "Low income",
           1.5301250290000001,
           1.483895647,
           1.5211285190000001,
           1.657153759,
           1.738222289,
           1.7597896480000002,
           2.034208573,
           2.063321574,
           2.217968593,
           2.32876762,
           2.458480802,
           2.691171989,
           2.317963439,
           2.365497375,
           2.4214922619999997,
           2.642192573,
           2.6593637230000002,
           2.511732098,
           2.394346629,
           2.43910583,
           "Cluster 2"
          ],
          [
           "Mauritania",
           2.230334388,
           1.3288083929999999,
           1.49219146,
           2.084762022,
           2.901813013,
           2.770993523,
           1.879560462,
           2.862060366,
           2.179218351,
           2.464112525,
           2.033356056,
           1.4476164319999998,
           1.6517913519999998,
           1.3545647330000001,
           1.79980274,
           1.52105378,
           1.279141378,
           1.370247011,
           1.726038803,
           1.871016263,
           "Cluster 2"
          ],
          [
           "Zambia",
           2.152488857,
           2.484677806,
           2.585239318,
           3.1339650839999997,
           3.403697035,
           3.7198999230000003,
           3.5265592110000004,
           4.018109627,
           4.18766916,
           3.65708439,
           3.9569790069999997,
           2.75584562,
           1.885822023,
           2.18994158,
           2.261667785,
           2.27995642,
           2.148931957,
           2.536370459,
           2.7654047189999997,
           2.760094545,
           "Cluster 2"
          ],
          [
           "Comoros",
           2.8797862060000003,
           2.7139497039999996,
           2.584925576,
           2.185036147,
           1.964426649,
           1.5227230969999999,
           1.0946753390000001,
           1.6697581019999999,
           1.815474839,
           2.010438445,
           2.274051852,
           2.5071515140000002,
           2.80299141,
           3.094532063,
           1.72121212,
           1.454408898,
           1.656759335,
           2.646604021,
           2.003193245,
           2.2173203519999998,
           "Cluster 2"
          ],
          [
           "Yemen, Rep.",
           1.358739823,
           1.644500639,
           1.898410163,
           2.324037809,
           2.127391156,
           2.2352856269999997,
           2.294180651,
           2.142648503,
           2.1817307269999997,
           1.85433054,
           1.5511169759999999,
           1.5216019440000002,
           1.462789576,
           1.5650183009999998,
           1.3366978040000002,
           1.299130895,
           1.3504469030000001,
           1.5716278190000001,
           1.410009971,
           1.271870986,
           "Cluster 2"
          ],
          [
           "India",
           1.051510963,
           1.006714181,
           1.072536175,
           1.104334395,
           1.130458988,
           1.1124430090000001,
           1.0779961820000001,
           1.025761987,
           0.984930506,
           1.022681766,
           1.1342577,
           1.110610623,
           1.099600724,
           1.162740942,
           1.2209710809999998,
           1.161015809,
           1.175376637,
           1.183872748,
           1.2868865840000001,
           1.4072376180000001,
           "Cluster 2"
          ],
          [
           "Indonesia",
           0.708979047,
           0.726782129,
           0.676852206,
           0.7080650270000001,
           0.772645557,
           0.72468259,
           0.963565797,
           0.884272738,
           1.015301176,
           0.9348711359999999,
           0.803211001,
           0.912583094,
           1.126425894,
           1.005797618,
           1.019549421,
           1.03300414,
           1.028914047,
           1.147736521,
           1.153628987,
           1.0755363009999999,
           "Cluster 2"
          ],
          [
           "Iran, Islamic Rep.",
           1.6760716930000001,
           1.725678443,
           1.942216566,
           2.137651028,
           1.86003165,
           1.8631224999999998,
           2.194736416,
           2.189274716,
           2.348239338,
           2.23931692,
           2.333458198,
           2.568090196,
           2.4239648469999997,
           2.437820381,
           2.879141091,
           2.684682081,
           2.4790332630000003,
           2.687600161,
           2.7340401539999997,
           2.840802145,
           "Cluster 2"
          ],
          [
           "Jamaica",
           2.224280687,
           2.859074529,
           3.354873879,
           3.383751914,
           2.711113592,
           3.220452714,
           2.449632293,
           2.787349228,
           2.304267888,
           2.723855098,
           1.9858449269999998,
           2.3102109090000003,
           2.5349200819999997,
           2.893671205,
           2.8937382119999997,
           2.99010608,
           2.7952228110000004,
           3.273760445,
           3.380134876,
           2.8085780330000003,
           "Cluster 2"
          ],
          [
           "Kazakhstan",
           2.953489978,
           2.759064102,
           3.0026158069999997,
           3.092985258,
           2.296107627,
           2.1193106530000003,
           1.965795165,
           1.933120902,
           2.014321414,
           2.294666524,
           2.521541794,
           2.3057194,
           1.784132566,
           2.262578318,
           2.651119229,
           2.527218011,
           2.271552738,
           2.40821469,
           2.18920504,
           2.3679030869999997,
           "Cluster 2"
          ],
          [
           "Kenya",
           1.969355371,
           1.662980154,
           1.599507906,
           1.994903268,
           1.67225462,
           2.166725101,
           2.067304171,
           1.9431644419999998,
           1.9281390840000001,
           1.7957208980000001,
           1.845407496,
           1.624314663,
           1.596858528,
           1.40330995,
           1.641624369,
           1.418735549,
           2.623533409,
           3.3229374480000002,
           3.3464041819999997,
           3.5038660580000003,
           "Cluster 2"
          ],
          [
           "Korea, Rep.",
           1.37837002,
           1.567106233,
           1.661384573,
           1.896960077,
           2.0360782019999997,
           2.069427846,
           2.6287877219999998,
           2.496197951,
           2.567924451,
           2.604738563,
           2.8184627260000004,
           3.145604415,
           3.279317912,
           3.364369569,
           3.756141758,
           3.855133327,
           3.8213452130000003,
           3.851691628,
           3.909878493,
           3.985248041,
           "Cluster 2"
          ],
          [
           "Kuwait",
           3.0793817160000003,
           2.75312334,
           2.9512544810000003,
           3.5051093939999998,
           2.9118429619999997,
           1.9074589430000002,
           2.938514016,
           2.8451164789999996,
           2.591638049,
           2.197676413,
           1.8984359730000002,
           1.826202921,
           1.678892606,
           1.511862693,
           3.3709338939999998,
           2.334489191,
           2.255683318,
           2.187222399,
           2.1656254280000002,
           2.614422533,
           "Cluster 2"
          ],
          [
           "Kyrgyz Republic",
           3.0586966139999996,
           2.518306598,
           2.561680082,
           2.5370569880000002,
           2.251547927,
           2.0709018009999998,
           1.96892384,
           2.149216502,
           2.056844,
           2.275178259,
           2.38059842,
           3.276997235,
           3.530000425,
           3.1283246069999997,
           3.785352567,
           3.71014072,
           3.701089568,
           4.197243855,
           3.8799367869999997,
           3.639437553,
           "Cluster 2"
          ],
          [
           "Lao PDR",
           2.179347721,
           1.827522348,
           2.07175976,
           1.8517304780000001,
           1.111702922,
           1.13056391,
           1.177790717,
           1.0828706259999998,
           1.2709968,
           0.801898709,
           0.7346070859999999,
           1.1470211890000002,
           1.029730057,
           1.001469523,
           1.8583031069999998,
           1.278180688,
           0.835809612,
           0.79224628,
           0.964872836,
           0.942733752,
           "Cluster 2"
          ],
          [
           "Libya",
           1.5145279969999998,
           1.662741707,
           1.7901981919999999,
           1.884513389,
           1.6503777830000002,
           1.6598308590000002,
           2.210293692,
           3.056726273,
           2.692002637,
           2.276618671,
           1.7491174269999998,
           1.640166807,
           1.748097339,
           1.382407555,
           2.178180015,
           2.136789648,
           3.019999999,
           3.019999999,
           3.019999999,
           3.6540791589999997,
           "Cluster 2"
          ],
          [
           "Madagascar",
           1.4415262030000002,
           1.9149721119999998,
           2.14802212,
           1.96133518,
           2.0399136369999997,
           2.573304228,
           2.808515662,
           2.7432138360000002,
           2.260174188,
           2.43699522,
           2.621449986,
           2.817711615,
           2.7398218389999998,
           2.41891842,
           2.408212919,
           2.606558609,
           2.4358722790000003,
           1.8161052969999998,
           2.560444941,
           1.473414605,
           "Cluster 2"
          ],
          [
           "Malaysia",
           1.673580101,
           1.693100127,
           1.503468834,
           1.6234893730000002,
           1.682393231,
           1.6935325469999998,
           1.990382325,
           1.95887394,
           2.362041422,
           2.118040539,
           1.69082761,
           2.011816692,
           1.961867672,
           1.936706363,
           2.336639744,
           2.2862965859999997,
           2.135913733,
           2.21523329,
           2.2031471540000003,
           2.300290016,
           "Cluster 2"
          ],
          [
           "Mali",
           2.627422294,
           2.9937876169999997,
           2.478276148,
           2.136752933,
           1.819396693,
           2.069921322,
           2.872448632,
           2.538877445,
           2.757198984,
           3.091886553,
           3.0385294910000002,
           3.164633564,
           3.3665769610000003,
           3.1356973139999997,
           3.148995784,
           2.807459661,
           3.0152463110000003,
           2.250262582,
           1.134273081,
           1.568172106,
           "Cluster 2"
          ],
          [
           "China",
           1.780381954,
           1.763716129,
           1.7806565580000002,
           1.8120753459999999,
           1.8349422359999998,
           1.7598434680000001,
           1.621284224,
           1.7146722380000001,
           1.746529994,
           1.793429835,
           1.805920306,
           1.83853832,
           2.026592106,
           2.292123452,
           2.664482629,
           2.653820098,
           2.8106526560000002,
           2.945813766,
           3.005601408,
           3.095174286,
           "Cluster 2"
          ],
          [
           "Guinea-Bissau",
           1.59182256,
           2.107388011,
           2.249324138,
           2.207081665,
           1.458689029,
           0.5159652370000001,
           0.483604876,
           1.29016916,
           1.2961535690000001,
           0.8552961729999999,
           1.083538194,
           1.068546513,
           1.363201444,
           1.1577875359999998,
           1.916627082,
           1.849453411,
           1.0469749320000001,
           1.591370587,
           1.6250123669999998,
           1.145122307,
           "Cluster 2"
          ],
          [
           "Haiti",
           2.700778316,
           2.4568022959999998,
           2.444218128,
           2.031842786,
           1.696652901,
           1.679556587,
           1.472578763,
           1.411106475,
           1.585349102,
           2.029269522,
           0.938494956,
           1.355593535,
           1.326609423,
           1.355999841,
           1.3726482,
           1.410583252,
           1.80632117,
           0.980271294,
           1.724541255,
           1.559516418,
           "Cluster 2"
          ],
          [
           "Guatemala",
           1.568251834,
           1.4740888109999999,
           1.652352634,
           1.687897756,
           1.8225683169999998,
           1.906287984,
           2.1653825419999997,
           2.126950411,
           2.250780088,
           2.18862221,
           2.151933847,
           2.389327876,
           2.26818626,
           2.319787972,
           2.516993404,
           2.375496937,
           2.15314798,
           2.14774653,
           2.321889304,
           2.334729015,
           "Cluster 2"
          ],
          [
           "Congo, Dem. Rep.",
           0.151469658,
           0.113020059,
           0.20486781199999998,
           0.178185156,
           0.24769671199999999,
           0.044703612000000004,
           0.14417975,
           0.160080405,
           0.700026844,
           0.71835464,
           0.752462162,
           0.938991328,
           1.209434345,
           2.099872761,
           2.362979061,
           1.062595613,
           1.255268552,
           1.687173628,
           1.3234417509999998,
           1.59835647,
           "Cluster 2"
          ],
          [
           "Congo, Rep.",
           1.875942346,
           1.7216115490000001,
           1.9118363180000002,
           2.218401855,
           1.752764882,
           1.222592062,
           1.334532489,
           1.287959153,
           1.300179166,
           1.369675105,
           1.434608509,
           1.494032765,
           1.545764133,
           1.238592875,
           1.14114182,
           1.386578972,
           1.977375259,
           3.149421373,
           4.05731117,
           4.2119208519999995,
           "Cluster 2"
          ],
          [
           "Cote d'Ivoire",
           1.645869281,
           1.8541070080000002,
           2.003289854,
           1.8888131119999998,
           1.799667406,
           1.7880357040000001,
           1.290257864,
           1.40860098,
           1.338333609,
           1.4716744259999999,
           1.269719496,
           1.358403825,
           1.4282131319999998,
           1.528626424,
           1.6968101519999998,
           1.6761721680000001,
           1.635696974,
           1.885045493,
           1.7965878830000002,
           1.6785384909999999,
           "Cluster 2"
          ],
          [
           "Cyprus",
           1.697054395,
           1.774813392,
           1.948338097,
           2.338116275,
           2.388126932,
           2.402830234,
           2.449259438,
           2.7545184480000002,
           3.082626861,
           2.813460787,
           2.662677211,
           2.663821238,
           2.5780400130000003,
           2.8508256060000003,
           3.3114723930000003,
           3.425307365,
           3.5076350819999997,
           3.4116037089999995,
           3.4707913969999997,
           3.332019222,
           "Cluster 2"
          ],
          [
           "Dominican Republic",
           1.155220766,
           1.2382753,
           1.48835433,
           1.7989108280000001,
           2.00188919,
           2.192495065,
           1.925895905,
           2.008738541,
           1.8208773669999998,
           1.3886192519999998,
           1.4859490469999999,
           1.781605827,
           1.9925087609999999,
           2.051277828,
           2.245560221,
           2.263964847,
           2.604386077,
           2.7018122589999995,
           2.623467358,
           2.927375648,
           "Cluster 2"
          ],
          [
           "Ecuador",
           1.8815244230000001,
           2.204202458,
           1.9874813930000002,
           1.400740525,
           1.3751416319999998,
           0.8960031829999999,
           1.228463152,
           1.428875973,
           1.425714581,
           1.4293144180000001,
           1.309875442,
           1.423655771,
           1.5062408999999999,
           1.630354665,
           2.186591275,
           2.4594076240000002,
           2.597380991,
           2.957292999,
           3.858385301,
           4.508156573,
           "Cluster 2"
          ],
          [
           "Egypt, Arab Rep.",
           1.6460250419999998,
           1.620664666,
           1.785539455,
           1.969811265,
           2.1234134,
           2.246958395,
           2.327558282,
           2.403817061,
           2.068547965,
           1.985911495,
           1.9850409880000002,
           2.287519277,
           2.0466957359999998,
           2.0297271969999997,
           2.058126846,
           1.872592845,
           1.990804136,
           1.9092313269999999,
           2.057468101,
           2.155384501,
           "Cluster 2"
          ],
          [
           "Equatorial Guinea",
           3.883858135,
           2.7329980910000002,
           2.251245641,
           3.055954265,
           1.922256608,
           2.166271678,
           1.335525197,
           1.111721515,
           1.52759716,
           1.3524546240000002,
           0.9139821140000001,
           1.4674520659999999,
           1.640828358,
           1.795079572,
           4.461108402,
           3.057171112,
           2.596654331,
           3.325881938,
           2.961789903,
           2.932710442,
           "Cluster 2"
          ],
          [
           "Eritrea",
           2.171974402,
           1.321100351,
           1.770926971,
           1.85142628,
           1.996568895,
           1.588511165,
           1.386781377,
           1.6404693430000001,
           1.291688995,
           1.236014558,
           1.095939139,
           1.4704505280000002,
           1.490338129,
           1.9314296069999999,
           1.397960224,
           1.424863559,
           1.40782257,
           1.383976464,
           1.37826626,
           1.527464004,
           "Cluster 2"
          ],
          [
           "Ethiopia",
           1.201089905,
           1.113331724,
           1.308283107,
           1.634136008,
           1.842742815,
           2.382655413,
           2.230818205,
           2.550281355,
           2.556368908,
           2.37364068,
           2.580334349,
           2.529405628,
           2.571477099,
           2.221322189,
           2.421519695,
           3.716736035,
           3.735155728,
           3.3105951260000004,
           2.953637718,
           2.86756675,
           "Cluster 2"
          ],
          [
           "Fiji",
           2.463687222,
           2.643610757,
           2.8924071430000002,
           2.6044336130000003,
           2.50533762,
           3.2355711560000002,
           2.628178355,
           2.8544881930000003,
           2.7002647580000003,
           2.88766334,
           2.936055816,
           3.012361986,
           2.7919826010000004,
           2.780329042,
           2.953906158,
           2.9652059360000003,
           2.677144195,
           2.762148643,
           2.902243871,
           2.95320811,
           "Cluster 2"
          ],
          [
           "Gabon",
           1.257445299,
           1.28647559,
           1.192176302,
           1.731343904,
           1.213987698,
           1.154856156,
           1.285837405,
           1.207290008,
           1.467581307,
           1.36059829,
           1.114980978,
           1.235086135,
           1.2669780659999998,
           1.076241407,
           1.5480996480000002,
           2.44092455,
           2.103287948,
           2.210201203,
           2.931829623,
           2.350580925,
           "Cluster 2"
          ],
          [
           "Gambia, The",
           1.041104569,
           0.8962045120000001,
           0.921290897,
           1.194823096,
           1.25261532,
           1.234866709,
           1.55374665,
           1.4073568930000002,
           2.1239748780000003,
           2.5148502390000003,
           2.8975990080000003,
           3.244630936,
           3.40312534,
           3.527012899,
           3.482328264,
           3.4330868760000004,
           3.735121027,
           3.672212762,
           4.181628453,
           5.045612515,
           "Cluster 2"
          ],
          [
           "Georgia",
           0.267281215,
           0.8742158040000001,
           1.491279099,
           1.195657068,
           1.140527412,
           1.180608888,
           1.388194366,
           1.400350039,
           1.25729464,
           1.307242467,
           1.648504578,
           1.7716621019999998,
           1.449623425,
           1.7799744119999998,
           2.270258573,
           2.2899291330000002,
           1.7006243840000002,
           1.210348913,
           1.276120238,
           1.552730538,
           "Cluster 2"
          ],
          [
           "Ghana",
           1.6228713819999998,
           2.0189271019999997,
           1.4356055330000002,
           1.7727537830000002,
           1.5933775380000001,
           1.4980943409999998,
           2.045003688,
           1.508850229,
           1.580562376,
           2.399043819,
           2.923944957,
           3.0442281560000004,
           3.729887891,
           3.223054494,
           3.6749633619999997,
           3.829376748,
           3.5755204860000003,
           3.140675827,
           3.242160133,
           2.128885085,
           "Cluster 2"
          ],
          [
           "Guinea",
           1.24440635,
           0.7692242340000001,
           0.753971712,
           0.9485828709999999,
           1.0340789959999999,
           1.095939452,
           1.27041596,
           1.313300227,
           1.313311747,
           0.879682253,
           0.554865842,
           0.66542757,
           0.418226466,
           0.7846244029999999,
           1.346498634,
           2.011768888,
           1.977158975,
           2.0989461769999997,
           2.378242841,
           2.7362447810000003,
           "Cluster 2"
          ]
         ],
         "hovertemplate": "Cluster=%{customdata[21]}<br>Country Name=%{customdata[0]}<br>1995=%{customdata[1]}<br>1996=%{customdata[2]}<br>1997=%{customdata[3]}<br>1998=%{customdata[4]}<br>1999=%{customdata[5]}<br>2000=%{customdata[6]}<br>2001=%{customdata[7]}<br>2002=%{customdata[8]}<br>2003=%{customdata[9]}<br>2004=%{customdata[10]}<br>2005=%{customdata[11]}<br>2006=%{customdata[12]}<br>2007=%{customdata[13]}<br>2008=%{customdata[14]}<br>2009=%{customdata[15]}<br>2010=%{customdata[16]}<br>2011=%{customdata[17]}<br>2012=%{customdata[18]}<br>2013=%{customdata[19]}<br>2014=%{customdata[20]}<extra></extra>",
         "legendgroup": "Cluster 2",
         "marker": {
          "color": "#00cc96"
         },
         "name": "Cluster 2",
         "notched": true,
         "offsetgroup": "Cluster 2",
         "showlegend": false,
         "type": "box",
         "x": [
          "Cluster 2",
          "Cluster 2",
          "Cluster 2",
          "Cluster 2",
          "Cluster 2",
          "Cluster 2",
          "Cluster 2",
          "Cluster 2",
          "Cluster 2",
          "Cluster 2",
          "Cluster 2",
          "Cluster 2",
          "Cluster 2",
          "Cluster 2",
          "Cluster 2",
          "Cluster 2",
          "Cluster 2",
          "Cluster 2",
          "Cluster 2",
          "Cluster 2",
          "Cluster 2",
          "Cluster 2",
          "Cluster 2",
          "Cluster 2",
          "Cluster 2",
          "Cluster 2",
          "Cluster 2",
          "Cluster 2",
          "Cluster 2",
          "Cluster 2",
          "Cluster 2",
          "Cluster 2",
          "Cluster 2",
          "Cluster 2",
          "Cluster 2",
          "Cluster 2",
          "Cluster 2",
          "Cluster 2",
          "Cluster 2",
          "Cluster 2",
          "Cluster 2",
          "Cluster 2",
          "Cluster 2",
          "Cluster 2",
          "Cluster 2",
          "Cluster 2",
          "Cluster 2",
          "Cluster 2",
          "Cluster 2",
          "Cluster 2",
          "Cluster 2",
          "Cluster 2",
          "Cluster 2",
          "Cluster 2",
          "Cluster 2",
          "Cluster 2",
          "Cluster 2",
          "Cluster 2",
          "Cluster 2",
          "Cluster 2",
          "Cluster 2",
          "Cluster 2",
          "Cluster 2",
          "Cluster 2",
          "Cluster 2",
          "Cluster 2",
          "Cluster 2",
          "Cluster 2",
          "Cluster 2",
          "Cluster 2",
          "Cluster 2",
          "Cluster 2",
          "Cluster 2",
          "Cluster 2",
          "Cluster 2",
          "Cluster 2",
          "Cluster 2",
          "Cluster 2",
          "Cluster 2",
          "Cluster 2",
          "Cluster 2",
          "Cluster 2",
          "Cluster 2",
          "Cluster 2",
          "Cluster 2",
          "Cluster 2",
          "Cluster 2",
          "Cluster 2",
          "Cluster 2",
          "Cluster 2",
          "Cluster 2",
          "Cluster 2",
          "Cluster 2",
          "Cluster 2",
          "Cluster 2",
          "Cluster 2",
          "Cluster 2",
          "Cluster 2",
          "Cluster 2",
          "Cluster 2",
          "Cluster 2",
          "Cluster 2",
          "Cluster 2",
          "Cluster 2",
          "Cluster 2",
          "Cluster 2",
          "Cluster 2",
          "Cluster 2",
          "Cluster 2"
         ],
         "xaxis": "x2",
         "yaxis": "y2"
        },
        {
         "alignmentgroup": "True",
         "bingroup": "x",
         "hovertemplate": "Cluster=%{x}<br>count=%{y}<extra></extra>",
         "legendgroup": "Cluster 3",
         "marker": {
          "color": "#ab63fa",
          "opacity": 0.7
         },
         "name": "Cluster 3",
         "offsetgroup": "Cluster 3",
         "orientation": "v",
         "showlegend": true,
         "type": "histogram",
         "x": [
          "Cluster 3",
          "Cluster 3",
          "Cluster 3"
         ],
         "xaxis": "x",
         "yaxis": "y"
        },
        {
         "alignmentgroup": "True",
         "customdata": [
          [
           "Nauru",
           12.33493098,
           11.59428355,
           11.82601857,
           12.56498453,
           12.337983900000001,
           12.54768588,
           13.31280697,
           14.53541812,
           13.45467078,
           10.64962726,
           11.61777519,
           12.57633671,
           18.10282404,
           15.60670301,
           8.727534152,
           8.454551816,
           7.110556956,
           6.523965614,
           4.192163552,
           2.8676663239999995,
           "Cluster 3"
          ],
          [
           "Tuvalu",
           7.960185727000001,
           11.27466332,
           8.08774651,
           8.614014716,
           9.221982956,
           15.66666666,
           17.26923077,
           14.386206900000001,
           21.65409429,
           16.74897207,
           18.23437732,
           19.25675216,
           16.85609763,
           13.26834375,
           12.69334417,
           16.62857143,
           16.84210527,
           13.64102565,
           16.475,
           16.40476191,
           "Cluster 3"
          ],
          [
           "Marshall Islands",
           28.04978525,
           16.67889286,
           17.16813342,
           15.64522955,
           15.42742281,
           19.24043333,
           16.07197043,
           14.8351456,
           14.21128802,
           15.09092986,
           14.67971014,
           17.05555555,
           17.592,
           16.48169934,
           16.02894737,
           14.39817073,
           14.271676300000001,
           13.90652174,
           14.551897899999998,
           14.44916839,
           "Cluster 3"
          ]
         ],
         "hovertemplate": "Cluster=%{customdata[21]}<br>Country Name=%{customdata[0]}<br>1995=%{customdata[1]}<br>1996=%{customdata[2]}<br>1997=%{customdata[3]}<br>1998=%{customdata[4]}<br>1999=%{customdata[5]}<br>2000=%{customdata[6]}<br>2001=%{customdata[7]}<br>2002=%{customdata[8]}<br>2003=%{customdata[9]}<br>2004=%{customdata[10]}<br>2005=%{customdata[11]}<br>2006=%{customdata[12]}<br>2007=%{customdata[13]}<br>2008=%{customdata[14]}<br>2009=%{customdata[15]}<br>2010=%{customdata[16]}<br>2011=%{customdata[17]}<br>2012=%{customdata[18]}<br>2013=%{customdata[19]}<br>2014=%{customdata[20]}<extra></extra>",
         "legendgroup": "Cluster 3",
         "marker": {
          "color": "#ab63fa"
         },
         "name": "Cluster 3",
         "notched": true,
         "offsetgroup": "Cluster 3",
         "showlegend": false,
         "type": "box",
         "x": [
          "Cluster 3",
          "Cluster 3",
          "Cluster 3"
         ],
         "xaxis": "x2",
         "yaxis": "y2"
        }
       ],
       "layout": {
        "barmode": "relative",
        "legend": {
         "title": {
          "text": "Cluster"
         },
         "tracegroupgap": 0
        },
        "margin": {
         "t": 60
        },
        "template": {
         "data": {
          "bar": [
           {
            "error_x": {
             "color": "#2a3f5f"
            },
            "error_y": {
             "color": "#2a3f5f"
            },
            "marker": {
             "line": {
              "color": "#E5ECF6",
              "width": 0.5
             }
            },
            "type": "bar"
           }
          ],
          "barpolar": [
           {
            "marker": {
             "line": {
              "color": "#E5ECF6",
              "width": 0.5
             }
            },
            "type": "barpolar"
           }
          ],
          "carpet": [
           {
            "aaxis": {
             "endlinecolor": "#2a3f5f",
             "gridcolor": "white",
             "linecolor": "white",
             "minorgridcolor": "white",
             "startlinecolor": "#2a3f5f"
            },
            "baxis": {
             "endlinecolor": "#2a3f5f",
             "gridcolor": "white",
             "linecolor": "white",
             "minorgridcolor": "white",
             "startlinecolor": "#2a3f5f"
            },
            "type": "carpet"
           }
          ],
          "choropleth": [
           {
            "colorbar": {
             "outlinewidth": 0,
             "ticks": ""
            },
            "type": "choropleth"
           }
          ],
          "contour": [
           {
            "colorbar": {
             "outlinewidth": 0,
             "ticks": ""
            },
            "colorscale": [
             [
              0,
              "#0d0887"
             ],
             [
              0.1111111111111111,
              "#46039f"
             ],
             [
              0.2222222222222222,
              "#7201a8"
             ],
             [
              0.3333333333333333,
              "#9c179e"
             ],
             [
              0.4444444444444444,
              "#bd3786"
             ],
             [
              0.5555555555555556,
              "#d8576b"
             ],
             [
              0.6666666666666666,
              "#ed7953"
             ],
             [
              0.7777777777777778,
              "#fb9f3a"
             ],
             [
              0.8888888888888888,
              "#fdca26"
             ],
             [
              1,
              "#f0f921"
             ]
            ],
            "type": "contour"
           }
          ],
          "contourcarpet": [
           {
            "colorbar": {
             "outlinewidth": 0,
             "ticks": ""
            },
            "type": "contourcarpet"
           }
          ],
          "heatmap": [
           {
            "colorbar": {
             "outlinewidth": 0,
             "ticks": ""
            },
            "colorscale": [
             [
              0,
              "#0d0887"
             ],
             [
              0.1111111111111111,
              "#46039f"
             ],
             [
              0.2222222222222222,
              "#7201a8"
             ],
             [
              0.3333333333333333,
              "#9c179e"
             ],
             [
              0.4444444444444444,
              "#bd3786"
             ],
             [
              0.5555555555555556,
              "#d8576b"
             ],
             [
              0.6666666666666666,
              "#ed7953"
             ],
             [
              0.7777777777777778,
              "#fb9f3a"
             ],
             [
              0.8888888888888888,
              "#fdca26"
             ],
             [
              1,
              "#f0f921"
             ]
            ],
            "type": "heatmap"
           }
          ],
          "heatmapgl": [
           {
            "colorbar": {
             "outlinewidth": 0,
             "ticks": ""
            },
            "colorscale": [
             [
              0,
              "#0d0887"
             ],
             [
              0.1111111111111111,
              "#46039f"
             ],
             [
              0.2222222222222222,
              "#7201a8"
             ],
             [
              0.3333333333333333,
              "#9c179e"
             ],
             [
              0.4444444444444444,
              "#bd3786"
             ],
             [
              0.5555555555555556,
              "#d8576b"
             ],
             [
              0.6666666666666666,
              "#ed7953"
             ],
             [
              0.7777777777777778,
              "#fb9f3a"
             ],
             [
              0.8888888888888888,
              "#fdca26"
             ],
             [
              1,
              "#f0f921"
             ]
            ],
            "type": "heatmapgl"
           }
          ],
          "histogram": [
           {
            "marker": {
             "colorbar": {
              "outlinewidth": 0,
              "ticks": ""
             }
            },
            "type": "histogram"
           }
          ],
          "histogram2d": [
           {
            "colorbar": {
             "outlinewidth": 0,
             "ticks": ""
            },
            "colorscale": [
             [
              0,
              "#0d0887"
             ],
             [
              0.1111111111111111,
              "#46039f"
             ],
             [
              0.2222222222222222,
              "#7201a8"
             ],
             [
              0.3333333333333333,
              "#9c179e"
             ],
             [
              0.4444444444444444,
              "#bd3786"
             ],
             [
              0.5555555555555556,
              "#d8576b"
             ],
             [
              0.6666666666666666,
              "#ed7953"
             ],
             [
              0.7777777777777778,
              "#fb9f3a"
             ],
             [
              0.8888888888888888,
              "#fdca26"
             ],
             [
              1,
              "#f0f921"
             ]
            ],
            "type": "histogram2d"
           }
          ],
          "histogram2dcontour": [
           {
            "colorbar": {
             "outlinewidth": 0,
             "ticks": ""
            },
            "colorscale": [
             [
              0,
              "#0d0887"
             ],
             [
              0.1111111111111111,
              "#46039f"
             ],
             [
              0.2222222222222222,
              "#7201a8"
             ],
             [
              0.3333333333333333,
              "#9c179e"
             ],
             [
              0.4444444444444444,
              "#bd3786"
             ],
             [
              0.5555555555555556,
              "#d8576b"
             ],
             [
              0.6666666666666666,
              "#ed7953"
             ],
             [
              0.7777777777777778,
              "#fb9f3a"
             ],
             [
              0.8888888888888888,
              "#fdca26"
             ],
             [
              1,
              "#f0f921"
             ]
            ],
            "type": "histogram2dcontour"
           }
          ],
          "mesh3d": [
           {
            "colorbar": {
             "outlinewidth": 0,
             "ticks": ""
            },
            "type": "mesh3d"
           }
          ],
          "parcoords": [
           {
            "line": {
             "colorbar": {
              "outlinewidth": 0,
              "ticks": ""
             }
            },
            "type": "parcoords"
           }
          ],
          "pie": [
           {
            "automargin": true,
            "type": "pie"
           }
          ],
          "scatter": [
           {
            "marker": {
             "colorbar": {
              "outlinewidth": 0,
              "ticks": ""
             }
            },
            "type": "scatter"
           }
          ],
          "scatter3d": [
           {
            "line": {
             "colorbar": {
              "outlinewidth": 0,
              "ticks": ""
             }
            },
            "marker": {
             "colorbar": {
              "outlinewidth": 0,
              "ticks": ""
             }
            },
            "type": "scatter3d"
           }
          ],
          "scattercarpet": [
           {
            "marker": {
             "colorbar": {
              "outlinewidth": 0,
              "ticks": ""
             }
            },
            "type": "scattercarpet"
           }
          ],
          "scattergeo": [
           {
            "marker": {
             "colorbar": {
              "outlinewidth": 0,
              "ticks": ""
             }
            },
            "type": "scattergeo"
           }
          ],
          "scattergl": [
           {
            "marker": {
             "colorbar": {
              "outlinewidth": 0,
              "ticks": ""
             }
            },
            "type": "scattergl"
           }
          ],
          "scattermapbox": [
           {
            "marker": {
             "colorbar": {
              "outlinewidth": 0,
              "ticks": ""
             }
            },
            "type": "scattermapbox"
           }
          ],
          "scatterpolar": [
           {
            "marker": {
             "colorbar": {
              "outlinewidth": 0,
              "ticks": ""
             }
            },
            "type": "scatterpolar"
           }
          ],
          "scatterpolargl": [
           {
            "marker": {
             "colorbar": {
              "outlinewidth": 0,
              "ticks": ""
             }
            },
            "type": "scatterpolargl"
           }
          ],
          "scatterternary": [
           {
            "marker": {
             "colorbar": {
              "outlinewidth": 0,
              "ticks": ""
             }
            },
            "type": "scatterternary"
           }
          ],
          "surface": [
           {
            "colorbar": {
             "outlinewidth": 0,
             "ticks": ""
            },
            "colorscale": [
             [
              0,
              "#0d0887"
             ],
             [
              0.1111111111111111,
              "#46039f"
             ],
             [
              0.2222222222222222,
              "#7201a8"
             ],
             [
              0.3333333333333333,
              "#9c179e"
             ],
             [
              0.4444444444444444,
              "#bd3786"
             ],
             [
              0.5555555555555556,
              "#d8576b"
             ],
             [
              0.6666666666666666,
              "#ed7953"
             ],
             [
              0.7777777777777778,
              "#fb9f3a"
             ],
             [
              0.8888888888888888,
              "#fdca26"
             ],
             [
              1,
              "#f0f921"
             ]
            ],
            "type": "surface"
           }
          ],
          "table": [
           {
            "cells": {
             "fill": {
              "color": "#EBF0F8"
             },
             "line": {
              "color": "white"
             }
            },
            "header": {
             "fill": {
              "color": "#C8D4E3"
             },
             "line": {
              "color": "white"
             }
            },
            "type": "table"
           }
          ]
         },
         "layout": {
          "annotationdefaults": {
           "arrowcolor": "#2a3f5f",
           "arrowhead": 0,
           "arrowwidth": 1
          },
          "coloraxis": {
           "colorbar": {
            "outlinewidth": 0,
            "ticks": ""
           }
          },
          "colorscale": {
           "diverging": [
            [
             0,
             "#8e0152"
            ],
            [
             0.1,
             "#c51b7d"
            ],
            [
             0.2,
             "#de77ae"
            ],
            [
             0.3,
             "#f1b6da"
            ],
            [
             0.4,
             "#fde0ef"
            ],
            [
             0.5,
             "#f7f7f7"
            ],
            [
             0.6,
             "#e6f5d0"
            ],
            [
             0.7,
             "#b8e186"
            ],
            [
             0.8,
             "#7fbc41"
            ],
            [
             0.9,
             "#4d9221"
            ],
            [
             1,
             "#276419"
            ]
           ],
           "sequential": [
            [
             0,
             "#0d0887"
            ],
            [
             0.1111111111111111,
             "#46039f"
            ],
            [
             0.2222222222222222,
             "#7201a8"
            ],
            [
             0.3333333333333333,
             "#9c179e"
            ],
            [
             0.4444444444444444,
             "#bd3786"
            ],
            [
             0.5555555555555556,
             "#d8576b"
            ],
            [
             0.6666666666666666,
             "#ed7953"
            ],
            [
             0.7777777777777778,
             "#fb9f3a"
            ],
            [
             0.8888888888888888,
             "#fdca26"
            ],
            [
             1,
             "#f0f921"
            ]
           ],
           "sequentialminus": [
            [
             0,
             "#0d0887"
            ],
            [
             0.1111111111111111,
             "#46039f"
            ],
            [
             0.2222222222222222,
             "#7201a8"
            ],
            [
             0.3333333333333333,
             "#9c179e"
            ],
            [
             0.4444444444444444,
             "#bd3786"
            ],
            [
             0.5555555555555556,
             "#d8576b"
            ],
            [
             0.6666666666666666,
             "#ed7953"
            ],
            [
             0.7777777777777778,
             "#fb9f3a"
            ],
            [
             0.8888888888888888,
             "#fdca26"
            ],
            [
             1,
             "#f0f921"
            ]
           ]
          },
          "colorway": [
           "#636efa",
           "#EF553B",
           "#00cc96",
           "#ab63fa",
           "#FFA15A",
           "#19d3f3",
           "#FF6692",
           "#B6E880",
           "#FF97FF",
           "#FECB52"
          ],
          "font": {
           "color": "#2a3f5f"
          },
          "geo": {
           "bgcolor": "white",
           "lakecolor": "white",
           "landcolor": "#E5ECF6",
           "showlakes": true,
           "showland": true,
           "subunitcolor": "white"
          },
          "hoverlabel": {
           "align": "left"
          },
          "hovermode": "closest",
          "mapbox": {
           "style": "light"
          },
          "paper_bgcolor": "white",
          "plot_bgcolor": "#E5ECF6",
          "polar": {
           "angularaxis": {
            "gridcolor": "white",
            "linecolor": "white",
            "ticks": ""
           },
           "bgcolor": "#E5ECF6",
           "radialaxis": {
            "gridcolor": "white",
            "linecolor": "white",
            "ticks": ""
           }
          },
          "scene": {
           "xaxis": {
            "backgroundcolor": "#E5ECF6",
            "gridcolor": "white",
            "gridwidth": 2,
            "linecolor": "white",
            "showbackground": true,
            "ticks": "",
            "zerolinecolor": "white"
           },
           "yaxis": {
            "backgroundcolor": "#E5ECF6",
            "gridcolor": "white",
            "gridwidth": 2,
            "linecolor": "white",
            "showbackground": true,
            "ticks": "",
            "zerolinecolor": "white"
           },
           "zaxis": {
            "backgroundcolor": "#E5ECF6",
            "gridcolor": "white",
            "gridwidth": 2,
            "linecolor": "white",
            "showbackground": true,
            "ticks": "",
            "zerolinecolor": "white"
           }
          },
          "shapedefaults": {
           "line": {
            "color": "#2a3f5f"
           }
          },
          "ternary": {
           "aaxis": {
            "gridcolor": "white",
            "linecolor": "white",
            "ticks": ""
           },
           "baxis": {
            "gridcolor": "white",
            "linecolor": "white",
            "ticks": ""
           },
           "bgcolor": "#E5ECF6",
           "caxis": {
            "gridcolor": "white",
            "linecolor": "white",
            "ticks": ""
           }
          },
          "title": {
           "x": 0.05
          },
          "xaxis": {
           "automargin": true,
           "gridcolor": "white",
           "linecolor": "white",
           "ticks": "",
           "title": {
            "standoff": 15
           },
           "zerolinecolor": "white",
           "zerolinewidth": 2
          },
          "yaxis": {
           "automargin": true,
           "gridcolor": "white",
           "linecolor": "white",
           "ticks": "",
           "title": {
            "standoff": 15
           },
           "zerolinecolor": "white",
           "zerolinewidth": 2
          }
         }
        },
        "xaxis": {
         "anchor": "y",
         "categoryarray": [
          "Cluster 0",
          "Cluster 1",
          "Cluster 2",
          "Cluster 3"
         ],
         "categoryorder": "array",
         "domain": [
          0,
          1
         ],
         "title": {
          "text": "Cluster"
         }
        },
        "xaxis2": {
         "anchor": "y2",
         "domain": [
          0,
          1
         ],
         "matches": "x",
         "showgrid": true,
         "showticklabels": false
        },
        "yaxis": {
         "anchor": "x",
         "domain": [
          0,
          0.7326
         ],
         "title": {
          "text": "count"
         }
        },
        "yaxis2": {
         "anchor": "x2",
         "domain": [
          0.7426,
          1
         ],
         "matches": "y2",
         "showgrid": false,
         "showline": false,
         "showticklabels": false,
         "ticks": ""
        }
       }
      },
      "text/html": [
       "<div>\n",
       "        \n",
       "        \n",
       "            <div id=\"6eeb4f89-bea3-4973-90cf-c60af802440b\" class=\"plotly-graph-div\" style=\"height:525px; width:100%;\"></div>\n",
       "            <script type=\"text/javascript\">\n",
       "                require([\"plotly\"], function(Plotly) {\n",
       "                    window.PLOTLYENV=window.PLOTLYENV || {};\n",
       "                    \n",
       "                if (document.getElementById(\"6eeb4f89-bea3-4973-90cf-c60af802440b\")) {\n",
       "                    Plotly.newPlot(\n",
       "                        '6eeb4f89-bea3-4973-90cf-c60af802440b',\n",
       "                        [{\"alignmentgroup\": \"True\", \"bingroup\": \"x\", \"hovertemplate\": \"Cluster=%{x}<br>count=%{y}<extra></extra>\", \"legendgroup\": \"Cluster 0\", \"marker\": {\"color\": \"#636efa\", \"opacity\": 0.7}, \"name\": \"Cluster 0\", \"offsetgroup\": \"Cluster 0\", \"orientation\": \"v\", \"showlegend\": true, \"type\": \"histogram\", \"x\": [\"Cluster 0\", \"Cluster 0\", \"Cluster 0\", \"Cluster 0\", \"Cluster 0\", \"Cluster 0\", \"Cluster 0\", \"Cluster 0\", \"Cluster 0\", \"Cluster 0\", \"Cluster 0\", \"Cluster 0\", \"Cluster 0\", \"Cluster 0\", \"Cluster 0\", \"Cluster 0\", \"Cluster 0\", \"Cluster 0\", \"Cluster 0\", \"Cluster 0\", \"Cluster 0\", \"Cluster 0\", \"Cluster 0\", \"Cluster 0\", \"Cluster 0\", \"Cluster 0\", \"Cluster 0\", \"Cluster 0\", \"Cluster 0\", \"Cluster 0\", \"Cluster 0\", \"Cluster 0\", \"Cluster 0\", \"Cluster 0\", \"Cluster 0\", \"Cluster 0\", \"Cluster 0\", \"Cluster 0\", \"Cluster 0\", \"Cluster 0\", \"Cluster 0\", \"Cluster 0\", \"Cluster 0\", \"Cluster 0\", \"Cluster 0\", \"Cluster 0\", \"Cluster 0\", \"Cluster 0\", \"Cluster 0\", \"Cluster 0\", \"Cluster 0\", \"Cluster 0\", \"Cluster 0\", \"Cluster 0\", \"Cluster 0\", \"Cluster 0\", \"Cluster 0\", \"Cluster 0\", \"Cluster 0\", \"Cluster 0\", \"Cluster 0\", \"Cluster 0\", \"Cluster 0\", \"Cluster 0\", \"Cluster 0\", \"Cluster 0\", \"Cluster 0\"], \"xaxis\": \"x\", \"yaxis\": \"y\"}, {\"alignmentgroup\": \"True\", \"customdata\": [[\"Honduras\", 2.86657957, 2.460607584, 2.37295217, 2.92390839, 2.902757343, 3.592970163, 3.6164590089999997, 3.906168524, 4.7330869369999995, 4.207177311000001, 3.905898653, 3.48897019, 3.63946928, 3.7255735989999996, 4.554171531000001, 4.215610713999999, 3.916841875, 4.453647583, 4.457074848, 4.41783425, \"Cluster 0\"], [\"Dominica\", 4.159861137, 4.217261905, 4.370036617, 4.155978162, 4.149951581, 3.308396479, 3.23826402, 3.290272803, 3.173775978, 2.9741580819999998, 3.0197000010000004, 3.094683051, 3.0779197789999997, 2.96951027, 3.6526046819999998, 4.047182568999999, 3.9743900930000002, 3.6693638839999996, 3.812216844, 3.767972854, \"Cluster 0\"], [\"Djibouti\", 2.384148412, 2.318293685, 2.83292067, 3.6097572010000003, 4.407148156, 3.9005062999999995, 3.4863802660000003, 3.516449396, 4.167696582, 4.600888287, 4.939467764, 4.702732187, 5.337600592, 5.745632858, 5.957206032, 5.149939099, 5.019683712, 5.25888563, 5.322417486, 6.750847587000001, \"Cluster 0\"], [\"Samoa\", 3.390716641, 3.010723905, 3.338794876, 3.926948968, 4.269501817, 4.11544971, 3.848022139, 3.940851472, 3.64949145, 3.596860784, 3.5879326000000002, 3.925566538, 4.509782876, 3.8248453000000002, 4.341031427, 4.985224399, 5.101682632, 4.337641237, 6.216667467000001, 6.536868986, \"Cluster 0\"], [\"San Marino\", 4.5639391830000005, 4.383787117, 4.3124433369999995, 4.248369167, 4.300679912, 4.385399883, 4.296809438, 4.26944922, 3.90726845, 3.832377435, 3.7497484489999997, 3.52237298, 3.54154425, 3.616263881, 4.204062797, 4.647450421, 5.322357589, 5.865948338, 5.656072233, 5.736058813, \"Cluster 0\"], [\"Sao Tome and Principe\", 2.805079353, 1.966810767, 2.938184371, 2.9092363480000003, 3.8562996519999997, 3.823975859, 3.792038305, 3.8456142939999998, 6.03861594, 5.1383615769999995, 5.29330423, 2.5410377769999997, 2.13790765, 1.592076218, 2.507352864, 2.537331158, 2.6053125880000003, 2.48230437, 3.5868170939999997, 3.612254726, \"Cluster 0\"], [\"Colombia\", 3.7205698160000003, 5.067606606, 5.593914054, 6.103439101, 6.459251592, 4.683826863999999, 4.690523841, 4.549736058, 4.899277437, 4.082866763999999, 4.316017077, 4.535042305, 4.539526519, 4.698007256, 5.148273784, 4.9756529380000005, 5.016164698, 5.277512194, 5.2189183660000005, 5.409943154, \"Cluster 0\"], [\"Chile\", 2.483034377, 2.667579501, 2.722896255, 2.999279862, 3.188783313, 3.332061767, 3.484542158, 3.529890881, 2.687549761, 2.63814344, 2.536291524, 2.517617347, 2.655656258, 2.942588718, 3.468102151, 3.294925632, 3.3326392360000003, 3.4761647210000004, 3.632821452, 3.8513094239999996, \"Cluster 0\"], [\"Cabo Verde\", 4.252399745, 3.9401934880000002, 3.862837242, 3.92627046, 3.424656164, 3.5249331219999998, 3.9135356839999997, 3.893120524, 3.746871642, 3.7893525489999997, 3.649990513, 3.962680293, 3.3863364560000004, 3.03734974, 3.239265323, 3.431766845, 3.3357602589999997, 3.33864148, 3.120439872, 3.557226753, \"Cluster 0\"], [\"Solomon Islands\", 3.013517642, 2.7842825980000003, 3.047041542, 3.2772146280000003, 3.544792113, 4.299521273, 6.162337203, 5.8209578, 5.537965968, 5.180937453, 7.370558602000001, 6.205507441, 5.9541656089999995, 5.522732105, 7.453790237000001, 7.022895121, 4.696250372, 5.0946949560000006, 4.99069527, 4.640482319, \"Cluster 0\"], [\"Bulgaria\", 3.515523463, 3.1825410080000003, 3.397999988, 3.262490099, 3.883886627, 3.6982741960000003, 4.2243892810000006, 4.536791795, 4.617962963, 4.30515357, 4.312971455, 3.800812847, 3.730705859, 3.8703163560000005, 3.75184985, 4.0342301, 3.7596558460000002, 3.9998185019999997, 4.1228617419999996, 4.60763146, \"Cluster 0\"], [\"South Africa\", 3.4277404380000003, 3.8406204760000002, 3.7549938330000003, 3.584417155, 3.418376453, 3.290839079, 3.330803407, 3.231917455, 3.3379947910000003, 3.218086131, 3.315898573, 3.360932915, 3.3985272369999997, 3.595345502, 3.94739833, 3.990053885, 4.1340834939999995, 4.276293506, 4.204760905, 4.24326873, \"Cluster 0\"], [\"Brazil\", 2.800558403, 2.700450075, 2.874414942, 2.7969900130000003, 2.9525750339999997, 2.832471845, 3.040958916, 3.1829922930000003, 3.080328175, 3.323675591, 3.43190885, 3.4926520919999997, 3.4551482289999997, 3.61158219, 3.8413556489999996, 3.786139623, 3.6540019860000004, 3.66135204, 3.827307012, 3.831759885, \"Cluster 0\"], [\"Botswana\", 2.126873521, 2.123124439, 2.429731822, 2.1792576759999998, 2.163569841, 2.8998524210000003, 4.146457238, 4.894689856, 2.969796404, 3.888095917, 4.090479196, 3.479114149, 3.3157118810000004, 3.9283219289999995, 4.494537231, 3.544461785, 3.236016942, 3.9553822110000003, 3.50694528, 3.193884455, \"Cluster 0\"], [\"Bolivia\", 2.112215194, 2.9782255189999995, 2.66726091, 3.122442061, 3.602860899, 3.245343618, 3.744167609, 4.101807461, 3.4962789219999997, 3.492276415, 3.860740789, 3.521340785, 3.408827783, 3.4068432439999996, 3.9482262710000002, 3.662996725, 3.7521416939999996, 3.772366172, 4.238349186000001, 4.565377537, \"Cluster 0\"], [\"Bhutan\", 2.655671226, 4.92248937, 5.589715842, 5.420760961, 5.060485995, 5.325051654, 4.849893798, 6.60698513, 3.749019455, 3.193554605, 4.166375755, 4.29057998, 5.118893938, 5.5624086660000005, 4.8912954719999995, 4.544794957, 4.142893462, 2.7008609310000002, 2.804824773, 2.6150396540000003, \"Cluster 0\"], [\"Belarus\", 4.793950729, 4.696646664, 5.427282394, 4.588919064, 4.7158020689999995, 4.626454599, 4.739935352, 4.560548727, 4.8657554869999995, 4.922950998, 5.022738287, 4.4504001230000005, 4.451424325, 3.871576451, 3.895442402, 4.3148055439999995, 3.472557647, 3.8657578999999997, 4.022291167, 3.7417552510000003, \"Cluster 0\"], [\"Barbados\", 3.541707878, 3.461739847, 3.3299528030000003, 3.1894177860000004, 3.277842886, 3.392050008, 3.6966440169999997, 3.962990388, 3.8432781069999997, 3.7180714760000004, 3.4632789969999997, 3.415845805, 3.7583009119999997, 4.056312343, 4.144961775, 4.009928747, 4.155989917, 4.841513416000001, 4.899894263, 4.744632219, \"Cluster 0\"], [\"St. Lucia\", 3.044466017, 3.540413289, 3.011746972, 3.0899609160000003, 3.0860480160000003, 2.8750947069999997, 3.2434443760000002, 3.2677446619999997, 2.943800165, 2.9480524710000005, 2.8950996630000003, 3.1148809789999996, 2.979865278, 3.573426446, 4.401846474, 4.034045185, 3.262981082, 4.207408698, 3.535976399, 3.599295246, \"Cluster 0\"], [\"St. Vincent and the Grenadines\", 3.78040306, 3.7626628060000002, 3.905015857, 3.379166091, 3.4596669789999996, 3.067373134, 2.950634745, 3.231535161, 3.2055298039999998, 3.022706918, 2.9590426830000003, 3.1835519619999997, 3.2201201989999997, 3.946405784, 4.33049775, 3.8582360810000003, 4.092983481, 4.403446842, 4.3086, 4.385223105, \"Cluster 0\"], [\"Russian Federation\", 3.962243165, 3.9654738039999997, 5.026415056, 4.308860664, 3.585441199, 3.2468243560000003, 3.328637239, 3.530756868, 3.298708379, 3.090936853, 3.2304787619999997, 3.35436078, 3.452891195, 3.520137222, 4.159022037, 3.696945486, 3.58245544, 3.795838898, 3.7073014489999996, 3.6909228080000003, \"Cluster 0\"], [\"Suriname\", 4.471885239, 3.145059885, 5.651223383, 7.115667758, 5.196504662, 5.6175626670000005, 4.184378634, 3.551353558, 3.3571448680000002, 3.3271645260000002, 3.469387753, 3.177793139, 2.9772981, 2.709678901, 3.196518003, 2.930358668, 2.921405525, 3.215861695, 3.202562051, 2.94062408, \"Cluster 0\"], [\"Romania\", 2.397777108, 2.353719196, 3.3087963410000003, 2.8352913060000002, 3.344160172, 3.5136997310000004, 3.534191634, 3.75783267, 4.4933842660000005, 4.0521396, 4.398723805, 4.030785785, 4.278891084, 4.374197997, 4.391968392, 4.68660531, 4.37807867, 4.397386285, 4.520294731, 4.47447755, \"Cluster 0\"], [\"Estonia\", 5.671494836, 5.809624371, 5.51790868, 4.797024971, 4.536437438, 4.075514834, 3.817487064, 3.735725858, 3.775009168, 3.8771176830000003, 3.850041558, 3.6735492119999997, 3.899242751, 4.712423412, 5.216716763, 4.9273468000000005, 4.625885477, 5.115761648, 5.138603368, 5.028395902, \"Cluster 0\"], [\"Moldova\", 5.815895061, 6.709797385, 6.075025236, 4.323722867, 2.901963967, 3.229712857, 3.2075372680000003, 4.040610039, 3.9671964969999998, 4.182380118999999, 4.176139383, 4.718684365, 4.9197080269999995, 5.389847747999999, 6.0594371979999995, 5.621478753, 5.311539911000001, 5.517522784, 5.031340165, 5.303988304, \"Cluster 0\"], [\"Malawi\", 1.865213739, 1.26338764, 1.600434006, 1.88109678, 2.274782235, 2.7785565489999997, 2.215081497, 2.912550035, 4.578496658, 5.71696331, 6.066366509, 6.194908259, 4.41611059, 6.096624721, 6.185752937, 6.339254893, 6.933702546, 6.765934565, 5.793450792000001, 5.998620835, \"Cluster 0\"], [\"Monaco\", 2.7828046389999996, 2.722031577, 2.8387481, 2.760402313, 2.989907557, 2.8661872330000002, 2.911772468, 2.956788105, 3.466538501, 3.5451300519999998, 3.528936649, 3.360320254, 2.952654785, 3.1897775960000003, 3.8011578999999998, 3.896460373, 3.705257089, 3.764195008, 3.554960152, 3.841098459, \"Cluster 0\"], [\"Macedonia, FYR\", 4.996397418, 5.135953651, 5.5549962939999995, 6.489321372000001, 5.341639155, 4.787766545, 4.631112465, 5.191571141, 5.226034904, 5.039289244, 4.781614783999999, 4.87674973, 4.445867739, 4.7474917, 4.456857728999999, 4.292903636, 4.272932737, 4.42539678, 4.204269092, 4.1014206380000005, \"Cluster 0\"], [\"Lithuania\", 3.985217925, 3.931004202, 4.1614319669999995, 4.616115978, 4.64619213, 4.501929246, 4.5479188619999995, 4.792172072, 4.929875383, 3.83247282, 3.953664458, 4.3067158469999995, 4.542177272, 4.784195764, 5.485546619, 5.020955675, 4.739136876, 4.349539439, 4.312630815, 4.446889612, \"Cluster 0\"], [\"Lebanon\", 4.242476487, 4.991736717, 5.0616362619999995, 3.144910175, 2.943009427, 3.20634861, 3.733963909, 3.735593505, 3.496375815, 3.711970773, 3.7443329469999997, 3.631882475, 3.7155355410000004, 3.144813413, 3.123417148, 2.708551485, 2.7443969960000003, 3.235855284, 3.054229695, 3.043924599, \"Cluster 0\"], [\"Latvia\", 3.820164845, 3.525870433, 3.4596156560000004, 3.6262617789999996, 3.728657225, 3.2654466760000003, 3.1577079460000004, 3.2790679739999997, 3.2495228560000005, 3.684698103, 3.637151355, 4.357857145, 4.255979, 4.124515045, 4.070041625, 3.9402581469999998, 3.873401416, 3.576955393, 3.539843039, 3.7152319819999997, \"Cluster 0\"], [\"Montenegro\", 5.196505917, 5.196505919, 5.196505921, 5.1965059160000004, 5.196505922, 5.19650592, 5.9571847689999995, 5.880242121, 6.663011347, 6.232366722999999, 6.022940018, 5.613499871, 4.5478217039999995, 3.9917967869999997, 3.61393065, 4.173469442, 4.186590285, 4.4723783919999995, 3.719088236, 3.66738093, \"Cluster 0\"], [\"Mozambique\", 3.3965561789999996, 2.598261241, 2.955873935, 2.9684768339999996, 3.5660974999999997, 4.311883073, 3.9675961089999996, 4.488862031, 4.108240978, 3.521927947, 4.306135066, 3.950981842, 3.1000050960000003, 2.606804503, 2.515159938, 3.0181028260000002, 2.6645777330000002, 2.776382768, 3.1190876260000002, 3.936734776, \"Cluster 0\"], [\"Namibia\", 4.413658721, 4.750908805, 4.924511725, 4.952596648, 5.111744353, 4.214029426000001, 3.474246902, 3.576968668, 3.722335405, 3.207038753, 3.579619723, 3.129120087, 3.800771171, 3.89854309, 4.417229575, 4.594429367, 5.315764413999999, 4.854097749, 5.029136422, 5.357137699, \"Cluster 0\"], [\"Jordan\", 5.328898363, 5.441182157, 5.116392745, 5.300589761, 4.991069703, 4.635309347, 4.786093096, 4.810691426, 4.451036994, 4.692325909, 4.761008321, 4.48990028, 4.994181963, 5.431250455, 6.6959843029999995, 5.921295616, 5.905862126000001, 5.5093025760000005, 4.873555443, 5.1931019460000005, \"Cluster 0\"], [\"Israel\", 4.950145432, 5.108144225, 5.144840787, 4.762189233, 4.6017821119999995, 4.460361462, 4.719172153, 4.737818754, 4.587586374, 4.473436246, 4.408425818, 4.702560226, 4.56088595, 4.471592985, 4.560773264, 4.6122764819999995, 4.618524658, 4.865016995, 4.857808386, 4.751695808, \"Cluster 0\"], [\"Nicaragua\", 4.1750942769999995, 3.7946175460000005, 2.577101237, 2.772020641, 2.433647188, 2.881102037, 2.8359501239999996, 2.995229948, 3.46223108, 3.389498166, 3.45056744, 3.473051685, 3.792404173, 3.830040753, 4.286697443, 4.288147231, 4.081974306, 4.260162572, 4.420152655, 5.095797672, \"Cluster 0\"], [\"Hungary\", 6.06578493, 5.707631445, 5.48077096, 5.293047243, 5.215692477, 4.992262794, 4.907747893, 5.241660919, 5.986829456000001, 5.625904986, 5.798315898999999, 5.651159262, 5.050828075, 4.9125672730000005, 4.958614911000001, 5.117494816000001, 5.029887063, 4.910106031000001, 4.905828404, 4.8830819089999995, \"Cluster 0\"], [\"Guyana\", 4.1236919819999995, 4.042182563, 4.267222814, 4.314013546, 3.815805252, 4.954943485, 4.898010308, 4.94658054, 4.749728887, 4.548307265, 4.359658645, 3.044944275, 4.685796052, 5.5972460139999995, 5.30091141, 4.460583707, 4.57147769, 4.339437853, 2.896153441, 3.119698091, \"Cluster 0\"], [\"Grenada\", 3.0064343160000004, 3.0167429230000002, 3.157869167, 3.151488805, 3.7073192410000004, 3.4469993260000003, 4.513238797, 3.5245498769999997, 3.055066908, 2.7005638910000003, 2.918936395, 3.208181759, 2.897890968, 2.691541613, 3.073334628, 3.100526247, 3.040190628, 3.045941945, 2.7824442680000003, 2.827357413, \"Cluster 0\"], [\"Panama\", 5.246581756, 4.628785357, 4.875049583, 4.727189573, 4.543351694, 5.284626305, 5.179758628, 5.544147842, 5.046701513, 5.688574188, 5.205403273, 4.7207796019999995, 4.048878178, 4.666452338, 5.63276516, 5.6500218460000005, 5.08973241, 4.9715198019999995, 5.804010025, 5.878366088, \"Cluster 0\"], [\"Papua New Guinea\", 2.449537747, 2.585706214, 2.9792040010000003, 3.16658124, 3.373244226, 3.2561626969999997, 5.895055792999999, 6.716728432999999, 6.024920708, 7.601456272999999, 5.47058434, 5.05912292, 3.123843205, 3.0754131780000002, 3.2208812860000005, 3.1834109230000003, 4.041347222, 3.653279542, 3.906003811, 3.46554272, \"Cluster 0\"], [\"Poland\", 3.905037381, 4.224738069, 3.983748404, 3.828606974, 4.0329012760000005, 3.852713136, 4.210391357, 4.497808461, 4.349887106000001, 4.242001236, 4.298902044, 4.313210083, 4.4203601710000004, 4.935315917, 5.097181114, 4.902807428, 4.710355764, 4.577515541, 4.534424797, 4.507639603, \"Cluster 0\"], [\"El Salvador\", 2.456765433, 3.106327227, 3.204772995, 3.68357541, 3.6517329339999995, 3.796302763, 3.753448667, 3.8056802210000003, 3.750173665, 3.6353041960000003, 3.8125530939999996, 4.153138804, 3.7447696460000004, 3.706714781, 4.133696927, 4.29012069, 4.327903341, 4.2104711539999995, 4.632291908, 4.4695083239999995, \"Cluster 0\"], [\"Argentina\", 4.966443086, 4.631641218, 4.553044297, 4.624211713999999, 5.152315686000001, 4.9658035819999995, 5.065933992, 4.4529400489999995, 4.251023183, 3.522396758, 3.6642338480000003, 3.654868936, 3.7830748410000004, 4.121097352, 5.040785799, 4.163482345, 3.745392503, 2.9589508739999997, 2.735022008, 2.652673798, \"Cluster 0\"], [\"Seychelles\", 4.22296599, 4.451643869, 4.820469327, 4.185799521, 4.236396955, 3.785614663, 3.758676506, 3.636458774, 4.145567132, 3.812610542, 3.620129416, 3.4579109889999997, 3.060728801, 2.405118358, 2.413078163, 3.2088597510000003, 3.1987716789999996, 3.797892539, 3.335699444, 3.107242732, \"Cluster 0\"], [\"Swaziland\", 2.832071581, 3.0579196060000005, 2.812078497, 2.879100714, 3.003066511, 2.9584121, 2.933657283, 3.0504573010000002, 3.719224901, 3.7224765680000003, 4.591988907, 4.559222042, 4.817315257, 5.70029508, 5.768594858999999, 5.9652663839999995, 5.971125925, 6.295393133999999, 7.374204077999999, 7.004909495, \"Cluster 0\"], [\"Small states\", 3.0834417839999997, 3.155744645, 3.18509596, 3.337760802, 3.2314720930000003, 3.053471183, 3.067515292, 3.2739580310000003, 3.46788155, 3.3720450910000004, 3.17828889, 2.9852425910000004, 2.963611867, 2.787731202, 3.320674555, 3.01892481, 2.816008951, 3.0011255610000003, 3.061103031, 2.9930888060000003, \"Cluster 0\"], [\"Tonga\", 2.670824514, 2.7968637689999998, 3.040161598, 3.2127216389999997, 3.763892167, 3.350358074, 4.284100434, 3.8079197839999996, 4.233041111, 4.050934622, 5.680380494, 4.879183916000001, 4.762818289, 4.186537045, 3.705109958, 3.6948683410000003, 3.223524387, 3.640530345, 4.0556243080000005, 4.265698947, \"Cluster 0\"], [\"Vanuatu\", 2.139305264, 1.749746805, 2.296830253, 3.038570387, 2.639952543, 2.73692934, 2.7885501360000005, 2.9076602460000003, 3.4189271389999996, 3.524656985, 3.292996247, 3.427445317, 3.161681536, 3.1798915739999996, 3.4023226980000003, 4.182597639, 3.3201783469999997, 3.167396258, 3.391475272, 4.510749546, \"Cluster 0\"], [\"Pacific island small states\", 4.0892714539999995, 3.644414077, 3.8171409, 3.801815827, 3.794036075, 4.478110937, 4.4304985530000005, 4.3275116780000005, 4.223171686000001, 4.262646193, 4.517164031, 4.531308472, 4.42810272, 4.253259024, 4.7700180130000005, 4.858082923, 4.239523762, 4.210439148, 4.497317273, 4.57632822, \"Cluster 0\"], [\"Other small states\", 3.116200718, 3.224322602, 3.2162667689999997, 3.450544585, 3.380267205, 3.0803314939999997, 3.1597630889999997, 3.3745049989999996, 3.6685363239999997, 3.488791995, 3.28108097, 3.027816988, 2.968221955, 2.75019805, 3.2710470039999997, 2.934337826, 2.74322401, 2.926310097, 2.99114702, 2.916463762, \"Cluster 0\"], [\"Tunisia\", 2.8943399860000003, 2.9873341, 2.6998275119999997, 2.9193048719999997, 2.898708402, 2.961609952, 2.834447949, 2.80141766, 2.833405347, 2.913685908, 2.866036298, 2.9550662180000002, 2.95239633, 3.041912298, 3.5073788560000003, 3.829212473, 4.167224012, 4.157872526, 4.229623294, 3.968816495, \"Cluster 0\"], [\"East Asia & Pacific\", 4.429089623, 4.203151524, 4.244351189, 4.4539837680000005, 4.626919635, 4.688849242, 4.684790174, 4.6135370689999995, 4.635098319, 4.626696416000001, 4.566215205, 4.367145726, 4.29739389, 4.43484819, 4.865241195, 4.7758171439999995, 4.871726678, 4.866869481, 4.643220952, 4.571447568, \"Cluster 0\"], [\"Turkey\", 1.76287716, 2.007166944, 2.244024053, 2.5846704, 2.913115705, 3.1142396469999998, 3.512553806, 3.786278215, 3.839653198, 3.826071088, 3.696382908, 3.971039668, 4.095218575, 4.435295202, 4.922531997, 4.412270438999999, 4.205859804, 4.1491432999999995, 4.225639909, 4.193778968999999, \"Cluster 0\"], [\"Ukraine\", 5.088198574, 4.78908302, 4.193678375, 3.540202425, 2.942150479, 2.895454814, 3.0721386930000003, 3.514016208, 4.042590061, 3.869747013, 3.811739442, 3.884569232, 3.9304539430000003, 3.825090501, 4.292353932, 4.421334806, 3.729821242, 4.12524044, 4.150794905, 3.6045211210000003, \"Cluster 0\"], [\"Antigua and Barbuda\", 2.746344563, 2.505800464, 2.597402599, 2.6720647769999997, 2.744200045, 2.78780548, 2.949759953, 2.950231444, 2.950013005, 2.67979353, 2.950098595, 2.9501058739999997, 2.9499999960000003, 3.3430313860000003, 3.3438995960000004, 3.893547142, 3.8910395589999998, 3.652332634, 3.592597393, 3.7846106760000002, \"Cluster 0\"], [\"Europe & Central Asia (IDA & IBRD countries)\", 3.537976062, 3.612690525, 4.047882124, 3.552856873, 3.4807646410000004, 3.385148495, 3.605372687, 3.816964108, 3.794325476, 3.642164316, 3.6815884189999997, 3.721762687, 3.7981816160000004, 3.951117848, 4.401010223, 4.068056417, 3.818966004, 3.9016659039999997, 3.8579794, 3.846191068, \"Cluster 0\"], [\"Latin America & the Caribbean (IDA & IBRD countries)\", 2.956811011, 2.8777881119999997, 2.968040205, 3.004957842, 3.20538333, 3.0270711969999997, 3.1075857360000003, 2.9494428210000003, 2.962835975, 3.036156959, 3.0753731689999997, 3.0956160919999998, 3.153372508, 3.2389997839999998, 3.700609301, 3.5632974539999998, 3.5165400680000003, 3.452393518, 3.551660225, 3.7318080030000003, \"Cluster 0\"], [\"Latin America & Caribbean (excluding high income)\", 2.996164912, 2.9066398089999996, 3.008480229, 3.040838015, 3.2475128189999998, 3.059905096, 3.146714937, 2.9871068739999997, 3.037261298, 3.0705763210000003, 3.166319862, 3.1677693789999997, 3.2753891889999998, 3.337349586, 3.804703623, 3.638582097, 3.591022045, 3.496118138, 3.606970928, 3.7073110839999996, \"Cluster 0\"], [\"Latin America & Caribbean\", 2.984770895, 2.9017704010000003, 2.990421248, 3.029994934, 3.235733893, 3.0606926660000005, 3.144669013, 2.998687771, 3.012572927, 3.0775050760000005, 3.161939378, 3.1608411760000004, 3.255992195, 3.335194417, 3.8119949810000002, 3.6386887339999996, 3.592871857, 3.509236607, 3.6191427860000003, 3.73231283, \"Cluster 0\"], [\"Europe & Central Asia (excluding high income)\", 3.401579475, 3.4078958989999997, 4.035214654, 3.4127523760000003, 3.222938325, 3.1671554810000004, 3.357613026, 3.60566463, 3.621672658, 3.4729823339999997, 3.506735617, 3.566116863, 3.6357801139999997, 3.735160497, 4.21818788, 3.878112626, 3.6528350869999997, 3.7801599689999996, 3.736001803, 3.714756912, \"Cluster 0\"], [\"Thailand\", 1.9694428380000002, 2.150730975, 2.536894078, 2.455703581, 2.314820676, 2.302887157, 2.292282152, 3.330872158, 3.467646858, 3.33413422, 3.3812775669999997, 3.904107096, 4.608862415, 4.7146609, 4.734495331000001, 4.441559229, 4.995567322, 5.237115011, 5.265840143999999, 5.615380522000001, \"Cluster 0\"], [\"Uruguay\", 3.880155497, 3.424728604, 2.61225038, 2.586152727, 2.918063853, 2.711547548, 2.314327052, 2.044716466, 1.7534277219999999, 7.293884084, 7.069810766, 7.2450250910000005, 4.593274899, 5.297812748999999, 5.352676888, 5.372432, 5.520950685, 5.947088677999999, 6.074635227999999, 6.111484304, \"Cluster 0\"], [\"Central Europe and the Baltics\", 4.678528481, 4.753208836000001, 4.604573867, 4.499987761, 4.679082306000001, 4.539710822, 4.6662723889999995, 4.900195789, 5.100249244, 4.913629428, 4.9708614110000005, 4.841450127, 4.80905668, 5.054785185, 5.3949206279999995, 5.284380429, 5.096212404, 5.041317268, 5.029265785, 5.017716676, \"Cluster 0\"], [\"Algeria\", 2.6735943559999997, 2.50218252, 2.553365736, 2.527980384, 2.383331292, 2.55856124, 2.97171746, 2.85227361, 2.802237023, 2.566248072, 2.280233074, 2.334850671, 2.7055707910000004, 3.0628038930000003, 3.83796598, 3.593208526, 3.7757293080000003, 4.52025089, 5.188359049, 5.24414553, \"Cluster 0\"], [\"Andorra\", 3.9826832960000003, 4.235647223, 4.297070495, 5.737580229, 3.9334656389999996, 3.976548227, 3.979763508, 4.109589041, 3.946179815, 3.91626014, 3.4597088489999996, 3.5661223730000002, 4.586322912, 4.825070819, 5.037537144, 6.242026697000001, 4.926289306, 5.747039877000001, 9.692356794, 6.341446004, \"Cluster 0\"]], \"hovertemplate\": \"Cluster=%{customdata[21]}<br>Country Name=%{customdata[0]}<br>1995=%{customdata[1]}<br>1996=%{customdata[2]}<br>1997=%{customdata[3]}<br>1998=%{customdata[4]}<br>1999=%{customdata[5]}<br>2000=%{customdata[6]}<br>2001=%{customdata[7]}<br>2002=%{customdata[8]}<br>2003=%{customdata[9]}<br>2004=%{customdata[10]}<br>2005=%{customdata[11]}<br>2006=%{customdata[12]}<br>2007=%{customdata[13]}<br>2008=%{customdata[14]}<br>2009=%{customdata[15]}<br>2010=%{customdata[16]}<br>2011=%{customdata[17]}<br>2012=%{customdata[18]}<br>2013=%{customdata[19]}<br>2014=%{customdata[20]}<extra></extra>\", \"legendgroup\": \"Cluster 0\", \"marker\": {\"color\": \"#636efa\"}, \"name\": \"Cluster 0\", \"notched\": true, \"offsetgroup\": \"Cluster 0\", \"showlegend\": false, \"type\": \"box\", \"x\": [\"Cluster 0\", \"Cluster 0\", \"Cluster 0\", \"Cluster 0\", \"Cluster 0\", \"Cluster 0\", \"Cluster 0\", \"Cluster 0\", \"Cluster 0\", \"Cluster 0\", \"Cluster 0\", \"Cluster 0\", \"Cluster 0\", \"Cluster 0\", \"Cluster 0\", \"Cluster 0\", \"Cluster 0\", \"Cluster 0\", \"Cluster 0\", \"Cluster 0\", \"Cluster 0\", \"Cluster 0\", \"Cluster 0\", \"Cluster 0\", \"Cluster 0\", \"Cluster 0\", \"Cluster 0\", \"Cluster 0\", \"Cluster 0\", \"Cluster 0\", \"Cluster 0\", \"Cluster 0\", \"Cluster 0\", \"Cluster 0\", \"Cluster 0\", \"Cluster 0\", \"Cluster 0\", \"Cluster 0\", \"Cluster 0\", \"Cluster 0\", \"Cluster 0\", \"Cluster 0\", \"Cluster 0\", \"Cluster 0\", \"Cluster 0\", \"Cluster 0\", \"Cluster 0\", \"Cluster 0\", \"Cluster 0\", \"Cluster 0\", \"Cluster 0\", \"Cluster 0\", \"Cluster 0\", \"Cluster 0\", \"Cluster 0\", \"Cluster 0\", \"Cluster 0\", \"Cluster 0\", \"Cluster 0\", \"Cluster 0\", \"Cluster 0\", \"Cluster 0\", \"Cluster 0\", \"Cluster 0\", \"Cluster 0\", \"Cluster 0\", \"Cluster 0\"], \"xaxis\": \"x2\", \"yaxis\": \"y2\"}, {\"alignmentgroup\": \"True\", \"bingroup\": \"x\", \"hovertemplate\": \"Cluster=%{x}<br>count=%{y}<extra></extra>\", \"legendgroup\": \"Cluster 1\", \"marker\": {\"color\": \"#EF553B\", \"opacity\": 0.7}, \"name\": \"Cluster 1\", \"offsetgroup\": \"Cluster 1\", \"orientation\": \"v\", \"showlegend\": true, \"type\": \"histogram\", \"x\": [\"Cluster 1\", \"Cluster 1\", \"Cluster 1\", \"Cluster 1\", \"Cluster 1\", \"Cluster 1\", \"Cluster 1\", \"Cluster 1\", \"Cluster 1\", \"Cluster 1\", \"Cluster 1\", \"Cluster 1\", \"Cluster 1\", \"Cluster 1\", \"Cluster 1\", \"Cluster 1\", \"Cluster 1\", \"Cluster 1\", \"Cluster 1\", \"Cluster 1\", \"Cluster 1\", \"Cluster 1\", \"Cluster 1\", \"Cluster 1\", \"Cluster 1\", \"Cluster 1\", \"Cluster 1\", \"Cluster 1\", \"Cluster 1\", \"Cluster 1\", \"Cluster 1\", \"Cluster 1\", \"Cluster 1\", \"Cluster 1\", \"Cluster 1\", \"Cluster 1\", \"Cluster 1\", \"Cluster 1\", \"Cluster 1\", \"Cluster 1\", \"Cluster 1\", \"Cluster 1\", \"Cluster 1\", \"Cluster 1\", \"Cluster 1\"], \"xaxis\": \"x\", \"yaxis\": \"y\"}, {\"alignmentgroup\": \"True\", \"customdata\": [[\"Micronesia, Fed. Sts.\", 8.69618637, 8.135027023, 7.277088411, 6.4621381829999995, 7.064856562999999, 7.353309875, 8.006993747000001, 7.414073857999999, 9.029862856, 9.899822595, 11.3112, 11.03399209, 11.13554688, 11.6954023, 12.1732852, 12.61078232, 12.53821521, 11.58813926, 12.08993842, 12.43375207, \"Cluster 1\"], [\"Kiribati\", 8.96847138, 8.797772304, 8.982999914, 6.656954317, 8.444216993, 7.5829204820000005, 8.491803281000001, 8.563909775, 9.467625904, 9.892086335, 9.460431655, 9.359712228, 11.40077075, 10.31166521, 10.36476503, 8.725609752999999, 8.568862275, 8.313609463999999, 8.232914284, 8.291027024, \"Cluster 1\"], [\"Finland\", 5.627186976, 5.753535627000001, 5.563132051, 5.326593103, 5.268778053999999, 5.144464163, 5.343613088, 5.657160032, 5.932232517999999, 6.017266103, 6.2218654739999995, 6.27918843, 6.031731023, 6.253821942999999, 6.896822789, 6.73883183, 6.753551156, 7.040839875, 7.204016684, 7.289814272999999, \"Cluster 1\"], [\"France\", 8.058218715, 8.042808693, 7.944487318999999, 7.844248058, 7.831247747999999, 7.759499572999999, 7.848666574, 8.141653894, 8.127820878, 8.20640927, 8.266337172, 8.173183403, 8.118287794, 8.16933746, 8.74652319, 8.679104958, 8.731135953999999, 8.826051795, 8.910694046, 9.024514376, \"Cluster 1\"], [\"United Kingdom\", 5.613873295, 5.574901951, 5.216401283, 5.273439395, 5.503507084, 5.523467366, 5.765949885, 6.040016206000001, 6.209568, 6.482429976000001, 6.658344919, 6.826598411, 6.794481096, 7.220152923, 8.162898056, 7.94167603, 7.765411293, 7.80263316, 7.780480937999999, 7.578850169, \"Cluster 1\"], [\"Germany\", 7.678673477, 8.117369547000001, 8.08569888, 8.040406659, 8.012330015, 7.9987526429999996, 8.03376379, 8.181587749, 8.289385968, 7.9198192579999995, 8.006701839, 7.85851875, 7.7325195110000005, 7.9017386620000005, 8.709862289, 8.575730796, 8.307622306, 8.361114536, 8.569493975, 8.697237324, \"Cluster 1\"], [\"Malta\", 3.819517745, 4.105345357, 4.384384401, 4.443696789, 4.393656255, 4.742394807, 4.8342677489999994, 5.429400948, 5.542024248, 5.653685894, 5.997448889, 6.0463126979999995, 5.482240553, 5.156232157, 5.2500287619999995, 5.219545076, 6.462012081, 6.6252345660000005, 6.554282826000001, 6.74343039, \"Cluster 1\"], [\"Greece\", 4.301359499, 4.325647391, 4.232330999999999, 4.1185477530000005, 4.34042636, 4.5622111, 5.146070341000001, 5.055646368000001, 5.14686853, 4.90873744, 5.627319096, 5.790832345, 5.677828365, 5.84985855, 6.781079862, 6.2163537479999995, 6.682802397000001, 6.274430226000001, 6.066287526, 4.985039193, \"Cluster 1\"], [\"Portugal\", 4.645839437, 5.024970483, 5.049986861, 5.117457254, 5.3179309130000005, 6.193279482, 6.233144247999999, 6.4624051929999995, 6.564295702000001, 6.8934000829999995, 6.989928936, 6.5834602, 6.506712635, 6.674037277, 7.160521451, 7.171492441, 6.70065608, 6.238911387000001, 6.2321554379999995, 6.158189113, \"Cluster 1\"], [\"Austria\", 7.137100143, 7.096256981, 7.356728587999999, 7.478719544, 7.648251788, 7.536366526, 7.503314227000001, 7.606508347999999, 7.736479762, 7.791336459, 7.83141883, 7.737932786, 7.775802592000001, 7.995856889, 8.466129609, 8.400006947, 8.213674722999999, 8.417189562, 8.370613437000001, 8.72502572, \"Cluster 1\"], [\"European Union\", 6.506458015, 6.584349032, 6.447821826, 6.395838336000001, 6.453924272, 6.4399001160000005, 6.570972316000001, 6.747120362, 6.899522022999999, 6.9109638470000005, 7.051118847000001, 7.087790266, 7.002368177999999, 7.256592777000001, 7.936430028999999, 7.820468929, 7.744258462, 7.79306822, 7.8369536570000005, 7.818446175, \"Cluster 1\"], [\"Japan\", 5.451500805, 5.342586047, 5.469916116, 5.652911799, 5.909097683, 6.087614007000001, 6.297406178999999, 6.361552576, 6.420410051, 6.47273952, 6.657459568999999, 6.596439242000001, 6.715044868, 6.995021791, 7.753493212, 7.861969364, 8.318249839, 8.409920777, 8.528219096, 8.550081685, \"Cluster 1\"], [\"Australia\", 4.775232585, 4.856308024, 5.016476282, 5.084647809, 5.326927409, 5.399511666, 5.42099866, 5.620660145, 5.50612734, 5.724898888999999, 5.661448484, 5.660886591000001, 5.765876395, 5.927631008, 6.186556011, 6.127334253, 6.315378278, 6.285633269, 6.274917138999999, 6.316592657999999, \"Cluster 1\"], [\"Norway\", 6.499858794, 6.45280883, 6.697116683, 7.454887071, 7.547604056, 6.82382819, 7.22396035, 8.027209665, 8.247464055, 7.888860771, 7.430282026, 7.062887755, 7.219227008, 7.091172877000001, 8.021737678, 7.839228687, 7.717230788999999, 7.773855997999999, 8.005414287, 8.309618200000001, \"Cluster 1\"], [\"Netherlands\", 5.286854099999999, 4.9482342180000005, 5.071556448, 4.849467046, 4.722084285, 4.682621338, 4.89473375, 5.2119207030000005, 5.627419176, 5.591158703, 6.668937025, 7.974464533, 7.980489499, 8.209741428, 8.901516849, 9.081296075, 9.085857928, 9.528421586, 9.617134752, 9.481132729, \"Cluster 1\"], [\"United States\", 5.9094787879999995, 5.891274291, 5.830750135, 5.676669198, 5.613684996, 5.653471017999999, 6.074098006, 6.423940796, 6.618867537000001, 6.69810039, 6.722608977999999, 6.882532539, 7.01636006, 7.367883673, 8.014549675, 8.079784435, 8.07412666, 8.042357809, 8.045006773999999, 8.278517711000001, \"Cluster 1\"], [\"Iceland\", 6.88713759, 6.797412968, 6.493117315, 7.037368982, 7.77504317, 7.5449804160000005, 7.405369028, 8.074375998999999, 8.231289339, 7.794296374, 7.499485021, 7.349510337999999, 7.225443543, 7.2743097820000004, 7.479480519, 7.116064072, 6.972243353, 6.994047937, 7.067580829, 7.179705939, \"Cluster 1\"], [\"Italy\", 5.020894767, 5.084493833, 5.286288745, 5.300234371, 5.384669776, 5.704658031, 5.973164167999999, 6.07690275, 6.07045375, 6.414766985, 6.644147576, 6.7435972920000005, 6.487839661000001, 6.836653592999999, 7.248665862999999, 7.256673496, 6.969185175, 6.993120899, 6.967351379, 6.992651033, \"Cluster 1\"], [\"High income\", 5.8528186589999995, 5.861951134, 5.81180873, 5.837542174, 5.859037054, 5.853669228999999, 6.131478777000001, 6.354331656, 6.509857349, 6.545027623999999, 6.604202186, 6.657364768, 6.685402534, 6.945781465, 7.638854311, 7.562423022000001, 7.546564171, 7.556054525, 7.573148687000001, 7.6586505670000005, \"Cluster 1\"], [\"New Zealand\", 5.362051931, 5.283706171, 5.486240926, 5.787903257000001, 5.731562231, 5.827839126000001, 5.791984927000001, 6.146520495, 6.041511196, 6.281577112999999, 6.572475187, 6.922995765, 6.883399708, 8.906984606, 9.323010285, 9.305461872999999, 9.342877083, 9.547666612999999, 9.226556936, 9.082656345, \"Cluster 1\"], [\"Palau\", 8.650190111, 8.769106997, 8.390541575, 7.07424594, 7.624323455, 6.370625003, 6.1851190460000005, 5.948520708999999, 6.0942528739999995, 6.490673575, 5.895631066, 6.342105263, 6.559764147999999, 6.540845072000001, 6.614646467999999, 7.641116751, 6.548387094, 6.739224139, 6.599186992000001, 6.531970262000001, \"Cluster 1\"], [\"World\", 5.286303621, 5.246769791, 5.19680285, 5.227929882, 5.2749122989999995, 5.2211192539999995, 5.444044382, 5.633904668, 5.765420482000001, 5.755465472000001, 5.733553112999999, 5.701873011, 5.65229917, 5.78265714, 6.32094847, 6.075446192999999, 5.982564844, 5.940788187000001, 5.921679595, 5.994028234, \"Cluster 1\"], [\"Sweden\", 6.901266869, 7.1283580970000004, 6.888226931, 6.962480445, 7.027549767000001, 6.943698089, 7.188240259, 7.513944417, 7.634858717999999, 7.3951965379999995, 7.354150307, 7.259516112999999, 7.254788683999999, 7.521564636, 8.100547687, 7.7183103289999995, 9.914691787999999, 9.955521086000001, 10.05201524, 10.02469431, \"Cluster 1\"], [\"Cuba\", 4.648496225, 4.756708361, 4.986951137, 5.226020532, 5.474999382999999, 5.509533717, 5.670491082000001, 5.724849955, 5.648789044, 5.468185582, 8.744448247000001, 7.081250077999999, 9.883198101, 10.29335824, 11.28391889, 9.70382827, 10.07101019, 8.088255377000001, 8.962294541, 10.57366249, \"Cluster 1\"], [\"Switzerland\", 4.999426018, 5.292310568, 5.3136251660000005, 5.381639812, 5.51555988, 5.492175839, 5.852946307000001, 6.123779435, 6.379751456, 6.4003113570000005, 6.459405675, 6.141737847999999, 6.032418431, 6.703738631, 7.209714872999999, 7.09727006, 7.2009273579999995, 7.498784843999999, 7.733805564, 7.695117355, \"Cluster 1\"], [\"Slovak Republic\", 5.367669133, 5.708260171, 5.302839859, 5.179371767, 5.157902597, 4.915242275, 4.914849534, 5.013706746, 5.138875209, 5.319742082, 5.241058358, 5.020215772, 5.184301959, 5.4353000510000005, 6.012034516, 5.797130372000001, 5.643904536, 5.679221056, 5.7880822, 5.8395992020000005, \"Cluster 1\"], [\"Post-demographic dividend\", 5.923737902999999, 5.937932599, 5.892328742999999, 5.914243707000001, 5.932601223, 5.939920697000001, 6.2178511610000005, 6.445490047000001, 6.611676409, 6.657098828, 6.744363002999999, 6.812281987, 6.853256687000001, 7.145683267000001, 7.822250526, 7.781963316000001, 7.795102793, 7.812069609, 7.833116298999999, 7.914720128, \"Cluster 1\"], [\"Serbia\", 4.267816797, 4.267816799999999, 4.267816797, 4.2678168030000005, 4.267816797, 4.267816797, 4.600455039, 5.837583112999999, 5.766948594, 5.672611076, 5.742701002, 5.664904303999999, 6.146621793, 6.228211971, 6.12657588, 6.241991647000001, 6.039682906, 6.049713243999999, 5.984362308, 6.416505605, \"Cluster 1\"], [\"Spain\", 5.3735065539999995, 5.400270122999999, 5.314511603, 5.284405916, 5.269708002, 5.16745964, 5.155738488, 5.168936096, 5.727875546, 5.79793601, 5.875803104, 6.0053206370000005, 6.098790144, 6.512856144, 7.209759954, 7.173242115, 7.001061132, 6.734615203, 6.502610209, 6.399991901, \"Cluster 1\"], [\"Lesotho\", 3.562259305, 3.780533582, 3.117609003, 3.272044207, 3.239233383, 3.4740210489999996, 4.372510108, 3.831319315, 4.034880661, 3.938291734, 3.309584005, 4.175710594, 5.597512217, 6.059683765, 7.000413737000001, 8.079925072, 9.087435867, 8.447350944, 8.408564819, 8.082167603, \"Cluster 1\"], [\"Europe & Central Asia\", 6.258717592999999, 6.339840985, 6.249748329, 6.19495497, 6.269452692000001, 6.207590774, 6.357420652, 6.543767225, 6.68023106, 6.643569576, 6.70922848, 6.691295997, 6.590409565, 6.775062286, 7.489585233, 7.256678468, 7.09676356, 7.10705862, 7.143518692000001, 7.184029645, \"Cluster 1\"], [\"Maldives\", 3.662613659, 3.603093758, 3.54408858, 4.648466888, 4.74957875, 5.119448212, 3.7002680060000004, 3.567182597, 3.778200959, 3.8768776689999997, 7.126649771, 5.237830448, 4.553267366, 7.025877902, 6.729711552, 5.273435237, 5.608781865, 6.50292714, 8.263833455, 10.75705209, \"Cluster 1\"], [\"Costa Rica\", 4.9819644169999995, 5.065507246, 4.838992757, 5.6371740610000005, 5.362922535, 5.61242476, 5.485507511000001, 6.2834759920000005, 6.450275287, 5.653259257, 5.4657120589999995, 5.397313924, 5.627837325, 6.261310673, 7.022189965, 7.092617051, 7.149714006, 7.000226946000001, 6.914441165, 6.76760152, \"Cluster 1\"], [\"Canada\", 6.3135005, 6.112419052999999, 6.033111823, 6.228970762, 6.107698328, 6.098426758, 6.3649046810000005, 6.514305746000001, 6.694243642999999, 6.719901986, 6.723559526, 6.788407822999999, 6.893501359, 7.063453852, 7.914158212, 7.88439634, 7.676792501, 7.651144554, 7.575664927999999, 7.4119318839999995, \"Cluster 1\"], [\"OECD members\", 5.837047317000001, 5.841498345, 5.7873592060000005, 5.793233257000001, 5.816090555, 5.809017258, 6.0848777929999995, 6.308109241, 6.476244914, 6.522930721, 6.584750763, 6.646100419, 6.68397179, 6.97570711, 7.653295827000001, 7.58452343, 7.588942977, 7.608825853, 7.617928345, 7.692358487999999, \"Cluster 1\"], [\"Croatia\", 5.8306697629999995, 6.135021776, 4.893760696, 5.7330917679999995, 6.326324594, 6.6022750629999996, 5.96435491, 4.955064171, 5.242817131, 5.314158705, 5.930617257000001, 5.984641875, 6.477622756000001, 6.538722947999999, 7.006867431, 7.064964214, 6.25541215, 6.363207061000001, 6.403028794, 6.388287591, \"Cluster 1\"], [\"Ireland\", 4.669802976000001, 4.541905478, 4.6448398619999995, 4.494538697, 4.461866317, 4.466601084, 4.911672749, 5.1711671, 5.402683783, 5.5962288860000005, 5.520724187999999, 5.443878625, 5.729910174, 6.513027123, 6.917241581, 6.101439901, 5.5260434620000005, 5.622416984, 5.333288818, 5.141484076, \"Cluster 1\"], [\"North America\", 5.9389948960000005, 5.907198654, 5.845014468, 5.71256593, 5.645996433, 5.683423459, 6.092951705, 6.429777137, 6.624290735, 6.699777867000001, 6.722686909, 6.874371534, 7.005070493, 7.338893627999999, 8.005831942999999, 8.060768597000001, 8.033060722, 8.002663479, 7.998392667, 8.197720774, \"Cluster 1\"], [\"Czech Republic\", 6.084042522000001, 5.812945806, 5.779225055, 5.803851213, 5.744610454, 5.702534921, 5.7649027539999995, 6.149834668, 6.404474042, 6.15449697, 6.054044375, 5.805408814, 5.556626261, 5.628784423, 6.5696540279999995, 6.22493667, 6.314732469, 6.341764994, 6.313087853, 6.264976383, \"Cluster 1\"], [\"Denmark\", 6.7053440470000005, 6.76753736, 6.706312228, 6.694654162000001, 7.517019335, 7.29518541, 7.660538886, 7.885050087000001, 8.039900364, 8.152818891, 8.253254964, 8.399549167, 8.429011642999999, 8.621214821, 9.756125393, 9.433817543, 9.26885262, 9.419660272, 9.593210322000001, 9.158734109, \"Cluster 1\"], [\"Euro area\", 6.716641592, 6.819911767000001, 6.775234333999999, 6.713451942000001, 6.707802202000001, 6.725721019, 6.824762086000001, 6.9704907160000005, 7.100569779, 7.08237852, 7.243410635, 7.2751367270000005, 7.183725909, 7.419702701, 8.060334166, 7.985294914, 7.851059524, 7.904805463, 7.961558065, 8.001479856, \"Cluster 1\"], [\"Belgium\", 5.845320714, 6.184037715, 5.853458122999999, 5.899438234, 6.023602106, 6.058374214, 6.2528146289999995, 6.24450897, 6.9180965510000005, 7.127857092999999, 7.112748229, 6.962370453999999, 6.952936769, 7.396754446, 8.043822364, 7.896702726, 8.006737375, 8.186298971, 8.226719108, 8.249989468999999, \"Cluster 1\"], [\"Slovenia\", 5.792909005, 5.819026492000001, 5.819143855, 5.897932514, 5.900414841, 6.116332806, 6.280502195, 6.32476385, 6.314120889, 6.221904529, 6.212733312999999, 6.122382991, 5.773929573999999, 6.291263917999999, 6.9246336820000005, 6.72862594, 6.673550483, 6.803887187000001, 6.668260437000001, 6.623821787000001, \"Cluster 1\"], [\"Bosnia and Herzegovina\", 3.3504531589999997, 4.802890013, 3.4999255760000003, 3.329547245, 4.7307526289999995, 4.032095716000001, 4.312505733, 4.422546498, 5.478547872, 5.173272164, 4.865928659, 4.979969839, 5.334221943, 5.812860562000001, 6.803551255, 6.788921332, 6.923006484, 7.080212274, 6.629772276000001, 6.813077082, \"Cluster 1\"], [\"Luxembourg\", 5.145716534, 5.245560163, 5.173766337, 5.237903806, 5.232189737, 6.361267183, 6.236389009, 7.070858488, 6.457623507, 6.958297657999999, 6.747706438, 6.597379851, 5.82007398, 6.492969779, 7.025644269, 6.594701877, 6.26066183, 5.988070914, 5.9392373229999995, 5.822836062, \"Cluster 1\"]], \"hovertemplate\": \"Cluster=%{customdata[21]}<br>Country Name=%{customdata[0]}<br>1995=%{customdata[1]}<br>1996=%{customdata[2]}<br>1997=%{customdata[3]}<br>1998=%{customdata[4]}<br>1999=%{customdata[5]}<br>2000=%{customdata[6]}<br>2001=%{customdata[7]}<br>2002=%{customdata[8]}<br>2003=%{customdata[9]}<br>2004=%{customdata[10]}<br>2005=%{customdata[11]}<br>2006=%{customdata[12]}<br>2007=%{customdata[13]}<br>2008=%{customdata[14]}<br>2009=%{customdata[15]}<br>2010=%{customdata[16]}<br>2011=%{customdata[17]}<br>2012=%{customdata[18]}<br>2013=%{customdata[19]}<br>2014=%{customdata[20]}<extra></extra>\", \"legendgroup\": \"Cluster 1\", \"marker\": {\"color\": \"#EF553B\"}, \"name\": \"Cluster 1\", \"notched\": true, \"offsetgroup\": \"Cluster 1\", \"showlegend\": false, \"type\": \"box\", \"x\": [\"Cluster 1\", \"Cluster 1\", \"Cluster 1\", \"Cluster 1\", \"Cluster 1\", \"Cluster 1\", \"Cluster 1\", \"Cluster 1\", \"Cluster 1\", \"Cluster 1\", \"Cluster 1\", \"Cluster 1\", \"Cluster 1\", \"Cluster 1\", \"Cluster 1\", \"Cluster 1\", \"Cluster 1\", \"Cluster 1\", \"Cluster 1\", \"Cluster 1\", \"Cluster 1\", \"Cluster 1\", \"Cluster 1\", \"Cluster 1\", \"Cluster 1\", \"Cluster 1\", \"Cluster 1\", \"Cluster 1\", \"Cluster 1\", \"Cluster 1\", \"Cluster 1\", \"Cluster 1\", \"Cluster 1\", \"Cluster 1\", \"Cluster 1\", \"Cluster 1\", \"Cluster 1\", \"Cluster 1\", \"Cluster 1\", \"Cluster 1\", \"Cluster 1\", \"Cluster 1\", \"Cluster 1\", \"Cluster 1\", \"Cluster 1\"], \"xaxis\": \"x2\", \"yaxis\": \"y2\"}, {\"alignmentgroup\": \"True\", \"bingroup\": \"x\", \"hovertemplate\": \"Cluster=%{x}<br>count=%{y}<extra></extra>\", \"legendgroup\": \"Cluster 2\", \"marker\": {\"color\": \"#00cc96\", \"opacity\": 0.7}, \"name\": \"Cluster 2\", \"offsetgroup\": \"Cluster 2\", \"orientation\": \"v\", \"showlegend\": true, \"type\": \"histogram\", \"x\": [\"Cluster 2\", \"Cluster 2\", \"Cluster 2\", \"Cluster 2\", \"Cluster 2\", \"Cluster 2\", \"Cluster 2\", \"Cluster 2\", \"Cluster 2\", \"Cluster 2\", \"Cluster 2\", \"Cluster 2\", \"Cluster 2\", \"Cluster 2\", \"Cluster 2\", \"Cluster 2\", \"Cluster 2\", \"Cluster 2\", \"Cluster 2\", \"Cluster 2\", \"Cluster 2\", \"Cluster 2\", \"Cluster 2\", \"Cluster 2\", \"Cluster 2\", \"Cluster 2\", \"Cluster 2\", \"Cluster 2\", \"Cluster 2\", \"Cluster 2\", \"Cluster 2\", \"Cluster 2\", \"Cluster 2\", \"Cluster 2\", \"Cluster 2\", \"Cluster 2\", \"Cluster 2\", \"Cluster 2\", \"Cluster 2\", \"Cluster 2\", \"Cluster 2\", \"Cluster 2\", \"Cluster 2\", \"Cluster 2\", \"Cluster 2\", \"Cluster 2\", \"Cluster 2\", \"Cluster 2\", \"Cluster 2\", \"Cluster 2\", \"Cluster 2\", \"Cluster 2\", \"Cluster 2\", \"Cluster 2\", \"Cluster 2\", \"Cluster 2\", \"Cluster 2\", \"Cluster 2\", \"Cluster 2\", \"Cluster 2\", \"Cluster 2\", \"Cluster 2\", \"Cluster 2\", \"Cluster 2\", \"Cluster 2\", \"Cluster 2\", \"Cluster 2\", \"Cluster 2\", \"Cluster 2\", \"Cluster 2\", \"Cluster 2\", \"Cluster 2\", \"Cluster 2\", \"Cluster 2\", \"Cluster 2\", \"Cluster 2\", \"Cluster 2\", \"Cluster 2\", \"Cluster 2\", \"Cluster 2\", \"Cluster 2\", \"Cluster 2\", \"Cluster 2\", \"Cluster 2\", \"Cluster 2\", \"Cluster 2\", \"Cluster 2\", \"Cluster 2\", \"Cluster 2\", \"Cluster 2\", \"Cluster 2\", \"Cluster 2\", \"Cluster 2\", \"Cluster 2\", \"Cluster 2\", \"Cluster 2\", \"Cluster 2\", \"Cluster 2\", \"Cluster 2\", \"Cluster 2\", \"Cluster 2\", \"Cluster 2\", \"Cluster 2\", \"Cluster 2\", \"Cluster 2\", \"Cluster 2\", \"Cluster 2\", \"Cluster 2\", \"Cluster 2\"], \"xaxis\": \"x\", \"yaxis\": \"y\"}, {\"alignmentgroup\": \"True\", \"customdata\": [[\"Vietnam\", 1.757862744, 1.632231732, 1.604611275, 1.731437579, 1.717060034, 1.513863444, 1.627560706, 1.447735609, 1.551822426, 1.393649581, 1.4195695640000001, 1.94486753, 2.563552268, 2.1319632019999997, 2.5691874219999997, 2.9609666289999996, 2.805001867, 3.722124141, 3.796360562, 3.820019105, \"Cluster 2\"], [\"Morocco\", 1.184133718, 1.14335155, 1.073390243, 1.179102117, 1.149141903, 1.229737845, 1.427759227, 1.378808948, 1.39499543, 1.4295298019999998, 1.4389258669999998, 1.7144025040000002, 1.8980773180000001, 1.891971766, 2.046396065, 2.0675720369999997, 2.08777206, 2.181466365, 1.95774948, 2.001326276, \"Cluster 2\"], [\"Nepal\", 1.407378795, 1.42214041, 1.4710270630000002, 2.554396091, 1.763231864, 1.352123349, 1.5944633019999999, 1.640840974, 1.527687611, 1.590326576, 1.585328429, 2.044874971, 2.2831250830000003, 2.725698705, 2.824395263, 2.867317073, 3.24209748, 2.466854595, 2.2199025619999997, 2.337819114, \"Cluster 2\"], [\"Myanmar\", 0.40560317, 0.33454759, 0.262807177, 0.16829349300000002, 0.170964179, 0.26099717100000003, 0.224982015, 0.313588382, 0.243334548, 0.266961522, 0.164974085, 0.256312052, 0.19819528600000003, 0.207554701, 0.232553662, 0.299251928, 0.297624635, 0.819629102, 0.826846155, 1.0448998040000002, \"Cluster 2\"], [\"Venezuela, RB\", 1.803152127, 1.482414909, 1.3873164880000002, 1.466015602, 1.83342208, 2.163059483, 2.3407567019999997, 2.1513320019999997, 2.079300496, 2.158140627, 2.153332428, 2.221770123, 2.4647812030000003, 1.230489115, 2.496312442, 2.088239278, 2.33545129, 1.675638027, 1.5428590880000002, 1.5427659459999998, \"Cluster 2\"], [\"Mongolia\", 2.598917911, 3.0338893369999997, 3.06342556, 3.4813274830000003, 3.417399945, 3.828286275, 3.89985284, 3.455279064, 2.918031289, 2.92676436, 2.484591225, 2.3969135919999998, 2.736412235, 3.18351906, 2.768372713, 2.654478067, 2.595706257, 2.260514895, 2.21159453, 2.620572882, \"Cluster 2\"], [\"Uzbekistan\", 3.6000000030000003, 3.7000000010000003, 3.300000002, 2.9445866919999997, 2.804581287, 2.5156908159999998, 2.5501141069999997, 2.424055326, 2.3806037019999997, 2.26249735, 2.279013274, 2.4548033890000003, 2.298687476, 2.529900054, 2.619290185, 2.7513171560000003, 2.863900619, 3.1273714530000003, 3.117906257, 3.11124825, \"Cluster 2\"], [\"United Arab Emirates\", 2.0817381580000003, 1.948805565, 1.9483958190000001, 2.056706777, 1.9176294719999998, 1.6770585919999998, 1.944492099, 1.7139829819999999, 1.67154037, 1.45604253, 1.36889725, 1.3825069509999999, 1.5553772380000002, 1.9216341030000001, 3.0341259469999997, 2.834165586, 2.732488042, 2.550025889, 2.557326087, 2.636151579, \"Cluster 2\"], [\"Nigeria\", 0.658145013, 0.6004809210000001, 0.717612288, 0.9066261859999999, 0.9836661459999999, 0.949286025, 1.0177073509999999, 0.622004345, 0.9066617840000001, 1.4147604390000001, 1.19778681, 1.204600858, 1.472728808, 1.470059403, 1.324670016, 0.908580697, 1.151611248, 1.033169532, 0.8826272559999999, 0.9225351270000001, \"Cluster 2\"], [\"Sudan\", 0.785822105, 1.1132446329999999, 0.8913511359999999, 0.947423065, 0.7634364029999999, 0.887398963, 0.755115843, 0.7832779759999999, 0.883215533, 1.080722762, 1.091364, 1.270562706, 1.511842397, 2.630955513, 2.356734868, 2.698468913, 2.557343508, 1.8717955609999999, 1.859793759, 1.802361864, \"Cluster 2\"], [\"St. Kitts and Nevis\", 3.210272875, 3.167420812, 2.96495957, 3.0322580639999996, 3.038774765, 2.572590516, 2.262442891, 2.091861802, 2.087233898, 1.8705093169999998, 1.9221866930000002, 2.336683006, 2.154610635, 2.030668845, 2.193108956, 2.532022242, 2.26067011, 2.375174636, 2.183728661, 2.144605023, \"Cluster 2\"], [\"Sri Lanka\", 1.615371713, 1.611450175, 1.520769471, 1.878021898, 1.7467114680000002, 1.846321629, 1.7582096980000002, 1.6833360119999998, 1.677615192, 2.005508786, 1.85010327, 1.950059208, 1.825976447, 1.5815241269999998, 1.53517067, 1.5538039369999999, 1.38092651, 1.219599412, 2.102564149, 1.96395333, \"Cluster 2\"], [\"Syrian Arab Republic\", 2.189237706, 1.9540946959999999, 1.8777604769999998, 1.960923229, 2.01442573, 1.989779169, 2.173051471, 2.262242934, 2.4683381680000003, 2.148408978, 2.075568445, 1.833546841, 1.7896512969999998, 1.5964767030000002, 1.631376352, 1.507165795, 1.507165794, 1.507165792, 1.507165795, 1.507165795, \"Cluster 2\"], [\"Tajikistan\", 1.289444392, 1.296720852, 1.601227323, 1.141229192, 1.040832288, 0.946474655, 0.9497662490000001, 0.9065827479999999, 0.910560376, 0.94333442, 1.1438192790000001, 1.129053783, 1.184751796, 1.371774183, 1.478536975, 1.594683309, 1.71027997, 1.87760452, 2.067731786, 1.983765009, \"Cluster 2\"], [\"Tanzania\", 1.3671389859999998, 1.174080484, 1.127228367, 1.009735219, 1.1200299009999999, 1.1459393759999998, 1.769595394, 2.106622222, 2.573524874, 2.565945049, 2.965165865, 4.763505728, 3.038471158, 2.435878095, 2.109638156, 2.072897335, 2.4866151380000003, 2.790460229, 2.565408087, 2.589958711, \"Cluster 2\"], [\"Togo\", 1.5142425659999998, 1.476366118, 1.263694426, 1.5228179240000002, 1.4206208740000001, 1.420842968, 1.25272483, 0.906148993, 1.441999812, 1.6843732040000001, 1.898455965, 2.2596331419999998, 2.157573571, 2.416491795, 3.2782154439999998, 1.9385851369999998, 1.655337459, 1.947797344, 2.148307048, 2.01732113, \"Cluster 2\"], [\"Singapore\", 1.456150914, 1.391903127, 1.344772866, 1.66411043, 1.4782905990000001, 1.217784989, 0.887039769, 1.0589667740000002, 1.346161446, 1.030256162, 1.003758123, 1.0010905540000001, 0.955389862, 1.20049011, 1.526597419, 1.3714286169999998, 1.346479037, 1.501077737, 1.735920655, 2.054683314, \"Cluster 2\"], [\"Sierra Leone\", 2.388388089, 2.163428251, 2.513163766, 2.0471494480000003, 3.064624564, 3.49413205, 2.824141502, 2.9649160219999997, 2.784261175, 2.683917256, 2.676174105, 1.961695331, 1.645375923, 1.7879205000000002, 2.2075173169999998, 2.396940634, 2.646933502, 1.980878492, 1.6946554809999999, 1.8838018559999998, \"Cluster 2\"], [\"Mexico\", 2.130169342, 1.9017575580000001, 2.108606157, 2.209776657, 2.3947401530000003, 2.318107511, 2.39862085, 2.4220273480000003, 2.541277434, 2.688003906, 2.618877856, 2.560345155, 2.6423747680000003, 2.7609368169999997, 3.095935571, 3.103295671, 3.067131298, 3.160971159, 3.2569934060000003, 3.2595515739999996, \"Cluster 2\"], [\"Niger\", 1.46894782, 1.28448572, 1.6847956030000002, 1.6945951419999998, 1.6988028130000001, 1.5224654819999999, 1.8667212, 1.909258365, 1.6804503130000001, 1.845863957, 2.978654315, 3.175497048, 2.662864682, 2.6958767939999997, 2.650386504, 2.162436939, 2.453245216, 2.211834697, 2.455677176, 3.214493821, \"Cluster 2\"], [\"Senegal\", 1.2798538309999998, 1.4840143330000002, 1.2842599890000002, 1.311168581, 1.741001217, 1.8955416319999998, 2.135240269, 1.95048094, 2.09132832, 2.1192570930000003, 2.9824374189999996, 3.149901608, 2.3325124280000002, 2.52752637, 2.486263648, 2.368547813, 2.2798394, 2.179866218, 2.238315424, 2.41795607, \"Cluster 2\"], [\"Trinidad and Tobago\", 2.638269986, 2.386765057, 2.344393146, 1.952658896, 2.344861306, 1.9555948980000002, 2.226981196, 2.647006573, 2.599973229, 2.599777231, 2.641981687, 2.2319773019999998, 2.37526743, 2.164450301, 3.2808106789999996, 3.018338697, 2.680151372, 2.894988852, 3.144494274, 3.174627521, \"Cluster 2\"], [\"Rwanda\", 1.639887766, 1.875693261, 1.8534048269999999, 2.558416099, 2.083504954, 1.65315324, 2.138891489, 2.182617409, 3.345043303, 2.875959967, 3.1994948919999997, 4.98059157, 3.780193618, 2.8301189489999996, 2.402053946, 2.928013553, 2.810805898, 2.835877205, 2.9251774489999995, 2.86940115, \"Cluster 2\"], [\"Turkmenistan\", 1.8558282190000002, 2.261439427, 3.479223681, 3.501250448, 2.385819704, 3.214627605, 2.817917069, 2.43147657, 2.708526219, 2.4214305080000003, 2.021050273, 1.5455485169999998, 1.388148149, 0.946836468, 1.163073225, 1.223637874, 1.268097271, 1.273376388, 1.4260022369999998, 1.348530564, \"Cluster 2\"], [\"Uganda\", 1.419934953, 1.4132376530000001, 1.434781572, 1.895182926, 1.6585483509999999, 1.837958926, 1.9800486640000001, 2.105321926, 1.948108485, 2.265551769, 2.36197808, 2.472357111, 2.461809429, 2.302819536, 1.814334366, 3.118358422, 2.633267177, 2.15389932, 2.087896717, 1.801251317, \"Cluster 2\"], [\"Qatar\", 2.3204105040000003, 2.494258485, 2.14754465, 2.26219926, 1.9516241730000001, 1.574730065, 1.9219924780000002, 2.035923049, 3.488087043, 3.0369040139999997, 2.535151656, 2.172082184, 1.9433211680000002, 1.574182634, 2.065527913, 1.6208308630000001, 1.5059314080000001, 1.8314776730000002, 1.85480107, 1.87539141, \"Cluster 2\"], [\"Philippines\", 1.363656828, 1.451424131, 1.558107718, 1.373206902, 1.428355789, 1.526761368, 1.3244430759999999, 1.116642339, 1.306200566, 1.3031314390000002, 1.5016485869999998, 1.452187111, 1.367826516, 1.332745624, 1.54867658, 1.57369151, 1.306362975, 1.386256358, 1.449217044, 1.614685219, \"Cluster 2\"], [\"Peru\", 2.4000535530000002, 2.439421903, 2.266327886, 2.571913148, 2.829916303, 2.720831514, 2.83143959, 2.825705616, 2.690862148, 2.543761347, 2.69389613, 2.392145848, 2.414623092, 2.452033774, 2.983444427, 2.794287232, 2.624140306, 2.846647646, 3.0451036680000003, 3.31875118, \"Cluster 2\"], [\"Paraguay\", 2.1300236740000003, 2.395655422, 2.428081297, 2.821045288, 3.030939089, 3.2306281489999997, 2.654111955, 2.16010372, 1.94949197, 2.031570671, 2.355197356, 2.610014991, 2.6921865680000003, 2.713075726, 3.498680631, 3.360902763, 3.765919165, 4.598601243, 4.781259119, 4.502240378, \"Cluster 2\"], [\"Pakistan\", 0.655509247, 0.7153439309999999, 0.6555669679999999, 0.5714069, 0.55473074, 0.608602423, 0.551524181, 0.80938608, 0.648320921, 0.677300991, 0.6859182840000001, 0.7887748040000001, 0.7988322409999999, 0.839235884, 0.802903527, 0.954234466, 0.919768299, 1.0184630190000001, 0.994330811, 0.9188114740000001, \"Cluster 2\"], [\"Oman\", 3.060043613, 2.984456681, 2.782569753, 3.0185177010000004, 2.8937463589999997, 2.51203413, 2.528963608, 2.654750721, 2.629465786, 2.437561733, 2.130347883, 1.8645977580000002, 1.968289323, 1.586300815, 2.3007373269999998, 2.269729033, 2.039566518, 2.079956768, 2.4085738130000003, 3.190228575, \"Cluster 2\"], [\"Saudi Arabia\", 1.5431946069999998, 1.617271884, 1.7527047119999999, 1.945860041, 2.8033962839999997, 3.051834468, 3.25646885, 3.090089872, 2.89642297, 2.561828615, 2.4783645, 2.641391252, 2.5073977469999997, 1.8894052119999998, 2.788237062, 2.2652001090000002, 2.495887158, 2.7522826960000004, 3.1003695560000004, 3.4907897410000004, \"Cluster 2\"], [\"Mauritius\", 1.9791546869999999, 1.904916232, 1.91146883, 1.954499964, 1.8827777280000002, 1.96954971, 2.004170598, 2.180551666, 2.1883490930000002, 2.349088838, 2.214836795, 2.047507497, 1.872909835, 1.782954216, 2.168691339, 2.5825881280000003, 2.46122411, 2.292702791, 2.3655561919999997, 2.364685746, \"Cluster 2\"], [\"Arab World\", 2.004867785, 2.0146024280000003, 2.071308732, 2.177711645, 2.331000345, 2.3335961, 2.58875078, 2.54023836, 2.450414915, 2.314914077, 2.134281009, 2.133037666, 2.16687238, 2.101232726, 2.830066845, 2.4896314569999998, 2.539570311, 2.7112619789999997, 2.895427378, 3.0731609939999998, \"Cluster 2\"], [\"Chad\", 2.011375251, 1.960913759, 1.963588748, 1.659397007, 1.9898415530000002, 2.66748418, 2.396482425, 2.691863992, 2.268320284, 2.299355155, 1.55797137, 1.128978799, 1.2502512209999999, 0.996604191, 1.231522791, 1.185137165, 1.534874565, 1.421939407, 1.774692315, 1.9789501619999998, \"Cluster 2\"], [\"Upper middle income\", 2.719154058, 2.6691794090000003, 2.8588169989999996, 2.755691745, 2.7583880960000005, 2.64226068, 2.6614438999999996, 2.653640275, 2.7072452680000003, 2.71322832, 2.754573558, 2.798324718, 2.916842398, 3.039129579, 3.401348935, 3.258324431, 3.26052306, 3.3247364010000005, 3.3759578180000003, 3.424686871, \"Cluster 2\"], [\"Albania\", 1.713004455, 1.7461975459999999, 2.024509405, 2.0951277569999998, 2.510171417, 2.2584179580000003, 2.2922240190000003, 2.256325893, 2.2521041509999997, 2.67940487, 2.7064554430000003, 2.5751360919999997, 2.6291710999999998, 2.69389845, 2.833575743, 2.47656803, 2.84917086, 2.7357041, 2.8359842360000003, 2.936373275, \"Cluster 2\"], [\"Angola\", 4.659118212, 1.7397817740000001, 2.0192194409999997, 1.414705389, 2.131797787, 1.677216464, 2.812403394, 1.685217542, 2.044369358, 2.407840515, 2.02464638, 3.022435345, 2.213764019, 2.716334452, 2.663917207, 2.0612546640000002, 2.155094274, 2.137316503, 3.080408392, 2.124912195, \"Cluster 2\"], [\"Armenia\", 1.996272562, 1.621148073, 1.407496163, 1.644913074, 1.612414885, 1.1375319990000001, 1.5914746219999998, 1.361332463, 1.516570269, 1.404450704, 1.905053401, 2.0528820530000003, 2.099284998, 1.764770313, 2.010005376, 1.9227140630000001, 1.938903536, 1.8756815409999998, 1.946690997, 1.925675667, \"Cluster 2\"], [\"Azerbaijan\", 1.3917525780000002, 1.485547019, 1.228625713, 0.903807033, 0.985430464, 0.866892751, 0.84650113, 0.791817883, 0.82967797, 1.0286700359999998, 0.880905375, 0.86418436, 0.980253879, 0.824675486, 1.33896972, 1.168020723, 1.080987674, 1.210596594, 1.150183905, 1.230967479, \"Cluster 2\"], [\"Bahamas, The\", 2.729658793, 2.773621504, 2.357290763, 2.539504821, 2.467818788, 2.502547587, 2.466895954, 2.5106654280000003, 2.647886116, 2.880435634, 2.642189647, 3.2726021, 3.18150171, 3.354877435, 3.5265241489999997, 3.4608155039999997, 3.575056242, 3.298249273, 3.07695572, 3.5506726960000004, \"Cluster 2\"], [\"Bahrain\", 2.818546496, 2.7515132039999997, 3.047721744, 2.881320773, 2.838727708, 2.36241776, 2.532878513, 2.5843232030000003, 2.501123649, 2.267809586, 2.156522233, 2.125250656, 2.184567246, 2.313058037, 2.748444379, 2.593379391, 2.383532755, 2.7626622419999998, 3.015994395, 3.150500297, \"Cluster 2\"], [\"Bangladesh\", 1.199805247, 1.0312841240000001, 0.968124768, 0.9353350979999999, 0.9351601490000001, 0.946712407, 1.024926461, 1.067809827, 0.975548071, 1.042067184, 0.9668001420000001, 1.038830186, 0.987683698, 0.9537524690000001, 0.991099631, 1.05017299, 1.041090103, 0.984483722, 0.810323956, 0.786532509, \"Cluster 2\"], [\"Belize\", 2.632365197, 2.048040973, 2.263610979, 2.155696602, 2.035489918, 2.091697325, 2.5894225509999997, 2.456541789, 2.589394307, 2.507171752, 2.647951095, 2.669250969, 3.022312925, 3.290674586, 3.862427163, 3.858381866, 3.725604295, 3.5777434360000004, 3.777130746, 3.879657845, \"Cluster 2\"], [\"Benin\", 2.111729724, 2.0315509240000003, 1.814422789, 1.939795897, 2.109912315, 1.917526784, 2.308263635, 1.888670405, 2.2112665259999997, 2.175232784, 2.3524798909999998, 2.385750932, 2.307085606, 2.137696725, 2.328624079, 2.688570362, 2.9290097580000003, 2.15409384, 2.215456479, 2.251196286, \"Cluster 2\"], [\"Brunei Darussalam\", 2.294038745, 3.0164979919999997, 3.01723691, 3.7179108860000003, 3.1839404819999997, 2.59858883, 2.576781266, 2.5673854080000003, 2.593538693, 2.522266585, 2.2158971480000003, 1.929077942, 2.03867096, 2.015774515, 2.591951691, 2.520024437, 2.066757971, 2.112532457, 2.407480899, 2.485567877, \"Cluster 2\"], [\"Burkina Faso\", 1.8658619580000002, 1.933787219, 2.0678869680000003, 2.061326682, 2.191443603, 2.016915355, 1.832448876, 2.256686535, 2.6042529930000002, 3.464384444, 4.091775992, 3.741064955, 3.995721739, 3.996973964, 3.6583793260000004, 3.9711797669999997, 2.95514785, 2.98036859, 3.48939536, 2.593973739, \"Cluster 2\"], [\"Burundi\", 1.34643228, 1.4941034169999998, 1.130843622, 1.2478422040000001, 1.238485735, 1.4043644640000001, 1.6344859109999998, 1.55512254, 1.345188237, 2.544952098, 2.937796431, 3.5288293360000003, 3.7804362, 3.355311709, 3.093040181, 5.499656744, 5.401877297, 4.930865336, 4.3966530530000005, 3.9737275569999997, \"Cluster 2\"], [\"Cambodia\", 1.1239033040000002, 2.642772374, 2.0557185319999998, 1.356775567, 1.184934454, 1.3401496179999999, 1.30376831, 1.520439279, 2.416164271, 2.3923241180000003, 1.618218744, 1.2352885740000001, 1.321770862, 1.1113312290000001, 1.312468532, 1.440774999, 1.33985553, 1.5033406980000001, 1.397584709, 1.251042011, \"Cluster 2\"], [\"Cameroon\", 0.9002687140000001, 0.893368284, 0.978965995, 0.7846296140000001, 0.8337348240000001, 0.9326291859999999, 1.1291992770000001, 1.290383204, 1.3317280120000001, 1.129638122, 1.120079177, 1.076092314, 1.065776207, 1.049287334, 1.28313286, 1.5076022759999999, 1.331447157, 1.066747097, 1.012469674, 0.9386336909999999, \"Cluster 2\"], [\"Sub-Saharan Africa (IDA & IBRD countries)\", 2.449863298, 2.516644595, 2.494454088, 2.437191306, 2.374140004, 2.271764359, 2.36589666, 2.179881571, 2.392890886, 2.48694164, 2.485235818, 2.510834419, 2.4624205690000003, 2.5124766309999997, 2.71107721, 2.48903738, 2.624569905, 2.543530054, 2.4598089, 2.314823041, \"Cluster 2\"], [\"Sub-Saharan Africa (excluding high income)\", 2.447084114, 2.513732415, 2.490668403, 2.433949374, 2.370627245, 2.2691877519999997, 2.363319605, 2.177062415, 2.3902048280000003, 2.484998793, 2.4836869530000003, 2.509609703, 2.4617436809999997, 2.512576224, 2.71133, 2.4885153559999997, 2.6241637030000002, 2.5426359130000002, 2.459070655, 2.3141783609999997, \"Cluster 2\"], [\"Sub-Saharan Africa\", 2.449863298, 2.516644595, 2.494454088, 2.437191306, 2.374140004, 2.271764359, 2.36589666, 2.179881571, 2.392890886, 2.48694164, 2.485235818, 2.510834419, 2.4624205690000003, 2.5124766309999997, 2.71107721, 2.48903738, 2.624569905, 2.543530054, 2.4598089, 2.314823041, \"Cluster 2\"], [\"South Asia (IDA & IBRD)\", 1.03503164, 0.99799026, 1.0374988109999999, 1.070832413, 1.081228019, 1.0670523109999999, 1.042238308, 1.032538376, 0.9733766779999999, 1.018914387, 1.103442311, 1.103521575, 1.09051214, 1.151605829, 1.205501388, 1.181098088, 1.181152879, 1.19027209, 1.28224814, 1.3678991719999998, \"Cluster 2\"], [\"Caribbean small states\", 2.8015183710000002, 2.856683624, 2.9971566689999998, 2.9894512000000004, 2.7678577189999998, 2.826752141, 2.6799687530000003, 2.888692649, 2.740592575, 2.845970706, 2.629579982, 2.650899715, 2.79066499, 2.8229131219999997, 3.408651206, 3.264063783, 3.08765286, 3.3143030839999996, 3.318431579, 3.2600123180000002, \"Cluster 2\"], [\"Early-demographic dividend\", 2.203164007, 2.156631825, 2.227311469, 2.364099533, 2.454393636, 2.450554821, 2.52708105, 2.347701787, 2.36326343, 2.346823705, 2.337346649, 2.369883662, 2.385250838, 2.405125681, 2.701259981, 2.5071308709999998, 2.495490968, 2.497340218, 2.586701422, 2.665602603, \"Cluster 2\"], [\"East Asia & Pacific (excluding high income)\", 1.615852443, 1.640251145, 1.6783221080000001, 1.764602604, 1.75401335, 1.689184662, 1.626887281, 1.736855763, 1.8086373709999999, 1.815666676, 1.79631989, 1.8752670930000002, 2.076666145, 2.256213902, 2.5749937469999997, 2.53842979, 2.669787471, 2.8114897130000003, 2.881804892, 2.975050955, \"Cluster 2\"], [\"East Asia & Pacific (IDA & IBRD countries)\", 1.615852443, 1.640251145, 1.6783221080000001, 1.764602604, 1.75401335, 1.689184662, 1.626887281, 1.736855763, 1.8086373709999999, 1.815666676, 1.79631989, 1.8752670930000002, 2.076666145, 2.256213902, 2.5749937469999997, 2.53842979, 2.669787471, 2.8114897130000003, 2.881804892, 2.975050955, \"Cluster 2\"], [\"Heavily indebted poor countries (HIPC)\", 1.630562619, 1.7167492340000001, 1.65244635, 1.7718702569999998, 1.834357688, 1.79637023, 2.015090682, 2.068192564, 2.1669018159999998, 2.216858939, 2.345166979, 2.4488834919999998, 2.3024619090000003, 2.429057526, 2.539924114, 2.712862763, 2.661827679, 2.58866833, 2.580611781, 2.532968767, \"Cluster 2\"], [\"Late-demographic dividend\", 2.749846218, 2.750524463, 2.94232719, 2.7954760419999998, 2.721888766, 2.5495596369999998, 2.589519016, 2.719474646, 2.735925695, 2.744432242, 2.775096107, 2.818204592, 2.932192624, 3.090526918, 3.408418886, 3.27272891, 3.265710729, 3.349820181, 3.376662873, 3.4269252519999998, \"Cluster 2\"], [\"Least developed countries: UN classification\", 1.52548196, 1.4297370919999999, 1.430388652, 1.471607242, 1.522391719, 1.465800489, 1.689041896, 1.690471391, 1.800899345, 1.880999571, 1.898899247, 2.157903627, 1.9138546930000002, 2.140700178, 2.172629716, 2.198171697, 2.177006608, 1.96354228, 2.031209935, 1.919877296, \"Cluster 2\"], [\"Central African Republic\", 1.363974592, 2.023371914, 1.216183896, 1.4170993580000002, 1.871718297, 2.1021468359999997, 1.863889207, 2.062251945, 2.0768119130000002, 1.845115241, 2.1146899390000002, 1.923990235, 2.036722449, 2.290508965, 1.497162132, 1.9771464330000001, 1.840226144, 1.7680298669999999, 1.913359234, 2.0569429830000003, \"Cluster 2\"], [\"Low & middle income\", 2.401016022, 2.351839879, 2.507134082, 2.4654399419999997, 2.427530862, 2.34705236, 2.376884847, 2.345132586, 2.384587803, 2.4076141769999997, 2.458114132, 2.506991643, 2.6052197390000003, 2.734475624, 3.005713015, 2.869481703, 2.894131937, 2.9566967039999996, 3.0130862210000005, 3.0383182860000004, \"Cluster 2\"], [\"Lower middle income\", 1.3821720169999998, 1.344572554, 1.355006184, 1.4310212219999998, 1.3888542769999999, 1.384144461, 1.4288831530000001, 1.380571025, 1.3841809880000002, 1.400072101, 1.4280820419999998, 1.478788431, 1.521790939, 1.559230946, 1.5884407409999999, 1.5131299669999998, 1.519120119, 1.5812649540000001, 1.639779694, 1.6358329619999998, \"Cluster 2\"], [\"Middle East & North Africa\", 2.423456889, 2.430438328, 2.520586788, 2.585412087, 2.614487018, 2.609441929, 2.869833259, 2.818405786, 2.735597223, 2.5723098419999997, 2.411219853, 2.45275055, 2.439045576, 2.352177305, 3.016616398, 2.714642506, 2.711284804, 2.895571978, 3.06782614, 3.224936356, \"Cluster 2\"], [\"Middle East & North Africa (excluding high income)\", 1.986615421, 2.000319073, 2.116533205, 2.180356186, 2.073848436, 2.15353996, 2.4061859269999997, 2.452578692, 2.404325255, 2.413375024, 2.277110381, 2.33316934, 2.38604766, 2.4840236190000002, 2.883655535, 2.674039179, 2.6663160009999998, 2.946036225, 3.1133615810000004, 3.195117055, \"Cluster 2\"], [\"Middle East & North Africa (IDA & IBRD countries)\", 1.986615421, 2.000319073, 2.116533205, 2.180356186, 2.073848436, 2.15353996, 2.4061859269999997, 2.452578692, 2.404325255, 2.413375024, 2.277110381, 2.33316934, 2.38604766, 2.4840236190000002, 2.883655535, 2.674039179, 2.6663160009999998, 2.946036225, 3.1133615810000004, 3.195117055, \"Cluster 2\"], [\"Middle income\", 2.412678871, 2.36362262, 2.5202424480000003, 2.477042313, 2.43762049, 2.356948176, 2.382038559, 2.349752613, 2.387242359, 2.4088153219999997, 2.458108718, 2.504454687, 2.60902103, 2.73939142, 3.0142344189999997, 2.872383447, 2.896995845, 2.962450623, 3.0212647560000003, 3.0467369210000004, \"Cluster 2\"], [\"Pre-demographic dividend\", 1.410676744, 1.300913774, 1.3471565680000002, 1.43327288, 1.489741772, 1.4058226130000002, 1.6053387190000001, 1.4385881090000001, 1.6097842219999998, 2.055879709, 1.894072295, 1.9102146830000002, 1.9152088569999999, 2.147427747, 2.25671329, 1.826936093, 1.921276365, 2.018579254, 2.092089478, 1.933374353, \"Cluster 2\"], [\"South Asia\", 1.03503164, 0.99799026, 1.0374988109999999, 1.070832413, 1.081228019, 1.0670523109999999, 1.042238308, 1.032538376, 0.9733766779999999, 1.018914387, 1.103442311, 1.103521575, 1.09051214, 1.151605829, 1.205501388, 1.181098088, 1.181152879, 1.19027209, 1.28224814, 1.3678991719999998, \"Cluster 2\"], [\"Low income\", 1.5301250290000001, 1.483895647, 1.5211285190000001, 1.657153759, 1.738222289, 1.7597896480000002, 2.034208573, 2.063321574, 2.217968593, 2.32876762, 2.458480802, 2.691171989, 2.317963439, 2.365497375, 2.4214922619999997, 2.642192573, 2.6593637230000002, 2.511732098, 2.394346629, 2.43910583, \"Cluster 2\"], [\"Mauritania\", 2.230334388, 1.3288083929999999, 1.49219146, 2.084762022, 2.901813013, 2.770993523, 1.879560462, 2.862060366, 2.179218351, 2.464112525, 2.033356056, 1.4476164319999998, 1.6517913519999998, 1.3545647330000001, 1.79980274, 1.52105378, 1.279141378, 1.370247011, 1.726038803, 1.871016263, \"Cluster 2\"], [\"Zambia\", 2.152488857, 2.484677806, 2.585239318, 3.1339650839999997, 3.403697035, 3.7198999230000003, 3.5265592110000004, 4.018109627, 4.18766916, 3.65708439, 3.9569790069999997, 2.75584562, 1.885822023, 2.18994158, 2.261667785, 2.27995642, 2.148931957, 2.536370459, 2.7654047189999997, 2.760094545, \"Cluster 2\"], [\"Comoros\", 2.8797862060000003, 2.7139497039999996, 2.584925576, 2.185036147, 1.964426649, 1.5227230969999999, 1.0946753390000001, 1.6697581019999999, 1.815474839, 2.010438445, 2.274051852, 2.5071515140000002, 2.80299141, 3.094532063, 1.72121212, 1.454408898, 1.656759335, 2.646604021, 2.003193245, 2.2173203519999998, \"Cluster 2\"], [\"Yemen, Rep.\", 1.358739823, 1.644500639, 1.898410163, 2.324037809, 2.127391156, 2.2352856269999997, 2.294180651, 2.142648503, 2.1817307269999997, 1.85433054, 1.5511169759999999, 1.5216019440000002, 1.462789576, 1.5650183009999998, 1.3366978040000002, 1.299130895, 1.3504469030000001, 1.5716278190000001, 1.410009971, 1.271870986, \"Cluster 2\"], [\"India\", 1.051510963, 1.006714181, 1.072536175, 1.104334395, 1.130458988, 1.1124430090000001, 1.0779961820000001, 1.025761987, 0.984930506, 1.022681766, 1.1342577, 1.110610623, 1.099600724, 1.162740942, 1.2209710809999998, 1.161015809, 1.175376637, 1.183872748, 1.2868865840000001, 1.4072376180000001, \"Cluster 2\"], [\"Indonesia\", 0.708979047, 0.726782129, 0.676852206, 0.7080650270000001, 0.772645557, 0.72468259, 0.963565797, 0.884272738, 1.015301176, 0.9348711359999999, 0.803211001, 0.912583094, 1.126425894, 1.005797618, 1.019549421, 1.03300414, 1.028914047, 1.147736521, 1.153628987, 1.0755363009999999, \"Cluster 2\"], [\"Iran, Islamic Rep.\", 1.6760716930000001, 1.725678443, 1.942216566, 2.137651028, 1.86003165, 1.8631224999999998, 2.194736416, 2.189274716, 2.348239338, 2.23931692, 2.333458198, 2.568090196, 2.4239648469999997, 2.437820381, 2.879141091, 2.684682081, 2.4790332630000003, 2.687600161, 2.7340401539999997, 2.840802145, \"Cluster 2\"], [\"Jamaica\", 2.224280687, 2.859074529, 3.354873879, 3.383751914, 2.711113592, 3.220452714, 2.449632293, 2.787349228, 2.304267888, 2.723855098, 1.9858449269999998, 2.3102109090000003, 2.5349200819999997, 2.893671205, 2.8937382119999997, 2.99010608, 2.7952228110000004, 3.273760445, 3.380134876, 2.8085780330000003, \"Cluster 2\"], [\"Kazakhstan\", 2.953489978, 2.759064102, 3.0026158069999997, 3.092985258, 2.296107627, 2.1193106530000003, 1.965795165, 1.933120902, 2.014321414, 2.294666524, 2.521541794, 2.3057194, 1.784132566, 2.262578318, 2.651119229, 2.527218011, 2.271552738, 2.40821469, 2.18920504, 2.3679030869999997, \"Cluster 2\"], [\"Kenya\", 1.969355371, 1.662980154, 1.599507906, 1.994903268, 1.67225462, 2.166725101, 2.067304171, 1.9431644419999998, 1.9281390840000001, 1.7957208980000001, 1.845407496, 1.624314663, 1.596858528, 1.40330995, 1.641624369, 1.418735549, 2.623533409, 3.3229374480000002, 3.3464041819999997, 3.5038660580000003, \"Cluster 2\"], [\"Korea, Rep.\", 1.37837002, 1.567106233, 1.661384573, 1.896960077, 2.0360782019999997, 2.069427846, 2.6287877219999998, 2.496197951, 2.567924451, 2.604738563, 2.8184627260000004, 3.145604415, 3.279317912, 3.364369569, 3.756141758, 3.855133327, 3.8213452130000003, 3.851691628, 3.909878493, 3.985248041, \"Cluster 2\"], [\"Kuwait\", 3.0793817160000003, 2.75312334, 2.9512544810000003, 3.5051093939999998, 2.9118429619999997, 1.9074589430000002, 2.938514016, 2.8451164789999996, 2.591638049, 2.197676413, 1.8984359730000002, 1.826202921, 1.678892606, 1.511862693, 3.3709338939999998, 2.334489191, 2.255683318, 2.187222399, 2.1656254280000002, 2.614422533, \"Cluster 2\"], [\"Kyrgyz Republic\", 3.0586966139999996, 2.518306598, 2.561680082, 2.5370569880000002, 2.251547927, 2.0709018009999998, 1.96892384, 2.149216502, 2.056844, 2.275178259, 2.38059842, 3.276997235, 3.530000425, 3.1283246069999997, 3.785352567, 3.71014072, 3.701089568, 4.197243855, 3.8799367869999997, 3.639437553, \"Cluster 2\"], [\"Lao PDR\", 2.179347721, 1.827522348, 2.07175976, 1.8517304780000001, 1.111702922, 1.13056391, 1.177790717, 1.0828706259999998, 1.2709968, 0.801898709, 0.7346070859999999, 1.1470211890000002, 1.029730057, 1.001469523, 1.8583031069999998, 1.278180688, 0.835809612, 0.79224628, 0.964872836, 0.942733752, \"Cluster 2\"], [\"Libya\", 1.5145279969999998, 1.662741707, 1.7901981919999999, 1.884513389, 1.6503777830000002, 1.6598308590000002, 2.210293692, 3.056726273, 2.692002637, 2.276618671, 1.7491174269999998, 1.640166807, 1.748097339, 1.382407555, 2.178180015, 2.136789648, 3.019999999, 3.019999999, 3.019999999, 3.6540791589999997, \"Cluster 2\"], [\"Madagascar\", 1.4415262030000002, 1.9149721119999998, 2.14802212, 1.96133518, 2.0399136369999997, 2.573304228, 2.808515662, 2.7432138360000002, 2.260174188, 2.43699522, 2.621449986, 2.817711615, 2.7398218389999998, 2.41891842, 2.408212919, 2.606558609, 2.4358722790000003, 1.8161052969999998, 2.560444941, 1.473414605, \"Cluster 2\"], [\"Malaysia\", 1.673580101, 1.693100127, 1.503468834, 1.6234893730000002, 1.682393231, 1.6935325469999998, 1.990382325, 1.95887394, 2.362041422, 2.118040539, 1.69082761, 2.011816692, 1.961867672, 1.936706363, 2.336639744, 2.2862965859999997, 2.135913733, 2.21523329, 2.2031471540000003, 2.300290016, \"Cluster 2\"], [\"Mali\", 2.627422294, 2.9937876169999997, 2.478276148, 2.136752933, 1.819396693, 2.069921322, 2.872448632, 2.538877445, 2.757198984, 3.091886553, 3.0385294910000002, 3.164633564, 3.3665769610000003, 3.1356973139999997, 3.148995784, 2.807459661, 3.0152463110000003, 2.250262582, 1.134273081, 1.568172106, \"Cluster 2\"], [\"China\", 1.780381954, 1.763716129, 1.7806565580000002, 1.8120753459999999, 1.8349422359999998, 1.7598434680000001, 1.621284224, 1.7146722380000001, 1.746529994, 1.793429835, 1.805920306, 1.83853832, 2.026592106, 2.292123452, 2.664482629, 2.653820098, 2.8106526560000002, 2.945813766, 3.005601408, 3.095174286, \"Cluster 2\"], [\"Guinea-Bissau\", 1.59182256, 2.107388011, 2.249324138, 2.207081665, 1.458689029, 0.5159652370000001, 0.483604876, 1.29016916, 1.2961535690000001, 0.8552961729999999, 1.083538194, 1.068546513, 1.363201444, 1.1577875359999998, 1.916627082, 1.849453411, 1.0469749320000001, 1.591370587, 1.6250123669999998, 1.145122307, \"Cluster 2\"], [\"Haiti\", 2.700778316, 2.4568022959999998, 2.444218128, 2.031842786, 1.696652901, 1.679556587, 1.472578763, 1.411106475, 1.585349102, 2.029269522, 0.938494956, 1.355593535, 1.326609423, 1.355999841, 1.3726482, 1.410583252, 1.80632117, 0.980271294, 1.724541255, 1.559516418, \"Cluster 2\"], [\"Guatemala\", 1.568251834, 1.4740888109999999, 1.652352634, 1.687897756, 1.8225683169999998, 1.906287984, 2.1653825419999997, 2.126950411, 2.250780088, 2.18862221, 2.151933847, 2.389327876, 2.26818626, 2.319787972, 2.516993404, 2.375496937, 2.15314798, 2.14774653, 2.321889304, 2.334729015, \"Cluster 2\"], [\"Congo, Dem. Rep.\", 0.151469658, 0.113020059, 0.20486781199999998, 0.178185156, 0.24769671199999999, 0.044703612000000004, 0.14417975, 0.160080405, 0.700026844, 0.71835464, 0.752462162, 0.938991328, 1.209434345, 2.099872761, 2.362979061, 1.062595613, 1.255268552, 1.687173628, 1.3234417509999998, 1.59835647, \"Cluster 2\"], [\"Congo, Rep.\", 1.875942346, 1.7216115490000001, 1.9118363180000002, 2.218401855, 1.752764882, 1.222592062, 1.334532489, 1.287959153, 1.300179166, 1.369675105, 1.434608509, 1.494032765, 1.545764133, 1.238592875, 1.14114182, 1.386578972, 1.977375259, 3.149421373, 4.05731117, 4.2119208519999995, \"Cluster 2\"], [\"Cote d'Ivoire\", 1.645869281, 1.8541070080000002, 2.003289854, 1.8888131119999998, 1.799667406, 1.7880357040000001, 1.290257864, 1.40860098, 1.338333609, 1.4716744259999999, 1.269719496, 1.358403825, 1.4282131319999998, 1.528626424, 1.6968101519999998, 1.6761721680000001, 1.635696974, 1.885045493, 1.7965878830000002, 1.6785384909999999, \"Cluster 2\"], [\"Cyprus\", 1.697054395, 1.774813392, 1.948338097, 2.338116275, 2.388126932, 2.402830234, 2.449259438, 2.7545184480000002, 3.082626861, 2.813460787, 2.662677211, 2.663821238, 2.5780400130000003, 2.8508256060000003, 3.3114723930000003, 3.425307365, 3.5076350819999997, 3.4116037089999995, 3.4707913969999997, 3.332019222, \"Cluster 2\"], [\"Dominican Republic\", 1.155220766, 1.2382753, 1.48835433, 1.7989108280000001, 2.00188919, 2.192495065, 1.925895905, 2.008738541, 1.8208773669999998, 1.3886192519999998, 1.4859490469999999, 1.781605827, 1.9925087609999999, 2.051277828, 2.245560221, 2.263964847, 2.604386077, 2.7018122589999995, 2.623467358, 2.927375648, \"Cluster 2\"], [\"Ecuador\", 1.8815244230000001, 2.204202458, 1.9874813930000002, 1.400740525, 1.3751416319999998, 0.8960031829999999, 1.228463152, 1.428875973, 1.425714581, 1.4293144180000001, 1.309875442, 1.423655771, 1.5062408999999999, 1.630354665, 2.186591275, 2.4594076240000002, 2.597380991, 2.957292999, 3.858385301, 4.508156573, \"Cluster 2\"], [\"Egypt, Arab Rep.\", 1.6460250419999998, 1.620664666, 1.785539455, 1.969811265, 2.1234134, 2.246958395, 2.327558282, 2.403817061, 2.068547965, 1.985911495, 1.9850409880000002, 2.287519277, 2.0466957359999998, 2.0297271969999997, 2.058126846, 1.872592845, 1.990804136, 1.9092313269999999, 2.057468101, 2.155384501, \"Cluster 2\"], [\"Equatorial Guinea\", 3.883858135, 2.7329980910000002, 2.251245641, 3.055954265, 1.922256608, 2.166271678, 1.335525197, 1.111721515, 1.52759716, 1.3524546240000002, 0.9139821140000001, 1.4674520659999999, 1.640828358, 1.795079572, 4.461108402, 3.057171112, 2.596654331, 3.325881938, 2.961789903, 2.932710442, \"Cluster 2\"], [\"Eritrea\", 2.171974402, 1.321100351, 1.770926971, 1.85142628, 1.996568895, 1.588511165, 1.386781377, 1.6404693430000001, 1.291688995, 1.236014558, 1.095939139, 1.4704505280000002, 1.490338129, 1.9314296069999999, 1.397960224, 1.424863559, 1.40782257, 1.383976464, 1.37826626, 1.527464004, \"Cluster 2\"], [\"Ethiopia\", 1.201089905, 1.113331724, 1.308283107, 1.634136008, 1.842742815, 2.382655413, 2.230818205, 2.550281355, 2.556368908, 2.37364068, 2.580334349, 2.529405628, 2.571477099, 2.221322189, 2.421519695, 3.716736035, 3.735155728, 3.3105951260000004, 2.953637718, 2.86756675, \"Cluster 2\"], [\"Fiji\", 2.463687222, 2.643610757, 2.8924071430000002, 2.6044336130000003, 2.50533762, 3.2355711560000002, 2.628178355, 2.8544881930000003, 2.7002647580000003, 2.88766334, 2.936055816, 3.012361986, 2.7919826010000004, 2.780329042, 2.953906158, 2.9652059360000003, 2.677144195, 2.762148643, 2.902243871, 2.95320811, \"Cluster 2\"], [\"Gabon\", 1.257445299, 1.28647559, 1.192176302, 1.731343904, 1.213987698, 1.154856156, 1.285837405, 1.207290008, 1.467581307, 1.36059829, 1.114980978, 1.235086135, 1.2669780659999998, 1.076241407, 1.5480996480000002, 2.44092455, 2.103287948, 2.210201203, 2.931829623, 2.350580925, \"Cluster 2\"], [\"Gambia, The\", 1.041104569, 0.8962045120000001, 0.921290897, 1.194823096, 1.25261532, 1.234866709, 1.55374665, 1.4073568930000002, 2.1239748780000003, 2.5148502390000003, 2.8975990080000003, 3.244630936, 3.40312534, 3.527012899, 3.482328264, 3.4330868760000004, 3.735121027, 3.672212762, 4.181628453, 5.045612515, \"Cluster 2\"], [\"Georgia\", 0.267281215, 0.8742158040000001, 1.491279099, 1.195657068, 1.140527412, 1.180608888, 1.388194366, 1.400350039, 1.25729464, 1.307242467, 1.648504578, 1.7716621019999998, 1.449623425, 1.7799744119999998, 2.270258573, 2.2899291330000002, 1.7006243840000002, 1.210348913, 1.276120238, 1.552730538, \"Cluster 2\"], [\"Ghana\", 1.6228713819999998, 2.0189271019999997, 1.4356055330000002, 1.7727537830000002, 1.5933775380000001, 1.4980943409999998, 2.045003688, 1.508850229, 1.580562376, 2.399043819, 2.923944957, 3.0442281560000004, 3.729887891, 3.223054494, 3.6749633619999997, 3.829376748, 3.5755204860000003, 3.140675827, 3.242160133, 2.128885085, \"Cluster 2\"], [\"Guinea\", 1.24440635, 0.7692242340000001, 0.753971712, 0.9485828709999999, 1.0340789959999999, 1.095939452, 1.27041596, 1.313300227, 1.313311747, 0.879682253, 0.554865842, 0.66542757, 0.418226466, 0.7846244029999999, 1.346498634, 2.011768888, 1.977158975, 2.0989461769999997, 2.378242841, 2.7362447810000003, \"Cluster 2\"]], \"hovertemplate\": \"Cluster=%{customdata[21]}<br>Country Name=%{customdata[0]}<br>1995=%{customdata[1]}<br>1996=%{customdata[2]}<br>1997=%{customdata[3]}<br>1998=%{customdata[4]}<br>1999=%{customdata[5]}<br>2000=%{customdata[6]}<br>2001=%{customdata[7]}<br>2002=%{customdata[8]}<br>2003=%{customdata[9]}<br>2004=%{customdata[10]}<br>2005=%{customdata[11]}<br>2006=%{customdata[12]}<br>2007=%{customdata[13]}<br>2008=%{customdata[14]}<br>2009=%{customdata[15]}<br>2010=%{customdata[16]}<br>2011=%{customdata[17]}<br>2012=%{customdata[18]}<br>2013=%{customdata[19]}<br>2014=%{customdata[20]}<extra></extra>\", \"legendgroup\": \"Cluster 2\", \"marker\": {\"color\": \"#00cc96\"}, \"name\": \"Cluster 2\", \"notched\": true, \"offsetgroup\": \"Cluster 2\", \"showlegend\": false, \"type\": \"box\", \"x\": [\"Cluster 2\", \"Cluster 2\", \"Cluster 2\", \"Cluster 2\", \"Cluster 2\", \"Cluster 2\", \"Cluster 2\", \"Cluster 2\", \"Cluster 2\", \"Cluster 2\", \"Cluster 2\", \"Cluster 2\", \"Cluster 2\", \"Cluster 2\", \"Cluster 2\", \"Cluster 2\", \"Cluster 2\", \"Cluster 2\", \"Cluster 2\", \"Cluster 2\", \"Cluster 2\", \"Cluster 2\", \"Cluster 2\", \"Cluster 2\", \"Cluster 2\", \"Cluster 2\", \"Cluster 2\", \"Cluster 2\", \"Cluster 2\", \"Cluster 2\", \"Cluster 2\", \"Cluster 2\", \"Cluster 2\", \"Cluster 2\", \"Cluster 2\", \"Cluster 2\", \"Cluster 2\", \"Cluster 2\", \"Cluster 2\", \"Cluster 2\", \"Cluster 2\", \"Cluster 2\", \"Cluster 2\", \"Cluster 2\", \"Cluster 2\", \"Cluster 2\", \"Cluster 2\", \"Cluster 2\", \"Cluster 2\", \"Cluster 2\", \"Cluster 2\", \"Cluster 2\", \"Cluster 2\", \"Cluster 2\", \"Cluster 2\", \"Cluster 2\", \"Cluster 2\", \"Cluster 2\", \"Cluster 2\", \"Cluster 2\", \"Cluster 2\", \"Cluster 2\", \"Cluster 2\", \"Cluster 2\", \"Cluster 2\", \"Cluster 2\", \"Cluster 2\", \"Cluster 2\", \"Cluster 2\", \"Cluster 2\", \"Cluster 2\", \"Cluster 2\", \"Cluster 2\", \"Cluster 2\", \"Cluster 2\", \"Cluster 2\", \"Cluster 2\", \"Cluster 2\", \"Cluster 2\", \"Cluster 2\", \"Cluster 2\", \"Cluster 2\", \"Cluster 2\", \"Cluster 2\", \"Cluster 2\", \"Cluster 2\", \"Cluster 2\", \"Cluster 2\", \"Cluster 2\", \"Cluster 2\", \"Cluster 2\", \"Cluster 2\", \"Cluster 2\", \"Cluster 2\", \"Cluster 2\", \"Cluster 2\", \"Cluster 2\", \"Cluster 2\", \"Cluster 2\", \"Cluster 2\", \"Cluster 2\", \"Cluster 2\", \"Cluster 2\", \"Cluster 2\", \"Cluster 2\", \"Cluster 2\", \"Cluster 2\", \"Cluster 2\", \"Cluster 2\"], \"xaxis\": \"x2\", \"yaxis\": \"y2\"}, {\"alignmentgroup\": \"True\", \"bingroup\": \"x\", \"hovertemplate\": \"Cluster=%{x}<br>count=%{y}<extra></extra>\", \"legendgroup\": \"Cluster 3\", \"marker\": {\"color\": \"#ab63fa\", \"opacity\": 0.7}, \"name\": \"Cluster 3\", \"offsetgroup\": \"Cluster 3\", \"orientation\": \"v\", \"showlegend\": true, \"type\": \"histogram\", \"x\": [\"Cluster 3\", \"Cluster 3\", \"Cluster 3\"], \"xaxis\": \"x\", \"yaxis\": \"y\"}, {\"alignmentgroup\": \"True\", \"customdata\": [[\"Nauru\", 12.33493098, 11.59428355, 11.82601857, 12.56498453, 12.337983900000001, 12.54768588, 13.31280697, 14.53541812, 13.45467078, 10.64962726, 11.61777519, 12.57633671, 18.10282404, 15.60670301, 8.727534152, 8.454551816, 7.110556956, 6.523965614, 4.192163552, 2.8676663239999995, \"Cluster 3\"], [\"Tuvalu\", 7.960185727000001, 11.27466332, 8.08774651, 8.614014716, 9.221982956, 15.66666666, 17.26923077, 14.386206900000001, 21.65409429, 16.74897207, 18.23437732, 19.25675216, 16.85609763, 13.26834375, 12.69334417, 16.62857143, 16.84210527, 13.64102565, 16.475, 16.40476191, \"Cluster 3\"], [\"Marshall Islands\", 28.04978525, 16.67889286, 17.16813342, 15.64522955, 15.42742281, 19.24043333, 16.07197043, 14.8351456, 14.21128802, 15.09092986, 14.67971014, 17.05555555, 17.592, 16.48169934, 16.02894737, 14.39817073, 14.271676300000001, 13.90652174, 14.551897899999998, 14.44916839, \"Cluster 3\"]], \"hovertemplate\": \"Cluster=%{customdata[21]}<br>Country Name=%{customdata[0]}<br>1995=%{customdata[1]}<br>1996=%{customdata[2]}<br>1997=%{customdata[3]}<br>1998=%{customdata[4]}<br>1999=%{customdata[5]}<br>2000=%{customdata[6]}<br>2001=%{customdata[7]}<br>2002=%{customdata[8]}<br>2003=%{customdata[9]}<br>2004=%{customdata[10]}<br>2005=%{customdata[11]}<br>2006=%{customdata[12]}<br>2007=%{customdata[13]}<br>2008=%{customdata[14]}<br>2009=%{customdata[15]}<br>2010=%{customdata[16]}<br>2011=%{customdata[17]}<br>2012=%{customdata[18]}<br>2013=%{customdata[19]}<br>2014=%{customdata[20]}<extra></extra>\", \"legendgroup\": \"Cluster 3\", \"marker\": {\"color\": \"#ab63fa\"}, \"name\": \"Cluster 3\", \"notched\": true, \"offsetgroup\": \"Cluster 3\", \"showlegend\": false, \"type\": \"box\", \"x\": [\"Cluster 3\", \"Cluster 3\", \"Cluster 3\"], \"xaxis\": \"x2\", \"yaxis\": \"y2\"}],\n",
       "                        {\"barmode\": \"relative\", \"legend\": {\"title\": {\"text\": \"Cluster\"}, \"tracegroupgap\": 0}, \"margin\": {\"t\": 60}, \"template\": {\"data\": {\"bar\": [{\"error_x\": {\"color\": \"#2a3f5f\"}, \"error_y\": {\"color\": \"#2a3f5f\"}, \"marker\": {\"line\": {\"color\": \"#E5ECF6\", \"width\": 0.5}}, \"type\": \"bar\"}], \"barpolar\": [{\"marker\": {\"line\": {\"color\": \"#E5ECF6\", \"width\": 0.5}}, \"type\": \"barpolar\"}], \"carpet\": [{\"aaxis\": {\"endlinecolor\": \"#2a3f5f\", \"gridcolor\": \"white\", \"linecolor\": \"white\", \"minorgridcolor\": \"white\", \"startlinecolor\": \"#2a3f5f\"}, \"baxis\": {\"endlinecolor\": \"#2a3f5f\", \"gridcolor\": \"white\", \"linecolor\": \"white\", \"minorgridcolor\": \"white\", \"startlinecolor\": \"#2a3f5f\"}, \"type\": \"carpet\"}], \"choropleth\": [{\"colorbar\": {\"outlinewidth\": 0, \"ticks\": \"\"}, \"type\": \"choropleth\"}], \"contour\": [{\"colorbar\": {\"outlinewidth\": 0, \"ticks\": \"\"}, \"colorscale\": [[0.0, \"#0d0887\"], [0.1111111111111111, \"#46039f\"], [0.2222222222222222, \"#7201a8\"], [0.3333333333333333, \"#9c179e\"], [0.4444444444444444, \"#bd3786\"], [0.5555555555555556, \"#d8576b\"], [0.6666666666666666, \"#ed7953\"], [0.7777777777777778, \"#fb9f3a\"], [0.8888888888888888, \"#fdca26\"], [1.0, \"#f0f921\"]], \"type\": \"contour\"}], \"contourcarpet\": [{\"colorbar\": {\"outlinewidth\": 0, \"ticks\": \"\"}, \"type\": \"contourcarpet\"}], \"heatmap\": [{\"colorbar\": {\"outlinewidth\": 0, \"ticks\": \"\"}, \"colorscale\": [[0.0, \"#0d0887\"], [0.1111111111111111, \"#46039f\"], [0.2222222222222222, \"#7201a8\"], [0.3333333333333333, \"#9c179e\"], [0.4444444444444444, \"#bd3786\"], [0.5555555555555556, \"#d8576b\"], [0.6666666666666666, \"#ed7953\"], [0.7777777777777778, \"#fb9f3a\"], [0.8888888888888888, \"#fdca26\"], [1.0, \"#f0f921\"]], \"type\": \"heatmap\"}], \"heatmapgl\": [{\"colorbar\": {\"outlinewidth\": 0, \"ticks\": \"\"}, \"colorscale\": [[0.0, \"#0d0887\"], [0.1111111111111111, \"#46039f\"], [0.2222222222222222, \"#7201a8\"], [0.3333333333333333, \"#9c179e\"], [0.4444444444444444, \"#bd3786\"], [0.5555555555555556, \"#d8576b\"], [0.6666666666666666, \"#ed7953\"], [0.7777777777777778, \"#fb9f3a\"], [0.8888888888888888, \"#fdca26\"], [1.0, \"#f0f921\"]], \"type\": \"heatmapgl\"}], \"histogram\": [{\"marker\": {\"colorbar\": {\"outlinewidth\": 0, \"ticks\": \"\"}}, \"type\": \"histogram\"}], \"histogram2d\": [{\"colorbar\": {\"outlinewidth\": 0, \"ticks\": \"\"}, \"colorscale\": [[0.0, \"#0d0887\"], [0.1111111111111111, \"#46039f\"], [0.2222222222222222, \"#7201a8\"], [0.3333333333333333, \"#9c179e\"], [0.4444444444444444, \"#bd3786\"], [0.5555555555555556, \"#d8576b\"], [0.6666666666666666, \"#ed7953\"], [0.7777777777777778, \"#fb9f3a\"], [0.8888888888888888, \"#fdca26\"], [1.0, \"#f0f921\"]], \"type\": \"histogram2d\"}], \"histogram2dcontour\": [{\"colorbar\": {\"outlinewidth\": 0, \"ticks\": \"\"}, \"colorscale\": [[0.0, \"#0d0887\"], [0.1111111111111111, \"#46039f\"], [0.2222222222222222, \"#7201a8\"], [0.3333333333333333, \"#9c179e\"], [0.4444444444444444, \"#bd3786\"], [0.5555555555555556, \"#d8576b\"], [0.6666666666666666, \"#ed7953\"], [0.7777777777777778, \"#fb9f3a\"], [0.8888888888888888, \"#fdca26\"], [1.0, \"#f0f921\"]], \"type\": \"histogram2dcontour\"}], \"mesh3d\": [{\"colorbar\": {\"outlinewidth\": 0, \"ticks\": \"\"}, \"type\": \"mesh3d\"}], \"parcoords\": [{\"line\": {\"colorbar\": {\"outlinewidth\": 0, \"ticks\": \"\"}}, \"type\": \"parcoords\"}], \"pie\": [{\"automargin\": true, \"type\": \"pie\"}], \"scatter\": [{\"marker\": {\"colorbar\": {\"outlinewidth\": 0, \"ticks\": \"\"}}, \"type\": \"scatter\"}], \"scatter3d\": [{\"line\": {\"colorbar\": {\"outlinewidth\": 0, \"ticks\": \"\"}}, \"marker\": {\"colorbar\": {\"outlinewidth\": 0, \"ticks\": \"\"}}, \"type\": \"scatter3d\"}], \"scattercarpet\": [{\"marker\": {\"colorbar\": {\"outlinewidth\": 0, \"ticks\": \"\"}}, \"type\": \"scattercarpet\"}], \"scattergeo\": [{\"marker\": {\"colorbar\": {\"outlinewidth\": 0, \"ticks\": \"\"}}, \"type\": \"scattergeo\"}], \"scattergl\": [{\"marker\": {\"colorbar\": {\"outlinewidth\": 0, \"ticks\": \"\"}}, \"type\": \"scattergl\"}], \"scattermapbox\": [{\"marker\": {\"colorbar\": {\"outlinewidth\": 0, \"ticks\": \"\"}}, \"type\": \"scattermapbox\"}], \"scatterpolar\": [{\"marker\": {\"colorbar\": {\"outlinewidth\": 0, \"ticks\": \"\"}}, \"type\": \"scatterpolar\"}], \"scatterpolargl\": [{\"marker\": {\"colorbar\": {\"outlinewidth\": 0, \"ticks\": \"\"}}, \"type\": \"scatterpolargl\"}], \"scatterternary\": [{\"marker\": {\"colorbar\": {\"outlinewidth\": 0, \"ticks\": \"\"}}, \"type\": \"scatterternary\"}], \"surface\": [{\"colorbar\": {\"outlinewidth\": 0, \"ticks\": \"\"}, \"colorscale\": [[0.0, \"#0d0887\"], [0.1111111111111111, \"#46039f\"], [0.2222222222222222, \"#7201a8\"], [0.3333333333333333, \"#9c179e\"], [0.4444444444444444, \"#bd3786\"], [0.5555555555555556, \"#d8576b\"], [0.6666666666666666, \"#ed7953\"], [0.7777777777777778, \"#fb9f3a\"], [0.8888888888888888, \"#fdca26\"], [1.0, \"#f0f921\"]], \"type\": \"surface\"}], \"table\": [{\"cells\": {\"fill\": {\"color\": \"#EBF0F8\"}, \"line\": {\"color\": \"white\"}}, \"header\": {\"fill\": {\"color\": \"#C8D4E3\"}, \"line\": {\"color\": \"white\"}}, \"type\": \"table\"}]}, \"layout\": {\"annotationdefaults\": {\"arrowcolor\": \"#2a3f5f\", \"arrowhead\": 0, \"arrowwidth\": 1}, \"coloraxis\": {\"colorbar\": {\"outlinewidth\": 0, \"ticks\": \"\"}}, \"colorscale\": {\"diverging\": [[0, \"#8e0152\"], [0.1, \"#c51b7d\"], [0.2, \"#de77ae\"], [0.3, \"#f1b6da\"], [0.4, \"#fde0ef\"], [0.5, \"#f7f7f7\"], [0.6, \"#e6f5d0\"], [0.7, \"#b8e186\"], [0.8, \"#7fbc41\"], [0.9, \"#4d9221\"], [1, \"#276419\"]], \"sequential\": [[0.0, \"#0d0887\"], [0.1111111111111111, \"#46039f\"], [0.2222222222222222, \"#7201a8\"], [0.3333333333333333, \"#9c179e\"], [0.4444444444444444, \"#bd3786\"], [0.5555555555555556, \"#d8576b\"], [0.6666666666666666, \"#ed7953\"], [0.7777777777777778, \"#fb9f3a\"], [0.8888888888888888, \"#fdca26\"], [1.0, \"#f0f921\"]], \"sequentialminus\": [[0.0, \"#0d0887\"], [0.1111111111111111, \"#46039f\"], [0.2222222222222222, \"#7201a8\"], [0.3333333333333333, \"#9c179e\"], [0.4444444444444444, \"#bd3786\"], [0.5555555555555556, \"#d8576b\"], [0.6666666666666666, \"#ed7953\"], [0.7777777777777778, \"#fb9f3a\"], [0.8888888888888888, \"#fdca26\"], [1.0, \"#f0f921\"]]}, \"colorway\": [\"#636efa\", \"#EF553B\", \"#00cc96\", \"#ab63fa\", \"#FFA15A\", \"#19d3f3\", \"#FF6692\", \"#B6E880\", \"#FF97FF\", \"#FECB52\"], \"font\": {\"color\": \"#2a3f5f\"}, \"geo\": {\"bgcolor\": \"white\", \"lakecolor\": \"white\", \"landcolor\": \"#E5ECF6\", \"showlakes\": true, \"showland\": true, \"subunitcolor\": \"white\"}, \"hoverlabel\": {\"align\": \"left\"}, \"hovermode\": \"closest\", \"mapbox\": {\"style\": \"light\"}, \"paper_bgcolor\": \"white\", \"plot_bgcolor\": \"#E5ECF6\", \"polar\": {\"angularaxis\": {\"gridcolor\": \"white\", \"linecolor\": \"white\", \"ticks\": \"\"}, \"bgcolor\": \"#E5ECF6\", \"radialaxis\": {\"gridcolor\": \"white\", \"linecolor\": \"white\", \"ticks\": \"\"}}, \"scene\": {\"xaxis\": {\"backgroundcolor\": \"#E5ECF6\", \"gridcolor\": \"white\", \"gridwidth\": 2, \"linecolor\": \"white\", \"showbackground\": true, \"ticks\": \"\", \"zerolinecolor\": \"white\"}, \"yaxis\": {\"backgroundcolor\": \"#E5ECF6\", \"gridcolor\": \"white\", \"gridwidth\": 2, \"linecolor\": \"white\", \"showbackground\": true, \"ticks\": \"\", \"zerolinecolor\": \"white\"}, \"zaxis\": {\"backgroundcolor\": \"#E5ECF6\", \"gridcolor\": \"white\", \"gridwidth\": 2, \"linecolor\": \"white\", \"showbackground\": true, \"ticks\": \"\", \"zerolinecolor\": \"white\"}}, \"shapedefaults\": {\"line\": {\"color\": \"#2a3f5f\"}}, \"ternary\": {\"aaxis\": {\"gridcolor\": \"white\", \"linecolor\": \"white\", \"ticks\": \"\"}, \"baxis\": {\"gridcolor\": \"white\", \"linecolor\": \"white\", \"ticks\": \"\"}, \"bgcolor\": \"#E5ECF6\", \"caxis\": {\"gridcolor\": \"white\", \"linecolor\": \"white\", \"ticks\": \"\"}}, \"title\": {\"x\": 0.05}, \"xaxis\": {\"automargin\": true, \"gridcolor\": \"white\", \"linecolor\": \"white\", \"ticks\": \"\", \"title\": {\"standoff\": 15}, \"zerolinecolor\": \"white\", \"zerolinewidth\": 2}, \"yaxis\": {\"automargin\": true, \"gridcolor\": \"white\", \"linecolor\": \"white\", \"ticks\": \"\", \"title\": {\"standoff\": 15}, \"zerolinecolor\": \"white\", \"zerolinewidth\": 2}}}, \"xaxis\": {\"anchor\": \"y\", \"categoryarray\": [\"Cluster 0\", \"Cluster 1\", \"Cluster 2\", \"Cluster 3\"], \"categoryorder\": \"array\", \"domain\": [0.0, 1.0], \"title\": {\"text\": \"Cluster\"}}, \"xaxis2\": {\"anchor\": \"y2\", \"domain\": [0.0, 1.0], \"matches\": \"x\", \"showgrid\": true, \"showticklabels\": false}, \"yaxis\": {\"anchor\": \"x\", \"domain\": [0.0, 0.7326], \"title\": {\"text\": \"count\"}}, \"yaxis2\": {\"anchor\": \"x2\", \"domain\": [0.7426, 1.0], \"matches\": \"y2\", \"showgrid\": false, \"showline\": false, \"showticklabels\": false, \"ticks\": \"\"}},\n",
       "                        {\"responsive\": true}\n",
       "                    ).then(function(){\n",
       "                            \n",
       "var gd = document.getElementById('6eeb4f89-bea3-4973-90cf-c60af802440b');\n",
       "var x = new MutationObserver(function (mutations, observer) {{\n",
       "        var display = window.getComputedStyle(gd).display;\n",
       "        if (!display || display === 'none') {{\n",
       "            console.log([gd, 'removed!']);\n",
       "            Plotly.purge(gd);\n",
       "            observer.disconnect();\n",
       "        }}\n",
       "}});\n",
       "\n",
       "// Listen for the removal of the full notebook cells\n",
       "var notebookContainer = gd.closest('#notebook-container');\n",
       "if (notebookContainer) {{\n",
       "    x.observe(notebookContainer, {childList: true});\n",
       "}}\n",
       "\n",
       "// Listen for the clearing of the current output cell\n",
       "var outputEl = gd.closest('.output');\n",
       "if (outputEl) {{\n",
       "    x.observe(outputEl, {childList: true});\n",
       "}}\n",
       "\n",
       "                        })\n",
       "                };\n",
       "                });\n",
       "            </script>\n",
       "        </div>"
      ]
     },
     "metadata": {},
     "output_type": "display_data"
    }
   ],
   "source": [
    "plot_model(kmeans, plot = 'distribution')"
   ]
  },
  {
   "cell_type": "markdown",
   "metadata": {},
   "source": [
    "# 6. Predict Model"
   ]
  },
  {
   "cell_type": "code",
   "execution_count": 16,
   "metadata": {},
   "outputs": [
    {
     "data": {
      "text/html": [
       "<div>\n",
       "<style scoped>\n",
       "    .dataframe tbody tr th:only-of-type {\n",
       "        vertical-align: middle;\n",
       "    }\n",
       "\n",
       "    .dataframe tbody tr th {\n",
       "        vertical-align: top;\n",
       "    }\n",
       "\n",
       "    .dataframe thead th {\n",
       "        text-align: right;\n",
       "    }\n",
       "</style>\n",
       "<table border=\"1\" class=\"dataframe\">\n",
       "  <thead>\n",
       "    <tr style=\"text-align: right;\">\n",
       "      <th></th>\n",
       "      <th>Country Name</th>\n",
       "      <th>1995</th>\n",
       "      <th>1996</th>\n",
       "      <th>1997</th>\n",
       "      <th>1998</th>\n",
       "      <th>1999</th>\n",
       "      <th>2000</th>\n",
       "      <th>2001</th>\n",
       "      <th>2002</th>\n",
       "      <th>2003</th>\n",
       "      <th>...</th>\n",
       "      <th>2006</th>\n",
       "      <th>2007</th>\n",
       "      <th>2008</th>\n",
       "      <th>2009</th>\n",
       "      <th>2010</th>\n",
       "      <th>2011</th>\n",
       "      <th>2012</th>\n",
       "      <th>2013</th>\n",
       "      <th>2014</th>\n",
       "      <th>Cluster</th>\n",
       "    </tr>\n",
       "  </thead>\n",
       "  <tbody>\n",
       "    <tr>\n",
       "      <th>0</th>\n",
       "      <td>Arab World</td>\n",
       "      <td>2.004868</td>\n",
       "      <td>2.014602</td>\n",
       "      <td>2.071309</td>\n",
       "      <td>2.177712</td>\n",
       "      <td>2.331000</td>\n",
       "      <td>2.333596</td>\n",
       "      <td>2.588751</td>\n",
       "      <td>2.540238</td>\n",
       "      <td>2.450415</td>\n",
       "      <td>...</td>\n",
       "      <td>2.133038</td>\n",
       "      <td>2.166872</td>\n",
       "      <td>2.101233</td>\n",
       "      <td>2.830067</td>\n",
       "      <td>2.489631</td>\n",
       "      <td>2.539570</td>\n",
       "      <td>2.711262</td>\n",
       "      <td>2.895427</td>\n",
       "      <td>3.073161</td>\n",
       "      <td>Cluster 2</td>\n",
       "    </tr>\n",
       "    <tr>\n",
       "      <th>1</th>\n",
       "      <td>Caribbean small states</td>\n",
       "      <td>2.801518</td>\n",
       "      <td>2.856684</td>\n",
       "      <td>2.997157</td>\n",
       "      <td>2.989451</td>\n",
       "      <td>2.767858</td>\n",
       "      <td>2.826752</td>\n",
       "      <td>2.679969</td>\n",
       "      <td>2.888693</td>\n",
       "      <td>2.740593</td>\n",
       "      <td>...</td>\n",
       "      <td>2.650900</td>\n",
       "      <td>2.790665</td>\n",
       "      <td>2.822913</td>\n",
       "      <td>3.408651</td>\n",
       "      <td>3.264064</td>\n",
       "      <td>3.087653</td>\n",
       "      <td>3.314303</td>\n",
       "      <td>3.318432</td>\n",
       "      <td>3.260012</td>\n",
       "      <td>Cluster 2</td>\n",
       "    </tr>\n",
       "    <tr>\n",
       "      <th>2</th>\n",
       "      <td>Central Europe and the Baltics</td>\n",
       "      <td>4.678528</td>\n",
       "      <td>4.753209</td>\n",
       "      <td>4.604574</td>\n",
       "      <td>4.499988</td>\n",
       "      <td>4.679082</td>\n",
       "      <td>4.539711</td>\n",
       "      <td>4.666272</td>\n",
       "      <td>4.900196</td>\n",
       "      <td>5.100249</td>\n",
       "      <td>...</td>\n",
       "      <td>4.841450</td>\n",
       "      <td>4.809057</td>\n",
       "      <td>5.054785</td>\n",
       "      <td>5.394921</td>\n",
       "      <td>5.284380</td>\n",
       "      <td>5.096212</td>\n",
       "      <td>5.041317</td>\n",
       "      <td>5.029266</td>\n",
       "      <td>5.017717</td>\n",
       "      <td>Cluster 0</td>\n",
       "    </tr>\n",
       "    <tr>\n",
       "      <th>3</th>\n",
       "      <td>Early-demographic dividend</td>\n",
       "      <td>2.203164</td>\n",
       "      <td>2.156632</td>\n",
       "      <td>2.227311</td>\n",
       "      <td>2.364100</td>\n",
       "      <td>2.454394</td>\n",
       "      <td>2.450555</td>\n",
       "      <td>2.527081</td>\n",
       "      <td>2.347702</td>\n",
       "      <td>2.363263</td>\n",
       "      <td>...</td>\n",
       "      <td>2.369884</td>\n",
       "      <td>2.385251</td>\n",
       "      <td>2.405126</td>\n",
       "      <td>2.701260</td>\n",
       "      <td>2.507131</td>\n",
       "      <td>2.495491</td>\n",
       "      <td>2.497340</td>\n",
       "      <td>2.586701</td>\n",
       "      <td>2.665603</td>\n",
       "      <td>Cluster 2</td>\n",
       "    </tr>\n",
       "    <tr>\n",
       "      <th>4</th>\n",
       "      <td>East Asia &amp; Pacific</td>\n",
       "      <td>4.429090</td>\n",
       "      <td>4.203152</td>\n",
       "      <td>4.244351</td>\n",
       "      <td>4.453984</td>\n",
       "      <td>4.626920</td>\n",
       "      <td>4.688849</td>\n",
       "      <td>4.684790</td>\n",
       "      <td>4.613537</td>\n",
       "      <td>4.635098</td>\n",
       "      <td>...</td>\n",
       "      <td>4.367146</td>\n",
       "      <td>4.297394</td>\n",
       "      <td>4.434848</td>\n",
       "      <td>4.865241</td>\n",
       "      <td>4.775817</td>\n",
       "      <td>4.871727</td>\n",
       "      <td>4.866869</td>\n",
       "      <td>4.643221</td>\n",
       "      <td>4.571448</td>\n",
       "      <td>Cluster 0</td>\n",
       "    </tr>\n",
       "  </tbody>\n",
       "</table>\n",
       "<p>5 rows × 22 columns</p>\n",
       "</div>"
      ],
      "text/plain": [
       "                     Country Name      1995      1996      1997      1998  \\\n",
       "0                      Arab World  2.004868  2.014602  2.071309  2.177712   \n",
       "1          Caribbean small states  2.801518  2.856684  2.997157  2.989451   \n",
       "2  Central Europe and the Baltics  4.678528  4.753209  4.604574  4.499988   \n",
       "3      Early-demographic dividend  2.203164  2.156632  2.227311  2.364100   \n",
       "4             East Asia & Pacific  4.429090  4.203152  4.244351  4.453984   \n",
       "\n",
       "       1999      2000      2001      2002      2003  ...      2006      2007  \\\n",
       "0  2.331000  2.333596  2.588751  2.540238  2.450415  ...  2.133038  2.166872   \n",
       "1  2.767858  2.826752  2.679969  2.888693  2.740593  ...  2.650900  2.790665   \n",
       "2  4.679082  4.539711  4.666272  4.900196  5.100249  ...  4.841450  4.809057   \n",
       "3  2.454394  2.450555  2.527081  2.347702  2.363263  ...  2.369884  2.385251   \n",
       "4  4.626920  4.688849  4.684790  4.613537  4.635098  ...  4.367146  4.297394   \n",
       "\n",
       "       2008      2009      2010      2011      2012      2013      2014  \\\n",
       "0  2.101233  2.830067  2.489631  2.539570  2.711262  2.895427  3.073161   \n",
       "1  2.822913  3.408651  3.264064  3.087653  3.314303  3.318432  3.260012   \n",
       "2  5.054785  5.394921  5.284380  5.096212  5.041317  5.029266  5.017717   \n",
       "3  2.405126  2.701260  2.507131  2.495491  2.497340  2.586701  2.665603   \n",
       "4  4.434848  4.865241  4.775817  4.871727  4.866869  4.643221  4.571448   \n",
       "\n",
       "     Cluster  \n",
       "0  Cluster 2  \n",
       "1  Cluster 2  \n",
       "2  Cluster 0  \n",
       "3  Cluster 2  \n",
       "4  Cluster 0  \n",
       "\n",
       "[5 rows x 22 columns]"
      ]
     },
     "execution_count": 16,
     "metadata": {},
     "output_type": "execute_result"
    }
   ],
   "source": [
    "pred_new = predict_model(kmeans, data=data)\n",
    "pred_new.head()"
   ]
  },
  {
   "cell_type": "markdown",
   "metadata": {},
   "source": [
    "# 7. Save / Load Model"
   ]
  },
  {
   "cell_type": "code",
   "execution_count": 17,
   "metadata": {},
   "outputs": [
    {
     "name": "stdout",
     "output_type": "stream",
     "text": [
      "Transformation Pipeline and Model Succesfully Saved\n"
     ]
    }
   ],
   "source": [
    "save_model(kmeans, model_name='kmeans')"
   ]
  },
  {
   "cell_type": "code",
   "execution_count": 18,
   "metadata": {},
   "outputs": [
    {
     "name": "stdout",
     "output_type": "stream",
     "text": [
      "Transformation Pipeline and Model Sucessfully Loaded\n",
      "[Pipeline(memory=None,\n",
      "         steps=[('dtypes',\n",
      "                 DataTypes_Auto_infer(categorical_features=[],\n",
      "                                      display_types=True,\n",
      "                                      features_todrop=['Country Name'],\n",
      "                                      ml_usecase='regression',\n",
      "                                      numerical_features=[],\n",
      "                                      target='dummy_target',\n",
      "                                      time_features=[])),\n",
      "                ('imputer',\n",
      "                 Simple_Imputer(categorical_strategy='not_available',\n",
      "                                numeric_strategy='mean',\n",
      "                                target_variable=None)),\n",
      "                ('new_levels1',\n",
      "                 New_...\n",
      "                                                    target='dummy_target')),\n",
      "                ('feature_time',\n",
      "                 Make_Time_Features(list_of_features=None, time_feature=[])),\n",
      "                ('group', Empty()), ('scaling', Empty()),\n",
      "                ('P_transform', Empty()), ('binn', Empty()),\n",
      "                ('fix_perfect', Empty()), ('rem_outliers', Empty()),\n",
      "                ('dummy', Dummify(target='dummy_target')),\n",
      "                ('clean_names', Clean_Colum_Names()), ('fix_multi', Empty()),\n",
      "                ('pca', Empty())],\n",
      "         verbose=False), KMeans(algorithm='auto', copy_x=True, init='k-means++', max_iter=300,\n",
      "       n_clusters=4, n_init=10, n_jobs=-1, precompute_distances='deprecated',\n",
      "       random_state=123, tol=0.0001, verbose=0)]\n"
     ]
    }
   ],
   "source": [
    "loaded_kmeans = load_model('kmeans')\n",
    "print(loaded_kmeans)"
   ]
  },
  {
   "cell_type": "code",
   "execution_count": 19,
   "metadata": {},
   "outputs": [
    {
     "data": {
      "text/html": [
       "<style>div.sk-top-container {color: black;background-color: white;}div.sk-toggleable {background-color: white;}label.sk-toggleable__label {cursor: pointer;display: block;width: 100%;margin-bottom: 0;padding: 0.2em 0.3em;box-sizing: border-box;text-align: center;}div.sk-toggleable__content {max-height: 0;max-width: 0;overflow: hidden;text-align: left;background-color: #f0f8ff;}div.sk-toggleable__content pre {margin: 0.2em;color: black;border-radius: 0.25em;background-color: #f0f8ff;}input.sk-toggleable__control:checked~div.sk-toggleable__content {max-height: 200px;max-width: 100%;overflow: auto;}div.sk-estimator input.sk-toggleable__control:checked~label.sk-toggleable__label {background-color: #d4ebff;}div.sk-label input.sk-toggleable__control:checked~label.sk-toggleable__label {background-color: #d4ebff;}input.sk-hidden--visually {border: 0;clip: rect(1px 1px 1px 1px);clip: rect(1px, 1px, 1px, 1px);height: 1px;margin: -1px;overflow: hidden;padding: 0;position: absolute;width: 1px;}div.sk-estimator {font-family: monospace;background-color: #f0f8ff;margin: 0.25em 0.25em;border: 1px dotted black;border-radius: 0.25em;box-sizing: border-box;}div.sk-estimator:hover {background-color: #d4ebff;}div.sk-parallel-item::after {content: \"\";width: 100%;border-bottom: 1px solid gray;flex-grow: 1;}div.sk-label:hover label.sk-toggleable__label {background-color: #d4ebff;}div.sk-serial::before {content: \"\";position: absolute;border-left: 1px solid gray;box-sizing: border-box;top: 2em;bottom: 0;left: 50%;}div.sk-serial {display: flex;flex-direction: column;align-items: center;background-color: white;}div.sk-item {z-index: 1;}div.sk-parallel {display: flex;align-items: stretch;justify-content: center;background-color: white;}div.sk-parallel-item {display: flex;flex-direction: column;position: relative;background-color: white;}div.sk-parallel-item:first-child::after {align-self: flex-end;width: 50%;}div.sk-parallel-item:last-child::after {align-self: flex-start;width: 50%;}div.sk-parallel-item:only-child::after {width: 0;}div.sk-dashed-wrapped {border: 1px dashed gray;margin: 0.2em;box-sizing: border-box;padding-bottom: 0.1em;background-color: white;position: relative;}div.sk-label label {font-family: monospace;font-weight: bold;background-color: white;display: inline-block;line-height: 1.2em;}div.sk-label-container {position: relative;z-index: 2;text-align: center;}div.sk-container {display: inline-block;position: relative;}</style><div class=\"sk-top-container\"><div class=\"sk-container\"><div class=\"sk-item sk-dashed-wrapped\"><div class=\"sk-label-container\"><div class=\"sk-label sk-toggleable\"><input class=\"sk-toggleable__control sk-hidden--visually\" id=\"8c096cec-5ff0-4cca-80b5-2cdc21337915\" type=\"checkbox\" ><label class=\"sk-toggleable__label\" for=\"8c096cec-5ff0-4cca-80b5-2cdc21337915\">Pipeline</label><div class=\"sk-toggleable__content\"><pre>Pipeline(memory=None,\n",
       "         steps=[('dtypes',\n",
       "                 DataTypes_Auto_infer(categorical_features=[],\n",
       "                                      display_types=True,\n",
       "                                      features_todrop=['Country Name'],\n",
       "                                      ml_usecase='regression',\n",
       "                                      numerical_features=[],\n",
       "                                      target='dummy_target',\n",
       "                                      time_features=[])),\n",
       "                ('imputer',\n",
       "                 Simple_Imputer(categorical_strategy='not_available',\n",
       "                                numeric_strategy='mean',\n",
       "                                target_variable=None)),\n",
       "                ('new_levels1',\n",
       "                 New_...\n",
       "                                                    target='dummy_target')),\n",
       "                ('feature_time',\n",
       "                 Make_Time_Features(list_of_features=None, time_feature=[])),\n",
       "                ('group', Empty()), ('scaling', Empty()),\n",
       "                ('P_transform', Empty()), ('binn', Empty()),\n",
       "                ('fix_perfect', Empty()), ('rem_outliers', Empty()),\n",
       "                ('dummy', Dummify(target='dummy_target')),\n",
       "                ('clean_names', Clean_Colum_Names()), ('fix_multi', Empty()),\n",
       "                ('pca', Empty())],\n",
       "         verbose=False)</pre></div></div></div><div class=\"sk-serial\"><div class=\"sk-item\"><div class=\"sk-estimator sk-toggleable\"><input class=\"sk-toggleable__control sk-hidden--visually\" id=\"06469674-1895-4be5-92ef-26ebd55e89bb\" type=\"checkbox\" ><label class=\"sk-toggleable__label\" for=\"06469674-1895-4be5-92ef-26ebd55e89bb\">DataTypes_Auto_infer</label><div class=\"sk-toggleable__content\"><pre>DataTypes_Auto_infer(features_todrop=['Country Name'], ml_usecase='regression',\n",
       "                     target='dummy_target')</pre></div></div></div><div class=\"sk-item\"><div class=\"sk-estimator sk-toggleable\"><input class=\"sk-toggleable__control sk-hidden--visually\" id=\"3eebc149-d863-42c6-ae86-525d1fe0dfe4\" type=\"checkbox\" ><label class=\"sk-toggleable__label\" for=\"3eebc149-d863-42c6-ae86-525d1fe0dfe4\">Simple_Imputer</label><div class=\"sk-toggleable__content\"><pre>Simple_Imputer(categorical_strategy='not_available', numeric_strategy='mean',\n",
       "               target_variable=None)</pre></div></div></div><div class=\"sk-item\"><div class=\"sk-estimator sk-toggleable\"><input class=\"sk-toggleable__control sk-hidden--visually\" id=\"23fc7f12-592c-4ffd-9340-8d33954acaa5\" type=\"checkbox\" ><label class=\"sk-toggleable__label\" for=\"23fc7f12-592c-4ffd-9340-8d33954acaa5\">New_Catagorical_Levels_in_TestData</label><div class=\"sk-toggleable__content\"><pre>New_Catagorical_Levels_in_TestData(replacement_strategy='least frequent',\n",
       "                                   target='dummy_target')</pre></div></div></div><div class=\"sk-item\"><div class=\"sk-estimator sk-toggleable\"><input class=\"sk-toggleable__control sk-hidden--visually\" id=\"0e938a8b-a3cd-49e3-ab65-bdb35369a156\" type=\"checkbox\" ><label class=\"sk-toggleable__label\" for=\"0e938a8b-a3cd-49e3-ab65-bdb35369a156\">Empty</label><div class=\"sk-toggleable__content\"><pre>Empty()</pre></div></div></div><div class=\"sk-item\"><div class=\"sk-estimator sk-toggleable\"><input class=\"sk-toggleable__control sk-hidden--visually\" id=\"a6180e3b-fe79-4ab3-a596-1f5a88c40b16\" type=\"checkbox\" ><label class=\"sk-toggleable__label\" for=\"a6180e3b-fe79-4ab3-a596-1f5a88c40b16\">Empty</label><div class=\"sk-toggleable__content\"><pre>Empty()</pre></div></div></div><div class=\"sk-item\"><div class=\"sk-estimator sk-toggleable\"><input class=\"sk-toggleable__control sk-hidden--visually\" id=\"8b423a33-e769-424f-83c7-db0aa07392c1\" type=\"checkbox\" ><label class=\"sk-toggleable__label\" for=\"8b423a33-e769-424f-83c7-db0aa07392c1\">Empty</label><div class=\"sk-toggleable__content\"><pre>Empty()</pre></div></div></div><div class=\"sk-item\"><div class=\"sk-estimator sk-toggleable\"><input class=\"sk-toggleable__control sk-hidden--visually\" id=\"c61b9247-113c-4ad1-bb62-5f9c1a8dfaf2\" type=\"checkbox\" ><label class=\"sk-toggleable__label\" for=\"c61b9247-113c-4ad1-bb62-5f9c1a8dfaf2\">Empty</label><div class=\"sk-toggleable__content\"><pre>Empty()</pre></div></div></div><div class=\"sk-item\"><div class=\"sk-estimator sk-toggleable\"><input class=\"sk-toggleable__control sk-hidden--visually\" id=\"09b4b708-ed44-4cfc-89f3-8811228ee34c\" type=\"checkbox\" ><label class=\"sk-toggleable__label\" for=\"09b4b708-ed44-4cfc-89f3-8811228ee34c\">New_Catagorical_Levels_in_TestData</label><div class=\"sk-toggleable__content\"><pre>New_Catagorical_Levels_in_TestData(replacement_strategy='least frequent',\n",
       "                                   target='dummy_target')</pre></div></div></div><div class=\"sk-item\"><div class=\"sk-estimator sk-toggleable\"><input class=\"sk-toggleable__control sk-hidden--visually\" id=\"e8d19b33-990f-4b37-ab5a-1af17a02fa6e\" type=\"checkbox\" ><label class=\"sk-toggleable__label\" for=\"e8d19b33-990f-4b37-ab5a-1af17a02fa6e\">Make_Time_Features</label><div class=\"sk-toggleable__content\"><pre>Make_Time_Features(list_of_features=None)</pre></div></div></div><div class=\"sk-item\"><div class=\"sk-estimator sk-toggleable\"><input class=\"sk-toggleable__control sk-hidden--visually\" id=\"fec8db93-02d9-4392-b084-6028ef76b333\" type=\"checkbox\" ><label class=\"sk-toggleable__label\" for=\"fec8db93-02d9-4392-b084-6028ef76b333\">Empty</label><div class=\"sk-toggleable__content\"><pre>Empty()</pre></div></div></div><div class=\"sk-item\"><div class=\"sk-estimator sk-toggleable\"><input class=\"sk-toggleable__control sk-hidden--visually\" id=\"1985ac69-6df5-4265-8f2f-074c026de5cf\" type=\"checkbox\" ><label class=\"sk-toggleable__label\" for=\"1985ac69-6df5-4265-8f2f-074c026de5cf\">Empty</label><div class=\"sk-toggleable__content\"><pre>Empty()</pre></div></div></div><div class=\"sk-item\"><div class=\"sk-estimator sk-toggleable\"><input class=\"sk-toggleable__control sk-hidden--visually\" id=\"1c8f2f8d-36ee-4844-bdf7-61fb52803f73\" type=\"checkbox\" ><label class=\"sk-toggleable__label\" for=\"1c8f2f8d-36ee-4844-bdf7-61fb52803f73\">Empty</label><div class=\"sk-toggleable__content\"><pre>Empty()</pre></div></div></div><div class=\"sk-item\"><div class=\"sk-estimator sk-toggleable\"><input class=\"sk-toggleable__control sk-hidden--visually\" id=\"138c3267-1dbe-4944-9f57-a7c145e5b6e6\" type=\"checkbox\" ><label class=\"sk-toggleable__label\" for=\"138c3267-1dbe-4944-9f57-a7c145e5b6e6\">Empty</label><div class=\"sk-toggleable__content\"><pre>Empty()</pre></div></div></div><div class=\"sk-item\"><div class=\"sk-estimator sk-toggleable\"><input class=\"sk-toggleable__control sk-hidden--visually\" id=\"f1080fbc-8fa1-4a7d-bf10-ef534f76733f\" type=\"checkbox\" ><label class=\"sk-toggleable__label\" for=\"f1080fbc-8fa1-4a7d-bf10-ef534f76733f\">Empty</label><div class=\"sk-toggleable__content\"><pre>Empty()</pre></div></div></div><div class=\"sk-item\"><div class=\"sk-estimator sk-toggleable\"><input class=\"sk-toggleable__control sk-hidden--visually\" id=\"4b533e17-4401-40ba-8556-1f73c96a8a4f\" type=\"checkbox\" ><label class=\"sk-toggleable__label\" for=\"4b533e17-4401-40ba-8556-1f73c96a8a4f\">Empty</label><div class=\"sk-toggleable__content\"><pre>Empty()</pre></div></div></div><div class=\"sk-item\"><div class=\"sk-estimator sk-toggleable\"><input class=\"sk-toggleable__control sk-hidden--visually\" id=\"38f0b03b-25da-47c6-a110-8c210af405ee\" type=\"checkbox\" ><label class=\"sk-toggleable__label\" for=\"38f0b03b-25da-47c6-a110-8c210af405ee\">Dummify</label><div class=\"sk-toggleable__content\"><pre>Dummify(target='dummy_target')</pre></div></div></div><div class=\"sk-item\"><div class=\"sk-estimator sk-toggleable\"><input class=\"sk-toggleable__control sk-hidden--visually\" id=\"3a27d5a5-1304-490f-9456-7d59305f90a8\" type=\"checkbox\" ><label class=\"sk-toggleable__label\" for=\"3a27d5a5-1304-490f-9456-7d59305f90a8\">Clean_Colum_Names</label><div class=\"sk-toggleable__content\"><pre>Clean_Colum_Names()</pre></div></div></div><div class=\"sk-item\"><div class=\"sk-estimator sk-toggleable\"><input class=\"sk-toggleable__control sk-hidden--visually\" id=\"edbd0720-479e-425d-865c-4acd7232a271\" type=\"checkbox\" ><label class=\"sk-toggleable__label\" for=\"edbd0720-479e-425d-865c-4acd7232a271\">Empty</label><div class=\"sk-toggleable__content\"><pre>Empty()</pre></div></div></div><div class=\"sk-item\"><div class=\"sk-estimator sk-toggleable\"><input class=\"sk-toggleable__control sk-hidden--visually\" id=\"07535f8b-25f5-41b2-92e2-f8065c4bf432\" type=\"checkbox\" ><label class=\"sk-toggleable__label\" for=\"07535f8b-25f5-41b2-92e2-f8065c4bf432\">Empty</label><div class=\"sk-toggleable__content\"><pre>Empty()</pre></div></div></div></div></div></div></div>"
      ],
      "text/plain": [
       "Pipeline(memory=None,\n",
       "         steps=[('dtypes',\n",
       "                 DataTypes_Auto_infer(categorical_features=[],\n",
       "                                      display_types=True,\n",
       "                                      features_todrop=['Country Name'],\n",
       "                                      ml_usecase='regression',\n",
       "                                      numerical_features=[],\n",
       "                                      target='dummy_target',\n",
       "                                      time_features=[])),\n",
       "                ('imputer',\n",
       "                 Simple_Imputer(categorical_strategy='not_available',\n",
       "                                numeric_strategy='mean',\n",
       "                                target_variable=None)),\n",
       "                ('new_levels1',\n",
       "                 New_...\n",
       "                                                    target='dummy_target')),\n",
       "                ('feature_time',\n",
       "                 Make_Time_Features(list_of_features=None, time_feature=[])),\n",
       "                ('group', Empty()), ('scaling', Empty()),\n",
       "                ('P_transform', Empty()), ('binn', Empty()),\n",
       "                ('fix_perfect', Empty()), ('rem_outliers', Empty()),\n",
       "                ('dummy', Dummify(target='dummy_target')),\n",
       "                ('clean_names', Clean_Colum_Names()), ('fix_multi', Empty()),\n",
       "                ('pca', Empty())],\n",
       "         verbose=False)"
      ]
     },
     "execution_count": 19,
     "metadata": {},
     "output_type": "execute_result"
    }
   ],
   "source": [
    "from sklearn import set_config\n",
    "set_config(display='diagram')\n",
    "loaded_kmeans[0]"
   ]
  },
  {
   "cell_type": "code",
   "execution_count": 20,
   "metadata": {},
   "outputs": [],
   "source": [
    "from sklearn import set_config\n",
    "set_config(display='text')"
   ]
  },
  {
   "cell_type": "markdown",
   "metadata": {},
   "source": [
    "# 8. Deploy Model"
   ]
  },
  {
   "cell_type": "code",
   "execution_count": 22,
   "metadata": {},
   "outputs": [
    {
     "name": "stdout",
     "output_type": "stream",
     "text": [
      "Model Succesfully Deployed on AWS S3\n"
     ]
    }
   ],
   "source": [
    "deploy_model(kmeans, model_name = 'kmeans-aws', authentication = {'bucket' : 'pycaret-cuauhtemoc'})"
   ]
  },
  {
   "cell_type": "markdown",
   "metadata": {},
   "source": [
    "# 9. Get Config / Set Config"
   ]
  },
  {
   "cell_type": "code",
   "execution_count": 23,
   "metadata": {},
   "outputs": [
    {
     "data": {
      "text/html": [
       "<div>\n",
       "<style scoped>\n",
       "    .dataframe tbody tr th:only-of-type {\n",
       "        vertical-align: middle;\n",
       "    }\n",
       "\n",
       "    .dataframe tbody tr th {\n",
       "        vertical-align: top;\n",
       "    }\n",
       "\n",
       "    .dataframe thead th {\n",
       "        text-align: right;\n",
       "    }\n",
       "</style>\n",
       "<table border=\"1\" class=\"dataframe\">\n",
       "  <thead>\n",
       "    <tr style=\"text-align: right;\">\n",
       "      <th></th>\n",
       "      <th>1995</th>\n",
       "      <th>1996</th>\n",
       "      <th>1997</th>\n",
       "      <th>1998</th>\n",
       "      <th>1999</th>\n",
       "      <th>2000</th>\n",
       "      <th>2001</th>\n",
       "      <th>2002</th>\n",
       "      <th>2003</th>\n",
       "      <th>2004</th>\n",
       "      <th>2005</th>\n",
       "      <th>2006</th>\n",
       "      <th>2007</th>\n",
       "      <th>2008</th>\n",
       "      <th>2009</th>\n",
       "      <th>2010</th>\n",
       "      <th>2011</th>\n",
       "      <th>2012</th>\n",
       "      <th>2013</th>\n",
       "      <th>2014</th>\n",
       "    </tr>\n",
       "  </thead>\n",
       "  <tbody>\n",
       "    <tr>\n",
       "      <th>0</th>\n",
       "      <td>2.004868</td>\n",
       "      <td>2.014602</td>\n",
       "      <td>2.071309</td>\n",
       "      <td>2.177712</td>\n",
       "      <td>2.331000</td>\n",
       "      <td>2.333596</td>\n",
       "      <td>2.588751</td>\n",
       "      <td>2.540238</td>\n",
       "      <td>2.450415</td>\n",
       "      <td>2.314914</td>\n",
       "      <td>2.134281</td>\n",
       "      <td>2.133038</td>\n",
       "      <td>2.166872</td>\n",
       "      <td>2.101233</td>\n",
       "      <td>2.830067</td>\n",
       "      <td>2.489631</td>\n",
       "      <td>2.539570</td>\n",
       "      <td>2.711262</td>\n",
       "      <td>2.895427</td>\n",
       "      <td>3.073161</td>\n",
       "    </tr>\n",
       "    <tr>\n",
       "      <th>1</th>\n",
       "      <td>2.801518</td>\n",
       "      <td>2.856684</td>\n",
       "      <td>2.997157</td>\n",
       "      <td>2.989451</td>\n",
       "      <td>2.767858</td>\n",
       "      <td>2.826752</td>\n",
       "      <td>2.679969</td>\n",
       "      <td>2.888693</td>\n",
       "      <td>2.740593</td>\n",
       "      <td>2.845971</td>\n",
       "      <td>2.629580</td>\n",
       "      <td>2.650900</td>\n",
       "      <td>2.790665</td>\n",
       "      <td>2.822913</td>\n",
       "      <td>3.408651</td>\n",
       "      <td>3.264064</td>\n",
       "      <td>3.087653</td>\n",
       "      <td>3.314303</td>\n",
       "      <td>3.318432</td>\n",
       "      <td>3.260012</td>\n",
       "    </tr>\n",
       "    <tr>\n",
       "      <th>2</th>\n",
       "      <td>4.678528</td>\n",
       "      <td>4.753209</td>\n",
       "      <td>4.604574</td>\n",
       "      <td>4.499988</td>\n",
       "      <td>4.679082</td>\n",
       "      <td>4.539711</td>\n",
       "      <td>4.666272</td>\n",
       "      <td>4.900196</td>\n",
       "      <td>5.100249</td>\n",
       "      <td>4.913629</td>\n",
       "      <td>4.970861</td>\n",
       "      <td>4.841450</td>\n",
       "      <td>4.809057</td>\n",
       "      <td>5.054785</td>\n",
       "      <td>5.394921</td>\n",
       "      <td>5.284380</td>\n",
       "      <td>5.096212</td>\n",
       "      <td>5.041317</td>\n",
       "      <td>5.029266</td>\n",
       "      <td>5.017717</td>\n",
       "    </tr>\n",
       "    <tr>\n",
       "      <th>3</th>\n",
       "      <td>2.203164</td>\n",
       "      <td>2.156632</td>\n",
       "      <td>2.227311</td>\n",
       "      <td>2.364100</td>\n",
       "      <td>2.454394</td>\n",
       "      <td>2.450555</td>\n",
       "      <td>2.527081</td>\n",
       "      <td>2.347702</td>\n",
       "      <td>2.363263</td>\n",
       "      <td>2.346824</td>\n",
       "      <td>2.337347</td>\n",
       "      <td>2.369884</td>\n",
       "      <td>2.385251</td>\n",
       "      <td>2.405126</td>\n",
       "      <td>2.701260</td>\n",
       "      <td>2.507131</td>\n",
       "      <td>2.495491</td>\n",
       "      <td>2.497340</td>\n",
       "      <td>2.586701</td>\n",
       "      <td>2.665603</td>\n",
       "    </tr>\n",
       "    <tr>\n",
       "      <th>4</th>\n",
       "      <td>4.429090</td>\n",
       "      <td>4.203152</td>\n",
       "      <td>4.244351</td>\n",
       "      <td>4.453984</td>\n",
       "      <td>4.626920</td>\n",
       "      <td>4.688849</td>\n",
       "      <td>4.684790</td>\n",
       "      <td>4.613537</td>\n",
       "      <td>4.635098</td>\n",
       "      <td>4.626696</td>\n",
       "      <td>4.566215</td>\n",
       "      <td>4.367146</td>\n",
       "      <td>4.297394</td>\n",
       "      <td>4.434848</td>\n",
       "      <td>4.865241</td>\n",
       "      <td>4.775817</td>\n",
       "      <td>4.871727</td>\n",
       "      <td>4.866869</td>\n",
       "      <td>4.643221</td>\n",
       "      <td>4.571448</td>\n",
       "    </tr>\n",
       "  </tbody>\n",
       "</table>\n",
       "</div>"
      ],
      "text/plain": [
       "       1995      1996      1997      1998      1999      2000      2001  \\\n",
       "0  2.004868  2.014602  2.071309  2.177712  2.331000  2.333596  2.588751   \n",
       "1  2.801518  2.856684  2.997157  2.989451  2.767858  2.826752  2.679969   \n",
       "2  4.678528  4.753209  4.604574  4.499988  4.679082  4.539711  4.666272   \n",
       "3  2.203164  2.156632  2.227311  2.364100  2.454394  2.450555  2.527081   \n",
       "4  4.429090  4.203152  4.244351  4.453984  4.626920  4.688849  4.684790   \n",
       "\n",
       "       2002      2003      2004      2005      2006      2007      2008  \\\n",
       "0  2.540238  2.450415  2.314914  2.134281  2.133038  2.166872  2.101233   \n",
       "1  2.888693  2.740593  2.845971  2.629580  2.650900  2.790665  2.822913   \n",
       "2  4.900196  5.100249  4.913629  4.970861  4.841450  4.809057  5.054785   \n",
       "3  2.347702  2.363263  2.346824  2.337347  2.369884  2.385251  2.405126   \n",
       "4  4.613537  4.635098  4.626696  4.566215  4.367146  4.297394  4.434848   \n",
       "\n",
       "       2009      2010      2011      2012      2013      2014  \n",
       "0  2.830067  2.489631  2.539570  2.711262  2.895427  3.073161  \n",
       "1  3.408651  3.264064  3.087653  3.314303  3.318432  3.260012  \n",
       "2  5.394921  5.284380  5.096212  5.041317  5.029266  5.017717  \n",
       "3  2.701260  2.507131  2.495491  2.497340  2.586701  2.665603  \n",
       "4  4.865241  4.775817  4.871727  4.866869  4.643221  4.571448  "
      ]
     },
     "execution_count": 23,
     "metadata": {},
     "output_type": "execute_result"
    }
   ],
   "source": [
    "X = get_config('X')\n",
    "X.head()"
   ]
  },
  {
   "cell_type": "code",
   "execution_count": 24,
   "metadata": {},
   "outputs": [
    {
     "data": {
      "text/plain": [
       "123"
      ]
     },
     "execution_count": 24,
     "metadata": {},
     "output_type": "execute_result"
    }
   ],
   "source": [
    "get_config('seed')"
   ]
  },
  {
   "cell_type": "code",
   "execution_count": 25,
   "metadata": {},
   "outputs": [],
   "source": [
    "from pycaret.clustering import set_config\n",
    "set_config('seed', 999)"
   ]
  },
  {
   "cell_type": "code",
   "execution_count": 26,
   "metadata": {},
   "outputs": [
    {
     "data": {
      "text/plain": [
       "999"
      ]
     },
     "execution_count": 26,
     "metadata": {},
     "output_type": "execute_result"
    }
   ],
   "source": [
    "get_config('seed')"
   ]
  },
  {
   "cell_type": "markdown",
   "metadata": {},
   "source": [
    "# 10. MLFlow UI"
   ]
  },
  {
   "cell_type": "code",
   "execution_count": 27,
   "metadata": {},
   "outputs": [
    {
     "name": "stdout",
     "output_type": "stream",
     "text": [
      "[2020-08-16 12:10:43 -0500] [19135] [INFO] Starting gunicorn 20.0.4\n",
      "[2020-08-16 12:10:43 -0500] [19135] [INFO] Listening at: http://127.0.0.1:5000 (19135)\n",
      "[2020-08-16 12:10:43 -0500] [19135] [INFO] Using worker: sync\n",
      "[2020-08-16 12:10:43 -0500] [19138] [INFO] Booting worker with pid: 19138\n",
      "^C\n",
      "[2020-08-16 12:17:49 -0500] [19135] [INFO] Handling signal: int\n",
      "[2020-08-16 12:17:49 -0500] [19138] [INFO] Worker exiting (pid: 19138)\n"
     ]
    }
   ],
   "source": [
    "!mlflow ui"
   ]
  },
  {
   "cell_type": "markdown",
   "metadata": {},
   "source": [
    "# End\n",
    "Thank you. For more information / tutorials on PyCaret, please visit https://www.pycaret.org"
   ]
  }
 ],
 "metadata": {
  "kernelspec": {
   "display_name": "Python 3",
   "language": "python",
   "name": "python3"
  },
  "language_info": {
   "codemirror_mode": {
    "name": "ipython",
    "version": 3
   },
   "file_extension": ".py",
   "mimetype": "text/x-python",
   "name": "python",
   "nbconvert_exporter": "python",
   "pygments_lexer": "ipython3",
   "version": "3.7.0"
  }
 },
 "nbformat": 4,
 "nbformat_minor": 2
}
