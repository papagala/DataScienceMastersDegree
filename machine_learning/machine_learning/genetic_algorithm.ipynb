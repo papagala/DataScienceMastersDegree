{
 "cells": [
  {
   "cell_type": "markdown",
   "metadata": {},
   "source": [
    "# One Max Problem\n",
    "\n",
    "##### One Max Problem — DEAP 1.3.1 documentation. (2020). Retrieved 11 August 2020, from https://deap.readthedocs.io/en/master/examples/ga_onemax.html"
   ]
  },
  {
   "cell_type": "markdown",
   "metadata": {},
   "source": [
    "Utilizaremos la librería de Python DEAP que es un framework de cómputo evolutivo para hacer prototipos rápidamente y probar ideas. Busca hacer algoritmos explícitos y estructuras de datos transparentes. Trabaja en perfecta armonía con mecanismos de paralelismo como `multiprocessing` y `SCOOP`."
   ]
  },
  {
   "cell_type": "markdown",
   "metadata": {},
   "source": [
    "## Ejemplo que maximiza la suma de una lista de enteros.\n",
    "\n",
    "Por ejemplo se comienza con un conjunto de listas de 0s y 1s aleatorios (e.g. [0,1,0,0,0]), y se busca evolucionar hasta que algún elemento llegue a ser de la forma [1,1,1,1,1].\n",
    "\n",
    "Hay muchos parámetros que se pueden ajustar como la logitud de las listas, el tamaño inicial de la población, etc."
   ]
  },
  {
   "cell_type": "markdown",
   "metadata": {},
   "source": [
    "El problema a resolver ayuda a entender algunas de las posibilidades de este framework e ilustra de manera concisa el concepto de máquinas evolutivas en general. Primero importaremos los módulos necesarios\n",
    "\n"
   ]
  },
  {
   "cell_type": "code",
   "execution_count": 1,
   "metadata": {
    "colab": {
     "base_uri": "https://localhost:8080/",
     "height": 1000
    },
    "colab_type": "code",
    "id": "zo_HrSf3dQAW",
    "outputId": "cedfad56-9273-4553-96dc-6008469ff940"
   },
   "outputs": [],
   "source": [
    "import random\n",
    "\n",
    "from deap import base\n",
    "from deap import creator\n",
    "from deap import tools"
   ]
  },
  {
   "cell_type": "markdown",
   "metadata": {},
   "source": [
    "## Creator \n",
    "\n",
    "Debido a que la estructura exacta de los individuos en los algoritmos genéticos depende fuertemente en la problema que se quiere resolver, DEAP no tiene una estructura explícita. Lo que si hace es darnos una manera conveniente para crear \"contenedores\" de atributos, asociarlos con su aptitud (fitness) llamado $\\texttt{deap.creator}$. \n",
    "\n",
    "$\\texttt{creator}$ es una fábrica de clases que las va generando durante el tiempo de ejecución. El primer argumento es el nombre de la clase, seguido de la clase base de la cual heredará, y finalmente cualquier argumento que queramos pasar a la hora de instanciar la misma."
   ]
  },
  {
   "cell_type": "code",
   "execution_count": 2,
   "metadata": {
    "colab": {
     "base_uri": "https://localhost:8080/",
     "height": 1000
    },
    "colab_type": "code",
    "id": "zo_HrSf3dQAW",
    "outputId": "cedfad56-9273-4553-96dc-6008469ff940"
   },
   "outputs": [],
   "source": [
    "creator.create(\"FitnessMax\", base.Fitness, weights=(1.0,))\n",
    "creator.create(\"Individual\", list, fitness=creator.FitnessMax)"
   ]
  },
  {
   "cell_type": "markdown",
   "metadata": {},
   "source": [
    "## Toolbox\n",
    "\n",
    "Utilizaremos la clase a la medida que acamos de crear y haremos uso de Toolbox para crear a nuestro individuos así como a toda la población.\n",
    "\n",
    "Herramientas para crear a los individuos ($\\texttt{random.randint}$), los individuos mismos y la población, quedará registarada bajo un contenedor llamado $\\texttt{Toolbox}$. Tiene dos métodos para agregar o remover contenido, register() y unregister().\n",
    "\n",
    "Es importante mencionar que de forma análoga a $\\texttt{creator.create}$, el primer argumento es el nombre de nuestra función, luego la función que encapsula y finalmente los argumentos de la función. Al registrar las herramientas en el toolbox, solamente crea alias a la funciones ya existentes y congela parte de sus argumentos. Con esto podemos dejar algunos de los argumentos abiertos para modificarlos después. Por ejemplo, en el caso de la población."
   ]
  },
  {
   "cell_type": "code",
   "execution_count": 3,
   "metadata": {
    "colab": {
     "base_uri": "https://localhost:8080/",
     "height": 1000
    },
    "colab_type": "code",
    "id": "zo_HrSf3dQAW",
    "outputId": "cedfad56-9273-4553-96dc-6008469ff940"
   },
   "outputs": [],
   "source": [
    "toolbox = base.Toolbox()\n",
    "\n",
    "# Generador de atributos \n",
    "#                      'attr_bool' es un atributo ('gen')\n",
    "#                      que corresponde a enteros uniformemente muestreados\n",
    "#                      del rango [0,1] (i.e. 0 o 1 con igual\n",
    "#                      probabilidad)\n",
    "toolbox.register(\"attr_bool\", random.randint, 0, 1)\n",
    "\n",
    "# Inicializador de estructura\n",
    "#                         define 'individuo' como uno consistiendo \n",
    "#                         de 50 elementos 'attr_bool' ('genes')\n",
    "toolbox.register(\"individual\", tools.initRepeat, creator.Individual, \n",
    "    toolbox.attr_bool, 50)\n",
    "\n",
    "# Define la población como un conjunto de individuos\n",
    "toolbox.register(\"population\", tools.initRepeat, list, toolbox.individual)\n",
    "\n",
    "\n",
    "# La funcion objetivo ('fitness') a maximizar\n",
    "def evalOneMax(individual):\n",
    "    return sum(individual),\n",
    "\n",
    "#----------\n",
    "# Registro de operaciones\n",
    "#----------\n",
    "# Registra el objetivo / fitness\n",
    "toolbox.register(\"evaluate\", evalOneMax)\n",
    "\n",
    "# Registra el operador de cruza\n",
    "toolbox.register(\"mate\", tools.cxTwoPoint)\n",
    "\n",
    "# Registra el operador de mutación que cambia cada\n",
    "# atributo/gen con probabilidad of 0.0555\n",
    "toolbox.register(\"mutate\", tools.mutFlipBit, indpb=0.0555)\n",
    "\n",
    "# operador para seleccionar individuos por el método de la ruleta\n",
    "# donde cada elemento de la nueva generación se sustituye por \n",
    "# otro de la población total. La probabilidad de obtener un 1\n",
    "# está dada por la suma de todos los 1s entre el total. \n",
    "# Evidentemente lo mismo para el 0. \n",
    "toolbox.register(\"select\", tools.selTournament,fit_attr='fitness',tournsize=3)\n",
    "\n",
    "#----------\n"
   ]
  },
  {
   "cell_type": "markdown",
   "metadata": {},
   "source": [
    "## Evolucionando la población\n",
    "\n",
    "Una vez que se eligen los operadores genéticos, vamos a definir un algoritmo que combine todas las partes individuales y que realice la evolución de nuestra población hasta que el problema de maximización de un parámetro se resuelva. Por convención, esto se hará dentro de una función llamada $\\texttt{main()}$."
   ]
  },
  {
   "cell_type": "code",
   "execution_count": 4,
   "metadata": {
    "colab": {
     "base_uri": "https://localhost:8080/",
     "height": 1000
    },
    "colab_type": "code",
    "id": "zo_HrSf3dQAW",
    "outputId": "cedfad56-9273-4553-96dc-6008469ff940"
   },
   "outputs": [],
   "source": [
    "import logging\n",
    "import timeit\n",
    "# Cambia logging.INFO para obtener menos verborrea\n",
    "# Cambia logging.WARNING para silenciar por completo\n",
    "logger = logging.getLogger()\n",
    "logger.setLevel(logging.ERROR)\n",
    "def main(\n",
    "    poblacion_inicial: int = 50,\n",
    "    tamaño_individuo: int = 30,\n",
    "    prob_cruza: float = 0.7,\n",
    "    prob_mutación: float = 0.0555,\n",
    "    max_iter: int = 1000,\n",
    "):\n",
    "    random.seed()\n",
    "\n",
    "    # Decidí registrar al individuo y a la población aquí\n",
    "    # para poder invocar la función main con todos los\n",
    "    # argumentos sin tener que ir más arriba a redefinir valores\n",
    "    toolbox.register(\n",
    "        \"individual\",\n",
    "        tools.initRepeat,\n",
    "        creator.Individual,\n",
    "        toolbox.attr_bool,\n",
    "        tamaño_individuo,\n",
    "    )\n",
    "\n",
    "    # Se define la población como un conjunto de n=poblacion_inicial listas\n",
    "    toolbox.register(\"population\", tools.initRepeat, list, toolbox.individual)\n",
    "    # Crea una población inicial de n individuos\n",
    "    # (cada uno es una lista de 0s y 1s)\n",
    "    pop = toolbox.population(n=poblacion_inicial)\n",
    "\n",
    "    # CXPB  es la probabilidad de cruza\n",
    "    #\n",
    "    #\n",
    "    # MUTPB es la probabilidad de mutación\n",
    "    CXPB, MUTPB = prob_cruza, prob_mutación\n",
    "\n",
    "    logging.debug(\"Start of evolution\")\n",
    "\n",
    "    # Se evalua la aptitud (fitness) de la población entera \n",
    "    fitnesses = list(map(toolbox.evaluate, pop))\n",
    "    for ind, fit in zip(pop, fitnesses):\n",
    "        ind.fitness.values = fit\n",
    "\n",
    "    logging.debug(\"  Evaluated %i individuals\" % len(pop))\n",
    "\n",
    "    # Se extrae la aptitud (fitness)\n",
    "    fits = [ind.fitness.values[0] for ind in pop]\n",
    "\n",
    "    # Esta variable guarda el número de generaciones    \n",
    "    g = 0\n",
    "\n",
    "    # Comienza la evolución\n",
    "    while max(fits) < tamaño_individuo and g < max_iter:\n",
    "        # Una nueva generación\n",
    "        g = g + 1\n",
    "        logging.debug(\"-- Generation %i --\" % g)\n",
    "\n",
    "        # Selecciona la nueva generación de individuos\n",
    "        offspring = toolbox.select(pop, len(pop))\n",
    "        # Clona los individuos seleccionados\n",
    "        offspring = list(map(toolbox.clone, offspring))\n",
    "\n",
    "        # Aplica la cruza y mutación\n",
    "        for child1, child2 in zip(offspring[::2], offspring[1::2]):\n",
    "\n",
    "            # cruza a dos individuos con probabilidad CXPB\n",
    "            if random.random() < CXPB:\n",
    "                toolbox.mate(child1, child2)\n",
    "\n",
    "                # aptitudes de los hijos\n",
    "                # deben ser recalculados\n",
    "                del child1.fitness.values\n",
    "                del child2.fitness.values\n",
    "\n",
    "        for mutant in offspring:\n",
    "\n",
    "            # muta con probabilidad MUTPB\n",
    "            if random.random() < MUTPB:\n",
    "                toolbox.mutate(mutant)\n",
    "                del mutant.fitness.values\n",
    "\n",
    "        # Evalua a los individuos con una aptitud inválida\n",
    "        invalid_ind = [ind for ind in offspring if not ind.fitness.valid]\n",
    "        fitnesses = map(toolbox.evaluate, invalid_ind)\n",
    "        for ind, fit in zip(invalid_ind, fitnesses):\n",
    "            ind.fitness.values = fit\n",
    "\n",
    "        logging.debug(\"  Evaluated %i individuals\" % len(invalid_ind))\n",
    "\n",
    "        # La población es reemplazada por los hijos\n",
    "        pop[:] = offspring\n",
    "\n",
    "        # Junta todas las aptitudes en una lista e imprime estadísticas\n",
    "        fits = [ind.fitness.values[0] for ind in pop]\n",
    "\n",
    "        length = len(pop)\n",
    "        mean = sum(fits) / length\n",
    "        sum2 = sum(x * x for x in fits)\n",
    "        std = abs(sum2 / length - mean ** 2) ** 0.5\n",
    "\n",
    "        logging.debug(\"  Min %s\" % min(fits))\n",
    "        logging.debug(\"  Max %s\" % max(fits))\n",
    "        logging.debug(\"  Avg %s\" % mean)\n",
    "        logging.debug(\"  Std %s\" % std)\n",
    "\n",
    "    logging.debug(\"-- Fin de la evolución actual--\")\n",
    "\n",
    "    best_ind = tools.selBest(pop, 1)[0]\n",
    "    logging.info(\"Número de generaciones %s\" % g)\n",
    "    logging.info(\"El mejor individuo es %s, %s\" % (best_ind, best_ind.fitness.values))\n",
    "    return g\n",
    "\n",
    "\n",
    "if __name__ == \"__main__\":\n",
    "    main()\n"
   ]
  },
  {
   "cell_type": "markdown",
   "metadata": {},
   "source": [
    "# Aleatoridad y tiempo de cómputo - Torneo\n",
    " \n",
    "A continuación veremos como el número de generaciones es proporcional al tiempo de cómputo. El resultado es bastante intuitivo, entre más generaciones tardamos en llegar a la lista de 1s, mayor es el tiempo de procesamiento"
   ]
  },
  {
   "cell_type": "code",
   "execution_count": 5,
   "metadata": {},
   "outputs": [],
   "source": [
    "# Funcion para almacenar el número de generaciones y el tiempo de ejecución\n",
    "import io\n",
    "from contextlib import redirect_stdout\n",
    "\n",
    "\n",
    "def generaciones_y_tiempo(\n",
    "    poblacion_inicial: int = 50,\n",
    "    tamaño_individuo: int = 30,\n",
    "    prob_cruza: float = 0.7,\n",
    "    prob_mutación: float = 0.0555,\n",
    "    max_iter: int =1000):\n",
    "    f = io.StringIO()\n",
    "    with redirect_stdout(f):\n",
    "        print(\n",
    "            timeit.timeit(\n",
    "                f\"print(main(poblacion_inicial={poblacion_inicial} ,tamaño_individuo={tamaño_individuo} ,prob_cruza={prob_cruza},prob_mutación={prob_mutación},max_iter={max_iter}))\",\n",
    "                number=1,\n",
    "                globals=globals(),\n",
    "            )\n",
    "        )\n",
    "    out = f.getvalue()\n",
    "    return list(out.split(\"\\n\")[:-1])\n"
   ]
  },
  {
   "cell_type": "code",
   "execution_count": 6,
   "metadata": {},
   "outputs": [],
   "source": [
    "datos_tarea=[generaciones_y_tiempo() for i in range(100)]"
   ]
  },
  {
   "cell_type": "code",
   "execution_count": 7,
   "metadata": {},
   "outputs": [
    {
     "data": {
      "text/html": [
       "<div>\n",
       "<style scoped>\n",
       "    .dataframe tbody tr th:only-of-type {\n",
       "        vertical-align: middle;\n",
       "    }\n",
       "\n",
       "    .dataframe tbody tr th {\n",
       "        vertical-align: top;\n",
       "    }\n",
       "\n",
       "    .dataframe thead th {\n",
       "        text-align: right;\n",
       "    }\n",
       "</style>\n",
       "<table border=\"1\" class=\"dataframe\">\n",
       "  <thead>\n",
       "    <tr style=\"text-align: right;\">\n",
       "      <th></th>\n",
       "      <th>Generations</th>\n",
       "      <th>Compute_time</th>\n",
       "    </tr>\n",
       "  </thead>\n",
       "  <tbody>\n",
       "    <tr>\n",
       "      <th>0</th>\n",
       "      <td>8</td>\n",
       "      <td>0.019555</td>\n",
       "    </tr>\n",
       "    <tr>\n",
       "      <th>1</th>\n",
       "      <td>9</td>\n",
       "      <td>0.020255</td>\n",
       "    </tr>\n",
       "    <tr>\n",
       "      <th>2</th>\n",
       "      <td>9</td>\n",
       "      <td>0.020447</td>\n",
       "    </tr>\n",
       "    <tr>\n",
       "      <th>3</th>\n",
       "      <td>10</td>\n",
       "      <td>0.022317</td>\n",
       "    </tr>\n",
       "    <tr>\n",
       "      <th>4</th>\n",
       "      <td>10</td>\n",
       "      <td>0.022483</td>\n",
       "    </tr>\n",
       "  </tbody>\n",
       "</table>\n",
       "</div>"
      ],
      "text/plain": [
       "   Generations  Compute_time\n",
       "0            8      0.019555\n",
       "1            9      0.020255\n",
       "2            9      0.020447\n",
       "3           10      0.022317\n",
       "4           10      0.022483"
      ]
     },
     "execution_count": 7,
     "metadata": {},
     "output_type": "execute_result"
    }
   ],
   "source": [
    "import pandas as pd\n",
    "def limpiar_dataframe(datos:list):\n",
    "    df = pd.DataFrame(datos)\n",
    "    df.rename(columns={0:\"Generations\",1:\"Compute_time\"},inplace=True)\n",
    "    df=df.sort_values(by=\"Compute_time\")\n",
    "    df=df.reset_index(drop=True)\n",
    "    df=df.astype({\"Compute_time\":float, \"Generations\":int})\n",
    "    return df\n",
    "df=limpiar_dataframe(datos_tarea)\n",
    "df.head()"
   ]
  },
  {
   "cell_type": "code",
   "execution_count": 8,
   "metadata": {},
   "outputs": [
    {
     "data": {
      "image/png": "[encoded data removed]",
      "text/plain": [
       "<Figure size 432x288 with 1 Axes>"
      ]
     },
     "metadata": {
      "needs_background": "light"
     },
     "output_type": "display_data"
    }
   ],
   "source": [
    "import numpy as np\n",
    "import matplotlib.pyplot as plt\n",
    "\n",
    "def graficar_df(df:pd.DataFrame):\n",
    "    x = df[\"Generations\"]\n",
    "    y = df[\"Compute_time\"]\n",
    "\n",
    "    plt.scatter(x, y, alpha=0.5)\n",
    "    plt.xlabel('Número de generaciones', fontsize=18)\n",
    "    plt.ylabel('Tiempo de cómputo (s)', fontsize=16)\n",
    "\n",
    "\n",
    "    coef = np.polyfit(x,y,1)\n",
    "    poly1d_fn = np.poly1d(coef) \n",
    "    # poly1d_fn is now a function which takes in x and returns an estimate for y\n",
    "\n",
    "    plt.plot(x,y,'yo',x,poly1d_fn(x),'--k')\n",
    "graficar_df(df)"
   ]
  },
  {
   "cell_type": "markdown",
   "metadata": {},
   "source": [
    "# Veamos como cambia el tiempo de cómputo al incrementar la probabilidad de mutación"
   ]
  },
  {
   "cell_type": "code",
   "execution_count": 9,
   "metadata": {},
   "outputs": [],
   "source": [
    "datos_mutacion_alta=[generaciones_y_tiempo(prob_mutación=0.3,max_iter=4000) for i in range(100)]\n"
   ]
  },
  {
   "cell_type": "code",
   "execution_count": 10,
   "metadata": {
    "scrolled": true
   },
   "outputs": [
    {
     "data": {
      "text/html": [
       "<div>\n",
       "<style scoped>\n",
       "    .dataframe tbody tr th:only-of-type {\n",
       "        vertical-align: middle;\n",
       "    }\n",
       "\n",
       "    .dataframe tbody tr th {\n",
       "        vertical-align: top;\n",
       "    }\n",
       "\n",
       "    .dataframe thead th {\n",
       "        text-align: right;\n",
       "    }\n",
       "</style>\n",
       "<table border=\"1\" class=\"dataframe\">\n",
       "  <thead>\n",
       "    <tr style=\"text-align: right;\">\n",
       "      <th></th>\n",
       "      <th>Generations</th>\n",
       "      <th>Compute_time</th>\n",
       "    </tr>\n",
       "  </thead>\n",
       "  <tbody>\n",
       "    <tr>\n",
       "      <th>0</th>\n",
       "      <td>8</td>\n",
       "      <td>0.018563</td>\n",
       "    </tr>\n",
       "    <tr>\n",
       "      <th>1</th>\n",
       "      <td>8</td>\n",
       "      <td>0.018848</td>\n",
       "    </tr>\n",
       "    <tr>\n",
       "      <th>2</th>\n",
       "      <td>8</td>\n",
       "      <td>0.019049</td>\n",
       "    </tr>\n",
       "    <tr>\n",
       "      <th>3</th>\n",
       "      <td>8</td>\n",
       "      <td>0.019698</td>\n",
       "    </tr>\n",
       "    <tr>\n",
       "      <th>4</th>\n",
       "      <td>8</td>\n",
       "      <td>0.020264</td>\n",
       "    </tr>\n",
       "  </tbody>\n",
       "</table>\n",
       "</div>"
      ],
      "text/plain": [
       "   Generations  Compute_time\n",
       "0            8      0.018563\n",
       "1            8      0.018848\n",
       "2            8      0.019049\n",
       "3            8      0.019698\n",
       "4            8      0.020264"
      ]
     },
     "execution_count": 10,
     "metadata": {},
     "output_type": "execute_result"
    }
   ],
   "source": [
    "df2=limpiar_dataframe(datos_mutacion_alta)\n",
    "df2.head()"
   ]
  },
  {
   "cell_type": "code",
   "execution_count": 11,
   "metadata": {},
   "outputs": [
    {
     "data": {
      "image/png": "[encoded data removed]",
      "text/plain": [
       "<Figure size 432x288 with 1 Axes>"
      ]
     },
     "metadata": {
      "needs_background": "light"
     },
     "output_type": "display_data"
    }
   ],
   "source": [
    "graficar_df(df2)"
   ]
  },
  {
   "cell_type": "markdown",
   "metadata": {},
   "source": [
    "# Veamos como cambia el tiempo de cómputo al incrementar la probabilidad de cruza"
   ]
  },
  {
   "cell_type": "code",
   "execution_count": 12,
   "metadata": {},
   "outputs": [
    {
     "data": {
      "text/html": [
       "<div>\n",
       "<style scoped>\n",
       "    .dataframe tbody tr th:only-of-type {\n",
       "        vertical-align: middle;\n",
       "    }\n",
       "\n",
       "    .dataframe tbody tr th {\n",
       "        vertical-align: top;\n",
       "    }\n",
       "\n",
       "    .dataframe thead th {\n",
       "        text-align: right;\n",
       "    }\n",
       "</style>\n",
       "<table border=\"1\" class=\"dataframe\">\n",
       "  <thead>\n",
       "    <tr style=\"text-align: right;\">\n",
       "      <th></th>\n",
       "      <th>Generations</th>\n",
       "      <th>Compute_time</th>\n",
       "    </tr>\n",
       "  </thead>\n",
       "  <tbody>\n",
       "    <tr>\n",
       "      <th>0</th>\n",
       "      <td>6</td>\n",
       "      <td>0.016008</td>\n",
       "    </tr>\n",
       "    <tr>\n",
       "      <th>1</th>\n",
       "      <td>6</td>\n",
       "      <td>0.016304</td>\n",
       "    </tr>\n",
       "    <tr>\n",
       "      <th>2</th>\n",
       "      <td>7</td>\n",
       "      <td>0.018242</td>\n",
       "    </tr>\n",
       "    <tr>\n",
       "      <th>3</th>\n",
       "      <td>7</td>\n",
       "      <td>0.018388</td>\n",
       "    </tr>\n",
       "    <tr>\n",
       "      <th>4</th>\n",
       "      <td>8</td>\n",
       "      <td>0.019592</td>\n",
       "    </tr>\n",
       "  </tbody>\n",
       "</table>\n",
       "</div>"
      ],
      "text/plain": [
       "   Generations  Compute_time\n",
       "0            6      0.016008\n",
       "1            6      0.016304\n",
       "2            7      0.018242\n",
       "3            7      0.018388\n",
       "4            8      0.019592"
      ]
     },
     "execution_count": 12,
     "metadata": {},
     "output_type": "execute_result"
    }
   ],
   "source": [
    "datos=[generaciones_y_tiempo(prob_cruza=1,max_iter=4000) for i in range(100)]\n",
    "df3=limpiar_dataframe(datos)\n",
    "df3.head()"
   ]
  },
  {
   "cell_type": "code",
   "execution_count": 13,
   "metadata": {},
   "outputs": [
    {
     "data": {
      "image/png": "[encoded data removed]",
      "text/plain": [
       "<Figure size 432x288 with 1 Axes>"
      ]
     },
     "metadata": {
      "needs_background": "light"
     },
     "output_type": "display_data"
    }
   ],
   "source": [
    "graficar_df(df3)"
   ]
  },
  {
   "cell_type": "markdown",
   "metadata": {},
   "source": [
    "# En general es interesante ver como los parámetros afectan de distinta manera el tiempo de cómputo, o el número de generaciones que se necesita para llegar a una solución"
   ]
  },
  {
   "cell_type": "code",
   "execution_count": 14,
   "metadata": {},
   "outputs": [],
   "source": [
    "toolbox.register(\"select\", tools.selRoulette,fit_attr='fitness')"
   ]
  },
  {
   "cell_type": "markdown",
   "metadata": {},
   "source": [
    "# Aleatoridad y tiempo de cómputo - Ruleta\n",
    "A continuación veremos como el número de generaciones es proporcional al tiempo de cómputo. El resultado es bastante intuitivo, entre más generaciones tardamos en llegar a la lista de 1s, mayor es el tiempo de procesamiento\n"
   ]
  },
  {
   "cell_type": "code",
   "execution_count": 15,
   "metadata": {},
   "outputs": [],
   "source": [
    "# Funcion para almacenar el número de generaciones y el tiempo de ejecución\n",
    "import io\n",
    "from contextlib import redirect_stdout\n",
    "\n",
    "\n",
    "def generaciones_y_tiempo(\n",
    "    poblacion_inicial: int = 50,\n",
    "    tamaño_individuo: int = 30,\n",
    "    prob_cruza: float = 0.7,\n",
    "    prob_mutación: float = 0.0555,\n",
    "    max_iter: int =1000):\n",
    "    f = io.StringIO()\n",
    "    with redirect_stdout(f):\n",
    "        print(\n",
    "            timeit.timeit(\n",
    "                f\"print(main(poblacion_inicial={poblacion_inicial} ,tamaño_individuo={tamaño_individuo} ,prob_cruza={prob_cruza},prob_mutación={prob_mutación},max_iter={max_iter}))\",\n",
    "                number=1,\n",
    "                globals=globals(),\n",
    "            )\n",
    "        )\n",
    "    out = f.getvalue()\n",
    "    return list(out.split(\"\\n\")[:-1])\n"
   ]
  },
  {
   "cell_type": "code",
   "execution_count": 16,
   "metadata": {},
   "outputs": [],
   "source": [
    "datos_tarea=[generaciones_y_tiempo() for i in range(100)]"
   ]
  },
  {
   "cell_type": "code",
   "execution_count": 17,
   "metadata": {},
   "outputs": [
    {
     "data": {
      "text/html": [
       "<div>\n",
       "<style scoped>\n",
       "    .dataframe tbody tr th:only-of-type {\n",
       "        vertical-align: middle;\n",
       "    }\n",
       "\n",
       "    .dataframe tbody tr th {\n",
       "        vertical-align: top;\n",
       "    }\n",
       "\n",
       "    .dataframe thead th {\n",
       "        text-align: right;\n",
       "    }\n",
       "</style>\n",
       "<table border=\"1\" class=\"dataframe\">\n",
       "  <thead>\n",
       "    <tr style=\"text-align: right;\">\n",
       "      <th></th>\n",
       "      <th>Generations</th>\n",
       "      <th>Compute_time</th>\n",
       "    </tr>\n",
       "  </thead>\n",
       "  <tbody>\n",
       "    <tr>\n",
       "      <th>0</th>\n",
       "      <td>43</td>\n",
       "      <td>0.167408</td>\n",
       "    </tr>\n",
       "    <tr>\n",
       "      <th>1</th>\n",
       "      <td>48</td>\n",
       "      <td>0.178559</td>\n",
       "    </tr>\n",
       "    <tr>\n",
       "      <th>2</th>\n",
       "      <td>57</td>\n",
       "      <td>0.201320</td>\n",
       "    </tr>\n",
       "    <tr>\n",
       "      <th>3</th>\n",
       "      <td>55</td>\n",
       "      <td>0.210100</td>\n",
       "    </tr>\n",
       "    <tr>\n",
       "      <th>4</th>\n",
       "      <td>52</td>\n",
       "      <td>0.214055</td>\n",
       "    </tr>\n",
       "  </tbody>\n",
       "</table>\n",
       "</div>"
      ],
      "text/plain": [
       "   Generations  Compute_time\n",
       "0           43      0.167408\n",
       "1           48      0.178559\n",
       "2           57      0.201320\n",
       "3           55      0.210100\n",
       "4           52      0.214055"
      ]
     },
     "execution_count": 17,
     "metadata": {},
     "output_type": "execute_result"
    }
   ],
   "source": [
    "import pandas as pd\n",
    "def limpiar_dataframe(datos:list):\n",
    "    df = pd.DataFrame(datos)\n",
    "    df.rename(columns={0:\"Generations\",1:\"Compute_time\"},inplace=True)\n",
    "    df=df.sort_values(by=\"Compute_time\")\n",
    "    df=df.reset_index(drop=True)\n",
    "    df=df.astype({\"Compute_time\":float, \"Generations\":int})\n",
    "    return df\n",
    "df=limpiar_dataframe(datos_tarea)\n",
    "df.head()"
   ]
  },
  {
   "cell_type": "code",
   "execution_count": 18,
   "metadata": {},
   "outputs": [
    {
     "data": {
      "image/png": "[encoded data removed]",
      "text/plain": [
       "<Figure size 432x288 with 1 Axes>"
      ]
     },
     "metadata": {
      "needs_background": "light"
     },
     "output_type": "display_data"
    }
   ],
   "source": [
    "import numpy as np\n",
    "import matplotlib.pyplot as plt\n",
    "\n",
    "def graficar_df(df:pd.DataFrame):\n",
    "    x = df[\"Generations\"]\n",
    "    y = df[\"Compute_time\"]\n",
    "\n",
    "    plt.scatter(x, y, alpha=0.5)\n",
    "    plt.xlabel('Número de generaciones', fontsize=18)\n",
    "    plt.ylabel('Tiempo de cómputo (s)', fontsize=16)\n",
    "\n",
    "\n",
    "    coef = np.polyfit(x,y,1)\n",
    "    poly1d_fn = np.poly1d(coef) \n",
    "    # poly1d_fn is now a function which takes in x and returns an estimate for y\n",
    "\n",
    "    plt.plot(x,y,'yo',x,poly1d_fn(x),'--k')\n",
    "graficar_df(df)"
   ]
  },
  {
   "cell_type": "markdown",
   "metadata": {},
   "source": [
    "# Veamos como cambia el tiempo de cómputo al incrementar la probabilidad de mutación"
   ]
  },
  {
   "cell_type": "code",
   "execution_count": 19,
   "metadata": {},
   "outputs": [],
   "source": [
    "datos_mutacion_alta=[generaciones_y_tiempo(prob_mutación=0.3,max_iter=4000) for i in range(100)]\n"
   ]
  },
  {
   "cell_type": "code",
   "execution_count": 20,
   "metadata": {
    "scrolled": true
   },
   "outputs": [
    {
     "data": {
      "text/html": [
       "<div>\n",
       "<style scoped>\n",
       "    .dataframe tbody tr th:only-of-type {\n",
       "        vertical-align: middle;\n",
       "    }\n",
       "\n",
       "    .dataframe tbody tr th {\n",
       "        vertical-align: top;\n",
       "    }\n",
       "\n",
       "    .dataframe thead th {\n",
       "        text-align: right;\n",
       "    }\n",
       "</style>\n",
       "<table border=\"1\" class=\"dataframe\">\n",
       "  <thead>\n",
       "    <tr style=\"text-align: right;\">\n",
       "      <th></th>\n",
       "      <th>Generations</th>\n",
       "      <th>Compute_time</th>\n",
       "    </tr>\n",
       "  </thead>\n",
       "  <tbody>\n",
       "    <tr>\n",
       "      <th>0</th>\n",
       "      <td>36</td>\n",
       "      <td>0.125837</td>\n",
       "    </tr>\n",
       "    <tr>\n",
       "      <th>1</th>\n",
       "      <td>52</td>\n",
       "      <td>0.195224</td>\n",
       "    </tr>\n",
       "    <tr>\n",
       "      <th>2</th>\n",
       "      <td>97</td>\n",
       "      <td>0.349806</td>\n",
       "    </tr>\n",
       "    <tr>\n",
       "      <th>3</th>\n",
       "      <td>110</td>\n",
       "      <td>0.380951</td>\n",
       "    </tr>\n",
       "    <tr>\n",
       "      <th>4</th>\n",
       "      <td>107</td>\n",
       "      <td>0.391929</td>\n",
       "    </tr>\n",
       "  </tbody>\n",
       "</table>\n",
       "</div>"
      ],
      "text/plain": [
       "   Generations  Compute_time\n",
       "0           36      0.125837\n",
       "1           52      0.195224\n",
       "2           97      0.349806\n",
       "3          110      0.380951\n",
       "4          107      0.391929"
      ]
     },
     "execution_count": 20,
     "metadata": {},
     "output_type": "execute_result"
    }
   ],
   "source": [
    "df2=limpiar_dataframe(datos_mutacion_alta)\n",
    "df2.head()"
   ]
  },
  {
   "cell_type": "code",
   "execution_count": 21,
   "metadata": {},
   "outputs": [
    {
     "data": {
      "image/png": "[encoded data removed]",
      "text/plain": [
       "<Figure size 432x288 with 1 Axes>"
      ]
     },
     "metadata": {
      "needs_background": "light"
     },
     "output_type": "display_data"
    }
   ],
   "source": [
    "graficar_df(df2)"
   ]
  },
  {
   "cell_type": "markdown",
   "metadata": {},
   "source": [
    "# Veamos como cambia el tiempo de cómputo al incrementar la probabilidad de cruza"
   ]
  },
  {
   "cell_type": "code",
   "execution_count": 22,
   "metadata": {},
   "outputs": [
    {
     "data": {
      "text/html": [
       "<div>\n",
       "<style scoped>\n",
       "    .dataframe tbody tr th:only-of-type {\n",
       "        vertical-align: middle;\n",
       "    }\n",
       "\n",
       "    .dataframe tbody tr th {\n",
       "        vertical-align: top;\n",
       "    }\n",
       "\n",
       "    .dataframe thead th {\n",
       "        text-align: right;\n",
       "    }\n",
       "</style>\n",
       "<table border=\"1\" class=\"dataframe\">\n",
       "  <thead>\n",
       "    <tr style=\"text-align: right;\">\n",
       "      <th></th>\n",
       "      <th>Generations</th>\n",
       "      <th>Compute_time</th>\n",
       "    </tr>\n",
       "  </thead>\n",
       "  <tbody>\n",
       "    <tr>\n",
       "      <th>0</th>\n",
       "      <td>30</td>\n",
       "      <td>0.087127</td>\n",
       "    </tr>\n",
       "    <tr>\n",
       "      <th>1</th>\n",
       "      <td>30</td>\n",
       "      <td>0.093777</td>\n",
       "    </tr>\n",
       "    <tr>\n",
       "      <th>2</th>\n",
       "      <td>34</td>\n",
       "      <td>0.101599</td>\n",
       "    </tr>\n",
       "    <tr>\n",
       "      <th>3</th>\n",
       "      <td>35</td>\n",
       "      <td>0.112305</td>\n",
       "    </tr>\n",
       "    <tr>\n",
       "      <th>4</th>\n",
       "      <td>40</td>\n",
       "      <td>0.118224</td>\n",
       "    </tr>\n",
       "  </tbody>\n",
       "</table>\n",
       "</div>"
      ],
      "text/plain": [
       "   Generations  Compute_time\n",
       "0           30      0.087127\n",
       "1           30      0.093777\n",
       "2           34      0.101599\n",
       "3           35      0.112305\n",
       "4           40      0.118224"
      ]
     },
     "execution_count": 22,
     "metadata": {},
     "output_type": "execute_result"
    }
   ],
   "source": [
    "datos=[generaciones_y_tiempo(prob_cruza=1,max_iter=4000) for i in range(100)]\n",
    "df3=limpiar_dataframe(datos)\n",
    "df3.head()"
   ]
  },
  {
   "cell_type": "code",
   "execution_count": 23,
   "metadata": {},
   "outputs": [
    {
     "data": {
      "image/png": "[encoded data removed]",
      "text/plain": [
       "<Figure size 432x288 with 1 Axes>"
      ]
     },
     "metadata": {
      "needs_background": "light"
     },
     "output_type": "display_data"
    }
   ],
   "source": [
    "graficar_df(df3)"
   ]
  }
 ],
 "metadata": {
  "colab": {
   "collapsed_sections": [],
   "name": "genetic-algorithm.ipynb",
   "provenance": []
  },
  "kernelspec": {
   "display_name": "Python 3",
   "language": "python",
   "name": "python3"
  },
  "language_info": {
   "codemirror_mode": {
    "name": "ipython",
    "version": 3
   },
   "file_extension": ".py",
   "mimetype": "text/x-python",
   "name": "python",
   "nbconvert_exporter": "python",
   "pygments_lexer": "ipython3",
   "version": "3.7.0"
  }
 },
 "nbformat": 4,
 "nbformat_minor": 1
}
