{
 "cells": [
  {
   "cell_type": "markdown",
   "metadata": {},
   "source": [
    "# One Max Problem\n",
    "\n",
    "##### One Max Problem — DEAP 1.3.1 documentation. (2020). Retrieved 11 August 2020, from https://deap.readthedocs.io/en/master/examples/ga_onemax.html"
   ]
  },
  {
   "cell_type": "markdown",
   "metadata": {},
   "source": [
    "Utilizaremos la librería de Python DEAP que es un framework de cómputo evolutivo para hacer prototipos rápidamente y probar ideas. Busca hacer algoritmos explícitos y estructuras de datos transparentes. Trabaja en perfecta armonía con mecanismos de paralelismo como `multiprocessing` y `SCOOP`."
   ]
  },
  {
   "cell_type": "markdown",
   "metadata": {},
   "source": [
    "## Ejemplo que maximiza la suma de una lista de enteros.\n",
    "\n",
    "Por ejemplo se comienza con un conjunto de listas de 0s y 1s aleatorios (e.g. [0,1,0,0,0]), y se busca evolucionar hasta que algún elemento llegue a ser de la forma [1,1,1,1,1].\n",
    "\n",
    "Hay muchos parámetros que se pueden ajustar como la logitud de las listas, el tamaño inicial de la población, etc."
   ]
  },
  {
   "cell_type": "markdown",
   "metadata": {},
   "source": [
    "El problema a resolver ayuda a entender algunas de las posibilidades de este framework e ilustra de manera concisa el concepto de máquinas evolutivas en general. Primero importaremos los módulos necesarios\n",
    "\n"
   ]
  },
  {
   "cell_type": "code",
   "execution_count": 1,
   "metadata": {
    "colab": {
     "base_uri": "https://localhost:8080/",
     "height": 1000
    },
    "colab_type": "code",
    "id": "zo_HrSf3dQAW",
    "outputId": "cedfad56-9273-4553-96dc-6008469ff940"
   },
   "outputs": [],
   "source": [
    "import random\n",
    "\n",
    "from deap import base\n",
    "from deap import creator\n",
    "from deap import tools"
   ]
  },
  {
   "cell_type": "markdown",
   "metadata": {},
   "source": [
    "## Creator \n",
    "\n",
    "Debido a que la estructura exacta de los individuos en los algoritmos genéticos depende fuertemente en la problema que se quiere resolver, DEAP no tiene una estructura explícita. Lo que si hace es darnos una manera conveniente para crear \"contenedores\" de atributos, asociarlos con su aptitud (fitness) llamado $\\texttt{deap.creator}$. \n",
    "\n",
    "$\\texttt{creator}$ es una fábrica de clases que las va generando durante el tiempo de ejecución. El primer argumento es el nombre de la clase, seguido de la clase base de la cual heredará, y finalmente cualquier argumento que queramos pasar a la hora de instanciar la misma."
   ]
  },
  {
   "cell_type": "code",
   "execution_count": 2,
   "metadata": {
    "colab": {
     "base_uri": "https://localhost:8080/",
     "height": 1000
    },
    "colab_type": "code",
    "id": "zo_HrSf3dQAW",
    "outputId": "cedfad56-9273-4553-96dc-6008469ff940"
   },
   "outputs": [],
   "source": [
    "creator.create(\"FitnessMax\", base.Fitness, weights=(1.0,))\n",
    "creator.create(\"Individual\", list, fitness=creator.FitnessMax)"
   ]
  },
  {
   "cell_type": "markdown",
   "metadata": {},
   "source": [
    "## Toolbox\n",
    "\n",
    "Utilizaremos la clase a la medida que acamos de crear y haremos uso de Toolbox para crear a nuestro individuos así como a toda la población.\n",
    "\n",
    "Herramientas para crear a los individuos ($\\texttt{random.randint}$), los individuos mismos y la población, quedará registarada bajo un contenedor llamado $\\texttt{Toolbox}$. Tiene dos métodos para agregar o remover contenido, register() y unregister().\n",
    "\n",
    "Es importante mencionar que de forma análoga a $\\texttt{creator.create}$, el primer argumento es el nombre de nuestra función, luego la función que encapsula y finalmente los argumentos de la función. Al registrar las herramientas en el toolbox, solamente crea alias a la funciones ya existentes y congela parte de sus argumentos. Con esto podemos dejar algunos de los argumentos abiertos para modificarlos después. Por ejemplo, en el caso de la población."
   ]
  },
  {
   "cell_type": "code",
   "execution_count": 3,
   "metadata": {
    "colab": {
     "base_uri": "https://localhost:8080/",
     "height": 1000
    },
    "colab_type": "code",
    "id": "zo_HrSf3dQAW",
    "outputId": "cedfad56-9273-4553-96dc-6008469ff940"
   },
   "outputs": [],
   "source": [
    "toolbox = base.Toolbox()\n",
    "\n",
    "# Generador de atributos \n",
    "#                      'attr_bool' es un atributo ('gen')\n",
    "#                      que corresponde a enteros uniformemente muestreados\n",
    "#                      del rango [0,1] (i.e. 0 o 1 con igual\n",
    "#                      probabilidad)\n",
    "toolbox.register(\"attr_bool\", random.randint, 0, 1)\n",
    "\n",
    "# Inicializador de estructura\n",
    "#                         define 'individuo' como uno consistiendo \n",
    "#                         de 50 elementos 'attr_bool' ('genes')\n",
    "toolbox.register(\"individual\", tools.initRepeat, creator.Individual, \n",
    "    toolbox.attr_bool, 50)\n",
    "\n",
    "# Define la población como un conjunto de individuos\n",
    "toolbox.register(\"population\", tools.initRepeat, list, toolbox.individual)\n",
    "\n",
    "\n",
    "# La funcion objetivo ('fitness') a maximizar\n",
    "def evalOneMax(individual):\n",
    "    return sum(individual),\n",
    "\n",
    "#----------\n",
    "# Registro de operaciones\n",
    "#----------\n",
    "# Registra el objetivo / fitness\n",
    "toolbox.register(\"evaluate\", evalOneMax)\n",
    "\n",
    "# Registra el operador de cruza\n",
    "toolbox.register(\"mate\", tools.cxTwoPoint)\n",
    "\n",
    "# Registra el operador de mutación que cambia cada\n",
    "# atributo/gen con probabilidad of 0.0555\n",
    "toolbox.register(\"mutate\", tools.mutFlipBit, indpb=0.0555)\n",
    "\n",
    "# operador para seleccionar individuos por el método de la ruleta\n",
    "# donde cada elemento de la nueva generación se sustituye por \n",
    "# otro de la población total. La probabilidad de obtener un 1\n",
    "# está dada por la suma de todos los 1s entre el total. \n",
    "# Evidentemente lo mismo para el 0. \n",
    "toolbox.register(\"select\", tools.selTournament,fit_attr='fitness',tournsize=3)\n",
    "\n",
    "#----------\n"
   ]
  },
  {
   "cell_type": "markdown",
   "metadata": {},
   "source": [
    "## Evolucionando la población\n",
    "\n",
    "Una vez que se eligen los operadores genéticos, vamos a definir un algoritmo que combine todas las partes individuales y que realice la evolución de nuestra población hasta que el problema de maximización de un parámetro se resuelva. Por convención, esto se hará dentro de una función llamada $\\texttt{main()}$."
   ]
  },
  {
   "cell_type": "code",
   "execution_count": 4,
   "metadata": {
    "colab": {
     "base_uri": "https://localhost:8080/",
     "height": 1000
    },
    "colab_type": "code",
    "id": "zo_HrSf3dQAW",
    "outputId": "cedfad56-9273-4553-96dc-6008469ff940"
   },
   "outputs": [],
   "source": [
    "import logging\n",
    "import timeit\n",
    "# Cambia logging.INFO para obtener menos verborrea\n",
    "# Cambia logging.WARNING para silenciar por completo\n",
    "logger = logging.getLogger()\n",
    "logger.setLevel(logging.WARNING)\n",
    "def main(\n",
    "    poblacion_inicial: int = 50,\n",
    "    tamaño_individuo: int = 30,\n",
    "    prob_cruza: float = 0.7,\n",
    "    prob_mutación: float = 0.0555,\n",
    "    max_iter: int = 1000,\n",
    "):\n",
    "    random.seed()\n",
    "\n",
    "    # Decidí registrar al individuo y a la población aquí\n",
    "    # para poder invocar la función main con todos los\n",
    "    # argumentos sin tener que ir más arriba a redefinir valores\n",
    "    toolbox.register(\n",
    "        \"individual\",\n",
    "        tools.initRepeat,\n",
    "        creator.Individual,\n",
    "        toolbox.attr_bool,\n",
    "        tamaño_individuo,\n",
    "    )\n",
    "\n",
    "    # Se define la población como un conjunto de n=poblacion_inicial listas\n",
    "    toolbox.register(\"population\", tools.initRepeat, list, toolbox.individual)\n",
    "    # Crea una población inicial de n individuos\n",
    "    # (cada uno es una lista de 0s y 1s)\n",
    "    pop = toolbox.population(n=poblacion_inicial)\n",
    "\n",
    "    # CXPB  es la probabilidad de cruza\n",
    "    #\n",
    "    #\n",
    "    # MUTPB es la probabilidad de mutación\n",
    "    CXPB, MUTPB = prob_cruza, prob_mutación\n",
    "\n",
    "    logging.debug(\"Start of evolution\")\n",
    "\n",
    "    # Se evalua la aptitud (fitness) de la población entera \n",
    "    fitnesses = list(map(toolbox.evaluate, pop))\n",
    "    for ind, fit in zip(pop, fitnesses):\n",
    "        ind.fitness.values = fit\n",
    "\n",
    "    logging.debug(\"  Evaluated %i individuals\" % len(pop))\n",
    "\n",
    "    # Se extrae la aptitud (fitness)\n",
    "    fits = [ind.fitness.values[0] for ind in pop]\n",
    "\n",
    "    # Esta variable guarda el número de generaciones    \n",
    "    g = 0\n",
    "\n",
    "    # Comienza la evolución\n",
    "    while max(fits) < tamaño_individuo and g < max_iter:\n",
    "        # Una nueva generación\n",
    "        g = g + 1\n",
    "        logging.debug(\"-- Generation %i --\" % g)\n",
    "\n",
    "        # Selecciona la nueva generación de individuos\n",
    "        offspring = toolbox.select(pop, len(pop))\n",
    "        # Clona los individuos seleccionados\n",
    "        offspring = list(map(toolbox.clone, offspring))\n",
    "\n",
    "        # Aplica la cruza y mutación\n",
    "        for child1, child2 in zip(offspring[::2], offspring[1::2]):\n",
    "\n",
    "            # cruza a dos individuos con probabilidad CXPB\n",
    "            if random.random() < CXPB:\n",
    "                toolbox.mate(child1, child2)\n",
    "\n",
    "                # aptitudes de los hijos\n",
    "                # deben ser recalculados\n",
    "                del child1.fitness.values\n",
    "                del child2.fitness.values\n",
    "\n",
    "        for mutant in offspring:\n",
    "\n",
    "            # muta con probabilidad MUTPB\n",
    "            if random.random() < MUTPB:\n",
    "                toolbox.mutate(mutant)\n",
    "                del mutant.fitness.values\n",
    "\n",
    "        # Evalua a los individuos con una aptitud inválida\n",
    "        invalid_ind = [ind for ind in offspring if not ind.fitness.valid]\n",
    "        fitnesses = map(toolbox.evaluate, invalid_ind)\n",
    "        for ind, fit in zip(invalid_ind, fitnesses):\n",
    "            ind.fitness.values = fit\n",
    "\n",
    "        logging.debug(\"  Evaluated %i individuals\" % len(invalid_ind))\n",
    "\n",
    "        # La población es reemplazada por los hijos\n",
    "        pop[:] = offspring\n",
    "\n",
    "        # Junta todas las aptitudes en una lista e imprime estadísticas\n",
    "        fits = [ind.fitness.values[0] for ind in pop]\n",
    "\n",
    "        length = len(pop)\n",
    "        mean = sum(fits) / length\n",
    "        sum2 = sum(x * x for x in fits)\n",
    "        std = abs(sum2 / length - mean ** 2) ** 0.5\n",
    "\n",
    "        logging.debug(\"  Min %s\" % min(fits))\n",
    "        logging.debug(\"  Max %s\" % max(fits))\n",
    "        logging.debug(\"  Avg %s\" % mean)\n",
    "        logging.debug(\"  Std %s\" % std)\n",
    "\n",
    "    logging.debug(\"------------- Fin de la evolución actual--------------\")\n",
    "\n",
    "    best_ind = tools.selBest(pop, 1)[0]\n",
    "    logging.info(\"Número de generaciones %s\" % g)\n",
    "    logging.info(\"El mejor individuo es %s, %s\" % (best_ind, best_ind.fitness.values))\n",
    "    return g\n",
    "\n",
    "\n",
    "\n"
   ]
  },
  {
   "cell_type": "code",
   "execution_count": 5,
   "metadata": {},
   "outputs": [],
   "source": [
    "if __name__ == \"__main__\":\n",
    "    main()"
   ]
  },
  {
   "cell_type": "markdown",
   "metadata": {},
   "source": [
    "# Ejemplo explícito de lo que se está logrando con este algoritmo\n",
    "\n",
    "Profesor, para no tratar de llenar con muchos datos el resultado obtenido, decidí silenciar la salida de datos. Las gráficas de hasta abajo simplemente son 100 corridas del algoritmo con diferentes configuraciones de probabilidad de mutación, tamaño de los individuos, tipo de algoritmo de selección, etc. \n",
    "\n",
    "Lo unico que cambié fue `logger.setLevel(logging.DEBUG)` para mostrar las evoluciones generación a generación para de una de esas 100 corridas."
   ]
  },
  {
   "cell_type": "markdown",
   "metadata": {},
   "source": [
    "# Aleatoridad y tiempo de cómputo - Torneo\n",
    " \n",
    "A continuación veremos como el número de generaciones es proporcional al tiempo de cómputo. El resultado es bastante intuitivo, entre más generaciones tardamos en llegar a la lista de 1s, mayor es el tiempo de procesamiento"
   ]
  },
  {
   "cell_type": "code",
   "execution_count": 6,
   "metadata": {},
   "outputs": [],
   "source": [
    "# Funcion para almacenar el número de generaciones y el tiempo de ejecución\n",
    "import io\n",
    "from contextlib import redirect_stdout\n",
    "\n",
    "\n",
    "def generaciones_y_tiempo(\n",
    "    poblacion_inicial: int = 50,\n",
    "    tamaño_individuo: int = 30,\n",
    "    prob_cruza: float = 0.7,\n",
    "    prob_mutación: float = 0.0555,\n",
    "    max_iter: int =1000):\n",
    "    f = io.StringIO()\n",
    "    with redirect_stdout(f):\n",
    "        print(\n",
    "            timeit.timeit(\n",
    "                f\"print(main(poblacion_inicial={poblacion_inicial} ,tamaño_individuo={tamaño_individuo} ,prob_cruza={prob_cruza},prob_mutación={prob_mutación},max_iter={max_iter}))\",\n",
    "                number=1,\n",
    "                globals=globals(),\n",
    "            )\n",
    "        )\n",
    "    out = f.getvalue()\n",
    "    return list(out.split(\"\\n\")[:-1])\n"
   ]
  },
  {
   "cell_type": "markdown",
   "metadata": {},
   "source": [
    "# Vamos a hacer 100 simulaciones independientes, donde llegaremos al número requerido de 30 unos e imprimiermos todo a pantalla para mostrar que efectivamente se llega al resultado.  \n",
    "\n",
    "## Cada simulación termina al llegar al siguiente estado\n",
    "```\n",
    "DEBUG:root:------------- Fin de la evolución actual--------------\n",
    "INFO:root:Número de generaciones 14\n",
    "INFO:root:El mejor individuo es [1, 1, 1, 1, 1, 1, 1, 1, 1, 1, 1, 1, 1, 1, 1, 1, 1, 1, 1, 1, 1, 1, 1, 1, 1, 1, 1, 1, 1, 1], (30.0,)\n",
    "```"
   ]
  },
  {
   "cell_type": "code",
   "execution_count": 7,
   "metadata": {
    "scrolled": false
   },
   "outputs": [
    {
     "name": "stderr",
     "output_type": "stream",
     "text": [
      "DEBUG:root:Start of evolution\n",
      "DEBUG:root:  Evaluated 50 individuals\n",
      "DEBUG:root:-- Generation 1 --\n",
      "DEBUG:root:  Evaluated 33 individuals\n",
      "DEBUG:root:  Min 14.0\n",
      "DEBUG:root:  Max 21.0\n",
      "DEBUG:root:  Avg 17.24\n",
      "DEBUG:root:  Std 1.817250670656097\n",
      "DEBUG:root:-- Generation 2 --\n",
      "DEBUG:root:  Evaluated 40 individuals\n",
      "DEBUG:root:  Min 14.0\n",
      "DEBUG:root:  Max 23.0\n",
      "DEBUG:root:  Avg 19.14\n",
      "DEBUG:root:  Std 1.8440173534975182\n",
      "DEBUG:root:-- Generation 3 --\n",
      "DEBUG:root:  Evaluated 28 individuals\n",
      "DEBUG:root:  Min 17.0\n",
      "DEBUG:root:  Max 26.0\n",
      "DEBUG:root:  Avg 20.5\n",
      "DEBUG:root:  Std 1.5905973720586781\n",
      "DEBUG:root:-- Generation 4 --\n",
      "DEBUG:root:  Evaluated 38 individuals\n",
      "DEBUG:root:  Min 17.0\n",
      "DEBUG:root:  Max 26.0\n",
      "DEBUG:root:  Avg 21.72\n",
      "DEBUG:root:  Std 1.8334666618185527\n",
      "DEBUG:root:-- Generation 5 --\n",
      "DEBUG:root:  Evaluated 35 individuals\n",
      "DEBUG:root:  Min 19.0\n",
      "DEBUG:root:  Max 28.0\n",
      "DEBUG:root:  Avg 23.34\n",
      "DEBUG:root:  Std 1.893251171926238\n",
      "DEBUG:root:-- Generation 6 --\n",
      "DEBUG:root:  Evaluated 34 individuals\n",
      "DEBUG:root:  Min 22.0\n",
      "DEBUG:root:  Max 28.0\n",
      "DEBUG:root:  Avg 24.82\n",
      "DEBUG:root:  Std 1.5451860729374656\n",
      "DEBUG:root:-- Generation 7 --\n",
      "DEBUG:root:  Evaluated 44 individuals\n",
      "DEBUG:root:  Min 23.0\n",
      "DEBUG:root:  Max 29.0\n",
      "DEBUG:root:  Avg 26.0\n",
      "DEBUG:root:  Std 1.2649110640673606\n",
      "DEBUG:root:-- Generation 8 --\n",
      "DEBUG:root:  Evaluated 42 individuals\n",
      "DEBUG:root:  Min 25.0\n",
      "DEBUG:root:  Max 29.0\n",
      "DEBUG:root:  Avg 27.0\n",
      "DEBUG:root:  Std 0.9797958971132898\n",
      "DEBUG:root:-- Generation 9 --\n",
      "DEBUG:root:  Evaluated 35 individuals\n",
      "DEBUG:root:  Min 24.0\n",
      "DEBUG:root:  Max 30.0\n",
      "DEBUG:root:  Avg 27.58\n",
      "DEBUG:root:  Std 1.0970870521522216\n",
      "DEBUG:root:------------- Fin de la evolución actual--------------\n",
      "INFO:root:Número de generaciones 9\n",
      "INFO:root:El mejor individuo es [1, 1, 1, 1, 1, 1, 1, 1, 1, 1, 1, 1, 1, 1, 1, 1, 1, 1, 1, 1, 1, 1, 1, 1, 1, 1, 1, 1, 1, 1], (30.0,)\n"
     ]
    }
   ],
   "source": [
    "logger.setLevel(logging.DEBUG)\n",
    "datos_tarea=[generaciones_y_tiempo() for i in range(1)]"
   ]
  },
  {
   "cell_type": "code",
   "execution_count": 8,
   "metadata": {},
   "outputs": [
    {
     "data": {
      "text/html": [
       "<div>\n",
       "<style scoped>\n",
       "    .dataframe tbody tr th:only-of-type {\n",
       "        vertical-align: middle;\n",
       "    }\n",
       "\n",
       "    .dataframe tbody tr th {\n",
       "        vertical-align: top;\n",
       "    }\n",
       "\n",
       "    .dataframe thead th {\n",
       "        text-align: right;\n",
       "    }\n",
       "</style>\n",
       "<table border=\"1\" class=\"dataframe\">\n",
       "  <thead>\n",
       "    <tr style=\"text-align: right;\">\n",
       "      <th></th>\n",
       "      <th>Generations</th>\n",
       "      <th>Compute_time</th>\n",
       "    </tr>\n",
       "  </thead>\n",
       "  <tbody>\n",
       "    <tr>\n",
       "      <th>0</th>\n",
       "      <td>9</td>\n",
       "      <td>0.061121</td>\n",
       "    </tr>\n",
       "  </tbody>\n",
       "</table>\n",
       "</div>"
      ],
      "text/plain": [
       "   Generations  Compute_time\n",
       "0            9      0.061121"
      ]
     },
     "execution_count": 8,
     "metadata": {},
     "output_type": "execute_result"
    }
   ],
   "source": [
    "import pandas as pd\n",
    "def limpiar_dataframe(datos:list):\n",
    "    df = pd.DataFrame(datos)\n",
    "    df.rename(columns={0:\"Generations\",1:\"Compute_time\"},inplace=True)\n",
    "    df=df.sort_values(by=\"Compute_time\")\n",
    "    df=df.reset_index(drop=True)\n",
    "    df=df.astype({\"Compute_time\":float, \"Generations\":int})\n",
    "    return df\n",
    "df=limpiar_dataframe(datos_tarea)\n",
    "df.head()"
   ]
  }
 ],
 "metadata": {
  "colab": {
   "collapsed_sections": [],
   "name": "genetic-algorithm.ipynb",
   "provenance": []
  },
  "kernelspec": {
   "display_name": "Python 3",
   "language": "python",
   "name": "python3"
  },
  "language_info": {
   "codemirror_mode": {
    "name": "ipython",
    "version": 3
   },
   "file_extension": ".py",
   "mimetype": "text/x-python",
   "name": "python",
   "nbconvert_exporter": "python",
   "pygments_lexer": "ipython3",
   "version": "3.7.0"
  }
 },
 "nbformat": 4,
 "nbformat_minor": 1
}
