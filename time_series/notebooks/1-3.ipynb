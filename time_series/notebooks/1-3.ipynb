{
 "cells": [
  {
   "cell_type": "code",
   "execution_count": 2,
   "metadata": {},
   "outputs": [
    {
     "name": "stderr",
     "output_type": "stream",
     "text": [
      "Warning message in file(file, \"rt\"):\n",
      "“URL 'https://raw.githubusercontent.com/AtefOuni/ts/master/Data/Herald.dat': status was 'SSL peer certificate or SSH remote key was not OK'”\n"
     ]
    },
    {
     "ename": "ERROR",
     "evalue": "Error in file(file, \"rt\"): cannot open the connection to 'https://raw.githubusercontent.com/AtefOuni/ts/master/Data/Herald.dat'\n",
     "output_type": "error",
     "traceback": [
      "Error in file(file, \"rt\"): cannot open the connection to 'https://raw.githubusercontent.com/AtefOuni/ts/master/Data/Herald.dat'\nTraceback:\n",
      "1. read.table(www4, header = T)",
      "2. file(file, \"rt\")"
     ]
    }
   ],
   "source": [
    "www4 <- \"https://raw.githubusercontent.com/AtefOuni/ts/master/Data/Herald.dat\"\n",
    "Herald.dat <- read.table(www4, header = T)\n",
    "attach (Herald.dat)\n"
   ]
  },
  {
   "cell_type": "code",
   "execution_count": null,
   "metadata": {},
   "outputs": [],
   "source": []
  }
 ],
 "metadata": {
  "kernelspec": {
   "display_name": "R",
   "language": "R",
   "name": "ir"
  },
  "language_info": {
   "codemirror_mode": "r",
   "file_extension": ".r",
   "mimetype": "text/x-r-source",
   "name": "R",
   "pygments_lexer": "r",
   "version": "3.6.3"
  }
 },
 "nbformat": 4,
 "nbformat_minor": 4
}
