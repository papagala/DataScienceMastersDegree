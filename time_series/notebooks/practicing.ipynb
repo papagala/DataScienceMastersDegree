{
 "cells": [
  {
   "cell_type": "code",
   "execution_count": 3,
   "metadata": {},
   "outputs": [
    {
     "data": {
      "text/html": [
       "<table>\n",
       "<caption>A data.frame: 3 × 3</caption>\n",
       "<thead>\n",
       "\t<tr><th scope=col>nombre</th><th scope=col>ab</th><th scope=col>cd</th></tr>\n",
       "\t<tr><th scope=col>&lt;fct&gt;</th><th scope=col>&lt;int&gt;</th><th scope=col>&lt;int&gt;</th></tr>\n",
       "</thead>\n",
       "<tbody>\n",
       "\t<tr><td>Cecilia</td><td>1</td><td>3</td></tr>\n",
       "\t<tr><td>Olga   </td><td>2</td><td>4</td></tr>\n",
       "\t<tr><td>Beatriz</td><td>3</td><td>5</td></tr>\n",
       "</tbody>\n",
       "</table>\n"
      ],
      "text/latex": [
       "A data.frame: 3 × 3\n",
       "\\begin{tabular}{lll}\n",
       " nombre & ab & cd\\\\\n",
       " <fct> & <int> & <int>\\\\\n",
       "\\hline\n",
       "\t Cecilia & 1 & 3\\\\\n",
       "\t Olga    & 2 & 4\\\\\n",
       "\t Beatriz & 3 & 5\\\\\n",
       "\\end{tabular}\n"
      ],
      "text/markdown": [
       "\n",
       "A data.frame: 3 × 3\n",
       "\n",
       "| nombre &lt;fct&gt; | ab &lt;int&gt; | cd &lt;int&gt; |\n",
       "|---|---|---|\n",
       "| Cecilia | 1 | 3 |\n",
       "| Olga    | 2 | 4 |\n",
       "| Beatriz | 3 | 5 |\n",
       "\n"
      ],
      "text/plain": [
       "  nombre  ab cd\n",
       "1 Cecilia 1  3 \n",
       "2 Olga    2  4 \n",
       "3 Beatriz 3  5 "
      ]
     },
     "metadata": {},
     "output_type": "display_data"
    },
    {
     "data": {
      "text/html": [
       "Olga\n",
       "<details>\n",
       "\t<summary style=display:list-item;cursor:pointer>\n",
       "\t\t<strong>Levels</strong>:\n",
       "\t</summary>\n",
       "\t<style>\n",
       "\t.list-inline {list-style: none; margin:0; padding: 0}\n",
       "\t.list-inline>li {display: inline-block}\n",
       "\t.list-inline>li:not(:last-child)::after {content: \"\\00b7\"; padding: 0 .5ex}\n",
       "\t</style>\n",
       "\t<ol class=list-inline><li>'Beatriz'</li><li>'Cecilia'</li><li>'Olga'</li></ol>\n",
       "</details>"
      ],
      "text/latex": [
       "Olga\n",
       "\\emph{Levels}: \\begin{enumerate*}\n",
       "\\item 'Beatriz'\n",
       "\\item 'Cecilia'\n",
       "\\item 'Olga'\n",
       "\\end{enumerate*}\n"
      ],
      "text/markdown": [
       "Olga\n",
       "**Levels**: 1. 'Beatriz'\n",
       "2. 'Cecilia'\n",
       "3. 'Olga'\n",
       "\n",
       "\n"
      ],
      "text/plain": [
       "[1] Olga\n",
       "Levels: Beatriz Cecilia Olga"
      ]
     },
     "metadata": {},
     "output_type": "display_data"
    },
    {
     "data": {
      "text/html": [
       "Cecilia\n",
       "<details>\n",
       "\t<summary style=display:list-item;cursor:pointer>\n",
       "\t\t<strong>Levels</strong>:\n",
       "\t</summary>\n",
       "\t<style>\n",
       "\t.list-inline {list-style: none; margin:0; padding: 0}\n",
       "\t.list-inline>li {display: inline-block}\n",
       "\t.list-inline>li:not(:last-child)::after {content: \"\\00b7\"; padding: 0 .5ex}\n",
       "\t</style>\n",
       "\t<ol class=list-inline><li>'Beatriz'</li><li>'Cecilia'</li><li>'Olga'</li></ol>\n",
       "</details>"
      ],
      "text/latex": [
       "Cecilia\n",
       "\\emph{Levels}: \\begin{enumerate*}\n",
       "\\item 'Beatriz'\n",
       "\\item 'Cecilia'\n",
       "\\item 'Olga'\n",
       "\\end{enumerate*}\n"
      ],
      "text/markdown": [
       "Cecilia\n",
       "**Levels**: 1. 'Beatriz'\n",
       "2. 'Cecilia'\n",
       "3. 'Olga'\n",
       "\n",
       "\n"
      ],
      "text/plain": [
       "[1] Cecilia\n",
       "Levels: Beatriz Cecilia Olga"
      ]
     },
     "metadata": {},
     "output_type": "display_data"
    }
   ],
   "source": [
    "nombre = c(\"Cecilia\", \"Olga\", \"Beatriz\")\n",
    "ab = 1:3\n",
    "cd = 3:5\n",
    "# crear un data.frame\n",
    "(B = data.frame(nombre=nombre, ab=ab, cd=cd)) \n",
    "B$nombre[2] # Olga\n",
    "# crear un list con un data.frame incluı ́do\n",
    "R = list(B=B, ab=ab, cd=cd)\n",
    "R$B$nombre[1] # Cecilia"
   ]
  },
  {
   "cell_type": "code",
   "execution_count": 9,
   "metadata": {},
   "outputs": [
    {
     "data": {
      "text/html": [
       "<dl>\n",
       "\t<dt>$B</dt>\n",
       "\t\t<dd><table>\n",
       "<caption>A data.frame: 3 × 3</caption>\n",
       "<thead>\n",
       "\t<tr><th scope=col>nombre</th><th scope=col>ab</th><th scope=col>cd</th></tr>\n",
       "\t<tr><th scope=col>&lt;fct&gt;</th><th scope=col>&lt;int&gt;</th><th scope=col>&lt;int&gt;</th></tr>\n",
       "</thead>\n",
       "<tbody>\n",
       "\t<tr><td>Cecilia</td><td>1</td><td>3</td></tr>\n",
       "\t<tr><td>Olga   </td><td>2</td><td>4</td></tr>\n",
       "\t<tr><td>Beatriz</td><td>3</td><td>5</td></tr>\n",
       "</tbody>\n",
       "</table>\n",
       "</dd>\n",
       "\t<dt>$ab</dt>\n",
       "\t\t<dd><style>\n",
       ".list-inline {list-style: none; margin:0; padding: 0}\n",
       ".list-inline>li {display: inline-block}\n",
       ".list-inline>li:not(:last-child)::after {content: \"\\00b7\"; padding: 0 .5ex}\n",
       "</style>\n",
       "<ol class=list-inline><li>1</li><li>2</li><li>3</li></ol>\n",
       "</dd>\n",
       "\t<dt>$cd</dt>\n",
       "\t\t<dd><style>\n",
       ".list-inline {list-style: none; margin:0; padding: 0}\n",
       ".list-inline>li {display: inline-block}\n",
       ".list-inline>li:not(:last-child)::after {content: \"\\00b7\"; padding: 0 .5ex}\n",
       "</style>\n",
       "<ol class=list-inline><li>3</li><li>4</li><li>5</li></ol>\n",
       "</dd>\n",
       "</dl>\n"
      ],
      "text/latex": [
       "\\begin{description}\n",
       "\\item[\\$B] A data.frame: 3 × 3\n",
       "\\begin{tabular}{lll}\n",
       " nombre & ab & cd\\\\\n",
       " <fct> & <int> & <int>\\\\\n",
       "\\hline\n",
       "\t Cecilia & 1 & 3\\\\\n",
       "\t Olga    & 2 & 4\\\\\n",
       "\t Beatriz & 3 & 5\\\\\n",
       "\\end{tabular}\n",
       "\n",
       "\\item[\\$ab] \\begin{enumerate*}\n",
       "\\item 1\n",
       "\\item 2\n",
       "\\item 3\n",
       "\\end{enumerate*}\n",
       "\n",
       "\\item[\\$cd] \\begin{enumerate*}\n",
       "\\item 3\n",
       "\\item 4\n",
       "\\item 5\n",
       "\\end{enumerate*}\n",
       "\n",
       "\\end{description}\n"
      ],
      "text/markdown": [
       "$B\n",
       ":   \n",
       "A data.frame: 3 × 3\n",
       "\n",
       "| nombre &lt;fct&gt; | ab &lt;int&gt; | cd &lt;int&gt; |\n",
       "|---|---|---|\n",
       "| Cecilia | 1 | 3 |\n",
       "| Olga    | 2 | 4 |\n",
       "| Beatriz | 3 | 5 |\n",
       "\n",
       "\n",
       "$ab\n",
       ":   1. 1\n",
       "2. 2\n",
       "3. 3\n",
       "\n",
       "\n",
       "\n",
       "$cd\n",
       ":   1. 3\n",
       "2. 4\n",
       "3. 5\n",
       "\n",
       "\n",
       "\n",
       "\n",
       "\n"
      ],
      "text/plain": [
       "$B\n",
       "   nombre ab cd\n",
       "1 Cecilia  1  3\n",
       "2    Olga  2  4\n",
       "3 Beatriz  3  5\n",
       "\n",
       "$ab\n",
       "[1] 1 2 3\n",
       "\n",
       "$cd\n",
       "[1] 3 4 5\n"
      ]
     },
     "metadata": {},
     "output_type": "display_data"
    }
   ],
   "source": [
    "R"
   ]
  },
  {
   "cell_type": "code",
   "execution_count": 13,
   "metadata": {},
   "outputs": [
    {
     "name": "stderr",
     "output_type": "stream",
     "text": [
      "Warning message in file(file, \"rt\"):\n",
      "“URL 'http://www.unalmed.edu.co/ ̃ndgirald/ Datos/Datos%20curso%20Series%20II/fechaydatos.prn': status was 'Couldn't resolve host name'”\n"
     ]
    },
    {
     "ename": "ERROR",
     "evalue": "Error in file(file, \"rt\"): cannot open the connection to 'http://www.unalmed.edu.co/ ̃ndgirald/ Datos/Datos%20curso%20Series%20II/fechaydatos.prn'\n",
     "output_type": "error",
     "traceback": [
      "Error in file(file, \"rt\"): cannot open the connection to 'http://www.unalmed.edu.co/ ̃ndgirald/ Datos/Datos%20curso%20Series%20II/fechaydatos.prn'\nTraceback:\n",
      "1. read.table(archivo, header = TRUE, stringsAsFactors = FALSE)",
      "2. file(file, \"rt\")"
     ]
    }
   ],
   "source": [
    "archivo = \"http://www.unalmed.edu.co/ndgirald/ Datos/Datos%20curso%20Series%20II/fechaydatos.prn\"\n",
    "G = read.table(archivo, header = TRUE,stringsAsFactors=FALSE)\n",
    "attach(G)\n",
    "np = length(x)\n",
    "fechas = strptime(fecha, \"%d/%m/%y\")\n",
    "\n"
   ]
  },
  {
   "cell_type": "code",
   "execution_count": null,
   "metadata": {},
   "outputs": [],
   "source": [
    "plot(fechas,x, xaxt=\"n\", panel.first = grid(),type=’l’,ylab=’’) \n",
    "axis.POSIXct(1, at=seq(as.Date(fechas[1]),as.Date(fechas[np]), \"months\"), format=\"%m/%y\")\n",
    "axis.POSIXct(1, at=seq(as.Date(fechas[1]),as.Date(fechas[np]), \"years\"), labels = FALSE, tcl = -0.2)"
   ]
  },
  {
   "cell_type": "code",
   "execution_count": 16,
   "metadata": {},
   "outputs": [
    {
     "data": {
      "text/plain": [
       "\n",
       "Call:\n",
       "lm(formula = y ~ x1)\n",
       "\n",
       "Residuals:\n",
       "     Min       1Q   Median       3Q      Max \n",
       "-2.38373 -0.73315 -0.00743  0.77291  2.12550 \n",
       "\n",
       "Coefficients:\n",
       "            Estimate Std. Error t value Pr(>|t|)    \n",
       "(Intercept)   2.3778     0.8797   2.703  0.00947 ** \n",
       "x1            1.6979     0.1798   9.446 1.58e-12 ***\n",
       "---\n",
       "Signif. codes:  0 ‘***’ 0.001 ‘**’ 0.01 ‘*’ 0.05 ‘.’ 0.1 ‘ ’ 1\n",
       "\n",
       "Residual standard error: 1.113 on 48 degrees of freedom\n",
       "Multiple R-squared:  0.6502,\tAdjusted R-squared:  0.6429 \n",
       "F-statistic: 89.22 on 1 and 48 DF,  p-value: 1.584e-12\n"
      ]
     },
     "metadata": {},
     "output_type": "display_data"
    },
    {
     "name": "stdout",
     "output_type": "stream",
     "text": [
      "% latex table generated in R 3.6.3 by xtable 1.8-4 package\n",
      "% Sun Oct 18 20:38:19 2020\n",
      "\\begin{table}[ht]\n",
      "\\centering\n",
      "\\begin{tabular}{rrrrr}\n",
      "  \\hline\n",
      " & Estimate & Std. Error & t value & Pr($>$$|$t$|$) \\\\ \n",
      "  \\hline\n",
      "(Intercept) & 2.3778 & 0.8797 & 2.70 & 0.0095 \\\\ \n",
      "  x1 & 1.6979 & 0.1798 & 9.45 & 0.0000 \\\\ \n",
      "   \\hline\n",
      "\\end{tabular}\n",
      "\\end{table}\n"
     ]
    },
    {
     "data": {
      "text/plain": [
       "\n",
       "Call:\n",
       "lm(formula = y ~ x1 + x2)\n",
       "\n",
       "Residuals:\n",
       "     Min       1Q   Median       3Q      Max \n",
       "-1.89036 -0.67352 -0.05958  0.69110  2.06976 \n",
       "\n",
       "Coefficients:\n",
       "            Estimate Std. Error t value Pr(>|t|)    \n",
       "(Intercept)   0.4342     0.9094   0.477 0.635232    \n",
       "x1            1.4179     0.1719   8.247 1.09e-10 ***\n",
       "x2            0.6743     0.1688   3.993 0.000227 ***\n",
       "---\n",
       "Signif. codes:  0 ‘***’ 0.001 ‘**’ 0.01 ‘*’ 0.05 ‘.’ 0.1 ‘ ’ 1\n",
       "\n",
       "Residual standard error: 0.9722 on 47 degrees of freedom\n",
       "Multiple R-squared:  0.7388,\tAdjusted R-squared:  0.7277 \n",
       "F-statistic: 66.48 on 2 and 47 DF,  p-value: 1.987e-14\n"
      ]
     },
     "metadata": {},
     "output_type": "display_data"
    },
    {
     "name": "stdout",
     "output_type": "stream",
     "text": [
      "% latex table generated in R 3.6.3 by xtable 1.8-4 package\n",
      "% Sun Oct 18 20:38:19 2020\n",
      "\\begin{table}[ht]\n",
      "\\centering\n",
      "\\begin{tabular}{rrrrr}\n",
      "  \\hline\n",
      " & Estimate & Std. Error & t value & Pr($>$$|$t$|$) \\\\ \n",
      "  \\hline\n",
      "(Intercept) & 0.4342 & 0.9094 & 0.48 & 0.6352 \\\\ \n",
      "  x1 & 1.4179 & 0.1719 & 8.25 & 0.0000 \\\\ \n",
      "  x2 & 0.6743 & 0.1688 & 3.99 & 0.0002 \\\\ \n",
      "   \\hline\n",
      "\\end{tabular}\n",
      "\\end{table}\n"
     ]
    },
    {
     "data": {
      "text/plain": [
       "\n",
       "Call:\n",
       "lm(formula = y ~ -1 + x1 + x2)\n",
       "\n",
       "Residuals:\n",
       "    Min      1Q  Median      3Q     Max \n",
       "-1.8970 -0.6143 -0.0547  0.7504  2.1132 \n",
       "\n",
       "Coefficients:\n",
       "   Estimate Std. Error t value Pr(>|t|)    \n",
       "x1   1.4623     0.1435  10.192 1.36e-13 ***\n",
       "x2   0.7174     0.1415   5.071 6.33e-06 ***\n",
       "---\n",
       "Signif. codes:  0 ‘***’ 0.001 ‘**’ 0.01 ‘*’ 0.05 ‘.’ 0.1 ‘ ’ 1\n",
       "\n",
       "Residual standard error: 0.9644 on 48 degrees of freedom\n",
       "Multiple R-squared:  0.9922,\tAdjusted R-squared:  0.9919 \n",
       "F-statistic:  3061 on 2 and 48 DF,  p-value: < 2.2e-16\n"
      ]
     },
     "metadata": {},
     "output_type": "display_data"
    },
    {
     "name": "stdout",
     "output_type": "stream",
     "text": [
      "% latex table generated in R 3.6.3 by xtable 1.8-4 package\n",
      "% Sun Oct 18 20:38:19 2020\n",
      "\\begin{table}[ht]\n",
      "\\centering\n",
      "\\begin{tabular}{rrrrr}\n",
      "  \\hline\n",
      " & Estimate & Std. Error & t value & Pr($>$$|$t$|$) \\\\ \n",
      "  \\hline\n",
      "x1 & 1.4623 & 0.1435 & 10.19 & 0.0000 \\\\ \n",
      "  x2 & 0.7174 & 0.1415 & 5.07 & 0.0000 \\\\ \n",
      "   \\hline\n",
      "\\end{tabular}\n",
      "\\end{table}\n"
     ]
    }
   ],
   "source": [
    "#-------------------------------------------------------------- # programa en R\n",
    "library(xtable) # para reportar tablas en LaTex para informes library(fRegression) # para estadisticos especiales de regresion\n",
    "archivo = \"http://www.stat.umn.edu/geyer/5102/data/ex5-3.txt\" \n",
    "D = read.table(archivo,header=T)\n",
    "attach(D)\n",
    "m1 = lm(y ~ x1) \n",
    "summary(m1) \n",
    "print(xtable(m1),digits=4)\n",
    "m2= lm(y~x1+x2) \n",
    "summary(m2) \n",
    "print(xtable(m2),digits=4)\n",
    "m3= lm(y~-1+x1+x2) \n",
    "summary(m3) \n",
    "print(xtable(m3),digits=4)"
   ]
  },
  {
   "cell_type": "code",
   "execution_count": 17,
   "metadata": {},
   "outputs": [],
   "source": [
    "prueba.t2 = function(y1,y2){\n",
    "  n1 = length(y1)\n",
    "  n2 = length(y2)\n",
    "  yb1 = mean(y1)\n",
    "  yb2 = mean(y2)\n",
    "  s1 = var(y1)\n",
    "  s2 = var(y2)\n",
    "  s = ((n1-1)*s1 + (n2-2)*s2)/(n1 + n2 -2)\n",
    "  tst = (yb1 - yb2)/sqrt(s*(1/n1 + 1/n2))\n",
    "  return(tst)\n",
    "}\n"
   ]
  },
  {
   "cell_type": "code",
   "execution_count": 19,
   "metadata": {},
   "outputs": [
    {
     "name": "stderr",
     "output_type": "stream",
     "text": [
      "Warning message in file(file, \"rt\"):\n",
      "“cannot open file 'salarios.csv': No such file or directory”\n"
     ]
    },
    {
     "ename": "ERROR",
     "evalue": "Error in file(file, \"rt\"): cannot open the connection\n",
     "output_type": "error",
     "traceback": [
      "Error in file(file, \"rt\"): cannot open the connection\nTraceback:\n",
      "1. read.csv(\"salarios.csv\", header = TRUE)",
      "2. read.table(file = file, header = header, sep = sep, quote = quote, \n .     dec = dec, fill = fill, comment.char = comment.char, ...)",
      "3. file(file, \"rt\")"
     ]
    }
   ],
   "source": [
    "D <- read.csv(\"salarios.csv\", header = TRUE)\n",
    "class(D)\n",
    "D$edad\n",
    "\n"
   ]
  },
  {
   "cell_type": "code",
   "execution_count": 20,
   "metadata": {},
   "outputs": [
    {
     "data": {
      "text/html": [
       "<table>\n",
       "<caption>A data.frame: 3 × 3</caption>\n",
       "<thead>\n",
       "\t<tr><th scope=col>nombre</th><th scope=col>ab</th><th scope=col>cd</th></tr>\n",
       "\t<tr><th scope=col>&lt;fct&gt;</th><th scope=col>&lt;int&gt;</th><th scope=col>&lt;int&gt;</th></tr>\n",
       "</thead>\n",
       "<tbody>\n",
       "\t<tr><td>Cecilia</td><td>1</td><td>3</td></tr>\n",
       "\t<tr><td>Olga   </td><td>2</td><td>4</td></tr>\n",
       "\t<tr><td>Beatriz</td><td>3</td><td>5</td></tr>\n",
       "</tbody>\n",
       "</table>\n"
      ],
      "text/latex": [
       "A data.frame: 3 × 3\n",
       "\\begin{tabular}{lll}\n",
       " nombre & ab & cd\\\\\n",
       " <fct> & <int> & <int>\\\\\n",
       "\\hline\n",
       "\t Cecilia & 1 & 3\\\\\n",
       "\t Olga    & 2 & 4\\\\\n",
       "\t Beatriz & 3 & 5\\\\\n",
       "\\end{tabular}\n"
      ],
      "text/markdown": [
       "\n",
       "A data.frame: 3 × 3\n",
       "\n",
       "| nombre &lt;fct&gt; | ab &lt;int&gt; | cd &lt;int&gt; |\n",
       "|---|---|---|\n",
       "| Cecilia | 1 | 3 |\n",
       "| Olga    | 2 | 4 |\n",
       "| Beatriz | 3 | 5 |\n",
       "\n"
      ],
      "text/plain": [
       "  nombre  ab cd\n",
       "1 Cecilia 1  3 \n",
       "2 Olga    2  4 \n",
       "3 Beatriz 3  5 "
      ]
     },
     "metadata": {},
     "output_type": "display_data"
    },
    {
     "data": {
      "text/html": [
       "Olga\n",
       "<details>\n",
       "\t<summary style=display:list-item;cursor:pointer>\n",
       "\t\t<strong>Levels</strong>:\n",
       "\t</summary>\n",
       "\t<style>\n",
       "\t.list-inline {list-style: none; margin:0; padding: 0}\n",
       "\t.list-inline>li {display: inline-block}\n",
       "\t.list-inline>li:not(:last-child)::after {content: \"\\00b7\"; padding: 0 .5ex}\n",
       "\t</style>\n",
       "\t<ol class=list-inline><li>'Beatriz'</li><li>'Cecilia'</li><li>'Olga'</li></ol>\n",
       "</details>"
      ],
      "text/latex": [
       "Olga\n",
       "\\emph{Levels}: \\begin{enumerate*}\n",
       "\\item 'Beatriz'\n",
       "\\item 'Cecilia'\n",
       "\\item 'Olga'\n",
       "\\end{enumerate*}\n"
      ],
      "text/markdown": [
       "Olga\n",
       "**Levels**: 1. 'Beatriz'\n",
       "2. 'Cecilia'\n",
       "3. 'Olga'\n",
       "\n",
       "\n"
      ],
      "text/plain": [
       "[1] Olga\n",
       "Levels: Beatriz Cecilia Olga"
      ]
     },
     "metadata": {},
     "output_type": "display_data"
    },
    {
     "data": {
      "text/html": [
       "Cecilia\n",
       "<details>\n",
       "\t<summary style=display:list-item;cursor:pointer>\n",
       "\t\t<strong>Levels</strong>:\n",
       "\t</summary>\n",
       "\t<style>\n",
       "\t.list-inline {list-style: none; margin:0; padding: 0}\n",
       "\t.list-inline>li {display: inline-block}\n",
       "\t.list-inline>li:not(:last-child)::after {content: \"\\00b7\"; padding: 0 .5ex}\n",
       "\t</style>\n",
       "\t<ol class=list-inline><li>'Beatriz'</li><li>'Cecilia'</li><li>'Olga'</li></ol>\n",
       "</details>"
      ],
      "text/latex": [
       "Cecilia\n",
       "\\emph{Levels}: \\begin{enumerate*}\n",
       "\\item 'Beatriz'\n",
       "\\item 'Cecilia'\n",
       "\\item 'Olga'\n",
       "\\end{enumerate*}\n"
      ],
      "text/markdown": [
       "Cecilia\n",
       "**Levels**: 1. 'Beatriz'\n",
       "2. 'Cecilia'\n",
       "3. 'Olga'\n",
       "\n",
       "\n"
      ],
      "text/plain": [
       "[1] Cecilia\n",
       "Levels: Beatriz Cecilia Olga"
      ]
     },
     "metadata": {},
     "output_type": "display_data"
    }
   ],
   "source": [
    "nombre = c(\"Cecilia\", \"Olga\", \"Beatriz\")\n",
    "ab = 1:3\n",
    "cd = 3:5\n",
    "help(data.frame)\n",
    "# crear un data.frame\n",
    "(B = data.frame(nombre=nombre, ab=ab, cd=cd))\n",
    "# Acceder al segundo elemento de la columna nombre\n",
    "B$nombre[2] # Olga\n",
    "# crear un list con un data.frame incluído\n",
    "R = list(B=B, ab=ab, cd=cd)\n",
    "#Acceder al elemento B dentro de la lista y posteriormente al primer elemento\n",
    "# dentro de la columna nombre dentro del elemento B\n",
    "R$B$nombre[1] # Cecilia\n"
   ]
  },
  {
   "cell_type": "code",
   "execution_count": null,
   "metadata": {},
   "outputs": [],
   "source": []
  }
 ],
 "metadata": {
  "kernelspec": {
   "display_name": "R",
   "language": "R",
   "name": "ir"
  },
  "language_info": {
   "codemirror_mode": "r",
   "file_extension": ".r",
   "mimetype": "text/x-r-source",
   "name": "R",
   "pygments_lexer": "r",
   "version": "3.6.3"
  }
 },
 "nbformat": 4,
 "nbformat_minor": 4
}
