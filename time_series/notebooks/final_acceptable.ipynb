{
 "cells": [
  {
   "cell_type": "markdown",
   "metadata": {
    "colab_type": "text",
    "id": "mCOJwSTxfuMP"
   },
   "source": [
    "#  <span style=\"color:orange\">Final Project</span>"
   ]
  },
  {
   "cell_type": "code",
   "execution_count": 1,
   "metadata": {},
   "outputs": [
    {
     "data": {
      "text/plain": [
       "'2.2.1'"
      ]
     },
     "execution_count": 1,
     "metadata": {},
     "output_type": "execute_result"
    }
   ],
   "source": [
    "from pycaret.utils import version\n",
    "version()"
   ]
  },
  {
   "cell_type": "markdown",
   "metadata": {},
   "source": [
    "# 0.0 Configurar MLFlow"
   ]
  },
  {
   "cell_type": "code",
   "execution_count": 2,
   "metadata": {},
   "outputs": [],
   "source": [
    "import mlflow\n",
    "import os\n",
    "\n",
    "# you can set your tracking server URI programmatically:\n",
    "mlflow.set_tracking_uri('https://mlflow-aie3.ai.spglobal.com/')\n",
    "os.environ['MLFLOW_S3_ENDPOINT_URL'] = 'https://minio-aie3.ai.spglobal.com/'\n",
    "os.environ['LOGNAME'] = 'oswaldo'"
   ]
  },
  {
   "cell_type": "markdown",
   "metadata": {
    "colab_type": "text",
    "id": "e-NQVSpIfuMi"
   },
   "source": [
    "# 1.0 Importar datos de entrenamiento"
   ]
  },
  {
   "cell_type": "code",
   "execution_count": 3,
   "metadata": {
    "colab": {
     "base_uri": "https://localhost:8080/",
     "height": 204
    },
    "colab_type": "code",
    "id": "wEki9ZbCfuMm",
    "outputId": "edcba15b-233e-476c-d119-f9a07863f0df"
   },
   "outputs": [
    {
     "name": "stderr",
     "output_type": "stream",
     "text": [
      "/Users/oswaldo_gomez/Library/Caches/pypoetry/virtualenvs/time-series-CSagJmyP-py3.7/lib/python3.7/site-packages/ipykernel/ipkernel.py:287: DeprecationWarning: `should_run_async` will not call `transform_cell` automatically in the future. Please pass the result to `transformed_cell` argument and any exception that happen during thetransform in `preprocessing_exc_tuple` in IPython 7.17 and above.\n",
      "  and should_run_async(code)\n"
     ]
    }
   ],
   "source": [
    "import pandas as pd\n",
    "dataset = pd.read_csv(\"training5.csv\")"
   ]
  },
  {
   "cell_type": "code",
   "execution_count": 4,
   "metadata": {},
   "outputs": [],
   "source": [
    "dataset.dropna(inplace=True)"
   ]
  },
  {
   "cell_type": "code",
   "execution_count": 5,
   "metadata": {
    "colab": {
     "base_uri": "https://localhost:8080/",
     "height": 34
    },
    "colab_type": "code",
    "id": "mNFEXhMsfuMs",
    "outputId": "f5705470-be5f-429d-faea-6caa1f23ee1e"
   },
   "outputs": [
    {
     "name": "stderr",
     "output_type": "stream",
     "text": [
      "/Users/oswaldo_gomez/Library/Caches/pypoetry/virtualenvs/time-series-CSagJmyP-py3.7/lib/python3.7/site-packages/ipykernel/ipkernel.py:287: DeprecationWarning: `should_run_async` will not call `transform_cell` automatically in the future. Please pass the result to `transformed_cell` argument and any exception that happen during thetransform in `preprocessing_exc_tuple` in IPython 7.17 and above.\n",
      "  and should_run_async(code)\n"
     ]
    },
    {
     "data": {
      "text/plain": [
       "(82, 24)"
      ]
     },
     "execution_count": 5,
     "metadata": {},
     "output_type": "execute_result"
    }
   ],
   "source": [
    "#check the shape of data\n",
    "dataset.shape"
   ]
  },
  {
   "cell_type": "code",
   "execution_count": 6,
   "metadata": {},
   "outputs": [
    {
     "data": {
      "text/plain": [
       "count     82.000000\n",
       "mean     100.341463\n",
       "std       63.173916\n",
       "min       14.000000\n",
       "25%       44.250000\n",
       "50%       89.500000\n",
       "75%      148.750000\n",
       "max      278.000000\n",
       "Name: Points, dtype: float64"
      ]
     },
     "execution_count": 6,
     "metadata": {},
     "output_type": "execute_result"
    }
   ],
   "source": [
    "dataset['Points'].describe()"
   ]
  },
  {
   "cell_type": "code",
   "execution_count": 7,
   "metadata": {},
   "outputs": [
    {
     "data": {
      "text/plain": [
       "<AxesSubplot:>"
      ]
     },
     "execution_count": 7,
     "metadata": {},
     "output_type": "execute_result"
    },
    {
     "data": {
      "image/png": "[encoded data removed]",
      "text/plain": [
       "<Figure size 432x288 with 1 Axes>"
      ]
     },
     "metadata": {
      "needs_background": "light"
     },
     "output_type": "display_data"
    }
   ],
   "source": [
    "dataset.boxplot(column=['Points'])"
   ]
  },
  {
   "cell_type": "markdown",
   "metadata": {},
   "source": [
    "## Convertimos la columna de punto de numérica a categórica, con dos categorías. Bueno y Malo. \n",
    "\n",
    "### Malo se define entre el valor mínimo teórico y la media. Bueno es entre la media y el valor máximo observado"
   ]
  },
  {
   "cell_type": "code",
   "execution_count": 8,
   "metadata": {},
   "outputs": [
    {
     "name": "stderr",
     "output_type": "stream",
     "text": [
      "/Users/oswaldo_gomez/Library/Caches/pypoetry/virtualenvs/time-series-CSagJmyP-py3.7/lib/python3.7/site-packages/ipykernel/ipkernel.py:287: DeprecationWarning: `should_run_async` will not call `transform_cell` automatically in the future. Please pass the result to `transformed_cell` argument and any exception that happen during thetransform in `preprocessing_exc_tuple` in IPython 7.17 and above.\n",
      "  and should_run_async(code)\n"
     ]
    }
   ],
   "source": [
    "bins=[0,89,278]\n",
    "names=['Bad','Good']\n",
    "dataset['Points_range']=pd.cut(dataset['Points'],bins,labels=names)"
   ]
  },
  {
   "cell_type": "code",
   "execution_count": 9,
   "metadata": {},
   "outputs": [
    {
     "data": {
      "text/html": [
       "<div>\n",
       "<style scoped>\n",
       "    .dataframe tbody tr th:only-of-type {\n",
       "        vertical-align: middle;\n",
       "    }\n",
       "\n",
       "    .dataframe tbody tr th {\n",
       "        vertical-align: top;\n",
       "    }\n",
       "\n",
       "    .dataframe thead th {\n",
       "        text-align: right;\n",
       "    }\n",
       "</style>\n",
       "<table border=\"1\" class=\"dataframe\">\n",
       "  <thead>\n",
       "    <tr style=\"text-align: right;\">\n",
       "      <th></th>\n",
       "      <th>duration</th>\n",
       "      <th>key</th>\n",
       "      <th>loudness</th>\n",
       "      <th>mode</th>\n",
       "      <th>tempo</th>\n",
       "      <th>artist_hotttnesss</th>\n",
       "      <th>end_of_fade_in</th>\n",
       "      <th>start_of_fade_out</th>\n",
       "      <th>mode_confidence</th>\n",
       "      <th>key_confidence</th>\n",
       "      <th>...</th>\n",
       "      <th>energy</th>\n",
       "      <th>speechiness</th>\n",
       "      <th>acousticness</th>\n",
       "      <th>instrumentalness</th>\n",
       "      <th>liveness</th>\n",
       "      <th>valence</th>\n",
       "      <th>duration_ms</th>\n",
       "      <th>Points</th>\n",
       "      <th>Country</th>\n",
       "      <th>Points_range</th>\n",
       "    </tr>\n",
       "  </thead>\n",
       "  <tbody>\n",
       "    <tr>\n",
       "      <th>0</th>\n",
       "      <td>219.96263</td>\n",
       "      <td>7</td>\n",
       "      <td>-6.869</td>\n",
       "      <td>1</td>\n",
       "      <td>129.991</td>\n",
       "      <td>0.00</td>\n",
       "      <td>0.00000</td>\n",
       "      <td>207.69089</td>\n",
       "      <td>0.755</td>\n",
       "      <td>0.954</td>\n",
       "      <td>...</td>\n",
       "      <td>0.870</td>\n",
       "      <td>0.0456</td>\n",
       "      <td>0.000592</td>\n",
       "      <td>0.82700</td>\n",
       "      <td>0.1620</td>\n",
       "      <td>0.175</td>\n",
       "      <td>219963</td>\n",
       "      <td>45.0</td>\n",
       "      <td>Belgium</td>\n",
       "      <td>Bad</td>\n",
       "    </tr>\n",
       "    <tr>\n",
       "      <th>42</th>\n",
       "      <td>209.26694</td>\n",
       "      <td>1</td>\n",
       "      <td>-3.828</td>\n",
       "      <td>1</td>\n",
       "      <td>124.843</td>\n",
       "      <td>0.01</td>\n",
       "      <td>0.58054</td>\n",
       "      <td>204.60263</td>\n",
       "      <td>0.790</td>\n",
       "      <td>0.617</td>\n",
       "      <td>...</td>\n",
       "      <td>0.809</td>\n",
       "      <td>0.0384</td>\n",
       "      <td>0.546000</td>\n",
       "      <td>0.00000</td>\n",
       "      <td>0.1230</td>\n",
       "      <td>0.423</td>\n",
       "      <td>209267</td>\n",
       "      <td>34.0</td>\n",
       "      <td>Italy</td>\n",
       "      <td>Bad</td>\n",
       "    </tr>\n",
       "    <tr>\n",
       "      <th>43</th>\n",
       "      <td>173.46613</td>\n",
       "      <td>6</td>\n",
       "      <td>-5.819</td>\n",
       "      <td>1</td>\n",
       "      <td>139.682</td>\n",
       "      <td>0.29</td>\n",
       "      <td>0.00000</td>\n",
       "      <td>168.33305</td>\n",
       "      <td>0.678</td>\n",
       "      <td>0.742</td>\n",
       "      <td>...</td>\n",
       "      <td>0.529</td>\n",
       "      <td>0.0292</td>\n",
       "      <td>0.205000</td>\n",
       "      <td>0.00000</td>\n",
       "      <td>0.0927</td>\n",
       "      <td>0.386</td>\n",
       "      <td>173466</td>\n",
       "      <td>35.0</td>\n",
       "      <td>Netherlands</td>\n",
       "      <td>Bad</td>\n",
       "    </tr>\n",
       "    <tr>\n",
       "      <th>44</th>\n",
       "      <td>244.20000</td>\n",
       "      <td>10</td>\n",
       "      <td>-3.871</td>\n",
       "      <td>1</td>\n",
       "      <td>91.996</td>\n",
       "      <td>0.24</td>\n",
       "      <td>0.40685</td>\n",
       "      <td>240.97668</td>\n",
       "      <td>0.430</td>\n",
       "      <td>0.470</td>\n",
       "      <td>...</td>\n",
       "      <td>0.833</td>\n",
       "      <td>0.0310</td>\n",
       "      <td>0.076500</td>\n",
       "      <td>0.00000</td>\n",
       "      <td>0.2390</td>\n",
       "      <td>0.519</td>\n",
       "      <td>244200</td>\n",
       "      <td>64.0</td>\n",
       "      <td>Australia</td>\n",
       "      <td>Bad</td>\n",
       "    </tr>\n",
       "    <tr>\n",
       "      <th>45</th>\n",
       "      <td>179.00000</td>\n",
       "      <td>11</td>\n",
       "      <td>-7.907</td>\n",
       "      <td>0</td>\n",
       "      <td>86.175</td>\n",
       "      <td>0.01</td>\n",
       "      <td>0.45274</td>\n",
       "      <td>173.83038</td>\n",
       "      <td>0.718</td>\n",
       "      <td>0.659</td>\n",
       "      <td>...</td>\n",
       "      <td>0.442</td>\n",
       "      <td>0.0328</td>\n",
       "      <td>0.829000</td>\n",
       "      <td>0.00000</td>\n",
       "      <td>0.2460</td>\n",
       "      <td>0.130</td>\n",
       "      <td>179000</td>\n",
       "      <td>36.0</td>\n",
       "      <td>Ireland</td>\n",
       "      <td>Bad</td>\n",
       "    </tr>\n",
       "    <tr>\n",
       "      <th>...</th>\n",
       "      <td>...</td>\n",
       "      <td>...</td>\n",
       "      <td>...</td>\n",
       "      <td>...</td>\n",
       "      <td>...</td>\n",
       "      <td>...</td>\n",
       "      <td>...</td>\n",
       "      <td>...</td>\n",
       "      <td>...</td>\n",
       "      <td>...</td>\n",
       "      <td>...</td>\n",
       "      <td>...</td>\n",
       "      <td>...</td>\n",
       "      <td>...</td>\n",
       "      <td>...</td>\n",
       "      <td>...</td>\n",
       "      <td>...</td>\n",
       "      <td>...</td>\n",
       "      <td>...</td>\n",
       "      <td>...</td>\n",
       "      <td>...</td>\n",
       "    </tr>\n",
       "    <tr>\n",
       "      <th>59</th>\n",
       "      <td>182.95084</td>\n",
       "      <td>6</td>\n",
       "      <td>-6.376</td>\n",
       "      <td>1</td>\n",
       "      <td>121.963</td>\n",
       "      <td>0.20</td>\n",
       "      <td>3.54685</td>\n",
       "      <td>174.65470</td>\n",
       "      <td>0.510</td>\n",
       "      <td>0.594</td>\n",
       "      <td>...</td>\n",
       "      <td>0.692</td>\n",
       "      <td>0.0588</td>\n",
       "      <td>0.007530</td>\n",
       "      <td>0.00152</td>\n",
       "      <td>0.0301</td>\n",
       "      <td>0.574</td>\n",
       "      <td>182951</td>\n",
       "      <td>174.0</td>\n",
       "      <td>Netherlands</td>\n",
       "      <td>Good</td>\n",
       "    </tr>\n",
       "    <tr>\n",
       "      <th>33</th>\n",
       "      <td>178.68399</td>\n",
       "      <td>7</td>\n",
       "      <td>-4.987</td>\n",
       "      <td>1</td>\n",
       "      <td>149.505</td>\n",
       "      <td>0.04</td>\n",
       "      <td>0.00000</td>\n",
       "      <td>170.52734</td>\n",
       "      <td>0.423</td>\n",
       "      <td>0.429</td>\n",
       "      <td>...</td>\n",
       "      <td>0.415</td>\n",
       "      <td>0.0359</td>\n",
       "      <td>0.382000</td>\n",
       "      <td>0.00000</td>\n",
       "      <td>0.1100</td>\n",
       "      <td>0.182</td>\n",
       "      <td>178684</td>\n",
       "      <td>151.0</td>\n",
       "      <td>Italy</td>\n",
       "      <td>Good</td>\n",
       "    </tr>\n",
       "    <tr>\n",
       "      <th>62</th>\n",
       "      <td>175.50667</td>\n",
       "      <td>5</td>\n",
       "      <td>-4.531</td>\n",
       "      <td>1</td>\n",
       "      <td>144.989</td>\n",
       "      <td>0.13</td>\n",
       "      <td>0.09859</td>\n",
       "      <td>169.51727</td>\n",
       "      <td>0.406</td>\n",
       "      <td>0.405</td>\n",
       "      <td>...</td>\n",
       "      <td>0.911</td>\n",
       "      <td>0.0366</td>\n",
       "      <td>0.040700</td>\n",
       "      <td>0.00000</td>\n",
       "      <td>0.0839</td>\n",
       "      <td>0.834</td>\n",
       "      <td>175507</td>\n",
       "      <td>134.0</td>\n",
       "      <td>Croatia</td>\n",
       "      <td>Good</td>\n",
       "    </tr>\n",
       "    <tr>\n",
       "      <th>64</th>\n",
       "      <td>186.74667</td>\n",
       "      <td>7</td>\n",
       "      <td>-18.336</td>\n",
       "      <td>1</td>\n",
       "      <td>181.599</td>\n",
       "      <td>0.67</td>\n",
       "      <td>0.75456</td>\n",
       "      <td>178.16672</td>\n",
       "      <td>0.818</td>\n",
       "      <td>1.000</td>\n",
       "      <td>...</td>\n",
       "      <td>0.258</td>\n",
       "      <td>0.0605</td>\n",
       "      <td>0.361000</td>\n",
       "      <td>0.00000</td>\n",
       "      <td>0.0349</td>\n",
       "      <td>0.934</td>\n",
       "      <td>186747</td>\n",
       "      <td>125.0</td>\n",
       "      <td>Spain</td>\n",
       "      <td>Good</td>\n",
       "    </tr>\n",
       "    <tr>\n",
       "      <th>61</th>\n",
       "      <td>181.74525</td>\n",
       "      <td>10</td>\n",
       "      <td>-6.991</td>\n",
       "      <td>1</td>\n",
       "      <td>85.915</td>\n",
       "      <td>0.04</td>\n",
       "      <td>2.86186</td>\n",
       "      <td>176.55873</td>\n",
       "      <td>0.526</td>\n",
       "      <td>0.451</td>\n",
       "      <td>...</td>\n",
       "      <td>0.280</td>\n",
       "      <td>0.0313</td>\n",
       "      <td>0.615000</td>\n",
       "      <td>0.00000</td>\n",
       "      <td>0.1880</td>\n",
       "      <td>0.259</td>\n",
       "      <td>181745</td>\n",
       "      <td>239.0</td>\n",
       "      <td>Georgia</td>\n",
       "      <td>Good</td>\n",
       "    </tr>\n",
       "  </tbody>\n",
       "</table>\n",
       "<p>82 rows × 25 columns</p>\n",
       "</div>"
      ],
      "text/plain": [
       "     duration  key  loudness  mode    tempo  artist_hotttnesss  \\\n",
       "0   219.96263    7    -6.869     1  129.991               0.00   \n",
       "42  209.26694    1    -3.828     1  124.843               0.01   \n",
       "43  173.46613    6    -5.819     1  139.682               0.29   \n",
       "44  244.20000   10    -3.871     1   91.996               0.24   \n",
       "45  179.00000   11    -7.907     0   86.175               0.01   \n",
       "..        ...  ...       ...   ...      ...                ...   \n",
       "59  182.95084    6    -6.376     1  121.963               0.20   \n",
       "33  178.68399    7    -4.987     1  149.505               0.04   \n",
       "62  175.50667    5    -4.531     1  144.989               0.13   \n",
       "64  186.74667    7   -18.336     1  181.599               0.67   \n",
       "61  181.74525   10    -6.991     1   85.915               0.04   \n",
       "\n",
       "    end_of_fade_in  start_of_fade_out  mode_confidence  key_confidence  ...  \\\n",
       "0          0.00000          207.69089            0.755           0.954  ...   \n",
       "42         0.58054          204.60263            0.790           0.617  ...   \n",
       "43         0.00000          168.33305            0.678           0.742  ...   \n",
       "44         0.40685          240.97668            0.430           0.470  ...   \n",
       "45         0.45274          173.83038            0.718           0.659  ...   \n",
       "..             ...                ...              ...             ...  ...   \n",
       "59         3.54685          174.65470            0.510           0.594  ...   \n",
       "33         0.00000          170.52734            0.423           0.429  ...   \n",
       "62         0.09859          169.51727            0.406           0.405  ...   \n",
       "64         0.75456          178.16672            0.818           1.000  ...   \n",
       "61         2.86186          176.55873            0.526           0.451  ...   \n",
       "\n",
       "    energy  speechiness  acousticness  instrumentalness  liveness  valence  \\\n",
       "0    0.870       0.0456      0.000592           0.82700    0.1620    0.175   \n",
       "42   0.809       0.0384      0.546000           0.00000    0.1230    0.423   \n",
       "43   0.529       0.0292      0.205000           0.00000    0.0927    0.386   \n",
       "44   0.833       0.0310      0.076500           0.00000    0.2390    0.519   \n",
       "45   0.442       0.0328      0.829000           0.00000    0.2460    0.130   \n",
       "..     ...          ...           ...               ...       ...      ...   \n",
       "59   0.692       0.0588      0.007530           0.00152    0.0301    0.574   \n",
       "33   0.415       0.0359      0.382000           0.00000    0.1100    0.182   \n",
       "62   0.911       0.0366      0.040700           0.00000    0.0839    0.834   \n",
       "64   0.258       0.0605      0.361000           0.00000    0.0349    0.934   \n",
       "61   0.280       0.0313      0.615000           0.00000    0.1880    0.259   \n",
       "\n",
       "    duration_ms  Points       Country  Points_range  \n",
       "0        219963    45.0       Belgium           Bad  \n",
       "42       209267    34.0         Italy           Bad  \n",
       "43       173466    35.0   Netherlands           Bad  \n",
       "44       244200    64.0     Australia           Bad  \n",
       "45       179000    36.0       Ireland           Bad  \n",
       "..          ...     ...           ...           ...  \n",
       "59       182951   174.0   Netherlands          Good  \n",
       "33       178684   151.0         Italy          Good  \n",
       "62       175507   134.0       Croatia          Good  \n",
       "64       186747   125.0         Spain          Good  \n",
       "61       181745   239.0       Georgia          Good  \n",
       "\n",
       "[82 rows x 25 columns]"
      ]
     },
     "execution_count": 9,
     "metadata": {},
     "output_type": "execute_result"
    }
   ],
   "source": [
    "dataset.sort_values(by='Points_range')"
   ]
  },
  {
   "cell_type": "markdown",
   "metadata": {
    "colab_type": "text",
    "id": "QXG8qOz5fuM3"
   },
   "source": [
    "# 2.0 Vamos a comenzar el experimento, en donde sólo utilizaremos las columnas no ignoradas (precedidas por un #, por ejempo #year no es ignorada. O lo que es lo mismo, es considerada)\n",
    "\n",
    "## El objetivo es encontrar un modelo de aprendizaje automático que logre predecir la categoría de bueno/malo con base en año (categórico), bailable, energía y acustica de las canciones utilizando Spotify API get-audio-features y get-audio-analysis"
   ]
  },
  {
   "cell_type": "code",
   "execution_count": 10,
   "metadata": {
    "colab": {
     "base_uri": "https://localhost:8080/",
     "height": 956
    },
    "colab_type": "code",
    "id": "9PcuxLQSfuNC",
    "outputId": "68abc9ac-a0d2-4b33-f524-9cabd0256fcc",
    "scrolled": false
   },
   "outputs": [
    {
     "data": {
      "text/html": [
       "<style  type=\"text/css\" >\n",
       "#T_d8a2cb14_2abf_11eb_99ad_a683e74b8ce2row18_col1,#T_d8a2cb14_2abf_11eb_99ad_a683e74b8ce2row19_col1,#T_d8a2cb14_2abf_11eb_99ad_a683e74b8ce2row29_col1,#T_d8a2cb14_2abf_11eb_99ad_a683e74b8ce2row33_col1,#T_d8a2cb14_2abf_11eb_99ad_a683e74b8ce2row40_col1,#T_d8a2cb14_2abf_11eb_99ad_a683e74b8ce2row42_col1,#T_d8a2cb14_2abf_11eb_99ad_a683e74b8ce2row51_col1{\n",
       "            background-color:  lightgreen;\n",
       "        }</style><table id=\"T_d8a2cb14_2abf_11eb_99ad_a683e74b8ce2\" ><thead>    <tr>        <th class=\"blank level0\" ></th>        <th class=\"col_heading level0 col0\" >Description</th>        <th class=\"col_heading level0 col1\" >Value</th>    </tr></thead><tbody>\n",
       "                <tr>\n",
       "                        <th id=\"T_d8a2cb14_2abf_11eb_99ad_a683e74b8ce2level0_row0\" class=\"row_heading level0 row0\" >0</th>\n",
       "                        <td id=\"T_d8a2cb14_2abf_11eb_99ad_a683e74b8ce2row0_col0\" class=\"data row0 col0\" >session_id</td>\n",
       "                        <td id=\"T_d8a2cb14_2abf_11eb_99ad_a683e74b8ce2row0_col1\" class=\"data row0 col1\" >123</td>\n",
       "            </tr>\n",
       "            <tr>\n",
       "                        <th id=\"T_d8a2cb14_2abf_11eb_99ad_a683e74b8ce2level0_row1\" class=\"row_heading level0 row1\" >1</th>\n",
       "                        <td id=\"T_d8a2cb14_2abf_11eb_99ad_a683e74b8ce2row1_col0\" class=\"data row1 col0\" >Target</td>\n",
       "                        <td id=\"T_d8a2cb14_2abf_11eb_99ad_a683e74b8ce2row1_col1\" class=\"data row1 col1\" >Points_range</td>\n",
       "            </tr>\n",
       "            <tr>\n",
       "                        <th id=\"T_d8a2cb14_2abf_11eb_99ad_a683e74b8ce2level0_row2\" class=\"row_heading level0 row2\" >2</th>\n",
       "                        <td id=\"T_d8a2cb14_2abf_11eb_99ad_a683e74b8ce2row2_col0\" class=\"data row2 col0\" >Target Type</td>\n",
       "                        <td id=\"T_d8a2cb14_2abf_11eb_99ad_a683e74b8ce2row2_col1\" class=\"data row2 col1\" >Binary</td>\n",
       "            </tr>\n",
       "            <tr>\n",
       "                        <th id=\"T_d8a2cb14_2abf_11eb_99ad_a683e74b8ce2level0_row3\" class=\"row_heading level0 row3\" >3</th>\n",
       "                        <td id=\"T_d8a2cb14_2abf_11eb_99ad_a683e74b8ce2row3_col0\" class=\"data row3 col0\" >Label Encoded</td>\n",
       "                        <td id=\"T_d8a2cb14_2abf_11eb_99ad_a683e74b8ce2row3_col1\" class=\"data row3 col1\" >Bad: 0, Good: 1</td>\n",
       "            </tr>\n",
       "            <tr>\n",
       "                        <th id=\"T_d8a2cb14_2abf_11eb_99ad_a683e74b8ce2level0_row4\" class=\"row_heading level0 row4\" >4</th>\n",
       "                        <td id=\"T_d8a2cb14_2abf_11eb_99ad_a683e74b8ce2row4_col0\" class=\"data row4 col0\" >Original Data</td>\n",
       "                        <td id=\"T_d8a2cb14_2abf_11eb_99ad_a683e74b8ce2row4_col1\" class=\"data row4 col1\" >(82, 25)</td>\n",
       "            </tr>\n",
       "            <tr>\n",
       "                        <th id=\"T_d8a2cb14_2abf_11eb_99ad_a683e74b8ce2level0_row5\" class=\"row_heading level0 row5\" >5</th>\n",
       "                        <td id=\"T_d8a2cb14_2abf_11eb_99ad_a683e74b8ce2row5_col0\" class=\"data row5 col0\" >Missing Values</td>\n",
       "                        <td id=\"T_d8a2cb14_2abf_11eb_99ad_a683e74b8ce2row5_col1\" class=\"data row5 col1\" >False</td>\n",
       "            </tr>\n",
       "            <tr>\n",
       "                        <th id=\"T_d8a2cb14_2abf_11eb_99ad_a683e74b8ce2level0_row6\" class=\"row_heading level0 row6\" >6</th>\n",
       "                        <td id=\"T_d8a2cb14_2abf_11eb_99ad_a683e74b8ce2row6_col0\" class=\"data row6 col0\" >Numeric Features</td>\n",
       "                        <td id=\"T_d8a2cb14_2abf_11eb_99ad_a683e74b8ce2row6_col1\" class=\"data row6 col1\" >12</td>\n",
       "            </tr>\n",
       "            <tr>\n",
       "                        <th id=\"T_d8a2cb14_2abf_11eb_99ad_a683e74b8ce2level0_row7\" class=\"row_heading level0 row7\" >7</th>\n",
       "                        <td id=\"T_d8a2cb14_2abf_11eb_99ad_a683e74b8ce2row7_col0\" class=\"data row7 col0\" >Categorical Features</td>\n",
       "                        <td id=\"T_d8a2cb14_2abf_11eb_99ad_a683e74b8ce2row7_col1\" class=\"data row7 col1\" >2</td>\n",
       "            </tr>\n",
       "            <tr>\n",
       "                        <th id=\"T_d8a2cb14_2abf_11eb_99ad_a683e74b8ce2level0_row8\" class=\"row_heading level0 row8\" >8</th>\n",
       "                        <td id=\"T_d8a2cb14_2abf_11eb_99ad_a683e74b8ce2row8_col0\" class=\"data row8 col0\" >Ordinal Features</td>\n",
       "                        <td id=\"T_d8a2cb14_2abf_11eb_99ad_a683e74b8ce2row8_col1\" class=\"data row8 col1\" >False</td>\n",
       "            </tr>\n",
       "            <tr>\n",
       "                        <th id=\"T_d8a2cb14_2abf_11eb_99ad_a683e74b8ce2level0_row9\" class=\"row_heading level0 row9\" >9</th>\n",
       "                        <td id=\"T_d8a2cb14_2abf_11eb_99ad_a683e74b8ce2row9_col0\" class=\"data row9 col0\" >High Cardinality Features</td>\n",
       "                        <td id=\"T_d8a2cb14_2abf_11eb_99ad_a683e74b8ce2row9_col1\" class=\"data row9 col1\" >False</td>\n",
       "            </tr>\n",
       "            <tr>\n",
       "                        <th id=\"T_d8a2cb14_2abf_11eb_99ad_a683e74b8ce2level0_row10\" class=\"row_heading level0 row10\" >10</th>\n",
       "                        <td id=\"T_d8a2cb14_2abf_11eb_99ad_a683e74b8ce2row10_col0\" class=\"data row10 col0\" >High Cardinality Method</td>\n",
       "                        <td id=\"T_d8a2cb14_2abf_11eb_99ad_a683e74b8ce2row10_col1\" class=\"data row10 col1\" >None</td>\n",
       "            </tr>\n",
       "            <tr>\n",
       "                        <th id=\"T_d8a2cb14_2abf_11eb_99ad_a683e74b8ce2level0_row11\" class=\"row_heading level0 row11\" >11</th>\n",
       "                        <td id=\"T_d8a2cb14_2abf_11eb_99ad_a683e74b8ce2row11_col0\" class=\"data row11 col0\" >Transformed Train Set</td>\n",
       "                        <td id=\"T_d8a2cb14_2abf_11eb_99ad_a683e74b8ce2row11_col1\" class=\"data row11 col1\" >(54, 2)</td>\n",
       "            </tr>\n",
       "            <tr>\n",
       "                        <th id=\"T_d8a2cb14_2abf_11eb_99ad_a683e74b8ce2level0_row12\" class=\"row_heading level0 row12\" >12</th>\n",
       "                        <td id=\"T_d8a2cb14_2abf_11eb_99ad_a683e74b8ce2row12_col0\" class=\"data row12 col0\" >Transformed Test Set</td>\n",
       "                        <td id=\"T_d8a2cb14_2abf_11eb_99ad_a683e74b8ce2row12_col1\" class=\"data row12 col1\" >(25, 2)</td>\n",
       "            </tr>\n",
       "            <tr>\n",
       "                        <th id=\"T_d8a2cb14_2abf_11eb_99ad_a683e74b8ce2level0_row13\" class=\"row_heading level0 row13\" >13</th>\n",
       "                        <td id=\"T_d8a2cb14_2abf_11eb_99ad_a683e74b8ce2row13_col0\" class=\"data row13 col0\" >Shuffle Train-Test</td>\n",
       "                        <td id=\"T_d8a2cb14_2abf_11eb_99ad_a683e74b8ce2row13_col1\" class=\"data row13 col1\" >True</td>\n",
       "            </tr>\n",
       "            <tr>\n",
       "                        <th id=\"T_d8a2cb14_2abf_11eb_99ad_a683e74b8ce2level0_row14\" class=\"row_heading level0 row14\" >14</th>\n",
       "                        <td id=\"T_d8a2cb14_2abf_11eb_99ad_a683e74b8ce2row14_col0\" class=\"data row14 col0\" >Stratify Train-Test</td>\n",
       "                        <td id=\"T_d8a2cb14_2abf_11eb_99ad_a683e74b8ce2row14_col1\" class=\"data row14 col1\" >False</td>\n",
       "            </tr>\n",
       "            <tr>\n",
       "                        <th id=\"T_d8a2cb14_2abf_11eb_99ad_a683e74b8ce2level0_row15\" class=\"row_heading level0 row15\" >15</th>\n",
       "                        <td id=\"T_d8a2cb14_2abf_11eb_99ad_a683e74b8ce2row15_col0\" class=\"data row15 col0\" >Fold Generator</td>\n",
       "                        <td id=\"T_d8a2cb14_2abf_11eb_99ad_a683e74b8ce2row15_col1\" class=\"data row15 col1\" >StratifiedKFold</td>\n",
       "            </tr>\n",
       "            <tr>\n",
       "                        <th id=\"T_d8a2cb14_2abf_11eb_99ad_a683e74b8ce2level0_row16\" class=\"row_heading level0 row16\" >16</th>\n",
       "                        <td id=\"T_d8a2cb14_2abf_11eb_99ad_a683e74b8ce2row16_col0\" class=\"data row16 col0\" >Fold Number</td>\n",
       "                        <td id=\"T_d8a2cb14_2abf_11eb_99ad_a683e74b8ce2row16_col1\" class=\"data row16 col1\" >10</td>\n",
       "            </tr>\n",
       "            <tr>\n",
       "                        <th id=\"T_d8a2cb14_2abf_11eb_99ad_a683e74b8ce2level0_row17\" class=\"row_heading level0 row17\" >17</th>\n",
       "                        <td id=\"T_d8a2cb14_2abf_11eb_99ad_a683e74b8ce2row17_col0\" class=\"data row17 col0\" >CPU Jobs</td>\n",
       "                        <td id=\"T_d8a2cb14_2abf_11eb_99ad_a683e74b8ce2row17_col1\" class=\"data row17 col1\" >-1</td>\n",
       "            </tr>\n",
       "            <tr>\n",
       "                        <th id=\"T_d8a2cb14_2abf_11eb_99ad_a683e74b8ce2level0_row18\" class=\"row_heading level0 row18\" >18</th>\n",
       "                        <td id=\"T_d8a2cb14_2abf_11eb_99ad_a683e74b8ce2row18_col0\" class=\"data row18 col0\" >Use GPU</td>\n",
       "                        <td id=\"T_d8a2cb14_2abf_11eb_99ad_a683e74b8ce2row18_col1\" class=\"data row18 col1\" >True</td>\n",
       "            </tr>\n",
       "            <tr>\n",
       "                        <th id=\"T_d8a2cb14_2abf_11eb_99ad_a683e74b8ce2level0_row19\" class=\"row_heading level0 row19\" >19</th>\n",
       "                        <td id=\"T_d8a2cb14_2abf_11eb_99ad_a683e74b8ce2row19_col0\" class=\"data row19 col0\" >Log Experiment</td>\n",
       "                        <td id=\"T_d8a2cb14_2abf_11eb_99ad_a683e74b8ce2row19_col1\" class=\"data row19 col1\" >True</td>\n",
       "            </tr>\n",
       "            <tr>\n",
       "                        <th id=\"T_d8a2cb14_2abf_11eb_99ad_a683e74b8ce2level0_row20\" class=\"row_heading level0 row20\" >20</th>\n",
       "                        <td id=\"T_d8a2cb14_2abf_11eb_99ad_a683e74b8ce2row20_col0\" class=\"data row20 col0\" >Experiment Name</td>\n",
       "                        <td id=\"T_d8a2cb14_2abf_11eb_99ad_a683e74b8ce2row20_col1\" class=\"data row20 col1\" >Final_prediction_2</td>\n",
       "            </tr>\n",
       "            <tr>\n",
       "                        <th id=\"T_d8a2cb14_2abf_11eb_99ad_a683e74b8ce2level0_row21\" class=\"row_heading level0 row21\" >21</th>\n",
       "                        <td id=\"T_d8a2cb14_2abf_11eb_99ad_a683e74b8ce2row21_col0\" class=\"data row21 col0\" >USI</td>\n",
       "                        <td id=\"T_d8a2cb14_2abf_11eb_99ad_a683e74b8ce2row21_col1\" class=\"data row21 col1\" >ed52</td>\n",
       "            </tr>\n",
       "            <tr>\n",
       "                        <th id=\"T_d8a2cb14_2abf_11eb_99ad_a683e74b8ce2level0_row22\" class=\"row_heading level0 row22\" >22</th>\n",
       "                        <td id=\"T_d8a2cb14_2abf_11eb_99ad_a683e74b8ce2row22_col0\" class=\"data row22 col0\" >Imputation Type</td>\n",
       "                        <td id=\"T_d8a2cb14_2abf_11eb_99ad_a683e74b8ce2row22_col1\" class=\"data row22 col1\" >simple</td>\n",
       "            </tr>\n",
       "            <tr>\n",
       "                        <th id=\"T_d8a2cb14_2abf_11eb_99ad_a683e74b8ce2level0_row23\" class=\"row_heading level0 row23\" >23</th>\n",
       "                        <td id=\"T_d8a2cb14_2abf_11eb_99ad_a683e74b8ce2row23_col0\" class=\"data row23 col0\" >Iterative Imputation Iteration</td>\n",
       "                        <td id=\"T_d8a2cb14_2abf_11eb_99ad_a683e74b8ce2row23_col1\" class=\"data row23 col1\" >None</td>\n",
       "            </tr>\n",
       "            <tr>\n",
       "                        <th id=\"T_d8a2cb14_2abf_11eb_99ad_a683e74b8ce2level0_row24\" class=\"row_heading level0 row24\" >24</th>\n",
       "                        <td id=\"T_d8a2cb14_2abf_11eb_99ad_a683e74b8ce2row24_col0\" class=\"data row24 col0\" >Numeric Imputer</td>\n",
       "                        <td id=\"T_d8a2cb14_2abf_11eb_99ad_a683e74b8ce2row24_col1\" class=\"data row24 col1\" >mean</td>\n",
       "            </tr>\n",
       "            <tr>\n",
       "                        <th id=\"T_d8a2cb14_2abf_11eb_99ad_a683e74b8ce2level0_row25\" class=\"row_heading level0 row25\" >25</th>\n",
       "                        <td id=\"T_d8a2cb14_2abf_11eb_99ad_a683e74b8ce2row25_col0\" class=\"data row25 col0\" >Iterative Imputation Numeric Model</td>\n",
       "                        <td id=\"T_d8a2cb14_2abf_11eb_99ad_a683e74b8ce2row25_col1\" class=\"data row25 col1\" >None</td>\n",
       "            </tr>\n",
       "            <tr>\n",
       "                        <th id=\"T_d8a2cb14_2abf_11eb_99ad_a683e74b8ce2level0_row26\" class=\"row_heading level0 row26\" >26</th>\n",
       "                        <td id=\"T_d8a2cb14_2abf_11eb_99ad_a683e74b8ce2row26_col0\" class=\"data row26 col0\" >Categorical Imputer</td>\n",
       "                        <td id=\"T_d8a2cb14_2abf_11eb_99ad_a683e74b8ce2row26_col1\" class=\"data row26 col1\" >constant</td>\n",
       "            </tr>\n",
       "            <tr>\n",
       "                        <th id=\"T_d8a2cb14_2abf_11eb_99ad_a683e74b8ce2level0_row27\" class=\"row_heading level0 row27\" >27</th>\n",
       "                        <td id=\"T_d8a2cb14_2abf_11eb_99ad_a683e74b8ce2row27_col0\" class=\"data row27 col0\" >Iterative Imputation Categorical Model</td>\n",
       "                        <td id=\"T_d8a2cb14_2abf_11eb_99ad_a683e74b8ce2row27_col1\" class=\"data row27 col1\" >None</td>\n",
       "            </tr>\n",
       "            <tr>\n",
       "                        <th id=\"T_d8a2cb14_2abf_11eb_99ad_a683e74b8ce2level0_row28\" class=\"row_heading level0 row28\" >28</th>\n",
       "                        <td id=\"T_d8a2cb14_2abf_11eb_99ad_a683e74b8ce2row28_col0\" class=\"data row28 col0\" >Unknown Categoricals Handling</td>\n",
       "                        <td id=\"T_d8a2cb14_2abf_11eb_99ad_a683e74b8ce2row28_col1\" class=\"data row28 col1\" >least_frequent</td>\n",
       "            </tr>\n",
       "            <tr>\n",
       "                        <th id=\"T_d8a2cb14_2abf_11eb_99ad_a683e74b8ce2level0_row29\" class=\"row_heading level0 row29\" >29</th>\n",
       "                        <td id=\"T_d8a2cb14_2abf_11eb_99ad_a683e74b8ce2row29_col0\" class=\"data row29 col0\" >Normalize</td>\n",
       "                        <td id=\"T_d8a2cb14_2abf_11eb_99ad_a683e74b8ce2row29_col1\" class=\"data row29 col1\" >True</td>\n",
       "            </tr>\n",
       "            <tr>\n",
       "                        <th id=\"T_d8a2cb14_2abf_11eb_99ad_a683e74b8ce2level0_row30\" class=\"row_heading level0 row30\" >30</th>\n",
       "                        <td id=\"T_d8a2cb14_2abf_11eb_99ad_a683e74b8ce2row30_col0\" class=\"data row30 col0\" >Normalize Method</td>\n",
       "                        <td id=\"T_d8a2cb14_2abf_11eb_99ad_a683e74b8ce2row30_col1\" class=\"data row30 col1\" >zscore</td>\n",
       "            </tr>\n",
       "            <tr>\n",
       "                        <th id=\"T_d8a2cb14_2abf_11eb_99ad_a683e74b8ce2level0_row31\" class=\"row_heading level0 row31\" >31</th>\n",
       "                        <td id=\"T_d8a2cb14_2abf_11eb_99ad_a683e74b8ce2row31_col0\" class=\"data row31 col0\" >Transformation</td>\n",
       "                        <td id=\"T_d8a2cb14_2abf_11eb_99ad_a683e74b8ce2row31_col1\" class=\"data row31 col1\" >False</td>\n",
       "            </tr>\n",
       "            <tr>\n",
       "                        <th id=\"T_d8a2cb14_2abf_11eb_99ad_a683e74b8ce2level0_row32\" class=\"row_heading level0 row32\" >32</th>\n",
       "                        <td id=\"T_d8a2cb14_2abf_11eb_99ad_a683e74b8ce2row32_col0\" class=\"data row32 col0\" >Transformation Method</td>\n",
       "                        <td id=\"T_d8a2cb14_2abf_11eb_99ad_a683e74b8ce2row32_col1\" class=\"data row32 col1\" >None</td>\n",
       "            </tr>\n",
       "            <tr>\n",
       "                        <th id=\"T_d8a2cb14_2abf_11eb_99ad_a683e74b8ce2level0_row33\" class=\"row_heading level0 row33\" >33</th>\n",
       "                        <td id=\"T_d8a2cb14_2abf_11eb_99ad_a683e74b8ce2row33_col0\" class=\"data row33 col0\" >PCA</td>\n",
       "                        <td id=\"T_d8a2cb14_2abf_11eb_99ad_a683e74b8ce2row33_col1\" class=\"data row33 col1\" >True</td>\n",
       "            </tr>\n",
       "            <tr>\n",
       "                        <th id=\"T_d8a2cb14_2abf_11eb_99ad_a683e74b8ce2level0_row34\" class=\"row_heading level0 row34\" >34</th>\n",
       "                        <td id=\"T_d8a2cb14_2abf_11eb_99ad_a683e74b8ce2row34_col0\" class=\"data row34 col0\" >PCA Method</td>\n",
       "                        <td id=\"T_d8a2cb14_2abf_11eb_99ad_a683e74b8ce2row34_col1\" class=\"data row34 col1\" >linear</td>\n",
       "            </tr>\n",
       "            <tr>\n",
       "                        <th id=\"T_d8a2cb14_2abf_11eb_99ad_a683e74b8ce2level0_row35\" class=\"row_heading level0 row35\" >35</th>\n",
       "                        <td id=\"T_d8a2cb14_2abf_11eb_99ad_a683e74b8ce2row35_col0\" class=\"data row35 col0\" >PCA Components</td>\n",
       "                        <td id=\"T_d8a2cb14_2abf_11eb_99ad_a683e74b8ce2row35_col1\" class=\"data row35 col1\" >2</td>\n",
       "            </tr>\n",
       "            <tr>\n",
       "                        <th id=\"T_d8a2cb14_2abf_11eb_99ad_a683e74b8ce2level0_row36\" class=\"row_heading level0 row36\" >36</th>\n",
       "                        <td id=\"T_d8a2cb14_2abf_11eb_99ad_a683e74b8ce2row36_col0\" class=\"data row36 col0\" >Ignore Low Variance</td>\n",
       "                        <td id=\"T_d8a2cb14_2abf_11eb_99ad_a683e74b8ce2row36_col1\" class=\"data row36 col1\" >False</td>\n",
       "            </tr>\n",
       "            <tr>\n",
       "                        <th id=\"T_d8a2cb14_2abf_11eb_99ad_a683e74b8ce2level0_row37\" class=\"row_heading level0 row37\" >37</th>\n",
       "                        <td id=\"T_d8a2cb14_2abf_11eb_99ad_a683e74b8ce2row37_col0\" class=\"data row37 col0\" >Combine Rare Levels</td>\n",
       "                        <td id=\"T_d8a2cb14_2abf_11eb_99ad_a683e74b8ce2row37_col1\" class=\"data row37 col1\" >False</td>\n",
       "            </tr>\n",
       "            <tr>\n",
       "                        <th id=\"T_d8a2cb14_2abf_11eb_99ad_a683e74b8ce2level0_row38\" class=\"row_heading level0 row38\" >38</th>\n",
       "                        <td id=\"T_d8a2cb14_2abf_11eb_99ad_a683e74b8ce2row38_col0\" class=\"data row38 col0\" >Rare Level Threshold</td>\n",
       "                        <td id=\"T_d8a2cb14_2abf_11eb_99ad_a683e74b8ce2row38_col1\" class=\"data row38 col1\" >None</td>\n",
       "            </tr>\n",
       "            <tr>\n",
       "                        <th id=\"T_d8a2cb14_2abf_11eb_99ad_a683e74b8ce2level0_row39\" class=\"row_heading level0 row39\" >39</th>\n",
       "                        <td id=\"T_d8a2cb14_2abf_11eb_99ad_a683e74b8ce2row39_col0\" class=\"data row39 col0\" >Numeric Binning</td>\n",
       "                        <td id=\"T_d8a2cb14_2abf_11eb_99ad_a683e74b8ce2row39_col1\" class=\"data row39 col1\" >False</td>\n",
       "            </tr>\n",
       "            <tr>\n",
       "                        <th id=\"T_d8a2cb14_2abf_11eb_99ad_a683e74b8ce2level0_row40\" class=\"row_heading level0 row40\" >40</th>\n",
       "                        <td id=\"T_d8a2cb14_2abf_11eb_99ad_a683e74b8ce2row40_col0\" class=\"data row40 col0\" >Remove Outliers</td>\n",
       "                        <td id=\"T_d8a2cb14_2abf_11eb_99ad_a683e74b8ce2row40_col1\" class=\"data row40 col1\" >True</td>\n",
       "            </tr>\n",
       "            <tr>\n",
       "                        <th id=\"T_d8a2cb14_2abf_11eb_99ad_a683e74b8ce2level0_row41\" class=\"row_heading level0 row41\" >41</th>\n",
       "                        <td id=\"T_d8a2cb14_2abf_11eb_99ad_a683e74b8ce2row41_col0\" class=\"data row41 col0\" >Outliers Threshold</td>\n",
       "                        <td id=\"T_d8a2cb14_2abf_11eb_99ad_a683e74b8ce2row41_col1\" class=\"data row41 col1\" >0.050000</td>\n",
       "            </tr>\n",
       "            <tr>\n",
       "                        <th id=\"T_d8a2cb14_2abf_11eb_99ad_a683e74b8ce2level0_row42\" class=\"row_heading level0 row42\" >42</th>\n",
       "                        <td id=\"T_d8a2cb14_2abf_11eb_99ad_a683e74b8ce2row42_col0\" class=\"data row42 col0\" >Remove Multicollinearity</td>\n",
       "                        <td id=\"T_d8a2cb14_2abf_11eb_99ad_a683e74b8ce2row42_col1\" class=\"data row42 col1\" >True</td>\n",
       "            </tr>\n",
       "            <tr>\n",
       "                        <th id=\"T_d8a2cb14_2abf_11eb_99ad_a683e74b8ce2level0_row43\" class=\"row_heading level0 row43\" >43</th>\n",
       "                        <td id=\"T_d8a2cb14_2abf_11eb_99ad_a683e74b8ce2row43_col0\" class=\"data row43 col0\" >Multicollinearity Threshold</td>\n",
       "                        <td id=\"T_d8a2cb14_2abf_11eb_99ad_a683e74b8ce2row43_col1\" class=\"data row43 col1\" >0.900000</td>\n",
       "            </tr>\n",
       "            <tr>\n",
       "                        <th id=\"T_d8a2cb14_2abf_11eb_99ad_a683e74b8ce2level0_row44\" class=\"row_heading level0 row44\" >44</th>\n",
       "                        <td id=\"T_d8a2cb14_2abf_11eb_99ad_a683e74b8ce2row44_col0\" class=\"data row44 col0\" >Clustering</td>\n",
       "                        <td id=\"T_d8a2cb14_2abf_11eb_99ad_a683e74b8ce2row44_col1\" class=\"data row44 col1\" >False</td>\n",
       "            </tr>\n",
       "            <tr>\n",
       "                        <th id=\"T_d8a2cb14_2abf_11eb_99ad_a683e74b8ce2level0_row45\" class=\"row_heading level0 row45\" >45</th>\n",
       "                        <td id=\"T_d8a2cb14_2abf_11eb_99ad_a683e74b8ce2row45_col0\" class=\"data row45 col0\" >Clustering Iteration</td>\n",
       "                        <td id=\"T_d8a2cb14_2abf_11eb_99ad_a683e74b8ce2row45_col1\" class=\"data row45 col1\" >None</td>\n",
       "            </tr>\n",
       "            <tr>\n",
       "                        <th id=\"T_d8a2cb14_2abf_11eb_99ad_a683e74b8ce2level0_row46\" class=\"row_heading level0 row46\" >46</th>\n",
       "                        <td id=\"T_d8a2cb14_2abf_11eb_99ad_a683e74b8ce2row46_col0\" class=\"data row46 col0\" >Polynomial Features</td>\n",
       "                        <td id=\"T_d8a2cb14_2abf_11eb_99ad_a683e74b8ce2row46_col1\" class=\"data row46 col1\" >False</td>\n",
       "            </tr>\n",
       "            <tr>\n",
       "                        <th id=\"T_d8a2cb14_2abf_11eb_99ad_a683e74b8ce2level0_row47\" class=\"row_heading level0 row47\" >47</th>\n",
       "                        <td id=\"T_d8a2cb14_2abf_11eb_99ad_a683e74b8ce2row47_col0\" class=\"data row47 col0\" >Polynomial Degree</td>\n",
       "                        <td id=\"T_d8a2cb14_2abf_11eb_99ad_a683e74b8ce2row47_col1\" class=\"data row47 col1\" >None</td>\n",
       "            </tr>\n",
       "            <tr>\n",
       "                        <th id=\"T_d8a2cb14_2abf_11eb_99ad_a683e74b8ce2level0_row48\" class=\"row_heading level0 row48\" >48</th>\n",
       "                        <td id=\"T_d8a2cb14_2abf_11eb_99ad_a683e74b8ce2row48_col0\" class=\"data row48 col0\" >Trignometry Features</td>\n",
       "                        <td id=\"T_d8a2cb14_2abf_11eb_99ad_a683e74b8ce2row48_col1\" class=\"data row48 col1\" >False</td>\n",
       "            </tr>\n",
       "            <tr>\n",
       "                        <th id=\"T_d8a2cb14_2abf_11eb_99ad_a683e74b8ce2level0_row49\" class=\"row_heading level0 row49\" >49</th>\n",
       "                        <td id=\"T_d8a2cb14_2abf_11eb_99ad_a683e74b8ce2row49_col0\" class=\"data row49 col0\" >Polynomial Threshold</td>\n",
       "                        <td id=\"T_d8a2cb14_2abf_11eb_99ad_a683e74b8ce2row49_col1\" class=\"data row49 col1\" >None</td>\n",
       "            </tr>\n",
       "            <tr>\n",
       "                        <th id=\"T_d8a2cb14_2abf_11eb_99ad_a683e74b8ce2level0_row50\" class=\"row_heading level0 row50\" >50</th>\n",
       "                        <td id=\"T_d8a2cb14_2abf_11eb_99ad_a683e74b8ce2row50_col0\" class=\"data row50 col0\" >Group Features</td>\n",
       "                        <td id=\"T_d8a2cb14_2abf_11eb_99ad_a683e74b8ce2row50_col1\" class=\"data row50 col1\" >False</td>\n",
       "            </tr>\n",
       "            <tr>\n",
       "                        <th id=\"T_d8a2cb14_2abf_11eb_99ad_a683e74b8ce2level0_row51\" class=\"row_heading level0 row51\" >51</th>\n",
       "                        <td id=\"T_d8a2cb14_2abf_11eb_99ad_a683e74b8ce2row51_col0\" class=\"data row51 col0\" >Feature Selection</td>\n",
       "                        <td id=\"T_d8a2cb14_2abf_11eb_99ad_a683e74b8ce2row51_col1\" class=\"data row51 col1\" >True</td>\n",
       "            </tr>\n",
       "            <tr>\n",
       "                        <th id=\"T_d8a2cb14_2abf_11eb_99ad_a683e74b8ce2level0_row52\" class=\"row_heading level0 row52\" >52</th>\n",
       "                        <td id=\"T_d8a2cb14_2abf_11eb_99ad_a683e74b8ce2row52_col0\" class=\"data row52 col0\" >Features Selection Threshold</td>\n",
       "                        <td id=\"T_d8a2cb14_2abf_11eb_99ad_a683e74b8ce2row52_col1\" class=\"data row52 col1\" >0.800000</td>\n",
       "            </tr>\n",
       "            <tr>\n",
       "                        <th id=\"T_d8a2cb14_2abf_11eb_99ad_a683e74b8ce2level0_row53\" class=\"row_heading level0 row53\" >53</th>\n",
       "                        <td id=\"T_d8a2cb14_2abf_11eb_99ad_a683e74b8ce2row53_col0\" class=\"data row53 col0\" >Feature Interaction</td>\n",
       "                        <td id=\"T_d8a2cb14_2abf_11eb_99ad_a683e74b8ce2row53_col1\" class=\"data row53 col1\" >False</td>\n",
       "            </tr>\n",
       "            <tr>\n",
       "                        <th id=\"T_d8a2cb14_2abf_11eb_99ad_a683e74b8ce2level0_row54\" class=\"row_heading level0 row54\" >54</th>\n",
       "                        <td id=\"T_d8a2cb14_2abf_11eb_99ad_a683e74b8ce2row54_col0\" class=\"data row54 col0\" >Feature Ratio</td>\n",
       "                        <td id=\"T_d8a2cb14_2abf_11eb_99ad_a683e74b8ce2row54_col1\" class=\"data row54 col1\" >False</td>\n",
       "            </tr>\n",
       "            <tr>\n",
       "                        <th id=\"T_d8a2cb14_2abf_11eb_99ad_a683e74b8ce2level0_row55\" class=\"row_heading level0 row55\" >55</th>\n",
       "                        <td id=\"T_d8a2cb14_2abf_11eb_99ad_a683e74b8ce2row55_col0\" class=\"data row55 col0\" >Interaction Threshold</td>\n",
       "                        <td id=\"T_d8a2cb14_2abf_11eb_99ad_a683e74b8ce2row55_col1\" class=\"data row55 col1\" >None</td>\n",
       "            </tr>\n",
       "            <tr>\n",
       "                        <th id=\"T_d8a2cb14_2abf_11eb_99ad_a683e74b8ce2level0_row56\" class=\"row_heading level0 row56\" >56</th>\n",
       "                        <td id=\"T_d8a2cb14_2abf_11eb_99ad_a683e74b8ce2row56_col0\" class=\"data row56 col0\" >Fix Imbalance</td>\n",
       "                        <td id=\"T_d8a2cb14_2abf_11eb_99ad_a683e74b8ce2row56_col1\" class=\"data row56 col1\" >False</td>\n",
       "            </tr>\n",
       "            <tr>\n",
       "                        <th id=\"T_d8a2cb14_2abf_11eb_99ad_a683e74b8ce2level0_row57\" class=\"row_heading level0 row57\" >57</th>\n",
       "                        <td id=\"T_d8a2cb14_2abf_11eb_99ad_a683e74b8ce2row57_col0\" class=\"data row57 col0\" >Fix Imbalance Method</td>\n",
       "                        <td id=\"T_d8a2cb14_2abf_11eb_99ad_a683e74b8ce2row57_col1\" class=\"data row57 col1\" >SMOTE</td>\n",
       "            </tr>\n",
       "    </tbody></table>"
      ],
      "text/plain": [
       "<pandas.io.formats.style.Styler at 0x14613d2e8>"
      ]
     },
     "metadata": {},
     "output_type": "display_data"
    }
   ],
   "source": [
    "from pycaret.classification import *\n",
    "exp_mclf101 = setup(data = dataset,\n",
    "                    target = 'Points_range',\n",
    "                    session_id=123,\n",
    "                    # Todas las columnas que tienen un hash (#), serán incluidas para el análisis\n",
    "                    ignore_features=[#'duration',\n",
    "                                     #'key',\n",
    "                                     #'loudness',\n",
    "                                     #'mode',\n",
    "                                     #'tempo',\n",
    "                                     #'artist_hotttnesss',\n",
    "                                     'end_of_fade_in',\n",
    "                                     'start_of_fade_out',\n",
    "                                     'mode_confidence',                       \n",
    "                                     'key_confidence',\n",
    "                                     'time_signature',\n",
    "                                     'time_signature_confidence',\n",
    "                                     'year',\n",
    "                                     #'popularity', \n",
    "                                     #'danceability',\n",
    "                                     #'energy',\n",
    "                                     #'speechiness',\n",
    "                                     #'acousticness',\n",
    "                                     #'instrumentalness',\n",
    "                                     #'liveness',\n",
    "                                     #'valence',\n",
    "                                     'duration_ms',\n",
    "                                     'Points',\n",
    "                                     'Country',\n",
    "                                     #'Points_range',\n",
    "                                    ],\n",
    "                    log_experiment=True,\n",
    "                    experiment_name=\"Final_prediction_2\",\n",
    "                    log_plots=True,\n",
    "                    log_data=True,\n",
    "                    normalize=True,\n",
    "                    remove_multicollinearity=True,\n",
    "                    remove_outliers=True,\n",
    "                    train_size=0.7,\n",
    "                    feature_selection=True, \n",
    "                    pca=True,\n",
    "                    pca_components=2,\n",
    "                    profile=False,\n",
    "                    use_gpu=True) "
   ]
  },
  {
   "cell_type": "markdown",
   "metadata": {
    "colab_type": "text",
    "id": "i9ZvVSDYfuNL"
   },
   "source": [
    "# 3.0 Comparando múltiples modelos\n",
    "\n",
    "## Vamos a ordenarlos de mayor a menor precisión"
   ]
  },
  {
   "cell_type": "code",
   "execution_count": 11,
   "metadata": {
    "colab": {
     "base_uri": "https://localhost:8080/",
     "height": 355
    },
    "colab_type": "code",
    "id": "1wcMisYyfuNN",
    "outputId": "d3e16fbb-c33b-4bda-df3f-de2507f821c8",
    "scrolled": false
   },
   "outputs": [
    {
     "data": {
      "text/html": [
       "<style  type=\"text/css\" >\n",
       "    #T_719979b2_2ac0_11eb_99ad_a683e74b8ce2 th {\n",
       "          text-align: left;\n",
       "    }#T_719979b2_2ac0_11eb_99ad_a683e74b8ce2row0_col0,#T_719979b2_2ac0_11eb_99ad_a683e74b8ce2row0_col1,#T_719979b2_2ac0_11eb_99ad_a683e74b8ce2row0_col2,#T_719979b2_2ac0_11eb_99ad_a683e74b8ce2row0_col3,#T_719979b2_2ac0_11eb_99ad_a683e74b8ce2row0_col5,#T_719979b2_2ac0_11eb_99ad_a683e74b8ce2row0_col6,#T_719979b2_2ac0_11eb_99ad_a683e74b8ce2row0_col7,#T_719979b2_2ac0_11eb_99ad_a683e74b8ce2row1_col0,#T_719979b2_2ac0_11eb_99ad_a683e74b8ce2row1_col1,#T_719979b2_2ac0_11eb_99ad_a683e74b8ce2row1_col2,#T_719979b2_2ac0_11eb_99ad_a683e74b8ce2row1_col3,#T_719979b2_2ac0_11eb_99ad_a683e74b8ce2row1_col4,#T_719979b2_2ac0_11eb_99ad_a683e74b8ce2row1_col5,#T_719979b2_2ac0_11eb_99ad_a683e74b8ce2row1_col6,#T_719979b2_2ac0_11eb_99ad_a683e74b8ce2row1_col7,#T_719979b2_2ac0_11eb_99ad_a683e74b8ce2row2_col0,#T_719979b2_2ac0_11eb_99ad_a683e74b8ce2row2_col2,#T_719979b2_2ac0_11eb_99ad_a683e74b8ce2row2_col4,#T_719979b2_2ac0_11eb_99ad_a683e74b8ce2row3_col0,#T_719979b2_2ac0_11eb_99ad_a683e74b8ce2row3_col1,#T_719979b2_2ac0_11eb_99ad_a683e74b8ce2row3_col2,#T_719979b2_2ac0_11eb_99ad_a683e74b8ce2row3_col3,#T_719979b2_2ac0_11eb_99ad_a683e74b8ce2row3_col4,#T_719979b2_2ac0_11eb_99ad_a683e74b8ce2row3_col5,#T_719979b2_2ac0_11eb_99ad_a683e74b8ce2row3_col6,#T_719979b2_2ac0_11eb_99ad_a683e74b8ce2row3_col7,#T_719979b2_2ac0_11eb_99ad_a683e74b8ce2row4_col0,#T_719979b2_2ac0_11eb_99ad_a683e74b8ce2row4_col1,#T_719979b2_2ac0_11eb_99ad_a683e74b8ce2row4_col2,#T_719979b2_2ac0_11eb_99ad_a683e74b8ce2row4_col3,#T_719979b2_2ac0_11eb_99ad_a683e74b8ce2row4_col4,#T_719979b2_2ac0_11eb_99ad_a683e74b8ce2row4_col5,#T_719979b2_2ac0_11eb_99ad_a683e74b8ce2row4_col6,#T_719979b2_2ac0_11eb_99ad_a683e74b8ce2row4_col7,#T_719979b2_2ac0_11eb_99ad_a683e74b8ce2row5_col0,#T_719979b2_2ac0_11eb_99ad_a683e74b8ce2row5_col1,#T_719979b2_2ac0_11eb_99ad_a683e74b8ce2row5_col2,#T_719979b2_2ac0_11eb_99ad_a683e74b8ce2row5_col3,#T_719979b2_2ac0_11eb_99ad_a683e74b8ce2row5_col4,#T_719979b2_2ac0_11eb_99ad_a683e74b8ce2row5_col5,#T_719979b2_2ac0_11eb_99ad_a683e74b8ce2row5_col6,#T_719979b2_2ac0_11eb_99ad_a683e74b8ce2row5_col7,#T_719979b2_2ac0_11eb_99ad_a683e74b8ce2row6_col0,#T_719979b2_2ac0_11eb_99ad_a683e74b8ce2row6_col1,#T_719979b2_2ac0_11eb_99ad_a683e74b8ce2row6_col2,#T_719979b2_2ac0_11eb_99ad_a683e74b8ce2row6_col3,#T_719979b2_2ac0_11eb_99ad_a683e74b8ce2row6_col4,#T_719979b2_2ac0_11eb_99ad_a683e74b8ce2row6_col5,#T_719979b2_2ac0_11eb_99ad_a683e74b8ce2row6_col6,#T_719979b2_2ac0_11eb_99ad_a683e74b8ce2row6_col7,#T_719979b2_2ac0_11eb_99ad_a683e74b8ce2row7_col0,#T_719979b2_2ac0_11eb_99ad_a683e74b8ce2row7_col1,#T_719979b2_2ac0_11eb_99ad_a683e74b8ce2row7_col3,#T_719979b2_2ac0_11eb_99ad_a683e74b8ce2row7_col4,#T_719979b2_2ac0_11eb_99ad_a683e74b8ce2row7_col5,#T_719979b2_2ac0_11eb_99ad_a683e74b8ce2row7_col6,#T_719979b2_2ac0_11eb_99ad_a683e74b8ce2row7_col7,#T_719979b2_2ac0_11eb_99ad_a683e74b8ce2row8_col0,#T_719979b2_2ac0_11eb_99ad_a683e74b8ce2row8_col1,#T_719979b2_2ac0_11eb_99ad_a683e74b8ce2row8_col2,#T_719979b2_2ac0_11eb_99ad_a683e74b8ce2row8_col3,#T_719979b2_2ac0_11eb_99ad_a683e74b8ce2row8_col4,#T_719979b2_2ac0_11eb_99ad_a683e74b8ce2row8_col5,#T_719979b2_2ac0_11eb_99ad_a683e74b8ce2row8_col6,#T_719979b2_2ac0_11eb_99ad_a683e74b8ce2row8_col7,#T_719979b2_2ac0_11eb_99ad_a683e74b8ce2row9_col0,#T_719979b2_2ac0_11eb_99ad_a683e74b8ce2row9_col1,#T_719979b2_2ac0_11eb_99ad_a683e74b8ce2row9_col2,#T_719979b2_2ac0_11eb_99ad_a683e74b8ce2row9_col3,#T_719979b2_2ac0_11eb_99ad_a683e74b8ce2row9_col4,#T_719979b2_2ac0_11eb_99ad_a683e74b8ce2row9_col5,#T_719979b2_2ac0_11eb_99ad_a683e74b8ce2row9_col6,#T_719979b2_2ac0_11eb_99ad_a683e74b8ce2row9_col7,#T_719979b2_2ac0_11eb_99ad_a683e74b8ce2row10_col0,#T_719979b2_2ac0_11eb_99ad_a683e74b8ce2row10_col1,#T_719979b2_2ac0_11eb_99ad_a683e74b8ce2row10_col2,#T_719979b2_2ac0_11eb_99ad_a683e74b8ce2row10_col4,#T_719979b2_2ac0_11eb_99ad_a683e74b8ce2row10_col5,#T_719979b2_2ac0_11eb_99ad_a683e74b8ce2row10_col6,#T_719979b2_2ac0_11eb_99ad_a683e74b8ce2row10_col7,#T_719979b2_2ac0_11eb_99ad_a683e74b8ce2row11_col0,#T_719979b2_2ac0_11eb_99ad_a683e74b8ce2row11_col1,#T_719979b2_2ac0_11eb_99ad_a683e74b8ce2row11_col2,#T_719979b2_2ac0_11eb_99ad_a683e74b8ce2row11_col3,#T_719979b2_2ac0_11eb_99ad_a683e74b8ce2row11_col4,#T_719979b2_2ac0_11eb_99ad_a683e74b8ce2row11_col5,#T_719979b2_2ac0_11eb_99ad_a683e74b8ce2row11_col6,#T_719979b2_2ac0_11eb_99ad_a683e74b8ce2row11_col7,#T_719979b2_2ac0_11eb_99ad_a683e74b8ce2row12_col0,#T_719979b2_2ac0_11eb_99ad_a683e74b8ce2row12_col1,#T_719979b2_2ac0_11eb_99ad_a683e74b8ce2row12_col2,#T_719979b2_2ac0_11eb_99ad_a683e74b8ce2row12_col3,#T_719979b2_2ac0_11eb_99ad_a683e74b8ce2row12_col4,#T_719979b2_2ac0_11eb_99ad_a683e74b8ce2row12_col5,#T_719979b2_2ac0_11eb_99ad_a683e74b8ce2row12_col6,#T_719979b2_2ac0_11eb_99ad_a683e74b8ce2row12_col7,#T_719979b2_2ac0_11eb_99ad_a683e74b8ce2row13_col0,#T_719979b2_2ac0_11eb_99ad_a683e74b8ce2row13_col1,#T_719979b2_2ac0_11eb_99ad_a683e74b8ce2row13_col2,#T_719979b2_2ac0_11eb_99ad_a683e74b8ce2row13_col3,#T_719979b2_2ac0_11eb_99ad_a683e74b8ce2row13_col4,#T_719979b2_2ac0_11eb_99ad_a683e74b8ce2row13_col5,#T_719979b2_2ac0_11eb_99ad_a683e74b8ce2row13_col6,#T_719979b2_2ac0_11eb_99ad_a683e74b8ce2row13_col7,#T_719979b2_2ac0_11eb_99ad_a683e74b8ce2row14_col0,#T_719979b2_2ac0_11eb_99ad_a683e74b8ce2row14_col1,#T_719979b2_2ac0_11eb_99ad_a683e74b8ce2row14_col2,#T_719979b2_2ac0_11eb_99ad_a683e74b8ce2row14_col3,#T_719979b2_2ac0_11eb_99ad_a683e74b8ce2row14_col4,#T_719979b2_2ac0_11eb_99ad_a683e74b8ce2row14_col5,#T_719979b2_2ac0_11eb_99ad_a683e74b8ce2row14_col6,#T_719979b2_2ac0_11eb_99ad_a683e74b8ce2row14_col7{\n",
       "            text-align:  left;\n",
       "            text-align:  left;\n",
       "        }#T_719979b2_2ac0_11eb_99ad_a683e74b8ce2row0_col4,#T_719979b2_2ac0_11eb_99ad_a683e74b8ce2row2_col1,#T_719979b2_2ac0_11eb_99ad_a683e74b8ce2row2_col3,#T_719979b2_2ac0_11eb_99ad_a683e74b8ce2row2_col5,#T_719979b2_2ac0_11eb_99ad_a683e74b8ce2row2_col6,#T_719979b2_2ac0_11eb_99ad_a683e74b8ce2row2_col7,#T_719979b2_2ac0_11eb_99ad_a683e74b8ce2row7_col2,#T_719979b2_2ac0_11eb_99ad_a683e74b8ce2row10_col3{\n",
       "            text-align:  left;\n",
       "            text-align:  left;\n",
       "            background-color:  yellow;\n",
       "        }#T_719979b2_2ac0_11eb_99ad_a683e74b8ce2row0_col8,#T_719979b2_2ac0_11eb_99ad_a683e74b8ce2row1_col8,#T_719979b2_2ac0_11eb_99ad_a683e74b8ce2row2_col8,#T_719979b2_2ac0_11eb_99ad_a683e74b8ce2row3_col8,#T_719979b2_2ac0_11eb_99ad_a683e74b8ce2row4_col8,#T_719979b2_2ac0_11eb_99ad_a683e74b8ce2row5_col8,#T_719979b2_2ac0_11eb_99ad_a683e74b8ce2row6_col8,#T_719979b2_2ac0_11eb_99ad_a683e74b8ce2row7_col8,#T_719979b2_2ac0_11eb_99ad_a683e74b8ce2row8_col8,#T_719979b2_2ac0_11eb_99ad_a683e74b8ce2row9_col8,#T_719979b2_2ac0_11eb_99ad_a683e74b8ce2row10_col8,#T_719979b2_2ac0_11eb_99ad_a683e74b8ce2row11_col8,#T_719979b2_2ac0_11eb_99ad_a683e74b8ce2row12_col8,#T_719979b2_2ac0_11eb_99ad_a683e74b8ce2row13_col8{\n",
       "            text-align:  left;\n",
       "            text-align:  left;\n",
       "            background-color:  lightgrey;\n",
       "        }#T_719979b2_2ac0_11eb_99ad_a683e74b8ce2row14_col8{\n",
       "            text-align:  left;\n",
       "            text-align:  left;\n",
       "            background-color:  yellow;\n",
       "            background-color:  lightgrey;\n",
       "        }</style><table id=\"T_719979b2_2ac0_11eb_99ad_a683e74b8ce2\" ><thead>    <tr>        <th class=\"blank level0\" ></th>        <th class=\"col_heading level0 col0\" >Model</th>        <th class=\"col_heading level0 col1\" >Accuracy</th>        <th class=\"col_heading level0 col2\" >AUC</th>        <th class=\"col_heading level0 col3\" >Recall</th>        <th class=\"col_heading level0 col4\" >Prec.</th>        <th class=\"col_heading level0 col5\" >F1</th>        <th class=\"col_heading level0 col6\" >Kappa</th>        <th class=\"col_heading level0 col7\" >MCC</th>        <th class=\"col_heading level0 col8\" >TT (Sec)</th>    </tr></thead><tbody>\n",
       "                <tr>\n",
       "                        <th id=\"T_719979b2_2ac0_11eb_99ad_a683e74b8ce2level0_row0\" class=\"row_heading level0 row0\" >catboost</th>\n",
       "                        <td id=\"T_719979b2_2ac0_11eb_99ad_a683e74b8ce2row0_col0\" class=\"data row0 col0\" >CatBoost Classifier</td>\n",
       "                        <td id=\"T_719979b2_2ac0_11eb_99ad_a683e74b8ce2row0_col1\" class=\"data row0 col1\" >0.6100</td>\n",
       "                        <td id=\"T_719979b2_2ac0_11eb_99ad_a683e74b8ce2row0_col2\" class=\"data row0 col2\" >0.6111</td>\n",
       "                        <td id=\"T_719979b2_2ac0_11eb_99ad_a683e74b8ce2row0_col3\" class=\"data row0 col3\" >0.6000</td>\n",
       "                        <td id=\"T_719979b2_2ac0_11eb_99ad_a683e74b8ce2row0_col4\" class=\"data row0 col4\" >0.7167</td>\n",
       "                        <td id=\"T_719979b2_2ac0_11eb_99ad_a683e74b8ce2row0_col5\" class=\"data row0 col5\" >0.6176</td>\n",
       "                        <td id=\"T_719979b2_2ac0_11eb_99ad_a683e74b8ce2row0_col6\" class=\"data row0 col6\" >0.2166</td>\n",
       "                        <td id=\"T_719979b2_2ac0_11eb_99ad_a683e74b8ce2row0_col7\" class=\"data row0 col7\" >0.2488</td>\n",
       "                        <td id=\"T_719979b2_2ac0_11eb_99ad_a683e74b8ce2row0_col8\" class=\"data row0 col8\" >3.5940</td>\n",
       "            </tr>\n",
       "            <tr>\n",
       "                        <th id=\"T_719979b2_2ac0_11eb_99ad_a683e74b8ce2level0_row1\" class=\"row_heading level0 row1\" >knn</th>\n",
       "                        <td id=\"T_719979b2_2ac0_11eb_99ad_a683e74b8ce2row1_col0\" class=\"data row1 col0\" >K Neighbors Classifier</td>\n",
       "                        <td id=\"T_719979b2_2ac0_11eb_99ad_a683e74b8ce2row1_col1\" class=\"data row1 col1\" >0.6133</td>\n",
       "                        <td id=\"T_719979b2_2ac0_11eb_99ad_a683e74b8ce2row1_col2\" class=\"data row1 col2\" >0.6361</td>\n",
       "                        <td id=\"T_719979b2_2ac0_11eb_99ad_a683e74b8ce2row1_col3\" class=\"data row1 col3\" >0.5667</td>\n",
       "                        <td id=\"T_719979b2_2ac0_11eb_99ad_a683e74b8ce2row1_col4\" class=\"data row1 col4\" >0.7000</td>\n",
       "                        <td id=\"T_719979b2_2ac0_11eb_99ad_a683e74b8ce2row1_col5\" class=\"data row1 col5\" >0.6100</td>\n",
       "                        <td id=\"T_719979b2_2ac0_11eb_99ad_a683e74b8ce2row1_col6\" class=\"data row1 col6\" >0.2308</td>\n",
       "                        <td id=\"T_719979b2_2ac0_11eb_99ad_a683e74b8ce2row1_col7\" class=\"data row1 col7\" >0.2447</td>\n",
       "                        <td id=\"T_719979b2_2ac0_11eb_99ad_a683e74b8ce2row1_col8\" class=\"data row1 col8\" >0.5880</td>\n",
       "            </tr>\n",
       "            <tr>\n",
       "                        <th id=\"T_719979b2_2ac0_11eb_99ad_a683e74b8ce2level0_row2\" class=\"row_heading level0 row2\" >lr</th>\n",
       "                        <td id=\"T_719979b2_2ac0_11eb_99ad_a683e74b8ce2row2_col0\" class=\"data row2 col0\" >Logistic Regression</td>\n",
       "                        <td id=\"T_719979b2_2ac0_11eb_99ad_a683e74b8ce2row2_col1\" class=\"data row2 col1\" >0.6500</td>\n",
       "                        <td id=\"T_719979b2_2ac0_11eb_99ad_a683e74b8ce2row2_col2\" class=\"data row2 col2\" >0.6444</td>\n",
       "                        <td id=\"T_719979b2_2ac0_11eb_99ad_a683e74b8ce2row2_col3\" class=\"data row2 col3\" >0.7000</td>\n",
       "                        <td id=\"T_719979b2_2ac0_11eb_99ad_a683e74b8ce2row2_col4\" class=\"data row2 col4\" >0.6667</td>\n",
       "                        <td id=\"T_719979b2_2ac0_11eb_99ad_a683e74b8ce2row2_col5\" class=\"data row2 col5\" >0.6714</td>\n",
       "                        <td id=\"T_719979b2_2ac0_11eb_99ad_a683e74b8ce2row2_col6\" class=\"data row2 col6\" >0.2828</td>\n",
       "                        <td id=\"T_719979b2_2ac0_11eb_99ad_a683e74b8ce2row2_col7\" class=\"data row2 col7\" >0.3027</td>\n",
       "                        <td id=\"T_719979b2_2ac0_11eb_99ad_a683e74b8ce2row2_col8\" class=\"data row2 col8\" >0.0200</td>\n",
       "            </tr>\n",
       "            <tr>\n",
       "                        <th id=\"T_719979b2_2ac0_11eb_99ad_a683e74b8ce2level0_row3\" class=\"row_heading level0 row3\" >rf</th>\n",
       "                        <td id=\"T_719979b2_2ac0_11eb_99ad_a683e74b8ce2row3_col0\" class=\"data row3 col0\" >Random Forest Classifier</td>\n",
       "                        <td id=\"T_719979b2_2ac0_11eb_99ad_a683e74b8ce2row3_col1\" class=\"data row3 col1\" >0.5900</td>\n",
       "                        <td id=\"T_719979b2_2ac0_11eb_99ad_a683e74b8ce2row3_col2\" class=\"data row3 col2\" >0.5694</td>\n",
       "                        <td id=\"T_719979b2_2ac0_11eb_99ad_a683e74b8ce2row3_col3\" class=\"data row3 col3\" >0.6000</td>\n",
       "                        <td id=\"T_719979b2_2ac0_11eb_99ad_a683e74b8ce2row3_col4\" class=\"data row3 col4\" >0.6583</td>\n",
       "                        <td id=\"T_719979b2_2ac0_11eb_99ad_a683e74b8ce2row3_col5\" class=\"data row3 col5\" >0.5957</td>\n",
       "                        <td id=\"T_719979b2_2ac0_11eb_99ad_a683e74b8ce2row3_col6\" class=\"data row3 col6\" >0.1857</td>\n",
       "                        <td id=\"T_719979b2_2ac0_11eb_99ad_a683e74b8ce2row3_col7\" class=\"data row3 col7\" >0.2175</td>\n",
       "                        <td id=\"T_719979b2_2ac0_11eb_99ad_a683e74b8ce2row3_col8\" class=\"data row3 col8\" >1.1100</td>\n",
       "            </tr>\n",
       "            <tr>\n",
       "                        <th id=\"T_719979b2_2ac0_11eb_99ad_a683e74b8ce2level0_row4\" class=\"row_heading level0 row4\" >ridge</th>\n",
       "                        <td id=\"T_719979b2_2ac0_11eb_99ad_a683e74b8ce2row4_col0\" class=\"data row4 col0\" >Ridge Classifier</td>\n",
       "                        <td id=\"T_719979b2_2ac0_11eb_99ad_a683e74b8ce2row4_col1\" class=\"data row4 col1\" >0.6300</td>\n",
       "                        <td id=\"T_719979b2_2ac0_11eb_99ad_a683e74b8ce2row4_col2\" class=\"data row4 col2\" >0.0000</td>\n",
       "                        <td id=\"T_719979b2_2ac0_11eb_99ad_a683e74b8ce2row4_col3\" class=\"data row4 col3\" >0.6667</td>\n",
       "                        <td id=\"T_719979b2_2ac0_11eb_99ad_a683e74b8ce2row4_col4\" class=\"data row4 col4\" >0.6500</td>\n",
       "                        <td id=\"T_719979b2_2ac0_11eb_99ad_a683e74b8ce2row4_col5\" class=\"data row4 col5\" >0.6448</td>\n",
       "                        <td id=\"T_719979b2_2ac0_11eb_99ad_a683e74b8ce2row4_col6\" class=\"data row4 col6\" >0.2507</td>\n",
       "                        <td id=\"T_719979b2_2ac0_11eb_99ad_a683e74b8ce2row4_col7\" class=\"data row4 col7\" >0.2693</td>\n",
       "                        <td id=\"T_719979b2_2ac0_11eb_99ad_a683e74b8ce2row4_col8\" class=\"data row4 col8\" >0.0150</td>\n",
       "            </tr>\n",
       "            <tr>\n",
       "                        <th id=\"T_719979b2_2ac0_11eb_99ad_a683e74b8ce2level0_row5\" class=\"row_heading level0 row5\" >lda</th>\n",
       "                        <td id=\"T_719979b2_2ac0_11eb_99ad_a683e74b8ce2row5_col0\" class=\"data row5 col0\" >Linear Discriminant Analysis</td>\n",
       "                        <td id=\"T_719979b2_2ac0_11eb_99ad_a683e74b8ce2row5_col1\" class=\"data row5 col1\" >0.6300</td>\n",
       "                        <td id=\"T_719979b2_2ac0_11eb_99ad_a683e74b8ce2row5_col2\" class=\"data row5 col2\" >0.6444</td>\n",
       "                        <td id=\"T_719979b2_2ac0_11eb_99ad_a683e74b8ce2row5_col3\" class=\"data row5 col3\" >0.6667</td>\n",
       "                        <td id=\"T_719979b2_2ac0_11eb_99ad_a683e74b8ce2row5_col4\" class=\"data row5 col4\" >0.6500</td>\n",
       "                        <td id=\"T_719979b2_2ac0_11eb_99ad_a683e74b8ce2row5_col5\" class=\"data row5 col5\" >0.6448</td>\n",
       "                        <td id=\"T_719979b2_2ac0_11eb_99ad_a683e74b8ce2row5_col6\" class=\"data row5 col6\" >0.2507</td>\n",
       "                        <td id=\"T_719979b2_2ac0_11eb_99ad_a683e74b8ce2row5_col7\" class=\"data row5 col7\" >0.2693</td>\n",
       "                        <td id=\"T_719979b2_2ac0_11eb_99ad_a683e74b8ce2row5_col8\" class=\"data row5 col8\" >0.0180</td>\n",
       "            </tr>\n",
       "            <tr>\n",
       "                        <th id=\"T_719979b2_2ac0_11eb_99ad_a683e74b8ce2level0_row6\" class=\"row_heading level0 row6\" >et</th>\n",
       "                        <td id=\"T_719979b2_2ac0_11eb_99ad_a683e74b8ce2row6_col0\" class=\"data row6 col0\" >Extra Trees Classifier</td>\n",
       "                        <td id=\"T_719979b2_2ac0_11eb_99ad_a683e74b8ce2row6_col1\" class=\"data row6 col1\" >0.5167</td>\n",
       "                        <td id=\"T_719979b2_2ac0_11eb_99ad_a683e74b8ce2row6_col2\" class=\"data row6 col2\" >0.5722</td>\n",
       "                        <td id=\"T_719979b2_2ac0_11eb_99ad_a683e74b8ce2row6_col3\" class=\"data row6 col3\" >0.5667</td>\n",
       "                        <td id=\"T_719979b2_2ac0_11eb_99ad_a683e74b8ce2row6_col4\" class=\"data row6 col4\" >0.6000</td>\n",
       "                        <td id=\"T_719979b2_2ac0_11eb_99ad_a683e74b8ce2row6_col5\" class=\"data row6 col5\" >0.5481</td>\n",
       "                        <td id=\"T_719979b2_2ac0_11eb_99ad_a683e74b8ce2row6_col6\" class=\"data row6 col6\" >0.0217</td>\n",
       "                        <td id=\"T_719979b2_2ac0_11eb_99ad_a683e74b8ce2row6_col7\" class=\"data row6 col7\" >0.0447</td>\n",
       "                        <td id=\"T_719979b2_2ac0_11eb_99ad_a683e74b8ce2row6_col8\" class=\"data row6 col8\" >1.1370</td>\n",
       "            </tr>\n",
       "            <tr>\n",
       "                        <th id=\"T_719979b2_2ac0_11eb_99ad_a683e74b8ce2level0_row7\" class=\"row_heading level0 row7\" >nb</th>\n",
       "                        <td id=\"T_719979b2_2ac0_11eb_99ad_a683e74b8ce2row7_col0\" class=\"data row7 col0\" >Naive Bayes</td>\n",
       "                        <td id=\"T_719979b2_2ac0_11eb_99ad_a683e74b8ce2row7_col1\" class=\"data row7 col1\" >0.5933</td>\n",
       "                        <td id=\"T_719979b2_2ac0_11eb_99ad_a683e74b8ce2row7_col2\" class=\"data row7 col2\" >0.7056</td>\n",
       "                        <td id=\"T_719979b2_2ac0_11eb_99ad_a683e74b8ce2row7_col3\" class=\"data row7 col3\" >0.4667</td>\n",
       "                        <td id=\"T_719979b2_2ac0_11eb_99ad_a683e74b8ce2row7_col4\" class=\"data row7 col4\" >0.5833</td>\n",
       "                        <td id=\"T_719979b2_2ac0_11eb_99ad_a683e74b8ce2row7_col5\" class=\"data row7 col5\" >0.4900</td>\n",
       "                        <td id=\"T_719979b2_2ac0_11eb_99ad_a683e74b8ce2row7_col6\" class=\"data row7 col6\" >0.2088</td>\n",
       "                        <td id=\"T_719979b2_2ac0_11eb_99ad_a683e74b8ce2row7_col7\" class=\"data row7 col7\" >0.2170</td>\n",
       "                        <td id=\"T_719979b2_2ac0_11eb_99ad_a683e74b8ce2row7_col8\" class=\"data row7 col8\" >0.0170</td>\n",
       "            </tr>\n",
       "            <tr>\n",
       "                        <th id=\"T_719979b2_2ac0_11eb_99ad_a683e74b8ce2level0_row8\" class=\"row_heading level0 row8\" >dt</th>\n",
       "                        <td id=\"T_719979b2_2ac0_11eb_99ad_a683e74b8ce2row8_col0\" class=\"data row8 col0\" >Decision Tree Classifier</td>\n",
       "                        <td id=\"T_719979b2_2ac0_11eb_99ad_a683e74b8ce2row8_col1\" class=\"data row8 col1\" >0.5433</td>\n",
       "                        <td id=\"T_719979b2_2ac0_11eb_99ad_a683e74b8ce2row8_col2\" class=\"data row8 col2\" >0.5333</td>\n",
       "                        <td id=\"T_719979b2_2ac0_11eb_99ad_a683e74b8ce2row8_col3\" class=\"data row8 col3\" >0.5500</td>\n",
       "                        <td id=\"T_719979b2_2ac0_11eb_99ad_a683e74b8ce2row8_col4\" class=\"data row8 col4\" >0.5833</td>\n",
       "                        <td id=\"T_719979b2_2ac0_11eb_99ad_a683e74b8ce2row8_col5\" class=\"data row8 col5\" >0.5414</td>\n",
       "                        <td id=\"T_719979b2_2ac0_11eb_99ad_a683e74b8ce2row8_col6\" class=\"data row8 col6\" >0.0783</td>\n",
       "                        <td id=\"T_719979b2_2ac0_11eb_99ad_a683e74b8ce2row8_col7\" class=\"data row8 col7\" >0.1005</td>\n",
       "                        <td id=\"T_719979b2_2ac0_11eb_99ad_a683e74b8ce2row8_col8\" class=\"data row8 col8\" >0.0170</td>\n",
       "            </tr>\n",
       "            <tr>\n",
       "                        <th id=\"T_719979b2_2ac0_11eb_99ad_a683e74b8ce2level0_row9\" class=\"row_heading level0 row9\" >gbc</th>\n",
       "                        <td id=\"T_719979b2_2ac0_11eb_99ad_a683e74b8ce2row9_col0\" class=\"data row9 col0\" >Gradient Boosting Classifier</td>\n",
       "                        <td id=\"T_719979b2_2ac0_11eb_99ad_a683e74b8ce2row9_col1\" class=\"data row9 col1\" >0.5000</td>\n",
       "                        <td id=\"T_719979b2_2ac0_11eb_99ad_a683e74b8ce2row9_col2\" class=\"data row9 col2\" >0.5500</td>\n",
       "                        <td id=\"T_719979b2_2ac0_11eb_99ad_a683e74b8ce2row9_col3\" class=\"data row9 col3\" >0.6000</td>\n",
       "                        <td id=\"T_719979b2_2ac0_11eb_99ad_a683e74b8ce2row9_col4\" class=\"data row9 col4\" >0.5567</td>\n",
       "                        <td id=\"T_719979b2_2ac0_11eb_99ad_a683e74b8ce2row9_col5\" class=\"data row9 col5\" >0.5395</td>\n",
       "                        <td id=\"T_719979b2_2ac0_11eb_99ad_a683e74b8ce2row9_col6\" class=\"data row9 col6\" >0.0117</td>\n",
       "                        <td id=\"T_719979b2_2ac0_11eb_99ad_a683e74b8ce2row9_col7\" class=\"data row9 col7\" >0.0339</td>\n",
       "                        <td id=\"T_719979b2_2ac0_11eb_99ad_a683e74b8ce2row9_col8\" class=\"data row9 col8\" >0.0950</td>\n",
       "            </tr>\n",
       "            <tr>\n",
       "                        <th id=\"T_719979b2_2ac0_11eb_99ad_a683e74b8ce2level0_row10\" class=\"row_heading level0 row10\" >lightgbm</th>\n",
       "                        <td id=\"T_719979b2_2ac0_11eb_99ad_a683e74b8ce2row10_col0\" class=\"data row10 col0\" >Light Gradient Boosting Machine</td>\n",
       "                        <td id=\"T_719979b2_2ac0_11eb_99ad_a683e74b8ce2row10_col1\" class=\"data row10 col1\" >0.5400</td>\n",
       "                        <td id=\"T_719979b2_2ac0_11eb_99ad_a683e74b8ce2row10_col2\" class=\"data row10 col2\" >0.6306</td>\n",
       "                        <td id=\"T_719979b2_2ac0_11eb_99ad_a683e74b8ce2row10_col3\" class=\"data row10 col3\" >0.7000</td>\n",
       "                        <td id=\"T_719979b2_2ac0_11eb_99ad_a683e74b8ce2row10_col4\" class=\"data row10 col4\" >0.5533</td>\n",
       "                        <td id=\"T_719979b2_2ac0_11eb_99ad_a683e74b8ce2row10_col5\" class=\"data row10 col5\" >0.6017</td>\n",
       "                        <td id=\"T_719979b2_2ac0_11eb_99ad_a683e74b8ce2row10_col6\" class=\"data row10 col6\" >0.0474</td>\n",
       "                        <td id=\"T_719979b2_2ac0_11eb_99ad_a683e74b8ce2row10_col7\" class=\"data row10 col7\" >0.0500</td>\n",
       "                        <td id=\"T_719979b2_2ac0_11eb_99ad_a683e74b8ce2row10_col8\" class=\"data row10 col8\" >0.0370</td>\n",
       "            </tr>\n",
       "            <tr>\n",
       "                        <th id=\"T_719979b2_2ac0_11eb_99ad_a683e74b8ce2level0_row11\" class=\"row_heading level0 row11\" >ada</th>\n",
       "                        <td id=\"T_719979b2_2ac0_11eb_99ad_a683e74b8ce2row11_col0\" class=\"data row11 col0\" >Ada Boost Classifier</td>\n",
       "                        <td id=\"T_719979b2_2ac0_11eb_99ad_a683e74b8ce2row11_col1\" class=\"data row11 col1\" >0.5167</td>\n",
       "                        <td id=\"T_719979b2_2ac0_11eb_99ad_a683e74b8ce2row11_col2\" class=\"data row11 col2\" >0.6000</td>\n",
       "                        <td id=\"T_719979b2_2ac0_11eb_99ad_a683e74b8ce2row11_col3\" class=\"data row11 col3\" >0.6000</td>\n",
       "                        <td id=\"T_719979b2_2ac0_11eb_99ad_a683e74b8ce2row11_col4\" class=\"data row11 col4\" >0.5483</td>\n",
       "                        <td id=\"T_719979b2_2ac0_11eb_99ad_a683e74b8ce2row11_col5\" class=\"data row11 col5\" >0.5405</td>\n",
       "                        <td id=\"T_719979b2_2ac0_11eb_99ad_a683e74b8ce2row11_col6\" class=\"data row11 col6\" >0.0182</td>\n",
       "                        <td id=\"T_719979b2_2ac0_11eb_99ad_a683e74b8ce2row11_col7\" class=\"data row11 col7\" >0.0204</td>\n",
       "                        <td id=\"T_719979b2_2ac0_11eb_99ad_a683e74b8ce2row11_col8\" class=\"data row11 col8\" >0.1350</td>\n",
       "            </tr>\n",
       "            <tr>\n",
       "                        <th id=\"T_719979b2_2ac0_11eb_99ad_a683e74b8ce2level0_row12\" class=\"row_heading level0 row12\" >svm</th>\n",
       "                        <td id=\"T_719979b2_2ac0_11eb_99ad_a683e74b8ce2row12_col0\" class=\"data row12 col0\" >SVM - Linear Kernel</td>\n",
       "                        <td id=\"T_719979b2_2ac0_11eb_99ad_a683e74b8ce2row12_col1\" class=\"data row12 col1\" >0.5533</td>\n",
       "                        <td id=\"T_719979b2_2ac0_11eb_99ad_a683e74b8ce2row12_col2\" class=\"data row12 col2\" >0.0000</td>\n",
       "                        <td id=\"T_719979b2_2ac0_11eb_99ad_a683e74b8ce2row12_col3\" class=\"data row12 col3\" >0.5667</td>\n",
       "                        <td id=\"T_719979b2_2ac0_11eb_99ad_a683e74b8ce2row12_col4\" class=\"data row12 col4\" >0.5400</td>\n",
       "                        <td id=\"T_719979b2_2ac0_11eb_99ad_a683e74b8ce2row12_col5\" class=\"data row12 col5\" >0.5371</td>\n",
       "                        <td id=\"T_719979b2_2ac0_11eb_99ad_a683e74b8ce2row12_col6\" class=\"data row12 col6\" >0.1179</td>\n",
       "                        <td id=\"T_719979b2_2ac0_11eb_99ad_a683e74b8ce2row12_col7\" class=\"data row12 col7\" >0.1167</td>\n",
       "                        <td id=\"T_719979b2_2ac0_11eb_99ad_a683e74b8ce2row12_col8\" class=\"data row12 col8\" >0.0150</td>\n",
       "            </tr>\n",
       "            <tr>\n",
       "                        <th id=\"T_719979b2_2ac0_11eb_99ad_a683e74b8ce2level0_row13\" class=\"row_heading level0 row13\" >qda</th>\n",
       "                        <td id=\"T_719979b2_2ac0_11eb_99ad_a683e74b8ce2row13_col0\" class=\"data row13 col0\" >Quadratic Discriminant Analysis</td>\n",
       "                        <td id=\"T_719979b2_2ac0_11eb_99ad_a683e74b8ce2row13_col1\" class=\"data row13 col1\" >0.5967</td>\n",
       "                        <td id=\"T_719979b2_2ac0_11eb_99ad_a683e74b8ce2row13_col2\" class=\"data row13 col2\" >0.6667</td>\n",
       "                        <td id=\"T_719979b2_2ac0_11eb_99ad_a683e74b8ce2row13_col3\" class=\"data row13 col3\" >0.4667</td>\n",
       "                        <td id=\"T_719979b2_2ac0_11eb_99ad_a683e74b8ce2row13_col4\" class=\"data row13 col4\" >0.5333</td>\n",
       "                        <td id=\"T_719979b2_2ac0_11eb_99ad_a683e74b8ce2row13_col5\" class=\"data row13 col5\" >0.4800</td>\n",
       "                        <td id=\"T_719979b2_2ac0_11eb_99ad_a683e74b8ce2row13_col6\" class=\"data row13 col6\" >0.2029</td>\n",
       "                        <td id=\"T_719979b2_2ac0_11eb_99ad_a683e74b8ce2row13_col7\" class=\"data row13 col7\" >0.2168</td>\n",
       "                        <td id=\"T_719979b2_2ac0_11eb_99ad_a683e74b8ce2row13_col8\" class=\"data row13 col8\" >0.0160</td>\n",
       "            </tr>\n",
       "            <tr>\n",
       "                        <th id=\"T_719979b2_2ac0_11eb_99ad_a683e74b8ce2level0_row14\" class=\"row_heading level0 row14\" >xgboost</th>\n",
       "                        <td id=\"T_719979b2_2ac0_11eb_99ad_a683e74b8ce2row14_col0\" class=\"data row14 col0\" >Extreme Gradient Boosting</td>\n",
       "                        <td id=\"T_719979b2_2ac0_11eb_99ad_a683e74b8ce2row14_col1\" class=\"data row14 col1\" >0.0000</td>\n",
       "                        <td id=\"T_719979b2_2ac0_11eb_99ad_a683e74b8ce2row14_col2\" class=\"data row14 col2\" >0.0000</td>\n",
       "                        <td id=\"T_719979b2_2ac0_11eb_99ad_a683e74b8ce2row14_col3\" class=\"data row14 col3\" >0.0000</td>\n",
       "                        <td id=\"T_719979b2_2ac0_11eb_99ad_a683e74b8ce2row14_col4\" class=\"data row14 col4\" >0.0000</td>\n",
       "                        <td id=\"T_719979b2_2ac0_11eb_99ad_a683e74b8ce2row14_col5\" class=\"data row14 col5\" >0.0000</td>\n",
       "                        <td id=\"T_719979b2_2ac0_11eb_99ad_a683e74b8ce2row14_col6\" class=\"data row14 col6\" >0.0000</td>\n",
       "                        <td id=\"T_719979b2_2ac0_11eb_99ad_a683e74b8ce2row14_col7\" class=\"data row14 col7\" >0.0000</td>\n",
       "                        <td id=\"T_719979b2_2ac0_11eb_99ad_a683e74b8ce2row14_col8\" class=\"data row14 col8\" >0.0070</td>\n",
       "            </tr>\n",
       "    </tbody></table>"
      ],
      "text/plain": [
       "<pandas.io.formats.style.Styler at 0x14613d2e8>"
      ]
     },
     "metadata": {},
     "output_type": "display_data"
    }
   ],
   "source": [
    "best = compare_models(sort='Precision')"
   ]
  },
  {
   "cell_type": "markdown",
   "metadata": {
    "colab_type": "text",
    "id": "qH7AeJqjfuNX"
   },
   "source": [
    "# 3.0 Crearemos 3 objetos modelo que presentaron las métricas más altas de Precisión"
   ]
  },
  {
   "cell_type": "markdown",
   "metadata": {
    "colab_type": "text",
    "id": "yyApyoXbfuNZ"
   },
   "source": [
    "### Catboost"
   ]
  },
  {
   "cell_type": "code",
   "execution_count": 12,
   "metadata": {
    "colab": {
     "base_uri": "https://localhost:8080/",
     "height": 421
    },
    "colab_type": "code",
    "id": "U6v4R3MJfuNb",
    "outputId": "da32db85-d927-48b1-b6d8-1744331ec306"
   },
   "outputs": [
    {
     "data": {
      "text/html": [
       "<style  type=\"text/css\" >\n",
       "#T_955ca400_2ac0_11eb_99ad_a683e74b8ce2row10_col0,#T_955ca400_2ac0_11eb_99ad_a683e74b8ce2row10_col1,#T_955ca400_2ac0_11eb_99ad_a683e74b8ce2row10_col2,#T_955ca400_2ac0_11eb_99ad_a683e74b8ce2row10_col3,#T_955ca400_2ac0_11eb_99ad_a683e74b8ce2row10_col4,#T_955ca400_2ac0_11eb_99ad_a683e74b8ce2row10_col5,#T_955ca400_2ac0_11eb_99ad_a683e74b8ce2row10_col6{\n",
       "            background:  yellow;\n",
       "        }</style><table id=\"T_955ca400_2ac0_11eb_99ad_a683e74b8ce2\" ><thead>    <tr>        <th class=\"blank level0\" ></th>        <th class=\"col_heading level0 col0\" >Accuracy</th>        <th class=\"col_heading level0 col1\" >AUC</th>        <th class=\"col_heading level0 col2\" >Recall</th>        <th class=\"col_heading level0 col3\" >Prec.</th>        <th class=\"col_heading level0 col4\" >F1</th>        <th class=\"col_heading level0 col5\" >Kappa</th>        <th class=\"col_heading level0 col6\" >MCC</th>    </tr></thead><tbody>\n",
       "                <tr>\n",
       "                        <th id=\"T_955ca400_2ac0_11eb_99ad_a683e74b8ce2level0_row0\" class=\"row_heading level0 row0\" >0</th>\n",
       "                        <td id=\"T_955ca400_2ac0_11eb_99ad_a683e74b8ce2row0_col0\" class=\"data row0 col0\" >0.6667</td>\n",
       "                        <td id=\"T_955ca400_2ac0_11eb_99ad_a683e74b8ce2row0_col1\" class=\"data row0 col1\" >0.7778</td>\n",
       "                        <td id=\"T_955ca400_2ac0_11eb_99ad_a683e74b8ce2row0_col2\" class=\"data row0 col2\" >0.3333</td>\n",
       "                        <td id=\"T_955ca400_2ac0_11eb_99ad_a683e74b8ce2row0_col3\" class=\"data row0 col3\" >1.0000</td>\n",
       "                        <td id=\"T_955ca400_2ac0_11eb_99ad_a683e74b8ce2row0_col4\" class=\"data row0 col4\" >0.5000</td>\n",
       "                        <td id=\"T_955ca400_2ac0_11eb_99ad_a683e74b8ce2row0_col5\" class=\"data row0 col5\" >0.3333</td>\n",
       "                        <td id=\"T_955ca400_2ac0_11eb_99ad_a683e74b8ce2row0_col6\" class=\"data row0 col6\" >0.4472</td>\n",
       "            </tr>\n",
       "            <tr>\n",
       "                        <th id=\"T_955ca400_2ac0_11eb_99ad_a683e74b8ce2level0_row1\" class=\"row_heading level0 row1\" >1</th>\n",
       "                        <td id=\"T_955ca400_2ac0_11eb_99ad_a683e74b8ce2row1_col0\" class=\"data row1 col0\" >0.5000</td>\n",
       "                        <td id=\"T_955ca400_2ac0_11eb_99ad_a683e74b8ce2row1_col1\" class=\"data row1 col1\" >0.4444</td>\n",
       "                        <td id=\"T_955ca400_2ac0_11eb_99ad_a683e74b8ce2row1_col2\" class=\"data row1 col2\" >0.3333</td>\n",
       "                        <td id=\"T_955ca400_2ac0_11eb_99ad_a683e74b8ce2row1_col3\" class=\"data row1 col3\" >0.5000</td>\n",
       "                        <td id=\"T_955ca400_2ac0_11eb_99ad_a683e74b8ce2row1_col4\" class=\"data row1 col4\" >0.4000</td>\n",
       "                        <td id=\"T_955ca400_2ac0_11eb_99ad_a683e74b8ce2row1_col5\" class=\"data row1 col5\" >0.0000</td>\n",
       "                        <td id=\"T_955ca400_2ac0_11eb_99ad_a683e74b8ce2row1_col6\" class=\"data row1 col6\" >0.0000</td>\n",
       "            </tr>\n",
       "            <tr>\n",
       "                        <th id=\"T_955ca400_2ac0_11eb_99ad_a683e74b8ce2level0_row2\" class=\"row_heading level0 row2\" >2</th>\n",
       "                        <td id=\"T_955ca400_2ac0_11eb_99ad_a683e74b8ce2row2_col0\" class=\"data row2 col0\" >0.8333</td>\n",
       "                        <td id=\"T_955ca400_2ac0_11eb_99ad_a683e74b8ce2row2_col1\" class=\"data row2 col1\" >0.6667</td>\n",
       "                        <td id=\"T_955ca400_2ac0_11eb_99ad_a683e74b8ce2row2_col2\" class=\"data row2 col2\" >0.6667</td>\n",
       "                        <td id=\"T_955ca400_2ac0_11eb_99ad_a683e74b8ce2row2_col3\" class=\"data row2 col3\" >1.0000</td>\n",
       "                        <td id=\"T_955ca400_2ac0_11eb_99ad_a683e74b8ce2row2_col4\" class=\"data row2 col4\" >0.8000</td>\n",
       "                        <td id=\"T_955ca400_2ac0_11eb_99ad_a683e74b8ce2row2_col5\" class=\"data row2 col5\" >0.6667</td>\n",
       "                        <td id=\"T_955ca400_2ac0_11eb_99ad_a683e74b8ce2row2_col6\" class=\"data row2 col6\" >0.7071</td>\n",
       "            </tr>\n",
       "            <tr>\n",
       "                        <th id=\"T_955ca400_2ac0_11eb_99ad_a683e74b8ce2level0_row3\" class=\"row_heading level0 row3\" >3</th>\n",
       "                        <td id=\"T_955ca400_2ac0_11eb_99ad_a683e74b8ce2row3_col0\" class=\"data row3 col0\" >0.5000</td>\n",
       "                        <td id=\"T_955ca400_2ac0_11eb_99ad_a683e74b8ce2row3_col1\" class=\"data row3 col1\" >0.2222</td>\n",
       "                        <td id=\"T_955ca400_2ac0_11eb_99ad_a683e74b8ce2row3_col2\" class=\"data row3 col2\" >0.6667</td>\n",
       "                        <td id=\"T_955ca400_2ac0_11eb_99ad_a683e74b8ce2row3_col3\" class=\"data row3 col3\" >0.5000</td>\n",
       "                        <td id=\"T_955ca400_2ac0_11eb_99ad_a683e74b8ce2row3_col4\" class=\"data row3 col4\" >0.5714</td>\n",
       "                        <td id=\"T_955ca400_2ac0_11eb_99ad_a683e74b8ce2row3_col5\" class=\"data row3 col5\" >0.0000</td>\n",
       "                        <td id=\"T_955ca400_2ac0_11eb_99ad_a683e74b8ce2row3_col6\" class=\"data row3 col6\" >0.0000</td>\n",
       "            </tr>\n",
       "            <tr>\n",
       "                        <th id=\"T_955ca400_2ac0_11eb_99ad_a683e74b8ce2level0_row4\" class=\"row_heading level0 row4\" >4</th>\n",
       "                        <td id=\"T_955ca400_2ac0_11eb_99ad_a683e74b8ce2row4_col0\" class=\"data row4 col0\" >0.6000</td>\n",
       "                        <td id=\"T_955ca400_2ac0_11eb_99ad_a683e74b8ce2row4_col1\" class=\"data row4 col1\" >1.0000</td>\n",
       "                        <td id=\"T_955ca400_2ac0_11eb_99ad_a683e74b8ce2row4_col2\" class=\"data row4 col2\" >1.0000</td>\n",
       "                        <td id=\"T_955ca400_2ac0_11eb_99ad_a683e74b8ce2row4_col3\" class=\"data row4 col3\" >0.5000</td>\n",
       "                        <td id=\"T_955ca400_2ac0_11eb_99ad_a683e74b8ce2row4_col4\" class=\"data row4 col4\" >0.6667</td>\n",
       "                        <td id=\"T_955ca400_2ac0_11eb_99ad_a683e74b8ce2row4_col5\" class=\"data row4 col5\" >0.2857</td>\n",
       "                        <td id=\"T_955ca400_2ac0_11eb_99ad_a683e74b8ce2row4_col6\" class=\"data row4 col6\" >0.4082</td>\n",
       "            </tr>\n",
       "            <tr>\n",
       "                        <th id=\"T_955ca400_2ac0_11eb_99ad_a683e74b8ce2level0_row5\" class=\"row_heading level0 row5\" >5</th>\n",
       "                        <td id=\"T_955ca400_2ac0_11eb_99ad_a683e74b8ce2row5_col0\" class=\"data row5 col0\" >0.8000</td>\n",
       "                        <td id=\"T_955ca400_2ac0_11eb_99ad_a683e74b8ce2row5_col1\" class=\"data row5 col1\" >0.8333</td>\n",
       "                        <td id=\"T_955ca400_2ac0_11eb_99ad_a683e74b8ce2row5_col2\" class=\"data row5 col2\" >0.6667</td>\n",
       "                        <td id=\"T_955ca400_2ac0_11eb_99ad_a683e74b8ce2row5_col3\" class=\"data row5 col3\" >1.0000</td>\n",
       "                        <td id=\"T_955ca400_2ac0_11eb_99ad_a683e74b8ce2row5_col4\" class=\"data row5 col4\" >0.8000</td>\n",
       "                        <td id=\"T_955ca400_2ac0_11eb_99ad_a683e74b8ce2row5_col5\" class=\"data row5 col5\" >0.6154</td>\n",
       "                        <td id=\"T_955ca400_2ac0_11eb_99ad_a683e74b8ce2row5_col6\" class=\"data row5 col6\" >0.6667</td>\n",
       "            </tr>\n",
       "            <tr>\n",
       "                        <th id=\"T_955ca400_2ac0_11eb_99ad_a683e74b8ce2level0_row6\" class=\"row_heading level0 row6\" >6</th>\n",
       "                        <td id=\"T_955ca400_2ac0_11eb_99ad_a683e74b8ce2row6_col0\" class=\"data row6 col0\" >0.4000</td>\n",
       "                        <td id=\"T_955ca400_2ac0_11eb_99ad_a683e74b8ce2row6_col1\" class=\"data row6 col1\" >0.1667</td>\n",
       "                        <td id=\"T_955ca400_2ac0_11eb_99ad_a683e74b8ce2row6_col2\" class=\"data row6 col2\" >0.3333</td>\n",
       "                        <td id=\"T_955ca400_2ac0_11eb_99ad_a683e74b8ce2row6_col3\" class=\"data row6 col3\" >0.5000</td>\n",
       "                        <td id=\"T_955ca400_2ac0_11eb_99ad_a683e74b8ce2row6_col4\" class=\"data row6 col4\" >0.4000</td>\n",
       "                        <td id=\"T_955ca400_2ac0_11eb_99ad_a683e74b8ce2row6_col5\" class=\"data row6 col5\" >-0.1538</td>\n",
       "                        <td id=\"T_955ca400_2ac0_11eb_99ad_a683e74b8ce2row6_col6\" class=\"data row6 col6\" >-0.1667</td>\n",
       "            </tr>\n",
       "            <tr>\n",
       "                        <th id=\"T_955ca400_2ac0_11eb_99ad_a683e74b8ce2level0_row7\" class=\"row_heading level0 row7\" >7</th>\n",
       "                        <td id=\"T_955ca400_2ac0_11eb_99ad_a683e74b8ce2row7_col0\" class=\"data row7 col0\" >0.4000</td>\n",
       "                        <td id=\"T_955ca400_2ac0_11eb_99ad_a683e74b8ce2row7_col1\" class=\"data row7 col1\" >0.3333</td>\n",
       "                        <td id=\"T_955ca400_2ac0_11eb_99ad_a683e74b8ce2row7_col2\" class=\"data row7 col2\" >0.6667</td>\n",
       "                        <td id=\"T_955ca400_2ac0_11eb_99ad_a683e74b8ce2row7_col3\" class=\"data row7 col3\" >0.5000</td>\n",
       "                        <td id=\"T_955ca400_2ac0_11eb_99ad_a683e74b8ce2row7_col4\" class=\"data row7 col4\" >0.5714</td>\n",
       "                        <td id=\"T_955ca400_2ac0_11eb_99ad_a683e74b8ce2row7_col5\" class=\"data row7 col5\" >-0.3636</td>\n",
       "                        <td id=\"T_955ca400_2ac0_11eb_99ad_a683e74b8ce2row7_col6\" class=\"data row7 col6\" >-0.4082</td>\n",
       "            </tr>\n",
       "            <tr>\n",
       "                        <th id=\"T_955ca400_2ac0_11eb_99ad_a683e74b8ce2level0_row8\" class=\"row_heading level0 row8\" >8</th>\n",
       "                        <td id=\"T_955ca400_2ac0_11eb_99ad_a683e74b8ce2row8_col0\" class=\"data row8 col0\" >0.6000</td>\n",
       "                        <td id=\"T_955ca400_2ac0_11eb_99ad_a683e74b8ce2row8_col1\" class=\"data row8 col1\" >0.8333</td>\n",
       "                        <td id=\"T_955ca400_2ac0_11eb_99ad_a683e74b8ce2row8_col2\" class=\"data row8 col2\" >0.6667</td>\n",
       "                        <td id=\"T_955ca400_2ac0_11eb_99ad_a683e74b8ce2row8_col3\" class=\"data row8 col3\" >0.6667</td>\n",
       "                        <td id=\"T_955ca400_2ac0_11eb_99ad_a683e74b8ce2row8_col4\" class=\"data row8 col4\" >0.6667</td>\n",
       "                        <td id=\"T_955ca400_2ac0_11eb_99ad_a683e74b8ce2row8_col5\" class=\"data row8 col5\" >0.1667</td>\n",
       "                        <td id=\"T_955ca400_2ac0_11eb_99ad_a683e74b8ce2row8_col6\" class=\"data row8 col6\" >0.1667</td>\n",
       "            </tr>\n",
       "            <tr>\n",
       "                        <th id=\"T_955ca400_2ac0_11eb_99ad_a683e74b8ce2level0_row9\" class=\"row_heading level0 row9\" >9</th>\n",
       "                        <td id=\"T_955ca400_2ac0_11eb_99ad_a683e74b8ce2row9_col0\" class=\"data row9 col0\" >0.8000</td>\n",
       "                        <td id=\"T_955ca400_2ac0_11eb_99ad_a683e74b8ce2row9_col1\" class=\"data row9 col1\" >0.8333</td>\n",
       "                        <td id=\"T_955ca400_2ac0_11eb_99ad_a683e74b8ce2row9_col2\" class=\"data row9 col2\" >0.6667</td>\n",
       "                        <td id=\"T_955ca400_2ac0_11eb_99ad_a683e74b8ce2row9_col3\" class=\"data row9 col3\" >1.0000</td>\n",
       "                        <td id=\"T_955ca400_2ac0_11eb_99ad_a683e74b8ce2row9_col4\" class=\"data row9 col4\" >0.8000</td>\n",
       "                        <td id=\"T_955ca400_2ac0_11eb_99ad_a683e74b8ce2row9_col5\" class=\"data row9 col5\" >0.6154</td>\n",
       "                        <td id=\"T_955ca400_2ac0_11eb_99ad_a683e74b8ce2row9_col6\" class=\"data row9 col6\" >0.6667</td>\n",
       "            </tr>\n",
       "            <tr>\n",
       "                        <th id=\"T_955ca400_2ac0_11eb_99ad_a683e74b8ce2level0_row10\" class=\"row_heading level0 row10\" >Mean</th>\n",
       "                        <td id=\"T_955ca400_2ac0_11eb_99ad_a683e74b8ce2row10_col0\" class=\"data row10 col0\" >0.6100</td>\n",
       "                        <td id=\"T_955ca400_2ac0_11eb_99ad_a683e74b8ce2row10_col1\" class=\"data row10 col1\" >0.6111</td>\n",
       "                        <td id=\"T_955ca400_2ac0_11eb_99ad_a683e74b8ce2row10_col2\" class=\"data row10 col2\" >0.6000</td>\n",
       "                        <td id=\"T_955ca400_2ac0_11eb_99ad_a683e74b8ce2row10_col3\" class=\"data row10 col3\" >0.7167</td>\n",
       "                        <td id=\"T_955ca400_2ac0_11eb_99ad_a683e74b8ce2row10_col4\" class=\"data row10 col4\" >0.6176</td>\n",
       "                        <td id=\"T_955ca400_2ac0_11eb_99ad_a683e74b8ce2row10_col5\" class=\"data row10 col5\" >0.2166</td>\n",
       "                        <td id=\"T_955ca400_2ac0_11eb_99ad_a683e74b8ce2row10_col6\" class=\"data row10 col6\" >0.2488</td>\n",
       "            </tr>\n",
       "            <tr>\n",
       "                        <th id=\"T_955ca400_2ac0_11eb_99ad_a683e74b8ce2level0_row11\" class=\"row_heading level0 row11\" >SD</th>\n",
       "                        <td id=\"T_955ca400_2ac0_11eb_99ad_a683e74b8ce2row11_col0\" class=\"data row11 col0\" >0.1542</td>\n",
       "                        <td id=\"T_955ca400_2ac0_11eb_99ad_a683e74b8ce2row11_col1\" class=\"data row11 col1\" >0.2800</td>\n",
       "                        <td id=\"T_955ca400_2ac0_11eb_99ad_a683e74b8ce2row11_col2\" class=\"data row11 col2\" >0.2000</td>\n",
       "                        <td id=\"T_955ca400_2ac0_11eb_99ad_a683e74b8ce2row11_col3\" class=\"data row11 col3\" >0.2363</td>\n",
       "                        <td id=\"T_955ca400_2ac0_11eb_99ad_a683e74b8ce2row11_col4\" class=\"data row11 col4\" >0.1475</td>\n",
       "                        <td id=\"T_955ca400_2ac0_11eb_99ad_a683e74b8ce2row11_col5\" class=\"data row11 col5\" >0.3331</td>\n",
       "                        <td id=\"T_955ca400_2ac0_11eb_99ad_a683e74b8ce2row11_col6\" class=\"data row11 col6\" >0.3686</td>\n",
       "            </tr>\n",
       "    </tbody></table>"
      ],
      "text/plain": [
       "<pandas.io.formats.style.Styler at 0x145eee128>"
      ]
     },
     "metadata": {},
     "output_type": "display_data"
    }
   ],
   "source": [
    "catboost = create_model('catboost')"
   ]
  },
  {
   "cell_type": "code",
   "execution_count": 13,
   "metadata": {
    "colab": {
     "base_uri": "https://localhost:8080/",
     "height": 272
    },
    "colab_type": "code",
    "id": "7jwPc7ZBfuNg",
    "outputId": "89c7ee4c-55ed-4764-fd03-0974c22f6b1f"
   },
   "outputs": [
    {
     "name": "stdout",
     "output_type": "stream",
     "text": [
      "<catboost.core.CatBoostClassifier object at 0x14735e518>\n"
     ]
    }
   ],
   "source": [
    "#trained model object is stored in the variable 'dt'. \n",
    "print(catboost)"
   ]
  },
  {
   "cell_type": "markdown",
   "metadata": {
    "colab_type": "text",
    "id": "PhHDTJYwfuNl"
   },
   "source": [
    "### Random Forest"
   ]
  },
  {
   "cell_type": "code",
   "execution_count": 14,
   "metadata": {
    "colab": {
     "base_uri": "https://localhost:8080/",
     "height": 421
    },
    "colab_type": "code",
    "id": "WYHQ1DxkfuNm",
    "outputId": "26077e3b-a77b-4682-a518-a125e1f6c85a"
   },
   "outputs": [
    {
     "data": {
      "text/html": [
       "<style  type=\"text/css\" >\n",
       "#T_aa8c8534_2ac0_11eb_99ad_a683e74b8ce2row10_col0,#T_aa8c8534_2ac0_11eb_99ad_a683e74b8ce2row10_col1,#T_aa8c8534_2ac0_11eb_99ad_a683e74b8ce2row10_col2,#T_aa8c8534_2ac0_11eb_99ad_a683e74b8ce2row10_col3,#T_aa8c8534_2ac0_11eb_99ad_a683e74b8ce2row10_col4,#T_aa8c8534_2ac0_11eb_99ad_a683e74b8ce2row10_col5,#T_aa8c8534_2ac0_11eb_99ad_a683e74b8ce2row10_col6{\n",
       "            background:  yellow;\n",
       "        }</style><table id=\"T_aa8c8534_2ac0_11eb_99ad_a683e74b8ce2\" ><thead>    <tr>        <th class=\"blank level0\" ></th>        <th class=\"col_heading level0 col0\" >Accuracy</th>        <th class=\"col_heading level0 col1\" >AUC</th>        <th class=\"col_heading level0 col2\" >Recall</th>        <th class=\"col_heading level0 col3\" >Prec.</th>        <th class=\"col_heading level0 col4\" >F1</th>        <th class=\"col_heading level0 col5\" >Kappa</th>        <th class=\"col_heading level0 col6\" >MCC</th>    </tr></thead><tbody>\n",
       "                <tr>\n",
       "                        <th id=\"T_aa8c8534_2ac0_11eb_99ad_a683e74b8ce2level0_row0\" class=\"row_heading level0 row0\" >0</th>\n",
       "                        <td id=\"T_aa8c8534_2ac0_11eb_99ad_a683e74b8ce2row0_col0\" class=\"data row0 col0\" >0.6667</td>\n",
       "                        <td id=\"T_aa8c8534_2ac0_11eb_99ad_a683e74b8ce2row0_col1\" class=\"data row0 col1\" >0.3333</td>\n",
       "                        <td id=\"T_aa8c8534_2ac0_11eb_99ad_a683e74b8ce2row0_col2\" class=\"data row0 col2\" >0.3333</td>\n",
       "                        <td id=\"T_aa8c8534_2ac0_11eb_99ad_a683e74b8ce2row0_col3\" class=\"data row0 col3\" >1.0000</td>\n",
       "                        <td id=\"T_aa8c8534_2ac0_11eb_99ad_a683e74b8ce2row0_col4\" class=\"data row0 col4\" >0.5000</td>\n",
       "                        <td id=\"T_aa8c8534_2ac0_11eb_99ad_a683e74b8ce2row0_col5\" class=\"data row0 col5\" >0.3333</td>\n",
       "                        <td id=\"T_aa8c8534_2ac0_11eb_99ad_a683e74b8ce2row0_col6\" class=\"data row0 col6\" >0.4472</td>\n",
       "            </tr>\n",
       "            <tr>\n",
       "                        <th id=\"T_aa8c8534_2ac0_11eb_99ad_a683e74b8ce2level0_row1\" class=\"row_heading level0 row1\" >1</th>\n",
       "                        <td id=\"T_aa8c8534_2ac0_11eb_99ad_a683e74b8ce2row1_col0\" class=\"data row1 col0\" >0.6667</td>\n",
       "                        <td id=\"T_aa8c8534_2ac0_11eb_99ad_a683e74b8ce2row1_col1\" class=\"data row1 col1\" >0.4444</td>\n",
       "                        <td id=\"T_aa8c8534_2ac0_11eb_99ad_a683e74b8ce2row1_col2\" class=\"data row1 col2\" >0.6667</td>\n",
       "                        <td id=\"T_aa8c8534_2ac0_11eb_99ad_a683e74b8ce2row1_col3\" class=\"data row1 col3\" >0.6667</td>\n",
       "                        <td id=\"T_aa8c8534_2ac0_11eb_99ad_a683e74b8ce2row1_col4\" class=\"data row1 col4\" >0.6667</td>\n",
       "                        <td id=\"T_aa8c8534_2ac0_11eb_99ad_a683e74b8ce2row1_col5\" class=\"data row1 col5\" >0.3333</td>\n",
       "                        <td id=\"T_aa8c8534_2ac0_11eb_99ad_a683e74b8ce2row1_col6\" class=\"data row1 col6\" >0.3333</td>\n",
       "            </tr>\n",
       "            <tr>\n",
       "                        <th id=\"T_aa8c8534_2ac0_11eb_99ad_a683e74b8ce2level0_row2\" class=\"row_heading level0 row2\" >2</th>\n",
       "                        <td id=\"T_aa8c8534_2ac0_11eb_99ad_a683e74b8ce2row2_col0\" class=\"data row2 col0\" >0.8333</td>\n",
       "                        <td id=\"T_aa8c8534_2ac0_11eb_99ad_a683e74b8ce2row2_col1\" class=\"data row2 col1\" >0.6667</td>\n",
       "                        <td id=\"T_aa8c8534_2ac0_11eb_99ad_a683e74b8ce2row2_col2\" class=\"data row2 col2\" >0.6667</td>\n",
       "                        <td id=\"T_aa8c8534_2ac0_11eb_99ad_a683e74b8ce2row2_col3\" class=\"data row2 col3\" >1.0000</td>\n",
       "                        <td id=\"T_aa8c8534_2ac0_11eb_99ad_a683e74b8ce2row2_col4\" class=\"data row2 col4\" >0.8000</td>\n",
       "                        <td id=\"T_aa8c8534_2ac0_11eb_99ad_a683e74b8ce2row2_col5\" class=\"data row2 col5\" >0.6667</td>\n",
       "                        <td id=\"T_aa8c8534_2ac0_11eb_99ad_a683e74b8ce2row2_col6\" class=\"data row2 col6\" >0.7071</td>\n",
       "            </tr>\n",
       "            <tr>\n",
       "                        <th id=\"T_aa8c8534_2ac0_11eb_99ad_a683e74b8ce2level0_row3\" class=\"row_heading level0 row3\" >3</th>\n",
       "                        <td id=\"T_aa8c8534_2ac0_11eb_99ad_a683e74b8ce2row3_col0\" class=\"data row3 col0\" >0.3333</td>\n",
       "                        <td id=\"T_aa8c8534_2ac0_11eb_99ad_a683e74b8ce2row3_col1\" class=\"data row3 col1\" >0.3333</td>\n",
       "                        <td id=\"T_aa8c8534_2ac0_11eb_99ad_a683e74b8ce2row3_col2\" class=\"data row3 col2\" >0.3333</td>\n",
       "                        <td id=\"T_aa8c8534_2ac0_11eb_99ad_a683e74b8ce2row3_col3\" class=\"data row3 col3\" >0.3333</td>\n",
       "                        <td id=\"T_aa8c8534_2ac0_11eb_99ad_a683e74b8ce2row3_col4\" class=\"data row3 col4\" >0.3333</td>\n",
       "                        <td id=\"T_aa8c8534_2ac0_11eb_99ad_a683e74b8ce2row3_col5\" class=\"data row3 col5\" >-0.3333</td>\n",
       "                        <td id=\"T_aa8c8534_2ac0_11eb_99ad_a683e74b8ce2row3_col6\" class=\"data row3 col6\" >-0.3333</td>\n",
       "            </tr>\n",
       "            <tr>\n",
       "                        <th id=\"T_aa8c8534_2ac0_11eb_99ad_a683e74b8ce2level0_row4\" class=\"row_heading level0 row4\" >4</th>\n",
       "                        <td id=\"T_aa8c8534_2ac0_11eb_99ad_a683e74b8ce2row4_col0\" class=\"data row4 col0\" >0.6000</td>\n",
       "                        <td id=\"T_aa8c8534_2ac0_11eb_99ad_a683e74b8ce2row4_col1\" class=\"data row4 col1\" >1.0000</td>\n",
       "                        <td id=\"T_aa8c8534_2ac0_11eb_99ad_a683e74b8ce2row4_col2\" class=\"data row4 col2\" >1.0000</td>\n",
       "                        <td id=\"T_aa8c8534_2ac0_11eb_99ad_a683e74b8ce2row4_col3\" class=\"data row4 col3\" >0.5000</td>\n",
       "                        <td id=\"T_aa8c8534_2ac0_11eb_99ad_a683e74b8ce2row4_col4\" class=\"data row4 col4\" >0.6667</td>\n",
       "                        <td id=\"T_aa8c8534_2ac0_11eb_99ad_a683e74b8ce2row4_col5\" class=\"data row4 col5\" >0.2857</td>\n",
       "                        <td id=\"T_aa8c8534_2ac0_11eb_99ad_a683e74b8ce2row4_col6\" class=\"data row4 col6\" >0.4082</td>\n",
       "            </tr>\n",
       "            <tr>\n",
       "                        <th id=\"T_aa8c8534_2ac0_11eb_99ad_a683e74b8ce2level0_row5\" class=\"row_heading level0 row5\" >5</th>\n",
       "                        <td id=\"T_aa8c8534_2ac0_11eb_99ad_a683e74b8ce2row5_col0\" class=\"data row5 col0\" >0.8000</td>\n",
       "                        <td id=\"T_aa8c8534_2ac0_11eb_99ad_a683e74b8ce2row5_col1\" class=\"data row5 col1\" >0.8333</td>\n",
       "                        <td id=\"T_aa8c8534_2ac0_11eb_99ad_a683e74b8ce2row5_col2\" class=\"data row5 col2\" >1.0000</td>\n",
       "                        <td id=\"T_aa8c8534_2ac0_11eb_99ad_a683e74b8ce2row5_col3\" class=\"data row5 col3\" >0.7500</td>\n",
       "                        <td id=\"T_aa8c8534_2ac0_11eb_99ad_a683e74b8ce2row5_col4\" class=\"data row5 col4\" >0.8571</td>\n",
       "                        <td id=\"T_aa8c8534_2ac0_11eb_99ad_a683e74b8ce2row5_col5\" class=\"data row5 col5\" >0.5455</td>\n",
       "                        <td id=\"T_aa8c8534_2ac0_11eb_99ad_a683e74b8ce2row5_col6\" class=\"data row5 col6\" >0.6124</td>\n",
       "            </tr>\n",
       "            <tr>\n",
       "                        <th id=\"T_aa8c8534_2ac0_11eb_99ad_a683e74b8ce2level0_row6\" class=\"row_heading level0 row6\" >6</th>\n",
       "                        <td id=\"T_aa8c8534_2ac0_11eb_99ad_a683e74b8ce2row6_col0\" class=\"data row6 col0\" >0.4000</td>\n",
       "                        <td id=\"T_aa8c8534_2ac0_11eb_99ad_a683e74b8ce2row6_col1\" class=\"data row6 col1\" >0.1667</td>\n",
       "                        <td id=\"T_aa8c8534_2ac0_11eb_99ad_a683e74b8ce2row6_col2\" class=\"data row6 col2\" >0.3333</td>\n",
       "                        <td id=\"T_aa8c8534_2ac0_11eb_99ad_a683e74b8ce2row6_col3\" class=\"data row6 col3\" >0.5000</td>\n",
       "                        <td id=\"T_aa8c8534_2ac0_11eb_99ad_a683e74b8ce2row6_col4\" class=\"data row6 col4\" >0.4000</td>\n",
       "                        <td id=\"T_aa8c8534_2ac0_11eb_99ad_a683e74b8ce2row6_col5\" class=\"data row6 col5\" >-0.1538</td>\n",
       "                        <td id=\"T_aa8c8534_2ac0_11eb_99ad_a683e74b8ce2row6_col6\" class=\"data row6 col6\" >-0.1667</td>\n",
       "            </tr>\n",
       "            <tr>\n",
       "                        <th id=\"T_aa8c8534_2ac0_11eb_99ad_a683e74b8ce2level0_row7\" class=\"row_heading level0 row7\" >7</th>\n",
       "                        <td id=\"T_aa8c8534_2ac0_11eb_99ad_a683e74b8ce2row7_col0\" class=\"data row7 col0\" >0.6000</td>\n",
       "                        <td id=\"T_aa8c8534_2ac0_11eb_99ad_a683e74b8ce2row7_col1\" class=\"data row7 col1\" >0.5000</td>\n",
       "                        <td id=\"T_aa8c8534_2ac0_11eb_99ad_a683e74b8ce2row7_col2\" class=\"data row7 col2\" >0.6667</td>\n",
       "                        <td id=\"T_aa8c8534_2ac0_11eb_99ad_a683e74b8ce2row7_col3\" class=\"data row7 col3\" >0.6667</td>\n",
       "                        <td id=\"T_aa8c8534_2ac0_11eb_99ad_a683e74b8ce2row7_col4\" class=\"data row7 col4\" >0.6667</td>\n",
       "                        <td id=\"T_aa8c8534_2ac0_11eb_99ad_a683e74b8ce2row7_col5\" class=\"data row7 col5\" >0.1667</td>\n",
       "                        <td id=\"T_aa8c8534_2ac0_11eb_99ad_a683e74b8ce2row7_col6\" class=\"data row7 col6\" >0.1667</td>\n",
       "            </tr>\n",
       "            <tr>\n",
       "                        <th id=\"T_aa8c8534_2ac0_11eb_99ad_a683e74b8ce2level0_row8\" class=\"row_heading level0 row8\" >8</th>\n",
       "                        <td id=\"T_aa8c8534_2ac0_11eb_99ad_a683e74b8ce2row8_col0\" class=\"data row8 col0\" >0.4000</td>\n",
       "                        <td id=\"T_aa8c8534_2ac0_11eb_99ad_a683e74b8ce2row8_col1\" class=\"data row8 col1\" >0.5833</td>\n",
       "                        <td id=\"T_aa8c8534_2ac0_11eb_99ad_a683e74b8ce2row8_col2\" class=\"data row8 col2\" >0.3333</td>\n",
       "                        <td id=\"T_aa8c8534_2ac0_11eb_99ad_a683e74b8ce2row8_col3\" class=\"data row8 col3\" >0.5000</td>\n",
       "                        <td id=\"T_aa8c8534_2ac0_11eb_99ad_a683e74b8ce2row8_col4\" class=\"data row8 col4\" >0.4000</td>\n",
       "                        <td id=\"T_aa8c8534_2ac0_11eb_99ad_a683e74b8ce2row8_col5\" class=\"data row8 col5\" >-0.1538</td>\n",
       "                        <td id=\"T_aa8c8534_2ac0_11eb_99ad_a683e74b8ce2row8_col6\" class=\"data row8 col6\" >-0.1667</td>\n",
       "            </tr>\n",
       "            <tr>\n",
       "                        <th id=\"T_aa8c8534_2ac0_11eb_99ad_a683e74b8ce2level0_row9\" class=\"row_heading level0 row9\" >9</th>\n",
       "                        <td id=\"T_aa8c8534_2ac0_11eb_99ad_a683e74b8ce2row9_col0\" class=\"data row9 col0\" >0.6000</td>\n",
       "                        <td id=\"T_aa8c8534_2ac0_11eb_99ad_a683e74b8ce2row9_col1\" class=\"data row9 col1\" >0.8333</td>\n",
       "                        <td id=\"T_aa8c8534_2ac0_11eb_99ad_a683e74b8ce2row9_col2\" class=\"data row9 col2\" >0.6667</td>\n",
       "                        <td id=\"T_aa8c8534_2ac0_11eb_99ad_a683e74b8ce2row9_col3\" class=\"data row9 col3\" >0.6667</td>\n",
       "                        <td id=\"T_aa8c8534_2ac0_11eb_99ad_a683e74b8ce2row9_col4\" class=\"data row9 col4\" >0.6667</td>\n",
       "                        <td id=\"T_aa8c8534_2ac0_11eb_99ad_a683e74b8ce2row9_col5\" class=\"data row9 col5\" >0.1667</td>\n",
       "                        <td id=\"T_aa8c8534_2ac0_11eb_99ad_a683e74b8ce2row9_col6\" class=\"data row9 col6\" >0.1667</td>\n",
       "            </tr>\n",
       "            <tr>\n",
       "                        <th id=\"T_aa8c8534_2ac0_11eb_99ad_a683e74b8ce2level0_row10\" class=\"row_heading level0 row10\" >Mean</th>\n",
       "                        <td id=\"T_aa8c8534_2ac0_11eb_99ad_a683e74b8ce2row10_col0\" class=\"data row10 col0\" >0.5900</td>\n",
       "                        <td id=\"T_aa8c8534_2ac0_11eb_99ad_a683e74b8ce2row10_col1\" class=\"data row10 col1\" >0.5694</td>\n",
       "                        <td id=\"T_aa8c8534_2ac0_11eb_99ad_a683e74b8ce2row10_col2\" class=\"data row10 col2\" >0.6000</td>\n",
       "                        <td id=\"T_aa8c8534_2ac0_11eb_99ad_a683e74b8ce2row10_col3\" class=\"data row10 col3\" >0.6583</td>\n",
       "                        <td id=\"T_aa8c8534_2ac0_11eb_99ad_a683e74b8ce2row10_col4\" class=\"data row10 col4\" >0.5957</td>\n",
       "                        <td id=\"T_aa8c8534_2ac0_11eb_99ad_a683e74b8ce2row10_col5\" class=\"data row10 col5\" >0.1857</td>\n",
       "                        <td id=\"T_aa8c8534_2ac0_11eb_99ad_a683e74b8ce2row10_col6\" class=\"data row10 col6\" >0.2175</td>\n",
       "            </tr>\n",
       "            <tr>\n",
       "                        <th id=\"T_aa8c8534_2ac0_11eb_99ad_a683e74b8ce2level0_row11\" class=\"row_heading level0 row11\" >SD</th>\n",
       "                        <td id=\"T_aa8c8534_2ac0_11eb_99ad_a683e74b8ce2row11_col0\" class=\"data row11 col0\" >0.1592</td>\n",
       "                        <td id=\"T_aa8c8534_2ac0_11eb_99ad_a683e74b8ce2row11_col1\" class=\"data row11 col1\" >0.2507</td>\n",
       "                        <td id=\"T_aa8c8534_2ac0_11eb_99ad_a683e74b8ce2row11_col2\" class=\"data row11 col2\" >0.2494</td>\n",
       "                        <td id=\"T_aa8c8534_2ac0_11eb_99ad_a683e74b8ce2row11_col3\" class=\"data row11 col3\" >0.2056</td>\n",
       "                        <td id=\"T_aa8c8534_2ac0_11eb_99ad_a683e74b8ce2row11_col4\" class=\"data row11 col4\" >0.1688</td>\n",
       "                        <td id=\"T_aa8c8534_2ac0_11eb_99ad_a683e74b8ce2row11_col5\" class=\"data row11 col5\" >0.3025</td>\n",
       "                        <td id=\"T_aa8c8534_2ac0_11eb_99ad_a683e74b8ce2row11_col6\" class=\"data row11 col6\" >0.3320</td>\n",
       "            </tr>\n",
       "    </tbody></table>"
      ],
      "text/plain": [
       "<pandas.io.formats.style.Styler at 0x1460e7c18>"
      ]
     },
     "metadata": {},
     "output_type": "display_data"
    }
   ],
   "source": [
    "rf = create_model('rf')"
   ]
  },
  {
   "cell_type": "markdown",
   "metadata": {
    "colab_type": "text",
    "id": "8IA_BtchfuNt"
   },
   "source": [
    "### Regresión logística"
   ]
  },
  {
   "cell_type": "code",
   "execution_count": 15,
   "metadata": {
    "colab": {
     "base_uri": "https://localhost:8080/",
     "height": 421
    },
    "colab_type": "code",
    "id": "u3nAFk1MfuNv",
    "outputId": "a863ebc8-ead4-4edc-ce9d-d91653f4fbd6"
   },
   "outputs": [
    {
     "data": {
      "text/html": [
       "<style  type=\"text/css\" >\n",
       "#T_d0fb21bc_2ac0_11eb_99ad_a683e74b8ce2row10_col0,#T_d0fb21bc_2ac0_11eb_99ad_a683e74b8ce2row10_col1,#T_d0fb21bc_2ac0_11eb_99ad_a683e74b8ce2row10_col2,#T_d0fb21bc_2ac0_11eb_99ad_a683e74b8ce2row10_col3,#T_d0fb21bc_2ac0_11eb_99ad_a683e74b8ce2row10_col4,#T_d0fb21bc_2ac0_11eb_99ad_a683e74b8ce2row10_col5,#T_d0fb21bc_2ac0_11eb_99ad_a683e74b8ce2row10_col6{\n",
       "            background:  yellow;\n",
       "        }</style><table id=\"T_d0fb21bc_2ac0_11eb_99ad_a683e74b8ce2\" ><thead>    <tr>        <th class=\"blank level0\" ></th>        <th class=\"col_heading level0 col0\" >Accuracy</th>        <th class=\"col_heading level0 col1\" >AUC</th>        <th class=\"col_heading level0 col2\" >Recall</th>        <th class=\"col_heading level0 col3\" >Prec.</th>        <th class=\"col_heading level0 col4\" >F1</th>        <th class=\"col_heading level0 col5\" >Kappa</th>        <th class=\"col_heading level0 col6\" >MCC</th>    </tr></thead><tbody>\n",
       "                <tr>\n",
       "                        <th id=\"T_d0fb21bc_2ac0_11eb_99ad_a683e74b8ce2level0_row0\" class=\"row_heading level0 row0\" >0</th>\n",
       "                        <td id=\"T_d0fb21bc_2ac0_11eb_99ad_a683e74b8ce2row0_col0\" class=\"data row0 col0\" >0.8333</td>\n",
       "                        <td id=\"T_d0fb21bc_2ac0_11eb_99ad_a683e74b8ce2row0_col1\" class=\"data row0 col1\" >0.7778</td>\n",
       "                        <td id=\"T_d0fb21bc_2ac0_11eb_99ad_a683e74b8ce2row0_col2\" class=\"data row0 col2\" >0.6667</td>\n",
       "                        <td id=\"T_d0fb21bc_2ac0_11eb_99ad_a683e74b8ce2row0_col3\" class=\"data row0 col3\" >1.0000</td>\n",
       "                        <td id=\"T_d0fb21bc_2ac0_11eb_99ad_a683e74b8ce2row0_col4\" class=\"data row0 col4\" >0.8000</td>\n",
       "                        <td id=\"T_d0fb21bc_2ac0_11eb_99ad_a683e74b8ce2row0_col5\" class=\"data row0 col5\" >0.6667</td>\n",
       "                        <td id=\"T_d0fb21bc_2ac0_11eb_99ad_a683e74b8ce2row0_col6\" class=\"data row0 col6\" >0.7071</td>\n",
       "            </tr>\n",
       "            <tr>\n",
       "                        <th id=\"T_d0fb21bc_2ac0_11eb_99ad_a683e74b8ce2level0_row1\" class=\"row_heading level0 row1\" >1</th>\n",
       "                        <td id=\"T_d0fb21bc_2ac0_11eb_99ad_a683e74b8ce2row1_col0\" class=\"data row1 col0\" >0.5000</td>\n",
       "                        <td id=\"T_d0fb21bc_2ac0_11eb_99ad_a683e74b8ce2row1_col1\" class=\"data row1 col1\" >0.4444</td>\n",
       "                        <td id=\"T_d0fb21bc_2ac0_11eb_99ad_a683e74b8ce2row1_col2\" class=\"data row1 col2\" >0.3333</td>\n",
       "                        <td id=\"T_d0fb21bc_2ac0_11eb_99ad_a683e74b8ce2row1_col3\" class=\"data row1 col3\" >0.5000</td>\n",
       "                        <td id=\"T_d0fb21bc_2ac0_11eb_99ad_a683e74b8ce2row1_col4\" class=\"data row1 col4\" >0.4000</td>\n",
       "                        <td id=\"T_d0fb21bc_2ac0_11eb_99ad_a683e74b8ce2row1_col5\" class=\"data row1 col5\" >0.0000</td>\n",
       "                        <td id=\"T_d0fb21bc_2ac0_11eb_99ad_a683e74b8ce2row1_col6\" class=\"data row1 col6\" >0.0000</td>\n",
       "            </tr>\n",
       "            <tr>\n",
       "                        <th id=\"T_d0fb21bc_2ac0_11eb_99ad_a683e74b8ce2level0_row2\" class=\"row_heading level0 row2\" >2</th>\n",
       "                        <td id=\"T_d0fb21bc_2ac0_11eb_99ad_a683e74b8ce2row2_col0\" class=\"data row2 col0\" >0.8333</td>\n",
       "                        <td id=\"T_d0fb21bc_2ac0_11eb_99ad_a683e74b8ce2row2_col1\" class=\"data row2 col1\" >0.8889</td>\n",
       "                        <td id=\"T_d0fb21bc_2ac0_11eb_99ad_a683e74b8ce2row2_col2\" class=\"data row2 col2\" >1.0000</td>\n",
       "                        <td id=\"T_d0fb21bc_2ac0_11eb_99ad_a683e74b8ce2row2_col3\" class=\"data row2 col3\" >0.7500</td>\n",
       "                        <td id=\"T_d0fb21bc_2ac0_11eb_99ad_a683e74b8ce2row2_col4\" class=\"data row2 col4\" >0.8571</td>\n",
       "                        <td id=\"T_d0fb21bc_2ac0_11eb_99ad_a683e74b8ce2row2_col5\" class=\"data row2 col5\" >0.6667</td>\n",
       "                        <td id=\"T_d0fb21bc_2ac0_11eb_99ad_a683e74b8ce2row2_col6\" class=\"data row2 col6\" >0.7071</td>\n",
       "            </tr>\n",
       "            <tr>\n",
       "                        <th id=\"T_d0fb21bc_2ac0_11eb_99ad_a683e74b8ce2level0_row3\" class=\"row_heading level0 row3\" >3</th>\n",
       "                        <td id=\"T_d0fb21bc_2ac0_11eb_99ad_a683e74b8ce2row3_col0\" class=\"data row3 col0\" >0.3333</td>\n",
       "                        <td id=\"T_d0fb21bc_2ac0_11eb_99ad_a683e74b8ce2row3_col1\" class=\"data row3 col1\" >0.3333</td>\n",
       "                        <td id=\"T_d0fb21bc_2ac0_11eb_99ad_a683e74b8ce2row3_col2\" class=\"data row3 col2\" >0.3333</td>\n",
       "                        <td id=\"T_d0fb21bc_2ac0_11eb_99ad_a683e74b8ce2row3_col3\" class=\"data row3 col3\" >0.3333</td>\n",
       "                        <td id=\"T_d0fb21bc_2ac0_11eb_99ad_a683e74b8ce2row3_col4\" class=\"data row3 col4\" >0.3333</td>\n",
       "                        <td id=\"T_d0fb21bc_2ac0_11eb_99ad_a683e74b8ce2row3_col5\" class=\"data row3 col5\" >-0.3333</td>\n",
       "                        <td id=\"T_d0fb21bc_2ac0_11eb_99ad_a683e74b8ce2row3_col6\" class=\"data row3 col6\" >-0.3333</td>\n",
       "            </tr>\n",
       "            <tr>\n",
       "                        <th id=\"T_d0fb21bc_2ac0_11eb_99ad_a683e74b8ce2level0_row4\" class=\"row_heading level0 row4\" >4</th>\n",
       "                        <td id=\"T_d0fb21bc_2ac0_11eb_99ad_a683e74b8ce2row4_col0\" class=\"data row4 col0\" >0.8000</td>\n",
       "                        <td id=\"T_d0fb21bc_2ac0_11eb_99ad_a683e74b8ce2row4_col1\" class=\"data row4 col1\" >1.0000</td>\n",
       "                        <td id=\"T_d0fb21bc_2ac0_11eb_99ad_a683e74b8ce2row4_col2\" class=\"data row4 col2\" >1.0000</td>\n",
       "                        <td id=\"T_d0fb21bc_2ac0_11eb_99ad_a683e74b8ce2row4_col3\" class=\"data row4 col3\" >0.6667</td>\n",
       "                        <td id=\"T_d0fb21bc_2ac0_11eb_99ad_a683e74b8ce2row4_col4\" class=\"data row4 col4\" >0.8000</td>\n",
       "                        <td id=\"T_d0fb21bc_2ac0_11eb_99ad_a683e74b8ce2row4_col5\" class=\"data row4 col5\" >0.6154</td>\n",
       "                        <td id=\"T_d0fb21bc_2ac0_11eb_99ad_a683e74b8ce2row4_col6\" class=\"data row4 col6\" >0.6667</td>\n",
       "            </tr>\n",
       "            <tr>\n",
       "                        <th id=\"T_d0fb21bc_2ac0_11eb_99ad_a683e74b8ce2level0_row5\" class=\"row_heading level0 row5\" >5</th>\n",
       "                        <td id=\"T_d0fb21bc_2ac0_11eb_99ad_a683e74b8ce2row5_col0\" class=\"data row5 col0\" >0.8000</td>\n",
       "                        <td id=\"T_d0fb21bc_2ac0_11eb_99ad_a683e74b8ce2row5_col1\" class=\"data row5 col1\" >0.8333</td>\n",
       "                        <td id=\"T_d0fb21bc_2ac0_11eb_99ad_a683e74b8ce2row5_col2\" class=\"data row5 col2\" >1.0000</td>\n",
       "                        <td id=\"T_d0fb21bc_2ac0_11eb_99ad_a683e74b8ce2row5_col3\" class=\"data row5 col3\" >0.7500</td>\n",
       "                        <td id=\"T_d0fb21bc_2ac0_11eb_99ad_a683e74b8ce2row5_col4\" class=\"data row5 col4\" >0.8571</td>\n",
       "                        <td id=\"T_d0fb21bc_2ac0_11eb_99ad_a683e74b8ce2row5_col5\" class=\"data row5 col5\" >0.5455</td>\n",
       "                        <td id=\"T_d0fb21bc_2ac0_11eb_99ad_a683e74b8ce2row5_col6\" class=\"data row5 col6\" >0.6124</td>\n",
       "            </tr>\n",
       "            <tr>\n",
       "                        <th id=\"T_d0fb21bc_2ac0_11eb_99ad_a683e74b8ce2level0_row6\" class=\"row_heading level0 row6\" >6</th>\n",
       "                        <td id=\"T_d0fb21bc_2ac0_11eb_99ad_a683e74b8ce2row6_col0\" class=\"data row6 col0\" >0.6000</td>\n",
       "                        <td id=\"T_d0fb21bc_2ac0_11eb_99ad_a683e74b8ce2row6_col1\" class=\"data row6 col1\" >0.3333</td>\n",
       "                        <td id=\"T_d0fb21bc_2ac0_11eb_99ad_a683e74b8ce2row6_col2\" class=\"data row6 col2\" >0.6667</td>\n",
       "                        <td id=\"T_d0fb21bc_2ac0_11eb_99ad_a683e74b8ce2row6_col3\" class=\"data row6 col3\" >0.6667</td>\n",
       "                        <td id=\"T_d0fb21bc_2ac0_11eb_99ad_a683e74b8ce2row6_col4\" class=\"data row6 col4\" >0.6667</td>\n",
       "                        <td id=\"T_d0fb21bc_2ac0_11eb_99ad_a683e74b8ce2row6_col5\" class=\"data row6 col5\" >0.1667</td>\n",
       "                        <td id=\"T_d0fb21bc_2ac0_11eb_99ad_a683e74b8ce2row6_col6\" class=\"data row6 col6\" >0.1667</td>\n",
       "            </tr>\n",
       "            <tr>\n",
       "                        <th id=\"T_d0fb21bc_2ac0_11eb_99ad_a683e74b8ce2level0_row7\" class=\"row_heading level0 row7\" >7</th>\n",
       "                        <td id=\"T_d0fb21bc_2ac0_11eb_99ad_a683e74b8ce2row7_col0\" class=\"data row7 col0\" >0.2000</td>\n",
       "                        <td id=\"T_d0fb21bc_2ac0_11eb_99ad_a683e74b8ce2row7_col1\" class=\"data row7 col1\" >0.3333</td>\n",
       "                        <td id=\"T_d0fb21bc_2ac0_11eb_99ad_a683e74b8ce2row7_col2\" class=\"data row7 col2\" >0.3333</td>\n",
       "                        <td id=\"T_d0fb21bc_2ac0_11eb_99ad_a683e74b8ce2row7_col3\" class=\"data row7 col3\" >0.3333</td>\n",
       "                        <td id=\"T_d0fb21bc_2ac0_11eb_99ad_a683e74b8ce2row7_col4\" class=\"data row7 col4\" >0.3333</td>\n",
       "                        <td id=\"T_d0fb21bc_2ac0_11eb_99ad_a683e74b8ce2row7_col5\" class=\"data row7 col5\" >-0.6667</td>\n",
       "                        <td id=\"T_d0fb21bc_2ac0_11eb_99ad_a683e74b8ce2row7_col6\" class=\"data row7 col6\" >-0.6667</td>\n",
       "            </tr>\n",
       "            <tr>\n",
       "                        <th id=\"T_d0fb21bc_2ac0_11eb_99ad_a683e74b8ce2level0_row8\" class=\"row_heading level0 row8\" >8</th>\n",
       "                        <td id=\"T_d0fb21bc_2ac0_11eb_99ad_a683e74b8ce2row8_col0\" class=\"data row8 col0\" >1.0000</td>\n",
       "                        <td id=\"T_d0fb21bc_2ac0_11eb_99ad_a683e74b8ce2row8_col1\" class=\"data row8 col1\" >1.0000</td>\n",
       "                        <td id=\"T_d0fb21bc_2ac0_11eb_99ad_a683e74b8ce2row8_col2\" class=\"data row8 col2\" >1.0000</td>\n",
       "                        <td id=\"T_d0fb21bc_2ac0_11eb_99ad_a683e74b8ce2row8_col3\" class=\"data row8 col3\" >1.0000</td>\n",
       "                        <td id=\"T_d0fb21bc_2ac0_11eb_99ad_a683e74b8ce2row8_col4\" class=\"data row8 col4\" >1.0000</td>\n",
       "                        <td id=\"T_d0fb21bc_2ac0_11eb_99ad_a683e74b8ce2row8_col5\" class=\"data row8 col5\" >1.0000</td>\n",
       "                        <td id=\"T_d0fb21bc_2ac0_11eb_99ad_a683e74b8ce2row8_col6\" class=\"data row8 col6\" >1.0000</td>\n",
       "            </tr>\n",
       "            <tr>\n",
       "                        <th id=\"T_d0fb21bc_2ac0_11eb_99ad_a683e74b8ce2level0_row9\" class=\"row_heading level0 row9\" >9</th>\n",
       "                        <td id=\"T_d0fb21bc_2ac0_11eb_99ad_a683e74b8ce2row9_col0\" class=\"data row9 col0\" >0.6000</td>\n",
       "                        <td id=\"T_d0fb21bc_2ac0_11eb_99ad_a683e74b8ce2row9_col1\" class=\"data row9 col1\" >0.5000</td>\n",
       "                        <td id=\"T_d0fb21bc_2ac0_11eb_99ad_a683e74b8ce2row9_col2\" class=\"data row9 col2\" >0.6667</td>\n",
       "                        <td id=\"T_d0fb21bc_2ac0_11eb_99ad_a683e74b8ce2row9_col3\" class=\"data row9 col3\" >0.6667</td>\n",
       "                        <td id=\"T_d0fb21bc_2ac0_11eb_99ad_a683e74b8ce2row9_col4\" class=\"data row9 col4\" >0.6667</td>\n",
       "                        <td id=\"T_d0fb21bc_2ac0_11eb_99ad_a683e74b8ce2row9_col5\" class=\"data row9 col5\" >0.1667</td>\n",
       "                        <td id=\"T_d0fb21bc_2ac0_11eb_99ad_a683e74b8ce2row9_col6\" class=\"data row9 col6\" >0.1667</td>\n",
       "            </tr>\n",
       "            <tr>\n",
       "                        <th id=\"T_d0fb21bc_2ac0_11eb_99ad_a683e74b8ce2level0_row10\" class=\"row_heading level0 row10\" >Mean</th>\n",
       "                        <td id=\"T_d0fb21bc_2ac0_11eb_99ad_a683e74b8ce2row10_col0\" class=\"data row10 col0\" >0.6500</td>\n",
       "                        <td id=\"T_d0fb21bc_2ac0_11eb_99ad_a683e74b8ce2row10_col1\" class=\"data row10 col1\" >0.6444</td>\n",
       "                        <td id=\"T_d0fb21bc_2ac0_11eb_99ad_a683e74b8ce2row10_col2\" class=\"data row10 col2\" >0.7000</td>\n",
       "                        <td id=\"T_d0fb21bc_2ac0_11eb_99ad_a683e74b8ce2row10_col3\" class=\"data row10 col3\" >0.6667</td>\n",
       "                        <td id=\"T_d0fb21bc_2ac0_11eb_99ad_a683e74b8ce2row10_col4\" class=\"data row10 col4\" >0.6714</td>\n",
       "                        <td id=\"T_d0fb21bc_2ac0_11eb_99ad_a683e74b8ce2row10_col5\" class=\"data row10 col5\" >0.2828</td>\n",
       "                        <td id=\"T_d0fb21bc_2ac0_11eb_99ad_a683e74b8ce2row10_col6\" class=\"data row10 col6\" >0.3027</td>\n",
       "            </tr>\n",
       "            <tr>\n",
       "                        <th id=\"T_d0fb21bc_2ac0_11eb_99ad_a683e74b8ce2level0_row11\" class=\"row_heading level0 row11\" >SD</th>\n",
       "                        <td id=\"T_d0fb21bc_2ac0_11eb_99ad_a683e74b8ce2row11_col0\" class=\"data row11 col0\" >0.2377</td>\n",
       "                        <td id=\"T_d0fb21bc_2ac0_11eb_99ad_a683e74b8ce2row11_col1\" class=\"data row11 col1\" >0.2678</td>\n",
       "                        <td id=\"T_d0fb21bc_2ac0_11eb_99ad_a683e74b8ce2row11_col2\" class=\"data row11 col2\" >0.2769</td>\n",
       "                        <td id=\"T_d0fb21bc_2ac0_11eb_99ad_a683e74b8ce2row11_col3\" class=\"data row11 col3\" >0.2205</td>\n",
       "                        <td id=\"T_d0fb21bc_2ac0_11eb_99ad_a683e74b8ce2row11_col4\" class=\"data row11 col4\" >0.2263</td>\n",
       "                        <td id=\"T_d0fb21bc_2ac0_11eb_99ad_a683e74b8ce2row11_col5\" class=\"data row11 col5\" >0.4875</td>\n",
       "                        <td id=\"T_d0fb21bc_2ac0_11eb_99ad_a683e74b8ce2row11_col6\" class=\"data row11 col6\" >0.5015</td>\n",
       "            </tr>\n",
       "    </tbody></table>"
      ],
      "text/plain": [
       "<pandas.io.formats.style.Styler at 0x145eee128>"
      ]
     },
     "metadata": {},
     "output_type": "display_data"
    }
   ],
   "source": [
    "lr = create_model('lr')"
   ]
  },
  {
   "cell_type": "markdown",
   "metadata": {
    "colab_type": "text",
    "id": "jzY5pn-OfuN4"
   },
   "source": [
    "# 4.0 Vamos a afinar los hiperparámetros buscando maximizar la precisión"
   ]
  },
  {
   "cell_type": "markdown",
   "metadata": {
    "colab_type": "text",
    "id": "WVgKXyjdfuN7"
   },
   "source": [
    "### Catboost"
   ]
  },
  {
   "cell_type": "code",
   "execution_count": null,
   "metadata": {
    "colab": {
     "base_uri": "https://localhost:8080/",
     "height": 421
    },
    "colab_type": "code",
    "id": "sQqeuiqLfuN9",
    "outputId": "2ae99738-689c-4506-da89-2a5710b2b40b"
   },
   "outputs": [
    {
     "data": {
      "application/vnd.jupyter.widget-view+json": {
       "model_id": "fef2488e85a140cf99a70906fa283d75",
       "version_major": 2,
       "version_minor": 0
      },
      "text/plain": [
       "IntProgress(value=0, description='Processing: ', max=7)"
      ]
     },
     "metadata": {},
     "output_type": "display_data"
    },
    {
     "data": {
      "text/html": [
       "<div>\n",
       "<style scoped>\n",
       "    .dataframe tbody tr th:only-of-type {\n",
       "        vertical-align: middle;\n",
       "    }\n",
       "\n",
       "    .dataframe tbody tr th {\n",
       "        vertical-align: top;\n",
       "    }\n",
       "\n",
       "    .dataframe thead th {\n",
       "        text-align: right;\n",
       "    }\n",
       "</style>\n",
       "<table border=\"1\" class=\"dataframe\">\n",
       "  <thead>\n",
       "    <tr style=\"text-align: right;\">\n",
       "      <th></th>\n",
       "      <th></th>\n",
       "      <th></th>\n",
       "    </tr>\n",
       "    <tr>\n",
       "      <th></th>\n",
       "      <th></th>\n",
       "      <th></th>\n",
       "    </tr>\n",
       "  </thead>\n",
       "  <tbody>\n",
       "    <tr>\n",
       "      <th>Initiated</th>\n",
       "      <td>. . . . . . . . . . . . . . . . . .</td>\n",
       "      <td>17:41:59</td>\n",
       "    </tr>\n",
       "    <tr>\n",
       "      <th>Status</th>\n",
       "      <td>. . . . . . . . . . . . . . . . . .</td>\n",
       "      <td>Searching Hyperparameters</td>\n",
       "    </tr>\n",
       "    <tr>\n",
       "      <th>Estimator</th>\n",
       "      <td>. . . . . . . . . . . . . . . . . .</td>\n",
       "      <td>CatBoost Classifier</td>\n",
       "    </tr>\n",
       "  </tbody>\n",
       "</table>\n",
       "</div>"
      ],
      "text/plain": [
       "                                                                         \n",
       "                                                                         \n",
       "Initiated  . . . . . . . . . . . . . . . . . .                   17:41:59\n",
       "Status     . . . . . . . . . . . . . . . . . .  Searching Hyperparameters\n",
       "Estimator  . . . . . . . . . . . . . . . . . .        CatBoost Classifier"
      ]
     },
     "metadata": {},
     "output_type": "display_data"
    },
    {
     "data": {
      "text/html": [
       "<div>\n",
       "<style scoped>\n",
       "    .dataframe tbody tr th:only-of-type {\n",
       "        vertical-align: middle;\n",
       "    }\n",
       "\n",
       "    .dataframe tbody tr th {\n",
       "        vertical-align: top;\n",
       "    }\n",
       "\n",
       "    .dataframe thead th {\n",
       "        text-align: right;\n",
       "    }\n",
       "</style>\n",
       "<table border=\"1\" class=\"dataframe\">\n",
       "  <thead>\n",
       "    <tr style=\"text-align: right;\">\n",
       "      <th></th>\n",
       "      <th>Accuracy</th>\n",
       "      <th>AUC</th>\n",
       "      <th>Recall</th>\n",
       "      <th>Prec.</th>\n",
       "      <th>F1</th>\n",
       "      <th>Kappa</th>\n",
       "      <th>MCC</th>\n",
       "    </tr>\n",
       "  </thead>\n",
       "  <tbody>\n",
       "  </tbody>\n",
       "</table>\n",
       "</div>"
      ],
      "text/plain": [
       "Empty DataFrame\n",
       "Columns: [Accuracy, AUC, Recall, Prec., F1, Kappa, MCC]\n",
       "Index: []"
      ]
     },
     "metadata": {},
     "output_type": "display_data"
    },
    {
     "name": "stdout",
     "output_type": "stream",
     "text": [
      "Fitting 10 folds for each of 50 candidates, totalling 500 fits\n"
     ]
    },
    {
     "name": "stderr",
     "output_type": "stream",
     "text": [
      "[Parallel(n_jobs=-1)]: Using backend LokyBackend with 16 concurrent workers.\n",
      "[Parallel(n_jobs=-1)]: Done  18 tasks      | elapsed:   26.4s\n"
     ]
    }
   ],
   "source": [
    "tuned_catboost = tune_model(catboost,optimize = 'Precision',choose_better=True,n_iter=50)"
   ]
  },
  {
   "cell_type": "code",
   "execution_count": null,
   "metadata": {
    "colab": {
     "base_uri": "https://localhost:8080/",
     "height": 272
    },
    "colab_type": "code",
    "id": "Wgxxg07CfuOD",
    "outputId": "78e965df-7c6a-4548-b2ec-57a051df89bd"
   },
   "outputs": [],
   "source": [
    "#tuned model object is stored in the variable 'tuned_dt'. \n",
    "print(tuned_catboost)"
   ]
  },
  {
   "cell_type": "markdown",
   "metadata": {
    "colab_type": "text",
    "id": "fe9QKCZ8fuOU"
   },
   "source": [
    "### Random Forest"
   ]
  },
  {
   "cell_type": "code",
   "execution_count": null,
   "metadata": {},
   "outputs": [],
   "source": [
    "tuned_rf = tune_model(rf,optimize = 'Precision',choose_better=True,n_iter=50)"
   ]
  },
  {
   "cell_type": "markdown",
   "metadata": {
    "colab_type": "text",
    "id": "oF2hDwoifuOd"
   },
   "source": [
    "### Regresión logística"
   ]
  },
  {
   "cell_type": "code",
   "execution_count": null,
   "metadata": {
    "colab": {
     "base_uri": "https://localhost:8080/",
     "height": 421
    },
    "colab_type": "code",
    "id": "3wyDGn_NfuOf",
    "outputId": "de306431-f9f6-4a25-cefb-03201aa77b96",
    "scrolled": true
   },
   "outputs": [],
   "source": [
    "tuned_lr = tune_model(lr,optimize = 'Precision',choose_better=True,n_iter=50)"
   ]
  },
  {
   "cell_type": "markdown",
   "metadata": {
    "colab_type": "text",
    "id": "3zct2zSYfuOl"
   },
   "source": [
    "# 5.0 Gráficas de los modelos afinados"
   ]
  },
  {
   "cell_type": "markdown",
   "metadata": {
    "colab_type": "text",
    "id": "AegNi_BXfuOn"
   },
   "source": [
    "### Matriz de confusión"
   ]
  },
  {
   "cell_type": "code",
   "execution_count": null,
   "metadata": {
    "colab": {
     "base_uri": "https://localhost:8080/",
     "height": 374
    },
    "colab_type": "code",
    "id": "kI0tERkNfuOo",
    "outputId": "d13e1e50-aa8c-420e-ba85-3affca7b9500"
   },
   "outputs": [],
   "source": [
    "plot_model(tuned_rf, plot = 'confusion_matrix')"
   ]
  },
  {
   "cell_type": "markdown",
   "metadata": {
    "colab_type": "text",
    "id": "iidIhDUufuOx"
   },
   "source": [
    "### Mapa de decisión"
   ]
  },
  {
   "cell_type": "code",
   "execution_count": null,
   "metadata": {
    "colab": {
     "base_uri": "https://localhost:8080/",
     "height": 361
    },
    "colab_type": "code",
    "id": "9_2R_acYfuOz",
    "outputId": "aedd0637-b29e-49e5-999a-a255be6bd313"
   },
   "outputs": [],
   "source": [
    "plot_model(tuned_catboost, plot='boundary')"
   ]
  },
  {
   "cell_type": "markdown",
   "metadata": {
    "colab_type": "text",
    "id": "JY8z7B8MfuO2"
   },
   "source": [
    "### Error"
   ]
  },
  {
   "cell_type": "code",
   "execution_count": null,
   "metadata": {
    "colab": {
     "base_uri": "https://localhost:8080/",
     "height": 401
    },
    "colab_type": "code",
    "id": "AtSP2JAXfuO3",
    "outputId": "e3230ae1-7d7e-4270-9935-f2dd54295dd1"
   },
   "outputs": [],
   "source": [
    "plot_model(tuned_catboost, plot = 'error')"
   ]
  },
  {
   "cell_type": "markdown",
   "metadata": {},
   "source": [
    "### Seleccionar dinámicamente las gráficas"
   ]
  },
  {
   "cell_type": "code",
   "execution_count": null,
   "metadata": {
    "colab": {
     "base_uri": "https://localhost:8080/",
     "height": 421,
     "referenced_widgets": [
      "9cc0efb4189e48c6beb4fe1c0c4a2fdc",
      "a63ed06ee88c4ca3883ac38e665bddf8",
      "b046e2e525ca425a80aac86d7b665854",
      "36a827017abf468d939c97492b5c73ab",
      "17f607299eaf4b05a1542960ba1f8953",
      "e4c7bdc3be744945b405b9905048f64f",
      "bdb566b147ef4202b351fd1014883ce6",
      "0a505068ebbf4d068aa7d75f702ac715",
      "094d443554a84f2788d4802512cda617",
      "4c1ee7022483425d9541b0e49f1efcd2",
      "17810a03d1424e729b70ec2044e9e7f6",
      "9d7425bc499c4f57a680a7166389e5dc",
      "08ddc7a42f8d492faa945a5d7eac4a86",
      "0a1412c6e3f6498ca9d221f259716943",
      "6e43059d835f4d62aa1e5c5bf7d676e1",
      "c20470f03116445ab707f5857592d046",
      "52e6b5978ec94fdabdc9adf9286c3078",
      "d0366972e1664000b72674d0a285a785",
      "66b421a890bc462b97e5d9d23fe5809a",
      "904ec053638f498aa1d0e4944145f736",
      "d8e230198678421ea3afef9ca721090d",
      "a1a8e8de38404b83bec2300554e42aa8",
      "7448bcccbfaa432c8f1f9936a51ccf3c",
      "eae1b12ae33041e9a14d7372fd0d6be3",
      "2d502879922046aaba1d84769e93ff1b",
      "0dc3288edbff469189f52ebf88863853",
      "d360dbb5ee734c839b8a30238d824633",
      "f0c4a07ca3cf4460bed061f0609b9b2b",
      "57e3592dda974775b2fc52ee73ecb50c",
      "cc64cb2f6f8148d7ad9ce9d9cd16dd5f",
      "3dd8046812e942bf9e2ccc62ba4bf2a5",
      "a4291bb80392498ba074a033b6c60d86",
      "2c22eeecfa054ab59f5a2bc6ea4e7244",
      "46eb9473b4c64c59956eae387e60555a",
      "eecbd2ce9de64166bcfddadaef395d65",
      "4e0a64915ccd490aae253c73dbf91a99"
     ]
    },
    "colab_type": "code",
    "id": "K5pXw5FFfuO8",
    "outputId": "3efd9151-1313-4d83-ccbb-877e088c44bc"
   },
   "outputs": [],
   "source": [
    "evaluate_model(tuned_catboost)"
   ]
  },
  {
   "cell_type": "markdown",
   "metadata": {
    "colab_type": "text",
    "id": "Wo-Ob7AffuO_"
   },
   "source": [
    "# 6.0 Predicción en el conjunto de entrenamiento"
   ]
  },
  {
   "cell_type": "code",
   "execution_count": null,
   "metadata": {
    "colab": {
     "base_uri": "https://localhost:8080/",
     "height": 80
    },
    "colab_type": "code",
    "id": "8handW2hfuPD",
    "outputId": "b654968b-faec-4ce4-ff3b-338e263c2ceb"
   },
   "outputs": [],
   "source": [
    "predict_model(tuned_catboost);"
   ]
  },
  {
   "cell_type": "code",
   "execution_count": null,
   "metadata": {},
   "outputs": [],
   "source": [
    "predict_model(tuned_rf);"
   ]
  },
  {
   "cell_type": "code",
   "execution_count": null,
   "metadata": {},
   "outputs": [],
   "source": [
    "predict_model(tuned_lr);"
   ]
  },
  {
   "cell_type": "markdown",
   "metadata": {
    "colab_type": "text",
    "id": "HaVz-bOIfuPN"
   },
   "source": [
    "# 7.0 Entrenaremos sobre el 100% de los datos ya que el modelo fue afinado y está listo para producción"
   ]
  },
  {
   "cell_type": "code",
   "execution_count": null,
   "metadata": {
    "colab": {},
    "colab_type": "code",
    "id": "oIOJaUkEfuPP"
   },
   "outputs": [],
   "source": [
    "final_catboost = finalize_model(tuned_catboost)"
   ]
  },
  {
   "cell_type": "code",
   "execution_count": null,
   "metadata": {},
   "outputs": [],
   "source": [
    "final_rf = finalize_model(tuned_rf)"
   ]
  },
  {
   "cell_type": "code",
   "execution_count": null,
   "metadata": {},
   "outputs": [],
   "source": [
    "final_lr = finalize_model(tuned_lr)"
   ]
  },
  {
   "cell_type": "code",
   "execution_count": null,
   "metadata": {
    "colab": {
     "base_uri": "https://localhost:8080/",
     "height": 136
    },
    "colab_type": "code",
    "id": "tyo7534XfuPV",
    "outputId": "c4562eb1-07ac-4c3b-b56d-4f7ae25d929a"
   },
   "outputs": [],
   "source": [
    "#Final K Nearest Neighbour parameters for deployment\n",
    "print(final_lr)"
   ]
  },
  {
   "cell_type": "markdown",
   "metadata": {
    "colab_type": "text",
    "id": "uAhEcJnqfuPs"
   },
   "source": [
    "# 8.0 Serializamos el modelo"
   ]
  },
  {
   "cell_type": "code",
   "execution_count": null,
   "metadata": {
    "colab": {
     "base_uri": "https://localhost:8080/",
     "height": 34
    },
    "colab_type": "code",
    "id": "2UL0UC7UfuPu",
    "outputId": "003611da-e34b-4de1-d251-94e633323ee7"
   },
   "outputs": [],
   "source": [
    "save_model(final_catboost,'Final catboost Model 08Feb2020')"
   ]
  },
  {
   "cell_type": "code",
   "execution_count": null,
   "metadata": {},
   "outputs": [],
   "source": [
    "save_model(final_rf,'Final rf Model 08Feb2020')"
   ]
  },
  {
   "cell_type": "code",
   "execution_count": null,
   "metadata": {},
   "outputs": [],
   "source": [
    "save_model(final_lr,'Final lr Model 08Feb2020')"
   ]
  },
  {
   "cell_type": "markdown",
   "metadata": {
    "colab_type": "text",
    "id": "Gt94CUaXfuPz"
   },
   "source": [
    "(TIP : It's always good to use date in the filename when saving models, it's good for version control.)"
   ]
  },
  {
   "cell_type": "markdown",
   "metadata": {
    "colab_type": "text",
    "id": "uVFI4If3fuP1"
   },
   "source": [
    "# 9.0 Cargamos el modelo serializado"
   ]
  },
  {
   "cell_type": "code",
   "execution_count": null,
   "metadata": {
    "colab": {
     "base_uri": "https://localhost:8080/",
     "height": 34
    },
    "colab_type": "code",
    "id": "8ThDTvUifuP6",
    "outputId": "c599c153-1079-477c-a8d7-66cc846fc0c2"
   },
   "outputs": [],
   "source": [
    "saved_final_catboost = load_model('Final catboost Model 08Feb2020')"
   ]
  },
  {
   "cell_type": "code",
   "execution_count": null,
   "metadata": {},
   "outputs": [],
   "source": [
    "saved_final_rf = load_model('Final rf Model 08Feb2020')"
   ]
  },
  {
   "cell_type": "code",
   "execution_count": null,
   "metadata": {},
   "outputs": [],
   "source": [
    "saved_final_lr = load_model('Final lr Model 08Feb2020')"
   ]
  },
  {
   "cell_type": "markdown",
   "metadata": {},
   "source": [
    "# 10.0 Vamos a traer datos que no ha visto nunca el modelo ya que son los que buscamos predecir. Los datos de JESC 2020 analizados por Spotify API\n",
    "\n",
    "Evidentenemtnte estos datos no contienen la puntuación, ya que es lo que buscamos predecir"
   ]
  },
  {
   "cell_type": "code",
   "execution_count": null,
   "metadata": {},
   "outputs": [],
   "source": [
    "data_unseen=pd.read_csv(\"final.csv\")\n",
    "data_unseen"
   ]
  },
  {
   "cell_type": "markdown",
   "metadata": {},
   "source": [
    "### Vemos las columnas para tener mayor transparencia en este conjunto de datos que deseamos predecir"
   ]
  },
  {
   "cell_type": "code",
   "execution_count": null,
   "metadata": {},
   "outputs": [],
   "source": [
    "data_unseen.columns"
   ]
  },
  {
   "cell_type": "code",
   "execution_count": null,
   "metadata": {
    "colab": {},
    "colab_type": "code",
    "id": "bcPp5zcjfuQD"
   },
   "outputs": [],
   "source": [
    "new_prediction = predict_model(saved_final_catboost, data=data_unseen)"
   ]
  },
  {
   "cell_type": "code",
   "execution_count": null,
   "metadata": {},
   "outputs": [],
   "source": [
    "new_prediction2 = predict_model(saved_final_rf, data=data_unseen)"
   ]
  },
  {
   "cell_type": "code",
   "execution_count": null,
   "metadata": {},
   "outputs": [],
   "source": [
    "new_prediction3 = predict_model(saved_final_lr, data=data_unseen)"
   ]
  },
  {
   "cell_type": "markdown",
   "metadata": {},
   "source": [
    "## Esta función predice la etiqueta y el \"Score\" (probabilidad de la clase predicha) utilizando un modelo entrenado. "
   ]
  },
  {
   "cell_type": "code",
   "execution_count": null,
   "metadata": {
    "colab": {
     "base_uri": "https://localhost:8080/",
     "height": 204
    },
    "colab_type": "code",
    "id": "NYhNg8RyfuQM",
    "outputId": "05ff52a7-a98a-4d45-f2b7-75d3186785ce",
    "scrolled": true
   },
   "outputs": [],
   "source": [
    "pd.merge(new_prediction.sort_values(by='Label'),data_unseen['Country'],left_index=True,right_index=True).sort_values(by=['Label','Score'],ascending=False)"
   ]
  },
  {
   "cell_type": "code",
   "execution_count": null,
   "metadata": {},
   "outputs": [],
   "source": [
    "pd.merge(new_prediction2.sort_values(by='Label'),data_unseen['Country'],left_index=True,right_index=True).sort_values(by=['Label','Score'],ascending=False)"
   ]
  },
  {
   "cell_type": "code",
   "execution_count": null,
   "metadata": {},
   "outputs": [],
   "source": [
    "pd.merge(new_prediction3.sort_values(by='Label'),data_unseen['Country'],left_index=True,right_index=True).sort_values(by=['Label','Score'],ascending=False)"
   ]
  },
  {
   "cell_type": "markdown",
   "metadata": {},
   "source": [
    "- Vemos entonces que la mejor canción según el modelo es Holanda, Francia, Bielorusia y Polonia.\n",
    "- Las peores serían Alemania, Rusia, España y Ukrania"
   ]
  },
  {
   "cell_type": "code",
   "execution_count": null,
   "metadata": {},
   "outputs": [],
   "source": [
    "blender_specific=blend_models(estimator_list=compare_models(n_select=5))"
   ]
  },
  {
   "cell_type": "code",
   "execution_count": null,
   "metadata": {
    "scrolled": true
   },
   "outputs": [],
   "source": [
    "blender_tuned=blend_models(estimator_list=[tuned_catboost,tuned_rf,tuned_lr],method='soft',choose_better=True,optimize='Precision')"
   ]
  },
  {
   "cell_type": "code",
   "execution_count": null,
   "metadata": {},
   "outputs": [],
   "source": [
    "predict_model(blender_tuned);"
   ]
  },
  {
   "cell_type": "code",
   "execution_count": null,
   "metadata": {},
   "outputs": [],
   "source": [
    "final_blend = finalize_model(blender_tuned)"
   ]
  },
  {
   "cell_type": "code",
   "execution_count": null,
   "metadata": {},
   "outputs": [],
   "source": [
    "new_prediction4 = predict_model(final_blend, data=data_unseen)"
   ]
  },
  {
   "cell_type": "code",
   "execution_count": null,
   "metadata": {},
   "outputs": [],
   "source": [
    "final=pd.merge(new_prediction4.sort_values(by='Label'),data_unseen['Country'],left_index=True,right_index=True).sort_values(by=['Label','Score'],ascending=False)"
   ]
  },
  {
   "cell_type": "code",
   "execution_count": null,
   "metadata": {},
   "outputs": [],
   "source": [
    "final"
   ]
  },
  {
   "cell_type": "code",
   "execution_count": null,
   "metadata": {},
   "outputs": [],
   "source": [
    "final[['Label','Score','Country']].reset_index(drop=True)"
   ]
  },
  {
   "cell_type": "code",
   "execution_count": null,
   "metadata": {},
   "outputs": [],
   "source": [
    "plot_model(final_blend, plot = ' ',use_train_data=True)"
   ]
  },
  {
   "cell_type": "code",
   "execution_count": null,
   "metadata": {},
   "outputs": [],
   "source": []
  }
 ],
 "metadata": {
  "colab": {
   "collapsed_sections": [
    "e-NQVSpIfuMi",
    "QXG8qOz5fuM3",
    "i9ZvVSDYfuNL",
    "qH7AeJqjfuNX",
    "yyApyoXbfuNZ",
    "PhHDTJYwfuNl",
    "8IA_BtchfuNt",
    "jzY5pn-OfuN4",
    "WVgKXyjdfuN7",
    "fe9QKCZ8fuOU",
    "oF2hDwoifuOd",
    "3zct2zSYfuOl",
    "AegNi_BXfuOn",
    "WdQqEtO4fuOt",
    "iidIhDUufuOx",
    "Wo-Ob7AffuO_",
    "HaVz-bOIfuPN",
    "da2mWvRefuPk",
    "uAhEcJnqfuPs",
    "uVFI4If3fuP1",
    "9_gIC-mSfuQR"
   ],
   "name": "Multiclass Classification Tutorial (MCLF101) - Level Beginner (ACN_EDITS).ipynb",
   "provenance": []
  },
  "kernelspec": {
   "display_name": "Python 3",
   "language": "python",
   "name": "python3"
  },
  "language_info": {
   "codemirror_mode": {
    "name": "ipython",
    "version": 3
   },
   "file_extension": ".py",
   "mimetype": "text/x-python",
   "name": "python",
   "nbconvert_exporter": "python",
   "pygments_lexer": "ipython3",
   "version": "3.7.3"
  },
  "widgets": {
   "application/vnd.jupyter.widget-state+json": {
    "08ddc7a42f8d492faa945a5d7eac4a86": {
     "model_module": "@jupyter-widgets/controls",
     "model_name": "IntProgressModel",
     "state": {
      "_dom_classes": [],
      "_model_module": "@jupyter-widgets/controls",
      "_model_module_version": "1.5.0",
      "_model_name": "IntProgressModel",
      "_view_count": null,
      "_view_module": "@jupyter-widgets/controls",
      "_view_module_version": "1.5.0",
      "_view_name": "ProgressView",
      "bar_style": "",
      "description": "Processing: ",
      "description_tooltip": null,
      "layout": "IPY_MODEL_6e43059d835f4d62aa1e5c5bf7d676e1",
      "max": 5,
      "min": 0,
      "orientation": "horizontal",
      "style": "IPY_MODEL_0a1412c6e3f6498ca9d221f259716943",
      "value": 5
     }
    },
    "094d443554a84f2788d4802512cda617": {
     "model_module": "@jupyter-widgets/base",
     "model_name": "LayoutModel",
     "state": {
      "_model_module": "@jupyter-widgets/base",
      "_model_module_version": "1.2.0",
      "_model_name": "LayoutModel",
      "_view_count": null,
      "_view_module": "@jupyter-widgets/base",
      "_view_module_version": "1.2.0",
      "_view_name": "LayoutView",
      "align_content": null,
      "align_items": null,
      "align_self": null,
      "border": null,
      "bottom": null,
      "display": null,
      "flex": null,
      "flex_flow": null,
      "grid_area": null,
      "grid_auto_columns": null,
      "grid_auto_flow": null,
      "grid_auto_rows": null,
      "grid_column": null,
      "grid_gap": null,
      "grid_row": null,
      "grid_template_areas": null,
      "grid_template_columns": null,
      "grid_template_rows": null,
      "height": null,
      "justify_content": null,
      "justify_items": null,
      "left": null,
      "margin": null,
      "max_height": null,
      "max_width": null,
      "min_height": null,
      "min_width": null,
      "object_fit": null,
      "object_position": null,
      "order": null,
      "overflow": null,
      "overflow_x": null,
      "overflow_y": null,
      "padding": null,
      "right": null,
      "top": null,
      "visibility": null,
      "width": null
     }
    },
    "0a1412c6e3f6498ca9d221f259716943": {
     "model_module": "@jupyter-widgets/controls",
     "model_name": "ProgressStyleModel",
     "state": {
      "_model_module": "@jupyter-widgets/controls",
      "_model_module_version": "1.5.0",
      "_model_name": "ProgressStyleModel",
      "_view_count": null,
      "_view_module": "@jupyter-widgets/base",
      "_view_module_version": "1.2.0",
      "_view_name": "StyleView",
      "bar_color": null,
      "description_width": ""
     }
    },
    "0a505068ebbf4d068aa7d75f702ac715": {
     "model_module": "@jupyter-widgets/controls",
     "model_name": "ProgressStyleModel",
     "state": {
      "_model_module": "@jupyter-widgets/controls",
      "_model_module_version": "1.5.0",
      "_model_name": "ProgressStyleModel",
      "_view_count": null,
      "_view_module": "@jupyter-widgets/base",
      "_view_module_version": "1.2.0",
      "_view_name": "StyleView",
      "bar_color": null,
      "description_width": ""
     }
    },
    "0dc3288edbff469189f52ebf88863853": {
     "model_module": "@jupyter-widgets/controls",
     "model_name": "ProgressStyleModel",
     "state": {
      "_model_module": "@jupyter-widgets/controls",
      "_model_module_version": "1.5.0",
      "_model_name": "ProgressStyleModel",
      "_view_count": null,
      "_view_module": "@jupyter-widgets/base",
      "_view_module_version": "1.2.0",
      "_view_name": "StyleView",
      "bar_color": null,
      "description_width": ""
     }
    },
    "17810a03d1424e729b70ec2044e9e7f6": {
     "model_module": "@jupyter-widgets/controls",
     "model_name": "ProgressStyleModel",
     "state": {
      "_model_module": "@jupyter-widgets/controls",
      "_model_module_version": "1.5.0",
      "_model_name": "ProgressStyleModel",
      "_view_count": null,
      "_view_module": "@jupyter-widgets/base",
      "_view_module_version": "1.2.0",
      "_view_name": "StyleView",
      "bar_color": null,
      "description_width": ""
     }
    },
    "17f607299eaf4b05a1542960ba1f8953": {
     "model_module": "@jupyter-widgets/controls",
     "model_name": "ToggleButtonsStyleModel",
     "state": {
      "_model_module": "@jupyter-widgets/controls",
      "_model_module_version": "1.5.0",
      "_model_name": "ToggleButtonsStyleModel",
      "_view_count": null,
      "_view_module": "@jupyter-widgets/base",
      "_view_module_version": "1.2.0",
      "_view_name": "StyleView",
      "button_width": "",
      "description_width": "",
      "font_weight": ""
     }
    },
    "2c22eeecfa054ab59f5a2bc6ea4e7244": {
     "model_module": "@jupyter-widgets/base",
     "model_name": "LayoutModel",
     "state": {
      "_model_module": "@jupyter-widgets/base",
      "_model_module_version": "1.2.0",
      "_model_name": "LayoutModel",
      "_view_count": null,
      "_view_module": "@jupyter-widgets/base",
      "_view_module_version": "1.2.0",
      "_view_name": "LayoutView",
      "align_content": null,
      "align_items": null,
      "align_self": null,
      "border": null,
      "bottom": null,
      "display": null,
      "flex": null,
      "flex_flow": null,
      "grid_area": null,
      "grid_auto_columns": null,
      "grid_auto_flow": null,
      "grid_auto_rows": null,
      "grid_column": null,
      "grid_gap": null,
      "grid_row": null,
      "grid_template_areas": null,
      "grid_template_columns": null,
      "grid_template_rows": null,
      "height": null,
      "justify_content": null,
      "justify_items": null,
      "left": null,
      "margin": null,
      "max_height": null,
      "max_width": null,
      "min_height": null,
      "min_width": null,
      "object_fit": null,
      "object_position": null,
      "order": null,
      "overflow": null,
      "overflow_x": null,
      "overflow_y": null,
      "padding": null,
      "right": null,
      "top": null,
      "visibility": null,
      "width": null
     }
    },
    "2d502879922046aaba1d84769e93ff1b": {
     "model_module": "@jupyter-widgets/controls",
     "model_name": "IntProgressModel",
     "state": {
      "_dom_classes": [],
      "_model_module": "@jupyter-widgets/controls",
      "_model_module_version": "1.5.0",
      "_model_name": "IntProgressModel",
      "_view_count": null,
      "_view_module": "@jupyter-widgets/controls",
      "_view_module_version": "1.5.0",
      "_view_name": "ProgressView",
      "bar_style": "",
      "description": "Processing: ",
      "description_tooltip": null,
      "layout": "IPY_MODEL_d360dbb5ee734c839b8a30238d824633",
      "max": 5,
      "min": 0,
      "orientation": "horizontal",
      "style": "IPY_MODEL_0dc3288edbff469189f52ebf88863853",
      "value": 5
     }
    },
    "36a827017abf468d939c97492b5c73ab": {
     "model_module": "@jupyter-widgets/output",
     "model_name": "OutputModel",
     "state": {
      "_dom_classes": [],
      "_model_module": "@jupyter-widgets/output",
      "_model_module_version": "1.0.0",
      "_model_name": "OutputModel",
      "_view_count": null,
      "_view_module": "@jupyter-widgets/output",
      "_view_module_version": "1.0.0",
      "_view_name": "OutputView",
      "layout": "IPY_MODEL_8d00ff3d9987467db4b233132c5a3499",
      "msg_id": "",
      "outputs": [
       {
        "image/png": "iVBORw0KGgoAAAANSUhEUgAAAe0AAAFYCAYAAAB+s6Q9AAAABHNCSVQICAgIfAhkiAAAAAlwSFlz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\nBEEQhCBQ0yYIgiAIQfj/AZWi8U33gZV0AAAAAElFTkSuQmCC\n",
        "metadata": {
         "tags": []
        },
        "output_type": "display_data",
        "text/plain": "<Figure size 576x396 with 1 Axes>"
       }
      ]
     }
    },
    "3dd8046812e942bf9e2ccc62ba4bf2a5": {
     "model_module": "@jupyter-widgets/controls",
     "model_name": "IntProgressModel",
     "state": {
      "_dom_classes": [],
      "_model_module": "@jupyter-widgets/controls",
      "_model_module_version": "1.5.0",
      "_model_name": "IntProgressModel",
      "_view_count": null,
      "_view_module": "@jupyter-widgets/controls",
      "_view_module_version": "1.5.0",
      "_view_name": "ProgressView",
      "bar_style": "",
      "description": "Processing: ",
      "description_tooltip": null,
      "layout": "IPY_MODEL_2c22eeecfa054ab59f5a2bc6ea4e7244",
      "max": 5,
      "min": 0,
      "orientation": "horizontal",
      "style": "IPY_MODEL_a4291bb80392498ba074a033b6c60d86",
      "value": 5
     }
    },
    "46eb9473b4c64c59956eae387e60555a": {
     "model_module": "@jupyter-widgets/controls",
     "model_name": "IntProgressModel",
     "state": {
      "_dom_classes": [],
      "_model_module": "@jupyter-widgets/controls",
      "_model_module_version": "1.5.0",
      "_model_name": "IntProgressModel",
      "_view_count": null,
      "_view_module": "@jupyter-widgets/controls",
      "_view_module_version": "1.5.0",
      "_view_name": "ProgressView",
      "bar_style": "",
      "description": "Processing: ",
      "description_tooltip": null,
      "layout": "IPY_MODEL_4e0a64915ccd490aae253c73dbf91a99",
      "max": 5,
      "min": 0,
      "orientation": "horizontal",
      "style": "IPY_MODEL_eecbd2ce9de64166bcfddadaef395d65",
      "value": 5
     }
    },
    "4c1ee7022483425d9541b0e49f1efcd2": {
     "model_module": "@jupyter-widgets/controls",
     "model_name": "IntProgressModel",
     "state": {
      "_dom_classes": [],
      "_model_module": "@jupyter-widgets/controls",
      "_model_module_version": "1.5.0",
      "_model_name": "IntProgressModel",
      "_view_count": null,
      "_view_module": "@jupyter-widgets/controls",
      "_view_module_version": "1.5.0",
      "_view_name": "ProgressView",
      "bar_style": "",
      "description": "Processing: ",
      "description_tooltip": null,
      "layout": "IPY_MODEL_9d7425bc499c4f57a680a7166389e5dc",
      "max": 5,
      "min": 0,
      "orientation": "horizontal",
      "style": "IPY_MODEL_17810a03d1424e729b70ec2044e9e7f6",
      "value": 5
     }
    },
    "4e0a64915ccd490aae253c73dbf91a99": {
     "model_module": "@jupyter-widgets/base",
     "model_name": "LayoutModel",
     "state": {
      "_model_module": "@jupyter-widgets/base",
      "_model_module_version": "1.2.0",
      "_model_name": "LayoutModel",
      "_view_count": null,
      "_view_module": "@jupyter-widgets/base",
      "_view_module_version": "1.2.0",
      "_view_name": "LayoutView",
      "align_content": null,
      "align_items": null,
      "align_self": null,
      "border": null,
      "bottom": null,
      "display": null,
      "flex": null,
      "flex_flow": null,
      "grid_area": null,
      "grid_auto_columns": null,
      "grid_auto_flow": null,
      "grid_auto_rows": null,
      "grid_column": null,
      "grid_gap": null,
      "grid_row": null,
      "grid_template_areas": null,
      "grid_template_columns": null,
      "grid_template_rows": null,
      "height": null,
      "justify_content": null,
      "justify_items": null,
      "left": null,
      "margin": null,
      "max_height": null,
      "max_width": null,
      "min_height": null,
      "min_width": null,
      "object_fit": null,
      "object_position": null,
      "order": null,
      "overflow": null,
      "overflow_x": null,
      "overflow_y": null,
      "padding": null,
      "right": null,
      "top": null,
      "visibility": null,
      "width": null
     }
    },
    "52e6b5978ec94fdabdc9adf9286c3078": {
     "model_module": "@jupyter-widgets/controls",
     "model_name": "ProgressStyleModel",
     "state": {
      "_model_module": "@jupyter-widgets/controls",
      "_model_module_version": "1.5.0",
      "_model_name": "ProgressStyleModel",
      "_view_count": null,
      "_view_module": "@jupyter-widgets/base",
      "_view_module_version": "1.2.0",
      "_view_name": "StyleView",
      "bar_color": null,
      "description_width": ""
     }
    },
    "57e3592dda974775b2fc52ee73ecb50c": {
     "model_module": "@jupyter-widgets/controls",
     "model_name": "ProgressStyleModel",
     "state": {
      "_model_module": "@jupyter-widgets/controls",
      "_model_module_version": "1.5.0",
      "_model_name": "ProgressStyleModel",
      "_view_count": null,
      "_view_module": "@jupyter-widgets/base",
      "_view_module_version": "1.2.0",
      "_view_name": "StyleView",
      "bar_color": null,
      "description_width": ""
     }
    },
    "66b421a890bc462b97e5d9d23fe5809a": {
     "model_module": "@jupyter-widgets/controls",
     "model_name": "IntProgressModel",
     "state": {
      "_dom_classes": [],
      "_model_module": "@jupyter-widgets/controls",
      "_model_module_version": "1.5.0",
      "_model_name": "IntProgressModel",
      "_view_count": null,
      "_view_module": "@jupyter-widgets/controls",
      "_view_module_version": "1.5.0",
      "_view_name": "ProgressView",
      "bar_style": "",
      "description": "Processing: ",
      "description_tooltip": null,
      "layout": "IPY_MODEL_d8e230198678421ea3afef9ca721090d",
      "max": 5,
      "min": 0,
      "orientation": "horizontal",
      "style": "IPY_MODEL_904ec053638f498aa1d0e4944145f736",
      "value": 5
     }
    },
    "6e43059d835f4d62aa1e5c5bf7d676e1": {
     "model_module": "@jupyter-widgets/base",
     "model_name": "LayoutModel",
     "state": {
      "_model_module": "@jupyter-widgets/base",
      "_model_module_version": "1.2.0",
      "_model_name": "LayoutModel",
      "_view_count": null,
      "_view_module": "@jupyter-widgets/base",
      "_view_module_version": "1.2.0",
      "_view_name": "LayoutView",
      "align_content": null,
      "align_items": null,
      "align_self": null,
      "border": null,
      "bottom": null,
      "display": null,
      "flex": null,
      "flex_flow": null,
      "grid_area": null,
      "grid_auto_columns": null,
      "grid_auto_flow": null,
      "grid_auto_rows": null,
      "grid_column": null,
      "grid_gap": null,
      "grid_row": null,
      "grid_template_areas": null,
      "grid_template_columns": null,
      "grid_template_rows": null,
      "height": null,
      "justify_content": null,
      "justify_items": null,
      "left": null,
      "margin": null,
      "max_height": null,
      "max_width": null,
      "min_height": null,
      "min_width": null,
      "object_fit": null,
      "object_position": null,
      "order": null,
      "overflow": null,
      "overflow_x": null,
      "overflow_y": null,
      "padding": null,
      "right": null,
      "top": null,
      "visibility": null,
      "width": null
     }
    },
    "7448bcccbfaa432c8f1f9936a51ccf3c": {
     "model_module": "@jupyter-widgets/controls",
     "model_name": "ProgressStyleModel",
     "state": {
      "_model_module": "@jupyter-widgets/controls",
      "_model_module_version": "1.5.0",
      "_model_name": "ProgressStyleModel",
      "_view_count": null,
      "_view_module": "@jupyter-widgets/base",
      "_view_module_version": "1.2.0",
      "_view_name": "StyleView",
      "bar_color": null,
      "description_width": ""
     }
    },
    "904ec053638f498aa1d0e4944145f736": {
     "model_module": "@jupyter-widgets/controls",
     "model_name": "ProgressStyleModel",
     "state": {
      "_model_module": "@jupyter-widgets/controls",
      "_model_module_version": "1.5.0",
      "_model_name": "ProgressStyleModel",
      "_view_count": null,
      "_view_module": "@jupyter-widgets/base",
      "_view_module_version": "1.2.0",
      "_view_name": "StyleView",
      "bar_color": null,
      "description_width": ""
     }
    },
    "9cc0efb4189e48c6beb4fe1c0c4a2fdc": {
     "model_module": "@jupyter-widgets/controls",
     "model_name": "VBoxModel",
     "state": {
      "_dom_classes": [
       "widget-interact"
      ],
      "_model_module": "@jupyter-widgets/controls",
      "_model_module_version": "1.5.0",
      "_model_name": "VBoxModel",
      "_view_count": null,
      "_view_module": "@jupyter-widgets/controls",
      "_view_module_version": "1.5.0",
      "_view_name": "VBoxView",
      "box_style": "",
      "children": [
       "IPY_MODEL_b046e2e525ca425a80aac86d7b665854",
       "IPY_MODEL_36a827017abf468d939c97492b5c73ab"
      ],
      "layout": "IPY_MODEL_a63ed06ee88c4ca3883ac38e665bddf8"
     }
    },
    "9d7425bc499c4f57a680a7166389e5dc": {
     "model_module": "@jupyter-widgets/base",
     "model_name": "LayoutModel",
     "state": {
      "_model_module": "@jupyter-widgets/base",
      "_model_module_version": "1.2.0",
      "_model_name": "LayoutModel",
      "_view_count": null,
      "_view_module": "@jupyter-widgets/base",
      "_view_module_version": "1.2.0",
      "_view_name": "LayoutView",
      "align_content": null,
      "align_items": null,
      "align_self": null,
      "border": null,
      "bottom": null,
      "display": null,
      "flex": null,
      "flex_flow": null,
      "grid_area": null,
      "grid_auto_columns": null,
      "grid_auto_flow": null,
      "grid_auto_rows": null,
      "grid_column": null,
      "grid_gap": null,
      "grid_row": null,
      "grid_template_areas": null,
      "grid_template_columns": null,
      "grid_template_rows": null,
      "height": null,
      "justify_content": null,
      "justify_items": null,
      "left": null,
      "margin": null,
      "max_height": null,
      "max_width": null,
      "min_height": null,
      "min_width": null,
      "object_fit": null,
      "object_position": null,
      "order": null,
      "overflow": null,
      "overflow_x": null,
      "overflow_y": null,
      "padding": null,
      "right": null,
      "top": null,
      "visibility": null,
      "width": null
     }
    },
    "a1a8e8de38404b83bec2300554e42aa8": {
     "model_module": "@jupyter-widgets/controls",
     "model_name": "IntProgressModel",
     "state": {
      "_dom_classes": [],
      "_model_module": "@jupyter-widgets/controls",
      "_model_module_version": "1.5.0",
      "_model_name": "IntProgressModel",
      "_view_count": null,
      "_view_module": "@jupyter-widgets/controls",
      "_view_module_version": "1.5.0",
      "_view_name": "ProgressView",
      "bar_style": "",
      "description": "Processing: ",
      "description_tooltip": null,
      "layout": "IPY_MODEL_eae1b12ae33041e9a14d7372fd0d6be3",
      "max": 5,
      "min": 0,
      "orientation": "horizontal",
      "style": "IPY_MODEL_7448bcccbfaa432c8f1f9936a51ccf3c",
      "value": 5
     }
    },
    "a4291bb80392498ba074a033b6c60d86": {
     "model_module": "@jupyter-widgets/controls",
     "model_name": "ProgressStyleModel",
     "state": {
      "_model_module": "@jupyter-widgets/controls",
      "_model_module_version": "1.5.0",
      "_model_name": "ProgressStyleModel",
      "_view_count": null,
      "_view_module": "@jupyter-widgets/base",
      "_view_module_version": "1.2.0",
      "_view_name": "StyleView",
      "bar_color": null,
      "description_width": ""
     }
    },
    "a63ed06ee88c4ca3883ac38e665bddf8": {
     "model_module": "@jupyter-widgets/base",
     "model_name": "LayoutModel",
     "state": {
      "_model_module": "@jupyter-widgets/base",
      "_model_module_version": "1.2.0",
      "_model_name": "LayoutModel",
      "_view_count": null,
      "_view_module": "@jupyter-widgets/base",
      "_view_module_version": "1.2.0",
      "_view_name": "LayoutView",
      "align_content": null,
      "align_items": null,
      "align_self": null,
      "border": null,
      "bottom": null,
      "display": null,
      "flex": null,
      "flex_flow": null,
      "grid_area": null,
      "grid_auto_columns": null,
      "grid_auto_flow": null,
      "grid_auto_rows": null,
      "grid_column": null,
      "grid_gap": null,
      "grid_row": null,
      "grid_template_areas": null,
      "grid_template_columns": null,
      "grid_template_rows": null,
      "height": null,
      "justify_content": null,
      "justify_items": null,
      "left": null,
      "margin": null,
      "max_height": null,
      "max_width": null,
      "min_height": null,
      "min_width": null,
      "object_fit": null,
      "object_position": null,
      "order": null,
      "overflow": null,
      "overflow_x": null,
      "overflow_y": null,
      "padding": null,
      "right": null,
      "top": null,
      "visibility": null,
      "width": null
     }
    },
    "b046e2e525ca425a80aac86d7b665854": {
     "model_module": "@jupyter-widgets/controls",
     "model_name": "ToggleButtonsModel",
     "state": {
      "_dom_classes": [],
      "_model_module": "@jupyter-widgets/controls",
      "_model_module_version": "1.5.0",
      "_model_name": "ToggleButtonsModel",
      "_options_labels": [
       "Hyperparameters",
       "AUC",
       "Confusion Matrix",
       "Threshold",
       "Precision Recall",
       "Error",
       "Class Report",
       "Feature Selection",
       "Learning Curve",
       "Manifold Learning",
       "Calibration Curve",
       "Validation Curve",
       "Dimensions",
       "Feature Importance",
       "Decision Boundary"
      ],
      "_view_count": null,
      "_view_module": "@jupyter-widgets/controls",
      "_view_module_version": "1.5.0",
      "_view_name": "ToggleButtonsView",
      "button_style": "",
      "description": "Plot Type:",
      "description_tooltip": null,
      "disabled": false,
      "icons": [
       ""
      ],
      "index": 14,
      "layout": "IPY_MODEL_e4c7bdc3be744945b405b9905048f64f",
      "style": "IPY_MODEL_17f607299eaf4b05a1542960ba1f8953",
      "tooltips": []
     }
    },
    "bdb566b147ef4202b351fd1014883ce6": {
     "model_module": "@jupyter-widgets/controls",
     "model_name": "IntProgressModel",
     "state": {
      "_dom_classes": [],
      "_model_module": "@jupyter-widgets/controls",
      "_model_module_version": "1.5.0",
      "_model_name": "IntProgressModel",
      "_view_count": null,
      "_view_module": "@jupyter-widgets/controls",
      "_view_module_version": "1.5.0",
      "_view_name": "ProgressView",
      "bar_style": "",
      "description": "Processing: ",
      "description_tooltip": null,
      "layout": "IPY_MODEL_094d443554a84f2788d4802512cda617",
      "max": 5,
      "min": 0,
      "orientation": "horizontal",
      "style": "IPY_MODEL_0a505068ebbf4d068aa7d75f702ac715",
      "value": 2
     }
    },
    "c20470f03116445ab707f5857592d046": {
     "model_module": "@jupyter-widgets/controls",
     "model_name": "IntProgressModel",
     "state": {
      "_dom_classes": [],
      "_model_module": "@jupyter-widgets/controls",
      "_model_module_version": "1.5.0",
      "_model_name": "IntProgressModel",
      "_view_count": null,
      "_view_module": "@jupyter-widgets/controls",
      "_view_module_version": "1.5.0",
      "_view_name": "ProgressView",
      "bar_style": "",
      "description": "Processing: ",
      "description_tooltip": null,
      "layout": "IPY_MODEL_d0366972e1664000b72674d0a285a785",
      "max": 5,
      "min": 0,
      "orientation": "horizontal",
      "style": "IPY_MODEL_52e6b5978ec94fdabdc9adf9286c3078",
      "value": 5
     }
    },
    "cc64cb2f6f8148d7ad9ce9d9cd16dd5f": {
     "model_module": "@jupyter-widgets/base",
     "model_name": "LayoutModel",
     "state": {
      "_model_module": "@jupyter-widgets/base",
      "_model_module_version": "1.2.0",
      "_model_name": "LayoutModel",
      "_view_count": null,
      "_view_module": "@jupyter-widgets/base",
      "_view_module_version": "1.2.0",
      "_view_name": "LayoutView",
      "align_content": null,
      "align_items": null,
      "align_self": null,
      "border": null,
      "bottom": null,
      "display": null,
      "flex": null,
      "flex_flow": null,
      "grid_area": null,
      "grid_auto_columns": null,
      "grid_auto_flow": null,
      "grid_auto_rows": null,
      "grid_column": null,
      "grid_gap": null,
      "grid_row": null,
      "grid_template_areas": null,
      "grid_template_columns": null,
      "grid_template_rows": null,
      "height": null,
      "justify_content": null,
      "justify_items": null,
      "left": null,
      "margin": null,
      "max_height": null,
      "max_width": null,
      "min_height": null,
      "min_width": null,
      "object_fit": null,
      "object_position": null,
      "order": null,
      "overflow": null,
      "overflow_x": null,
      "overflow_y": null,
      "padding": null,
      "right": null,
      "top": null,
      "visibility": null,
      "width": null
     }
    },
    "d0366972e1664000b72674d0a285a785": {
     "model_module": "@jupyter-widgets/base",
     "model_name": "LayoutModel",
     "state": {
      "_model_module": "@jupyter-widgets/base",
      "_model_module_version": "1.2.0",
      "_model_name": "LayoutModel",
      "_view_count": null,
      "_view_module": "@jupyter-widgets/base",
      "_view_module_version": "1.2.0",
      "_view_name": "LayoutView",
      "align_content": null,
      "align_items": null,
      "align_self": null,
      "border": null,
      "bottom": null,
      "display": null,
      "flex": null,
      "flex_flow": null,
      "grid_area": null,
      "grid_auto_columns": null,
      "grid_auto_flow": null,
      "grid_auto_rows": null,
      "grid_column": null,
      "grid_gap": null,
      "grid_row": null,
      "grid_template_areas": null,
      "grid_template_columns": null,
      "grid_template_rows": null,
      "height": null,
      "justify_content": null,
      "justify_items": null,
      "left": null,
      "margin": null,
      "max_height": null,
      "max_width": null,
      "min_height": null,
      "min_width": null,
      "object_fit": null,
      "object_position": null,
      "order": null,
      "overflow": null,
      "overflow_x": null,
      "overflow_y": null,
      "padding": null,
      "right": null,
      "top": null,
      "visibility": null,
      "width": null
     }
    },
    "d360dbb5ee734c839b8a30238d824633": {
     "model_module": "@jupyter-widgets/base",
     "model_name": "LayoutModel",
     "state": {
      "_model_module": "@jupyter-widgets/base",
      "_model_module_version": "1.2.0",
      "_model_name": "LayoutModel",
      "_view_count": null,
      "_view_module": "@jupyter-widgets/base",
      "_view_module_version": "1.2.0",
      "_view_name": "LayoutView",
      "align_content": null,
      "align_items": null,
      "align_self": null,
      "border": null,
      "bottom": null,
      "display": null,
      "flex": null,
      "flex_flow": null,
      "grid_area": null,
      "grid_auto_columns": null,
      "grid_auto_flow": null,
      "grid_auto_rows": null,
      "grid_column": null,
      "grid_gap": null,
      "grid_row": null,
      "grid_template_areas": null,
      "grid_template_columns": null,
      "grid_template_rows": null,
      "height": null,
      "justify_content": null,
      "justify_items": null,
      "left": null,
      "margin": null,
      "max_height": null,
      "max_width": null,
      "min_height": null,
      "min_width": null,
      "object_fit": null,
      "object_position": null,
      "order": null,
      "overflow": null,
      "overflow_x": null,
      "overflow_y": null,
      "padding": null,
      "right": null,
      "top": null,
      "visibility": null,
      "width": null
     }
    },
    "d8e230198678421ea3afef9ca721090d": {
     "model_module": "@jupyter-widgets/base",
     "model_name": "LayoutModel",
     "state": {
      "_model_module": "@jupyter-widgets/base",
      "_model_module_version": "1.2.0",
      "_model_name": "LayoutModel",
      "_view_count": null,
      "_view_module": "@jupyter-widgets/base",
      "_view_module_version": "1.2.0",
      "_view_name": "LayoutView",
      "align_content": null,
      "align_items": null,
      "align_self": null,
      "border": null,
      "bottom": null,
      "display": null,
      "flex": null,
      "flex_flow": null,
      "grid_area": null,
      "grid_auto_columns": null,
      "grid_auto_flow": null,
      "grid_auto_rows": null,
      "grid_column": null,
      "grid_gap": null,
      "grid_row": null,
      "grid_template_areas": null,
      "grid_template_columns": null,
      "grid_template_rows": null,
      "height": null,
      "justify_content": null,
      "justify_items": null,
      "left": null,
      "margin": null,
      "max_height": null,
      "max_width": null,
      "min_height": null,
      "min_width": null,
      "object_fit": null,
      "object_position": null,
      "order": null,
      "overflow": null,
      "overflow_x": null,
      "overflow_y": null,
      "padding": null,
      "right": null,
      "top": null,
      "visibility": null,
      "width": null
     }
    },
    "e4c7bdc3be744945b405b9905048f64f": {
     "model_module": "@jupyter-widgets/base",
     "model_name": "LayoutModel",
     "state": {
      "_model_module": "@jupyter-widgets/base",
      "_model_module_version": "1.2.0",
      "_model_name": "LayoutModel",
      "_view_count": null,
      "_view_module": "@jupyter-widgets/base",
      "_view_module_version": "1.2.0",
      "_view_name": "LayoutView",
      "align_content": null,
      "align_items": null,
      "align_self": null,
      "border": null,
      "bottom": null,
      "display": null,
      "flex": null,
      "flex_flow": null,
      "grid_area": null,
      "grid_auto_columns": null,
      "grid_auto_flow": null,
      "grid_auto_rows": null,
      "grid_column": null,
      "grid_gap": null,
      "grid_row": null,
      "grid_template_areas": null,
      "grid_template_columns": null,
      "grid_template_rows": null,
      "height": null,
      "justify_content": null,
      "justify_items": null,
      "left": null,
      "margin": null,
      "max_height": null,
      "max_width": null,
      "min_height": null,
      "min_width": null,
      "object_fit": null,
      "object_position": null,
      "order": null,
      "overflow": null,
      "overflow_x": null,
      "overflow_y": null,
      "padding": null,
      "right": null,
      "top": null,
      "visibility": null,
      "width": null
     }
    },
    "eae1b12ae33041e9a14d7372fd0d6be3": {
     "model_module": "@jupyter-widgets/base",
     "model_name": "LayoutModel",
     "state": {
      "_model_module": "@jupyter-widgets/base",
      "_model_module_version": "1.2.0",
      "_model_name": "LayoutModel",
      "_view_count": null,
      "_view_module": "@jupyter-widgets/base",
      "_view_module_version": "1.2.0",
      "_view_name": "LayoutView",
      "align_content": null,
      "align_items": null,
      "align_self": null,
      "border": null,
      "bottom": null,
      "display": null,
      "flex": null,
      "flex_flow": null,
      "grid_area": null,
      "grid_auto_columns": null,
      "grid_auto_flow": null,
      "grid_auto_rows": null,
      "grid_column": null,
      "grid_gap": null,
      "grid_row": null,
      "grid_template_areas": null,
      "grid_template_columns": null,
      "grid_template_rows": null,
      "height": null,
      "justify_content": null,
      "justify_items": null,
      "left": null,
      "margin": null,
      "max_height": null,
      "max_width": null,
      "min_height": null,
      "min_width": null,
      "object_fit": null,
      "object_position": null,
      "order": null,
      "overflow": null,
      "overflow_x": null,
      "overflow_y": null,
      "padding": null,
      "right": null,
      "top": null,
      "visibility": null,
      "width": null
     }
    },
    "eecbd2ce9de64166bcfddadaef395d65": {
     "model_module": "@jupyter-widgets/controls",
     "model_name": "ProgressStyleModel",
     "state": {
      "_model_module": "@jupyter-widgets/controls",
      "_model_module_version": "1.5.0",
      "_model_name": "ProgressStyleModel",
      "_view_count": null,
      "_view_module": "@jupyter-widgets/base",
      "_view_module_version": "1.2.0",
      "_view_name": "StyleView",
      "bar_color": null,
      "description_width": ""
     }
    },
    "f0c4a07ca3cf4460bed061f0609b9b2b": {
     "model_module": "@jupyter-widgets/controls",
     "model_name": "IntProgressModel",
     "state": {
      "_dom_classes": [],
      "_model_module": "@jupyter-widgets/controls",
      "_model_module_version": "1.5.0",
      "_model_name": "IntProgressModel",
      "_view_count": null,
      "_view_module": "@jupyter-widgets/controls",
      "_view_module_version": "1.5.0",
      "_view_name": "ProgressView",
      "bar_style": "",
      "description": "Processing: ",
      "description_tooltip": null,
      "layout": "IPY_MODEL_cc64cb2f6f8148d7ad9ce9d9cd16dd5f",
      "max": 5,
      "min": 0,
      "orientation": "horizontal",
      "style": "IPY_MODEL_57e3592dda974775b2fc52ee73ecb50c",
      "value": 2
     }
    }
   }
  }
 },
 "nbformat": 4,
 "nbformat_minor": 1
}
