{
 "cells": [
  {
   "cell_type": "markdown",
   "metadata": {},
   "source": [
    "# 12.1"
   ]
  },
  {
   "cell_type": "code",
   "execution_count": 1,
   "metadata": {},
   "outputs": [
    {
     "data": {
      "text/html": [
       "<div>\n",
       "<style scoped>\n",
       "    .dataframe tbody tr th:only-of-type {\n",
       "        vertical-align: middle;\n",
       "    }\n",
       "\n",
       "    .dataframe tbody tr th {\n",
       "        vertical-align: top;\n",
       "    }\n",
       "\n",
       "    .dataframe thead th {\n",
       "        text-align: right;\n",
       "    }\n",
       "</style>\n",
       "<table border=\"1\" class=\"dataframe\">\n",
       "  <thead>\n",
       "    <tr style=\"text-align: right;\">\n",
       "      <th></th>\n",
       "      <th>y</th>\n",
       "      <th>x1</th>\n",
       "      <th>x2</th>\n",
       "    </tr>\n",
       "  </thead>\n",
       "  <tbody>\n",
       "    <tr>\n",
       "      <th>0</th>\n",
       "      <td>6.40</td>\n",
       "      <td>1.32</td>\n",
       "      <td>1.15</td>\n",
       "    </tr>\n",
       "    <tr>\n",
       "      <th>1</th>\n",
       "      <td>15.05</td>\n",
       "      <td>2.69</td>\n",
       "      <td>3.40</td>\n",
       "    </tr>\n",
       "    <tr>\n",
       "      <th>2</th>\n",
       "      <td>18.75</td>\n",
       "      <td>3.56</td>\n",
       "      <td>4.10</td>\n",
       "    </tr>\n",
       "    <tr>\n",
       "      <th>3</th>\n",
       "      <td>30.25</td>\n",
       "      <td>4.41</td>\n",
       "      <td>8.75</td>\n",
       "    </tr>\n",
       "    <tr>\n",
       "      <th>4</th>\n",
       "      <td>44.85</td>\n",
       "      <td>5.35</td>\n",
       "      <td>14.82</td>\n",
       "    </tr>\n",
       "    <tr>\n",
       "      <th>5</th>\n",
       "      <td>48.94</td>\n",
       "      <td>6.20</td>\n",
       "      <td>15.15</td>\n",
       "    </tr>\n",
       "    <tr>\n",
       "      <th>6</th>\n",
       "      <td>51.55</td>\n",
       "      <td>7.12</td>\n",
       "      <td>15.32</td>\n",
       "    </tr>\n",
       "    <tr>\n",
       "      <th>7</th>\n",
       "      <td>61.50</td>\n",
       "      <td>8.87</td>\n",
       "      <td>18.18</td>\n",
       "    </tr>\n",
       "    <tr>\n",
       "      <th>8</th>\n",
       "      <td>100.44</td>\n",
       "      <td>9.80</td>\n",
       "      <td>35.19</td>\n",
       "    </tr>\n",
       "    <tr>\n",
       "      <th>9</th>\n",
       "      <td>111.42</td>\n",
       "      <td>10.65</td>\n",
       "      <td>40.40</td>\n",
       "    </tr>\n",
       "  </tbody>\n",
       "</table>\n",
       "</div>"
      ],
      "text/plain": [
       "        y     x1     x2\n",
       "0    6.40   1.32   1.15\n",
       "1   15.05   2.69   3.40\n",
       "2   18.75   3.56   4.10\n",
       "3   30.25   4.41   8.75\n",
       "4   44.85   5.35  14.82\n",
       "5   48.94   6.20  15.15\n",
       "6   51.55   7.12  15.32\n",
       "7   61.50   8.87  18.18\n",
       "8  100.44   9.80  35.19\n",
       "9  111.42  10.65  40.40"
      ]
     },
     "execution_count": 1,
     "metadata": {},
     "output_type": "execute_result"
    }
   ],
   "source": [
    "import pandas as pd \n",
    "df=pd.read_csv(\"3.12.1.csv\")\n",
    "df"
   ]
  },
  {
   "cell_type": "code",
   "execution_count": 2,
   "metadata": {},
   "outputs": [
    {
     "name": "stdout",
     "output_type": "stream",
     "text": [
      "                            OLS Regression Results                            \n",
      "==============================================================================\n",
      "Dep. Variable:                      y   R-squared:                       1.000\n",
      "Model:                            OLS   Adj. R-squared:                  1.000\n",
      "Method:                 Least Squares   F-statistic:                 1.269e+04\n",
      "Date:                Tue, 30 Jun 2020   Prob (F-statistic):           3.48e-13\n",
      "Time:                        23:17:26   Log-Likelihood:                -8.2049\n",
      "No. Observations:                  10   AIC:                             22.41\n",
      "Df Residuals:                       7   BIC:                             23.32\n",
      "Df Model:                           2                                         \n",
      "Covariance Type:            nonrobust                                         \n",
      "==============================================================================\n",
      "                 coef    std err          t      P>|t|      [0.025      0.975]\n",
      "------------------------------------------------------------------------------\n",
      "Intercept      0.5800      0.607      0.956      0.371      -0.855       2.015\n",
      "x1             2.7122      0.202     13.421      0.000       2.234       3.190\n",
      "x2             2.0497      0.048     42.630      0.000       1.936       2.163\n",
      "==============================================================================\n",
      "Omnibus:                        0.981   Durbin-Watson:                   2.821\n",
      "Prob(Omnibus):                  0.612   Jarque-Bera (JB):                0.350\n",
      "Skew:                           0.443   Prob(JB):                        0.839\n",
      "Kurtosis:                       2.764   Cond. No.                         63.8\n",
      "==============================================================================\n",
      "\n",
      "Warnings:\n",
      "[1] Standard Errors assume that the covariance matrix of the errors is correctly specified.\n"
     ]
    },
    {
     "name": "stderr",
     "output_type": "stream",
     "text": [
      "/Users/oswaldo_gomez/Library/Caches/pypoetry/virtualenvs/statistics-4NTnAiTz-py3.8/lib/python3.8/site-packages/scipy/stats/stats.py:1603: UserWarning: kurtosistest only valid for n>=20 ... continuing anyway, n=10\n",
      "  warnings.warn(\"kurtosistest only valid for n>=20 ... continuing \"\n"
     ]
    }
   ],
   "source": [
    "import numpy as np\n",
    "import statsmodels.api as sm\n",
    "import statsmodels.formula.api as smf\n",
    "import seaborn as sns\n",
    "np.seterr(all='print')\n",
    "\n",
    "\n",
    "results1 = smf.ols('y ~ x1 + x2 ', data=df).fit()\n",
    "print(results1.summary())"
   ]
  },
  {
   "cell_type": "markdown",
   "metadata": {},
   "source": [
    "Por lo tanto\n",
    "\n",
    "$$\\large{\\gamma_{x_1,x2} = \\beta_0 + \\beta_1x_1 + \\beta_2x_2  = 0.58 + 2.71 x_1 + 2.0497 x_2}$$  "
   ]
  },
  {
   "cell_type": "markdown",
   "metadata": {},
   "source": [
    "# 12.28"
   ]
  },
  {
   "cell_type": "code",
   "execution_count": 3,
   "metadata": {},
   "outputs": [
    {
     "data": {
      "text/html": [
       "<div>\n",
       "<style scoped>\n",
       "    .dataframe tbody tr th:only-of-type {\n",
       "        vertical-align: middle;\n",
       "    }\n",
       "\n",
       "    .dataframe tbody tr th {\n",
       "        vertical-align: top;\n",
       "    }\n",
       "\n",
       "    .dataframe thead th {\n",
       "        text-align: right;\n",
       "    }\n",
       "</style>\n",
       "<table border=\"1\" class=\"dataframe\">\n",
       "  <thead>\n",
       "    <tr style=\"text-align: right;\">\n",
       "      <th></th>\n",
       "      <th>Y</th>\n",
       "      <th>X1</th>\n",
       "      <th>X2</th>\n",
       "    </tr>\n",
       "  </thead>\n",
       "  <tbody>\n",
       "    <tr>\n",
       "      <th>0</th>\n",
       "      <td>193.0</td>\n",
       "      <td>1.6</td>\n",
       "      <td>851.0</td>\n",
       "    </tr>\n",
       "    <tr>\n",
       "      <th>1</th>\n",
       "      <td>172.0</td>\n",
       "      <td>22.0</td>\n",
       "      <td>1058.0</td>\n",
       "    </tr>\n",
       "    <tr>\n",
       "      <th>2</th>\n",
       "      <td>113.0</td>\n",
       "      <td>33.0</td>\n",
       "      <td>1357.0</td>\n",
       "    </tr>\n",
       "    <tr>\n",
       "      <th>3</th>\n",
       "      <td>230.0</td>\n",
       "      <td>15.5</td>\n",
       "      <td>816.0</td>\n",
       "    </tr>\n",
       "    <tr>\n",
       "      <th>4</th>\n",
       "      <td>91.0</td>\n",
       "      <td>43.0</td>\n",
       "      <td>1201.0</td>\n",
       "    </tr>\n",
       "    <tr>\n",
       "      <th>5</th>\n",
       "      <td>125.0</td>\n",
       "      <td>40.0</td>\n",
       "      <td>1115.0</td>\n",
       "    </tr>\n",
       "  </tbody>\n",
       "</table>\n",
       "</div>"
      ],
      "text/plain": [
       "       Y    X1      X2\n",
       "0  193.0   1.6   851.0\n",
       "1  172.0  22.0  1058.0\n",
       "2  113.0  33.0  1357.0\n",
       "3  230.0  15.5   816.0\n",
       "4   91.0  43.0  1201.0\n",
       "5  125.0  40.0  1115.0"
      ]
     },
     "execution_count": 3,
     "metadata": {},
     "output_type": "execute_result"
    }
   ],
   "source": [
    "df2=pd.read_csv(\"3.2.12.28.csv\")\n",
    "df2"
   ]
  },
  {
   "cell_type": "code",
   "execution_count": 4,
   "metadata": {},
   "outputs": [
    {
     "name": "stdout",
     "output_type": "stream",
     "text": [
      "                            OLS Regression Results                            \n",
      "==============================================================================\n",
      "Dep. Variable:                      Y   R-squared:                       0.862\n",
      "Model:                            OLS   Adj. R-squared:                  0.770\n",
      "Method:                 Least Squares   F-statistic:                     9.353\n",
      "Date:                Tue, 30 Jun 2020   Prob (F-statistic):             0.0514\n",
      "Time:                        23:17:26   Log-Likelihood:                -25.866\n",
      "No. Observations:                   6   AIC:                             57.73\n",
      "Df Residuals:                       3   BIC:                             57.11\n",
      "Df Model:                           2                                         \n",
      "Covariance Type:            nonrobust                                         \n",
      "==============================================================================\n",
      "                 coef    std err          t      P>|t|      [0.025      0.975]\n",
      "------------------------------------------------------------------------------\n",
      "Intercept    350.9943     74.753      4.695      0.018     113.097     588.892\n",
      "X1            -1.2720      1.169     -1.088      0.356      -4.993       2.449\n",
      "X2            -0.1539      0.090     -1.719      0.184      -0.439       0.131\n",
      "==============================================================================\n",
      "Omnibus:                          nan   Durbin-Watson:                   1.937\n",
      "Prob(Omnibus):                    nan   Jarque-Bera (JB):                0.581\n",
      "Skew:                          -0.173   Prob(JB):                        0.748\n",
      "Kurtosis:                       1.516   Cond. No.                     7.78e+03\n",
      "==============================================================================\n",
      "\n",
      "Warnings:\n",
      "[1] Standard Errors assume that the covariance matrix of the errors is correctly specified.\n",
      "[2] The condition number is large, 7.78e+03. This might indicate that there are\n",
      "strong multicollinearity or other numerical problems.\n"
     ]
    },
    {
     "name": "stderr",
     "output_type": "stream",
     "text": [
      "/Users/oswaldo_gomez/Library/Caches/pypoetry/virtualenvs/statistics-4NTnAiTz-py3.8/lib/python3.8/site-packages/statsmodels/stats/stattools.py:70: ValueWarning: omni_normtest is not valid with less than 8 observations; 6 samples were given.\n",
      "  warn(\"omni_normtest is not valid with less than 8 observations; %i \"\n"
     ]
    }
   ],
   "source": [
    "results2 = smf.ols('Y ~ X1 + X2 ', data=df2).fit()\n",
    "print(results2.summary())"
   ]
  },
  {
   "cell_type": "code",
   "execution_count": 5,
   "metadata": {},
   "outputs": [
    {
     "data": {
      "text/html": [
       "<div>\n",
       "<style scoped>\n",
       "    .dataframe tbody tr th:only-of-type {\n",
       "        vertical-align: middle;\n",
       "    }\n",
       "\n",
       "    .dataframe tbody tr th {\n",
       "        vertical-align: top;\n",
       "    }\n",
       "\n",
       "    .dataframe thead th {\n",
       "        text-align: right;\n",
       "    }\n",
       "</style>\n",
       "<table border=\"1\" class=\"dataframe\">\n",
       "  <thead>\n",
       "    <tr style=\"text-align: right;\">\n",
       "      <th></th>\n",
       "      <th>Y</th>\n",
       "      <th>X1</th>\n",
       "      <th>X2</th>\n",
       "    </tr>\n",
       "  </thead>\n",
       "  <tbody>\n",
       "    <tr>\n",
       "      <th>0</th>\n",
       "      <td>193.0</td>\n",
       "      <td>1.6</td>\n",
       "      <td>851.0</td>\n",
       "    </tr>\n",
       "    <tr>\n",
       "      <th>1</th>\n",
       "      <td>172.0</td>\n",
       "      <td>22.0</td>\n",
       "      <td>1058.0</td>\n",
       "    </tr>\n",
       "    <tr>\n",
       "      <th>2</th>\n",
       "      <td>113.0</td>\n",
       "      <td>33.0</td>\n",
       "      <td>1357.0</td>\n",
       "    </tr>\n",
       "    <tr>\n",
       "      <th>3</th>\n",
       "      <td>230.0</td>\n",
       "      <td>15.5</td>\n",
       "      <td>816.0</td>\n",
       "    </tr>\n",
       "    <tr>\n",
       "      <th>4</th>\n",
       "      <td>91.0</td>\n",
       "      <td>43.0</td>\n",
       "      <td>1201.0</td>\n",
       "    </tr>\n",
       "    <tr>\n",
       "      <th>5</th>\n",
       "      <td>125.0</td>\n",
       "      <td>40.0</td>\n",
       "      <td>1115.0</td>\n",
       "    </tr>\n",
       "  </tbody>\n",
       "</table>\n",
       "</div>"
      ],
      "text/plain": [
       "       Y    X1      X2\n",
       "0  193.0   1.6   851.0\n",
       "1  172.0  22.0  1058.0\n",
       "2  113.0  33.0  1357.0\n",
       "3  230.0  15.5   816.0\n",
       "4   91.0  43.0  1201.0\n",
       "5  125.0  40.0  1115.0"
      ]
     },
     "execution_count": 5,
     "metadata": {},
     "output_type": "execute_result"
    }
   ],
   "source": [
    "df2"
   ]
  },
  {
   "cell_type": "code",
   "execution_count": 6,
   "metadata": {},
   "outputs": [],
   "source": [
    "import pandas as pd\n",
    "import numpy as np\n",
    "from sklearn.linear_model import LinearRegression\n",
    "from sklearn.metrics import mean_squared_error\n",
    "from math import sqrt"
   ]
  },
  {
   "cell_type": "code",
   "execution_count": 7,
   "metadata": {},
   "outputs": [],
   "source": [
    "y = df2['Y']\n",
    "x = df2[['X1','X2']]"
   ]
  },
  {
   "cell_type": "code",
   "execution_count": 8,
   "metadata": {},
   "outputs": [],
   "source": [
    "# define the multiple Linear regression model\n",
    "linear_regress = LinearRegression() "
   ]
  },
  {
   "cell_type": "code",
   "execution_count": 9,
   "metadata": {},
   "outputs": [],
   "source": [
    "# Fit the multiple Linear regression model\n",
    "linear_regress.fit(x,y)\n",
    "# predict with the data\n",
    "y_pred = linear_regress.predict(x)\n",
    "RMSE=sqrt(mean_squared_error(y, y_pred))"
   ]
  },
  {
   "cell_type": "code",
   "execution_count": 10,
   "metadata": {},
   "outputs": [
    {
     "data": {
      "text/plain": [
       "650.1407464106162"
      ]
     },
     "execution_count": 10,
     "metadata": {},
     "output_type": "execute_result"
    }
   ],
   "source": [
    "2*RMSE**2"
   ]
  },
  {
   "cell_type": "markdown",
   "metadata": {},
   "source": [
    "#### Entonces a)  $\\sigma**{2} = 650.14$"
   ]
  },
  {
   "cell_type": "markdown",
   "metadata": {},
   "source": [
    "Como calculamos anteriormente tenemos que \n",
    "\n",
    "$$ {\\hat y= 350 -1.27 \\beta_1 -0.15 \\beta_2  } = 175$$\n",
    "  \n",
    "y \n",
    "\n",
    "$$  {135 < \\mu_{Y|x_1=20,x_2=1000} < 207.4268} $$\n",
    "\n",
    "y\n",
    "\n",
    "$$ {82.9 < y_0 < 269.3}$$"
   ]
  },
  {
   "cell_type": "markdown",
   "metadata": {},
   "source": [
    "# 12.34"
   ]
  },
  {
   "cell_type": "code",
   "execution_count": 11,
   "metadata": {},
   "outputs": [
    {
     "data": {
      "text/html": [
       "<div>\n",
       "<style scoped>\n",
       "    .dataframe tbody tr th:only-of-type {\n",
       "        vertical-align: middle;\n",
       "    }\n",
       "\n",
       "    .dataframe tbody tr th {\n",
       "        vertical-align: top;\n",
       "    }\n",
       "\n",
       "    .dataframe thead th {\n",
       "        text-align: right;\n",
       "    }\n",
       "</style>\n",
       "<table border=\"1\" class=\"dataframe\">\n",
       "  <thead>\n",
       "    <tr style=\"text-align: right;\">\n",
       "      <th></th>\n",
       "      <th>y</th>\n",
       "      <th>x1</th>\n",
       "      <th>x2</th>\n",
       "      <th>x3</th>\n",
       "      <th>x4</th>\n",
       "    </tr>\n",
       "  </thead>\n",
       "  <tbody>\n",
       "    <tr>\n",
       "      <th>0</th>\n",
       "      <td>240</td>\n",
       "      <td>25</td>\n",
       "      <td>24</td>\n",
       "      <td>91</td>\n",
       "      <td>100</td>\n",
       "    </tr>\n",
       "    <tr>\n",
       "      <th>1</th>\n",
       "      <td>236</td>\n",
       "      <td>31</td>\n",
       "      <td>21</td>\n",
       "      <td>90</td>\n",
       "      <td>95</td>\n",
       "    </tr>\n",
       "    <tr>\n",
       "      <th>2</th>\n",
       "      <td>290</td>\n",
       "      <td>45</td>\n",
       "      <td>24</td>\n",
       "      <td>88</td>\n",
       "      <td>110</td>\n",
       "    </tr>\n",
       "    <tr>\n",
       "      <th>3</th>\n",
       "      <td>274</td>\n",
       "      <td>60</td>\n",
       "      <td>25</td>\n",
       "      <td>87</td>\n",
       "      <td>88</td>\n",
       "    </tr>\n",
       "    <tr>\n",
       "      <th>4</th>\n",
       "      <td>301</td>\n",
       "      <td>65</td>\n",
       "      <td>25</td>\n",
       "      <td>91</td>\n",
       "      <td>94</td>\n",
       "    </tr>\n",
       "    <tr>\n",
       "      <th>5</th>\n",
       "      <td>316</td>\n",
       "      <td>72</td>\n",
       "      <td>26</td>\n",
       "      <td>94</td>\n",
       "      <td>99</td>\n",
       "    </tr>\n",
       "    <tr>\n",
       "      <th>6</th>\n",
       "      <td>300</td>\n",
       "      <td>80</td>\n",
       "      <td>25</td>\n",
       "      <td>87</td>\n",
       "      <td>97</td>\n",
       "    </tr>\n",
       "    <tr>\n",
       "      <th>7</th>\n",
       "      <td>296</td>\n",
       "      <td>84</td>\n",
       "      <td>25</td>\n",
       "      <td>86</td>\n",
       "      <td>96</td>\n",
       "    </tr>\n",
       "    <tr>\n",
       "      <th>8</th>\n",
       "      <td>267</td>\n",
       "      <td>75</td>\n",
       "      <td>24</td>\n",
       "      <td>88</td>\n",
       "      <td>110</td>\n",
       "    </tr>\n",
       "    <tr>\n",
       "      <th>9</th>\n",
       "      <td>276</td>\n",
       "      <td>60</td>\n",
       "      <td>25</td>\n",
       "      <td>91</td>\n",
       "      <td>105</td>\n",
       "    </tr>\n",
       "    <tr>\n",
       "      <th>10</th>\n",
       "      <td>288</td>\n",
       "      <td>50</td>\n",
       "      <td>25</td>\n",
       "      <td>90</td>\n",
       "      <td>100</td>\n",
       "    </tr>\n",
       "    <tr>\n",
       "      <th>11</th>\n",
       "      <td>261</td>\n",
       "      <td>38</td>\n",
       "      <td>23</td>\n",
       "      <td>89</td>\n",
       "      <td>98</td>\n",
       "    </tr>\n",
       "  </tbody>\n",
       "</table>\n",
       "</div>"
      ],
      "text/plain": [
       "      y  x1  x2  x3   x4\n",
       "0   240  25  24  91  100\n",
       "1   236  31  21  90   95\n",
       "2   290  45  24  88  110\n",
       "3   274  60  25  87   88\n",
       "4   301  65  25  91   94\n",
       "5   316  72  26  94   99\n",
       "6   300  80  25  87   97\n",
       "7   296  84  25  86   96\n",
       "8   267  75  24  88  110\n",
       "9   276  60  25  91  105\n",
       "10  288  50  25  90  100\n",
       "11  261  38  23  89   98"
      ]
     },
     "execution_count": 11,
     "metadata": {},
     "output_type": "execute_result"
    }
   ],
   "source": [
    "df3=pd.read_csv(\"3.2.12.34.csv\")\n",
    "df3"
   ]
  },
  {
   "cell_type": "markdown",
   "metadata": {},
   "source": [
    "Completo"
   ]
  },
  {
   "cell_type": "code",
   "execution_count": 12,
   "metadata": {},
   "outputs": [
    {
     "name": "stdout",
     "output_type": "stream",
     "text": [
      "                            OLS Regression Results                            \n",
      "==============================================================================\n",
      "Dep. Variable:                      y   R-squared:                       0.745\n",
      "Model:                            OLS   Adj. R-squared:                  0.599\n",
      "Method:                 Least Squares   F-statistic:                     5.106\n",
      "Date:                Tue, 30 Jun 2020   Prob (F-statistic):             0.0303\n",
      "Time:                        23:17:26   Log-Likelihood:                -46.745\n",
      "No. Observations:                  12   AIC:                             103.5\n",
      "Df Residuals:                       7   BIC:                             105.9\n",
      "Df Model:                           4                                         \n",
      "Covariance Type:            nonrobust                                         \n",
      "==============================================================================\n",
      "                 coef    std err          t      P>|t|      [0.025      0.975]\n",
      "------------------------------------------------------------------------------\n",
      "Intercept   -102.7132    207.859     -0.494      0.636    -594.221     388.795\n",
      "x1             0.6054      0.369      1.641      0.145      -0.267       1.478\n",
      "x2             8.9236      5.301      1.684      0.136      -3.610      21.457\n",
      "x3             1.4375      2.392      0.601      0.567      -4.218       7.093\n",
      "x4             0.0136      0.734      0.019      0.986      -1.722       1.749\n",
      "==============================================================================\n",
      "Omnibus:                        0.007   Durbin-Watson:                   1.772\n",
      "Prob(Omnibus):                  0.996   Jarque-Bera (JB):                0.207\n",
      "Skew:                          -0.039   Prob(JB):                        0.902\n",
      "Kurtosis:                       2.362   Cond. No.                     6.82e+03\n",
      "==============================================================================\n",
      "\n",
      "Warnings:\n",
      "[1] Standard Errors assume that the covariance matrix of the errors is correctly specified.\n",
      "[2] The condition number is large, 6.82e+03. This might indicate that there are\n",
      "strong multicollinearity or other numerical problems.\n"
     ]
    },
    {
     "name": "stderr",
     "output_type": "stream",
     "text": [
      "/Users/oswaldo_gomez/Library/Caches/pypoetry/virtualenvs/statistics-4NTnAiTz-py3.8/lib/python3.8/site-packages/scipy/stats/stats.py:1603: UserWarning: kurtosistest only valid for n>=20 ... continuing anyway, n=12\n",
      "  warnings.warn(\"kurtosistest only valid for n>=20 ... continuing \"\n"
     ]
    }
   ],
   "source": [
    "results3 = smf.ols('y ~ x1 + x2 + x3 + x4', data=df3).fit()\n",
    "print(results3.summary())"
   ]
  },
  {
   "cell_type": "markdown",
   "metadata": {},
   "source": [
    "# Calculamos RMSE para el modelo completo"
   ]
  },
  {
   "cell_type": "code",
   "execution_count": 13,
   "metadata": {},
   "outputs": [
    {
     "data": {
      "text/plain": [
       "11.898911912581305"
      ]
     },
     "execution_count": 13,
     "metadata": {},
     "output_type": "execute_result"
    }
   ],
   "source": [
    "y = df3['y']\n",
    "x = df3[['x1','x2','x3','x4']]\n",
    "# define the multiple Linear regression model\n",
    "linear_regress = LinearRegression() \n",
    "# Fit the multiple Linear regression model\n",
    "linear_regress.fit(x,y)\n",
    "# predict with the data\n",
    "y_pred = linear_regress.predict(x)\n",
    "MSE=mean_squared_error(y, y_pred)\n",
    "RMSE=sqrt(mean_squared_error(y, y_pred))\n",
    "RMSE"
   ]
  },
  {
   "cell_type": "markdown",
   "metadata": {},
   "source": [
    "# Fórmula para calcular SCR (SSR en inglés) para el modelo completo"
   ]
  },
  {
   "cell_type": "code",
   "execution_count": 14,
   "metadata": {},
   "outputs": [
    {
     "data": {
      "text/plain": [
       "4957.240743559574"
      ]
     },
     "execution_count": 14,
     "metadata": {},
     "output_type": "execute_result"
    }
   ],
   "source": [
    "X = np.array(x)\n",
    "y = np.array([y]).T\n",
    "\n",
    "def get_sum_of_squares():\n",
    "    ssr = 0\n",
    "    sse = 0\n",
    "    sst = 0\n",
    "\n",
    "    mean_y = np.mean(y)\n",
    "\n",
    "    for i in range(12):\n",
    "        y_hat = linear_regress.predict([X[i]])\n",
    "\n",
    "        ssr += (y_hat - mean_y)**2\n",
    "        sse += (y[i][0] - y_hat)**2\n",
    "        sst += (y[i][0] - mean_y)**2\n",
    "\n",
    "    return ssr[0]\n",
    "    #return (ssr, sse, sst)\n",
    "\n",
    "ssr_total = get_sum_of_squares()\n",
    "ssr_total\n"
   ]
  },
  {
   "cell_type": "markdown",
   "metadata": {},
   "source": [
    "Aqui podemos hacer uso de la función feature selection que calcula las f's y las p(s) de manera directa. Podemos ver que las p's para  $\\beta_1$ y $\\beta_2$ son pequeñas por lo que podemos rechazar la hipótesis nula.\n",
    "Calculemos ahora sin estas dos variables para calcular poco a poco la f reducida"
   ]
  },
  {
   "cell_type": "code",
   "execution_count": 15,
   "metadata": {},
   "outputs": [
    {
     "name": "stderr",
     "output_type": "stream",
     "text": [
      "/Users/oswaldo_gomez/Library/Caches/pypoetry/virtualenvs/statistics-4NTnAiTz-py3.8/lib/python3.8/site-packages/sklearn/utils/validation.py:73: DataConversionWarning: A column-vector y was passed when a 1d array was expected. Please change the shape of y to (n_samples, ), for example using ravel().\n",
      "  return f(**kwargs)\n"
     ]
    },
    {
     "data": {
      "text/plain": [
       "array([1.29737317e+01, 1.81356853e+01, 2.39178819e-02, 8.45968053e-04])"
      ]
     },
     "metadata": {},
     "output_type": "display_data"
    },
    {
     "data": {
      "text/plain": [
       "array([0.00483259, 0.00166671, 0.8801709 , 0.97736866])"
      ]
     },
     "metadata": {},
     "output_type": "display_data"
    }
   ],
   "source": [
    "from sklearn.feature_selection import f_regression\n",
    "#X = df[['Sugars', 'Fiber', 'shelf_1', 'shelf_2']]\n",
    "#y = df['Rating']\n",
    "#x = sm.add_constant(x)\n",
    "\n",
    "(F, pval) = f_regression(x, y)\n",
    "display(F, pval)"
   ]
  },
  {
   "cell_type": "markdown",
   "metadata": {},
   "source": [
    "## Vamos a encontrar ahora un modelo lineal quitando las $\\beta_i$ con $i \\in \\{1,2\\}$"
   ]
  },
  {
   "cell_type": "code",
   "execution_count": 16,
   "metadata": {},
   "outputs": [
    {
     "name": "stdout",
     "output_type": "stream",
     "text": [
      "                            OLS Regression Results                            \n",
      "==============================================================================\n",
      "Dep. Variable:                      y   R-squared:                       0.003\n",
      "Model:                            OLS   Adj. R-squared:                 -0.219\n",
      "Method:                 Least Squares   F-statistic:                   0.01154\n",
      "Date:                Tue, 30 Jun 2020   Prob (F-statistic):              0.989\n",
      "Time:                        23:17:27   Log-Likelihood:                -54.922\n",
      "No. Observations:                  12   AIC:                             115.8\n",
      "Df Residuals:                       9   BIC:                             117.3\n",
      "Df Model:                           2                                         \n",
      "Covariance Type:            nonrobust                                         \n",
      "==============================================================================\n",
      "                 coef    std err          t      P>|t|      [0.025      0.975]\n",
      "------------------------------------------------------------------------------\n",
      "Intercept    235.4442    337.987      0.697      0.504    -529.136    1000.024\n",
      "x3             0.5406      3.619      0.149      0.885      -7.647       8.728\n",
      "x4            -0.0503      1.278     -0.039      0.969      -2.941       2.840\n",
      "==============================================================================\n",
      "Omnibus:                        0.952   Durbin-Watson:                   0.927\n",
      "Prob(Omnibus):                  0.621   Jarque-Bera (JB):                0.809\n",
      "Skew:                          -0.502   Prob(JB):                        0.667\n",
      "Kurtosis:                       2.220   Cond. No.                     5.76e+03\n",
      "==============================================================================\n",
      "\n",
      "Warnings:\n",
      "[1] Standard Errors assume that the covariance matrix of the errors is correctly specified.\n",
      "[2] The condition number is large, 5.76e+03. This might indicate that there are\n",
      "strong multicollinearity or other numerical problems.\n"
     ]
    },
    {
     "name": "stderr",
     "output_type": "stream",
     "text": [
      "/Users/oswaldo_gomez/Library/Caches/pypoetry/virtualenvs/statistics-4NTnAiTz-py3.8/lib/python3.8/site-packages/scipy/stats/stats.py:1603: UserWarning: kurtosistest only valid for n>=20 ... continuing anyway, n=12\n",
      "  warnings.warn(\"kurtosistest only valid for n>=20 ... continuing \"\n"
     ]
    }
   ],
   "source": [
    "results3 = smf.ols('y ~ x3 + x4', data=df3).fit()\n",
    "print(results3.summary())"
   ]
  },
  {
   "cell_type": "code",
   "execution_count": 17,
   "metadata": {},
   "outputs": [],
   "source": [
    "y = df3['y']\n",
    "x = df3[['x3','x4']]\n",
    "# define the multiple Linear regression model\n",
    "linear_regress = LinearRegression() \n",
    "# Fit the multiple Linear regression model\n",
    "linear_regress.fit(x,y)\n",
    "# predict with the data\n",
    "y_pred = linear_regress.predict(x)\n",
    "MSE=mean_squared_error(y, y_pred)\n"
   ]
  },
  {
   "cell_type": "markdown",
   "metadata": {},
   "source": [
    "### Funcion para encontrar SCR reducida\n"
   ]
  },
  {
   "cell_type": "code",
   "execution_count": 18,
   "metadata": {},
   "outputs": [],
   "source": [
    "X = np.array(x)\n",
    "y = np.array([y]).T\n",
    "\n",
    "def get_sum_of_squares():\n",
    "    ssr = 0\n",
    "    sse = 0\n",
    "    sst = 0\n",
    "\n",
    "    mean_y = np.mean(y)\n",
    "\n",
    "    for i in range(12):\n",
    "        y_hat = linear_regress.predict([X[i]])\n",
    "\n",
    "        ssr += (y_hat - mean_y)**2\n",
    "        sse += (y[i][0] - y_hat)**2\n",
    "        sst += (y[i][0] - mean_y)**2\n",
    "\n",
    "    return ssr[0]\n",
    "    #return (ssr, sse, sst)\n",
    "\n",
    "ssr_reducido = get_sum_of_squares()\n",
    "\n"
   ]
  },
  {
   "cell_type": "code",
   "execution_count": 19,
   "metadata": {},
   "outputs": [
    {
     "data": {
      "text/plain": [
       "17.446228770335775"
      ]
     },
     "execution_count": 19,
     "metadata": {},
     "output_type": "execute_result"
    }
   ],
   "source": [
    "((ssr_total-ssr_reducido)/2)/RMSE**2"
   ]
  },
  {
   "cell_type": "markdown",
   "metadata": {},
   "source": [
    "Vemos que la F reducida es del órden de magnitud que habiamos encontrado previamente. Podemos calcular el valor P\n",
    "    en el órden de las centésimas por lo que rechazamos $H_0$ y podemos decir que $\\beta_i \\neq 0$ con $i \\in \\{1,2\\}$"
   ]
  }
 ],
 "metadata": {
  "kernelspec": {
   "display_name": "Python 3",
   "language": "python",
   "name": "python3"
  },
  "language_info": {
   "codemirror_mode": {
    "name": "ipython",
    "version": 3
   },
   "file_extension": ".py",
   "mimetype": "text/x-python",
   "name": "python",
   "nbconvert_exporter": "python",
   "pygments_lexer": "ipython3",
   "version": "3.8.3"
  }
 },
 "nbformat": 4,
 "nbformat_minor": 4
}
