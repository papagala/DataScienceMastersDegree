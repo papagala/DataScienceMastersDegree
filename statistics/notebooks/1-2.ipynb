{
 "cells": [
  {
   "cell_type": "markdown",
   "metadata": {},
   "source": [
    "# 2.20"
   ]
  },
  {
   "cell_type": "markdown",
   "metadata": {},
   "source": [
    "## Importar los datos"
   ]
  },
  {
   "cell_type": "code",
   "execution_count": 1,
   "metadata": {},
   "outputs": [],
   "source": [
    "import pandas as pd \n",
    "tabla214 = pd.read_csv(\"tabla214.csv\")"
   ]
  },
  {
   "cell_type": "code",
   "execution_count": 2,
   "metadata": {},
   "outputs": [
    {
     "data": {
      "text/html": [
       "<div>\n",
       "<style scoped>\n",
       "    .dataframe tbody tr th:only-of-type {\n",
       "        vertical-align: middle;\n",
       "    }\n",
       "\n",
       "    .dataframe tbody tr th {\n",
       "        vertical-align: top;\n",
       "    }\n",
       "\n",
       "    .dataframe thead th {\n",
       "        text-align: right;\n",
       "    }\n",
       "</style>\n",
       "<table border=\"1\" class=\"dataframe\">\n",
       "  <thead>\n",
       "    <tr style=\"text-align: right;\">\n",
       "      <th></th>\n",
       "      <th>tiempo</th>\n",
       "      <th>estudiantes</th>\n",
       "    </tr>\n",
       "  </thead>\n",
       "  <tbody>\n",
       "    <tr>\n",
       "      <th>0</th>\n",
       "      <td>300-399</td>\n",
       "      <td>14</td>\n",
       "    </tr>\n",
       "    <tr>\n",
       "      <th>1</th>\n",
       "      <td>400-499</td>\n",
       "      <td>46</td>\n",
       "    </tr>\n",
       "    <tr>\n",
       "      <th>2</th>\n",
       "      <td>500-599</td>\n",
       "      <td>58</td>\n",
       "    </tr>\n",
       "    <tr>\n",
       "      <th>3</th>\n",
       "      <td>600-699</td>\n",
       "      <td>76</td>\n",
       "    </tr>\n",
       "    <tr>\n",
       "      <th>4</th>\n",
       "      <td>700-799</td>\n",
       "      <td>68</td>\n",
       "    </tr>\n",
       "    <tr>\n",
       "      <th>5</th>\n",
       "      <td>800-899</td>\n",
       "      <td>62</td>\n",
       "    </tr>\n",
       "    <tr>\n",
       "      <th>6</th>\n",
       "      <td>900-999</td>\n",
       "      <td>48</td>\n",
       "    </tr>\n",
       "    <tr>\n",
       "      <th>7</th>\n",
       "      <td>1_000-1_099</td>\n",
       "      <td>22</td>\n",
       "    </tr>\n",
       "    <tr>\n",
       "      <th>8</th>\n",
       "      <td>1_100-1_199</td>\n",
       "      <td>6</td>\n",
       "    </tr>\n",
       "  </tbody>\n",
       "</table>\n",
       "</div>"
      ],
      "text/plain": [
       "        tiempo  estudiantes\n",
       "0      300-399           14\n",
       "1      400-499           46\n",
       "2      500-599           58\n",
       "3      600-699           76\n",
       "4      700-799           68\n",
       "5      800-899           62\n",
       "6      900-999           48\n",
       "7  1_000-1_099           22\n",
       "8  1_100-1_199            6"
      ]
     },
     "execution_count": 2,
     "metadata": {},
     "output_type": "execute_result"
    }
   ],
   "source": [
    "tabla214[\"estudiantes\"] = tabla214[\"estudiantes\"].astype(int)\n",
    "tabla214[\"tiempo\"] = tabla214[\"tiempo\"].astype(\"category\")\n",
    "normalizada=tabla214.copy()\n",
    "normalizada[\"estudiantes\"] = normalizada[\"estudiantes\"]/normalizada[\"estudiantes\"].sum()\n",
    "\n",
    "tabla214"
   ]
  },
  {
   "cell_type": "markdown",
   "metadata": {},
   "source": [
    "### En la tabla 2.14 se presenta una distribución de frecuencias de la cantidad de minutos por semana que ven televisión 400 estudiantes. De acuerdo con esta tabla, determinar:"
   ]
  },
  {
   "cell_type": "markdown",
   "metadata": {},
   "source": [
    "- a) El límite superior de la quinta clase. \n",
    "    - Respuesta = 799\n",
    "- b) El límite inferior de la octava clase.\n",
    "    - Respuesta = 1000\n",
    "- c) La marca de clase de la séptima clase.\n",
    "    - Respuesta = 949.5\n",
    "- d) Las fronteras de clase de la última clase.\n",
    "    - Respuesta = 1099.5 y 1199.5\n",
    "- e) El tamaño del intervalo de clase.\n",
    "    - Respuesta = 100\n",
    "- f) La frecuencia de la cuarta clase.\n",
    "    - Respuesta = 76\n",
    "- g) La frecuencia relativa de la sexta clase.\n",
    "    - Respuesta = 15.5%\n",
    "- h) El porcentaje de estudiantes que no ven televisión más de 600 minutos por semana.\n",
    "    - Respuesta = 29.5%\n",
    "- i) El porcentaje de estudiantes que ven televisión 900 o más minutos por semana.\n",
    "    - Respuesta = 19.5%\n",
    "- j) El porcentaje de estudiantes que ven televisión por lo menos 500 minutos por semana, pero menos de 1 000 minutos por semana.\n",
    "    - Respuesta = 78%"
   ]
  },
  {
   "cell_type": "markdown",
   "metadata": {},
   "source": [
    "### Normalizamos para obtener frecuencia relativa"
   ]
  },
  {
   "cell_type": "code",
   "execution_count": 3,
   "metadata": {},
   "outputs": [
    {
     "data": {
      "text/html": [
       "<div>\n",
       "<style scoped>\n",
       "    .dataframe tbody tr th:only-of-type {\n",
       "        vertical-align: middle;\n",
       "    }\n",
       "\n",
       "    .dataframe tbody tr th {\n",
       "        vertical-align: top;\n",
       "    }\n",
       "\n",
       "    .dataframe thead th {\n",
       "        text-align: right;\n",
       "    }\n",
       "</style>\n",
       "<table border=\"1\" class=\"dataframe\">\n",
       "  <thead>\n",
       "    <tr style=\"text-align: right;\">\n",
       "      <th></th>\n",
       "      <th>tiempo</th>\n",
       "      <th>estudiantes</th>\n",
       "    </tr>\n",
       "  </thead>\n",
       "  <tbody>\n",
       "    <tr>\n",
       "      <th>0</th>\n",
       "      <td>300-399</td>\n",
       "      <td>0.035</td>\n",
       "    </tr>\n",
       "    <tr>\n",
       "      <th>1</th>\n",
       "      <td>400-499</td>\n",
       "      <td>0.115</td>\n",
       "    </tr>\n",
       "    <tr>\n",
       "      <th>2</th>\n",
       "      <td>500-599</td>\n",
       "      <td>0.145</td>\n",
       "    </tr>\n",
       "    <tr>\n",
       "      <th>3</th>\n",
       "      <td>600-699</td>\n",
       "      <td>0.190</td>\n",
       "    </tr>\n",
       "    <tr>\n",
       "      <th>4</th>\n",
       "      <td>700-799</td>\n",
       "      <td>0.170</td>\n",
       "    </tr>\n",
       "    <tr>\n",
       "      <th>5</th>\n",
       "      <td>800-899</td>\n",
       "      <td>0.155</td>\n",
       "    </tr>\n",
       "    <tr>\n",
       "      <th>6</th>\n",
       "      <td>900-999</td>\n",
       "      <td>0.120</td>\n",
       "    </tr>\n",
       "    <tr>\n",
       "      <th>7</th>\n",
       "      <td>1_000-1_099</td>\n",
       "      <td>0.055</td>\n",
       "    </tr>\n",
       "    <tr>\n",
       "      <th>8</th>\n",
       "      <td>1_100-1_199</td>\n",
       "      <td>0.015</td>\n",
       "    </tr>\n",
       "  </tbody>\n",
       "</table>\n",
       "</div>"
      ],
      "text/plain": [
       "        tiempo  estudiantes\n",
       "0      300-399        0.035\n",
       "1      400-499        0.115\n",
       "2      500-599        0.145\n",
       "3      600-699        0.190\n",
       "4      700-799        0.170\n",
       "5      800-899        0.155\n",
       "6      900-999        0.120\n",
       "7  1_000-1_099        0.055\n",
       "8  1_100-1_199        0.015"
      ]
     },
     "execution_count": 3,
     "metadata": {},
     "output_type": "execute_result"
    }
   ],
   "source": [
    "normalizada"
   ]
  },
  {
   "cell_type": "markdown",
   "metadata": {},
   "source": [
    "### No ven más de 600 minutos"
   ]
  },
  {
   "cell_type": "code",
   "execution_count": 4,
   "metadata": {},
   "outputs": [
    {
     "data": {
      "text/plain": [
       "0.29500000000000004"
      ]
     },
     "execution_count": 4,
     "metadata": {},
     "output_type": "execute_result"
    }
   ],
   "source": [
    "normalizada[:3][\"estudiantes\"].sum()"
   ]
  },
  {
   "cell_type": "markdown",
   "metadata": {},
   "source": [
    "### ven televisión más de 900 minutos"
   ]
  },
  {
   "cell_type": "code",
   "execution_count": 5,
   "metadata": {},
   "outputs": [
    {
     "data": {
      "text/plain": [
       "0.19"
      ]
     },
     "execution_count": 5,
     "metadata": {},
     "output_type": "execute_result"
    }
   ],
   "source": [
    " normalizada[6:][\"estudiantes\"].sum()"
   ]
  },
  {
   "cell_type": "markdown",
   "metadata": {},
   "source": [
    "### ven televisión por lo menos 500 minutos pero menos de 1000"
   ]
  },
  {
   "cell_type": "code",
   "execution_count": 6,
   "metadata": {},
   "outputs": [
    {
     "data": {
      "text/plain": [
       "0.78"
      ]
     },
     "execution_count": 6,
     "metadata": {},
     "output_type": "execute_result"
    }
   ],
   "source": [
    "normalizada[2:7][\"estudiantes\"].sum()"
   ]
  },
  {
   "cell_type": "markdown",
   "metadata": {},
   "source": [
    "# 2.21"
   ]
  },
  {
   "cell_type": "markdown",
   "metadata": {},
   "source": [
    "## Elaborar: a) un histograma y b) un polígono de frecuencias para la distribución de frecuencias de la tabla 2.14."
   ]
  },
  {
   "cell_type": "markdown",
   "metadata": {},
   "source": [
    "### Debido a que la frecuencia de los datos se encuentran ya en la columna estudiantes, usaremos una gráficas de barras para generar el histograma"
   ]
  },
  {
   "cell_type": "code",
   "execution_count": 7,
   "metadata": {},
   "outputs": [
    {
     "data": {
      "text/plain": [
       "<matplotlib.axes._subplots.AxesSubplot at 0x12e3932b0>"
      ]
     },
     "execution_count": 7,
     "metadata": {},
     "output_type": "execute_result"
    },
    {
     "data": {
      "image/png": "[encoded data removed]",
      "text/plain": [
       "<Figure size 720x360 with 1 Axes>"
      ]
     },
     "metadata": {
      "needs_background": "light"
     },
     "output_type": "display_data"
    }
   ],
   "source": [
    "%matplotlib inline\n",
    "\n",
    "\n",
    "tabla214.plot.bar(x=\"tiempo\",y=\"estudiantes\",figsize=(10,5))"
   ]
  },
  {
   "cell_type": "code",
   "execution_count": 8,
   "metadata": {},
   "outputs": [
    {
     "data": {
      "text/plain": [
       "<matplotlib.axes._subplots.AxesSubplot at 0x130491978>"
      ]
     },
     "execution_count": 8,
     "metadata": {},
     "output_type": "execute_result"
    },
    {
     "data": {
      "image/png": "[encoded data removed]",
      "text/plain": [
       "<Figure size 720x360 with 1 Axes>"
      ]
     },
     "metadata": {
      "needs_background": "light"
     },
     "output_type": "display_data"
    }
   ],
   "source": [
    "tabla214.plot(kind='line', x='tiempo', y='estudiantes',figsize=(10,5))"
   ]
  },
  {
   "cell_type": "markdown",
   "metadata": {},
   "source": [
    "# 2.26"
   ]
  },
  {
   "cell_type": "markdown",
   "metadata": {},
   "source": [
    "## El diámetro interno de las lavadoras producidas por una empresa se mide con una exactitud de milésimas de pulgada. Si las marcas de clase de la distribución de estos diámetros dados en pulgadas son 0.321, 0.324, 0.327, 0.330, 0.333 y 0.336, encontrar: a) la amplitud del intervalo de clase, b) las fronteras de clase y c) los límites de clase.\n",
    "\n",
    "- Los intervalos de clase también suelen elegirse de manera que las marcas de clase (o puntos medios de clase) coincidan con datos observados. \n",
    "- Las fronteras de clase se obtienen sumando el límite superior de un intervalo de clase al límite inferior del intervalo de clase inmediato superior y dividiendo entre 2.\n",
    "- Al símbolo que representa una clase, como 60-62 en la tabla 2.1, se le conoce como intervalo de clase. A los números de los extremos, 60 y 62, se les conoce como límites de clase; el número menor (60) es el límite inferior de clase, y el número mayor (62) es el límite superior de clase. Los términos clase e intervalo de clase se suelen usar indistintamen- te, aunque el intervalo de clase en realidad es un símbolo para la clase. Un intervalo de clase que, por lo menos teóricamente, no tenga indicado el límite de clase superior o el límite de clase inferior, se conoce como intervalo de clase abierto. Por ejemplo, al considerar grupos de edades de personas, un intervalo que sea “65 años o mayores” es un intervalo de clase abierto."
   ]
  },
  {
   "cell_type": "markdown",
   "metadata": {},
   "source": [
    "## Respuestas\n",
    "- a) Amplitud del intevalo es 0.003 "
   ]
  },
  {
   "cell_type": "code",
   "execution_count": 9,
   "metadata": {},
   "outputs": [
    {
     "data": {
      "text/html": [
       "<div>\n",
       "<style scoped>\n",
       "    .dataframe tbody tr th:only-of-type {\n",
       "        vertical-align: middle;\n",
       "    }\n",
       "\n",
       "    .dataframe tbody tr th {\n",
       "        vertical-align: top;\n",
       "    }\n",
       "\n",
       "    .dataframe thead th {\n",
       "        text-align: right;\n",
       "    }\n",
       "</style>\n",
       "<table border=\"1\" class=\"dataframe\">\n",
       "  <thead>\n",
       "    <tr style=\"text-align: right;\">\n",
       "      <th></th>\n",
       "      <th>diametro</th>\n",
       "    </tr>\n",
       "  </thead>\n",
       "  <tbody>\n",
       "    <tr>\n",
       "      <th>0</th>\n",
       "      <td>0.321</td>\n",
       "    </tr>\n",
       "    <tr>\n",
       "      <th>1</th>\n",
       "      <td>0.324</td>\n",
       "    </tr>\n",
       "    <tr>\n",
       "      <th>2</th>\n",
       "      <td>0.327</td>\n",
       "    </tr>\n",
       "    <tr>\n",
       "      <th>3</th>\n",
       "      <td>0.330</td>\n",
       "    </tr>\n",
       "    <tr>\n",
       "      <th>4</th>\n",
       "      <td>0.333</td>\n",
       "    </tr>\n",
       "    <tr>\n",
       "      <th>5</th>\n",
       "      <td>0.336</td>\n",
       "    </tr>\n",
       "  </tbody>\n",
       "</table>\n",
       "</div>"
      ],
      "text/plain": [
       "   diametro\n",
       "0     0.321\n",
       "1     0.324\n",
       "2     0.327\n",
       "3     0.330\n",
       "4     0.333\n",
       "5     0.336"
      ]
     },
     "execution_count": 9,
     "metadata": {},
     "output_type": "execute_result"
    }
   ],
   "source": [
    "df=pd.read_csv(\"226.csv\")\n",
    "df.rename(columns={\"Unnamed: 0\": \"diametro\"},inplace=True)\n",
    "df"
   ]
  },
  {
   "cell_type": "markdown",
   "metadata": {},
   "source": [
    "## Rango"
   ]
  },
  {
   "cell_type": "code",
   "execution_count": 10,
   "metadata": {},
   "outputs": [
    {
     "data": {
      "text/plain": [
       "0.0030000000000000027"
      ]
     },
     "execution_count": 10,
     "metadata": {},
     "output_type": "execute_result"
    }
   ],
   "source": [
    "rango=df.loc[1][0]-df.loc[0][0]\n",
    "rango"
   ]
  },
  {
   "cell_type": "markdown",
   "metadata": {},
   "source": [
    "## Límites de clase"
   ]
  },
  {
   "cell_type": "code",
   "execution_count": 11,
   "metadata": {},
   "outputs": [
    {
     "data": {
      "text/html": [
       "<div>\n",
       "<style scoped>\n",
       "    .dataframe tbody tr th:only-of-type {\n",
       "        vertical-align: middle;\n",
       "    }\n",
       "\n",
       "    .dataframe tbody tr th {\n",
       "        vertical-align: top;\n",
       "    }\n",
       "\n",
       "    .dataframe thead th {\n",
       "        text-align: right;\n",
       "    }\n",
       "</style>\n",
       "<table border=\"1\" class=\"dataframe\">\n",
       "  <thead>\n",
       "    <tr style=\"text-align: right;\">\n",
       "      <th></th>\n",
       "      <th>diametro</th>\n",
       "      <th>límite de clase</th>\n",
       "    </tr>\n",
       "  </thead>\n",
       "  <tbody>\n",
       "    <tr>\n",
       "      <th>0</th>\n",
       "      <td>0.321</td>\n",
       "      <td>(0.32, 0.322)</td>\n",
       "    </tr>\n",
       "    <tr>\n",
       "      <th>1</th>\n",
       "      <td>0.324</td>\n",
       "      <td>(0.323, 0.325)</td>\n",
       "    </tr>\n",
       "    <tr>\n",
       "      <th>2</th>\n",
       "      <td>0.327</td>\n",
       "      <td>(0.326, 0.328)</td>\n",
       "    </tr>\n",
       "    <tr>\n",
       "      <th>3</th>\n",
       "      <td>0.330</td>\n",
       "      <td>(0.329, 0.331)</td>\n",
       "    </tr>\n",
       "    <tr>\n",
       "      <th>4</th>\n",
       "      <td>0.333</td>\n",
       "      <td>(0.33199999999999996, 0.33399999999999996)</td>\n",
       "    </tr>\n",
       "    <tr>\n",
       "      <th>5</th>\n",
       "      <td>0.336</td>\n",
       "      <td>(0.335, 0.337)</td>\n",
       "    </tr>\n",
       "  </tbody>\n",
       "</table>\n",
       "</div>"
      ],
      "text/plain": [
       "   diametro                             límite de clase\n",
       "0     0.321                               (0.32, 0.322)\n",
       "1     0.324                              (0.323, 0.325)\n",
       "2     0.327                              (0.326, 0.328)\n",
       "3     0.330                              (0.329, 0.331)\n",
       "4     0.333  (0.33199999999999996, 0.33399999999999996)\n",
       "5     0.336                              (0.335, 0.337)"
      ]
     },
     "execution_count": 11,
     "metadata": {},
     "output_type": "execute_result"
    }
   ],
   "source": [
    "df[\"límite de clase\"]=[(element -0.001 , element + .001) for element in df[\"diametro\"]]\n",
    "df"
   ]
  },
  {
   "cell_type": "markdown",
   "metadata": {},
   "source": [
    "## Fronteras de clase"
   ]
  },
  {
   "cell_type": "code",
   "execution_count": 12,
   "metadata": {},
   "outputs": [],
   "source": [
    "df[\"Fronteras de clase\"]=[(element -rango/2 , element + rango/2) for element in df[\"diametro\"]]"
   ]
  },
  {
   "cell_type": "code",
   "execution_count": 13,
   "metadata": {},
   "outputs": [
    {
     "data": {
      "text/html": [
       "<div>\n",
       "<style scoped>\n",
       "    .dataframe tbody tr th:only-of-type {\n",
       "        vertical-align: middle;\n",
       "    }\n",
       "\n",
       "    .dataframe tbody tr th {\n",
       "        vertical-align: top;\n",
       "    }\n",
       "\n",
       "    .dataframe thead th {\n",
       "        text-align: right;\n",
       "    }\n",
       "</style>\n",
       "<table border=\"1\" class=\"dataframe\">\n",
       "  <thead>\n",
       "    <tr style=\"text-align: right;\">\n",
       "      <th></th>\n",
       "      <th>diametro</th>\n",
       "      <th>límite de clase</th>\n",
       "      <th>Fronteras de clase</th>\n",
       "    </tr>\n",
       "  </thead>\n",
       "  <tbody>\n",
       "    <tr>\n",
       "      <th>0</th>\n",
       "      <td>0.321</td>\n",
       "      <td>(0.32, 0.322)</td>\n",
       "      <td>(0.3195, 0.3225)</td>\n",
       "    </tr>\n",
       "    <tr>\n",
       "      <th>1</th>\n",
       "      <td>0.324</td>\n",
       "      <td>(0.323, 0.325)</td>\n",
       "      <td>(0.3225, 0.3255)</td>\n",
       "    </tr>\n",
       "    <tr>\n",
       "      <th>2</th>\n",
       "      <td>0.327</td>\n",
       "      <td>(0.326, 0.328)</td>\n",
       "      <td>(0.3255, 0.3285)</td>\n",
       "    </tr>\n",
       "    <tr>\n",
       "      <th>3</th>\n",
       "      <td>0.330</td>\n",
       "      <td>(0.329, 0.331)</td>\n",
       "      <td>(0.3285, 0.3315)</td>\n",
       "    </tr>\n",
       "    <tr>\n",
       "      <th>4</th>\n",
       "      <td>0.333</td>\n",
       "      <td>(0.33199999999999996, 0.33399999999999996)</td>\n",
       "      <td>(0.33149999999999996, 0.33449999999999996)</td>\n",
       "    </tr>\n",
       "    <tr>\n",
       "      <th>5</th>\n",
       "      <td>0.336</td>\n",
       "      <td>(0.335, 0.337)</td>\n",
       "      <td>(0.3345, 0.3375)</td>\n",
       "    </tr>\n",
       "  </tbody>\n",
       "</table>\n",
       "</div>"
      ],
      "text/plain": [
       "   diametro                             límite de clase  \\\n",
       "0     0.321                               (0.32, 0.322)   \n",
       "1     0.324                              (0.323, 0.325)   \n",
       "2     0.327                              (0.326, 0.328)   \n",
       "3     0.330                              (0.329, 0.331)   \n",
       "4     0.333  (0.33199999999999996, 0.33399999999999996)   \n",
       "5     0.336                              (0.335, 0.337)   \n",
       "\n",
       "                           Fronteras de clase  \n",
       "0                            (0.3195, 0.3225)  \n",
       "1                            (0.3225, 0.3255)  \n",
       "2                            (0.3255, 0.3285)  \n",
       "3                            (0.3285, 0.3315)  \n",
       "4  (0.33149999999999996, 0.33449999999999996)  \n",
       "5                            (0.3345, 0.3375)  "
      ]
     },
     "execution_count": 13,
     "metadata": {},
     "output_type": "execute_result"
    }
   ],
   "source": [
    "df"
   ]
  },
  {
   "cell_type": "markdown",
   "metadata": {},
   "source": [
    "# 2.27"
   ]
  },
  {
   "cell_type": "markdown",
   "metadata": {},
   "source": [
    "## En la tabla siguiente se dan los diámetros en centímetros de una muestra de 60 balines fabricados en una empresa. Elaborar una distribución de frecuencias de los diámetros empleando los intervalos de clase adecuados."
   ]
  },
  {
   "cell_type": "code",
   "execution_count": 14,
   "metadata": {},
   "outputs": [],
   "source": [
    "df = pd.read_csv(\"227.csv\")\n",
    "df[\"diametro\"] = df[\"diametro\"].astype(float) \n",
    "df.sort_values(by=[\"diametro\"],inplace=True)"
   ]
  },
  {
   "cell_type": "markdown",
   "metadata": {},
   "source": [
    "### Encontrando el minimo el máximo y el salto que hay que dar"
   ]
  },
  {
   "cell_type": "code",
   "execution_count": 15,
   "metadata": {},
   "outputs": [
    {
     "data": {
      "text/plain": [
       "1.7235"
      ]
     },
     "execution_count": 15,
     "metadata": {},
     "output_type": "execute_result"
    }
   ],
   "source": [
    "minimo = df.min()[0]\n",
    "maximo = df.max()[0]\n",
    "step = 0.001\n",
    "minimo - step/2 "
   ]
  },
  {
   "cell_type": "markdown",
   "metadata": {},
   "source": [
    "## Generador de rangos de números de punto flotante "
   ]
  },
  {
   "cell_type": "code",
   "execution_count": 16,
   "metadata": {},
   "outputs": [],
   "source": [
    "import decimal\n",
    "\n",
    "def float_range(start, stop, step):\n",
    "  while start < stop:\n",
    "    yield float(start)\n",
    "    start += decimal.Decimal(step)\n",
    "\n",
    "cut_list=list(float_range(decimal.Decimal(minimo - step/2 ), decimal.Decimal(maximo + step/2 + step), step))\n",
    "labels =[]\n",
    "for index, element in enumerate(cut_list):\n",
    "    if index < len(cut_list)-1:\n",
    "        labels.append(str(cut_list[index])+\"-\"+str(cut_list[index+1]))\n"
   ]
  },
  {
   "cell_type": "markdown",
   "metadata": {},
   "source": [
    "### Usaremos cut de pandas para encontrar la distribución de las frecuencias. Debemos tener cuidado de recordar lo siguiente  \n",
    "\n",
    "-\"Los intervalos de clase también suelen elegirse de manera que las marcas de clase (o puntos medios de clase) coincidan con datos observados.\"\n",
    "\n",
    "Esto fue exactamente lo que hiciomos"
   ]
  },
  {
   "cell_type": "code",
   "execution_count": 22,
   "metadata": {},
   "outputs": [
    {
     "data": {
      "text/html": [
       "<div>\n",
       "<style scoped>\n",
       "    .dataframe tbody tr th:only-of-type {\n",
       "        vertical-align: middle;\n",
       "    }\n",
       "\n",
       "    .dataframe tbody tr th {\n",
       "        vertical-align: top;\n",
       "    }\n",
       "\n",
       "    .dataframe thead th {\n",
       "        text-align: right;\n",
       "    }\n",
       "</style>\n",
       "<table border=\"1\" class=\"dataframe\">\n",
       "  <thead>\n",
       "    <tr style=\"text-align: right;\">\n",
       "      <th></th>\n",
       "      <th>frecuencia</th>\n",
       "    </tr>\n",
       "  </thead>\n",
       "  <tbody>\n",
       "    <tr>\n",
       "      <th>1.7235-1.7245</th>\n",
       "      <td>1</td>\n",
       "    </tr>\n",
       "    <tr>\n",
       "      <th>1.7245-1.7255</th>\n",
       "      <td>1</td>\n",
       "    </tr>\n",
       "    <tr>\n",
       "      <th>1.7255-1.7265</th>\n",
       "      <td>1</td>\n",
       "    </tr>\n",
       "    <tr>\n",
       "      <th>1.7265-1.7275</th>\n",
       "      <td>2</td>\n",
       "    </tr>\n",
       "    <tr>\n",
       "      <th>1.7275-1.7285</th>\n",
       "      <td>2</td>\n",
       "    </tr>\n",
       "    <tr>\n",
       "      <th>1.7285-1.7295</th>\n",
       "      <td>2</td>\n",
       "    </tr>\n",
       "    <tr>\n",
       "      <th>1.7295-1.7305</th>\n",
       "      <td>3</td>\n",
       "    </tr>\n",
       "    <tr>\n",
       "      <th>1.7305-1.7315</th>\n",
       "      <td>2</td>\n",
       "    </tr>\n",
       "    <tr>\n",
       "      <th>1.7315-1.7325</th>\n",
       "      <td>5</td>\n",
       "    </tr>\n",
       "    <tr>\n",
       "      <th>1.7325-1.7335</th>\n",
       "      <td>3</td>\n",
       "    </tr>\n",
       "    <tr>\n",
       "      <th>1.7335-1.7345</th>\n",
       "      <td>4</td>\n",
       "    </tr>\n",
       "    <tr>\n",
       "      <th>1.7345-1.7355</th>\n",
       "      <td>8</td>\n",
       "    </tr>\n",
       "    <tr>\n",
       "      <th>1.7355-1.7365</th>\n",
       "      <td>6</td>\n",
       "    </tr>\n",
       "    <tr>\n",
       "      <th>1.7365-1.7375</th>\n",
       "      <td>3</td>\n",
       "    </tr>\n",
       "    <tr>\n",
       "      <th>1.7375-1.7385</th>\n",
       "      <td>3</td>\n",
       "    </tr>\n",
       "    <tr>\n",
       "      <th>1.7385-1.7395</th>\n",
       "      <td>3</td>\n",
       "    </tr>\n",
       "    <tr>\n",
       "      <th>1.7395-1.7405</th>\n",
       "      <td>3</td>\n",
       "    </tr>\n",
       "    <tr>\n",
       "      <th>1.7405-1.7415</th>\n",
       "      <td>2</td>\n",
       "    </tr>\n",
       "    <tr>\n",
       "      <th>1.7415-1.7425</th>\n",
       "      <td>2</td>\n",
       "    </tr>\n",
       "    <tr>\n",
       "      <th>1.7425-1.7435</th>\n",
       "      <td>1</td>\n",
       "    </tr>\n",
       "    <tr>\n",
       "      <th>1.7435-1.7445</th>\n",
       "      <td>1</td>\n",
       "    </tr>\n",
       "    <tr>\n",
       "      <th>1.7445-1.7455</th>\n",
       "      <td>1</td>\n",
       "    </tr>\n",
       "    <tr>\n",
       "      <th>1.7455-1.7465</th>\n",
       "      <td>1</td>\n",
       "    </tr>\n",
       "  </tbody>\n",
       "</table>\n",
       "</div>"
      ],
      "text/plain": [
       "               frecuencia\n",
       "1.7235-1.7245           1\n",
       "1.7245-1.7255           1\n",
       "1.7255-1.7265           1\n",
       "1.7265-1.7275           2\n",
       "1.7275-1.7285           2\n",
       "1.7285-1.7295           2\n",
       "1.7295-1.7305           3\n",
       "1.7305-1.7315           2\n",
       "1.7315-1.7325           5\n",
       "1.7325-1.7335           3\n",
       "1.7335-1.7345           4\n",
       "1.7345-1.7355           8\n",
       "1.7355-1.7365           6\n",
       "1.7365-1.7375           3\n",
       "1.7375-1.7385           3\n",
       "1.7385-1.7395           3\n",
       "1.7395-1.7405           3\n",
       "1.7405-1.7415           2\n",
       "1.7415-1.7425           2\n",
       "1.7425-1.7435           1\n",
       "1.7435-1.7445           1\n",
       "1.7445-1.7455           1\n",
       "1.7455-1.7465           1"
      ]
     },
     "execution_count": 22,
     "metadata": {},
     "output_type": "execute_result"
    }
   ],
   "source": [
    "df['frecuencia']=pd.cut(df['diametro'], cut_list,labels=labels)\n",
    "df[\"frecuencia\"].value_counts(sort=False).to_frame()"
   ]
  },
  {
   "cell_type": "markdown",
   "metadata": {},
   "source": [
    "### Generaremos un histograma que concuerda con la tabla de arriba"
   ]
  },
  {
   "cell_type": "code",
   "execution_count": 20,
   "metadata": {},
   "outputs": [
    {
     "data": {
      "text/plain": [
       "<matplotlib.axes._subplots.AxesSubplot at 0x13087c3c8>"
      ]
     },
     "execution_count": 20,
     "metadata": {},
     "output_type": "execute_result"
    },
    {
     "data": {
      "image/png": "[encoded data removed]",
      "text/plain": [
       "<Figure size 1080x720 with 1 Axes>"
      ]
     },
     "metadata": {
      "needs_background": "light"
     },
     "output_type": "display_data"
    }
   ],
   "source": [
    "df.plot.hist(x=\"frecuencia\", y=\"diametro\",figsize=(15,10))"
   ]
  },
  {
   "cell_type": "markdown",
   "metadata": {},
   "source": [
    "# 2.31"
   ]
  },
  {
   "cell_type": "markdown",
   "metadata": {},
   "source": [
    "De acuerdo con la Oficina de los Censos de Estados Unidos, en 1996 la población de este país era de 265 284 000. La tabla\n",
    "2.15 da la distribución porcentual en los diversos grupos de edad.\n",
    "- a) ¿Cuál es la amplitud o el tamaño del segundo intervalo de clase? ¿Y la del cuarto intervalo de clase?\n",
    "    * 4\n",
    "    * 4\n",
    "- b) ¿Cuántos tamaños distintos de intervalos de clase hay?\n",
    "    - En total son 4 \n",
    "        - \"Menos de 5\" (intervalo abierto menor que 5)\n",
    "        - De tamaño 4 años\n",
    "        - de tamaño 10 años (como en 65-74 y 75-84)\n",
    "        - \"85 o más\" (intervalo abierto mayor o igual a 85)\n",
    "- c) ¿Cuántos intervalos de clase abiertos hay?\n",
    "    - 2\n",
    "- d) ¿Cómo se deberá escribir el último intervalo de clase de manera que su amplitud sea igual a la del penúltimo intervalo de clase?\n",
    "    - 85-94\n",
    "- e) ¿Cuál es la marca de clase del segundo intervalo de clase? ¿Y la del cuarto intervalo de clase?\n",
    "    - 7\n",
    "    - 17\n",
    "- f) ¿Cuáles son las fronteras de clase del cuarto intervalo de clase?\n",
    "    - 14.5, 19.5\n",
    "- g) ¿Qué porcentaje de la población tiene 35 años o más? ¿Qué porcentaje de la población tiene 64 años o menos?\n",
    "    - 35 años o mas = 49.3%\n",
    "    - 64 años o menos = 87.3%\n",
    "- h) ¿Qué porcentaje de la población tiene entre 20 y 49 inclusive?\n",
    "    - 45.1 %\n",
    "- i) ¿Qué porcentaje de la población tiene más de 70 años?\n",
    "    - Solo puedo afirmar que el número se encuentra entre 5.7% y 12%"
   ]
  },
  {
   "cell_type": "code",
   "execution_count": 54,
   "metadata": {},
   "outputs": [
    {
     "data": {
      "text/plain": [
       "grupo         65-7475-8485-inf\n",
       "porcentaje                12.7\n",
       "dtype: object"
      ]
     },
     "execution_count": 54,
     "metadata": {},
     "output_type": "execute_result"
    }
   ],
   "source": [
    "df=pd.read_csv(\"census.txt\",sep=\"\\s+\") \n",
    "df[13:].sum()"
   ]
  },
  {
   "cell_type": "code",
   "execution_count": null,
   "metadata": {},
   "outputs": [],
   "source": []
  }
 ],
 "metadata": {
  "kernelspec": {
   "display_name": "Python 3",
   "language": "python",
   "name": "python3"
  },
  "language_info": {
   "codemirror_mode": {
    "name": "ipython",
    "version": 3
   },
   "file_extension": ".py",
   "mimetype": "text/x-python",
   "name": "python",
   "nbconvert_exporter": "python",
   "pygments_lexer": "ipython3",
   "version": "3.7.3"
  }
 },
 "nbformat": 4,
 "nbformat_minor": 2
}
