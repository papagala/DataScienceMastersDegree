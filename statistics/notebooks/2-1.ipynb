{
 "cells": [
  {
   "cell_type": "markdown",
   "metadata": {},
   "source": [
    "# 9-2\n",
    "\n",
    "Bombillas donde duración está distribuida de forma aproximadamente normal y $\\sigma = 40$ horas. En una muestra de 30 bombillas tiene una duración promedio de 78 horas. Calcular intervalo de confianza del 96% para la media de la población.\n",
    "\n",
    "- $\\sigma = 40$\n",
    "- $\\mu = 780$\n",
    "\n"
   ]
  },
  {
   "cell_type": "markdown",
   "metadata": {},
   "source": [
    "Aquí hay un ejemplo super relevante de una función en Python que calcula intervalos de confianza"
   ]
  },
  {
   "cell_type": "code",
   "execution_count": 1,
   "metadata": {},
   "outputs": [],
   "source": [
    "import statistics\n",
    "\n",
    "def confidence_interval_old(data, confidence=0.95):\n",
    "  dist = statistics.NormalDist.from_samples(data)\n",
    "  z = statistics.NormalDist().inv_cdf((1 + confidence) / 2.)\n",
    "  h = dist.stdev * z / ((len(data) - 1) ** .5)\n",
    "  return dist.mean - h, dist.mean + h"
   ]
  },
  {
   "cell_type": "markdown",
   "metadata": {},
   "source": [
    "Creates a NormalDist object from the data sample (NormalDist.from_samples(data), which gives us access to the sample's mean and standard deviation via NormalDist.mean and NormalDist.stdev.\n",
    "\n",
    "Compute the Z-score based on the standard normal distribution (represented by NormalDist()) for the given confidence using the inverse of the cumulative distribution function (inv_cdf).\n",
    "\n",
    "Produces the confidence interval based on the sample's standard deviation and mean."
   ]
  },
  {
   "cell_type": "markdown",
   "metadata": {},
   "source": [
    "$$\\large \\hat \\theta_L = \\bar x - z_{\\alpha/2}\\frac{\\sigma}{\\sqrt{n}}$$ y $$\\large \\hat \\theta_U = \\bar x + z_{\\alpha/2}\\frac{\\sigma}{\\sqrt{n}}$$"
   ]
  },
  {
   "cell_type": "markdown",
   "metadata": {},
   "source": [
    "Haremos uso de la nueva version de Python, que incluye de manera nativa el módulo statistics. Específicamente la clase statistics.NormalDist y el método inv_cdf.\n",
    "\n",
    "- inv_cdf(p)\n",
    "  Compute the inverse cumulative distribution function, also known as the quantile function or the percent-point function. Mathematically, it is written x : P(X <= x) = p. Finds the value x of the random variable X such that the probability of the variable being less than or equal to that value equals the given probability p."
   ]
  },
  {
   "cell_type": "code",
   "execution_count": 2,
   "metadata": {},
   "outputs": [
    {
     "data": {
      "text/plain": [
       "NormalDist(mu=780.0, sigma=40.0)"
      ]
     },
     "execution_count": 2,
     "metadata": {},
     "output_type": "execute_result"
    }
   ],
   "source": [
    "dist=statistics.NormalDist(mu=780, sigma=40)\n",
    "dist"
   ]
  },
  {
   "cell_type": "markdown",
   "metadata": {},
   "source": [
    "Tenemos instanciada nuestra distribución. Ahora devemos encontrar Z usando el inverso de la función de distribución. En nuestro caso nos intersa el 96% de intervalo de confianza, por lo que queremos encontrar inv_cdf(p):\n",
    "\n",
    "$$ x : P(X <= x)=p$$\n",
    "\n",
    "En nuestro caso p será igual a \n",
    "\n",
    "$$\\frac{1+.96}{2} = 0.98 = 1 - \\alpha/2$$\n",
    "\n",
    "Es decir el valor $x$ de $X$ tal que la probabilidad de que $X <= x$ sea de 0.98 (Es decir 2% antes de llegar a cien, ya que tenemos dos colas en nuestra distribución) "
   ]
  },
  {
   "cell_type": "code",
   "execution_count": 3,
   "metadata": {},
   "outputs": [
    {
     "data": {
      "text/plain": [
       "2.053748910631822"
      ]
     },
     "execution_count": 3,
     "metadata": {},
     "output_type": "execute_result"
    }
   ],
   "source": [
    "z = statistics.NormalDist().inv_cdf((1+.96) / 2.)\n",
    "z"
   ]
  },
  {
   "cell_type": "markdown",
   "metadata": {},
   "source": [
    "Vamos a mejorar la funcion que encontramos, dando la opcion de pasar una distribucion ya instanciada y ajustándolo a nuestra definición de $1/\\sqrt(n)$ "
   ]
  },
  {
   "cell_type": "code",
   "execution_count": 4,
   "metadata": {},
   "outputs": [],
   "source": [
    "import typing\n",
    "\n",
    "\n",
    "def confidence_interval(\n",
    "    data: typing.Iterable = None,\n",
    "    confidence: float = 0.95,\n",
    "    dist: statistics.NormalDist = None,\n",
    "    n: int = None,\n",
    "):\n",
    "    \"\"\"Calculate confidence intervals with or without instanciated distributions\"\"\"\n",
    "    if data is not None:\n",
    "        dist = statistics.NormalDist.from_samples(data)\n",
    "        z = statistics.NormalDist().inv_cdf((1 + confidence) / 2.0)\n",
    "        h = dist.stdev * z / ((len(data)) ** 0.5)\n",
    "        return dist.mean - h, dist.mean + h\n",
    "    else:\n",
    "        z = statistics.NormalDist().inv_cdf((1 + confidence) / 2.0)\n",
    "        h = dist.stdev * z / ((n) ** 0.5)\n",
    "        return dist.mean - h, dist.mean + h\n"
   ]
  },
  {
   "cell_type": "code",
   "execution_count": 5,
   "metadata": {},
   "outputs": [
    {
     "data": {
      "text/plain": [
       "(765.0015385892706, 794.9984614107294)"
      ]
     },
     "execution_count": 5,
     "metadata": {},
     "output_type": "execute_result"
    }
   ],
   "source": [
    "confidence_interval(confidence=0.96,dist=dist,n=30)"
   ]
  },
  {
   "cell_type": "markdown",
   "metadata": {},
   "source": [
    "Es decir:\n",
    "\n",
    " $$ 765.0015 < \\mu <794.998 $$\n",
    " \n",
    " con 96% de confianza "
   ]
  },
  {
   "cell_type": "markdown",
   "metadata": {},
   "source": [
    "# 9.3\n",
    " \n",
    "Calcular un intevalo de confianza del 95% dado:\n",
    "$$\\sigma = 0.0015$$\n",
    "$$n=75$$\n",
    "$$\\mu = 0.310$$"
   ]
  },
  {
   "cell_type": "markdown",
   "metadata": {},
   "source": [
    "Tomando en cuenta que ya tenemos una función creada en el inciso anterior, podemos simplemente utilizarla para obtener el intevalo de confianza"
   ]
  },
  {
   "cell_type": "code",
   "execution_count": 6,
   "metadata": {},
   "outputs": [
    {
     "data": {
      "text/plain": [
       "NormalDist(mu=0.31, sigma=0.0015)"
      ]
     },
     "execution_count": 6,
     "metadata": {},
     "output_type": "execute_result"
    }
   ],
   "source": [
    "dist=statistics.NormalDist(mu=0.310, sigma=0.0015)\n",
    "dist"
   ]
  },
  {
   "cell_type": "code",
   "execution_count": 7,
   "metadata": {},
   "outputs": [
    {
     "data": {
      "text/plain": [
       "(0.30966052427977714, 0.31033947572022286)"
      ]
     },
     "execution_count": 7,
     "metadata": {},
     "output_type": "execute_result"
    }
   ],
   "source": [
    "confidence_interval(confidence=0.95,dist=dist,n=75)"
   ]
  },
  {
   "cell_type": "markdown",
   "metadata": {},
   "source": [
    "Es decir:\n",
    "\n",
    " $$ 0.30966 < \\mu < 0.3103 $$\n",
    " \n",
    " con 95% de confianza "
   ]
  },
  {
   "cell_type": "markdown",
   "metadata": {},
   "source": [
    "# 9.6 \n",
    "\n",
    "¿Qué tan grande debe ser la muestra en el ejercicio 9.2 si deseamos tener un 96% de confianza en que nuestra media muestral estará dentro de 10 horas a partir de la media verdadera?"
   ]
  },
  {
   "cell_type": "markdown",
   "metadata": {},
   "source": [
    "$$n = \\Big(\\frac{z_{\\alpha/2} \\sigma}{e}\\Big)^2 $$\n",
    "\n",
    "Recordande que \n",
    "\n",
    "- $\\sigma = 40$\n",
    "- $\\mu = 780$"
   ]
  },
  {
   "cell_type": "markdown",
   "metadata": {},
   "source": [
    "Primeramente calcularemos nuevamente $z_{\\alpha/2}$"
   ]
  },
  {
   "cell_type": "code",
   "execution_count": 8,
   "metadata": {},
   "outputs": [
    {
     "data": {
      "text/plain": [
       "2.053748910631822"
      ]
     },
     "execution_count": 8,
     "metadata": {},
     "output_type": "execute_result"
    }
   ],
   "source": [
    "z = statistics.NormalDist().inv_cdf((1+.96) / 2.)\n",
    "z"
   ]
  },
  {
   "cell_type": "code",
   "execution_count": 9,
   "metadata": {},
   "outputs": [
    {
     "data": {
      "text/plain": [
       "67.48615340674233"
      ]
     },
     "execution_count": 9,
     "metadata": {},
     "output_type": "execute_result"
    }
   ],
   "source": [
    "n = (z*40 / 10)**2\n",
    "n"
   ]
  },
  {
   "cell_type": "markdown",
   "metadata": {},
   "source": [
    "Redondeando, obtenemos la respuesta de $n=68$"
   ]
  },
  {
   "cell_type": "markdown",
   "metadata": {},
   "source": [
    "# 9.7"
   ]
  },
  {
   "cell_type": "markdown",
   "metadata": {},
   "source": [
    "Similar al ejercicio anterior, tenemos ahora que $e=0.0005$ con una confianza del 95%"
   ]
  },
  {
   "cell_type": "markdown",
   "metadata": {},
   "source": [
    "Primeramente calcularemos nuevamente $z_{\\alpha/2}$\n",
    "\n",
    "$$\\sigma = 0.0015$$\n",
    "$$n=75$$\n",
    "$$\\mu = 0.310$$"
   ]
  },
  {
   "cell_type": "code",
   "execution_count": 10,
   "metadata": {},
   "outputs": [
    {
     "data": {
      "text/plain": [
       "1.9599639845400536"
      ]
     },
     "execution_count": 10,
     "metadata": {},
     "output_type": "execute_result"
    }
   ],
   "source": [
    "z = statistics.NormalDist().inv_cdf((1+.95) / 2.)\n",
    "z"
   ]
  },
  {
   "cell_type": "code",
   "execution_count": 11,
   "metadata": {},
   "outputs": [
    {
     "data": {
      "text/plain": [
       "34.57312938624712"
      ]
     },
     "execution_count": 11,
     "metadata": {},
     "output_type": "execute_result"
    }
   ],
   "source": [
    "n = (z*0.0015/0.0005)**2\n",
    "n"
   ]
  },
  {
   "cell_type": "markdown",
   "metadata": {},
   "source": [
    "Por lo que al redondear, tenemos la respuesta $n=35$"
   ]
  },
  {
   "cell_type": "markdown",
   "metadata": {},
   "source": [
    "# 9.14\n",
    "\n"
   ]
  },
  {
   "cell_type": "code",
   "execution_count": 12,
   "metadata": {},
   "outputs": [
    {
     "data": {
      "text/html": [
       "<div>\n",
       "<style scoped>\n",
       "    .dataframe tbody tr th:only-of-type {\n",
       "        vertical-align: middle;\n",
       "    }\n",
       "\n",
       "    .dataframe tbody tr th {\n",
       "        vertical-align: top;\n",
       "    }\n",
       "\n",
       "    .dataframe thead th {\n",
       "        text-align: right;\n",
       "    }\n",
       "</style>\n",
       "<table border=\"1\" class=\"dataframe\">\n",
       "  <thead>\n",
       "    <tr style=\"text-align: right;\">\n",
       "      <th></th>\n",
       "      <th>data</th>\n",
       "    </tr>\n",
       "  </thead>\n",
       "  <tbody>\n",
       "    <tr>\n",
       "      <th>0</th>\n",
       "      <td>3.4</td>\n",
       "    </tr>\n",
       "    <tr>\n",
       "      <th>1</th>\n",
       "      <td>2.5</td>\n",
       "    </tr>\n",
       "    <tr>\n",
       "      <th>2</th>\n",
       "      <td>4.8</td>\n",
       "    </tr>\n",
       "    <tr>\n",
       "      <th>3</th>\n",
       "      <td>2.9</td>\n",
       "    </tr>\n",
       "    <tr>\n",
       "      <th>4</th>\n",
       "      <td>3.6</td>\n",
       "    </tr>\n",
       "    <tr>\n",
       "      <th>5</th>\n",
       "      <td>2.8</td>\n",
       "    </tr>\n",
       "    <tr>\n",
       "      <th>6</th>\n",
       "      <td>3.3</td>\n",
       "    </tr>\n",
       "    <tr>\n",
       "      <th>7</th>\n",
       "      <td>5.6</td>\n",
       "    </tr>\n",
       "    <tr>\n",
       "      <th>8</th>\n",
       "      <td>3.7</td>\n",
       "    </tr>\n",
       "    <tr>\n",
       "      <th>9</th>\n",
       "      <td>2.8</td>\n",
       "    </tr>\n",
       "    <tr>\n",
       "      <th>10</th>\n",
       "      <td>4.4</td>\n",
       "    </tr>\n",
       "    <tr>\n",
       "      <th>11</th>\n",
       "      <td>4.0</td>\n",
       "    </tr>\n",
       "    <tr>\n",
       "      <th>12</th>\n",
       "      <td>5.2</td>\n",
       "    </tr>\n",
       "    <tr>\n",
       "      <th>13</th>\n",
       "      <td>3.0</td>\n",
       "    </tr>\n",
       "    <tr>\n",
       "      <th>14</th>\n",
       "      <td>4.8</td>\n",
       "    </tr>\n",
       "  </tbody>\n",
       "</table>\n",
       "</div>"
      ],
      "text/plain": [
       "    data\n",
       "0    3.4\n",
       "1    2.5\n",
       "2    4.8\n",
       "3    2.9\n",
       "4    3.6\n",
       "5    2.8\n",
       "6    3.3\n",
       "7    5.6\n",
       "8    3.7\n",
       "9    2.8\n",
       "10   4.4\n",
       "11   4.0\n",
       "12   5.2\n",
       "13   3.0\n",
       "14   4.8"
      ]
     },
     "execution_count": 12,
     "metadata": {},
     "output_type": "execute_result"
    }
   ],
   "source": [
    "import pandas as pd\n",
    "df=pd.read_csv(\"914.csv\")\n",
    "df"
   ]
  },
  {
   "cell_type": "code",
   "execution_count": 13,
   "metadata": {},
   "outputs": [
    {
     "data": {
      "text/html": [
       "<div>\n",
       "<style scoped>\n",
       "    .dataframe tbody tr th:only-of-type {\n",
       "        vertical-align: middle;\n",
       "    }\n",
       "\n",
       "    .dataframe tbody tr th {\n",
       "        vertical-align: top;\n",
       "    }\n",
       "\n",
       "    .dataframe thead th {\n",
       "        text-align: right;\n",
       "    }\n",
       "</style>\n",
       "<table border=\"1\" class=\"dataframe\">\n",
       "  <thead>\n",
       "    <tr style=\"text-align: right;\">\n",
       "      <th></th>\n",
       "      <th>data</th>\n",
       "    </tr>\n",
       "  </thead>\n",
       "  <tbody>\n",
       "    <tr>\n",
       "      <th>count</th>\n",
       "      <td>15.000000</td>\n",
       "    </tr>\n",
       "    <tr>\n",
       "      <th>mean</th>\n",
       "      <td>3.786667</td>\n",
       "    </tr>\n",
       "    <tr>\n",
       "      <th>std</th>\n",
       "      <td>0.970910</td>\n",
       "    </tr>\n",
       "    <tr>\n",
       "      <th>min</th>\n",
       "      <td>2.500000</td>\n",
       "    </tr>\n",
       "    <tr>\n",
       "      <th>25%</th>\n",
       "      <td>2.950000</td>\n",
       "    </tr>\n",
       "    <tr>\n",
       "      <th>50%</th>\n",
       "      <td>3.600000</td>\n",
       "    </tr>\n",
       "    <tr>\n",
       "      <th>75%</th>\n",
       "      <td>4.600000</td>\n",
       "    </tr>\n",
       "    <tr>\n",
       "      <th>max</th>\n",
       "      <td>5.600000</td>\n",
       "    </tr>\n",
       "  </tbody>\n",
       "</table>\n",
       "</div>"
      ],
      "text/plain": [
       "            data\n",
       "count  15.000000\n",
       "mean    3.786667\n",
       "std     0.970910\n",
       "min     2.500000\n",
       "25%     2.950000\n",
       "50%     3.600000\n",
       "75%     4.600000\n",
       "max     5.600000"
      ]
     },
     "execution_count": 13,
     "metadata": {},
     "output_type": "execute_result"
    }
   ],
   "source": [
    "df.describe()"
   ]
  },
  {
   "cell_type": "code",
   "execution_count": 14,
   "metadata": {},
   "outputs": [],
   "source": [
    "n = len(df[\"data\"])\n",
    "x = df.describe()[\"data\"][\"mean\"]\n",
    "s = df.describe()[\"data\"][\"std\"]"
   ]
  },
  {
   "cell_type": "code",
   "execution_count": 15,
   "metadata": {},
   "outputs": [
    {
     "name": "stdout",
     "output_type": "stream",
     "text": [
      "2.1447866879169273\n"
     ]
    }
   ],
   "source": [
    "# Para muestras pequenas utilizamos la estadistica t\n",
    "# n = 15, grados de livertad= 15-1 = 14\n",
    "# for 95% confidence interval, alpha = 1% = 0.01 and alpha/2 = 0.005\n",
    "from scipy import stats\n",
    "\n",
    "ci = 95\n",
    "n = 15\n",
    "t = stats.t.ppf(1- ((100-ci)/2/100), n-1) # 95%\n",
    "print(t) # 2.14"
   ]
  },
  {
   "cell_type": "markdown",
   "metadata": {},
   "source": [
    "$$\\large \\hat \\theta_L = \\bar x - t_{\\alpha/2}\\frac{s}{\\sqrt{n}}$$ y $$\\large \\hat \\theta_U = \\bar x + t_{\\alpha/2}\\frac{s}{\\sqrt{n}}$$"
   ]
  },
  {
   "cell_type": "markdown",
   "metadata": {},
   "source": [
    "Con s = 0.97 $$t_{0.025}=2.14$$\n",
    "$$\\bar x=3.78666$$ y $$n=15$"
   ]
  },
  {
   "cell_type": "code",
   "execution_count": 16,
   "metadata": {},
   "outputs": [
    {
     "data": {
      "text/plain": [
       "(3.248994505072706, 4.324338828260627)"
      ]
     },
     "execution_count": 16,
     "metadata": {},
     "output_type": "execute_result"
    }
   ],
   "source": [
    "h=(t)*((s)/(n)**.5)\n",
    "(x + -h,x+h)"
   ]
  },
  {
   "cell_type": "markdown",
   "metadata": {},
   "source": [
    "## La respuesta es\n",
    "\n",
    "$$(3.2450, 4.3282)$$"
   ]
  },
  {
   "cell_type": "markdown",
   "metadata": {},
   "source": [
    "## Si por un momento suponemos que podemos usar z, y conocieramos sigma, obtendriamos los intervalos de confianza que vienen abajo, lo cual vemos que son menos anchos"
   ]
  },
  {
   "cell_type": "code",
   "execution_count": 17,
   "metadata": {},
   "outputs": [
    {
     "data": {
      "text/plain": [
       "(3.295327328283576, 4.278006005049757)"
      ]
     },
     "execution_count": 17,
     "metadata": {},
     "output_type": "execute_result"
    }
   ],
   "source": [
    "confidence_interval(data=df[\"data\"],confidence=0.95)"
   ]
  },
  {
   "cell_type": "markdown",
   "metadata": {},
   "source": [
    "# 9.41\n",
    "\n",
    "Calcule un intervalo de conifanza del 99% para la diferencia\n",
    "μ2 – μ1 en los tiempos medios de recuperación\n",
    "para los dos medicamentos. Suponga poblaciones normales\n",
    "que tienen varianzas iguales."
   ]
  },
  {
   "cell_type": "code",
   "execution_count": 40,
   "metadata": {},
   "outputs": [
    {
     "data": {
      "text/plain": [
       "2.763262455461066"
      ]
     },
     "execution_count": 40,
     "metadata": {},
     "output_type": "execute_result"
    }
   ],
   "source": [
    "x1=17\n",
    "x2=19\n",
    "s1_cuad=1.5\n",
    "s2_cuad=1.8\n",
    "n1=14\n",
    "n2=16\n",
    "confidence = 99\n",
    "grados = 28\n",
    "n = 15\n",
    "t = stats.t.ppf(1- ((100-confidence)/2/100), grados) \n",
    "t"
   ]
  },
  {
   "attachments": {
    "estimador.png": {
     "image/png": "[encoded data removed]"
    }
   },
   "cell_type": "markdown",
   "metadata": {},
   "source": [
    "![estimador.png](attachment:estimador.png)"
   ]
  },
  {
   "attachments": {
    "Anotaci%C3%B3n%202020-06-23%20002845.png": {
     "image/png": "[encoded data removed]"
    }
   },
   "cell_type": "markdown",
   "metadata": {},
   "source": [
    "![Anotaci%C3%B3n%202020-06-23%20002845.png](attachment:Anotaci%C3%B3n%202020-06-23%20002845.png)"
   ]
  },
  {
   "cell_type": "markdown",
   "metadata": {},
   "source": [
    "Usando la fórmula de arriba obtenemos\n"
   ]
  },
  {
   "cell_type": "code",
   "execution_count": 41,
   "metadata": {},
   "outputs": [
    {
     "data": {
      "text/plain": [
       "1.3031854284107456"
      ]
     },
     "execution_count": 41,
     "metadata": {},
     "output_type": "execute_result"
    }
   ],
   "source": [
    "sp = (((n1-1)*s1_cuad + (n2-1)*s2_cuad) / (n1+n2-2))**.5\n",
    "h=((t*sp)*(((1)/(n1))+((1)/(n2)))**.5)\n",
    "h"
   ]
  },
  {
   "cell_type": "code",
   "execution_count": 43,
   "metadata": {},
   "outputs": [
    {
     "data": {
      "text/plain": [
       "0.6968145715892544"
      ]
     },
     "execution_count": 43,
     "metadata": {},
     "output_type": "execute_result"
    }
   ],
   "source": [
    "(x2-x1)-h"
   ]
  },
  {
   "cell_type": "code",
   "execution_count": 44,
   "metadata": {},
   "outputs": [
    {
     "data": {
      "text/plain": [
       "3.3031854284107456"
      ]
     },
     "execution_count": 44,
     "metadata": {},
     "output_type": "execute_result"
    }
   ],
   "source": [
    "(x2-x1)+h"
   ]
  },
  {
   "cell_type": "markdown",
   "metadata": {},
   "source": [
    "Con lo que obtenemos los intervalos $0.6968 < \\mu_1 -\\mu_2 < 3.3031$ "
   ]
  },
  {
   "cell_type": "markdown",
   "metadata": {},
   "source": [
    "# 9.44"
   ]
  },
  {
   "attachments": {
    "Anotaci%C3%B3n%202020-06-23%20005831.png": {
     "image/png": "[encoded data removed]"
    }
   },
   "cell_type": "markdown",
   "metadata": {},
   "source": [
    "![Anotaci%C3%B3n%202020-06-23%20005831.png](attachment:Anotaci%C3%B3n%202020-06-23%20005831.png)"
   ]
  },
  {
   "cell_type": "code",
   "execution_count": 67,
   "metadata": {},
   "outputs": [],
   "source": [
    "data=[34400-36700,\n",
    "    45500-46800,\n",
    "    36700-37700,\n",
    "    32000-31100,\n",
    "    48400-47800,\n",
    "    32800-36400,\n",
    "    38100-38900,\n",
    "    30100-31500]\n",
    "\n"
   ]
  },
  {
   "cell_type": "code",
   "execution_count": 68,
   "metadata": {},
   "outputs": [],
   "source": [
    "dist = statistics.NormalDist.from_samples(data)"
   ]
  },
  {
   "cell_type": "code",
   "execution_count": 69,
   "metadata": {},
   "outputs": [
    {
     "data": {
      "text/plain": [
       "3.4994832973505026"
      ]
     },
     "execution_count": 69,
     "metadata": {},
     "output_type": "execute_result"
    }
   ],
   "source": [
    "confidence = 99\n",
    "grados = 7\n",
    "t = stats.t.ppf(1- ((100-confidence)/2/100), grados) \n",
    "t"
   ]
  },
  {
   "cell_type": "code",
   "execution_count": 70,
   "metadata": {},
   "outputs": [
    {
     "data": {
      "text/plain": [
       "-1112.5"
      ]
     },
     "execution_count": 70,
     "metadata": {},
     "output_type": "execute_result"
    }
   ],
   "source": [
    "dist.mean"
   ]
  },
  {
   "cell_type": "code",
   "execution_count": 71,
   "metadata": {},
   "outputs": [
    {
     "data": {
      "text/plain": [
       "1454.4881279287617"
      ]
     },
     "execution_count": 71,
     "metadata": {},
     "output_type": "execute_result"
    }
   ],
   "source": [
    "dist.stdev"
   ]
  },
  {
   "cell_type": "code",
   "execution_count": 72,
   "metadata": {},
   "outputs": [
    {
     "data": {
      "text/plain": [
       "-2912.0715234621966"
      ]
     },
     "execution_count": 72,
     "metadata": {},
     "output_type": "execute_result"
    }
   ],
   "source": [
    "dist.mean - t*((dist.stdev)/(8)**.5)"
   ]
  },
  {
   "cell_type": "code",
   "execution_count": 73,
   "metadata": {},
   "outputs": [
    {
     "data": {
      "text/plain": [
       "687.0715234621969"
      ]
     },
     "execution_count": 73,
     "metadata": {},
     "output_type": "execute_result"
    }
   ],
   "source": [
    "dist.mean + t*((dist.stdev)/(8)**.5)"
   ]
  },
  {
   "cell_type": "markdown",
   "metadata": {},
   "source": [
    "$$-2912.0715234621966 <\\mu_D  < 687.0715234621969$$"
   ]
  },
  {
   "cell_type": "markdown",
   "metadata": {},
   "source": [
    "# 9.46"
   ]
  },
  {
   "cell_type": "markdown",
   "metadata": {},
   "source": [
    "Empresa Tiempo (minutos)\n",
    "I 103 94 110 87 98\n",
    "II 97 82 123 92 175 88 118"
   ]
  },
  {
   "cell_type": "code",
   "execution_count": 82,
   "metadata": {},
   "outputs": [
    {
     "name": "stdout",
     "output_type": "stream",
     "text": [
      "98.4\n",
      "8.734987120768983\n"
     ]
    }
   ],
   "source": [
    "dI = [103, 94, 110, 87 ,98]\n",
    "distI = statistics.NormalDist.from_samples(dI)\n",
    "print(distI.mean)\n",
    "print(distI.stdev)"
   ]
  },
  {
   "cell_type": "code",
   "execution_count": 85,
   "metadata": {},
   "outputs": [
    {
     "name": "stdout",
     "output_type": "stream",
     "text": [
      "110.71428571428571\n",
      "32.18547439303578\n"
     ]
    }
   ],
   "source": [
    "dII = [97, 82, 123, 92, 175, 88, 118]\n",
    "distII = statistics.NormalDist.from_samples(dII)\n",
    "print(distII.mean)\n",
    "print(distII.stdev)"
   ]
  },
  {
   "cell_type": "code",
   "execution_count": 84,
   "metadata": {},
   "outputs": [],
   "source": [
    "n1 = len(dI)\n",
    "n2 = len(dII)\n"
   ]
  },
  {
   "attachments": {
    "Anotaci%C3%B3n%202020-06-23%20011915.png": {
     "image/png": "[encoded data removed]"
    }
   },
   "cell_type": "markdown",
   "metadata": {},
   "source": [
    "![Anotaci%C3%B3n%202020-06-23%20011915.png](attachment:Anotaci%C3%B3n%202020-06-23%20011915.png)"
   ]
  },
  {
   "cell_type": "code",
   "execution_count": 89,
   "metadata": {},
   "outputs": [
    {
     "data": {
      "text/plain": [
       "7"
      ]
     },
     "execution_count": 89,
     "metadata": {},
     "output_type": "execute_result"
    }
   ],
   "source": [
    "v = (distI.stdev**2/n1+distII.stdev**2/n2)**2/(((distI.stdev**2/n1)**2)/(n1-1)+((distII.stdev**2/n2)**2)/(n2-1))\n",
    "round(v)"
   ]
  },
  {
   "cell_type": "code",
   "execution_count": 90,
   "metadata": {},
   "outputs": [
    {
     "data": {
      "text/plain": [
       "1.894578605061305"
      ]
     },
     "execution_count": 90,
     "metadata": {},
     "output_type": "execute_result"
    }
   ],
   "source": [
    "confidence = 90\n",
    "grados = 7\n",
    "t = stats.t.ppf(1- ((100-confidence)/2/100), grados) \n",
    "t"
   ]
  },
  {
   "cell_type": "code",
   "execution_count": 95,
   "metadata": {},
   "outputs": [
    {
     "data": {
      "text/plain": [
       "-11.89234962275555"
      ]
     },
     "execution_count": 95,
     "metadata": {},
     "output_type": "execute_result"
    }
   ],
   "source": [
    "distII.mean-distI.mean-t*((distI.stdev**2/n1)+(distII.stdev**2/n2))**.5"
   ]
  },
  {
   "cell_type": "code",
   "execution_count": 96,
   "metadata": {},
   "outputs": [
    {
     "data": {
      "text/plain": [
       "36.52092105132695"
      ]
     },
     "execution_count": 96,
     "metadata": {},
     "output_type": "execute_result"
    }
   ],
   "source": [
    "distII.mean-distI.mean+t*((distI.stdev**2/n1)+(distII.stdev**2/n2))**.5"
   ]
  },
  {
   "cell_type": "markdown",
   "metadata": {},
   "source": [
    "Por lo tanto tendremos que $$-11.89 < \\mu_A - \\mu_B < 36.52$$"
   ]
  },
  {
   "cell_type": "markdown",
   "metadata": {},
   "source": [
    "# 3.51\n",
    "\n",
    "En una muestra aleatoria de 1000 viviendas en\n",
    "cierta ciudad se encuentra que 228 utilizan petróleo\n",
    "como combustible para la calefacción. Calcule intervalos\n",
    "de coni anza del 99% para la proporción de viviendas\n",
    "en esta ciudad que utilizan petróleo con el i n\n",
    "mencionado. Utilice los dos métodos que se presentaron\n",
    "en la página 297."
   ]
  },
  {
   "cell_type": "code",
   "execution_count": 131,
   "metadata": {},
   "outputs": [
    {
     "name": "stdout",
     "output_type": "stream",
     "text": [
      "p 0.228 q 0.772 z 2.5758293035489\n"
     ]
    }
   ],
   "source": [
    "p = 228/1000\n",
    "q = 772/1000\n",
    "z = statistics.NormalDist().inv_cdf((1 + .99) / 2.0)\n",
    "n=1000\n",
    "print(\"p\",p,\"q\",q,\"z\",z)"
   ]
  },
  {
   "cell_type": "markdown",
   "metadata": {},
   "source": [
    "### Método 2"
   ]
  },
  {
   "cell_type": "code",
   "execution_count": 132,
   "metadata": {},
   "outputs": [
    {
     "data": {
      "text/plain": [
       "0.19568466582611407"
      ]
     },
     "execution_count": 132,
     "metadata": {},
     "output_type": "execute_result"
    }
   ],
   "source": [
    "( ((p )+(z**2 /(2*n) )) / ((1)+(z**2/n)) )-  ((z) / ((1)+(z**2/n)) ) * ( ((p*q/n)+(z**2/(4*n**2))) )**.5"
   ]
  },
  {
   "cell_type": "code",
   "execution_count": 133,
   "metadata": {},
   "outputs": [
    {
     "data": {
      "text/plain": [
       "0.26390092788133923"
      ]
     },
     "execution_count": 133,
     "metadata": {},
     "output_type": "execute_result"
    }
   ],
   "source": [
    "( ((p )+(z**2 /(2*n) )) / ((1)+(z**2/n)) )+  ((z) / ((1)+(z**2/n)) ) * ( ((p*q/n)+(z**2/(4*n**2))) )**.5"
   ]
  },
  {
   "cell_type": "markdown",
   "metadata": {},
   "source": [
    "### Método 1"
   ]
  },
  {
   "cell_type": "code",
   "execution_count": 134,
   "metadata": {},
   "outputs": [
    {
     "data": {
      "text/plain": [
       "0.1938262094562902"
      ]
     },
     "execution_count": 134,
     "metadata": {},
     "output_type": "execute_result"
    }
   ],
   "source": [
    "p-z*((p*q/n)**.5)"
   ]
  },
  {
   "cell_type": "code",
   "execution_count": 135,
   "metadata": {},
   "outputs": [
    {
     "data": {
      "text/plain": [
       "0.2621737905437098"
      ]
     },
     "execution_count": 135,
     "metadata": {},
     "output_type": "execute_result"
    }
   ],
   "source": [
    "p+z*((p*q/n)**.5)"
   ]
  },
  {
   "cell_type": "markdown",
   "metadata": {},
   "source": [
    "## Por lo tanto  \n",
    "\n",
    "$$ 0.1938<p<0.2621$$"
   ]
  },
  {
   "cell_type": "markdown",
   "metadata": {},
   "source": [
    "# 9.54\n",
    "\n",
    "Un fabricante de reproductores de MP3 utiliza\n",
    "un conjunto de pruebas exhaustivas para evaluar el funcionamiento\n",
    "eléctrico de su producto. Todos los reproductores\n",
    "de MP3 deben pasar todas las pruebas antes\n",
    "de ser puestos a la venta. De una muestra aleatoria de\n",
    "500 reproductores, 15 no pasan una o más de las pruebas.\n",
    "Calcule un intervalo de coni anza del 90% para la\n",
    "proporción de los reproductores de MP3 de la población\n",
    "que pasan todas las pruebas."
   ]
  },
  {
   "cell_type": "code",
   "execution_count": 136,
   "metadata": {},
   "outputs": [],
   "source": [
    "n = 500\n",
    "p = 485/500\n",
    "q = 15/500\n",
    "z = statistics.NormalDist().inv_cdf((1 + .90) / 2.0)\n",
    "\n"
   ]
  },
  {
   "cell_type": "code",
   "execution_count": 137,
   "metadata": {},
   "outputs": [
    {
     "data": {
      "text/plain": [
       "0.9574515885854681"
      ]
     },
     "execution_count": 137,
     "metadata": {},
     "output_type": "execute_result"
    }
   ],
   "source": [
    "p-z*((p*q/n)**.5)"
   ]
  },
  {
   "cell_type": "code",
   "execution_count": 138,
   "metadata": {},
   "outputs": [
    {
     "data": {
      "text/plain": [
       "0.9825484114145319"
      ]
     },
     "execution_count": 138,
     "metadata": {},
     "output_type": "execute_result"
    }
   ],
   "source": [
    "p+z*((p*q/n)**.5)"
   ]
  },
  {
   "cell_type": "markdown",
   "metadata": {},
   "source": [
    "Por lo tanto tendremos que $$0.9574 < p < 0.9825$$\n"
   ]
  },
  {
   "cell_type": "markdown",
   "metadata": {},
   "source": [
    "# 9.58\n",
    "\n",
    "En el artículo del periódico al que se hace referencia\n",
    "en el ejercicio 9.57, 32% de los 1600 adultos\n",
    "encuestados dijo que el programa espacial estadounidense\n",
    "debería enfatizar la exploración cientíi ca. ¿Qué\n",
    "tamaño debería tener una muestra de adultos para la\n",
    "encuesta si se desea tener un 95% de coni anza en que\n",
    "el porcentaje estimado esté dentro del 2% del porcentaje\n",
    "verdadero?"
   ]
  },
  {
   "cell_type": "markdown",
   "metadata": {},
   "source": [
    "$$n = \\frac{z_{\\alpha/2}^2 \\hat p \\hat q}{e^2} $$"
   ]
  },
  {
   "cell_type": "code",
   "execution_count": 146,
   "metadata": {},
   "outputs": [
    {
     "name": "stdout",
     "output_type": "stream",
     "text": [
      "1.9599639845400536 0.32 0.6799999999999999 0.02\n"
     ]
    }
   ],
   "source": [
    "z = statistics.NormalDist().inv_cdf((1 + .95) / 2.0)\n",
    "p = .32\n",
    "q = 1-.32\n",
    "e = 0.02\n",
    "print(z,p,q,e)"
   ]
  },
  {
   "cell_type": "code",
   "execution_count": 147,
   "metadata": {},
   "outputs": [
    {
     "data": {
      "text/plain": [
       "2089.753598457603"
      ]
     },
     "execution_count": 147,
     "metadata": {},
     "output_type": "execute_result"
    }
   ],
   "source": [
    "((z**2)*p*q)/(e**2)"
   ]
  },
  {
   "cell_type": "markdown",
   "metadata": {},
   "source": [
    "## 2090 al redondear"
   ]
  },
  {
   "cell_type": "markdown",
   "metadata": {},
   "source": [
    "# 9.70 "
   ]
  },
  {
   "cell_type": "code",
   "execution_count": 150,
   "metadata": {},
   "outputs": [
    {
     "name": "stdout",
     "output_type": "stream",
     "text": [
      "6.74 7.24\n"
     ]
    }
   ],
   "source": [
    "n = 20\n",
    "print(n*.337,n*.362)"
   ]
  },
  {
   "cell_type": "markdown",
   "metadata": {},
   "source": [
    "Aproximadamente 7 mujeres"
   ]
  },
  {
   "attachments": {
    "Anotaci%C3%B3n%202020-06-23%20024631.png": {
     "image/png": "[encoded data removed]"
    }
   },
   "cell_type": "markdown",
   "metadata": {},
   "source": [
    "![Anotaci%C3%B3n%202020-06-23%20024631.png](attachment:Anotaci%C3%B3n%202020-06-23%20024631.png)"
   ]
  },
  {
   "cell_type": "code",
   "execution_count": 157,
   "metadata": {},
   "outputs": [],
   "source": [
    "p1 = .337\n",
    "q1 = 1 - p1\n",
    "p2 = .362\n",
    "q2 = 1 - p2\n",
    "n1 = 20\n",
    "n2 = 20\n",
    "z = statistics.NormalDist().inv_cdf((1 + .95) / 2.0)"
   ]
  },
  {
   "cell_type": "code",
   "execution_count": 159,
   "metadata": {},
   "outputs": [
    {
     "data": {
      "text/plain": [
       "-0.32042418224975594"
      ]
     },
     "execution_count": 159,
     "metadata": {},
     "output_type": "execute_result"
    }
   ],
   "source": [
    "(p1 - p2) - z*((p1*q1)/(n1)+(p2*q2)/(n2))**.5"
   ]
  },
  {
   "cell_type": "code",
   "execution_count": 162,
   "metadata": {},
   "outputs": [
    {
     "data": {
      "text/plain": [
       "0.270424182249756"
      ]
     },
     "execution_count": 162,
     "metadata": {},
     "output_type": "execute_result"
    }
   ],
   "source": [
    "(p1 - p2) + z*((p1*q1)/(n1)+(p2*q2)/(n2))**.5"
   ]
  },
  {
   "cell_type": "markdown",
   "metadata": {},
   "source": [
    "Como el intervalo contiene al cero, no hay evidencia de un cambio en la proporcion"
   ]
  },
  {
   "cell_type": "code",
   "execution_count": null,
   "metadata": {},
   "outputs": [],
   "source": []
  }
 ],
 "metadata": {
  "kernelspec": {
   "display_name": "Python 3",
   "language": "python",
   "name": "python3"
  },
  "language_info": {
   "codemirror_mode": {
    "name": "ipython",
    "version": 3
   },
   "file_extension": ".py",
   "mimetype": "text/x-python",
   "name": "python",
   "nbconvert_exporter": "python",
   "pygments_lexer": "ipython3",
   "version": "3.8.3"
  }
 },
 "nbformat": 4,
 "nbformat_minor": 4
}
