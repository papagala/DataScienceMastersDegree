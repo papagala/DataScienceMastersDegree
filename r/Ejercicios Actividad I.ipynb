{
 "cells": [
  {
   "cell_type": "markdown",
   "metadata": {},
   "source": [
    "## 1. Introduzca en R la siguiente matriz $A$ 4×3 usando:"
   ]
  },
  {
   "cell_type": "code",
   "execution_count": 1,
   "metadata": {},
   "outputs": [
    {
     "data": {
      "text/html": [
       "<table>\n",
       "<caption>A matrix: 4 × 3 of type dbl</caption>\n",
       "<tbody>\n",
       "\t<tr><td> 1</td><td> 2</td><td> 3</td></tr>\n",
       "\t<tr><td> 4</td><td> 5</td><td> 6</td></tr>\n",
       "\t<tr><td> 7</td><td> 8</td><td> 9</td></tr>\n",
       "\t<tr><td>10</td><td>11</td><td>12</td></tr>\n",
       "</tbody>\n",
       "</table>\n"
      ],
      "text/latex": [
       "A matrix: 4 × 3 of type dbl\n",
       "\\begin{tabular}{lll}\n",
       "\t  1 &  2 &  3\\\\\n",
       "\t  4 &  5 &  6\\\\\n",
       "\t  7 &  8 &  9\\\\\n",
       "\t 10 & 11 & 12\\\\\n",
       "\\end{tabular}\n"
      ],
      "text/markdown": [
       "\n",
       "A matrix: 4 × 3 of type dbl\n",
       "\n",
       "|  1 |  2 |  3 |\n",
       "|  4 |  5 |  6 |\n",
       "|  7 |  8 |  9 |\n",
       "| 10 | 11 | 12 |\n",
       "\n"
      ],
      "text/plain": [
       "     [,1] [,2] [,3]\n",
       "[1,]  1    2    3  \n",
       "[2,]  4    5    6  \n",
       "[3,]  7    8    9  \n",
       "[4,] 10   11   12  "
      ]
     },
     "metadata": {},
     "output_type": "display_data"
    }
   ],
   "source": [
    "A = matrix(c(1,2,3,4,5,6,7,8,9,10,11,12), nrow=4,\"byrow\"=\"true\")\n",
    "A"
   ]
  },
  {
   "cell_type": "markdown",
   "metadata": {},
   "source": [
    "Luego, acceda a los algunos elementos de la matriz de la siguiente manera: A[1,1:3], A[1:4,2],\n",
    "A[3,3], A[11], A[20], A[5,4], A[1,1,1] y explique qué pasa en cada caso."
   ]
  },
  {
   "cell_type": "markdown",
   "metadata": {},
   "source": [
    "1. En este caso obtenemos el renglón 1, y las columnas de la uno a la 3"
   ]
  },
  {
   "cell_type": "code",
   "execution_count": 2,
   "metadata": {},
   "outputs": [
    {
     "data": {
      "text/html": [
       "<style>\n",
       ".list-inline {list-style: none; margin:0; padding: 0}\n",
       ".list-inline>li {display: inline-block}\n",
       ".list-inline>li:not(:last-child)::after {content: \"\\00b7\"; padding: 0 .5ex}\n",
       "</style>\n",
       "<ol class=list-inline><li>1</li><li>2</li><li>3</li></ol>\n"
      ],
      "text/latex": [
       "\\begin{enumerate*}\n",
       "\\item 1\n",
       "\\item 2\n",
       "\\item 3\n",
       "\\end{enumerate*}\n"
      ],
      "text/markdown": [
       "1. 1\n",
       "2. 2\n",
       "3. 3\n",
       "\n",
       "\n"
      ],
      "text/plain": [
       "[1] 1 2 3"
      ]
     },
     "metadata": {},
     "output_type": "display_data"
    }
   ],
   "source": [
    "A[1,1:3]"
   ]
  },
  {
   "cell_type": "markdown",
   "metadata": {},
   "source": [
    "2. Aquí tenemos del renglón 1 al 4, de la columna 2 "
   ]
  },
  {
   "cell_type": "code",
   "execution_count": 3,
   "metadata": {},
   "outputs": [
    {
     "data": {
      "text/html": [
       "<style>\n",
       ".list-inline {list-style: none; margin:0; padding: 0}\n",
       ".list-inline>li {display: inline-block}\n",
       ".list-inline>li:not(:last-child)::after {content: \"\\00b7\"; padding: 0 .5ex}\n",
       "</style>\n",
       "<ol class=list-inline><li>2</li><li>5</li><li>8</li><li>11</li></ol>\n"
      ],
      "text/latex": [
       "\\begin{enumerate*}\n",
       "\\item 2\n",
       "\\item 5\n",
       "\\item 8\n",
       "\\item 11\n",
       "\\end{enumerate*}\n"
      ],
      "text/markdown": [
       "1. 2\n",
       "2. 5\n",
       "3. 8\n",
       "4. 11\n",
       "\n",
       "\n"
      ],
      "text/plain": [
       "[1]  2  5  8 11"
      ]
     },
     "metadata": {},
     "output_type": "display_data"
    }
   ],
   "source": [
    "A[1:4,2]"
   ]
  },
  {
   "cell_type": "markdown",
   "metadata": {},
   "source": [
    "3. Aquí el elemento del renglón 3, columna 3"
   ]
  },
  {
   "cell_type": "code",
   "execution_count": 4,
   "metadata": {},
   "outputs": [
    {
     "data": {
      "text/html": [
       "9"
      ],
      "text/latex": [
       "9"
      ],
      "text/markdown": [
       "9"
      ],
      "text/plain": [
       "[1] 9"
      ]
     },
     "metadata": {},
     "output_type": "display_data"
    }
   ],
   "source": [
    "A[3,3]"
   ]
  },
  {
   "cell_type": "markdown",
   "metadata": {},
   "source": [
    "3. Al utilizar solamente un índice, obtenemos el onceavo elemento leyendo por columnas tal somo se muestra a continuación\n",
    "\n",
    "$$\\begin{bmatrix}\n",
    "a_1 & a_5 & a_9\\\\\n",
    "a_2 & a_6 & a_{10}\\\\ \n",
    "a_3 & a_7 & a_{11}\\\\\n",
    "a_4 & a_8 & a_{12}\n",
    " \\end{bmatrix} = \\begin{bmatrix}\n",
    "1 & 2 & 3\\\\\n",
    "4 & 5 & 6\\\\ \n",
    "7 & 8 & {\\boldsymbol 9}\\\\\n",
    "10 & 11 & 12\n",
    " \\end{bmatrix}$$"
   ]
  },
  {
   "cell_type": "code",
   "execution_count": 5,
   "metadata": {},
   "outputs": [
    {
     "data": {
      "text/html": [
       "9"
      ],
      "text/latex": [
       "9"
      ],
      "text/markdown": [
       "9"
      ],
      "text/plain": [
       "[1] 9"
      ]
     },
     "metadata": {},
     "output_type": "display_data"
    }
   ],
   "source": [
    "A[11]"
   ]
  },
  {
   "cell_type": "markdown",
   "metadata": {},
   "source": [
    "4. En este caso, no existe un elemento correspondiente al 20vo elemento, por lo que regresa <NA>"
   ]
  },
  {
   "cell_type": "code",
   "execution_count": 6,
   "metadata": {},
   "outputs": [
    {
     "data": {
      "text/html": [
       "&lt;NA&gt;"
      ],
      "text/latex": [
       "<NA>"
      ],
      "text/markdown": [
       "&lt;NA&gt;"
      ],
      "text/plain": [
       "[1] NA"
      ]
     },
     "metadata": {},
     "output_type": "display_data"
    }
   ],
   "source": [
    "A[20]"
   ]
  },
  {
   "cell_type": "markdown",
   "metadata": {},
   "source": [
    "5. Recordando que nuetra matriz es de la forma, no existe fila 5 columna 4, por lo que obtenemos un error de \"out of bounds\"\n",
    "\n",
    "$$\\begin{bmatrix}\n",
    "1 & 2 & 3\\\\\n",
    "4 & 5 & 6\\\\ \n",
    "7 & 8 & {\\boldsymbol 9}\\\\\n",
    "10 & 11 & 12\n",
    " \\end{bmatrix}$$"
   ]
  },
  {
   "cell_type": "code",
   "execution_count": 7,
   "metadata": {},
   "outputs": [
    {
     "ename": "ERROR",
     "evalue": "Error in A[5, 4]: subscript out of bounds\n",
     "output_type": "error",
     "traceback": [
      "Error in A[5, 4]: subscript out of bounds\nTraceback:\n"
     ]
    }
   ],
   "source": [
    "A[5,4]"
   ]
  },
  {
   "cell_type": "markdown",
   "metadata": {},
   "source": [
    "En este caso nuestra matriz es de $4 \\times 3$. Necesitariamos una matrix de 3 dimensiones $n \\times m \\times p$ con ${n,m,p} \\in \\mathbb{Z}{+}$"
   ]
  },
  {
   "cell_type": "code",
   "execution_count": 8,
   "metadata": {},
   "outputs": [
    {
     "ename": "ERROR",
     "evalue": "Error in A[1, 1, 1]: incorrect number of dimensions\n",
     "output_type": "error",
     "traceback": [
      "Error in A[1, 1, 1]: incorrect number of dimensions\nTraceback:\n"
     ]
    }
   ],
   "source": [
    "A[1,1,1] "
   ]
  },
  {
   "cell_type": "markdown",
   "metadata": {},
   "source": [
    "## 2. Investigue para qué sirven los comandos de R, as.matrix(...) y as.data.frame(...), explique y dé un ejemplo de cada uno."
   ]
  },
  {
   "cell_type": "markdown",
   "metadata": {},
   "source": [
    "Primero vermos as.data.frame"
   ]
  },
  {
   "cell_type": "code",
   "execution_count": 9,
   "metadata": {},
   "outputs": [
    {
     "data": {
      "text/html": [
       "<table>\n",
       "<caption>A matrix: 3 × 3 of type dbl</caption>\n",
       "<tbody>\n",
       "\t<tr><td>1</td><td>2</td><td>3</td></tr>\n",
       "\t<tr><td>4</td><td>5</td><td>6</td></tr>\n",
       "\t<tr><td>7</td><td>8</td><td>9</td></tr>\n",
       "</tbody>\n",
       "</table>\n"
      ],
      "text/latex": [
       "A matrix: 3 × 3 of type dbl\n",
       "\\begin{tabular}{lll}\n",
       "\t 1 & 2 & 3\\\\\n",
       "\t 4 & 5 & 6\\\\\n",
       "\t 7 & 8 & 9\\\\\n",
       "\\end{tabular}\n"
      ],
      "text/markdown": [
       "\n",
       "A matrix: 3 × 3 of type dbl\n",
       "\n",
       "| 1 | 2 | 3 |\n",
       "| 4 | 5 | 6 |\n",
       "| 7 | 8 | 9 |\n",
       "\n"
      ],
      "text/plain": [
       "     [,1] [,2] [,3]\n",
       "[1,] 1    2    3   \n",
       "[2,] 4    5    6   \n",
       "[3,] 7    8    9   "
      ]
     },
     "metadata": {},
     "output_type": "display_data"
    }
   ],
   "source": [
    "m1<-matrix(c(1,2,3,4,5,6,7,8,9),nrow=3, ncol=3, byrow = T)\n",
    "m1\n"
   ]
  },
  {
   "cell_type": "code",
   "execution_count": 10,
   "metadata": {},
   "outputs": [
    {
     "data": {
      "text/html": [
       "<table>\n",
       "<caption>A data.frame: 3 × 3</caption>\n",
       "<thead>\n",
       "\t<tr><th scope=col>V1</th><th scope=col>V2</th><th scope=col>V3</th></tr>\n",
       "\t<tr><th scope=col>&lt;dbl&gt;</th><th scope=col>&lt;dbl&gt;</th><th scope=col>&lt;dbl&gt;</th></tr>\n",
       "</thead>\n",
       "<tbody>\n",
       "\t<tr><td>1</td><td>2</td><td>3</td></tr>\n",
       "\t<tr><td>4</td><td>5</td><td>6</td></tr>\n",
       "\t<tr><td>7</td><td>8</td><td>9</td></tr>\n",
       "</tbody>\n",
       "</table>\n"
      ],
      "text/latex": [
       "A data.frame: 3 × 3\n",
       "\\begin{tabular}{lll}\n",
       " V1 & V2 & V3\\\\\n",
       " <dbl> & <dbl> & <dbl>\\\\\n",
       "\\hline\n",
       "\t 1 & 2 & 3\\\\\n",
       "\t 4 & 5 & 6\\\\\n",
       "\t 7 & 8 & 9\\\\\n",
       "\\end{tabular}\n"
      ],
      "text/markdown": [
       "\n",
       "A data.frame: 3 × 3\n",
       "\n",
       "| V1 &lt;dbl&gt; | V2 &lt;dbl&gt; | V3 &lt;dbl&gt; |\n",
       "|---|---|---|\n",
       "| 1 | 2 | 3 |\n",
       "| 4 | 5 | 6 |\n",
       "| 7 | 8 | 9 |\n",
       "\n"
      ],
      "text/plain": [
       "  V1 V2 V3\n",
       "1 1  2  3 \n",
       "2 4  5  6 \n",
       "3 7  8  9 "
      ]
     },
     "metadata": {},
     "output_type": "display_data"
    }
   ],
   "source": [
    "dataframe<-as.data.frame(m1)\n",
    "dataframe"
   ]
  },
  {
   "cell_type": "code",
   "execution_count": 11,
   "metadata": {},
   "outputs": [
    {
     "data": {
      "text/html": [
       "'data.frame'"
      ],
      "text/latex": [
       "'data.frame'"
      ],
      "text/markdown": [
       "'data.frame'"
      ],
      "text/plain": [
       "[1] \"data.frame\""
      ]
     },
     "metadata": {},
     "output_type": "display_data"
    }
   ],
   "source": [
    "class(dataframe)"
   ]
  },
  {
   "cell_type": "markdown",
   "metadata": {},
   "source": [
    "### Vemos que as.data.frame(m1) convierte la matriz m1 en un dataframe"
   ]
  },
  {
   "cell_type": "markdown",
   "metadata": {},
   "source": [
    "Ahora veremos que hace as.matrix"
   ]
  },
  {
   "cell_type": "code",
   "execution_count": 12,
   "metadata": {},
   "outputs": [
    {
     "data": {
      "text/html": [
       "<table>\n",
       "<caption>A matrix: 3 × 3 of type dbl</caption>\n",
       "<thead>\n",
       "\t<tr><th scope=col>V1</th><th scope=col>V2</th><th scope=col>V3</th></tr>\n",
       "</thead>\n",
       "<tbody>\n",
       "\t<tr><td>1</td><td>2</td><td>3</td></tr>\n",
       "\t<tr><td>4</td><td>5</td><td>6</td></tr>\n",
       "\t<tr><td>7</td><td>8</td><td>9</td></tr>\n",
       "</tbody>\n",
       "</table>\n"
      ],
      "text/latex": [
       "A matrix: 3 × 3 of type dbl\n",
       "\\begin{tabular}{lll}\n",
       " V1 & V2 & V3\\\\\n",
       "\\hline\n",
       "\t 1 & 2 & 3\\\\\n",
       "\t 4 & 5 & 6\\\\\n",
       "\t 7 & 8 & 9\\\\\n",
       "\\end{tabular}\n"
      ],
      "text/markdown": [
       "\n",
       "A matrix: 3 × 3 of type dbl\n",
       "\n",
       "| V1 | V2 | V3 |\n",
       "|---|---|---|\n",
       "| 1 | 2 | 3 |\n",
       "| 4 | 5 | 6 |\n",
       "| 7 | 8 | 9 |\n",
       "\n"
      ],
      "text/plain": [
       "     V1 V2 V3\n",
       "[1,] 1  2  3 \n",
       "[2,] 4  5  6 \n",
       "[3,] 7  8  9 "
      ]
     },
     "metadata": {},
     "output_type": "display_data"
    }
   ],
   "source": [
    "a_matrix <- as.matrix(dataframe)\n",
    "a_matrix"
   ]
  },
  {
   "cell_type": "code",
   "execution_count": 13,
   "metadata": {},
   "outputs": [
    {
     "data": {
      "text/html": [
       "'matrix'"
      ],
      "text/latex": [
       "'matrix'"
      ],
      "text/markdown": [
       "'matrix'"
      ],
      "text/plain": [
       "[1] \"matrix\""
      ]
     },
     "metadata": {},
     "output_type": "display_data"
    }
   ],
   "source": [
    "class(a_matrix)"
   ]
  },
  {
   "cell_type": "markdown",
   "metadata": {},
   "source": [
    "### Con esto podemos ver que as.matrix convierte un dataframe en una matrix"
   ]
  },
  {
   "cell_type": "markdown",
   "metadata": {},
   "source": [
    "## 3. Introduzca usando código R (no archivos) en un DataFrame la siguiente tabla de datos:"
   ]
  },
  {
   "cell_type": "code",
   "execution_count": 14,
   "metadata": {},
   "outputs": [
    {
     "data": {
      "text/html": [
       "<style>\n",
       ".list-inline {list-style: none; margin:0; padding: 0}\n",
       ".list-inline>li {display: inline-block}\n",
       ".list-inline>li:not(:last-child)::after {content: \"\\00b7\"; padding: 0 .5ex}\n",
       "</style>\n",
       "<ol class=list-inline><li>Lic</li><li>Bach</li><li>Bach</li><li>Bach</li><li>Dr</li><li>MSc</li></ol>\n",
       "\n",
       "<details>\n",
       "\t<summary style=display:list-item;cursor:pointer>\n",
       "\t\t<strong>Levels</strong>:\n",
       "\t</summary>\n",
       "\t<style>\n",
       "\t.list-inline {list-style: none; margin:0; padding: 0}\n",
       "\t.list-inline>li {display: inline-block}\n",
       "\t.list-inline>li:not(:last-child)::after {content: \"\\00b7\"; padding: 0 .5ex}\n",
       "\t</style>\n",
       "\t<ol class=list-inline><li>'Lic'</li><li>'Bach'</li><li>'Dr'</li><li>'MSc'</li></ol>\n",
       "</details>"
      ],
      "text/latex": [
       "\\begin{enumerate*}\n",
       "\\item Lic\n",
       "\\item Bach\n",
       "\\item Bach\n",
       "\\item Bach\n",
       "\\item Dr\n",
       "\\item MSc\n",
       "\\end{enumerate*}\n",
       "\n",
       "\\emph{Levels}: \\begin{enumerate*}\n",
       "\\item 'Lic'\n",
       "\\item 'Bach'\n",
       "\\item 'Dr'\n",
       "\\item 'MSc'\n",
       "\\end{enumerate*}\n"
      ],
      "text/markdown": [
       "1. Lic\n",
       "2. Bach\n",
       "3. Bach\n",
       "4. Bach\n",
       "5. Dr\n",
       "6. MSc\n",
       "\n",
       "\n",
       "\n",
       "**Levels**: 1. 'Lic'\n",
       "2. 'Bach'\n",
       "3. 'Dr'\n",
       "4. 'MSc'\n",
       "\n",
       "\n"
      ],
      "text/plain": [
       "[1] Lic  Bach Bach Bach Dr   MSc \n",
       "Levels: Lic Bach Dr MSc"
      ]
     },
     "metadata": {},
     "output_type": "display_data"
    }
   ],
   "source": [
    "# Vamos a definir la variable categórica nivel_educativo\n",
    "nivel_educativo<-factor(c(\"Lic\",\"Bach\",\"Bach\",\"Bach\",\"Dr\",\"MSc\"), levels=c(\"Lic\",\"Bach\",\"Dr\",\"MSc\"))\n",
    "nivel_educativo "
   ]
  },
  {
   "cell_type": "code",
   "execution_count": 15,
   "metadata": {},
   "outputs": [
    {
     "data": {
      "text/html": [
       "<table>\n",
       "<caption>A data.frame: 6 × 3</caption>\n",
       "<thead>\n",
       "\t<tr><th scope=col>Peso</th><th scope=col>Edad</th><th scope=col>Nivel.Educativo</th></tr>\n",
       "\t<tr><th scope=col>&lt;dbl&gt;</th><th scope=col>&lt;dbl&gt;</th><th scope=col>&lt;fct&gt;</th></tr>\n",
       "</thead>\n",
       "<tbody>\n",
       "\t<tr><td>76</td><td>25</td><td>Lic </td></tr>\n",
       "\t<tr><td>67</td><td>23</td><td>Bach</td></tr>\n",
       "\t<tr><td>55</td><td>19</td><td>Bach</td></tr>\n",
       "\t<tr><td>57</td><td>18</td><td>Bach</td></tr>\n",
       "\t<tr><td>87</td><td>57</td><td>Dr  </td></tr>\n",
       "\t<tr><td>48</td><td>13</td><td>MSc </td></tr>\n",
       "</tbody>\n",
       "</table>\n"
      ],
      "text/latex": [
       "A data.frame: 6 × 3\n",
       "\\begin{tabular}{lll}\n",
       " Peso & Edad & Nivel.Educativo\\\\\n",
       " <dbl> & <dbl> & <fct>\\\\\n",
       "\\hline\n",
       "\t 76 & 25 & Lic \\\\\n",
       "\t 67 & 23 & Bach\\\\\n",
       "\t 55 & 19 & Bach\\\\\n",
       "\t 57 & 18 & Bach\\\\\n",
       "\t 87 & 57 & Dr  \\\\\n",
       "\t 48 & 13 & MSc \\\\\n",
       "\\end{tabular}\n"
      ],
      "text/markdown": [
       "\n",
       "A data.frame: 6 × 3\n",
       "\n",
       "| Peso &lt;dbl&gt; | Edad &lt;dbl&gt; | Nivel.Educativo &lt;fct&gt; |\n",
       "|---|---|---|\n",
       "| 76 | 25 | Lic  |\n",
       "| 67 | 23 | Bach |\n",
       "| 55 | 19 | Bach |\n",
       "| 57 | 18 | Bach |\n",
       "| 87 | 57 | Dr   |\n",
       "| 48 | 13 | MSc  |\n",
       "\n"
      ],
      "text/plain": [
       "  Peso Edad Nivel.Educativo\n",
       "1 76   25   Lic            \n",
       "2 67   23   Bach           \n",
       "3 55   19   Bach           \n",
       "4 57   18   Bach           \n",
       "5 87   57   Dr             \n",
       "6 48   13   MSc            "
      ]
     },
     "metadata": {},
     "output_type": "display_data"
    }
   ],
   "source": [
    "## Se define la hoja de datos mediante:\n",
    "\n",
    "datos<-data.frame(Peso=c(76,67,55,57,87,48),Edad=c(25,23,19,18,57,13),\"Nivel Educativo\"=nivel_educativo)\n",
    "datos"
   ]
  },
  {
   "cell_type": "markdown",
   "metadata": {},
   "source": [
    "## 4. Cargue en un DataFrame el archivo “Ventas.csv” y haga lo siguiente:"
   ]
  },
  {
   "cell_type": "code",
   "execution_count": 16,
   "metadata": {},
   "outputs": [
    {
     "data": {
      "text/html": [
       "<table>\n",
       "<caption>A data.frame: 6 × 6</caption>\n",
       "<thead>\n",
       "\t<tr><th></th><th scope=col>Mes</th><th scope=col>NumeroTienda</th><th scope=col>Zona</th><th scope=col>ImporteVenta</th><th scope=col>Pago</th><th scope=col>Edad</th></tr>\n",
       "\t<tr><th></th><th scope=col>&lt;fct&gt;</th><th scope=col>&lt;fct&gt;</th><th scope=col>&lt;fct&gt;</th><th scope=col>&lt;dbl&gt;</th><th scope=col>&lt;fct&gt;</th><th scope=col>&lt;int&gt;</th></tr>\n",
       "</thead>\n",
       "<tbody>\n",
       "\t<tr><th scope=row>1</th><td>AGOSTO   </td><td>2</td><td>Centro</td><td>515.75</td><td>Aplazado</td><td>57</td></tr>\n",
       "\t<tr><th scope=row>2</th><td>ENERO    </td><td>5</td><td>Sur   </td><td>549.47</td><td>Contado </td><td>29</td></tr>\n",
       "\t<tr><th scope=row>3</th><td>AGOSTO   </td><td>4</td><td>Centro</td><td>544.78</td><td>Contado </td><td>41</td></tr>\n",
       "\t<tr><th scope=row>4</th><td>MARZO    </td><td>6</td><td>Sur   </td><td>522.36</td><td>Aplazado</td><td>63</td></tr>\n",
       "\t<tr><th scope=row>5</th><td>DICIEMBRE</td><td>2</td><td>Centro</td><td>532.33</td><td>Contado </td><td>44</td></tr>\n",
       "\t<tr><th scope=row>6</th><td>FEBRERO  </td><td>2</td><td>Centro</td><td>524.87</td><td>Contado </td><td>34</td></tr>\n",
       "</tbody>\n",
       "</table>\n"
      ],
      "text/latex": [
       "A data.frame: 6 × 6\n",
       "\\begin{tabular}{r|llllll}\n",
       "  & Mes & NumeroTienda & Zona & ImporteVenta & Pago & Edad\\\\\n",
       "  & <fct> & <fct> & <fct> & <dbl> & <fct> & <int>\\\\\n",
       "\\hline\n",
       "\t1 & AGOSTO    & 2 & Centro & 515.75 & Aplazado & 57\\\\\n",
       "\t2 & ENERO     & 5 & Sur    & 549.47 & Contado  & 29\\\\\n",
       "\t3 & AGOSTO    & 4 & Centro & 544.78 & Contado  & 41\\\\\n",
       "\t4 & MARZO     & 6 & Sur    & 522.36 & Aplazado & 63\\\\\n",
       "\t5 & DICIEMBRE & 2 & Centro & 532.33 & Contado  & 44\\\\\n",
       "\t6 & FEBRERO   & 2 & Centro & 524.87 & Contado  & 34\\\\\n",
       "\\end{tabular}\n"
      ],
      "text/markdown": [
       "\n",
       "A data.frame: 6 × 6\n",
       "\n",
       "| <!--/--> | Mes &lt;fct&gt; | NumeroTienda &lt;fct&gt; | Zona &lt;fct&gt; | ImporteVenta &lt;dbl&gt; | Pago &lt;fct&gt; | Edad &lt;int&gt; |\n",
       "|---|---|---|---|---|---|---|\n",
       "| 1 | AGOSTO    | 2 | Centro | 515.75 | Aplazado | 57 |\n",
       "| 2 | ENERO     | 5 | Sur    | 549.47 | Contado  | 29 |\n",
       "| 3 | AGOSTO    | 4 | Centro | 544.78 | Contado  | 41 |\n",
       "| 4 | MARZO     | 6 | Sur    | 522.36 | Aplazado | 63 |\n",
       "| 5 | DICIEMBRE | 2 | Centro | 532.33 | Contado  | 44 |\n",
       "| 6 | FEBRERO   | 2 | Centro | 524.87 | Contado  | 34 |\n",
       "\n"
      ],
      "text/plain": [
       "  Mes       NumeroTienda Zona   ImporteVenta Pago     Edad\n",
       "1 AGOSTO    2            Centro 515.75       Aplazado 57  \n",
       "2 ENERO     5            Sur    549.47       Contado  29  \n",
       "3 AGOSTO    4            Centro 544.78       Contado  41  \n",
       "4 MARZO     6            Sur    522.36       Aplazado 63  \n",
       "5 DICIEMBRE 2            Centro 532.33       Contado  44  \n",
       "6 FEBRERO   2            Centro 524.87       Contado  34  "
      ]
     },
     "metadata": {},
     "output_type": "display_data"
    }
   ],
   "source": [
    "## Vamos a establecer el directorio\n",
    "setwd(\"/home/jovyan/work/tratamiento\")\n",
    "\n",
    "## Luego para poner la Tabla de datos Ventas.csv en un \"DataFrame\" se usa función read.table\n",
    "Datos<-read.table(\"Ventas.csv\",header=TRUE, sep=\",\",dec=\".\",colClasses = c(\"NumeroTienda\"=\"factor\"))\n",
    "head(Datos)"
   ]
  },
  {
   "cell_type": "markdown",
   "metadata": {},
   "source": [
    "o Calcule la dimensión de la tabla de datos ( R= $102 \\times 6$ )"
   ]
  },
  {
   "cell_type": "code",
   "execution_count": 17,
   "metadata": {},
   "outputs": [
    {
     "data": {
      "text/html": [
       "<style>\n",
       ".list-inline {list-style: none; margin:0; padding: 0}\n",
       ".list-inline>li {display: inline-block}\n",
       ".list-inline>li:not(:last-child)::after {content: \"\\00b7\"; padding: 0 .5ex}\n",
       "</style>\n",
       "<ol class=list-inline><li>102</li><li>6</li></ol>\n"
      ],
      "text/latex": [
       "\\begin{enumerate*}\n",
       "\\item 102\n",
       "\\item 6\n",
       "\\end{enumerate*}\n"
      ],
      "text/markdown": [
       "1. 102\n",
       "2. 6\n",
       "\n",
       "\n"
      ],
      "text/plain": [
       "[1] 102   6"
      ]
     },
     "metadata": {},
     "output_type": "display_data"
    }
   ],
   "source": [
    "dim(Datos)"
   ]
  },
  {
   "cell_type": "markdown",
   "metadata": {},
   "source": [
    "o Despliegue las primeras 2 columnas de la tabla de datos. Usaremos head() para solo desplegar las primeras 6 filas"
   ]
  },
  {
   "cell_type": "code",
   "execution_count": 18,
   "metadata": {},
   "outputs": [
    {
     "data": {
      "text/html": [
       "<table>\n",
       "<caption>A data.frame: 6 × 2</caption>\n",
       "<thead>\n",
       "\t<tr><th></th><th scope=col>Mes</th><th scope=col>NumeroTienda</th></tr>\n",
       "\t<tr><th></th><th scope=col>&lt;fct&gt;</th><th scope=col>&lt;fct&gt;</th></tr>\n",
       "</thead>\n",
       "<tbody>\n",
       "\t<tr><th scope=row>1</th><td>AGOSTO   </td><td>2</td></tr>\n",
       "\t<tr><th scope=row>2</th><td>ENERO    </td><td>5</td></tr>\n",
       "\t<tr><th scope=row>3</th><td>AGOSTO   </td><td>4</td></tr>\n",
       "\t<tr><th scope=row>4</th><td>MARZO    </td><td>6</td></tr>\n",
       "\t<tr><th scope=row>5</th><td>DICIEMBRE</td><td>2</td></tr>\n",
       "\t<tr><th scope=row>6</th><td>FEBRERO  </td><td>2</td></tr>\n",
       "</tbody>\n",
       "</table>\n"
      ],
      "text/latex": [
       "A data.frame: 6 × 2\n",
       "\\begin{tabular}{r|ll}\n",
       "  & Mes & NumeroTienda\\\\\n",
       "  & <fct> & <fct>\\\\\n",
       "\\hline\n",
       "\t1 & AGOSTO    & 2\\\\\n",
       "\t2 & ENERO     & 5\\\\\n",
       "\t3 & AGOSTO    & 4\\\\\n",
       "\t4 & MARZO     & 6\\\\\n",
       "\t5 & DICIEMBRE & 2\\\\\n",
       "\t6 & FEBRERO   & 2\\\\\n",
       "\\end{tabular}\n"
      ],
      "text/markdown": [
       "\n",
       "A data.frame: 6 × 2\n",
       "\n",
       "| <!--/--> | Mes &lt;fct&gt; | NumeroTienda &lt;fct&gt; |\n",
       "|---|---|---|\n",
       "| 1 | AGOSTO    | 2 |\n",
       "| 2 | ENERO     | 5 |\n",
       "| 3 | AGOSTO    | 4 |\n",
       "| 4 | MARZO     | 6 |\n",
       "| 5 | DICIEMBRE | 2 |\n",
       "| 6 | FEBRERO   | 2 |\n",
       "\n"
      ],
      "text/plain": [
       "  Mes       NumeroTienda\n",
       "1 AGOSTO    2           \n",
       "2 ENERO     5           \n",
       "3 AGOSTO    4           \n",
       "4 MARZO     6           \n",
       "5 DICIEMBRE 2           \n",
       "6 FEBRERO   2           "
      ]
     },
     "metadata": {},
     "output_type": "display_data"
    }
   ],
   "source": [
    "head(Datos[,1:2])"
   ]
  },
  {
   "cell_type": "markdown",
   "metadata": {},
   "source": [
    "o Ejecute un “summary” y un “str” de los datos."
   ]
  },
  {
   "cell_type": "code",
   "execution_count": 19,
   "metadata": {},
   "outputs": [
    {
     "name": "stdout",
     "output_type": "stream",
     "text": [
      "'data.frame':\t102 obs. of  6 variables:\n",
      " $ Mes         : Factor w/ 12 levels \"ABRIL\",\"AGOSTO\",..: 2 4 2 8 3 5 1 8 4 12 ...\n",
      " $ NumeroTienda: Factor w/ 9 levels \"1\",\"2\",\"3\",\"4\",..: 2 5 4 6 2 2 7 5 3 7 ...\n",
      " $ Zona        : Factor w/ 3 levels \"Centro\",\"Norte\",..: 1 3 1 3 1 1 2 3 1 2 ...\n",
      " $ ImporteVenta: num  516 549 545 522 532 ...\n",
      " $ Pago        : Factor w/ 2 levels \"Aplazado\",\"Contado\": 1 2 2 1 2 2 2 2 2 1 ...\n",
      " $ Edad        : int  57 29 41 63 44 34 50 45 21 43 ...\n"
     ]
    }
   ],
   "source": [
    "str(Datos)"
   ]
  },
  {
   "cell_type": "code",
   "execution_count": 20,
   "metadata": {},
   "outputs": [
    {
     "data": {
      "text/plain": [
       "         Mes      NumeroTienda     Zona     ImporteVenta         Pago   \n",
       " DICIEMBRE :14   5      :16    Centro:38   Min.   :500.6   Aplazado:32  \n",
       " JUNIO     :10   6      :15    Norte :33   1st Qu.:513.8   Contado :70  \n",
       " MARZO     :10   3      :14    Sur   :31   Median :523.1                \n",
       " SEPTIEMBRE:10   7      :13                Mean   :525.5                \n",
       " MAYO      : 9   9      :11                3rd Qu.:541.1                \n",
       " AGOSTO    : 8   2      : 9                Max.   :555.9                \n",
       " (Other)   :41   (Other):24                                             \n",
       "      Edad      \n",
       " Min.   :21.00  \n",
       " 1st Qu.:30.00  \n",
       " Median :39.00  \n",
       " Mean   :38.74  \n",
       " 3rd Qu.:45.00  \n",
       " Max.   :65.00  \n",
       "                "
      ]
     },
     "metadata": {},
     "output_type": "display_data"
    }
   ],
   "source": [
    "summary<-summary(Datos)\n",
    "summary"
   ]
  },
  {
   "cell_type": "markdown",
   "metadata": {},
   "source": [
    "### Las únicas columnas de las que tiene sentido obtener Media y Desviación Estandar (no categóricas), son ImporteVenta y Edad"
   ]
  },
  {
   "cell_type": "markdown",
   "metadata": {},
   "source": [
    "La media ya la tenemos gracias a summary\n",
    "\n",
    "- ImporteVenta = 525.5\n",
    "- Edad = 38.74"
   ]
  },
  {
   "cell_type": "markdown",
   "metadata": {},
   "source": [
    "La desviación estándard la calcularemos haciendo uso de la función $\\texttt{sd()}$, obteniendo:\n",
    "\n",
    "- ImporteVenta = 15.75\n",
    "- Edad = 10.75"
   ]
  },
  {
   "cell_type": "code",
   "execution_count": 21,
   "metadata": {},
   "outputs": [
    {
     "data": {
      "text/html": [
       "15.7583137841504"
      ],
      "text/latex": [
       "15.7583137841504"
      ],
      "text/markdown": [
       "15.7583137841504"
      ],
      "text/plain": [
       "[1] 15.75831"
      ]
     },
     "metadata": {},
     "output_type": "display_data"
    }
   ],
   "source": [
    "sd(Datos$ImporteVenta)"
   ]
  },
  {
   "cell_type": "code",
   "execution_count": 22,
   "metadata": {},
   "outputs": [
    {
     "data": {
      "text/html": [
       "10.7573842661342"
      ],
      "text/latex": [
       "10.7573842661342"
      ],
      "text/markdown": [
       "10.7573842661342"
      ],
      "text/plain": [
       "[1] 10.75738"
      ]
     },
     "metadata": {},
     "output_type": "display_data"
    }
   ],
   "source": [
    "sd(Datos$Edad)"
   ]
  },
  {
   "cell_type": "markdown",
   "metadata": {},
   "source": [
    "### Calculando \" a mano \" la media"
   ]
  },
  {
   "cell_type": "code",
   "execution_count": 23,
   "metadata": {},
   "outputs": [
    {
     "data": {
      "text/html": [
       "525.452647058823"
      ],
      "text/latex": [
       "525.452647058823"
      ],
      "text/markdown": [
       "525.452647058823"
      ],
      "text/plain": [
       "[1] 525.4526"
      ]
     },
     "metadata": {},
     "output_type": "display_data"
    }
   ],
   "source": [
    "media_importe_venta<-sum(Datos$ImporteVenta)/length(Datos$ImporteVenta)\n",
    "media_importe_venta"
   ]
  },
  {
   "cell_type": "code",
   "execution_count": 24,
   "metadata": {},
   "outputs": [
    {
     "data": {
      "text/html": [
       "38.7352941176471"
      ],
      "text/latex": [
       "38.7352941176471"
      ],
      "text/markdown": [
       "38.7352941176471"
      ],
      "text/plain": [
       "[1] 38.73529"
      ]
     },
     "metadata": {},
     "output_type": "display_data"
    }
   ],
   "source": [
    "media_edad<-sum(Datos$Edad)/length(Datos$Edad)\n",
    "media_edad"
   ]
  },
  {
   "cell_type": "markdown",
   "metadata": {},
   "source": [
    "### Calculando \" a mano \" la desviación estandard"
   ]
  },
  {
   "cell_type": "markdown",
   "metadata": {},
   "source": [
    "$$\\sigma = \\sqrt{\\frac{\\sum(x_i-\\mu)^2}{N-1}}$$"
   ]
  },
  {
   "cell_type": "code",
   "execution_count": 25,
   "metadata": {},
   "outputs": [
    {
     "data": {
      "text/html": [
       "15.7583137841504"
      ],
      "text/latex": [
       "15.7583137841504"
      ],
      "text/markdown": [
       "15.7583137841504"
      ],
      "text/plain": [
       "[1] 15.75831"
      ]
     },
     "metadata": {},
     "output_type": "display_data"
    }
   ],
   "source": [
    "sqrt(sum((Datos$ImporteVenta - media_importe_venta)^2)/(length(Datos$ImporteVenta)-1))"
   ]
  },
  {
   "cell_type": "code",
   "execution_count": 26,
   "metadata": {},
   "outputs": [
    {
     "data": {
      "text/html": [
       "10.7573842661342"
      ],
      "text/latex": [
       "10.7573842661342"
      ],
      "text/markdown": [
       "10.7573842661342"
      ],
      "text/plain": [
       "[1] 10.75738"
      ]
     },
     "metadata": {},
     "output_type": "display_data"
    }
   ],
   "source": [
    "sqrt(sum((Datos$Edad - media_edad)^2)/(length(Datos$Edad)-1))"
   ]
  },
  {
   "cell_type": "markdown",
   "metadata": {},
   "source": [
    "## Calcule la suma de la columna ImporteVenta."
   ]
  },
  {
   "cell_type": "code",
   "execution_count": 27,
   "metadata": {},
   "outputs": [
    {
     "data": {
      "text/html": [
       "53596.17"
      ],
      "text/latex": [
       "53596.17"
      ],
      "text/markdown": [
       "53596.17"
      ],
      "text/plain": [
       "[1] 53596.17"
      ]
     },
     "metadata": {},
     "output_type": "display_data"
    }
   ],
   "source": [
    "sum(Datos$ImporteVenta)"
   ]
  },
  {
   "cell_type": "markdown",
   "metadata": {},
   "source": [
    "## Calcule en R para todas las columnas de tipo cuantitativo en el archivo: El mínimo, el máximo, la media, la mediana."
   ]
  },
  {
   "cell_type": "markdown",
   "metadata": {},
   "source": [
    "### Haciendo uso de las funciones integradas $\\texttt{min()}$,  $\\texttt{max()}$ y $\\texttt{median()}$"
   ]
  },
  {
   "cell_type": "code",
   "execution_count": 28,
   "metadata": {},
   "outputs": [
    {
     "data": {
      "text/html": [
       "500.59"
      ],
      "text/latex": [
       "500.59"
      ],
      "text/markdown": [
       "500.59"
      ],
      "text/plain": [
       "[1] 500.59"
      ]
     },
     "metadata": {},
     "output_type": "display_data"
    }
   ],
   "source": [
    "min(Datos$ImporteVenta)"
   ]
  },
  {
   "cell_type": "code",
   "execution_count": 29,
   "metadata": {},
   "outputs": [
    {
     "data": {
      "text/html": [
       "555.85"
      ],
      "text/latex": [
       "555.85"
      ],
      "text/markdown": [
       "555.85"
      ],
      "text/plain": [
       "[1] 555.85"
      ]
     },
     "metadata": {},
     "output_type": "display_data"
    }
   ],
   "source": [
    " max(Datos$ImporteVenta)"
   ]
  },
  {
   "cell_type": "code",
   "execution_count": 30,
   "metadata": {},
   "outputs": [
    {
     "data": {
      "text/html": [
       "525.452647058823"
      ],
      "text/latex": [
       "525.452647058823"
      ],
      "text/markdown": [
       "525.452647058823"
      ],
      "text/plain": [
       "[1] 525.4526"
      ]
     },
     "metadata": {},
     "output_type": "display_data"
    }
   ],
   "source": [
    "media_importe_venta"
   ]
  },
  {
   "cell_type": "code",
   "execution_count": 32,
   "metadata": {},
   "outputs": [
    {
     "data": {
      "text/html": [
       "523.14"
      ],
      "text/latex": [
       "523.14"
      ],
      "text/markdown": [
       "523.14"
      ],
      "text/plain": [
       "[1] 523.14"
      ]
     },
     "metadata": {},
     "output_type": "display_data"
    }
   ],
   "source": [
    "median(Datos$ImporteVenta)"
   ]
  },
  {
   "cell_type": "markdown",
   "metadata": {},
   "source": [
    "### Ahora para Edad"
   ]
  },
  {
   "cell_type": "code",
   "execution_count": 34,
   "metadata": {},
   "outputs": [
    {
     "data": {
      "text/html": [
       "21"
      ],
      "text/latex": [
       "21"
      ],
      "text/markdown": [
       "21"
      ],
      "text/plain": [
       "[1] 21"
      ]
     },
     "metadata": {},
     "output_type": "display_data"
    }
   ],
   "source": [
    "min(Datos$Edad)"
   ]
  },
  {
   "cell_type": "code",
   "execution_count": 35,
   "metadata": {},
   "outputs": [
    {
     "data": {
      "text/html": [
       "65"
      ],
      "text/latex": [
       "65"
      ],
      "text/markdown": [
       "65"
      ],
      "text/plain": [
       "[1] 65"
      ]
     },
     "metadata": {},
     "output_type": "display_data"
    }
   ],
   "source": [
    "max(Datos$Edad)"
   ]
  },
  {
   "cell_type": "code",
   "execution_count": 37,
   "metadata": {},
   "outputs": [
    {
     "data": {
      "text/html": [
       "38.7352941176471"
      ],
      "text/latex": [
       "38.7352941176471"
      ],
      "text/markdown": [
       "38.7352941176471"
      ],
      "text/plain": [
       "[1] 38.73529"
      ]
     },
     "metadata": {},
     "output_type": "display_data"
    }
   ],
   "source": [
    "media_edad"
   ]
  },
  {
   "cell_type": "code",
   "execution_count": 38,
   "metadata": {},
   "outputs": [
    {
     "data": {
      "text/html": [
       "39"
      ],
      "text/latex": [
       "39"
      ],
      "text/markdown": [
       "39"
      ],
      "text/plain": [
       "[1] 39"
      ]
     },
     "metadata": {},
     "output_type": "display_data"
    }
   ],
   "source": [
    "median(Datos$Edad)"
   ]
  },
  {
   "cell_type": "markdown",
   "metadata": {},
   "source": [
    "### Para la variable pago determine las cuantos Aplazados y cuantos de Contado, hay en la tabla."
   ]
  },
  {
   "cell_type": "code",
   "execution_count": 40,
   "metadata": {},
   "outputs": [
    {
     "data": {
      "text/plain": [
       "\n",
       "Aplazado  Contado \n",
       "      32       70 "
      ]
     },
     "metadata": {},
     "output_type": "display_data"
    }
   ],
   "source": [
    "table(Datos$Pago)"
   ]
  }
 ],
 "metadata": {
  "kernelspec": {
   "display_name": "R",
   "language": "R",
   "name": "ir"
  },
  "language_info": {
   "codemirror_mode": "r",
   "file_extension": ".r",
   "mimetype": "text/x-r-source",
   "name": "R",
   "pygments_lexer": "r",
   "version": "3.6.3"
  }
 },
 "nbformat": 4,
 "nbformat_minor": 4
}
