{
 "cells": [
  {
   "cell_type": "markdown",
   "metadata": {},
   "source": [
    "# Realización de ejercicios de Tratamiento de Datos"
   ]
  },
  {
   "cell_type": "markdown",
   "metadata": {},
   "source": [
    "3.1 Lectura formateada de datos en R."
   ]
  },
  {
   "cell_type": "code",
   "execution_count": 1,
   "metadata": {},
   "outputs": [
    {
     "data": {
      "text/html": [
       "<table>\n",
       "<caption>A data.frame: 10 × 5</caption>\n",
       "<thead>\n",
       "\t<tr><th></th><th scope=col>Sexo</th><th scope=col>EstadoCivil</th><th scope=col>Nacionalidad</th><th scope=col>Edad</th><th scope=col>Nivel</th></tr>\n",
       "\t<tr><th></th><th scope=col>&lt;fct&gt;</th><th scope=col>&lt;fct&gt;</th><th scope=col>&lt;fct&gt;</th><th scope=col>&lt;int&gt;</th><th scope=col>&lt;int&gt;</th></tr>\n",
       "</thead>\n",
       "<tbody>\n",
       "\t<tr><th scope=row>Juan</th><td>H</td><td>Casado </td><td>Mexicano </td><td>40</td><td>1</td></tr>\n",
       "\t<tr><th scope=row>Hugo</th><td>H</td><td>Soltero</td><td>Mexicano </td><td>36</td><td>2</td></tr>\n",
       "\t<tr><th scope=row>Laura</th><td>M</td><td>Soltera</td><td>Argentina</td><td>28</td><td>1</td></tr>\n",
       "\t<tr><th scope=row>Ramon</th><td>H</td><td>Casado </td><td>Chileno  </td><td>60</td><td>3</td></tr>\n",
       "\t<tr><th scope=row>Antonio</th><td>H</td><td>Casado </td><td>Uruguayo </td><td>33</td><td>3</td></tr>\n",
       "\t<tr><th scope=row>Sofia</th><td>M</td><td>Casada </td><td>China    </td><td>29</td><td>2</td></tr>\n",
       "\t<tr><th scope=row>Alejandra</th><td>M</td><td>Soltera</td><td>Alemana  </td><td>44</td><td>1</td></tr>\n",
       "\t<tr><th scope=row>Alfredo</th><td>H</td><td>Soltero</td><td>Uruguayo </td><td>53</td><td>1</td></tr>\n",
       "\t<tr><th scope=row>Romina</th><td>M</td><td>Casada </td><td>Chilena  </td><td>38</td><td>2</td></tr>\n",
       "\t<tr><th scope=row>Felipe</th><td>H</td><td>Casado </td><td>Mexicano </td><td>28</td><td>2</td></tr>\n",
       "</tbody>\n",
       "</table>\n"
      ],
      "text/latex": [
       "A data.frame: 10 × 5\n",
       "\\begin{tabular}{r|lllll}\n",
       "  & Sexo & EstadoCivil & Nacionalidad & Edad & Nivel\\\\\n",
       "  & <fct> & <fct> & <fct> & <int> & <int>\\\\\n",
       "\\hline\n",
       "\tJuan & H & Casado  & Mexicano  & 40 & 1\\\\\n",
       "\tHugo & H & Soltero & Mexicano  & 36 & 2\\\\\n",
       "\tLaura & M & Soltera & Argentina & 28 & 1\\\\\n",
       "\tRamon & H & Casado  & Chileno   & 60 & 3\\\\\n",
       "\tAntonio & H & Casado  & Uruguayo  & 33 & 3\\\\\n",
       "\tSofia & M & Casada  & China     & 29 & 2\\\\\n",
       "\tAlejandra & M & Soltera & Alemana   & 44 & 1\\\\\n",
       "\tAlfredo & H & Soltero & Uruguayo  & 53 & 1\\\\\n",
       "\tRomina & M & Casada  & Chilena   & 38 & 2\\\\\n",
       "\tFelipe & H & Casado  & Mexicano  & 28 & 2\\\\\n",
       "\\end{tabular}\n"
      ],
      "text/markdown": [
       "\n",
       "A data.frame: 10 × 5\n",
       "\n",
       "| <!--/--> | Sexo &lt;fct&gt; | EstadoCivil &lt;fct&gt; | Nacionalidad &lt;fct&gt; | Edad &lt;int&gt; | Nivel &lt;int&gt; |\n",
       "|---|---|---|---|---|---|\n",
       "| Juan | H | Casado  | Mexicano  | 40 | 1 |\n",
       "| Hugo | H | Soltero | Mexicano  | 36 | 2 |\n",
       "| Laura | M | Soltera | Argentina | 28 | 1 |\n",
       "| Ramon | H | Casado  | Chileno   | 60 | 3 |\n",
       "| Antonio | H | Casado  | Uruguayo  | 33 | 3 |\n",
       "| Sofia | M | Casada  | China     | 29 | 2 |\n",
       "| Alejandra | M | Soltera | Alemana   | 44 | 1 |\n",
       "| Alfredo | H | Soltero | Uruguayo  | 53 | 1 |\n",
       "| Romina | M | Casada  | Chilena   | 38 | 2 |\n",
       "| Felipe | H | Casado  | Mexicano  | 28 | 2 |\n",
       "\n"
      ],
      "text/plain": [
       "          Sexo EstadoCivil Nacionalidad Edad Nivel\n",
       "Juan      H    Casado      Mexicano     40   1    \n",
       "Hugo      H    Soltero     Mexicano     36   2    \n",
       "Laura     M    Soltera     Argentina    28   1    \n",
       "Ramon     H    Casado      Chileno      60   3    \n",
       "Antonio   H    Casado      Uruguayo     33   3    \n",
       "Sofia     M    Casada      China        29   2    \n",
       "Alejandra M    Soltera     Alemana      44   1    \n",
       "Alfredo   H    Soltero     Uruguayo     53   1    \n",
       "Romina    M    Casada      Chilena      38   2    \n",
       "Felipe    H    Casado      Mexicano     28   2    "
      ]
     },
     "metadata": {},
     "output_type": "display_data"
    }
   ],
   "source": [
    "## Vamos a establecer el directorio\n",
    "setwd(\"/home/jovyan/work/tratamiento\")\n",
    "\n",
    "## Luego para poner la Tabla de datos Empleados.csv en un \"DataFrame\" se usa función read.table\n",
    "Datos<-read.table(\"Empleados.csv\",header=TRUE, sep=\",\",dec=\".\",row.names=1)\n",
    "Datos"
   ]
  },
  {
   "cell_type": "markdown",
   "metadata": {},
   "source": [
    "La función summary permite hacer una exploración inicial de los datos, hace un resumen estadístico, mostrando el valor, mínimo, primer quartil, la mediana, la media el tercer quartil y el valor máximo.\n"
   ]
  },
  {
   "cell_type": "code",
   "execution_count": 2,
   "metadata": {},
   "outputs": [
    {
     "data": {
      "text/plain": [
       " Sexo   EstadoCivil    Nacionalidad      Edad          Nivel    \n",
       " H:6   Casada :2    Alemana  :1     Min.   :28.0   Min.   :1.0  \n",
       " M:4   Casado :4    Argentina:1     1st Qu.:30.0   1st Qu.:1.0  \n",
       "       Soltera:2    Chilena  :1     Median :37.0   Median :2.0  \n",
       "       Soltero:2    Chileno  :1     Mean   :38.9   Mean   :1.8  \n",
       "                    China    :1     3rd Qu.:43.0   3rd Qu.:2.0  \n",
       "                    Mexicano :3     Max.   :60.0   Max.   :3.0  \n",
       "                    Uruguayo :2                                 "
      ]
     },
     "metadata": {},
     "output_type": "display_data"
    }
   ],
   "source": [
    "summary(Datos)\n"
   ]
  },
  {
   "cell_type": "markdown",
   "metadata": {},
   "source": [
    "Para leer el mismo archivo pero ahora con formato .txt se hace lo siguiente:\n"
   ]
  },
  {
   "cell_type": "code",
   "execution_count": 3,
   "metadata": {},
   "outputs": [
    {
     "data": {
      "text/html": [
       "<table>\n",
       "<caption>A data.frame: 10 × 4</caption>\n",
       "<thead>\n",
       "\t<tr><th></th><th scope=col>Sexo</th><th scope=col>EstadoCivil</th><th scope=col>Nacionalidad</th><th scope=col>Edad</th></tr>\n",
       "\t<tr><th></th><th scope=col>&lt;fct&gt;</th><th scope=col>&lt;fct&gt;</th><th scope=col>&lt;fct&gt;</th><th scope=col>&lt;int&gt;</th></tr>\n",
       "</thead>\n",
       "<tbody>\n",
       "\t<tr><th scope=row>Juan</th><td>H</td><td>Casado </td><td>Mexicano </td><td>40</td></tr>\n",
       "\t<tr><th scope=row>Hugo</th><td>H</td><td>Soltero</td><td>Mexicano </td><td>36</td></tr>\n",
       "\t<tr><th scope=row>Laura</th><td>M</td><td>Soltera</td><td>Argentina</td><td>28</td></tr>\n",
       "\t<tr><th scope=row>Ramon</th><td>H</td><td>Casado </td><td>Chileno  </td><td>60</td></tr>\n",
       "\t<tr><th scope=row>Antonio</th><td>H</td><td>Casado </td><td>Uruguayo </td><td>33</td></tr>\n",
       "\t<tr><th scope=row>Sofia</th><td>M</td><td>Casada </td><td>China    </td><td>29</td></tr>\n",
       "\t<tr><th scope=row>Alejandra</th><td>M</td><td>Soltera</td><td>Alemana  </td><td>44</td></tr>\n",
       "\t<tr><th scope=row>Alfredo</th><td>H</td><td>Soltero</td><td>Uruguayo </td><td>53</td></tr>\n",
       "\t<tr><th scope=row>Romina</th><td>M</td><td>Casada </td><td>Chilena  </td><td>38</td></tr>\n",
       "\t<tr><th scope=row>Felipe</th><td>H</td><td>Casado </td><td>Mexicano </td><td>28</td></tr>\n",
       "</tbody>\n",
       "</table>\n"
      ],
      "text/latex": [
       "A data.frame: 10 × 4\n",
       "\\begin{tabular}{r|llll}\n",
       "  & Sexo & EstadoCivil & Nacionalidad & Edad\\\\\n",
       "  & <fct> & <fct> & <fct> & <int>\\\\\n",
       "\\hline\n",
       "\tJuan & H & Casado  & Mexicano  & 40\\\\\n",
       "\tHugo & H & Soltero & Mexicano  & 36\\\\\n",
       "\tLaura & M & Soltera & Argentina & 28\\\\\n",
       "\tRamon & H & Casado  & Chileno   & 60\\\\\n",
       "\tAntonio & H & Casado  & Uruguayo  & 33\\\\\n",
       "\tSofia & M & Casada  & China     & 29\\\\\n",
       "\tAlejandra & M & Soltera & Alemana   & 44\\\\\n",
       "\tAlfredo & H & Soltero & Uruguayo  & 53\\\\\n",
       "\tRomina & M & Casada  & Chilena   & 38\\\\\n",
       "\tFelipe & H & Casado  & Mexicano  & 28\\\\\n",
       "\\end{tabular}\n"
      ],
      "text/markdown": [
       "\n",
       "A data.frame: 10 × 4\n",
       "\n",
       "| <!--/--> | Sexo &lt;fct&gt; | EstadoCivil &lt;fct&gt; | Nacionalidad &lt;fct&gt; | Edad &lt;int&gt; |\n",
       "|---|---|---|---|---|\n",
       "| Juan | H | Casado  | Mexicano  | 40 |\n",
       "| Hugo | H | Soltero | Mexicano  | 36 |\n",
       "| Laura | M | Soltera | Argentina | 28 |\n",
       "| Ramon | H | Casado  | Chileno   | 60 |\n",
       "| Antonio | H | Casado  | Uruguayo  | 33 |\n",
       "| Sofia | M | Casada  | China     | 29 |\n",
       "| Alejandra | M | Soltera | Alemana   | 44 |\n",
       "| Alfredo | H | Soltero | Uruguayo  | 53 |\n",
       "| Romina | M | Casada  | Chilena   | 38 |\n",
       "| Felipe | H | Casado  | Mexicano  | 28 |\n",
       "\n"
      ],
      "text/plain": [
       "          Sexo EstadoCivil Nacionalidad Edad\n",
       "Juan      H    Casado      Mexicano     40  \n",
       "Hugo      H    Soltero     Mexicano     36  \n",
       "Laura     M    Soltera     Argentina    28  \n",
       "Ramon     H    Casado      Chileno      60  \n",
       "Antonio   H    Casado      Uruguayo     33  \n",
       "Sofia     M    Casada      China        29  \n",
       "Alejandra M    Soltera     Alemana      44  \n",
       "Alfredo   H    Soltero     Uruguayo     53  \n",
       "Romina    M    Casada      Chilena      38  \n",
       "Felipe    H    Casado      Mexicano     28  "
      ]
     },
     "metadata": {},
     "output_type": "display_data"
    }
   ],
   "source": [
    "## Vamos a establecer el directorio\n",
    "setwd(\"/home/jovyan/work/tratamiento\")\n",
    "\n",
    "DatosTexto<-read.table(\"Empleados.txt\",header=TRUE, sep=\"\\t\",dec=\".\",row.names=1)\n",
    "DatosTexto"
   ]
  },
  {
   "cell_type": "markdown",
   "metadata": {},
   "source": [
    "## 3.2 Eliminar valores.\n",
    "\n",
    "En R existe un objeto para representar a los valores ausentes llamado NA, cuando se aplican funciones sobre datos con valores NA, los resultados de éstas funciones siempre serán NA. En R, la mayoría de las funciones matemáticas para evitar esto, tienen el parámetro na.rm, que al asignarle el valor true, se le indica a la función que ignore todos los valores Na encontrados en los datos.\n"
   ]
  },
  {
   "cell_type": "code",
   "execution_count": 4,
   "metadata": {},
   "outputs": [
    {
     "data": {
      "text/html": [
       "<style>\n",
       ".list-inline {list-style: none; margin:0; padding: 0}\n",
       ".list-inline>li {display: inline-block}\n",
       ".list-inline>li:not(:last-child)::after {content: \"\\00b7\"; padding: 0 .5ex}\n",
       "</style>\n",
       "<ol class=list-inline><li>0</li><li>1</li><li>2</li><li>3</li><li>4</li><li>5</li><li>6</li><li>&lt;NA&gt;</li><li>8</li><li>&lt;NA&gt;</li><li>9</li><li>10</li></ol>\n"
      ],
      "text/latex": [
       "\\begin{enumerate*}\n",
       "\\item 0\n",
       "\\item 1\n",
       "\\item 2\n",
       "\\item 3\n",
       "\\item 4\n",
       "\\item 5\n",
       "\\item 6\n",
       "\\item <NA>\n",
       "\\item 8\n",
       "\\item <NA>\n",
       "\\item 9\n",
       "\\item 10\n",
       "\\end{enumerate*}\n"
      ],
      "text/markdown": [
       "1. 0\n",
       "2. 1\n",
       "3. 2\n",
       "4. 3\n",
       "5. 4\n",
       "6. 5\n",
       "7. 6\n",
       "8. &lt;NA&gt;\n",
       "9. 8\n",
       "10. &lt;NA&gt;\n",
       "11. 9\n",
       "12. 10\n",
       "\n",
       "\n"
      ],
      "text/plain": [
       " [1]  0  1  2  3  4  5  6 NA  8 NA  9 10"
      ]
     },
     "metadata": {},
     "output_type": "display_data"
    }
   ],
   "source": [
    "vector_1 <- c(0,1,2,3,4,5,6,NA,8,NA,9,10)\n",
    "vector_1"
   ]
  },
  {
   "cell_type": "code",
   "execution_count": 5,
   "metadata": {},
   "outputs": [
    {
     "data": {
      "text/html": [
       "&lt;NA&gt;"
      ],
      "text/latex": [
       "<NA>"
      ],
      "text/markdown": [
       "&lt;NA&gt;"
      ],
      "text/plain": [
       "[1] NA"
      ]
     },
     "metadata": {},
     "output_type": "display_data"
    }
   ],
   "source": [
    "#Ignorando los valres NA con la función na.rm\n",
    "mean(vector_1)"
   ]
  },
  {
   "cell_type": "code",
   "execution_count": 6,
   "metadata": {},
   "outputs": [
    {
     "data": {
      "text/html": [
       "4.8"
      ],
      "text/latex": [
       "4.8"
      ],
      "text/markdown": [
       "4.8"
      ],
      "text/plain": [
       "[1] 4.8"
      ]
     },
     "metadata": {},
     "output_type": "display_data"
    }
   ],
   "source": [
    "mean(vector_1, na.rm = TRUE)"
   ]
  },
  {
   "cell_type": "markdown",
   "metadata": {},
   "source": [
    "## 3.3 Variables indexadas y matrices.\n",
    "\n",
    "Las matrices son un tipo especial de vectores con 2 dimensiones, representadas de forma rectángular por filas y columnas.\n",
    "En R se pueden crear matrices con la función matrix() que utiliza 4 parámetros para su configuración, estos parámetros son los siguientes:\n",
    "data: vector con los datos que contendrá la matriz.\n",
    "nrow: cantidad de filas o renglones que contendrá la matriz\n",
    "ncol: cantidad de columnas en la matriz\n",
    "byrow: especifica cómo será la lectura de los datos en la matriz, si su valor es TRUE la lectura se realiza por filas, de los contrario se leerá por columnas.\n",
    "Ejemplo"
   ]
  },
  {
   "cell_type": "code",
   "execution_count": 7,
   "metadata": {},
   "outputs": [
    {
     "data": {
      "text/html": [
       "<table>\n",
       "<caption>A matrix: 4 × 3 of type dbl</caption>\n",
       "<tbody>\n",
       "\t<tr><td> 1</td><td> 2</td><td> 3</td></tr>\n",
       "\t<tr><td> 4</td><td> 5</td><td> 6</td></tr>\n",
       "\t<tr><td> 7</td><td> 8</td><td> 9</td></tr>\n",
       "\t<tr><td>10</td><td>11</td><td>12</td></tr>\n",
       "</tbody>\n",
       "</table>\n"
      ],
      "text/latex": [
       "A matrix: 4 × 3 of type dbl\n",
       "\\begin{tabular}{lll}\n",
       "\t  1 &  2 &  3\\\\\n",
       "\t  4 &  5 &  6\\\\\n",
       "\t  7 &  8 &  9\\\\\n",
       "\t 10 & 11 & 12\\\\\n",
       "\\end{tabular}\n"
      ],
      "text/markdown": [
       "\n",
       "A matrix: 4 × 3 of type dbl\n",
       "\n",
       "|  1 |  2 |  3 |\n",
       "|  4 |  5 |  6 |\n",
       "|  7 |  8 |  9 |\n",
       "| 10 | 11 | 12 |\n",
       "\n"
      ],
      "text/plain": [
       "     [,1] [,2] [,3]\n",
       "[1,]  1    2    3  \n",
       "[2,]  4    5    6  \n",
       "[3,]  7    8    9  \n",
       "[4,] 10   11   12  "
      ]
     },
     "metadata": {},
     "output_type": "display_data"
    }
   ],
   "source": [
    "##Lectura por renglones o filas\n",
    "matriz_1<-matrix(c(1,2,3,4,5,6,7,8,9,10,11,12),nrow=4, ncol=3, byrow = T)\n",
    "matriz_1"
   ]
  },
  {
   "cell_type": "code",
   "execution_count": 8,
   "metadata": {},
   "outputs": [
    {
     "data": {
      "text/html": [
       "<table>\n",
       "<caption>A matrix: 4 × 3 of type dbl</caption>\n",
       "<tbody>\n",
       "\t<tr><td>1</td><td>5</td><td> 9</td></tr>\n",
       "\t<tr><td>2</td><td>6</td><td>10</td></tr>\n",
       "\t<tr><td>3</td><td>7</td><td>11</td></tr>\n",
       "\t<tr><td>4</td><td>8</td><td>12</td></tr>\n",
       "</tbody>\n",
       "</table>\n"
      ],
      "text/latex": [
       "A matrix: 4 × 3 of type dbl\n",
       "\\begin{tabular}{lll}\n",
       "\t 1 & 5 &  9\\\\\n",
       "\t 2 & 6 & 10\\\\\n",
       "\t 3 & 7 & 11\\\\\n",
       "\t 4 & 8 & 12\\\\\n",
       "\\end{tabular}\n"
      ],
      "text/markdown": [
       "\n",
       "A matrix: 4 × 3 of type dbl\n",
       "\n",
       "| 1 | 5 |  9 |\n",
       "| 2 | 6 | 10 |\n",
       "| 3 | 7 | 11 |\n",
       "| 4 | 8 | 12 |\n",
       "\n"
      ],
      "text/plain": [
       "     [,1] [,2] [,3]\n",
       "[1,] 1    5     9  \n",
       "[2,] 2    6    10  \n",
       "[3,] 3    7    11  \n",
       "[4,] 4    8    12  "
      ]
     },
     "metadata": {},
     "output_type": "display_data"
    }
   ],
   "source": [
    "## Lectura por columnas\n",
    "matriz_2<-matrix(c(1,2,3,4,5,6,7,8,9,10,11,12),nrow=4, ncol=3, byrow = F)\n",
    "matriz_2"
   ]
  },
  {
   "cell_type": "markdown",
   "metadata": {},
   "source": [
    "Para hacer consultas por fila o por columna de la matriz, se hace a traves de los corchetes [,], el valor antes de la coma indica en número de fila y el valor despues de la coma indica el valor de la columna.\n",
    "Ejemplo:"
   ]
  },
  {
   "cell_type": "code",
   "execution_count": 9,
   "metadata": {},
   "outputs": [
    {
     "data": {
      "text/html": [
       "<table>\n",
       "<caption>A matrix: 4 × 3 of type dbl</caption>\n",
       "<tbody>\n",
       "\t<tr><td> 1</td><td> 2</td><td> 3</td></tr>\n",
       "\t<tr><td> 4</td><td> 5</td><td> 6</td></tr>\n",
       "\t<tr><td> 7</td><td> 8</td><td> 9</td></tr>\n",
       "\t<tr><td>10</td><td>11</td><td>12</td></tr>\n",
       "</tbody>\n",
       "</table>\n"
      ],
      "text/latex": [
       "A matrix: 4 × 3 of type dbl\n",
       "\\begin{tabular}{lll}\n",
       "\t  1 &  2 &  3\\\\\n",
       "\t  4 &  5 &  6\\\\\n",
       "\t  7 &  8 &  9\\\\\n",
       "\t 10 & 11 & 12\\\\\n",
       "\\end{tabular}\n"
      ],
      "text/markdown": [
       "\n",
       "A matrix: 4 × 3 of type dbl\n",
       "\n",
       "|  1 |  2 |  3 |\n",
       "|  4 |  5 |  6 |\n",
       "|  7 |  8 |  9 |\n",
       "| 10 | 11 | 12 |\n",
       "\n"
      ],
      "text/plain": [
       "     [,1] [,2] [,3]\n",
       "[1,]  1    2    3  \n",
       "[2,]  4    5    6  \n",
       "[3,]  7    8    9  \n",
       "[4,] 10   11   12  "
      ]
     },
     "metadata": {},
     "output_type": "display_data"
    }
   ],
   "source": [
    "matriz_1<-matrix(c(1,2,3,4,5,6,7,8,9,10,11,12),nrow=4, ncol=3, byrow = T)\n",
    "matriz_1"
   ]
  },
  {
   "cell_type": "code",
   "execution_count": 10,
   "metadata": {},
   "outputs": [
    {
     "data": {
      "text/html": [
       "9"
      ],
      "text/latex": [
       "9"
      ],
      "text/markdown": [
       "9"
      ],
      "text/plain": [
       "[1] 9"
      ]
     },
     "metadata": {},
     "output_type": "display_data"
    }
   ],
   "source": [
    "## Para consultar un valor específico\n",
    "matriz_1[3,3]"
   ]
  },
  {
   "cell_type": "code",
   "execution_count": 11,
   "metadata": {},
   "outputs": [],
   "source": [
    "## [1] 9"
   ]
  },
  {
   "cell_type": "code",
   "execution_count": 12,
   "metadata": {},
   "outputs": [
    {
     "data": {
      "text/html": [
       "<style>\n",
       ".list-inline {list-style: none; margin:0; padding: 0}\n",
       ".list-inline>li {display: inline-block}\n",
       ".list-inline>li:not(:last-child)::after {content: \"\\00b7\"; padding: 0 .5ex}\n",
       "</style>\n",
       "<ol class=list-inline><li>1</li><li>4</li><li>7</li><li>10</li></ol>\n"
      ],
      "text/latex": [
       "\\begin{enumerate*}\n",
       "\\item 1\n",
       "\\item 4\n",
       "\\item 7\n",
       "\\item 10\n",
       "\\end{enumerate*}\n"
      ],
      "text/markdown": [
       "1. 1\n",
       "2. 4\n",
       "3. 7\n",
       "4. 10\n",
       "\n",
       "\n"
      ],
      "text/plain": [
       "[1]  1  4  7 10"
      ]
     },
     "metadata": {},
     "output_type": "display_data"
    }
   ],
   "source": [
    "## Para consultar los valores de la columna 1\n",
    "matriz_1[,1]"
   ]
  },
  {
   "cell_type": "code",
   "execution_count": 13,
   "metadata": {},
   "outputs": [
    {
     "data": {
      "text/html": [
       "<style>\n",
       ".list-inline {list-style: none; margin:0; padding: 0}\n",
       ".list-inline>li {display: inline-block}\n",
       ".list-inline>li:not(:last-child)::after {content: \"\\00b7\"; padding: 0 .5ex}\n",
       "</style>\n",
       "<ol class=list-inline><li>4</li><li>5</li><li>6</li></ol>\n"
      ],
      "text/latex": [
       "\\begin{enumerate*}\n",
       "\\item 4\n",
       "\\item 5\n",
       "\\item 6\n",
       "\\end{enumerate*}\n"
      ],
      "text/markdown": [
       "1. 4\n",
       "2. 5\n",
       "3. 6\n",
       "\n",
       "\n"
      ],
      "text/plain": [
       "[1] 4 5 6"
      ]
     },
     "metadata": {},
     "output_type": "display_data"
    }
   ],
   "source": [
    "## Para consultar los valores del renglón 2\n",
    "matriz_1[2,]"
   ]
  },
  {
   "cell_type": "code",
   "execution_count": 14,
   "metadata": {},
   "outputs": [
    {
     "data": {
      "text/html": [
       "<table>\n",
       "<caption>A matrix: 4 × 2 of type dbl</caption>\n",
       "<tbody>\n",
       "\t<tr><td> 1</td><td> 2</td></tr>\n",
       "\t<tr><td> 4</td><td> 5</td></tr>\n",
       "\t<tr><td> 7</td><td> 8</td></tr>\n",
       "\t<tr><td>10</td><td>11</td></tr>\n",
       "</tbody>\n",
       "</table>\n"
      ],
      "text/latex": [
       "A matrix: 4 × 2 of type dbl\n",
       "\\begin{tabular}{ll}\n",
       "\t  1 &  2\\\\\n",
       "\t  4 &  5\\\\\n",
       "\t  7 &  8\\\\\n",
       "\t 10 & 11\\\\\n",
       "\\end{tabular}\n"
      ],
      "text/markdown": [
       "\n",
       "A matrix: 4 × 2 of type dbl\n",
       "\n",
       "|  1 |  2 |\n",
       "|  4 |  5 |\n",
       "|  7 |  8 |\n",
       "| 10 | 11 |\n",
       "\n"
      ],
      "text/plain": [
       "     [,1] [,2]\n",
       "[1,]  1    2  \n",
       "[2,]  4    5  \n",
       "[3,]  7    8  \n",
       "[4,] 10   11  "
      ]
     },
     "metadata": {},
     "output_type": "display_data"
    }
   ],
   "source": [
    "## Para consultar los valores de las columnas 1 y 2\n",
    "matriz_1[,1:2]"
   ]
  },
  {
   "cell_type": "code",
   "execution_count": 15,
   "metadata": {},
   "outputs": [
    {
     "data": {
      "text/html": [
       "<table>\n",
       "<caption>A matrix: 3 × 3 of type dbl</caption>\n",
       "<tbody>\n",
       "\t<tr><td>1</td><td>2</td><td>3</td></tr>\n",
       "\t<tr><td>4</td><td>5</td><td>6</td></tr>\n",
       "\t<tr><td>7</td><td>8</td><td>9</td></tr>\n",
       "</tbody>\n",
       "</table>\n"
      ],
      "text/latex": [
       "A matrix: 3 × 3 of type dbl\n",
       "\\begin{tabular}{lll}\n",
       "\t 1 & 2 & 3\\\\\n",
       "\t 4 & 5 & 6\\\\\n",
       "\t 7 & 8 & 9\\\\\n",
       "\\end{tabular}\n"
      ],
      "text/markdown": [
       "\n",
       "A matrix: 3 × 3 of type dbl\n",
       "\n",
       "| 1 | 2 | 3 |\n",
       "| 4 | 5 | 6 |\n",
       "| 7 | 8 | 9 |\n",
       "\n"
      ],
      "text/plain": [
       "     [,1] [,2] [,3]\n",
       "[1,] 1    2    3   \n",
       "[2,] 4    5    6   \n",
       "[3,] 7    8    9   "
      ]
     },
     "metadata": {},
     "output_type": "display_data"
    }
   ],
   "source": [
    "## Para consultar los valores de los renglones 1 a 3\n",
    "matriz_1[1:3,]"
   ]
  },
  {
   "cell_type": "code",
   "execution_count": 16,
   "metadata": {},
   "outputs": [
    {
     "data": {
      "text/html": [
       "<style>\n",
       ".list-inline {list-style: none; margin:0; padding: 0}\n",
       ".list-inline>li {display: inline-block}\n",
       ".list-inline>li:not(:last-child)::after {content: \"\\00b7\"; padding: 0 .5ex}\n",
       "</style>\n",
       "<ol class=list-inline><li>4</li><li>3</li></ol>\n"
      ],
      "text/latex": [
       "\\begin{enumerate*}\n",
       "\\item 4\n",
       "\\item 3\n",
       "\\end{enumerate*}\n"
      ],
      "text/markdown": [
       "1. 4\n",
       "2. 3\n",
       "\n",
       "\n"
      ],
      "text/plain": [
       "[1] 4 3"
      ]
     },
     "metadata": {},
     "output_type": "display_data"
    }
   ],
   "source": [
    "##Para conocer las dimensiones de una matriz es con la función dim\n",
    "dim(matriz_1)\n"
   ]
  },
  {
   "cell_type": "markdown",
   "metadata": {},
   "source": [
    "Combinación de matrices.\n",
    "Las funciones cbind() y rbind() se pueden usar para unir dos o más vectores o matrices, por columnas o por filas, respectivamente, como se puede observar en los siguientes ejemplos:"
   ]
  },
  {
   "cell_type": "code",
   "execution_count": 17,
   "metadata": {},
   "outputs": [
    {
     "data": {
      "text/html": [
       "<table>\n",
       "<caption>A matrix: 2 × 5 of type dbl</caption>\n",
       "<tbody>\n",
       "\t<tr><td>45</td><td>66</td><td>33</td><td>56</td><td>78</td></tr>\n",
       "\t<tr><td>23</td><td>77</td><td>44</td><td>12</td><td>23</td></tr>\n",
       "</tbody>\n",
       "</table>\n"
      ],
      "text/latex": [
       "A matrix: 2 × 5 of type dbl\n",
       "\\begin{tabular}{lllll}\n",
       "\t 45 & 66 & 33 & 56 & 78\\\\\n",
       "\t 23 & 77 & 44 & 12 & 23\\\\\n",
       "\\end{tabular}\n"
      ],
      "text/markdown": [
       "\n",
       "A matrix: 2 × 5 of type dbl\n",
       "\n",
       "| 45 | 66 | 33 | 56 | 78 |\n",
       "| 23 | 77 | 44 | 12 | 23 |\n",
       "\n"
      ],
      "text/plain": [
       "     [,1] [,2] [,3] [,4] [,5]\n",
       "[1,] 45   66   33   56   78  \n",
       "[2,] 23   77   44   12   23  "
      ]
     },
     "metadata": {},
     "output_type": "display_data"
    }
   ],
   "source": [
    "## Primera matriz \n",
    "m1 <- matrix(c(45, 23, 66, 77, 33, 44, 56, 12, 78, 23), 2,5)\n",
    "m1"
   ]
  },
  {
   "cell_type": "code",
   "execution_count": 18,
   "metadata": {},
   "outputs": [
    {
     "data": {
      "text/html": [
       "<table>\n",
       "<caption>A matrix: 2 × 5 of type dbl</caption>\n",
       "<tbody>\n",
       "\t<tr><td>10</td><td>10</td><td>10</td><td>10</td><td>10</td></tr>\n",
       "\t<tr><td>10</td><td>10</td><td>10</td><td>10</td><td>10</td></tr>\n",
       "</tbody>\n",
       "</table>\n"
      ],
      "text/latex": [
       "A matrix: 2 × 5 of type dbl\n",
       "\\begin{tabular}{lllll}\n",
       "\t 10 & 10 & 10 & 10 & 10\\\\\n",
       "\t 10 & 10 & 10 & 10 & 10\\\\\n",
       "\\end{tabular}\n"
      ],
      "text/markdown": [
       "\n",
       "A matrix: 2 × 5 of type dbl\n",
       "\n",
       "| 10 | 10 | 10 | 10 | 10 |\n",
       "| 10 | 10 | 10 | 10 | 10 |\n",
       "\n"
      ],
      "text/plain": [
       "     [,1] [,2] [,3] [,4] [,5]\n",
       "[1,] 10   10   10   10   10  \n",
       "[2,] 10   10   10   10   10  "
      ]
     },
     "metadata": {},
     "output_type": "display_data"
    }
   ],
   "source": [
    "## Segunda matriz\n",
    "m2 <- matrix(rep(10, 20), 2, 5)\n",
    "m2"
   ]
  },
  {
   "cell_type": "code",
   "execution_count": 19,
   "metadata": {},
   "outputs": [
    {
     "data": {
      "text/html": [
       "<table>\n",
       "<caption>A matrix: 4 × 5 of type dbl</caption>\n",
       "<tbody>\n",
       "\t<tr><td>45</td><td>66</td><td>33</td><td>56</td><td>78</td></tr>\n",
       "\t<tr><td>23</td><td>77</td><td>44</td><td>12</td><td>23</td></tr>\n",
       "\t<tr><td>10</td><td>10</td><td>10</td><td>10</td><td>10</td></tr>\n",
       "\t<tr><td>10</td><td>10</td><td>10</td><td>10</td><td>10</td></tr>\n",
       "</tbody>\n",
       "</table>\n"
      ],
      "text/latex": [
       "A matrix: 4 × 5 of type dbl\n",
       "\\begin{tabular}{lllll}\n",
       "\t 45 & 66 & 33 & 56 & 78\\\\\n",
       "\t 23 & 77 & 44 & 12 & 23\\\\\n",
       "\t 10 & 10 & 10 & 10 & 10\\\\\n",
       "\t 10 & 10 & 10 & 10 & 10\\\\\n",
       "\\end{tabular}\n"
      ],
      "text/markdown": [
       "\n",
       "A matrix: 4 × 5 of type dbl\n",
       "\n",
       "| 45 | 66 | 33 | 56 | 78 |\n",
       "| 23 | 77 | 44 | 12 | 23 |\n",
       "| 10 | 10 | 10 | 10 | 10 |\n",
       "| 10 | 10 | 10 | 10 | 10 |\n",
       "\n"
      ],
      "text/plain": [
       "     [,1] [,2] [,3] [,4] [,5]\n",
       "[1,] 45   66   33   56   78  \n",
       "[2,] 23   77   44   12   23  \n",
       "[3,] 10   10   10   10   10  \n",
       "[4,] 10   10   10   10   10  "
      ]
     },
     "metadata": {},
     "output_type": "display_data"
    }
   ],
   "source": [
    "## la matriz m2 se coloca debajo de la matriz m1\n",
    "m3 <- rbind(m1,m2)\n",
    "m3"
   ]
  },
  {
   "cell_type": "code",
   "execution_count": 20,
   "metadata": {},
   "outputs": [
    {
     "data": {
      "text/html": [
       "<style>\n",
       ".list-inline {list-style: none; margin:0; padding: 0}\n",
       ".list-inline>li {display: inline-block}\n",
       ".list-inline>li:not(:last-child)::after {content: \"\\00b7\"; padding: 0 .5ex}\n",
       "</style>\n",
       "<ol class=list-inline><li>4</li><li>5</li></ol>\n"
      ],
      "text/latex": [
       "\\begin{enumerate*}\n",
       "\\item 4\n",
       "\\item 5\n",
       "\\end{enumerate*}\n"
      ],
      "text/markdown": [
       "1. 4\n",
       "2. 5\n",
       "\n",
       "\n"
      ],
      "text/plain": [
       "[1] 4 5"
      ]
     },
     "metadata": {},
     "output_type": "display_data"
    }
   ],
   "source": [
    " dim(m3)"
   ]
  },
  {
   "cell_type": "code",
   "execution_count": 21,
   "metadata": {},
   "outputs": [
    {
     "data": {
      "text/html": [
       "<table>\n",
       "<caption>A matrix: 2 × 10 of type dbl</caption>\n",
       "<tbody>\n",
       "\t<tr><td>45</td><td>66</td><td>33</td><td>56</td><td>78</td><td>10</td><td>10</td><td>10</td><td>10</td><td>10</td></tr>\n",
       "\t<tr><td>23</td><td>77</td><td>44</td><td>12</td><td>23</td><td>10</td><td>10</td><td>10</td><td>10</td><td>10</td></tr>\n",
       "</tbody>\n",
       "</table>\n"
      ],
      "text/latex": [
       "A matrix: 2 × 10 of type dbl\n",
       "\\begin{tabular}{llllllllll}\n",
       "\t 45 & 66 & 33 & 56 & 78 & 10 & 10 & 10 & 10 & 10\\\\\n",
       "\t 23 & 77 & 44 & 12 & 23 & 10 & 10 & 10 & 10 & 10\\\\\n",
       "\\end{tabular}\n"
      ],
      "text/markdown": [
       "\n",
       "A matrix: 2 × 10 of type dbl\n",
       "\n",
       "| 45 | 66 | 33 | 56 | 78 | 10 | 10 | 10 | 10 | 10 |\n",
       "| 23 | 77 | 44 | 12 | 23 | 10 | 10 | 10 | 10 | 10 |\n",
       "\n"
      ],
      "text/plain": [
       "     [,1] [,2] [,3] [,4] [,5] [,6] [,7] [,8] [,9] [,10]\n",
       "[1,] 45   66   33   56   78   10   10   10   10   10   \n",
       "[2,] 23   77   44   12   23   10   10   10   10   10   "
      ]
     },
     "metadata": {},
     "output_type": "display_data"
    }
   ],
   "source": [
    "## la matriz m2 se coloca después de la matriz m1\n",
    "m3 <- cbind(m1,m2)\n",
    "m3"
   ]
  },
  {
   "cell_type": "code",
   "execution_count": 22,
   "metadata": {},
   "outputs": [
    {
     "data": {
      "text/html": [
       "<style>\n",
       ".list-inline {list-style: none; margin:0; padding: 0}\n",
       ".list-inline>li {display: inline-block}\n",
       ".list-inline>li:not(:last-child)::after {content: \"\\00b7\"; padding: 0 .5ex}\n",
       "</style>\n",
       "<ol class=list-inline><li>2</li><li>10</li></ol>\n"
      ],
      "text/latex": [
       "\\begin{enumerate*}\n",
       "\\item 2\n",
       "\\item 10\n",
       "\\end{enumerate*}\n"
      ],
      "text/markdown": [
       "1. 2\n",
       "2. 10\n",
       "\n",
       "\n"
      ],
      "text/plain": [
       "[1]  2 10"
      ]
     },
     "metadata": {},
     "output_type": "display_data"
    }
   ],
   "source": [
    "dim(m3)"
   ]
  },
  {
   "cell_type": "markdown",
   "metadata": {},
   "source": [
    " 3.4. Listas, hojas de datos (Data Frames) y subconjuntos de datos.\n",
    "Listas en R.\n",
    "Una lista, en R, es una clase de datos que puede contener cero o más elementos, cada uno de los cuales puede ser de una clase distinta.\n",
    "Por ejemplo, si se considera la tabla de empleados, como una base de datos, donde cada empleado, tiene los atributos de Sexo, EstadoCivil, Nacionalidad, Edad y Nivel. Se podría iniciar una lista vacía como sigue:"
   ]
  },
  {
   "cell_type": "code",
   "execution_count": 23,
   "metadata": {},
   "outputs": [
    {
     "data": {
      "text/html": [
       "<dl>\n",
       "\t<dt>$Nombre</dt>\n",
       "\t\t<dd>'Ana'</dd>\n",
       "\t<dt>$Sexo</dt>\n",
       "\t\t<dd>'M'</dd>\n",
       "\t<dt>$EstadoCivil</dt>\n",
       "\t\t<dd>'Soltera'</dd>\n",
       "\t<dt>$Nacionalidad</dt>\n",
       "\t\t<dd>'Argentina'</dd>\n",
       "\t<dt>$Edad</dt>\n",
       "\t\t<dd>49</dd>\n",
       "\t<dt>$Nivel</dt>\n",
       "\t\t<dd>1</dd>\n",
       "</dl>\n"
      ],
      "text/latex": [
       "\\begin{description}\n",
       "\\item[\\$Nombre] 'Ana'\n",
       "\\item[\\$Sexo] 'M'\n",
       "\\item[\\$EstadoCivil] 'Soltera'\n",
       "\\item[\\$Nacionalidad] 'Argentina'\n",
       "\\item[\\$Edad] 49\n",
       "\\item[\\$Nivel] 1\n",
       "\\end{description}\n"
      ],
      "text/markdown": [
       "$Nombre\n",
       ":   'Ana'\n",
       "$Sexo\n",
       ":   'M'\n",
       "$EstadoCivil\n",
       ":   'Soltera'\n",
       "$Nacionalidad\n",
       ":   'Argentina'\n",
       "$Edad\n",
       ":   49\n",
       "$Nivel\n",
       ":   1\n",
       "\n",
       "\n"
      ],
      "text/plain": [
       "$Nombre\n",
       "[1] \"Ana\"\n",
       "\n",
       "$Sexo\n",
       "[1] \"M\"\n",
       "\n",
       "$EstadoCivil\n",
       "[1] \"Soltera\"\n",
       "\n",
       "$Nacionalidad\n",
       "[1] \"Argentina\"\n",
       "\n",
       "$Edad\n",
       "[1] 49\n",
       "\n",
       "$Nivel\n",
       "[1] 1\n"
      ]
     },
     "metadata": {},
     "output_type": "display_data"
    }
   ],
   "source": [
    "## Se crea la lista vacía emp con la función list()\n",
    "emp <- list()\n",
    "\n",
    "##Para insertar el primer empleado se puede hacer como sigue:\n",
    "\n",
    "emp <- list(Nombre=\"Ana\", Sexo=\"M\", EstadoCivil=\"Soltera\", Nacionalidad=\"Argentina\", Edad= 49, Nivel=1)\n",
    "emp"
   ]
  },
  {
   "cell_type": "code",
   "execution_count": 24,
   "metadata": {},
   "outputs": [
    {
     "data": {
      "text/html": [
       "<dl>\n",
       "\t<dt>[[1]]</dt>\n",
       "\t\t<dd>'Mónica'</dd>\n",
       "\t<dt>[[2]]</dt>\n",
       "\t\t<dd>'M'</dd>\n",
       "\t<dt>[[3]]</dt>\n",
       "\t\t<dd>'Casada'</dd>\n",
       "\t<dt>[[4]]</dt>\n",
       "\t\t<dd>'Española'</dd>\n",
       "\t<dt>[[5]]</dt>\n",
       "\t\t<dd>32</dd>\n",
       "\t<dt>$Nivel</dt>\n",
       "\t\t<dd>4</dd>\n",
       "</dl>\n"
      ],
      "text/latex": [
       "\\begin{description}\n",
       "\\item[{[[1]]}] 'Mónica'\n",
       "\\item[{[[2]]}] 'M'\n",
       "\\item[{[[3]]}] 'Casada'\n",
       "\\item[{[[4]]}] 'Española'\n",
       "\\item[{[[5]]}] 32\n",
       "\\item[\\$Nivel] 4\n",
       "\\end{description}\n"
      ],
      "text/markdown": [
       "[[1]]\n",
       ":   'Mónica'\n",
       "[[2]]\n",
       ":   'M'\n",
       "[[3]]\n",
       ":   'Casada'\n",
       "[[4]]\n",
       ":   'Española'\n",
       "[[5]]\n",
       ":   32\n",
       "$Nivel\n",
       ":   4\n",
       "\n",
       "\n"
      ],
      "text/plain": [
       "[[1]]\n",
       "[1] \"Mónica\"\n",
       "\n",
       "[[2]]\n",
       "[1] \"M\"\n",
       "\n",
       "[[3]]\n",
       "[1] \"Casada\"\n",
       "\n",
       "[[4]]\n",
       "[1] \"Española\"\n",
       "\n",
       "[[5]]\n",
       "[1] 32\n",
       "\n",
       "$Nivel\n",
       "[1] 4\n"
      ]
     },
     "metadata": {},
     "output_type": "display_data"
    }
   ],
   "source": [
    "## Aunque, las etiquetas de los elementos, por ejemplo, \"Nombre\", son opcionales, también se puede hacer:\n",
    "\n",
    "emp2 <- list(\"Mónica\", \"M\", \"Casada\", \"Española\", 32, Nivel=4)\n",
    "emp2"
   ]
  },
  {
   "cell_type": "markdown",
   "metadata": {},
   "source": [
    "Los nombres de los elementos en una lista se llaman “tags”. Estos se pueden obtener con el operador “names()”:\n"
   ]
  },
  {
   "cell_type": "code",
   "execution_count": 25,
   "metadata": {},
   "outputs": [
    {
     "data": {
      "text/html": [
       "<style>\n",
       ".list-inline {list-style: none; margin:0; padding: 0}\n",
       ".list-inline>li {display: inline-block}\n",
       ".list-inline>li:not(:last-child)::after {content: \"\\00b7\"; padding: 0 .5ex}\n",
       "</style>\n",
       "<ol class=list-inline><li>'Nombre'</li><li>'Sexo'</li><li>'EstadoCivil'</li><li>'Nacionalidad'</li><li>'Edad'</li><li>'Nivel'</li></ol>\n"
      ],
      "text/latex": [
       "\\begin{enumerate*}\n",
       "\\item 'Nombre'\n",
       "\\item 'Sexo'\n",
       "\\item 'EstadoCivil'\n",
       "\\item 'Nacionalidad'\n",
       "\\item 'Edad'\n",
       "\\item 'Nivel'\n",
       "\\end{enumerate*}\n"
      ],
      "text/markdown": [
       "1. 'Nombre'\n",
       "2. 'Sexo'\n",
       "3. 'EstadoCivil'\n",
       "4. 'Nacionalidad'\n",
       "5. 'Edad'\n",
       "6. 'Nivel'\n",
       "\n",
       "\n"
      ],
      "text/plain": [
       "[1] \"Nombre\"       \"Sexo\"         \"EstadoCivil\"  \"Nacionalidad\" \"Edad\"        \n",
       "[6] \"Nivel\"       "
      ]
     },
     "metadata": {},
     "output_type": "display_data"
    }
   ],
   "source": [
    "names(emp)"
   ]
  },
  {
   "cell_type": "markdown",
   "metadata": {},
   "source": [
    "Para obtener los valores se usa “unlist()”:\n"
   ]
  },
  {
   "cell_type": "code",
   "execution_count": 26,
   "metadata": {},
   "outputs": [
    {
     "data": {
      "text/html": [
       "<style>\n",
       ".dl-inline {width: auto; margin:0; padding: 0}\n",
       ".dl-inline>dt, .dl-inline>dd {float: none; width: auto; display: inline-block}\n",
       ".dl-inline>dt::after {content: \":\\0020\"; padding-right: .5ex}\n",
       ".dl-inline>dt:not(:first-of-type) {padding-left: .5ex}\n",
       "</style><dl class=dl-inline><dt>Nombre</dt><dd>'Ana'</dd><dt>Sexo</dt><dd>'M'</dd><dt>EstadoCivil</dt><dd>'Soltera'</dd><dt>Nacionalidad</dt><dd>'Argentina'</dd><dt>Edad</dt><dd>'49'</dd><dt>Nivel</dt><dd>'1'</dd></dl>\n"
      ],
      "text/latex": [
       "\\begin{description*}\n",
       "\\item[Nombre] 'Ana'\n",
       "\\item[Sexo] 'M'\n",
       "\\item[EstadoCivil] 'Soltera'\n",
       "\\item[Nacionalidad] 'Argentina'\n",
       "\\item[Edad] '49'\n",
       "\\item[Nivel] '1'\n",
       "\\end{description*}\n"
      ],
      "text/markdown": [
       "Nombre\n",
       ":   'Ana'Sexo\n",
       ":   'M'EstadoCivil\n",
       ":   'Soltera'Nacionalidad\n",
       ":   'Argentina'Edad\n",
       ":   '49'Nivel\n",
       ":   '1'\n",
       "\n"
      ],
      "text/plain": [
       "      Nombre         Sexo  EstadoCivil Nacionalidad         Edad        Nivel \n",
       "       \"Ana\"          \"M\"    \"Soltera\"  \"Argentina\"         \"49\"          \"1\" "
      ]
     },
     "metadata": {},
     "output_type": "display_data"
    }
   ],
   "source": [
    "ulemp  <- unlist(emp)\n",
    "ulemp"
   ]
  },
  {
   "cell_type": "markdown",
   "metadata": {},
   "source": [
    "El retorno de “unlist()” es un vector modo carácter, o sea, un vector de “strings”.\n",
    "Las listas de R tienen cierta semejanza a los “struct” del lenguaje C, por ejemplo, una lista x con dos elementos\n"
   ]
  },
  {
   "cell_type": "code",
   "execution_count": 27,
   "metadata": {},
   "outputs": [
    {
     "data": {
      "text/html": [
       "<dl>\n",
       "\t<dt>$abc</dt>\n",
       "\t\t<dd>'Luis'</dd>\n",
       "\t<dt>$de</dt>\n",
       "\t\t<dd>5</dd>\n",
       "</dl>\n"
      ],
      "text/latex": [
       "\\begin{description}\n",
       "\\item[\\$abc] 'Luis'\n",
       "\\item[\\$de] 5\n",
       "\\end{description}\n"
      ],
      "text/markdown": [
       "$abc\n",
       ":   'Luis'\n",
       "$de\n",
       ":   5\n",
       "\n",
       "\n"
      ],
      "text/plain": [
       "$abc\n",
       "[1] \"Luis\"\n",
       "\n",
       "$de\n",
       "[1] 5\n"
      ]
     },
     "metadata": {},
     "output_type": "display_data"
    }
   ],
   "source": [
    "x <- list(abc=\"Luis\",  de=5)\n",
    "x"
   ]
  },
  {
   "cell_type": "markdown",
   "metadata": {},
   "source": [
    "Así la lista x tiene dos elementos:\n"
   ]
  },
  {
   "cell_type": "code",
   "execution_count": 28,
   "metadata": {},
   "outputs": [
    {
     "data": {
      "text/html": [
       "'Luis'"
      ],
      "text/latex": [
       "'Luis'"
      ],
      "text/markdown": [
       "'Luis'"
      ],
      "text/plain": [
       "[1] \"Luis\""
      ]
     },
     "metadata": {},
     "output_type": "display_data"
    }
   ],
   "source": [
    "x$abc\n"
   ]
  },
  {
   "cell_type": "code",
   "execution_count": 29,
   "metadata": {},
   "outputs": [
    {
     "data": {
      "text/html": [
       "5"
      ],
      "text/latex": [
       "5"
      ],
      "text/markdown": [
       "5"
      ],
      "text/plain": [
       "[1] 5"
      ]
     },
     "metadata": {},
     "output_type": "display_data"
    }
   ],
   "source": [
    "x$de\n"
   ]
  },
  {
   "cell_type": "markdown",
   "metadata": {},
   "source": [
    "El operador “$” en R funciona como el operador “.” en C.\n"
   ]
  },
  {
   "cell_type": "code",
   "execution_count": 30,
   "metadata": {},
   "outputs": [
    {
     "data": {
      "text/html": [
       "<style>\n",
       ".list-inline {list-style: none; margin:0; padding: 0}\n",
       ".list-inline>li {display: inline-block}\n",
       ".list-inline>li:not(:last-child)::after {content: \"\\00b7\"; padding: 0 .5ex}\n",
       "</style>\n",
       "<ol class=list-inline><li>'abc'</li><li>'de'</li></ol>\n"
      ],
      "text/latex": [
       "\\begin{enumerate*}\n",
       "\\item 'abc'\n",
       "\\item 'de'\n",
       "\\end{enumerate*}\n"
      ],
      "text/markdown": [
       "1. 'abc'\n",
       "2. 'de'\n",
       "\n",
       "\n"
      ],
      "text/plain": [
       "[1] \"abc\" \"de\" "
      ]
     },
     "metadata": {},
     "output_type": "display_data"
    }
   ],
   "source": [
    "names(x)\n"
   ]
  },
  {
   "cell_type": "code",
   "execution_count": 31,
   "metadata": {},
   "outputs": [
    {
     "data": {
      "text/html": [
       "<dl>\n",
       "\t<dt>$abc</dt>\n",
       "\t\t<dd>'Luis'</dd>\n",
       "\t<dt>$de</dt>\n",
       "\t\t<dd>5</dd>\n",
       "</dl>\n"
      ],
      "text/latex": [
       "\\begin{description}\n",
       "\\item[\\$abc] 'Luis'\n",
       "\\item[\\$de] 5\n",
       "\\end{description}\n"
      ],
      "text/markdown": [
       "$abc\n",
       ":   'Luis'\n",
       "$de\n",
       ":   5\n",
       "\n",
       "\n"
      ],
      "text/plain": [
       "$abc\n",
       "[1] \"Luis\"\n",
       "\n",
       "$de\n",
       "[1] 5\n"
      ]
     },
     "metadata": {},
     "output_type": "display_data"
    }
   ],
   "source": [
    "ulx <-  unlist(x)\n",
    "x"
   ]
  },
  {
   "cell_type": "code",
   "execution_count": 32,
   "metadata": {},
   "outputs": [
    {
     "data": {
      "text/html": [
       "'character'"
      ],
      "text/latex": [
       "'character'"
      ],
      "text/markdown": [
       "'character'"
      ],
      "text/plain": [
       "[1] \"character\""
      ]
     },
     "metadata": {},
     "output_type": "display_data"
    }
   ],
   "source": [
    "class(ulx)\n"
   ]
  },
  {
   "cell_type": "markdown",
   "metadata": {},
   "source": [
    "Subconjuntos de datos.\n",
    "Una de las principales tareas del procesamiento de datos es crear subconjuntos de datos, para su posterior análisis.\n",
    "En R tres de los operadores que permiten crear subconjuntos, son: $, [[]], [].\n",
    "El símbolo $ se utiliza para designar elementos con nombre de una lista, pero también [[ ]] trabaja para hacer referencia a un solo elemento.\n",
    "Recordando que emp está definido por\n",
    "emp <- list(Nombre=“Ana”, Sexo=“M”, EstadoCivil=“Soltera”, Nacionalidad=“Argentina”, Edad= 49, Nivel=1)\n",
    "entonces:"
   ]
  },
  {
   "cell_type": "code",
   "execution_count": 33,
   "metadata": {},
   "outputs": [
    {
     "data": {
      "text/html": [
       "<dl>\n",
       "\t<dt>$Nombre</dt>\n",
       "\t\t<dd>'Ana'</dd>\n",
       "\t<dt>$Sexo</dt>\n",
       "\t\t<dd>'M'</dd>\n",
       "\t<dt>$EstadoCivil</dt>\n",
       "\t\t<dd>'Soltera'</dd>\n",
       "\t<dt>$Nacionalidad</dt>\n",
       "\t\t<dd>'Argentina'</dd>\n",
       "\t<dt>$Edad</dt>\n",
       "\t\t<dd>49</dd>\n",
       "\t<dt>$Nivel</dt>\n",
       "\t\t<dd>1</dd>\n",
       "</dl>\n"
      ],
      "text/latex": [
       "\\begin{description}\n",
       "\\item[\\$Nombre] 'Ana'\n",
       "\\item[\\$Sexo] 'M'\n",
       "\\item[\\$EstadoCivil] 'Soltera'\n",
       "\\item[\\$Nacionalidad] 'Argentina'\n",
       "\\item[\\$Edad] 49\n",
       "\\item[\\$Nivel] 1\n",
       "\\end{description}\n"
      ],
      "text/markdown": [
       "$Nombre\n",
       ":   'Ana'\n",
       "$Sexo\n",
       ":   'M'\n",
       "$EstadoCivil\n",
       ":   'Soltera'\n",
       "$Nacionalidad\n",
       ":   'Argentina'\n",
       "$Edad\n",
       ":   49\n",
       "$Nivel\n",
       ":   1\n",
       "\n",
       "\n"
      ],
      "text/plain": [
       "$Nombre\n",
       "[1] \"Ana\"\n",
       "\n",
       "$Sexo\n",
       "[1] \"M\"\n",
       "\n",
       "$EstadoCivil\n",
       "[1] \"Soltera\"\n",
       "\n",
       "$Nacionalidad\n",
       "[1] \"Argentina\"\n",
       "\n",
       "$Edad\n",
       "[1] 49\n",
       "\n",
       "$Nivel\n",
       "[1] 1\n"
      ]
     },
     "metadata": {},
     "output_type": "display_data"
    }
   ],
   "source": [
    "emp <- list(Nombre=\"Ana\", Sexo=\"M\", EstadoCivil=\"Soltera\", Nacionalidad=\"Argentina\", Edad= 49, Nivel=1)\n",
    "emp"
   ]
  },
  {
   "cell_type": "code",
   "execution_count": 34,
   "metadata": {},
   "outputs": [
    {
     "data": {
      "text/html": [
       "'Argentina'"
      ],
      "text/latex": [
       "'Argentina'"
      ],
      "text/markdown": [
       "'Argentina'"
      ],
      "text/plain": [
       "[1] \"Argentina\""
      ]
     },
     "metadata": {},
     "output_type": "display_data"
    }
   ],
   "source": [
    "emp$Nacionalidad"
   ]
  },
  {
   "cell_type": "code",
   "execution_count": 35,
   "metadata": {},
   "outputs": [
    {
     "data": {
      "text/html": [
       "'Soltera'"
      ],
      "text/latex": [
       "'Soltera'"
      ],
      "text/markdown": [
       "'Soltera'"
      ],
      "text/plain": [
       "[1] \"Soltera\""
      ]
     },
     "metadata": {},
     "output_type": "display_data"
    }
   ],
   "source": [
    "emp[[3]]"
   ]
  },
  {
   "cell_type": "markdown",
   "metadata": {},
   "source": [
    "Hojas de datos o Data Frames.\n",
    "Un Data Frame u hoja de datos,es una lista cuyos componentes pueden ser vectores, matrices o factores.\n",
    "Son la manera más eficiente mediante la cual R, puede analizar estadísticamente un conjunto de datos. Los Data Frames se configuran de tal manera que cada fila se refiere a un individuo y cada columna hace referencia a una variable que define al individuo.\n",
    "Esta configuración hace que visualmente una hoja de datos o Data Frame parezca una matriz. Sin embargo, como objetos de R, son cosas distintas. Por ejemplo para construir un Data Frame con los datos de 3 personas, que incluyan el color de ojos, peso y altura. Se debe hcer el siguiente procedimiento:"
   ]
  },
  {
   "cell_type": "code",
   "execution_count": 36,
   "metadata": {},
   "outputs": [
    {
     "data": {
      "text/html": [
       "<style>\n",
       ".list-inline {list-style: none; margin:0; padding: 0}\n",
       ".list-inline>li {display: inline-block}\n",
       ".list-inline>li:not(:last-child)::after {content: \"\\00b7\"; padding: 0 .5ex}\n",
       "</style>\n",
       "<ol class=list-inline><li>Azules</li><li>Marrones</li><li>Marrones</li></ol>\n",
       "\n",
       "<details>\n",
       "\t<summary style=display:list-item;cursor:pointer>\n",
       "\t\t<strong>Levels</strong>:\n",
       "\t</summary>\n",
       "\t<style>\n",
       "\t.list-inline {list-style: none; margin:0; padding: 0}\n",
       "\t.list-inline>li {display: inline-block}\n",
       "\t.list-inline>li:not(:last-child)::after {content: \"\\00b7\"; padding: 0 .5ex}\n",
       "\t</style>\n",
       "\t<ol class=list-inline><li>'Azules'</li><li>'Marrones'</li><li>'Verdes'</li><li>'Negros'</li></ol>\n",
       "</details>"
      ],
      "text/latex": [
       "\\begin{enumerate*}\n",
       "\\item Azules\n",
       "\\item Marrones\n",
       "\\item Marrones\n",
       "\\end{enumerate*}\n",
       "\n",
       "\\emph{Levels}: \\begin{enumerate*}\n",
       "\\item 'Azules'\n",
       "\\item 'Marrones'\n",
       "\\item 'Verdes'\n",
       "\\item 'Negros'\n",
       "\\end{enumerate*}\n"
      ],
      "text/markdown": [
       "1. Azules\n",
       "2. Marrones\n",
       "3. Marrones\n",
       "\n",
       "\n",
       "\n",
       "**Levels**: 1. 'Azules'\n",
       "2. 'Marrones'\n",
       "3. 'Verdes'\n",
       "4. 'Negros'\n",
       "\n",
       "\n"
      ],
      "text/plain": [
       "[1] Azules   Marrones Marrones\n",
       "Levels: Azules Marrones Verdes Negros"
      ]
     },
     "metadata": {},
     "output_type": "display_data"
    }
   ],
   "source": [
    "# Se inicia definiendo el color de los ojos:\n",
    "ojos<-factor(c(\"Azules\",\"Marrones\",\"Marrones\"), levels=c(\"Azules\",\"Marrones\",\"Verdes\",\"Negros\"))\n",
    "ojos"
   ]
  },
  {
   "cell_type": "code",
   "execution_count": 37,
   "metadata": {},
   "outputs": [
    {
     "data": {
      "text/html": [
       "<table>\n",
       "<caption>A data.frame: 3 × 3</caption>\n",
       "<thead>\n",
       "\t<tr><th scope=col>Color.ojos</th><th scope=col>Peso</th><th scope=col>Altura</th></tr>\n",
       "\t<tr><th scope=col>&lt;fct&gt;</th><th scope=col>&lt;dbl&gt;</th><th scope=col>&lt;dbl&gt;</th></tr>\n",
       "</thead>\n",
       "<tbody>\n",
       "\t<tr><td>Azules  </td><td>68</td><td>1.65</td></tr>\n",
       "\t<tr><td>Marrones</td><td>75</td><td>1.79</td></tr>\n",
       "\t<tr><td>Marrones</td><td>88</td><td>1.85</td></tr>\n",
       "</tbody>\n",
       "</table>\n"
      ],
      "text/latex": [
       "A data.frame: 3 × 3\n",
       "\\begin{tabular}{lll}\n",
       " Color.ojos & Peso & Altura\\\\\n",
       " <fct> & <dbl> & <dbl>\\\\\n",
       "\\hline\n",
       "\t Azules   & 68 & 1.65\\\\\n",
       "\t Marrones & 75 & 1.79\\\\\n",
       "\t Marrones & 88 & 1.85\\\\\n",
       "\\end{tabular}\n"
      ],
      "text/markdown": [
       "\n",
       "A data.frame: 3 × 3\n",
       "\n",
       "| Color.ojos &lt;fct&gt; | Peso &lt;dbl&gt; | Altura &lt;dbl&gt; |\n",
       "|---|---|---|\n",
       "| Azules   | 68 | 1.65 |\n",
       "| Marrones | 75 | 1.79 |\n",
       "| Marrones | 88 | 1.85 |\n",
       "\n"
      ],
      "text/plain": [
       "  Color.ojos Peso Altura\n",
       "1 Azules     68   1.65  \n",
       "2 Marrones   75   1.79  \n",
       "3 Marrones   88   1.85  "
      ]
     },
     "metadata": {},
     "output_type": "display_data"
    }
   ],
   "source": [
    "## Suponiendo que los peso son, 68, 75, 88 y las alturas 1.65, 1.79, 1.85 respectivamente. Entonces, se define la hoja de datos mediante:\n",
    "\n",
    "datos<-data.frame(Color.ojos=ojos,Peso=c(68,75,88),Altura=c(1.65,1.79,1.85))\n",
    "datos"
   ]
  },
  {
   "cell_type": "code",
   "execution_count": 38,
   "metadata": {},
   "outputs": [
    {
     "name": "stdout",
     "output_type": "stream",
     "text": [
      "'data.frame':\t3 obs. of  3 variables:\n",
      " $ Color.ojos: Factor w/ 4 levels \"Azules\",\"Marrones\",..: 1 2 2\n",
      " $ Peso      : num  68 75 88\n",
      " $ Altura    : num  1.65 1.79 1.85\n"
     ]
    }
   ],
   "source": [
    "##Así, se tienen tres variables, llamadas Color.ojos, Peso y Altura. \n",
    "\n",
    "## Medinte el comando str se puede ver la estructura y tipos del Data Frame:\n",
    "## Con la función str(datos) se muestra, que Color.ojos es una variable de tipo factor, peso y altura son variables numéricas. \n",
    "str(datos)"
   ]
  },
  {
   "cell_type": "code",
   "execution_count": 39,
   "metadata": {},
   "outputs": [
    {
     "data": {
      "text/html": [
       "<table>\n",
       "<caption>A matrix: 4 × 3 of type dbl</caption>\n",
       "<tbody>\n",
       "\t<tr><td> 1</td><td> 2</td><td> 3</td></tr>\n",
       "\t<tr><td> 4</td><td> 5</td><td> 6</td></tr>\n",
       "\t<tr><td> 7</td><td> 8</td><td> 9</td></tr>\n",
       "\t<tr><td>10</td><td>11</td><td>12</td></tr>\n",
       "</tbody>\n",
       "</table>\n"
      ],
      "text/latex": [
       "A matrix: 4 × 3 of type dbl\n",
       "\\begin{tabular}{lll}\n",
       "\t  1 &  2 &  3\\\\\n",
       "\t  4 &  5 &  6\\\\\n",
       "\t  7 &  8 &  9\\\\\n",
       "\t 10 & 11 & 12\\\\\n",
       "\\end{tabular}\n"
      ],
      "text/markdown": [
       "\n",
       "A matrix: 4 × 3 of type dbl\n",
       "\n",
       "|  1 |  2 |  3 |\n",
       "|  4 |  5 |  6 |\n",
       "|  7 |  8 |  9 |\n",
       "| 10 | 11 | 12 |\n",
       "\n"
      ],
      "text/plain": [
       "     [,1] [,2] [,3]\n",
       "[1,]  1    2    3  \n",
       "[2,]  4    5    6  \n",
       "[3,]  7    8    9  \n",
       "[4,] 10   11   12  "
      ]
     },
     "metadata": {},
     "output_type": "display_data"
    }
   ],
   "source": [
    "## También se puede convertir una matriz en una hoja de datos mediante la función as.data.frame. \n",
    "## Por ejemplo la siguiente instrucción convertirá la matriz d en una hoja de datos.\n",
    "\n",
    "m1<-matrix(c(1,2,3,4,5,6,7,8,9,10,11,12),nrow=4, ncol=3, byrow = T)\n",
    "m1"
   ]
  },
  {
   "cell_type": "code",
   "execution_count": 40,
   "metadata": {},
   "outputs": [
    {
     "data": {
      "text/html": [
       "<table>\n",
       "<caption>A data.frame: 4 × 3</caption>\n",
       "<thead>\n",
       "\t<tr><th scope=col>V1</th><th scope=col>V2</th><th scope=col>V3</th></tr>\n",
       "\t<tr><th scope=col>&lt;dbl&gt;</th><th scope=col>&lt;dbl&gt;</th><th scope=col>&lt;dbl&gt;</th></tr>\n",
       "</thead>\n",
       "<tbody>\n",
       "\t<tr><td> 1</td><td> 2</td><td> 3</td></tr>\n",
       "\t<tr><td> 4</td><td> 5</td><td> 6</td></tr>\n",
       "\t<tr><td> 7</td><td> 8</td><td> 9</td></tr>\n",
       "\t<tr><td>10</td><td>11</td><td>12</td></tr>\n",
       "</tbody>\n",
       "</table>\n"
      ],
      "text/latex": [
       "A data.frame: 4 × 3\n",
       "\\begin{tabular}{lll}\n",
       " V1 & V2 & V3\\\\\n",
       " <dbl> & <dbl> & <dbl>\\\\\n",
       "\\hline\n",
       "\t  1 &  2 &  3\\\\\n",
       "\t  4 &  5 &  6\\\\\n",
       "\t  7 &  8 &  9\\\\\n",
       "\t 10 & 11 & 12\\\\\n",
       "\\end{tabular}\n"
      ],
      "text/markdown": [
       "\n",
       "A data.frame: 4 × 3\n",
       "\n",
       "| V1 &lt;dbl&gt; | V2 &lt;dbl&gt; | V3 &lt;dbl&gt; |\n",
       "|---|---|---|\n",
       "|  1 |  2 |  3 |\n",
       "|  4 |  5 |  6 |\n",
       "|  7 |  8 |  9 |\n",
       "| 10 | 11 | 12 |\n",
       "\n"
      ],
      "text/plain": [
       "  V1 V2 V3\n",
       "1  1  2  3\n",
       "2  4  5  6\n",
       "3  7  8  9\n",
       "4 10 11 12"
      ]
     },
     "metadata": {},
     "output_type": "display_data"
    }
   ],
   "source": [
    "datos2<-as.data.frame(m1)\n",
    "datos2"
   ]
  },
  {
   "cell_type": "code",
   "execution_count": 41,
   "metadata": {},
   "outputs": [
    {
     "data": {
      "text/html": [
       "<style>\n",
       ".list-inline {list-style: none; margin:0; padding: 0}\n",
       ".list-inline>li {display: inline-block}\n",
       ".list-inline>li:not(:last-child)::after {content: \"\\00b7\"; padding: 0 .5ex}\n",
       "</style>\n",
       "<ol class=list-inline><li>'V1'</li><li>'V2'</li><li>'V3'</li></ol>\n"
      ],
      "text/latex": [
       "\\begin{enumerate*}\n",
       "\\item 'V1'\n",
       "\\item 'V2'\n",
       "\\item 'V3'\n",
       "\\end{enumerate*}\n"
      ],
      "text/markdown": [
       "1. 'V1'\n",
       "2. 'V2'\n",
       "3. 'V3'\n",
       "\n",
       "\n"
      ],
      "text/plain": [
       "[1] \"V1\" \"V2\" \"V3\""
      ]
     },
     "metadata": {},
     "output_type": "display_data"
    }
   ],
   "source": [
    "##Si se quiere consultar los nombres con los que quedaron las variables se hace con names(datos2):\n",
    "names(datos2)"
   ]
  },
  {
   "cell_type": "code",
   "execution_count": 42,
   "metadata": {},
   "outputs": [
    {
     "data": {
      "text/html": [
       "<table>\n",
       "<caption>A data.frame: 4 × 3</caption>\n",
       "<thead>\n",
       "\t<tr><th scope=col>Variable 1</th><th scope=col>Variable 2</th><th scope=col>Variable 3</th></tr>\n",
       "\t<tr><th scope=col>&lt;dbl&gt;</th><th scope=col>&lt;dbl&gt;</th><th scope=col>&lt;dbl&gt;</th></tr>\n",
       "</thead>\n",
       "<tbody>\n",
       "\t<tr><td> 1</td><td> 2</td><td> 3</td></tr>\n",
       "\t<tr><td> 4</td><td> 5</td><td> 6</td></tr>\n",
       "\t<tr><td> 7</td><td> 8</td><td> 9</td></tr>\n",
       "\t<tr><td>10</td><td>11</td><td>12</td></tr>\n",
       "</tbody>\n",
       "</table>\n"
      ],
      "text/latex": [
       "A data.frame: 4 × 3\n",
       "\\begin{tabular}{lll}\n",
       " Variable 1 & Variable 2 & Variable 3\\\\\n",
       " <dbl> & <dbl> & <dbl>\\\\\n",
       "\\hline\n",
       "\t  1 &  2 &  3\\\\\n",
       "\t  4 &  5 &  6\\\\\n",
       "\t  7 &  8 &  9\\\\\n",
       "\t 10 & 11 & 12\\\\\n",
       "\\end{tabular}\n"
      ],
      "text/markdown": [
       "\n",
       "A data.frame: 4 × 3\n",
       "\n",
       "| Variable 1 &lt;dbl&gt; | Variable 2 &lt;dbl&gt; | Variable 3 &lt;dbl&gt; |\n",
       "|---|---|---|\n",
       "|  1 |  2 |  3 |\n",
       "|  4 |  5 |  6 |\n",
       "|  7 |  8 |  9 |\n",
       "| 10 | 11 | 12 |\n",
       "\n"
      ],
      "text/plain": [
       "  Variable 1 Variable 2 Variable 3\n",
       "1  1          2          3        \n",
       "2  4          5          6        \n",
       "3  7          8          9        \n",
       "4 10         11         12        "
      ]
     },
     "metadata": {},
     "output_type": "display_data"
    }
   ],
   "source": [
    "## Pero se puede modificar usando la función names(), forzando la asignación como sigue:\n",
    "\n",
    "names(datos2)<-c(\"Variable 1\",\"Variable 2\",\"Variable 3\")\n",
    "datos2"
   ]
  },
  {
   "cell_type": "code",
   "execution_count": 43,
   "metadata": {},
   "outputs": [
    {
     "data": {
      "text/html": [
       "<table>\n",
       "<caption>A data.frame: 4 × 3</caption>\n",
       "<thead>\n",
       "\t<tr><th scope=col>Variable 1</th><th scope=col>Variable 2</th><th scope=col>Variable 3</th></tr>\n",
       "\t<tr><th scope=col>&lt;dbl&gt;</th><th scope=col>&lt;dbl&gt;</th><th scope=col>&lt;dbl&gt;</th></tr>\n",
       "</thead>\n",
       "<tbody>\n",
       "\t<tr><td> 1</td><td> 2</td><td> 3</td></tr>\n",
       "\t<tr><td> 4</td><td> 5</td><td> 6</td></tr>\n",
       "\t<tr><td> 7</td><td> 8</td><td> 9</td></tr>\n",
       "\t<tr><td>10</td><td>11</td><td>12</td></tr>\n",
       "</tbody>\n",
       "</table>\n"
      ],
      "text/latex": [
       "A data.frame: 4 × 3\n",
       "\\begin{tabular}{lll}\n",
       " Variable 1 & Variable 2 & Variable 3\\\\\n",
       " <dbl> & <dbl> & <dbl>\\\\\n",
       "\\hline\n",
       "\t  1 &  2 &  3\\\\\n",
       "\t  4 &  5 &  6\\\\\n",
       "\t  7 &  8 &  9\\\\\n",
       "\t 10 & 11 & 12\\\\\n",
       "\\end{tabular}\n"
      ],
      "text/markdown": [
       "\n",
       "A data.frame: 4 × 3\n",
       "\n",
       "| Variable 1 &lt;dbl&gt; | Variable 2 &lt;dbl&gt; | Variable 3 &lt;dbl&gt; |\n",
       "|---|---|---|\n",
       "|  1 |  2 |  3 |\n",
       "|  4 |  5 |  6 |\n",
       "|  7 |  8 |  9 |\n",
       "| 10 | 11 | 12 |\n",
       "\n"
      ],
      "text/plain": [
       "  Variable 1 Variable 2 Variable 3\n",
       "1  1          2          3        \n",
       "2  4          5          6        \n",
       "3  7          8          9        \n",
       "4 10         11         12        "
      ]
     },
     "metadata": {},
     "output_type": "display_data"
    }
   ],
   "source": [
    "## Pero se puede modificar usando la función names(), forzando la asignación como sigue:\n",
    "\n",
    "names(datos2)<-c(\"Variable 1\",\"Variable 2\",\"Variable 3\")\n",
    "datos2"
   ]
  },
  {
   "cell_type": "markdown",
   "metadata": {},
   "source": [
    "Existen dos maneras para poder acceder a los elementos de una hoja de datos:\n",
    "a) Usando el mismo método que para las matrices.\n",
    "b) Usando el operador $ por ejemplo para obtener los datos de la variable Color.ojos, se escribe:"
   ]
  },
  {
   "cell_type": "code",
   "execution_count": 44,
   "metadata": {},
   "outputs": [
    {
     "data": {
      "text/html": [
       "<style>\n",
       ".list-inline {list-style: none; margin:0; padding: 0}\n",
       ".list-inline>li {display: inline-block}\n",
       ".list-inline>li:not(:last-child)::after {content: \"\\00b7\"; padding: 0 .5ex}\n",
       "</style>\n",
       "<ol class=list-inline><li>Azules</li><li>Marrones</li><li>Marrones</li></ol>\n",
       "\n",
       "<details>\n",
       "\t<summary style=display:list-item;cursor:pointer>\n",
       "\t\t<strong>Levels</strong>:\n",
       "\t</summary>\n",
       "\t<style>\n",
       "\t.list-inline {list-style: none; margin:0; padding: 0}\n",
       "\t.list-inline>li {display: inline-block}\n",
       "\t.list-inline>li:not(:last-child)::after {content: \"\\00b7\"; padding: 0 .5ex}\n",
       "\t</style>\n",
       "\t<ol class=list-inline><li>'Azules'</li><li>'Marrones'</li><li>'Verdes'</li><li>'Negros'</li></ol>\n",
       "</details>"
      ],
      "text/latex": [
       "\\begin{enumerate*}\n",
       "\\item Azules\n",
       "\\item Marrones\n",
       "\\item Marrones\n",
       "\\end{enumerate*}\n",
       "\n",
       "\\emph{Levels}: \\begin{enumerate*}\n",
       "\\item 'Azules'\n",
       "\\item 'Marrones'\n",
       "\\item 'Verdes'\n",
       "\\item 'Negros'\n",
       "\\end{enumerate*}\n"
      ],
      "text/markdown": [
       "1. Azules\n",
       "2. Marrones\n",
       "3. Marrones\n",
       "\n",
       "\n",
       "\n",
       "**Levels**: 1. 'Azules'\n",
       "2. 'Marrones'\n",
       "3. 'Verdes'\n",
       "4. 'Negros'\n",
       "\n",
       "\n"
      ],
      "text/plain": [
       "[1] Azules   Marrones Marrones\n",
       "Levels: Azules Marrones Verdes Negros"
      ]
     },
     "metadata": {},
     "output_type": "display_data"
    }
   ],
   "source": [
    "datos$Color.ojos\n"
   ]
  },
  {
   "cell_type": "markdown",
   "metadata": {},
   "source": [
    "Las funciones nrow() y ncol() sirven Para conocer el número de filas y de columnas de una hoja de datos.\n"
   ]
  },
  {
   "cell_type": "code",
   "execution_count": 45,
   "metadata": {},
   "outputs": [
    {
     "data": {
      "text/html": [
       "3"
      ],
      "text/latex": [
       "3"
      ],
      "text/markdown": [
       "3"
      ],
      "text/plain": [
       "[1] 3"
      ]
     },
     "metadata": {},
     "output_type": "display_data"
    }
   ],
   "source": [
    "ncol(datos)\n"
   ]
  },
  {
   "cell_type": "code",
   "execution_count": 46,
   "metadata": {},
   "outputs": [
    {
     "data": {
      "text/html": [
       "3"
      ],
      "text/latex": [
       "3"
      ],
      "text/markdown": [
       "3"
      ],
      "text/plain": [
       "[1] 3"
      ]
     },
     "metadata": {},
     "output_type": "display_data"
    }
   ],
   "source": [
    "nrow(datos)\n"
   ]
  },
  {
   "cell_type": "markdown",
   "metadata": {},
   "source": [
    " Para estar seguros qué tipo de datos son con los que se esta trabajando, en R existen funciones, que pueden informar sobre el tipo de los objetos.\n",
    "Las funciones, is.vector() para vectores, is.matrix() para matrices y la función is.data.frame() para los Data Frames, respectivamente. Indican el tipo de datos que confirma o rechaza la consulta. Si el resultado de la función es verdadero, se trata del tipo de objeto consultado, en caso contrario el resultado de la función será False.\n",
    "O bien se puede utilizar el operador class que devuelve directamente la clase a la que pertenece el objeto o instancia. Por ejemplo:"
   ]
  },
  {
   "cell_type": "code",
   "execution_count": 47,
   "metadata": {},
   "outputs": [
    {
     "data": {
      "text/html": [
       "'matrix'"
      ],
      "text/latex": [
       "'matrix'"
      ],
      "text/markdown": [
       "'matrix'"
      ],
      "text/plain": [
       "[1] \"matrix\""
      ]
     },
     "metadata": {},
     "output_type": "display_data"
    }
   ],
   "source": [
    "class(m1)\n"
   ]
  },
  {
   "cell_type": "code",
   "execution_count": 48,
   "metadata": {},
   "outputs": [
    {
     "data": {
      "text/html": [
       "'data.frame'"
      ],
      "text/latex": [
       "'data.frame'"
      ],
      "text/markdown": [
       "'data.frame'"
      ],
      "text/plain": [
       "[1] \"data.frame\""
      ]
     },
     "metadata": {},
     "output_type": "display_data"
    }
   ],
   "source": [
    "class(datos) \n"
   ]
  },
  {
   "cell_type": "code",
   "execution_count": 49,
   "metadata": {},
   "outputs": [
    {
     "data": {
      "text/html": [
       "'list'"
      ],
      "text/latex": [
       "'list'"
      ],
      "text/markdown": [
       "'list'"
      ],
      "text/plain": [
       "[1] \"list\""
      ]
     },
     "metadata": {},
     "output_type": "display_data"
    }
   ],
   "source": [
    "class(x)"
   ]
  },
  {
   "cell_type": "markdown",
   "metadata": {},
   "source": [
    "## 3.5. Lectura de datos de un fichero\n",
    "Como se mostró en un ejemplo anterior se pueden leer datos de un fichero, con la función read.table.\n"
   ]
  },
  {
   "cell_type": "code",
   "execution_count": 50,
   "metadata": {},
   "outputs": [
    {
     "data": {
      "text/html": [
       "<table>\n",
       "<caption>A data.frame: 10 × 5</caption>\n",
       "<thead>\n",
       "\t<tr><th></th><th scope=col>Sexo</th><th scope=col>EstadoCivil</th><th scope=col>Nacionalidad</th><th scope=col>Edad</th><th scope=col>Nivel</th></tr>\n",
       "\t<tr><th></th><th scope=col>&lt;fct&gt;</th><th scope=col>&lt;fct&gt;</th><th scope=col>&lt;fct&gt;</th><th scope=col>&lt;int&gt;</th><th scope=col>&lt;int&gt;</th></tr>\n",
       "</thead>\n",
       "<tbody>\n",
       "\t<tr><th scope=row>Juan</th><td>H</td><td>Casado </td><td>Mexicano </td><td>40</td><td>1</td></tr>\n",
       "\t<tr><th scope=row>Hugo</th><td>H</td><td>Soltero</td><td>Mexicano </td><td>36</td><td>2</td></tr>\n",
       "\t<tr><th scope=row>Laura</th><td>M</td><td>Soltera</td><td>Argentina</td><td>28</td><td>1</td></tr>\n",
       "\t<tr><th scope=row>Ramon</th><td>H</td><td>Casado </td><td>Chileno  </td><td>60</td><td>3</td></tr>\n",
       "\t<tr><th scope=row>Antonio</th><td>H</td><td>Casado </td><td>Uruguayo </td><td>33</td><td>3</td></tr>\n",
       "\t<tr><th scope=row>Sofia</th><td>M</td><td>Casada </td><td>China    </td><td>29</td><td>2</td></tr>\n",
       "\t<tr><th scope=row>Alejandra</th><td>M</td><td>Soltera</td><td>Alemana  </td><td>44</td><td>1</td></tr>\n",
       "\t<tr><th scope=row>Alfredo</th><td>H</td><td>Soltero</td><td>Uruguayo </td><td>53</td><td>1</td></tr>\n",
       "\t<tr><th scope=row>Romina</th><td>M</td><td>Casada </td><td>Chilena  </td><td>38</td><td>2</td></tr>\n",
       "\t<tr><th scope=row>Felipe</th><td>H</td><td>Casado </td><td>Mexicano </td><td>28</td><td>2</td></tr>\n",
       "</tbody>\n",
       "</table>\n"
      ],
      "text/latex": [
       "A data.frame: 10 × 5\n",
       "\\begin{tabular}{r|lllll}\n",
       "  & Sexo & EstadoCivil & Nacionalidad & Edad & Nivel\\\\\n",
       "  & <fct> & <fct> & <fct> & <int> & <int>\\\\\n",
       "\\hline\n",
       "\tJuan & H & Casado  & Mexicano  & 40 & 1\\\\\n",
       "\tHugo & H & Soltero & Mexicano  & 36 & 2\\\\\n",
       "\tLaura & M & Soltera & Argentina & 28 & 1\\\\\n",
       "\tRamon & H & Casado  & Chileno   & 60 & 3\\\\\n",
       "\tAntonio & H & Casado  & Uruguayo  & 33 & 3\\\\\n",
       "\tSofia & M & Casada  & China     & 29 & 2\\\\\n",
       "\tAlejandra & M & Soltera & Alemana   & 44 & 1\\\\\n",
       "\tAlfredo & H & Soltero & Uruguayo  & 53 & 1\\\\\n",
       "\tRomina & M & Casada  & Chilena   & 38 & 2\\\\\n",
       "\tFelipe & H & Casado  & Mexicano  & 28 & 2\\\\\n",
       "\\end{tabular}\n"
      ],
      "text/markdown": [
       "\n",
       "A data.frame: 10 × 5\n",
       "\n",
       "| <!--/--> | Sexo &lt;fct&gt; | EstadoCivil &lt;fct&gt; | Nacionalidad &lt;fct&gt; | Edad &lt;int&gt; | Nivel &lt;int&gt; |\n",
       "|---|---|---|---|---|---|\n",
       "| Juan | H | Casado  | Mexicano  | 40 | 1 |\n",
       "| Hugo | H | Soltero | Mexicano  | 36 | 2 |\n",
       "| Laura | M | Soltera | Argentina | 28 | 1 |\n",
       "| Ramon | H | Casado  | Chileno   | 60 | 3 |\n",
       "| Antonio | H | Casado  | Uruguayo  | 33 | 3 |\n",
       "| Sofia | M | Casada  | China     | 29 | 2 |\n",
       "| Alejandra | M | Soltera | Alemana   | 44 | 1 |\n",
       "| Alfredo | H | Soltero | Uruguayo  | 53 | 1 |\n",
       "| Romina | M | Casada  | Chilena   | 38 | 2 |\n",
       "| Felipe | H | Casado  | Mexicano  | 28 | 2 |\n",
       "\n"
      ],
      "text/plain": [
       "          Sexo EstadoCivil Nacionalidad Edad Nivel\n",
       "Juan      H    Casado      Mexicano     40   1    \n",
       "Hugo      H    Soltero     Mexicano     36   2    \n",
       "Laura     M    Soltera     Argentina    28   1    \n",
       "Ramon     H    Casado      Chileno      60   3    \n",
       "Antonio   H    Casado      Uruguayo     33   3    \n",
       "Sofia     M    Casada      China        29   2    \n",
       "Alejandra M    Soltera     Alemana      44   1    \n",
       "Alfredo   H    Soltero     Uruguayo     53   1    \n",
       "Romina    M    Casada      Chilena      38   2    \n",
       "Felipe    H    Casado      Mexicano     28   2    "
      ]
     },
     "metadata": {},
     "output_type": "display_data"
    }
   ],
   "source": [
    "Datos<-read.table(\"Empleados.csv\",header=TRUE, sep=\",\",dec=\".\",row.names=1)\n",
    "Datos"
   ]
  },
  {
   "cell_type": "markdown",
   "metadata": {},
   "source": [
    "Como puede observarse, la variable nivel, la está leyendo como varible numérica, pero en realidad es una varible categórica, para corregir esta lectura se debe utilizar el parámetro colClasses para que la lectura sea la adecuada, como se muestra a acontinuación:\n"
   ]
  },
  {
   "cell_type": "code",
   "execution_count": 51,
   "metadata": {},
   "outputs": [
    {
     "name": "stdout",
     "output_type": "stream",
     "text": [
      "'data.frame':\t10 obs. of  5 variables:\n",
      " $ Sexo        : Factor w/ 2 levels \"H\",\"M\": 1 1 2 1 1 2 2 1 2 1\n",
      " $ EstadoCivil : Factor w/ 4 levels \"Casada\",\"Casado\",..: 2 4 3 2 2 1 3 4 1 2\n",
      " $ Nacionalidad: Factor w/ 7 levels \"Alemana\",\"Argentina\",..: 6 6 2 4 7 5 1 7 3 6\n",
      " $ Edad        : int  40 36 28 60 33 29 44 53 38 28\n",
      " $ Nivel       : Factor w/ 3 levels \"1\",\"2\",\"3\": 1 2 1 3 3 2 1 1 2 2\n"
     ]
    }
   ],
   "source": [
    "## Vamos a establecer el directorio\n",
    "setwd(\"/home/jovyan/work/tratamiento\")\n",
    "\n",
    "\n",
    "Datos<-read.table(\"Empleados.csv\",header=TRUE, sep=\",\",dec=\".\",row.names=1, colClasses = c(\"Nivel\"=\"factor\"))\n",
    "\n",
    "str(Datos)"
   ]
  },
  {
   "cell_type": "code",
   "execution_count": 52,
   "metadata": {},
   "outputs": [
    {
     "data": {
      "text/html": [
       "<table>\n",
       "<caption>A data.frame: 1 × 5</caption>\n",
       "<thead>\n",
       "\t<tr><th></th><th scope=col>Sexo</th><th scope=col>EstadoCivil</th><th scope=col>Nacionalidad</th><th scope=col>Edad</th><th scope=col>Nivel</th></tr>\n",
       "\t<tr><th></th><th scope=col>&lt;fct&gt;</th><th scope=col>&lt;fct&gt;</th><th scope=col>&lt;fct&gt;</th><th scope=col>&lt;int&gt;</th><th scope=col>&lt;fct&gt;</th></tr>\n",
       "</thead>\n",
       "<tbody>\n",
       "\t<tr><th scope=row>Juan</th><td>H</td><td>Casado</td><td>Mexicano</td><td>40</td><td>1</td></tr>\n",
       "</tbody>\n",
       "</table>\n"
      ],
      "text/latex": [
       "A data.frame: 1 × 5\n",
       "\\begin{tabular}{r|lllll}\n",
       "  & Sexo & EstadoCivil & Nacionalidad & Edad & Nivel\\\\\n",
       "  & <fct> & <fct> & <fct> & <int> & <fct>\\\\\n",
       "\\hline\n",
       "\tJuan & H & Casado & Mexicano & 40 & 1\\\\\n",
       "\\end{tabular}\n"
      ],
      "text/markdown": [
       "\n",
       "A data.frame: 1 × 5\n",
       "\n",
       "| <!--/--> | Sexo &lt;fct&gt; | EstadoCivil &lt;fct&gt; | Nacionalidad &lt;fct&gt; | Edad &lt;int&gt; | Nivel &lt;fct&gt; |\n",
       "|---|---|---|---|---|---|\n",
       "| Juan | H | Casado | Mexicano | 40 | 1 |\n",
       "\n"
      ],
      "text/plain": [
       "     Sexo EstadoCivil Nacionalidad Edad Nivel\n",
       "Juan H    Casado      Mexicano     40   1    "
      ]
     },
     "metadata": {},
     "output_type": "display_data"
    }
   ],
   "source": [
    "## Mostrar los datos de la fila 1\n",
    "Datos[1,]"
   ]
  },
  {
   "cell_type": "code",
   "execution_count": 53,
   "metadata": {},
   "outputs": [
    {
     "data": {
      "text/html": [
       "<table>\n",
       "<caption>A data.frame: 4 × 5</caption>\n",
       "<thead>\n",
       "\t<tr><th></th><th scope=col>Sexo</th><th scope=col>EstadoCivil</th><th scope=col>Nacionalidad</th><th scope=col>Edad</th><th scope=col>Nivel</th></tr>\n",
       "\t<tr><th></th><th scope=col>&lt;fct&gt;</th><th scope=col>&lt;fct&gt;</th><th scope=col>&lt;fct&gt;</th><th scope=col>&lt;int&gt;</th><th scope=col>&lt;fct&gt;</th></tr>\n",
       "</thead>\n",
       "<tbody>\n",
       "\t<tr><th scope=row>Juan</th><td>H</td><td>Casado </td><td>Mexicano</td><td>40</td><td>1</td></tr>\n",
       "\t<tr><th scope=row>Ramon</th><td>H</td><td>Casado </td><td>Chileno </td><td>60</td><td>3</td></tr>\n",
       "\t<tr><th scope=row>Alejandra</th><td>M</td><td>Soltera</td><td>Alemana </td><td>44</td><td>1</td></tr>\n",
       "\t<tr><th scope=row>Alfredo</th><td>H</td><td>Soltero</td><td>Uruguayo</td><td>53</td><td>1</td></tr>\n",
       "</tbody>\n",
       "</table>\n"
      ],
      "text/latex": [
       "A data.frame: 4 × 5\n",
       "\\begin{tabular}{r|lllll}\n",
       "  & Sexo & EstadoCivil & Nacionalidad & Edad & Nivel\\\\\n",
       "  & <fct> & <fct> & <fct> & <int> & <fct>\\\\\n",
       "\\hline\n",
       "\tJuan & H & Casado  & Mexicano & 40 & 1\\\\\n",
       "\tRamon & H & Casado  & Chileno  & 60 & 3\\\\\n",
       "\tAlejandra & M & Soltera & Alemana  & 44 & 1\\\\\n",
       "\tAlfredo & H & Soltero & Uruguayo & 53 & 1\\\\\n",
       "\\end{tabular}\n"
      ],
      "text/markdown": [
       "\n",
       "A data.frame: 4 × 5\n",
       "\n",
       "| <!--/--> | Sexo &lt;fct&gt; | EstadoCivil &lt;fct&gt; | Nacionalidad &lt;fct&gt; | Edad &lt;int&gt; | Nivel &lt;fct&gt; |\n",
       "|---|---|---|---|---|---|\n",
       "| Juan | H | Casado  | Mexicano | 40 | 1 |\n",
       "| Ramon | H | Casado  | Chileno  | 60 | 3 |\n",
       "| Alejandra | M | Soltera | Alemana  | 44 | 1 |\n",
       "| Alfredo | H | Soltero | Uruguayo | 53 | 1 |\n",
       "\n"
      ],
      "text/plain": [
       "          Sexo EstadoCivil Nacionalidad Edad Nivel\n",
       "Juan      H    Casado      Mexicano     40   1    \n",
       "Ramon     H    Casado      Chileno      60   3    \n",
       "Alejandra M    Soltera     Alemana      44   1    \n",
       "Alfredo   H    Soltero     Uruguayo     53   1    "
      ]
     },
     "metadata": {},
     "output_type": "display_data"
    }
   ],
   "source": [
    "## Los empleados del nivel 2\n",
    "DatosNivel2<-Datos[,4]>=40\n",
    "Datos[DatosNivel2,]"
   ]
  },
  {
   "cell_type": "markdown",
   "metadata": {},
   "source": [
    " Otra forma de trabajar con las variables de los Data Frames, es poniendo el nombre de la hoja seguido del símbolo $ y del nombre de la variable.\n"
   ]
  },
  {
   "cell_type": "code",
   "execution_count": 54,
   "metadata": {
    "scrolled": true
   },
   "outputs": [
    {
     "data": {
      "text/html": [
       "<style>\n",
       ".list-inline {list-style: none; margin:0; padding: 0}\n",
       ".list-inline>li {display: inline-block}\n",
       ".list-inline>li:not(:last-child)::after {content: \"\\00b7\"; padding: 0 .5ex}\n",
       "</style>\n",
       "<ol class=list-inline><li>Casado</li><li>Soltero</li><li>Soltera</li><li>Casado</li><li>Casado</li><li>Casada</li><li>Soltera</li><li>Soltero</li><li>Casada</li><li>Casado</li></ol>\n",
       "\n",
       "<details>\n",
       "\t<summary style=display:list-item;cursor:pointer>\n",
       "\t\t<strong>Levels</strong>:\n",
       "\t</summary>\n",
       "\t<style>\n",
       "\t.list-inline {list-style: none; margin:0; padding: 0}\n",
       "\t.list-inline>li {display: inline-block}\n",
       "\t.list-inline>li:not(:last-child)::after {content: \"\\00b7\"; padding: 0 .5ex}\n",
       "\t</style>\n",
       "\t<ol class=list-inline><li>'Casada'</li><li>'Casado'</li><li>'Soltera'</li><li>'Soltero'</li></ol>\n",
       "</details>"
      ],
      "text/latex": [
       "\\begin{enumerate*}\n",
       "\\item Casado\n",
       "\\item Soltero\n",
       "\\item Soltera\n",
       "\\item Casado\n",
       "\\item Casado\n",
       "\\item Casada\n",
       "\\item Soltera\n",
       "\\item Soltero\n",
       "\\item Casada\n",
       "\\item Casado\n",
       "\\end{enumerate*}\n",
       "\n",
       "\\emph{Levels}: \\begin{enumerate*}\n",
       "\\item 'Casada'\n",
       "\\item 'Casado'\n",
       "\\item 'Soltera'\n",
       "\\item 'Soltero'\n",
       "\\end{enumerate*}\n"
      ],
      "text/markdown": [
       "1. Casado\n",
       "2. Soltero\n",
       "3. Soltera\n",
       "4. Casado\n",
       "5. Casado\n",
       "6. Casada\n",
       "7. Soltera\n",
       "8. Soltero\n",
       "9. Casada\n",
       "10. Casado\n",
       "\n",
       "\n",
       "\n",
       "**Levels**: 1. 'Casada'\n",
       "2. 'Casado'\n",
       "3. 'Soltera'\n",
       "4. 'Soltero'\n",
       "\n",
       "\n"
      ],
      "text/plain": [
       " [1] Casado  Soltero Soltera Casado  Casado  Casada  Soltera Soltero Casada \n",
       "[10] Casado \n",
       "Levels: Casada Casado Soltera Soltero"
      ]
     },
     "metadata": {},
     "output_type": "display_data"
    }
   ],
   "source": [
    "## Mostrar los datos de la fila 1\n",
    "Datos$EstadoCivil"
   ]
  },
  {
   "cell_type": "code",
   "execution_count": 55,
   "metadata": {},
   "outputs": [
    {
     "data": {
      "text/html": [
       "38.9"
      ],
      "text/latex": [
       "38.9"
      ],
      "text/markdown": [
       "38.9"
      ],
      "text/plain": [
       "[1] 38.9"
      ]
     },
     "metadata": {},
     "output_type": "display_data"
    }
   ],
   "source": [
    "## Los empleados del nivel 2\n",
    "mean(Datos$Edad)"
   ]
  },
  {
   "cell_type": "code",
   "execution_count": null,
   "metadata": {},
   "outputs": [],
   "source": []
  }
 ],
 "metadata": {
  "kernelspec": {
   "display_name": "R",
   "language": "R",
   "name": "ir"
  },
  "language_info": {
   "codemirror_mode": "r",
   "file_extension": ".r",
   "mimetype": "text/x-r-source",
   "name": "R",
   "pygments_lexer": "r",
   "version": "3.6.3"
  }
 },
 "nbformat": 4,
 "nbformat_minor": 4
}
