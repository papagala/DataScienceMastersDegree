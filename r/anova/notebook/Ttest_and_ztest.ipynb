{
 "cells": [
  {
   "cell_type": "code",
   "execution_count": 1,
   "metadata": {},
   "outputs": [
    {
     "name": "stderr",
     "output_type": "stream",
     "text": [
      "Updating HTML index of packages in '.Library'\n",
      "\n",
      "Making 'packages.html' ...\n",
      " done\n",
      "\n"
     ]
    }
   ],
   "source": [
    "## Vamos a establecer el directorio\n",
    "setwd(\"/home/jovyan/work/anova/02/demos/datasets\")\n",
    "## Con ggplot2\n",
    "install.packages(c('ggplot2','ggpubr','plyr','readxl'))"
   ]
  },
  {
   "cell_type": "markdown",
   "metadata": {},
   "source": [
    "# Tomaremos un conjunto de datos disponible en Kaggle \n",
    "## https://www.kaggle.com/ionaskel/laptop-prices"
   ]
  },
  {
   "cell_type": "code",
   "execution_count": 2,
   "metadata": {},
   "outputs": [
    {
     "name": "stderr",
     "output_type": "stream",
     "text": [
      "\n",
      "Attaching package: ‘plyr’\n",
      "\n",
      "\n",
      "The following object is masked from ‘package:ggpubr’:\n",
      "\n",
      "    mutate\n",
      "\n",
      "\n"
     ]
    }
   ],
   "source": [
    "## Con ggplot2\n",
    "library(ggplot2)\n",
    "theme_set(theme_gray(base_size = 25))\n",
    "library(ggpubr)\n",
    "library(plyr)\n",
    "library(readxl)"
   ]
  },
  {
   "cell_type": "code",
   "execution_count": 3,
   "metadata": {},
   "outputs": [],
   "source": [
    "options(repr.plot.width=12, repr.plot.height=8)"
   ]
  },
  {
   "cell_type": "code",
   "execution_count": 4,
   "metadata": {},
   "outputs": [],
   "source": [
    "laptop_price <- read.csv('laptops.csv',stringsAsFactors = F)"
   ]
  },
  {
   "cell_type": "code",
   "execution_count": 5,
   "metadata": {},
   "outputs": [
    {
     "data": {
      "text/html": [
       "<table>\n",
       "<caption>A data.frame: 5 × 13</caption>\n",
       "<thead>\n",
       "\t<tr><th></th><th scope=col>X</th><th scope=col>Company</th><th scope=col>Product</th><th scope=col>TypeName</th><th scope=col>Inches</th><th scope=col>ScreenResolution</th><th scope=col>Cpu</th><th scope=col>Ram</th><th scope=col>Memory</th><th scope=col>Gpu</th><th scope=col>OpSys</th><th scope=col>Weight</th><th scope=col>Price_euros</th></tr>\n",
       "\t<tr><th></th><th scope=col>&lt;int&gt;</th><th scope=col>&lt;chr&gt;</th><th scope=col>&lt;chr&gt;</th><th scope=col>&lt;chr&gt;</th><th scope=col>&lt;dbl&gt;</th><th scope=col>&lt;chr&gt;</th><th scope=col>&lt;chr&gt;</th><th scope=col>&lt;chr&gt;</th><th scope=col>&lt;chr&gt;</th><th scope=col>&lt;chr&gt;</th><th scope=col>&lt;chr&gt;</th><th scope=col>&lt;chr&gt;</th><th scope=col>&lt;dbl&gt;</th></tr>\n",
       "</thead>\n",
       "<tbody>\n",
       "\t<tr><th scope=row>1</th><td>1</td><td>Apple</td><td>MacBook Pro</td><td>Ultrabook</td><td>13.3</td><td>IPS Panel Retina Display 2560x1600</td><td>Intel Core i5 2.3GHz      </td><td>8GB </td><td>128GB SSD          </td><td>Intel Iris Plus Graphics 640</td><td>macOS</td><td>1.37kg</td><td>1339.69</td></tr>\n",
       "\t<tr><th scope=row>2</th><td>2</td><td>Apple</td><td>Macbook Air</td><td>Ultrabook</td><td>13.3</td><td>1440x900                          </td><td>Intel Core i5 1.8GHz      </td><td>8GB </td><td>128GB Flash Storage</td><td>Intel HD Graphics 6000      </td><td>macOS</td><td>1.34kg</td><td> 898.94</td></tr>\n",
       "\t<tr><th scope=row>3</th><td>3</td><td>HP   </td><td>250 G6     </td><td>Notebook </td><td>15.6</td><td>Full HD 1920x1080                 </td><td>Intel Core i5 7200U 2.5GHz</td><td>8GB </td><td>256GB SSD          </td><td>Intel HD Graphics 620       </td><td>No OS</td><td>1.86kg</td><td> 575.00</td></tr>\n",
       "\t<tr><th scope=row>4</th><td>4</td><td>Apple</td><td>MacBook Pro</td><td>Ultrabook</td><td>15.4</td><td>IPS Panel Retina Display 2880x1800</td><td>Intel Core i7 2.7GHz      </td><td>16GB</td><td>512GB SSD          </td><td>AMD Radeon Pro 455          </td><td>macOS</td><td>1.83kg</td><td>2537.45</td></tr>\n",
       "\t<tr><th scope=row>5</th><td>5</td><td>Apple</td><td>MacBook Pro</td><td>Ultrabook</td><td>13.3</td><td>IPS Panel Retina Display 2560x1600</td><td>Intel Core i5 3.1GHz      </td><td>8GB </td><td>256GB SSD          </td><td>Intel Iris Plus Graphics 650</td><td>macOS</td><td>1.37kg</td><td>1803.60</td></tr>\n",
       "</tbody>\n",
       "</table>\n"
      ],
      "text/latex": [
       "A data.frame: 5 × 13\n",
       "\\begin{tabular}{r|lllllllllllll}\n",
       "  & X & Company & Product & TypeName & Inches & ScreenResolution & Cpu & Ram & Memory & Gpu & OpSys & Weight & Price\\_euros\\\\\n",
       "  & <int> & <chr> & <chr> & <chr> & <dbl> & <chr> & <chr> & <chr> & <chr> & <chr> & <chr> & <chr> & <dbl>\\\\\n",
       "\\hline\n",
       "\t1 & 1 & Apple & MacBook Pro & Ultrabook & 13.3 & IPS Panel Retina Display 2560x1600 & Intel Core i5 2.3GHz       & 8GB  & 128GB SSD           & Intel Iris Plus Graphics 640 & macOS & 1.37kg & 1339.69\\\\\n",
       "\t2 & 2 & Apple & Macbook Air & Ultrabook & 13.3 & 1440x900                           & Intel Core i5 1.8GHz       & 8GB  & 128GB Flash Storage & Intel HD Graphics 6000       & macOS & 1.34kg &  898.94\\\\\n",
       "\t3 & 3 & HP    & 250 G6      & Notebook  & 15.6 & Full HD 1920x1080                  & Intel Core i5 7200U 2.5GHz & 8GB  & 256GB SSD           & Intel HD Graphics 620        & No OS & 1.86kg &  575.00\\\\\n",
       "\t4 & 4 & Apple & MacBook Pro & Ultrabook & 15.4 & IPS Panel Retina Display 2880x1800 & Intel Core i7 2.7GHz       & 16GB & 512GB SSD           & AMD Radeon Pro 455           & macOS & 1.83kg & 2537.45\\\\\n",
       "\t5 & 5 & Apple & MacBook Pro & Ultrabook & 13.3 & IPS Panel Retina Display 2560x1600 & Intel Core i5 3.1GHz       & 8GB  & 256GB SSD           & Intel Iris Plus Graphics 650 & macOS & 1.37kg & 1803.60\\\\\n",
       "\\end{tabular}\n"
      ],
      "text/markdown": [
       "\n",
       "A data.frame: 5 × 13\n",
       "\n",
       "| <!--/--> | X &lt;int&gt; | Company &lt;chr&gt; | Product &lt;chr&gt; | TypeName &lt;chr&gt; | Inches &lt;dbl&gt; | ScreenResolution &lt;chr&gt; | Cpu &lt;chr&gt; | Ram &lt;chr&gt; | Memory &lt;chr&gt; | Gpu &lt;chr&gt; | OpSys &lt;chr&gt; | Weight &lt;chr&gt; | Price_euros &lt;dbl&gt; |\n",
       "|---|---|---|---|---|---|---|---|---|---|---|---|---|---|\n",
       "| 1 | 1 | Apple | MacBook Pro | Ultrabook | 13.3 | IPS Panel Retina Display 2560x1600 | Intel Core i5 2.3GHz       | 8GB  | 128GB SSD           | Intel Iris Plus Graphics 640 | macOS | 1.37kg | 1339.69 |\n",
       "| 2 | 2 | Apple | Macbook Air | Ultrabook | 13.3 | 1440x900                           | Intel Core i5 1.8GHz       | 8GB  | 128GB Flash Storage | Intel HD Graphics 6000       | macOS | 1.34kg |  898.94 |\n",
       "| 3 | 3 | HP    | 250 G6      | Notebook  | 15.6 | Full HD 1920x1080                  | Intel Core i5 7200U 2.5GHz | 8GB  | 256GB SSD           | Intel HD Graphics 620        | No OS | 1.86kg |  575.00 |\n",
       "| 4 | 4 | Apple | MacBook Pro | Ultrabook | 15.4 | IPS Panel Retina Display 2880x1800 | Intel Core i7 2.7GHz       | 16GB | 512GB SSD           | AMD Radeon Pro 455           | macOS | 1.83kg | 2537.45 |\n",
       "| 5 | 5 | Apple | MacBook Pro | Ultrabook | 13.3 | IPS Panel Retina Display 2560x1600 | Intel Core i5 3.1GHz       | 8GB  | 256GB SSD           | Intel Iris Plus Graphics 650 | macOS | 1.37kg | 1803.60 |\n",
       "\n"
      ],
      "text/plain": [
       "  X Company Product     TypeName  Inches ScreenResolution                  \n",
       "1 1 Apple   MacBook Pro Ultrabook 13.3   IPS Panel Retina Display 2560x1600\n",
       "2 2 Apple   Macbook Air Ultrabook 13.3   1440x900                          \n",
       "3 3 HP      250 G6      Notebook  15.6   Full HD 1920x1080                 \n",
       "4 4 Apple   MacBook Pro Ultrabook 15.4   IPS Panel Retina Display 2880x1800\n",
       "5 5 Apple   MacBook Pro Ultrabook 13.3   IPS Panel Retina Display 2560x1600\n",
       "  Cpu                        Ram  Memory             \n",
       "1 Intel Core i5 2.3GHz       8GB  128GB SSD          \n",
       "2 Intel Core i5 1.8GHz       8GB  128GB Flash Storage\n",
       "3 Intel Core i5 7200U 2.5GHz 8GB  256GB SSD          \n",
       "4 Intel Core i7 2.7GHz       16GB 512GB SSD          \n",
       "5 Intel Core i5 3.1GHz       8GB  256GB SSD          \n",
       "  Gpu                          OpSys Weight Price_euros\n",
       "1 Intel Iris Plus Graphics 640 macOS 1.37kg 1339.69    \n",
       "2 Intel HD Graphics 6000       macOS 1.34kg  898.94    \n",
       "3 Intel HD Graphics 620        No OS 1.86kg  575.00    \n",
       "4 AMD Radeon Pro 455           macOS 1.83kg 2537.45    \n",
       "5 Intel Iris Plus Graphics 650 macOS 1.37kg 1803.60    "
      ]
     },
     "metadata": {},
     "output_type": "display_data"
    }
   ],
   "source": [
    "head(laptop_price,5)"
   ]
  },
  {
   "cell_type": "code",
   "execution_count": 6,
   "metadata": {},
   "outputs": [
    {
     "data": {
      "text/html": [
       "<style>\n",
       ".list-inline {list-style: none; margin:0; padding: 0}\n",
       ".list-inline>li {display: inline-block}\n",
       ".list-inline>li:not(:last-child)::after {content: \"\\00b7\"; padding: 0 .5ex}\n",
       "</style>\n",
       "<ol class=list-inline><li>1303</li><li>13</li></ol>\n"
      ],
      "text/latex": [
       "\\begin{enumerate*}\n",
       "\\item 1303\n",
       "\\item 13\n",
       "\\end{enumerate*}\n"
      ],
      "text/markdown": [
       "1. 1303\n",
       "2. 13\n",
       "\n",
       "\n"
      ],
      "text/plain": [
       "[1] 1303   13"
      ]
     },
     "metadata": {},
     "output_type": "display_data"
    }
   ],
   "source": [
    "dim(laptop_price)"
   ]
  },
  {
   "cell_type": "code",
   "execution_count": 7,
   "metadata": {},
   "outputs": [
    {
     "data": {
      "text/html": [
       "<style>\n",
       ".dl-inline {width: auto; margin:0; padding: 0}\n",
       ".dl-inline>dt, .dl-inline>dd {float: none; width: auto; display: inline-block}\n",
       ".dl-inline>dt::after {content: \":\\0020\"; padding-right: .5ex}\n",
       ".dl-inline>dt:not(:first-of-type) {padding-left: .5ex}\n",
       "</style><dl class=dl-inline><dt>X</dt><dd>0</dd><dt>Company</dt><dd>0</dd><dt>Product</dt><dd>0</dd><dt>TypeName</dt><dd>0</dd><dt>Inches</dt><dd>0</dd><dt>ScreenResolution</dt><dd>0</dd><dt>Cpu</dt><dd>0</dd><dt>Ram</dt><dd>0</dd><dt>Memory</dt><dd>0</dd><dt>Gpu</dt><dd>0</dd><dt>OpSys</dt><dd>0</dd><dt>Weight</dt><dd>0</dd><dt>Price_euros</dt><dd>0</dd></dl>\n"
      ],
      "text/latex": [
       "\\begin{description*}\n",
       "\\item[X] 0\n",
       "\\item[Company] 0\n",
       "\\item[Product] 0\n",
       "\\item[TypeName] 0\n",
       "\\item[Inches] 0\n",
       "\\item[ScreenResolution] 0\n",
       "\\item[Cpu] 0\n",
       "\\item[Ram] 0\n",
       "\\item[Memory] 0\n",
       "\\item[Gpu] 0\n",
       "\\item[OpSys] 0\n",
       "\\item[Weight] 0\n",
       "\\item[Price\\textbackslash{}\\_euros] 0\n",
       "\\end{description*}\n"
      ],
      "text/markdown": [
       "X\n",
       ":   0Company\n",
       ":   0Product\n",
       ":   0TypeName\n",
       ":   0Inches\n",
       ":   0ScreenResolution\n",
       ":   0Cpu\n",
       ":   0Ram\n",
       ":   0Memory\n",
       ":   0Gpu\n",
       ":   0OpSys\n",
       ":   0Weight\n",
       ":   0Price_euros\n",
       ":   0\n",
       "\n"
      ],
      "text/plain": [
       "               X          Company          Product         TypeName \n",
       "               0                0                0                0 \n",
       "          Inches ScreenResolution              Cpu              Ram \n",
       "               0                0                0                0 \n",
       "          Memory              Gpu            OpSys           Weight \n",
       "               0                0                0                0 \n",
       "     Price_euros \n",
       "               0 "
      ]
     },
     "metadata": {},
     "output_type": "display_data"
    }
   ],
   "source": [
    "colSums(is.na(laptop_price))"
   ]
  },
  {
   "cell_type": "code",
   "execution_count": 8,
   "metadata": {},
   "outputs": [
    {
     "data": {
      "text/plain": [
       "   Min. 1st Qu.  Median    Mean 3rd Qu.    Max. \n",
       "    174     599     977    1124    1488    6099 "
      ]
     },
     "metadata": {},
     "output_type": "display_data"
    }
   ],
   "source": [
    "summary(laptop_price$Price_euros)"
   ]
  },
  {
   "cell_type": "code",
   "execution_count": 9,
   "metadata": {},
   "outputs": [
    {
     "data": {
      "image/png": "[encoded data removed]",
      "text/plain": [
       "plot without title"
      ]
     },
     "metadata": {
      "image/png": {
       "height": 480,
       "width": 720
      }
     },
     "output_type": "display_data"
    }
   ],
   "source": [
    "ggplot(data = laptop_price,\n",
    "      aes(factor(x=TypeName))) +\n",
    "      geom_bar(col='black', fill = 'steelblue')+\n",
    "      ggtitle(\"Count plot for type of laptop\")+\n",
    "      xlab('Types of name')+\n",
    "      ylab('count')"
   ]
  },
  {
   "cell_type": "code",
   "execution_count": 10,
   "metadata": {},
   "outputs": [
    {
     "data": {
      "image/png": "[encoded data removed]",
      "text/plain": [
       "plot without title"
      ]
     },
     "metadata": {
      "image/png": {
       "height": 480,
       "width": 720
      }
     },
     "output_type": "display_data"
    }
   ],
   "source": [
    "price_boxplot <- boxplot(laptop_price$Price_euros, col='darkred',\n",
    "                  xlab = 'Price',\n",
    "                  ylab = 'Price(in euros)')"
   ]
  },
  {
   "cell_type": "markdown",
   "metadata": {},
   "source": [
    "#### Eliminando valores atipicos"
   ]
  },
  {
   "cell_type": "code",
   "execution_count": 11,
   "metadata": {},
   "outputs": [
    {
     "data": {
      "text/html": [
       "<style>\n",
       ".list-inline {list-style: none; margin:0; padding: 0}\n",
       ".list-inline>li {display: inline-block}\n",
       ".list-inline>li:not(:last-child)::after {content: \"\\00b7\"; padding: 0 .5ex}\n",
       "</style>\n",
       "<ol class=list-inline><li>2858</li><li>2824</li><li>6099</li><li>3055</li><li>3890</li><li>2999</li><li>2884.86</li><li>2968</li><li>3012.77</li><li>2999</li><li>4899</li><li>3147.37</li><li>3659.4</li><li>3299</li><li>4389</li><li>2868.99</li><li>2899</li><li>3588.8</li><li>5499</li><li>3072.89</li><li>3100</li><li>3154</li><li>3149</li><li>2968</li><li>3975</li><li>3240</li><li>2899</li><li>3949.4</li><li>3499</li></ol>\n"
      ],
      "text/latex": [
       "\\begin{enumerate*}\n",
       "\\item 2858\n",
       "\\item 2824\n",
       "\\item 6099\n",
       "\\item 3055\n",
       "\\item 3890\n",
       "\\item 2999\n",
       "\\item 2884.86\n",
       "\\item 2968\n",
       "\\item 3012.77\n",
       "\\item 2999\n",
       "\\item 4899\n",
       "\\item 3147.37\n",
       "\\item 3659.4\n",
       "\\item 3299\n",
       "\\item 4389\n",
       "\\item 2868.99\n",
       "\\item 2899\n",
       "\\item 3588.8\n",
       "\\item 5499\n",
       "\\item 3072.89\n",
       "\\item 3100\n",
       "\\item 3154\n",
       "\\item 3149\n",
       "\\item 2968\n",
       "\\item 3975\n",
       "\\item 3240\n",
       "\\item 2899\n",
       "\\item 3949.4\n",
       "\\item 3499\n",
       "\\end{enumerate*}\n"
      ],
      "text/markdown": [
       "1. 2858\n",
       "2. 2824\n",
       "3. 6099\n",
       "4. 3055\n",
       "5. 3890\n",
       "6. 2999\n",
       "7. 2884.86\n",
       "8. 2968\n",
       "9. 3012.77\n",
       "10. 2999\n",
       "11. 4899\n",
       "12. 3147.37\n",
       "13. 3659.4\n",
       "14. 3299\n",
       "15. 4389\n",
       "16. 2868.99\n",
       "17. 2899\n",
       "18. 3588.8\n",
       "19. 5499\n",
       "20. 3072.89\n",
       "21. 3100\n",
       "22. 3154\n",
       "23. 3149\n",
       "24. 2968\n",
       "25. 3975\n",
       "26. 3240\n",
       "27. 2899\n",
       "28. 3949.4\n",
       "29. 3499\n",
       "\n",
       "\n"
      ],
      "text/plain": [
       " [1] 2858.00 2824.00 6099.00 3055.00 3890.00 2999.00 2884.86 2968.00 3012.77\n",
       "[10] 2999.00 4899.00 3147.37 3659.40 3299.00 4389.00 2868.99 2899.00 3588.80\n",
       "[19] 5499.00 3072.89 3100.00 3154.00 3149.00 2968.00 3975.00 3240.00 2899.00\n",
       "[28] 3949.40 3499.00"
      ]
     },
     "metadata": {},
     "output_type": "display_data"
    }
   ],
   "source": [
    "price_boxplot$out"
   ]
  },
  {
   "cell_type": "code",
   "execution_count": 12,
   "metadata": {},
   "outputs": [],
   "source": [
    "laptop_price_processed<-laptop_price[-which(laptop_price$Price_euros %in% price_boxplot$out),]"
   ]
  },
  {
   "cell_type": "code",
   "execution_count": 13,
   "metadata": {},
   "outputs": [
    {
     "data": {
      "image/png": "[encoded data removed]",
      "text/plain": [
       "plot without title"
      ]
     },
     "metadata": {
      "image/png": {
       "height": 480,
       "width": 720
      }
     },
     "output_type": "display_data"
    }
   ],
   "source": [
    "boxplot(laptop_price_processed$Price_euros, col='darkgreen')"
   ]
  },
  {
   "cell_type": "markdown",
   "metadata": {},
   "source": [
    "# Prueba Shapiro-Wilk (prueba de normalidad)\n",
    "$\n",
    "\\begin{align}\n",
    "H_0 &= \\text{Nuestros datos de precio se distribuyen normalmente } \\\\\n",
    "H_1 &= \\text{Nuestros datos de precio no se distribuyen normalmente}\n",
    "\\end{align}\n",
    "$"
   ]
  },
  {
   "cell_type": "code",
   "execution_count": 14,
   "metadata": {},
   "outputs": [
    {
     "data": {
      "text/plain": [
       "\n",
       "\tShapiro-Wilk normality test\n",
       "\n",
       "data:  laptop_price_processed$Price_euros\n",
       "W = 0.94014, p-value < 2.2e-16\n"
      ]
     },
     "metadata": {},
     "output_type": "display_data"
    }
   ],
   "source": [
    "shapiro.test(laptop_price_processed$Price_euros)"
   ]
  },
  {
   "cell_type": "markdown",
   "metadata": {},
   "source": [
    "#### Obtenemos un valor muy cercano a cero, por lo que rechazamos la hipótesis nula, y vemos que nuestra variable no se distribuye normalmente "
   ]
  },
  {
   "cell_type": "markdown",
   "metadata": {},
   "source": [
    "### Gráficamente tenemos una gráfica QQ que nos muestra una distribución normal como una línea recta en el centro\n",
    "\n",
    "#### Nuestros datos se muestran en puntos negros"
   ]
  },
  {
   "cell_type": "code",
   "execution_count": 15,
   "metadata": {},
   "outputs": [
    {
     "data": {
      "image/png": "[encoded data removed]",
      "text/plain": [
       "plot without title"
      ]
     },
     "metadata": {
      "image/png": {
       "height": 480,
       "width": 720
      }
     },
     "output_type": "display_data"
    }
   ],
   "source": [
    "ggqqplot(laptop_price_processed$Price_euros,ggtheme=theme_minimal())"
   ]
  },
  {
   "cell_type": "markdown",
   "metadata": {},
   "source": [
    "#### La prueba T y Z no asumen una distribución normal, por lo que no hay problema, pero es bueno estar concientes de como se distribuyen nuestros datos"
   ]
  },
  {
   "cell_type": "code",
   "execution_count": 16,
   "metadata": {},
   "outputs": [
    {
     "data": {
      "text/html": [
       "1070.10884615385"
      ],
      "text/latex": [
       "1070.10884615385"
      ],
      "text/markdown": [
       "1070.10884615385"
      ],
      "text/plain": [
       "[1] 1070.109"
      ]
     },
     "metadata": {},
     "output_type": "display_data"
    }
   ],
   "source": [
    "mean_price <- mean(laptop_price_processed$Price_euros)\n",
    "mean_price"
   ]
  },
  {
   "cell_type": "code",
   "execution_count": 17,
   "metadata": {},
   "outputs": [
    {
     "data": {
      "text/html": [
       "596.578926715966"
      ],
      "text/latex": [
       "596.578926715966"
      ],
      "text/markdown": [
       "596.578926715966"
      ],
      "text/plain": [
       "[1] 596.5789"
      ]
     },
     "metadata": {},
     "output_type": "display_data"
    }
   ],
   "source": [
    "std_price <- sd(laptop_price_processed$Price_euros)\n",
    "std_price"
   ]
  },
  {
   "cell_type": "code",
   "execution_count": 18,
   "metadata": {},
   "outputs": [
    {
     "data": {
      "text/html": [
       "1274"
      ],
      "text/latex": [
       "1274"
      ],
      "text/markdown": [
       "1274"
      ],
      "text/plain": [
       "[1] 1274"
      ]
     },
     "metadata": {},
     "output_type": "display_data"
    }
   ],
   "source": [
    "n_price <- length(laptop_price_processed$Price_euros)\n",
    "n_price"
   ]
  },
  {
   "cell_type": "markdown",
   "metadata": {},
   "source": [
    "### pnorm\n",
    "\n",
    "La function $\\texttt{pnorm(x)}$ regresa el valor de la integral \n",
    "$$\\texttt{pnorm(x)}=\\frac{1}{\\sigma \\sqrt{2 \\pi}} \\int_{-\\infty}^{x}e^{-(x^{'}-\\mu)^2/(2\\sigma^2)}dx^{'}$$\n",
    "\n",
    ",donde x es el valor Z.\n",
    "\n",
    "$\\texttt{pt(q)}$ tiene una propósito similar pero para la distribución de T student, aunque la fórmula es más compleja. Lo importante es recordar que cuando n > 30 calcularemos el valor p utilizando la función pnorm y pt de lo contrario.\n",
    "\n",
    "\n"
   ]
  },
  {
   "cell_type": "code",
   "execution_count": 19,
   "metadata": {},
   "outputs": [],
   "source": [
    "test <- function(mean,mu,std,n){\n",
    "    test_statistic <- (mean-mu)/(std/sqrt(n))\n",
    "    \n",
    "    if(n>30){\n",
    "        p_value <- 2 *pnorm(-abs(test_statistic))\n",
    "        return(cat('z-test = ', test_statistic, '\\np-value',p_value))\n",
    "    }\n",
    "    else {\n",
    "        p_value <- 2* pt(test_statistic, df = n - 1, lower = FALSE)\n",
    "        return(cat('t-test = ', test_statistic, '\\np-value', p_value))\n",
    "    }   \n",
    "}"
   ]
  },
  {
   "cell_type": "markdown",
   "metadata": {},
   "source": [
    "#### Probaremos si nuestro promedio es 1070 a un nivel de significancia del 5%"
   ]
  },
  {
   "cell_type": "code",
   "execution_count": 20,
   "metadata": {},
   "outputs": [
    {
     "name": "stdout",
     "output_type": "stream",
     "text": [
      "z-test =  0.006512232 \n",
      "p-value 0.994804"
     ]
    }
   ],
   "source": [
    "mu = 1070\n",
    "\n",
    "test(mean_price,mu,std_price, n_price)"
   ]
  },
  {
   "cell_type": "code",
   "execution_count": 21,
   "metadata": {},
   "outputs": [
    {
     "name": "stderr",
     "output_type": "stream",
     "text": [
      "Updating HTML index of packages in '.Library'\n",
      "\n",
      "Making 'packages.html' ...\n",
      " done\n",
      "\n"
     ]
    }
   ],
   "source": [
    "install.packages(c(\"pastecs\",\"TeachingDemos\"))\n",
    "library(pastecs)\n",
    "library(TeachingDemos)"
   ]
  },
  {
   "cell_type": "code",
   "execution_count": 22,
   "metadata": {},
   "outputs": [
    {
     "data": {
      "text/plain": [
       "\n",
       "\tOne Sample z-test\n",
       "\n",
       "data:  laptop_price_processed$Price_euros\n",
       "z = 4.1946, n = 1274.000, Std. Dev. = 596.579, Std. Dev. of the sample\n",
       "mean = 16.714, p-value = 2.734e-05\n",
       "alternative hypothesis: true mean is not equal to 1000\n",
       "95 percent confidence interval:\n",
       " 1037.350 1102.868\n",
       "sample estimates:\n",
       "mean of laptop_price_processed$Price_euros \n",
       "                                  1070.109 \n"
      ]
     },
     "metadata": {},
     "output_type": "display_data"
    }
   ],
   "source": [
    "mu = 1000\n",
    "\n",
    "price_ztest <- z.test(laptop_price_processed$Price_euros, mu=mu, stdev = std_price)\n",
    "price_ztest"
   ]
  },
  {
   "cell_type": "code",
   "execution_count": 23,
   "metadata": {},
   "outputs": [
    {
     "data": {
      "text/html": [
       "<style>\n",
       ".list-inline {list-style: none; margin:0; padding: 0}\n",
       ".list-inline>li {display: inline-block}\n",
       ".list-inline>li:not(:last-child)::after {content: \"\\00b7\"; padding: 0 .5ex}\n",
       "</style>\n",
       "<ol class=list-inline><li>'statistic'</li><li>'parameter'</li><li>'p.value'</li><li>'conf.int'</li><li>'estimate'</li><li>'null.value'</li><li>'alternative'</li><li>'method'</li><li>'data.name'</li></ol>\n"
      ],
      "text/latex": [
       "\\begin{enumerate*}\n",
       "\\item 'statistic'\n",
       "\\item 'parameter'\n",
       "\\item 'p.value'\n",
       "\\item 'conf.int'\n",
       "\\item 'estimate'\n",
       "\\item 'null.value'\n",
       "\\item 'alternative'\n",
       "\\item 'method'\n",
       "\\item 'data.name'\n",
       "\\end{enumerate*}\n"
      ],
      "text/markdown": [
       "1. 'statistic'\n",
       "2. 'parameter'\n",
       "3. 'p.value'\n",
       "4. 'conf.int'\n",
       "5. 'estimate'\n",
       "6. 'null.value'\n",
       "7. 'alternative'\n",
       "8. 'method'\n",
       "9. 'data.name'\n",
       "\n",
       "\n"
      ],
      "text/plain": [
       "[1] \"statistic\"   \"parameter\"   \"p.value\"     \"conf.int\"    \"estimate\"   \n",
       "[6] \"null.value\"  \"alternative\" \"method\"      \"data.name\"  "
      ]
     },
     "metadata": {},
     "output_type": "display_data"
    }
   ],
   "source": [
    "names(price_ztest)"
   ]
  },
  {
   "cell_type": "code",
   "execution_count": 24,
   "metadata": {},
   "outputs": [
    {
     "data": {
      "text/html": [
       "'One Sample z-test'"
      ],
      "text/latex": [
       "'One Sample z-test'"
      ],
      "text/markdown": [
       "'One Sample z-test'"
      ],
      "text/plain": [
       "[1] \"One Sample z-test\""
      ]
     },
     "metadata": {},
     "output_type": "display_data"
    }
   ],
   "source": [
    "price_ztest$method"
   ]
  },
  {
   "cell_type": "code",
   "execution_count": 25,
   "metadata": {},
   "outputs": [
    {
     "data": {
      "text/html": [
       "'laptop_price_processed$Price_euros'"
      ],
      "text/latex": [
       "'laptop\\_price\\_processed\\$Price\\_euros'"
      ],
      "text/markdown": [
       "'laptop_price_processed$Price_euros'"
      ],
      "text/plain": [
       "[1] \"laptop_price_processed$Price_euros\""
      ]
     },
     "metadata": {},
     "output_type": "display_data"
    }
   ],
   "source": [
    "price_ztest$data.name"
   ]
  },
  {
   "cell_type": "code",
   "execution_count": 26,
   "metadata": {},
   "outputs": [
    {
     "data": {
      "text/html": [
       "<strong>z:</strong> 4.19459104275226"
      ],
      "text/latex": [
       "\\textbf{z:} 4.19459104275226"
      ],
      "text/markdown": [
       "**z:** 4.19459104275226"
      ],
      "text/plain": [
       "       z \n",
       "4.194591 "
      ]
     },
     "metadata": {},
     "output_type": "display_data"
    }
   ],
   "source": [
    "price_ztest$statistic"
   ]
  },
  {
   "cell_type": "code",
   "execution_count": 27,
   "metadata": {},
   "outputs": [
    {
     "data": {
      "text/html": [
       "2.73364339397459e-05"
      ],
      "text/latex": [
       "2.73364339397459e-05"
      ],
      "text/markdown": [
       "2.73364339397459e-05"
      ],
      "text/plain": [
       "[1] 2.733643e-05"
      ]
     },
     "metadata": {},
     "output_type": "display_data"
    }
   ],
   "source": [
    "price_ztest$p.value"
   ]
  },
  {
   "cell_type": "code",
   "execution_count": 28,
   "metadata": {},
   "outputs": [
    {
     "data": {
      "text/html": [
       "<style>\n",
       ".list-inline {list-style: none; margin:0; padding: 0}\n",
       ".list-inline>li {display: inline-block}\n",
       ".list-inline>li:not(:last-child)::after {content: \"\\00b7\"; padding: 0 .5ex}\n",
       "</style>\n",
       "<ol class=list-inline><li>1037.34979716464</li><li>1102.86789514305</li></ol>\n"
      ],
      "text/latex": [
       "\\begin{enumerate*}\n",
       "\\item 1037.34979716464\n",
       "\\item 1102.86789514305\n",
       "\\end{enumerate*}\n"
      ],
      "text/markdown": [
       "1. 1037.34979716464\n",
       "2. 1102.86789514305\n",
       "\n",
       "\n"
      ],
      "text/plain": [
       "[1] 1037.350 1102.868\n",
       "attr(,\"conf.level\")\n",
       "[1] 0.95"
      ]
     },
     "metadata": {},
     "output_type": "display_data"
    }
   ],
   "source": [
    "price_ztest$conf.int"
   ]
  },
  {
   "cell_type": "code",
   "execution_count": 29,
   "metadata": {},
   "outputs": [
    {
     "data": {
      "text/html": [
       "<strong>mean of laptop_price_processed$Price_euros:</strong> 1070.10884615385"
      ],
      "text/latex": [
       "\\textbf{mean of laptop\\textbackslash{}\\_price\\textbackslash{}\\_processed\\textbackslash{}\\$Price\\textbackslash{}\\_euros:} 1070.10884615385"
      ],
      "text/markdown": [
       "**mean of laptop_price_processed$Price_euros:** 1070.10884615385"
      ],
      "text/plain": [
       "mean of laptop_price_processed$Price_euros \n",
       "                                  1070.109 "
      ]
     },
     "metadata": {},
     "output_type": "display_data"
    }
   ],
   "source": [
    " price_ztest$estimate"
   ]
  },
  {
   "cell_type": "code",
   "execution_count": 30,
   "metadata": {},
   "outputs": [
    {
     "data": {
      "text/plain": [
       "\n",
       "\tOne Sample t-test\n",
       "\n",
       "data:  laptop_price_processed$Price_euros\n",
       "t = 4.1946, df = 1273, p-value = 2.923e-05\n",
       "alternative hypothesis: true mean is not equal to 1000\n",
       "95 percent confidence interval:\n",
       " 1037.319 1102.899\n",
       "sample estimates:\n",
       "mean of x \n",
       " 1070.109 \n"
      ]
     },
     "metadata": {},
     "output_type": "display_data"
    }
   ],
   "source": [
    "price_ttest<- t.test(x=laptop_price_processed$Price_euros, y = NULL, mu=1000)\n",
    "price_ttest"
   ]
  },
  {
   "cell_type": "code",
   "execution_count": null,
   "metadata": {},
   "outputs": [],
   "source": []
  }
 ],
 "metadata": {
  "kernelspec": {
   "display_name": "R",
   "language": "R",
   "name": "ir"
  },
  "language_info": {
   "codemirror_mode": "r",
   "file_extension": ".r",
   "mimetype": "text/x-r-source",
   "name": "R",
   "pygments_lexer": "r",
   "version": "4.0.0"
  }
 },
 "nbformat": 4,
 "nbformat_minor": 4
}
