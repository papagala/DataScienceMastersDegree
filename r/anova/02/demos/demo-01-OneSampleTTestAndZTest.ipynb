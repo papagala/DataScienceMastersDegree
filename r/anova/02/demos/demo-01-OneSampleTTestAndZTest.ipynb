{
 "cells": [
  {
   "cell_type": "markdown",
   "metadata": {},
   "source": [
    "### Load and read dataset from local disk"
   ]
  },
  {
   "cell_type": "code",
   "execution_count": null,
   "metadata": {},
   "outputs": [],
   "source": [
    "install.packages(c('ggplot2', , 'gpubr', 'plyr', 'readxl'))"
   ]
  },
  {
   "cell_type": "code",
   "execution_count": 164,
   "metadata": {},
   "outputs": [
    {
     "name": "stderr",
     "output_type": "stream",
     "text": [
      "Loading required package: magrittr\n",
      "\n",
      "Attaching package: ‘magrittr’\n",
      "\n",
      "The following object is masked from ‘package:pastecs’:\n",
      "\n",
      "    extract\n",
      "\n",
      "\n",
      "Attaching package: ‘ggpubr’\n",
      "\n",
      "The following object is masked from ‘package:plyr’:\n",
      "\n",
      "    mutate\n",
      "\n"
     ]
    }
   ],
   "source": [
    "library(ggplot2)\n",
    "library(ggpubr)\n",
    "library(plyr)\n",
    "library(readxl)"
   ]
  },
  {
   "cell_type": "code",
   "execution_count": 89,
   "metadata": {},
   "outputs": [],
   "source": [
    "options(repr.plot.width = 6, repr.plot.height = 4)"
   ]
  },
  {
   "cell_type": "markdown",
   "metadata": {},
   "source": [
    "### Load and read data from local disk"
   ]
  },
  {
   "cell_type": "code",
   "execution_count": 90,
   "metadata": {},
   "outputs": [
    {
     "data": {
      "text/html": [
       "<table>\n",
       "<thead><tr><th scope=col>X</th><th scope=col>Company</th><th scope=col>Product</th><th scope=col>TypeName</th><th scope=col>Inches</th><th scope=col>ScreenResolution</th><th scope=col>Cpu</th><th scope=col>Ram</th><th scope=col>Memory</th><th scope=col>Gpu</th><th scope=col>OpSys</th><th scope=col>Weight</th><th scope=col>Price_euros</th></tr></thead>\n",
       "<tbody>\n",
       "\t<tr><td>1                                 </td><td>Apple                             </td><td>MacBook Pro                       </td><td>Ultrabook                         </td><td>13.3                              </td><td>IPS Panel Retina Display 2560x1600</td><td>Intel Core i5 2.3GHz              </td><td>8GB                               </td><td>128GB SSD                         </td><td>Intel Iris Plus Graphics 640      </td><td>macOS                             </td><td>1.37kg                            </td><td>1339.69                           </td></tr>\n",
       "\t<tr><td>2                                 </td><td>Apple                             </td><td>Macbook Air                       </td><td>Ultrabook                         </td><td>13.3                              </td><td>1440x900                          </td><td>Intel Core i5 1.8GHz              </td><td>8GB                               </td><td>128GB Flash Storage               </td><td>Intel HD Graphics 6000            </td><td>macOS                             </td><td>1.34kg                            </td><td> 898.94                           </td></tr>\n",
       "\t<tr><td>3                                 </td><td>HP                                </td><td>250 G6                            </td><td>Notebook                          </td><td>15.6                              </td><td>Full HD 1920x1080                 </td><td>Intel Core i5 7200U 2.5GHz        </td><td>8GB                               </td><td>256GB SSD                         </td><td>Intel HD Graphics 620             </td><td>No OS                             </td><td>1.86kg                            </td><td> 575.00                           </td></tr>\n",
       "\t<tr><td>4                                 </td><td>Apple                             </td><td>MacBook Pro                       </td><td>Ultrabook                         </td><td>15.4                              </td><td>IPS Panel Retina Display 2880x1800</td><td>Intel Core i7 2.7GHz              </td><td>16GB                              </td><td>512GB SSD                         </td><td>AMD Radeon Pro 455                </td><td>macOS                             </td><td>1.83kg                            </td><td>2537.45                           </td></tr>\n",
       "\t<tr><td>5                                 </td><td>Apple                             </td><td>MacBook Pro                       </td><td>Ultrabook                         </td><td>13.3                              </td><td>IPS Panel Retina Display 2560x1600</td><td>Intel Core i5 3.1GHz              </td><td>8GB                               </td><td>256GB SSD                         </td><td>Intel Iris Plus Graphics 650      </td><td>macOS                             </td><td>1.37kg                            </td><td>1803.60                           </td></tr>\n",
       "</tbody>\n",
       "</table>\n"
      ],
      "text/latex": [
       "\\begin{tabular}{r|lllllllllllll}\n",
       " X & Company & Product & TypeName & Inches & ScreenResolution & Cpu & Ram & Memory & Gpu & OpSys & Weight & Price\\_euros\\\\\n",
       "\\hline\n",
       "\t 1                                  & Apple                              & MacBook Pro                        & Ultrabook                          & 13.3                               & IPS Panel Retina Display 2560x1600 & Intel Core i5 2.3GHz               & 8GB                                & 128GB SSD                          & Intel Iris Plus Graphics 640       & macOS                              & 1.37kg                             & 1339.69                           \\\\\n",
       "\t 2                                  & Apple                              & Macbook Air                        & Ultrabook                          & 13.3                               & 1440x900                           & Intel Core i5 1.8GHz               & 8GB                                & 128GB Flash Storage                & Intel HD Graphics 6000             & macOS                              & 1.34kg                             &  898.94                           \\\\\n",
       "\t 3                                  & HP                                 & 250 G6                             & Notebook                           & 15.6                               & Full HD 1920x1080                  & Intel Core i5 7200U 2.5GHz         & 8GB                                & 256GB SSD                          & Intel HD Graphics 620              & No OS                              & 1.86kg                             &  575.00                           \\\\\n",
       "\t 4                                  & Apple                              & MacBook Pro                        & Ultrabook                          & 15.4                               & IPS Panel Retina Display 2880x1800 & Intel Core i7 2.7GHz               & 16GB                               & 512GB SSD                          & AMD Radeon Pro 455                 & macOS                              & 1.83kg                             & 2537.45                           \\\\\n",
       "\t 5                                  & Apple                              & MacBook Pro                        & Ultrabook                          & 13.3                               & IPS Panel Retina Display 2560x1600 & Intel Core i5 3.1GHz               & 8GB                                & 256GB SSD                          & Intel Iris Plus Graphics 650       & macOS                              & 1.37kg                             & 1803.60                           \\\\\n",
       "\\end{tabular}\n"
      ],
      "text/markdown": [
       "\n",
       "| X | Company | Product | TypeName | Inches | ScreenResolution | Cpu | Ram | Memory | Gpu | OpSys | Weight | Price_euros |\n",
       "|---|---|---|---|---|---|---|---|---|---|---|---|---|\n",
       "| 1                                  | Apple                              | MacBook Pro                        | Ultrabook                          | 13.3                               | IPS Panel Retina Display 2560x1600 | Intel Core i5 2.3GHz               | 8GB                                | 128GB SSD                          | Intel Iris Plus Graphics 640       | macOS                              | 1.37kg                             | 1339.69                            |\n",
       "| 2                                  | Apple                              | Macbook Air                        | Ultrabook                          | 13.3                               | 1440x900                           | Intel Core i5 1.8GHz               | 8GB                                | 128GB Flash Storage                | Intel HD Graphics 6000             | macOS                              | 1.34kg                             |  898.94                            |\n",
       "| 3                                  | HP                                 | 250 G6                             | Notebook                           | 15.6                               | Full HD 1920x1080                  | Intel Core i5 7200U 2.5GHz         | 8GB                                | 256GB SSD                          | Intel HD Graphics 620              | No OS                              | 1.86kg                             |  575.00                            |\n",
       "| 4                                  | Apple                              | MacBook Pro                        | Ultrabook                          | 15.4                               | IPS Panel Retina Display 2880x1800 | Intel Core i7 2.7GHz               | 16GB                               | 512GB SSD                          | AMD Radeon Pro 455                 | macOS                              | 1.83kg                             | 2537.45                            |\n",
       "| 5                                  | Apple                              | MacBook Pro                        | Ultrabook                          | 13.3                               | IPS Panel Retina Display 2560x1600 | Intel Core i5 3.1GHz               | 8GB                                | 256GB SSD                          | Intel Iris Plus Graphics 650       | macOS                              | 1.37kg                             | 1803.60                            |\n",
       "\n"
      ],
      "text/plain": [
       "  X Company Product     TypeName  Inches ScreenResolution                  \n",
       "1 1 Apple   MacBook Pro Ultrabook 13.3   IPS Panel Retina Display 2560x1600\n",
       "2 2 Apple   Macbook Air Ultrabook 13.3   1440x900                          \n",
       "3 3 HP      250 G6      Notebook  15.6   Full HD 1920x1080                 \n",
       "4 4 Apple   MacBook Pro Ultrabook 15.4   IPS Panel Retina Display 2880x1800\n",
       "5 5 Apple   MacBook Pro Ultrabook 13.3   IPS Panel Retina Display 2560x1600\n",
       "  Cpu                        Ram  Memory             \n",
       "1 Intel Core i5 2.3GHz       8GB  128GB SSD          \n",
       "2 Intel Core i5 1.8GHz       8GB  128GB Flash Storage\n",
       "3 Intel Core i5 7200U 2.5GHz 8GB  256GB SSD          \n",
       "4 Intel Core i7 2.7GHz       16GB 512GB SSD          \n",
       "5 Intel Core i5 3.1GHz       8GB  256GB SSD          \n",
       "  Gpu                          OpSys Weight Price_euros\n",
       "1 Intel Iris Plus Graphics 640 macOS 1.37kg 1339.69    \n",
       "2 Intel HD Graphics 6000       macOS 1.34kg  898.94    \n",
       "3 Intel HD Graphics 620        No OS 1.86kg  575.00    \n",
       "4 AMD Radeon Pro 455           macOS 1.83kg 2537.45    \n",
       "5 Intel Iris Plus Graphics 650 macOS 1.37kg 1803.60    "
      ]
     },
     "metadata": {},
     "output_type": "display_data"
    }
   ],
   "source": [
    "laptop_price <- read.csv('datasets/laptops.csv', stringsAsFactors = F)\n",
    "\n",
    "head(laptop_price, 5)"
   ]
  },
  {
   "cell_type": "code",
   "execution_count": 91,
   "metadata": {},
   "outputs": [
    {
     "data": {
      "text/html": [
       "<ol class=list-inline>\n",
       "\t<li>1303</li>\n",
       "\t<li>13</li>\n",
       "</ol>\n"
      ],
      "text/latex": [
       "\\begin{enumerate*}\n",
       "\\item 1303\n",
       "\\item 13\n",
       "\\end{enumerate*}\n"
      ],
      "text/markdown": [
       "1. 1303\n",
       "2. 13\n",
       "\n",
       "\n"
      ],
      "text/plain": [
       "[1] 1303   13"
      ]
     },
     "metadata": {},
     "output_type": "display_data"
    }
   ],
   "source": [
    "dim(laptop_price)"
   ]
  },
  {
   "cell_type": "code",
   "execution_count": 92,
   "metadata": {},
   "outputs": [
    {
     "data": {
      "text/html": [
       "<dl class=dl-horizontal>\n",
       "\t<dt>X</dt>\n",
       "\t\t<dd>0</dd>\n",
       "\t<dt>Company</dt>\n",
       "\t\t<dd>0</dd>\n",
       "\t<dt>Product</dt>\n",
       "\t\t<dd>0</dd>\n",
       "\t<dt>TypeName</dt>\n",
       "\t\t<dd>0</dd>\n",
       "\t<dt>Inches</dt>\n",
       "\t\t<dd>0</dd>\n",
       "\t<dt>ScreenResolution</dt>\n",
       "\t\t<dd>0</dd>\n",
       "\t<dt>Cpu</dt>\n",
       "\t\t<dd>0</dd>\n",
       "\t<dt>Ram</dt>\n",
       "\t\t<dd>0</dd>\n",
       "\t<dt>Memory</dt>\n",
       "\t\t<dd>0</dd>\n",
       "\t<dt>Gpu</dt>\n",
       "\t\t<dd>0</dd>\n",
       "\t<dt>OpSys</dt>\n",
       "\t\t<dd>0</dd>\n",
       "\t<dt>Weight</dt>\n",
       "\t\t<dd>0</dd>\n",
       "\t<dt>Price_euros</dt>\n",
       "\t\t<dd>0</dd>\n",
       "</dl>\n"
      ],
      "text/latex": [
       "\\begin{description*}\n",
       "\\item[X] 0\n",
       "\\item[Company] 0\n",
       "\\item[Product] 0\n",
       "\\item[TypeName] 0\n",
       "\\item[Inches] 0\n",
       "\\item[ScreenResolution] 0\n",
       "\\item[Cpu] 0\n",
       "\\item[Ram] 0\n",
       "\\item[Memory] 0\n",
       "\\item[Gpu] 0\n",
       "\\item[OpSys] 0\n",
       "\\item[Weight] 0\n",
       "\\item[Price\\textbackslash{}\\_euros] 0\n",
       "\\end{description*}\n"
      ],
      "text/markdown": [
       "X\n",
       ":   0Company\n",
       ":   0Product\n",
       ":   0TypeName\n",
       ":   0Inches\n",
       ":   0ScreenResolution\n",
       ":   0Cpu\n",
       ":   0Ram\n",
       ":   0Memory\n",
       ":   0Gpu\n",
       ":   0OpSys\n",
       ":   0Weight\n",
       ":   0Price_euros\n",
       ":   0\n",
       "\n"
      ],
      "text/plain": [
       "               X          Company          Product         TypeName \n",
       "               0                0                0                0 \n",
       "          Inches ScreenResolution              Cpu              Ram \n",
       "               0                0                0                0 \n",
       "          Memory              Gpu            OpSys           Weight \n",
       "               0                0                0                0 \n",
       "     Price_euros \n",
       "               0 "
      ]
     },
     "metadata": {},
     "output_type": "display_data"
    }
   ],
   "source": [
    "colSums(is.na(laptop_price))"
   ]
  },
  {
   "cell_type": "markdown",
   "metadata": {},
   "source": [
    "### Summary of price "
   ]
  },
  {
   "cell_type": "code",
   "execution_count": 93,
   "metadata": {},
   "outputs": [
    {
     "data": {
      "text/plain": [
       "   Min. 1st Qu.  Median    Mean 3rd Qu.    Max. \n",
       "    174     599     977    1124    1488    6099 "
      ]
     },
     "metadata": {},
     "output_type": "display_data"
    }
   ],
   "source": [
    "summary(laptop_price$Price_euros)"
   ]
  },
  {
   "cell_type": "code",
   "execution_count": 94,
   "metadata": {},
   "outputs": [
    {
     "data": {
      "image/png": "[encoded data removed]",
      "text/plain": [
       "plot without title"
      ]
     },
     "metadata": {},
     "output_type": "display_data"
    }
   ],
   "source": [
    "ggplot(data = laptop_price, \n",
    "       aes(factor(x = TypeName))) + \n",
    "       geom_bar(col = 'black', fill = 'steelblue') +\n",
    "       ggtitle(\"Count plot for type of laptop\")+\n",
    "       xlab('Types of name') +\n",
    "       ylab('count')"
   ]
  },
  {
   "cell_type": "markdown",
   "metadata": {},
   "source": [
    "### Barplot price vs Ram  "
   ]
  },
  {
   "cell_type": "code",
   "execution_count": 95,
   "metadata": {},
   "outputs": [
    {
     "data": {
      "image/png": "[encoded data removed]",
      "text/plain": [
       "plot without title"
      ]
     },
     "metadata": {},
     "output_type": "display_data"
    }
   ],
   "source": [
    "ggplot(data = laptop_price, \n",
    "       aes(factor(x = Ram))) + \n",
    "       geom_bar(col = 'black', fill = 'steelblue') +\n",
    "       ggtitle('Count plot for RAM')+\n",
    "       xlab('RAM') +\n",
    "       ylab('frequencies')"
   ]
  },
  {
   "cell_type": "markdown",
   "metadata": {},
   "source": [
    "### Boxplot "
   ]
  },
  {
   "cell_type": "code",
   "execution_count": 96,
   "metadata": {},
   "outputs": [
    {
     "data": {
      "image/png": "[encoded data removed]",
      "text/plain": [
       "plot without title"
      ]
     },
     "metadata": {},
     "output_type": "display_data"
    }
   ],
   "source": [
    "price_boxplot <- boxplot(laptop_price$Price_euros, col='darkred', \n",
    "                         xlab = 'Price',\n",
    "                         ylab = 'Price(in euros)')"
   ]
  },
  {
   "cell_type": "code",
   "execution_count": 97,
   "metadata": {},
   "outputs": [
    {
     "data": {
      "text/html": [
       "<dl>\n",
       "\t<dt>$stats</dt>\n",
       "\t\t<dd><table>\n",
       "<tbody>\n",
       "\t<tr><td> 174.00</td></tr>\n",
       "\t<tr><td> 599.00</td></tr>\n",
       "\t<tr><td> 977.00</td></tr>\n",
       "\t<tr><td>1487.88</td></tr>\n",
       "\t<tr><td>2813.75</td></tr>\n",
       "</tbody>\n",
       "</table>\n",
       "</dd>\n",
       "\t<dt>$n</dt>\n",
       "\t\t<dd>1303</dd>\n",
       "\t<dt>$conf</dt>\n",
       "\t\t<dd><table>\n",
       "<tbody>\n",
       "\t<tr><td> 938.093</td></tr>\n",
       "\t<tr><td>1015.907</td></tr>\n",
       "</tbody>\n",
       "</table>\n",
       "</dd>\n",
       "\t<dt>$out</dt>\n",
       "\t\t<dd><ol class=list-inline>\n",
       "\t<li>2858</li>\n",
       "\t<li>2824</li>\n",
       "\t<li>6099</li>\n",
       "\t<li>3055</li>\n",
       "\t<li>3890</li>\n",
       "\t<li>2999</li>\n",
       "\t<li>2884.86</li>\n",
       "\t<li>2968</li>\n",
       "\t<li>3012.77</li>\n",
       "\t<li>2999</li>\n",
       "\t<li>4899</li>\n",
       "\t<li>3147.37</li>\n",
       "\t<li>3659.4</li>\n",
       "\t<li>3299</li>\n",
       "\t<li>4389</li>\n",
       "\t<li>2868.99</li>\n",
       "\t<li>2899</li>\n",
       "\t<li>3588.8</li>\n",
       "\t<li>5499</li>\n",
       "\t<li>3072.89</li>\n",
       "\t<li>3100</li>\n",
       "\t<li>3154</li>\n",
       "\t<li>3149</li>\n",
       "\t<li>2968</li>\n",
       "\t<li>3975</li>\n",
       "\t<li>3240</li>\n",
       "\t<li>2899</li>\n",
       "\t<li>3949.4</li>\n",
       "\t<li>3499</li>\n",
       "</ol>\n",
       "</dd>\n",
       "\t<dt>$group</dt>\n",
       "\t\t<dd><ol class=list-inline>\n",
       "\t<li>1</li>\n",
       "\t<li>1</li>\n",
       "\t<li>1</li>\n",
       "\t<li>1</li>\n",
       "\t<li>1</li>\n",
       "\t<li>1</li>\n",
       "\t<li>1</li>\n",
       "\t<li>1</li>\n",
       "\t<li>1</li>\n",
       "\t<li>1</li>\n",
       "\t<li>1</li>\n",
       "\t<li>1</li>\n",
       "\t<li>1</li>\n",
       "\t<li>1</li>\n",
       "\t<li>1</li>\n",
       "\t<li>1</li>\n",
       "\t<li>1</li>\n",
       "\t<li>1</li>\n",
       "\t<li>1</li>\n",
       "\t<li>1</li>\n",
       "\t<li>1</li>\n",
       "\t<li>1</li>\n",
       "\t<li>1</li>\n",
       "\t<li>1</li>\n",
       "\t<li>1</li>\n",
       "\t<li>1</li>\n",
       "\t<li>1</li>\n",
       "\t<li>1</li>\n",
       "\t<li>1</li>\n",
       "</ol>\n",
       "</dd>\n",
       "\t<dt>$names</dt>\n",
       "\t\t<dd>''</dd>\n",
       "</dl>\n"
      ],
      "text/latex": [
       "\\begin{description}\n",
       "\\item[\\$stats] \\begin{tabular}{l}\n",
       "\t  174.00\\\\\n",
       "\t  599.00\\\\\n",
       "\t  977.00\\\\\n",
       "\t 1487.88\\\\\n",
       "\t 2813.75\\\\\n",
       "\\end{tabular}\n",
       "\n",
       "\\item[\\$n] 1303\n",
       "\\item[\\$conf] \\begin{tabular}{l}\n",
       "\t  938.093\\\\\n",
       "\t 1015.907\\\\\n",
       "\\end{tabular}\n",
       "\n",
       "\\item[\\$out] \\begin{enumerate*}\n",
       "\\item 2858\n",
       "\\item 2824\n",
       "\\item 6099\n",
       "\\item 3055\n",
       "\\item 3890\n",
       "\\item 2999\n",
       "\\item 2884.86\n",
       "\\item 2968\n",
       "\\item 3012.77\n",
       "\\item 2999\n",
       "\\item 4899\n",
       "\\item 3147.37\n",
       "\\item 3659.4\n",
       "\\item 3299\n",
       "\\item 4389\n",
       "\\item 2868.99\n",
       "\\item 2899\n",
       "\\item 3588.8\n",
       "\\item 5499\n",
       "\\item 3072.89\n",
       "\\item 3100\n",
       "\\item 3154\n",
       "\\item 3149\n",
       "\\item 2968\n",
       "\\item 3975\n",
       "\\item 3240\n",
       "\\item 2899\n",
       "\\item 3949.4\n",
       "\\item 3499\n",
       "\\end{enumerate*}\n",
       "\n",
       "\\item[\\$group] \\begin{enumerate*}\n",
       "\\item 1\n",
       "\\item 1\n",
       "\\item 1\n",
       "\\item 1\n",
       "\\item 1\n",
       "\\item 1\n",
       "\\item 1\n",
       "\\item 1\n",
       "\\item 1\n",
       "\\item 1\n",
       "\\item 1\n",
       "\\item 1\n",
       "\\item 1\n",
       "\\item 1\n",
       "\\item 1\n",
       "\\item 1\n",
       "\\item 1\n",
       "\\item 1\n",
       "\\item 1\n",
       "\\item 1\n",
       "\\item 1\n",
       "\\item 1\n",
       "\\item 1\n",
       "\\item 1\n",
       "\\item 1\n",
       "\\item 1\n",
       "\\item 1\n",
       "\\item 1\n",
       "\\item 1\n",
       "\\end{enumerate*}\n",
       "\n",
       "\\item[\\$names] ''\n",
       "\\end{description}\n"
      ],
      "text/markdown": [
       "$stats\n",
       ":   \n",
       "|  174.00 |\n",
       "|  599.00 |\n",
       "|  977.00 |\n",
       "| 1487.88 |\n",
       "| 2813.75 |\n",
       "\n",
       "\n",
       "$n\n",
       ":   1303\n",
       "$conf\n",
       ":   \n",
       "|  938.093 |\n",
       "| 1015.907 |\n",
       "\n",
       "\n",
       "$out\n",
       ":   1. 2858\n",
       "2. 2824\n",
       "3. 6099\n",
       "4. 3055\n",
       "5. 3890\n",
       "6. 2999\n",
       "7. 2884.86\n",
       "8. 2968\n",
       "9. 3012.77\n",
       "10. 2999\n",
       "11. 4899\n",
       "12. 3147.37\n",
       "13. 3659.4\n",
       "14. 3299\n",
       "15. 4389\n",
       "16. 2868.99\n",
       "17. 2899\n",
       "18. 3588.8\n",
       "19. 5499\n",
       "20. 3072.89\n",
       "21. 3100\n",
       "22. 3154\n",
       "23. 3149\n",
       "24. 2968\n",
       "25. 3975\n",
       "26. 3240\n",
       "27. 2899\n",
       "28. 3949.4\n",
       "29. 3499\n",
       "\n",
       "\n",
       "\n",
       "$group\n",
       ":   1. 1\n",
       "2. 1\n",
       "3. 1\n",
       "4. 1\n",
       "5. 1\n",
       "6. 1\n",
       "7. 1\n",
       "8. 1\n",
       "9. 1\n",
       "10. 1\n",
       "11. 1\n",
       "12. 1\n",
       "13. 1\n",
       "14. 1\n",
       "15. 1\n",
       "16. 1\n",
       "17. 1\n",
       "18. 1\n",
       "19. 1\n",
       "20. 1\n",
       "21. 1\n",
       "22. 1\n",
       "23. 1\n",
       "24. 1\n",
       "25. 1\n",
       "26. 1\n",
       "27. 1\n",
       "28. 1\n",
       "29. 1\n",
       "\n",
       "\n",
       "\n",
       "$names\n",
       ":   ''\n",
       "\n",
       "\n"
      ],
      "text/plain": [
       "$stats\n",
       "        [,1]\n",
       "[1,]  174.00\n",
       "[2,]  599.00\n",
       "[3,]  977.00\n",
       "[4,] 1487.88\n",
       "[5,] 2813.75\n",
       "\n",
       "$n\n",
       "[1] 1303\n",
       "\n",
       "$conf\n",
       "         [,1]\n",
       "[1,]  938.093\n",
       "[2,] 1015.907\n",
       "\n",
       "$out\n",
       " [1] 2858.00 2824.00 6099.00 3055.00 3890.00 2999.00 2884.86 2968.00 3012.77\n",
       "[10] 2999.00 4899.00 3147.37 3659.40 3299.00 4389.00 2868.99 2899.00 3588.80\n",
       "[19] 5499.00 3072.89 3100.00 3154.00 3149.00 2968.00 3975.00 3240.00 2899.00\n",
       "[28] 3949.40 3499.00\n",
       "\n",
       "$group\n",
       " [1] 1 1 1 1 1 1 1 1 1 1 1 1 1 1 1 1 1 1 1 1 1 1 1 1 1 1 1 1 1\n",
       "\n",
       "$names\n",
       "[1] \"\"\n"
      ]
     },
     "metadata": {},
     "output_type": "display_data"
    }
   ],
   "source": [
    "price_boxplot"
   ]
  },
  {
   "cell_type": "markdown",
   "metadata": {},
   "source": [
    "### Check outliers"
   ]
  },
  {
   "cell_type": "code",
   "execution_count": 98,
   "metadata": {},
   "outputs": [
    {
     "data": {
      "text/html": [
       "<ol class=list-inline>\n",
       "\t<li>2858</li>\n",
       "\t<li>2824</li>\n",
       "\t<li>6099</li>\n",
       "\t<li>3055</li>\n",
       "\t<li>3890</li>\n",
       "\t<li>2999</li>\n",
       "\t<li>2884.86</li>\n",
       "\t<li>2968</li>\n",
       "\t<li>3012.77</li>\n",
       "\t<li>2999</li>\n",
       "\t<li>4899</li>\n",
       "\t<li>3147.37</li>\n",
       "\t<li>3659.4</li>\n",
       "\t<li>3299</li>\n",
       "\t<li>4389</li>\n",
       "\t<li>2868.99</li>\n",
       "\t<li>2899</li>\n",
       "\t<li>3588.8</li>\n",
       "\t<li>5499</li>\n",
       "\t<li>3072.89</li>\n",
       "\t<li>3100</li>\n",
       "\t<li>3154</li>\n",
       "\t<li>3149</li>\n",
       "\t<li>2968</li>\n",
       "\t<li>3975</li>\n",
       "\t<li>3240</li>\n",
       "\t<li>2899</li>\n",
       "\t<li>3949.4</li>\n",
       "\t<li>3499</li>\n",
       "</ol>\n"
      ],
      "text/latex": [
       "\\begin{enumerate*}\n",
       "\\item 2858\n",
       "\\item 2824\n",
       "\\item 6099\n",
       "\\item 3055\n",
       "\\item 3890\n",
       "\\item 2999\n",
       "\\item 2884.86\n",
       "\\item 2968\n",
       "\\item 3012.77\n",
       "\\item 2999\n",
       "\\item 4899\n",
       "\\item 3147.37\n",
       "\\item 3659.4\n",
       "\\item 3299\n",
       "\\item 4389\n",
       "\\item 2868.99\n",
       "\\item 2899\n",
       "\\item 3588.8\n",
       "\\item 5499\n",
       "\\item 3072.89\n",
       "\\item 3100\n",
       "\\item 3154\n",
       "\\item 3149\n",
       "\\item 2968\n",
       "\\item 3975\n",
       "\\item 3240\n",
       "\\item 2899\n",
       "\\item 3949.4\n",
       "\\item 3499\n",
       "\\end{enumerate*}\n"
      ],
      "text/markdown": [
       "1. 2858\n",
       "2. 2824\n",
       "3. 6099\n",
       "4. 3055\n",
       "5. 3890\n",
       "6. 2999\n",
       "7. 2884.86\n",
       "8. 2968\n",
       "9. 3012.77\n",
       "10. 2999\n",
       "11. 4899\n",
       "12. 3147.37\n",
       "13. 3659.4\n",
       "14. 3299\n",
       "15. 4389\n",
       "16. 2868.99\n",
       "17. 2899\n",
       "18. 3588.8\n",
       "19. 5499\n",
       "20. 3072.89\n",
       "21. 3100\n",
       "22. 3154\n",
       "23. 3149\n",
       "24. 2968\n",
       "25. 3975\n",
       "26. 3240\n",
       "27. 2899\n",
       "28. 3949.4\n",
       "29. 3499\n",
       "\n",
       "\n"
      ],
      "text/plain": [
       " [1] 2858.00 2824.00 6099.00 3055.00 3890.00 2999.00 2884.86 2968.00 3012.77\n",
       "[10] 2999.00 4899.00 3147.37 3659.40 3299.00 4389.00 2868.99 2899.00 3588.80\n",
       "[19] 5499.00 3072.89 3100.00 3154.00 3149.00 2968.00 3975.00 3240.00 2899.00\n",
       "[28] 3949.40 3499.00"
      ]
     },
     "metadata": {},
     "output_type": "display_data"
    }
   ],
   "source": [
    "price_boxplot$out"
   ]
  },
  {
   "cell_type": "markdown",
   "metadata": {},
   "source": [
    "### Removing outliers"
   ]
  },
  {
   "cell_type": "code",
   "execution_count": 99,
   "metadata": {},
   "outputs": [],
   "source": [
    "laptop_price_processed <- laptop_price[-which(laptop_price$Price_euros %in% price_boxplot$out),]"
   ]
  },
  {
   "cell_type": "markdown",
   "metadata": {},
   "source": [
    "### Boxplot after removing outliers"
   ]
  },
  {
   "cell_type": "code",
   "execution_count": 100,
   "metadata": {},
   "outputs": [
    {
     "data": {
      "image/png": "[encoded data removed]",
      "text/plain": [
       "plot without title"
      ]
     },
     "metadata": {},
     "output_type": "display_data"
    }
   ],
   "source": [
    "boxplot(laptop_price_processed$Price_euros, col='darkgreen')"
   ]
  },
  {
   "cell_type": "code",
   "execution_count": 161,
   "metadata": {},
   "outputs": [
    {
     "data": {
      "text/plain": [
       "\n",
       "\tShapiro-Wilk normality test\n",
       "\n",
       "data:  laptop_price_processed$Price_euros\n",
       "W = 0.94014, p-value < 2.2e-16\n"
      ]
     },
     "metadata": {},
     "output_type": "display_data"
    }
   ],
   "source": [
    "shapiro.test(laptop_price_processed$Price_euros)"
   ]
  },
  {
   "cell_type": "code",
   "execution_count": 166,
   "metadata": {},
   "outputs": [
    {
     "data": {
      "image/png": "[encoded data removed]",
      "text/plain": [
       "plot without title"
      ]
     },
     "metadata": {},
     "output_type": "display_data"
    }
   ],
   "source": [
    "ggqqplot(laptop_price_processed$Price_euros, \n",
    "         ggtheme = theme_minimal())"
   ]
  },
  {
   "cell_type": "markdown",
   "metadata": {},
   "source": [
    "### Find `mean`, `standard deviation`, `degree of freedom`, `z-score or z-test` and `p-value`  manually"
   ]
  },
  {
   "cell_type": "markdown",
   "metadata": {},
   "source": [
    "__Considerations of hypothesis__\n",
    "\n",
    "* Null hypothesis(H0):- The mean of price of laptop price is not equal to `mu=1000`.\n",
    "* Alternate hypothesis(H1):- The mean of price of laptop price is equal to `mu=1000`.\n"
   ]
  },
  {
   "cell_type": "code",
   "execution_count": 101,
   "metadata": {},
   "outputs": [
    {
     "data": {
      "text/html": [
       "1070.10884615385"
      ],
      "text/latex": [
       "1070.10884615385"
      ],
      "text/markdown": [
       "1070.10884615385"
      ],
      "text/plain": [
       "[1] 1070.109"
      ]
     },
     "metadata": {},
     "output_type": "display_data"
    }
   ],
   "source": [
    "mean_price <- mean(laptop_price_processed$Price_euros)\n",
    "\n",
    "mean_price"
   ]
  },
  {
   "cell_type": "code",
   "execution_count": 102,
   "metadata": {},
   "outputs": [
    {
     "data": {
      "text/html": [
       "596.578926715966"
      ],
      "text/latex": [
       "596.578926715966"
      ],
      "text/markdown": [
       "596.578926715966"
      ],
      "text/plain": [
       "[1] 596.5789"
      ]
     },
     "metadata": {},
     "output_type": "display_data"
    }
   ],
   "source": [
    "std_price <- sd(laptop_price_processed$Price_euros)\n",
    "\n",
    "std_price"
   ]
  },
  {
   "cell_type": "code",
   "execution_count": 103,
   "metadata": {},
   "outputs": [
    {
     "data": {
      "text/html": [
       "1274"
      ],
      "text/latex": [
       "1274"
      ],
      "text/markdown": [
       "1274"
      ],
      "text/plain": [
       "[1] 1274"
      ]
     },
     "metadata": {},
     "output_type": "display_data"
    }
   ],
   "source": [
    "n_price <- length(laptop_price_processed$Price_euros)\n",
    "\n",
    "n_price"
   ]
  },
  {
   "cell_type": "code",
   "execution_count": 134,
   "metadata": {},
   "outputs": [],
   "source": [
    "test <- function(mean, mu, std, n){\n",
    "    \n",
    "    test_statistic <- (mean - mu) / (std / sqrt(n))\n",
    "    \n",
    "    if (n > 30) { \n",
    "        p_value <- 2 * pnorm(-abs(test_statistic))\n",
    "        return(cat('z-test = ', test_statistic, '\\np-value', p_value))\n",
    "    }\n",
    "    else { \n",
    "        p_value <- 2 * pt(test_statistic, df = n - 1, lower = FALSE)\n",
    "        return(cat('t-test = ', test_statistic, '\\np-value', p_value))\n",
    "    }\n",
    "}"
   ]
  },
  {
   "cell_type": "code",
   "execution_count": 135,
   "metadata": {},
   "outputs": [
    {
     "name": "stdout",
     "output_type": "stream",
     "text": [
      "z-test =  4.194591 \n",
      "p-value 2.733643e-05"
     ]
    }
   ],
   "source": [
    "mu = 1000\n",
    "\n",
    "test(mean_price, mu, std_price, n_price)"
   ]
  },
  {
   "cell_type": "code",
   "execution_count": 136,
   "metadata": {},
   "outputs": [
    {
     "name": "stdout",
     "output_type": "stream",
     "text": [
      "z-test =  0.006512232 \n",
      "p-value 0.994804"
     ]
    }
   ],
   "source": [
    "mu = 1070\n",
    "\n",
    "test(mean_price, mu, std_price, n_price)"
   ]
  },
  {
   "cell_type": "markdown",
   "metadata": {},
   "source": [
    "### Z-test function"
   ]
  },
  {
   "cell_type": "code",
   "execution_count": 119,
   "metadata": {},
   "outputs": [
    {
     "name": "stderr",
     "output_type": "stream",
     "text": [
      "Updating HTML index of packages in '.Library'\n",
      "Making 'packages.html' ... done\n"
     ]
    }
   ],
   "source": [
    "install.packages(c(\"pastecs\", \"TeachingDemos\"))"
   ]
  },
  {
   "cell_type": "code",
   "execution_count": 120,
   "metadata": {},
   "outputs": [],
   "source": [
    "library(TeachingDemos)\n",
    "library(pastecs)"
   ]
  },
  {
   "cell_type": "code",
   "execution_count": 137,
   "metadata": {},
   "outputs": [
    {
     "data": {
      "text/plain": [
       "\n",
       "\tOne Sample z-test\n",
       "\n",
       "data:  laptop_price_processed$Price_euros\n",
       "z = 4.1946, n = 1274.000, Std. Dev. = 596.579, Std. Dev. of the sample\n",
       "mean = 16.714, p-value = 2.734e-05\n",
       "alternative hypothesis: true mean is not equal to 1000\n",
       "95 percent confidence interval:\n",
       " 1037.350 1102.868\n",
       "sample estimates:\n",
       "mean of laptop_price_processed$Price_euros \n",
       "                                  1070.109 \n"
      ]
     },
     "metadata": {},
     "output_type": "display_data"
    }
   ],
   "source": [
    "mu = 1000\n",
    "\n",
    "price_ztest <- z.test(laptop_price_processed$Price_euros, mu = mu, stdev = std_price)\n",
    "\n",
    "price_ztest"
   ]
  },
  {
   "cell_type": "code",
   "execution_count": 138,
   "metadata": {},
   "outputs": [
    {
     "data": {
      "text/html": [
       "<ol class=list-inline>\n",
       "\t<li>'statistic'</li>\n",
       "\t<li>'parameter'</li>\n",
       "\t<li>'p.value'</li>\n",
       "\t<li>'conf.int'</li>\n",
       "\t<li>'estimate'</li>\n",
       "\t<li>'null.value'</li>\n",
       "\t<li>'alternative'</li>\n",
       "\t<li>'method'</li>\n",
       "\t<li>'data.name'</li>\n",
       "</ol>\n"
      ],
      "text/latex": [
       "\\begin{enumerate*}\n",
       "\\item 'statistic'\n",
       "\\item 'parameter'\n",
       "\\item 'p.value'\n",
       "\\item 'conf.int'\n",
       "\\item 'estimate'\n",
       "\\item 'null.value'\n",
       "\\item 'alternative'\n",
       "\\item 'method'\n",
       "\\item 'data.name'\n",
       "\\end{enumerate*}\n"
      ],
      "text/markdown": [
       "1. 'statistic'\n",
       "2. 'parameter'\n",
       "3. 'p.value'\n",
       "4. 'conf.int'\n",
       "5. 'estimate'\n",
       "6. 'null.value'\n",
       "7. 'alternative'\n",
       "8. 'method'\n",
       "9. 'data.name'\n",
       "\n",
       "\n"
      ],
      "text/plain": [
       "[1] \"statistic\"   \"parameter\"   \"p.value\"     \"conf.int\"    \"estimate\"   \n",
       "[6] \"null.value\"  \"alternative\" \"method\"      \"data.name\"  "
      ]
     },
     "metadata": {},
     "output_type": "display_data"
    }
   ],
   "source": [
    "names(price_ztest)"
   ]
  },
  {
   "cell_type": "code",
   "execution_count": 139,
   "metadata": {},
   "outputs": [
    {
     "data": {
      "text/html": [
       "'One Sample z-test'"
      ],
      "text/latex": [
       "'One Sample z-test'"
      ],
      "text/markdown": [
       "'One Sample z-test'"
      ],
      "text/plain": [
       "[1] \"One Sample z-test\""
      ]
     },
     "metadata": {},
     "output_type": "display_data"
    }
   ],
   "source": [
    "price_ztest$method"
   ]
  },
  {
   "cell_type": "code",
   "execution_count": 140,
   "metadata": {},
   "outputs": [
    {
     "data": {
      "text/html": [
       "'laptop_price_processed$Price_euros'"
      ],
      "text/latex": [
       "'laptop\\_price\\_processed\\$Price\\_euros'"
      ],
      "text/markdown": [
       "'laptop_price_processed$Price_euros'"
      ],
      "text/plain": [
       "[1] \"laptop_price_processed$Price_euros\""
      ]
     },
     "metadata": {},
     "output_type": "display_data"
    }
   ],
   "source": [
    "price_ztest$data.name"
   ]
  },
  {
   "cell_type": "code",
   "execution_count": 141,
   "metadata": {},
   "outputs": [
    {
     "data": {
      "text/html": [
       "<strong>z:</strong> 4.19459104275226"
      ],
      "text/latex": [
       "\\textbf{z:} 4.19459104275226"
      ],
      "text/markdown": [
       "**z:** 4.19459104275226"
      ],
      "text/plain": [
       "       z \n",
       "4.194591 "
      ]
     },
     "metadata": {},
     "output_type": "display_data"
    }
   ],
   "source": [
    "price_ztest$statistic"
   ]
  },
  {
   "cell_type": "code",
   "execution_count": 142,
   "metadata": {},
   "outputs": [
    {
     "data": {
      "text/html": [
       "<dl class=dl-horizontal>\n",
       "\t<dt>n</dt>\n",
       "\t\t<dd>1274</dd>\n",
       "\t<dt>Std. Dev.</dt>\n",
       "\t\t<dd>596.578926715966</dd>\n",
       "\t<dt>Std. Dev. of the sample mean</dt>\n",
       "\t\t<dd>16.7141076303459</dd>\n",
       "</dl>\n"
      ],
      "text/latex": [
       "\\begin{description*}\n",
       "\\item[n] 1274\n",
       "\\item[Std. Dev.] 596.578926715966\n",
       "\\item[Std. Dev. of the sample mean] 16.7141076303459\n",
       "\\end{description*}\n"
      ],
      "text/markdown": [
       "n\n",
       ":   1274Std. Dev.\n",
       ":   596.578926715966Std. Dev. of the sample mean\n",
       ":   16.7141076303459\n",
       "\n"
      ],
      "text/plain": [
       "                           n                    Std. Dev. \n",
       "                  1274.00000                    596.57893 \n",
       "Std. Dev. of the sample mean \n",
       "                    16.71411 "
      ]
     },
     "metadata": {},
     "output_type": "display_data"
    }
   ],
   "source": [
    "price_ztest$parameter"
   ]
  },
  {
   "cell_type": "code",
   "execution_count": 143,
   "metadata": {},
   "outputs": [
    {
     "data": {
      "text/html": [
       "2.73364339397459e-05"
      ],
      "text/latex": [
       "2.73364339397459e-05"
      ],
      "text/markdown": [
       "2.73364339397459e-05"
      ],
      "text/plain": [
       "[1] 2.733643e-05"
      ]
     },
     "metadata": {},
     "output_type": "display_data"
    }
   ],
   "source": [
    "price_ztest$p.value"
   ]
  },
  {
   "cell_type": "code",
   "execution_count": 144,
   "metadata": {},
   "outputs": [
    {
     "data": {
      "text/html": [
       "<ol class=list-inline>\n",
       "\t<li>1037.34979716464</li>\n",
       "\t<li>1102.86789514305</li>\n",
       "</ol>\n"
      ],
      "text/latex": [
       "\\begin{enumerate*}\n",
       "\\item 1037.34979716464\n",
       "\\item 1102.86789514305\n",
       "\\end{enumerate*}\n"
      ],
      "text/markdown": [
       "1. 1037.34979716464\n",
       "2. 1102.86789514305\n",
       "\n",
       "\n"
      ],
      "text/plain": [
       "[1] 1037.350 1102.868\n",
       "attr(,\"conf.level\")\n",
       "[1] 0.95"
      ]
     },
     "metadata": {},
     "output_type": "display_data"
    }
   ],
   "source": [
    "price_ztest$conf.int"
   ]
  },
  {
   "cell_type": "code",
   "execution_count": 145,
   "metadata": {},
   "outputs": [
    {
     "data": {
      "text/html": [
       "<strong>mean of laptop_price_processed$Price_euros:</strong> 1070.10884615385"
      ],
      "text/latex": [
       "\\textbf{mean of laptop\\textbackslash{}\\_price\\textbackslash{}\\_processed\\textbackslash{}\\$Price\\textbackslash{}\\_euros:} 1070.10884615385"
      ],
      "text/markdown": [
       "**mean of laptop_price_processed$Price_euros:** 1070.10884615385"
      ],
      "text/plain": [
       "mean of laptop_price_processed$Price_euros \n",
       "                                  1070.109 "
      ]
     },
     "metadata": {},
     "output_type": "display_data"
    }
   ],
   "source": [
    "price_ztest$estimate"
   ]
  },
  {
   "cell_type": "markdown",
   "metadata": {},
   "source": [
    "### Calculate t-test by using t.test function "
   ]
  },
  {
   "cell_type": "code",
   "execution_count": 147,
   "metadata": {},
   "outputs": [
    {
     "data": {
      "text/plain": [
       "\n",
       "\tOne Sample t-test\n",
       "\n",
       "data:  laptop_price_processed$Price_euros\n",
       "t = 4.1946, df = 1273, p-value = 2.923e-05\n",
       "alternative hypothesis: true mean is not equal to 1000\n",
       "95 percent confidence interval:\n",
       " 1037.319 1102.899\n",
       "sample estimates:\n",
       "mean of x \n",
       " 1070.109 \n"
      ]
     },
     "metadata": {},
     "output_type": "display_data"
    }
   ],
   "source": [
    "price_ttest <- t.test(x = laptop_price_processed$Price_euros, y = NULL, mu=1000)\n",
    "\n",
    "price_ttest"
   ]
  },
  {
   "cell_type": "code",
   "execution_count": 148,
   "metadata": {},
   "outputs": [
    {
     "data": {
      "text/html": [
       "<ol class=list-inline>\n",
       "\t<li>'statistic'</li>\n",
       "\t<li>'parameter'</li>\n",
       "\t<li>'p.value'</li>\n",
       "\t<li>'conf.int'</li>\n",
       "\t<li>'estimate'</li>\n",
       "\t<li>'null.value'</li>\n",
       "\t<li>'stderr'</li>\n",
       "\t<li>'alternative'</li>\n",
       "\t<li>'method'</li>\n",
       "\t<li>'data.name'</li>\n",
       "</ol>\n"
      ],
      "text/latex": [
       "\\begin{enumerate*}\n",
       "\\item 'statistic'\n",
       "\\item 'parameter'\n",
       "\\item 'p.value'\n",
       "\\item 'conf.int'\n",
       "\\item 'estimate'\n",
       "\\item 'null.value'\n",
       "\\item 'stderr'\n",
       "\\item 'alternative'\n",
       "\\item 'method'\n",
       "\\item 'data.name'\n",
       "\\end{enumerate*}\n"
      ],
      "text/markdown": [
       "1. 'statistic'\n",
       "2. 'parameter'\n",
       "3. 'p.value'\n",
       "4. 'conf.int'\n",
       "5. 'estimate'\n",
       "6. 'null.value'\n",
       "7. 'stderr'\n",
       "8. 'alternative'\n",
       "9. 'method'\n",
       "10. 'data.name'\n",
       "\n",
       "\n"
      ],
      "text/plain": [
       " [1] \"statistic\"   \"parameter\"   \"p.value\"     \"conf.int\"    \"estimate\"   \n",
       " [6] \"null.value\"  \"stderr\"      \"alternative\" \"method\"      \"data.name\"  "
      ]
     },
     "metadata": {},
     "output_type": "display_data"
    }
   ],
   "source": [
    "names(price_ttest)"
   ]
  },
  {
   "cell_type": "code",
   "execution_count": 149,
   "metadata": {},
   "outputs": [
    {
     "data": {
      "text/html": [
       "<strong>t:</strong> 4.19459104275226"
      ],
      "text/latex": [
       "\\textbf{t:} 4.19459104275226"
      ],
      "text/markdown": [
       "**t:** 4.19459104275226"
      ],
      "text/plain": [
       "       t \n",
       "4.194591 "
      ]
     },
     "metadata": {},
     "output_type": "display_data"
    }
   ],
   "source": [
    "t_test <- price_ttest$statistic\n",
    "\n",
    "t_test"
   ]
  },
  {
   "cell_type": "code",
   "execution_count": 154,
   "metadata": {},
   "outputs": [
    {
     "data": {
      "text/html": [
       "2.9229861690894e-05"
      ],
      "text/latex": [
       "2.9229861690894e-05"
      ],
      "text/markdown": [
       "2.9229861690894e-05"
      ],
      "text/plain": [
       "[1] 2.922986e-05"
      ]
     },
     "metadata": {},
     "output_type": "display_data"
    }
   ],
   "source": [
    "price_ttest$p.value"
   ]
  },
  {
   "cell_type": "markdown",
   "metadata": {},
   "source": [
    "#### Confidence Interval"
   ]
  },
  {
   "cell_type": "code",
   "execution_count": 155,
   "metadata": {},
   "outputs": [
    {
     "data": {
      "text/html": [
       "<ol class=list-inline>\n",
       "\t<li>1037.31862082403</li>\n",
       "\t<li>1102.89907148367</li>\n",
       "</ol>\n"
      ],
      "text/latex": [
       "\\begin{enumerate*}\n",
       "\\item 1037.31862082403\n",
       "\\item 1102.89907148367\n",
       "\\end{enumerate*}\n"
      ],
      "text/markdown": [
       "1. 1037.31862082403\n",
       "2. 1102.89907148367\n",
       "\n",
       "\n"
      ],
      "text/plain": [
       "[1] 1037.319 1102.899\n",
       "attr(,\"conf.level\")\n",
       "[1] 0.95"
      ]
     },
     "metadata": {},
     "output_type": "display_data"
    }
   ],
   "source": [
    "conf_interval <- price_ttest$conf.int\n",
    "\n",
    "conf_interval"
   ]
  },
  {
   "cell_type": "code",
   "execution_count": 156,
   "metadata": {},
   "outputs": [
    {
     "data": {
      "text/html": [
       "<strong>mean of x:</strong> 1070.10884615385"
      ],
      "text/latex": [
       "\\textbf{mean of x:} 1070.10884615385"
      ],
      "text/markdown": [
       "**mean of x:** 1070.10884615385"
      ],
      "text/plain": [
       "mean of x \n",
       " 1070.109 "
      ]
     },
     "metadata": {},
     "output_type": "display_data"
    }
   ],
   "source": [
    "mean <- price_ttest$estimate\n",
    "\n",
    "mean"
   ]
  },
  {
   "cell_type": "markdown",
   "metadata": {},
   "source": [
    "#### mu value"
   ]
  },
  {
   "cell_type": "code",
   "execution_count": 157,
   "metadata": {},
   "outputs": [
    {
     "data": {
      "text/html": [
       "<strong>mean:</strong> 1000"
      ],
      "text/latex": [
       "\\textbf{mean:} 1000"
      ],
      "text/markdown": [
       "**mean:** 1000"
      ],
      "text/plain": [
       "mean \n",
       "1000 "
      ]
     },
     "metadata": {},
     "output_type": "display_data"
    }
   ],
   "source": [
    "mu <- price_ttest$null.value\n",
    "\n",
    "mu"
   ]
  },
  {
   "cell_type": "code",
   "execution_count": 158,
   "metadata": {},
   "outputs": [
    {
     "data": {
      "text/html": [
       "'One Sample t-test'"
      ],
      "text/latex": [
       "'One Sample t-test'"
      ],
      "text/markdown": [
       "'One Sample t-test'"
      ],
      "text/plain": [
       "[1] \"One Sample t-test\""
      ]
     },
     "metadata": {},
     "output_type": "display_data"
    }
   ],
   "source": [
    "sample <- price_ttest$method\n",
    "sample"
   ]
  },
  {
   "cell_type": "code",
   "execution_count": 159,
   "metadata": {},
   "outputs": [
    {
     "data": {
      "text/html": [
       "'laptop_price_processed$Price_euros'"
      ],
      "text/latex": [
       "'laptop\\_price\\_processed\\$Price\\_euros'"
      ],
      "text/markdown": [
       "'laptop_price_processed$Price_euros'"
      ],
      "text/plain": [
       "[1] \"laptop_price_processed$Price_euros\""
      ]
     },
     "metadata": {},
     "output_type": "display_data"
    }
   ],
   "source": [
    "data_name <- price_ttest$data.name\n",
    "data_name"
   ]
  },
  {
   "cell_type": "code",
   "execution_count": null,
   "metadata": {},
   "outputs": [],
   "source": []
  },
  {
   "cell_type": "code",
   "execution_count": null,
   "metadata": {},
   "outputs": [],
   "source": []
  },
  {
   "cell_type": "code",
   "execution_count": null,
   "metadata": {},
   "outputs": [],
   "source": []
  }
 ],
 "metadata": {
  "kernelspec": {
   "display_name": "R",
   "language": "R",
   "name": "ir"
  },
  "language_info": {
   "codemirror_mode": "r",
   "file_extension": ".r",
   "mimetype": "text/x-r-source",
   "name": "R",
   "pygments_lexer": "r",
   "version": "3.6.1"
  }
 },
 "nbformat": 4,
 "nbformat_minor": 2
}
