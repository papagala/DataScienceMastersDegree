{
 "cells": [
  {
   "cell_type": "markdown",
   "metadata": {},
   "source": [
    "### Install libraries"
   ]
  },
  {
   "cell_type": "code",
   "execution_count": 21,
   "metadata": {},
   "outputs": [
    {
     "name": "stderr",
     "output_type": "stream",
     "text": [
      "Loading required package: carData\n"
     ]
    }
   ],
   "source": [
    "library(ggplot2)\n",
    "library(plyr)\n",
    "library(readxl)\n",
    "library(car)"
   ]
  },
  {
   "cell_type": "markdown",
   "metadata": {},
   "source": [
    "### Load and read dataset from local disk \n",
    "https://www.kaggle.com/itsmesunil/bank-loan-modelling"
   ]
  },
  {
   "cell_type": "markdown",
   "metadata": {},
   "source": [
    "The data is in .xlsx format and in first tab data discription is there and in the second tab data is there. So while reading the dataset we are using \"2L\" keyword."
   ]
  },
  {
   "cell_type": "code",
   "execution_count": 47,
   "metadata": {},
   "outputs": [
    {
     "data": {
      "text/html": [
       "<table>\n",
       "<thead><tr><th scope=col>ID</th><th scope=col>Age</th><th scope=col>Experience</th><th scope=col>Income</th><th scope=col>ZIPCode</th><th scope=col>Family</th><th scope=col>CCAvg</th><th scope=col>Education</th><th scope=col>Mortgage</th><th scope=col>PersonalLoan</th><th scope=col>SecuritiesAccount</th><th scope=col>CDAccount</th><th scope=col>Online</th><th scope=col>CreditCard</th></tr></thead>\n",
       "<tbody>\n",
       "\t<tr><td>1    </td><td>25   </td><td> 1   </td><td> 49  </td><td>91107</td><td>4    </td><td>1.6  </td><td>1    </td><td>0    </td><td>0    </td><td>1    </td><td>0    </td><td>0    </td><td>0    </td></tr>\n",
       "\t<tr><td>2    </td><td>45   </td><td>19   </td><td> 34  </td><td>90089</td><td>3    </td><td>1.5  </td><td>1    </td><td>0    </td><td>0    </td><td>1    </td><td>0    </td><td>0    </td><td>0    </td></tr>\n",
       "\t<tr><td>3    </td><td>39   </td><td>15   </td><td> 11  </td><td>94720</td><td>1    </td><td>1.0  </td><td>1    </td><td>0    </td><td>0    </td><td>0    </td><td>0    </td><td>0    </td><td>0    </td></tr>\n",
       "\t<tr><td>4    </td><td>35   </td><td> 9   </td><td>100  </td><td>94112</td><td>1    </td><td>2.7  </td><td>2    </td><td>0    </td><td>0    </td><td>0    </td><td>0    </td><td>0    </td><td>0    </td></tr>\n",
       "\t<tr><td>5    </td><td>35   </td><td> 8   </td><td> 45  </td><td>91330</td><td>4    </td><td>1.0  </td><td>2    </td><td>0    </td><td>0    </td><td>0    </td><td>0    </td><td>0    </td><td>1    </td></tr>\n",
       "</tbody>\n",
       "</table>\n"
      ],
      "text/latex": [
       "\\begin{tabular}{r|llllllllllllll}\n",
       " ID & Age & Experience & Income & ZIPCode & Family & CCAvg & Education & Mortgage & PersonalLoan & SecuritiesAccount & CDAccount & Online & CreditCard\\\\\n",
       "\\hline\n",
       "\t 1     & 25    &  1    &  49   & 91107 & 4     & 1.6   & 1     & 0     & 0     & 1     & 0     & 0     & 0    \\\\\n",
       "\t 2     & 45    & 19    &  34   & 90089 & 3     & 1.5   & 1     & 0     & 0     & 1     & 0     & 0     & 0    \\\\\n",
       "\t 3     & 39    & 15    &  11   & 94720 & 1     & 1.0   & 1     & 0     & 0     & 0     & 0     & 0     & 0    \\\\\n",
       "\t 4     & 35    &  9    & 100   & 94112 & 1     & 2.7   & 2     & 0     & 0     & 0     & 0     & 0     & 0    \\\\\n",
       "\t 5     & 35    &  8    &  45   & 91330 & 4     & 1.0   & 2     & 0     & 0     & 0     & 0     & 0     & 1    \\\\\n",
       "\\end{tabular}\n"
      ],
      "text/markdown": [
       "\n",
       "| ID | Age | Experience | Income | ZIPCode | Family | CCAvg | Education | Mortgage | PersonalLoan | SecuritiesAccount | CDAccount | Online | CreditCard |\n",
       "|---|---|---|---|---|---|---|---|---|---|---|---|---|---|\n",
       "| 1     | 25    |  1    |  49   | 91107 | 4     | 1.6   | 1     | 0     | 0     | 1     | 0     | 0     | 0     |\n",
       "| 2     | 45    | 19    |  34   | 90089 | 3     | 1.5   | 1     | 0     | 0     | 1     | 0     | 0     | 0     |\n",
       "| 3     | 39    | 15    |  11   | 94720 | 1     | 1.0   | 1     | 0     | 0     | 0     | 0     | 0     | 0     |\n",
       "| 4     | 35    |  9    | 100   | 94112 | 1     | 2.7   | 2     | 0     | 0     | 0     | 0     | 0     | 0     |\n",
       "| 5     | 35    |  8    |  45   | 91330 | 4     | 1.0   | 2     | 0     | 0     | 0     | 0     | 0     | 1     |\n",
       "\n"
      ],
      "text/plain": [
       "  ID Age Experience Income ZIPCode Family CCAvg Education Mortgage PersonalLoan\n",
       "1 1  25   1          49    91107   4      1.6   1         0        0           \n",
       "2 2  45  19          34    90089   3      1.5   1         0        0           \n",
       "3 3  39  15          11    94720   1      1.0   1         0        0           \n",
       "4 4  35   9         100    94112   1      2.7   2         0        0           \n",
       "5 5  35   8          45    91330   4      1.0   2         0        0           \n",
       "  SecuritiesAccount CDAccount Online CreditCard\n",
       "1 1                 0         0      0         \n",
       "2 1                 0         0      0         \n",
       "3 0                 0         0      0         \n",
       "4 0                 0         0      0         \n",
       "5 0                 0         0      1         "
      ]
     },
     "metadata": {},
     "output_type": "display_data"
    }
   ],
   "source": [
    "bank_loan_data <- read_excel('datasets/Bank_Personal_Loan_Modelling.xlsx', 2L)\n",
    "\n",
    "head(bank_loan_data, 5)"
   ]
  },
  {
   "cell_type": "markdown",
   "metadata": {},
   "source": [
    "#### Check empty cell in datasets or not"
   ]
  },
  {
   "cell_type": "code",
   "execution_count": 48,
   "metadata": {},
   "outputs": [
    {
     "data": {
      "text/html": [
       "<dl class=dl-horizontal>\n",
       "\t<dt>ID</dt>\n",
       "\t\t<dd>0</dd>\n",
       "\t<dt>Age</dt>\n",
       "\t\t<dd>0</dd>\n",
       "\t<dt>Experience</dt>\n",
       "\t\t<dd>0</dd>\n",
       "\t<dt>Income</dt>\n",
       "\t\t<dd>0</dd>\n",
       "\t<dt>ZIPCode</dt>\n",
       "\t\t<dd>0</dd>\n",
       "\t<dt>Family</dt>\n",
       "\t\t<dd>0</dd>\n",
       "\t<dt>CCAvg</dt>\n",
       "\t\t<dd>0</dd>\n",
       "\t<dt>Education</dt>\n",
       "\t\t<dd>0</dd>\n",
       "\t<dt>Mortgage</dt>\n",
       "\t\t<dd>0</dd>\n",
       "\t<dt>PersonalLoan</dt>\n",
       "\t\t<dd>0</dd>\n",
       "\t<dt>SecuritiesAccount</dt>\n",
       "\t\t<dd>0</dd>\n",
       "\t<dt>CDAccount</dt>\n",
       "\t\t<dd>0</dd>\n",
       "\t<dt>Online</dt>\n",
       "\t\t<dd>0</dd>\n",
       "\t<dt>CreditCard</dt>\n",
       "\t\t<dd>0</dd>\n",
       "</dl>\n"
      ],
      "text/latex": [
       "\\begin{description*}\n",
       "\\item[ID] 0\n",
       "\\item[Age] 0\n",
       "\\item[Experience] 0\n",
       "\\item[Income] 0\n",
       "\\item[ZIPCode] 0\n",
       "\\item[Family] 0\n",
       "\\item[CCAvg] 0\n",
       "\\item[Education] 0\n",
       "\\item[Mortgage] 0\n",
       "\\item[PersonalLoan] 0\n",
       "\\item[SecuritiesAccount] 0\n",
       "\\item[CDAccount] 0\n",
       "\\item[Online] 0\n",
       "\\item[CreditCard] 0\n",
       "\\end{description*}\n"
      ],
      "text/markdown": [
       "ID\n",
       ":   0Age\n",
       ":   0Experience\n",
       ":   0Income\n",
       ":   0ZIPCode\n",
       ":   0Family\n",
       ":   0CCAvg\n",
       ":   0Education\n",
       ":   0Mortgage\n",
       ":   0PersonalLoan\n",
       ":   0SecuritiesAccount\n",
       ":   0CDAccount\n",
       ":   0Online\n",
       ":   0CreditCard\n",
       ":   0\n",
       "\n"
      ],
      "text/plain": [
       "               ID               Age        Experience            Income \n",
       "                0                 0                 0                 0 \n",
       "          ZIPCode            Family             CCAvg         Education \n",
       "                0                 0                 0                 0 \n",
       "         Mortgage      PersonalLoan SecuritiesAccount         CDAccount \n",
       "                0                 0                 0                 0 \n",
       "           Online        CreditCard \n",
       "                0                 0 "
      ]
     },
     "metadata": {},
     "output_type": "display_data"
    }
   ],
   "source": [
    "colSums(is.na(bank_loan_data))"
   ]
  },
  {
   "cell_type": "code",
   "execution_count": 49,
   "metadata": {},
   "outputs": [
    {
     "data": {
      "text/html": [
       "<ol class=list-inline>\n",
       "\t<li>5000</li>\n",
       "\t<li>14</li>\n",
       "</ol>\n"
      ],
      "text/latex": [
       "\\begin{enumerate*}\n",
       "\\item 5000\n",
       "\\item 14\n",
       "\\end{enumerate*}\n"
      ],
      "text/markdown": [
       "1. 5000\n",
       "2. 14\n",
       "\n",
       "\n"
      ],
      "text/plain": [
       "[1] 5000   14"
      ]
     },
     "metadata": {},
     "output_type": "display_data"
    }
   ],
   "source": [
    "dim(bank_loan_data)"
   ]
  },
  {
   "cell_type": "code",
   "execution_count": 50,
   "metadata": {},
   "outputs": [
    {
     "data": {
      "text/html": [
       "<ol class=list-inline>\n",
       "\t<li>'ID'</li>\n",
       "\t<li>'Age'</li>\n",
       "\t<li>'Experience'</li>\n",
       "\t<li>'Income'</li>\n",
       "\t<li>'ZIPCode'</li>\n",
       "\t<li>'Family'</li>\n",
       "\t<li>'CCAvg'</li>\n",
       "\t<li>'Education'</li>\n",
       "\t<li>'Mortgage'</li>\n",
       "\t<li>'PersonalLoan'</li>\n",
       "\t<li>'SecuritiesAccount'</li>\n",
       "\t<li>'CDAccount'</li>\n",
       "\t<li>'Online'</li>\n",
       "\t<li>'CreditCard'</li>\n",
       "</ol>\n"
      ],
      "text/latex": [
       "\\begin{enumerate*}\n",
       "\\item 'ID'\n",
       "\\item 'Age'\n",
       "\\item 'Experience'\n",
       "\\item 'Income'\n",
       "\\item 'ZIPCode'\n",
       "\\item 'Family'\n",
       "\\item 'CCAvg'\n",
       "\\item 'Education'\n",
       "\\item 'Mortgage'\n",
       "\\item 'PersonalLoan'\n",
       "\\item 'SecuritiesAccount'\n",
       "\\item 'CDAccount'\n",
       "\\item 'Online'\n",
       "\\item 'CreditCard'\n",
       "\\end{enumerate*}\n"
      ],
      "text/markdown": [
       "1. 'ID'\n",
       "2. 'Age'\n",
       "3. 'Experience'\n",
       "4. 'Income'\n",
       "5. 'ZIPCode'\n",
       "6. 'Family'\n",
       "7. 'CCAvg'\n",
       "8. 'Education'\n",
       "9. 'Mortgage'\n",
       "10. 'PersonalLoan'\n",
       "11. 'SecuritiesAccount'\n",
       "12. 'CDAccount'\n",
       "13. 'Online'\n",
       "14. 'CreditCard'\n",
       "\n",
       "\n"
      ],
      "text/plain": [
       " [1] \"ID\"                \"Age\"               \"Experience\"       \n",
       " [4] \"Income\"            \"ZIPCode\"           \"Family\"           \n",
       " [7] \"CCAvg\"             \"Education\"         \"Mortgage\"         \n",
       "[10] \"PersonalLoan\"      \"SecuritiesAccount\" \"CDAccount\"        \n",
       "[13] \"Online\"            \"CreditCard\"       "
      ]
     },
     "metadata": {},
     "output_type": "display_data"
    }
   ],
   "source": [
    "colnames(bank_loan_data)"
   ]
  },
  {
   "cell_type": "markdown",
   "metadata": {},
   "source": [
    "#### Checking unique values"
   ]
  },
  {
   "cell_type": "code",
   "execution_count": 51,
   "metadata": {},
   "outputs": [
    {
     "data": {
      "text/plain": [
       "\n",
       "   0    1 \n",
       "3530 1470 "
      ]
     },
     "metadata": {},
     "output_type": "display_data"
    }
   ],
   "source": [
    "table(bank_loan_data$CreditCard)"
   ]
  },
  {
   "cell_type": "code",
   "execution_count": 52,
   "metadata": {},
   "outputs": [
    {
     "data": {
      "text/plain": [
       "\n",
       "   1    2    3    4 \n",
       "1472 1296 1010 1222 "
      ]
     },
     "metadata": {},
     "output_type": "display_data"
    }
   ],
   "source": [
    "table(bank_loan_data$Family)"
   ]
  },
  {
   "cell_type": "markdown",
   "metadata": {},
   "source": [
    "##### Education labels\n",
    "* 1: Undergrad\n",
    "* 2: Graduate \n",
    "* 3: Advanced/Professional"
   ]
  },
  {
   "cell_type": "code",
   "execution_count": 53,
   "metadata": {},
   "outputs": [
    {
     "data": {
      "text/plain": [
       "\n",
       "   1    2    3 \n",
       "2096 1403 1501 "
      ]
     },
     "metadata": {},
     "output_type": "display_data"
    }
   ],
   "source": [
    "table(bank_loan_data$Education)"
   ]
  },
  {
   "cell_type": "code",
   "execution_count": 54,
   "metadata": {},
   "outputs": [
    {
     "data": {
      "text/plain": [
       "\n",
       "   0    1 \n",
       "4520  480 "
      ]
     },
     "metadata": {},
     "output_type": "display_data"
    }
   ],
   "source": [
    "table(bank_loan_data$PersonalLoan)"
   ]
  },
  {
   "cell_type": "code",
   "execution_count": 91,
   "metadata": {},
   "outputs": [
    {
     "data": {
      "text/plain": [
       "\n",
       "   0    1 \n",
       "2016 2984 "
      ]
     },
     "metadata": {},
     "output_type": "display_data"
    }
   ],
   "source": [
    "table(bank_loan_data$Online)"
   ]
  },
  {
   "cell_type": "markdown",
   "metadata": {},
   "source": [
    "### Barplot "
   ]
  },
  {
   "cell_type": "markdown",
   "metadata": {},
   "source": [
    "### Set the width and height of the plot\n",
    "\n",
    "This will set the width and height for all the plots in this notebook"
   ]
  },
  {
   "cell_type": "code",
   "execution_count": 55,
   "metadata": {},
   "outputs": [],
   "source": [
    "options(repr.plot.width = 6, repr.plot.height = 4)"
   ]
  },
  {
   "cell_type": "code",
   "execution_count": 56,
   "metadata": {},
   "outputs": [
    {
     "data": {
      "image/png": "[encoded data removed]",
      "text/plain": [
       "plot without title"
      ]
     },
     "metadata": {},
     "output_type": "display_data"
    }
   ],
   "source": [
    "ggplot(data = bank_loan_data, \n",
    "       aes(factor(x = CreditCard))) + \n",
    "       geom_bar(col = 'black', fill = 'steelblue') +\n",
    "       ggtitle('Countplot of people with and without a credit card')+\n",
    "       xlab('Credit card issued') +\n",
    "       ylab('Count')"
   ]
  },
  {
   "cell_type": "markdown",
   "metadata": {},
   "source": [
    "### Box plot by grouping by credit card \n",
    "https://nceas.github.io/oss-lessons/dataviz-and-interactive-tools/module-1-ggplot2.html"
   ]
  },
  {
   "cell_type": "code",
   "execution_count": 57,
   "metadata": {},
   "outputs": [
    {
     "data": {
      "image/png": "[encoded data removed]",
      "text/plain": [
       "plot without title"
      ]
     },
     "metadata": {},
     "output_type": "display_data"
    }
   ],
   "source": [
    "qplot(factor(x = CreditCard), \n",
    "      y = Income,\n",
    "      geom = 'boxplot', \n",
    "      data = bank_loan_data,\n",
    "      xlab = 'Credit Card',\n",
    "      ylab = 'Income',\n",
    "      fill = I('darkgreen'))"
   ]
  },
  {
   "cell_type": "markdown",
   "metadata": {},
   "source": [
    "### Calculate group size, income mean, and standard deviation according to credit card\n",
    "https://en.wikipedia.org/wiki/Standard_error"
   ]
  },
  {
   "cell_type": "code",
   "execution_count": 58,
   "metadata": {},
   "outputs": [
    {
     "data": {
      "text/html": [
       "<table>\n",
       "<thead><tr><th scope=col>factor(CreditCard)</th><th scope=col>group_size</th><th scope=col>income_mean</th><th scope=col>std_income</th><th scope=col>st_error_mean_income</th></tr></thead>\n",
       "<tbody>\n",
       "\t<tr><td>0        </td><td>3530     </td><td>73.84504 </td><td>46.00000 </td><td>0.7742309</td></tr>\n",
       "\t<tr><td>1        </td><td>1470     </td><td>73.60408 </td><td>46.12985 </td><td>1.2031599</td></tr>\n",
       "</tbody>\n",
       "</table>\n"
      ],
      "text/latex": [
       "\\begin{tabular}{r|lllll}\n",
       " factor(CreditCard) & group\\_size & income\\_mean & std\\_income & st\\_error\\_mean\\_income\\\\\n",
       "\\hline\n",
       "\t 0         & 3530      & 73.84504  & 46.00000  & 0.7742309\\\\\n",
       "\t 1         & 1470      & 73.60408  & 46.12985  & 1.2031599\\\\\n",
       "\\end{tabular}\n"
      ],
      "text/markdown": [
       "\n",
       "| factor(CreditCard) | group_size | income_mean | std_income | st_error_mean_income |\n",
       "|---|---|---|---|---|\n",
       "| 0         | 3530      | 73.84504  | 46.00000  | 0.7742309 |\n",
       "| 1         | 1470      | 73.60408  | 46.12985  | 1.2031599 |\n",
       "\n"
      ],
      "text/plain": [
       "  factor(CreditCard) group_size income_mean std_income st_error_mean_income\n",
       "1 0                  3530       73.84504    46.00000   0.7742309           \n",
       "2 1                  1470       73.60408    46.12985   1.2031599           "
      ]
     },
     "metadata": {},
     "output_type": "display_data"
    }
   ],
   "source": [
    "ddply(bank_loan_data, ~factor(CreditCard), summarize,\n",
    "      group_size = length(Income),\n",
    "      income_mean = mean(Income),\n",
    "      std_income = sd(Income),\n",
    "      st_error_mean_income = std_income / sqrt(group_size))"
   ]
  },
  {
   "cell_type": "code",
   "execution_count": 116,
   "metadata": {},
   "outputs": [
    {
     "data": {
      "text/plain": [
       "\n",
       "\tShapiro-Wilk normality test\n",
       "\n",
       "data:  bank_loan_data$Income\n",
       "W = 0.92824, p-value < 2.2e-16\n"
      ]
     },
     "metadata": {},
     "output_type": "display_data"
    }
   ],
   "source": [
    "shapiro.test(bank_loan_data$Income)"
   ]
  },
  {
   "cell_type": "code",
   "execution_count": 117,
   "metadata": {},
   "outputs": [
    {
     "data": {
      "text/html": [
       "<table>\n",
       "<thead><tr><th></th><th scope=col>Df</th><th scope=col>F value</th><th scope=col>Pr(&gt;F)</th></tr></thead>\n",
       "<tbody>\n",
       "\t<tr><th scope=row>group</th><td>   1     </td><td>0.1770581</td><td>0.6739318</td></tr>\n",
       "\t<tr><th scope=row> </th><td>4998     </td><td>       NA</td><td>       NA</td></tr>\n",
       "</tbody>\n",
       "</table>\n"
      ],
      "text/latex": [
       "\\begin{tabular}{r|lll}\n",
       "  & Df & F value & Pr(>F)\\\\\n",
       "\\hline\n",
       "\tgroup &    1      & 0.1770581 & 0.6739318\\\\\n",
       "\t  & 4998      &        NA &        NA\\\\\n",
       "\\end{tabular}\n"
      ],
      "text/markdown": [
       "\n",
       "| <!--/--> | Df | F value | Pr(>F) |\n",
       "|---|---|---|---|\n",
       "| group |    1      | 0.1770581 | 0.6739318 |\n",
       "|   | 4998      |        NA |        NA |\n",
       "\n"
      ],
      "text/plain": [
       "      Df   F value   Pr(>F)   \n",
       "group    1 0.1770581 0.6739318\n",
       "      4998        NA        NA"
      ]
     },
     "metadata": {},
     "output_type": "display_data"
    }
   ],
   "source": [
    "leveneTest(Income ~factor(CreditCard), data = bank_loan_data)"
   ]
  },
  {
   "cell_type": "markdown",
   "metadata": {},
   "source": [
    "### What is  t-test\n",
    "\n",
    "A t-test is used to test the difference between two population means. \n",
    "\n",
    "https://stattrek.com/statistics/dictionary.aspx?definition=one-sample%20t-test\n",
    "\n",
    "https://www.statisticshowto.datasciencecentral.com/probability-and-statistics/t-test/\n",
    "\n",
    "https://www.andrew.cmu.edu/user/achoulde/94842/lectures/lecture07/lecture07-94842.html"
   ]
  },
  {
   "cell_type": "code",
   "execution_count": 60,
   "metadata": {},
   "outputs": [
    {
     "data": {
      "text/plain": [
       "\n",
       "\tWelch Two Sample t-test\n",
       "\n",
       "data:  bank_loan_data$Income[CreditCard == 0] and bank_loan_data$Income[CreditCard == 1]\n",
       "t = 0.16842, df = 2741.8, p-value = 0.8663\n",
       "alternative hypothesis: true difference in means is not equal to 0\n",
       "95 percent confidence interval:\n",
       " -2.564484  3.046405\n",
       "sample estimates:\n",
       "mean of x mean of y \n",
       " 73.84504  73.60408 \n"
      ]
     },
     "metadata": {},
     "output_type": "display_data"
    }
   ],
   "source": [
    "with(bank_loan_data, t.test(x = bank_loan_data$Income[CreditCard == 0],\n",
    "                            y = bank_loan_data$Income[CreditCard == 1]))"
   ]
  },
  {
   "cell_type": "code",
   "execution_count": 61,
   "metadata": {},
   "outputs": [
    {
     "data": {
      "text/plain": [
       "\n",
       "\tWelch Two Sample t-test\n",
       "\n",
       "data:  Income by factor(CreditCard)\n",
       "t = 0.16842, df = 2741.8, p-value = 0.8663\n",
       "alternative hypothesis: true difference in means is not equal to 0\n",
       "95 percent confidence interval:\n",
       " -2.564484  3.046405\n",
       "sample estimates:\n",
       "mean in group 0 mean in group 1 \n",
       "       73.84504        73.60408 \n"
      ]
     },
     "metadata": {},
     "output_type": "display_data"
    }
   ],
   "source": [
    "income_ttest <- t.test(Income ~ factor(CreditCard), data = bank_loan_data)\n",
    "\n",
    "income_ttest"
   ]
  },
  {
   "cell_type": "markdown",
   "metadata": {},
   "source": [
    "### Note:- \n",
    "__`t.test` function return a lot of information and we can know by giving below function and can access by element wise.__"
   ]
  },
  {
   "cell_type": "code",
   "execution_count": 31,
   "metadata": {},
   "outputs": [
    {
     "data": {
      "text/html": [
       "<ol class=list-inline>\n",
       "\t<li>'statistic'</li>\n",
       "\t<li>'parameter'</li>\n",
       "\t<li>'p.value'</li>\n",
       "\t<li>'conf.int'</li>\n",
       "\t<li>'estimate'</li>\n",
       "\t<li>'null.value'</li>\n",
       "\t<li>'stderr'</li>\n",
       "\t<li>'alternative'</li>\n",
       "\t<li>'method'</li>\n",
       "\t<li>'data.name'</li>\n",
       "</ol>\n"
      ],
      "text/latex": [
       "\\begin{enumerate*}\n",
       "\\item 'statistic'\n",
       "\\item 'parameter'\n",
       "\\item 'p.value'\n",
       "\\item 'conf.int'\n",
       "\\item 'estimate'\n",
       "\\item 'null.value'\n",
       "\\item 'stderr'\n",
       "\\item 'alternative'\n",
       "\\item 'method'\n",
       "\\item 'data.name'\n",
       "\\end{enumerate*}\n"
      ],
      "text/markdown": [
       "1. 'statistic'\n",
       "2. 'parameter'\n",
       "3. 'p.value'\n",
       "4. 'conf.int'\n",
       "5. 'estimate'\n",
       "6. 'null.value'\n",
       "7. 'stderr'\n",
       "8. 'alternative'\n",
       "9. 'method'\n",
       "10. 'data.name'\n",
       "\n",
       "\n"
      ],
      "text/plain": [
       " [1] \"statistic\"   \"parameter\"   \"p.value\"     \"conf.int\"    \"estimate\"   \n",
       " [6] \"null.value\"  \"stderr\"      \"alternative\" \"method\"      \"data.name\"  "
      ]
     },
     "metadata": {},
     "output_type": "display_data"
    }
   ],
   "source": [
    "names(income_ttest)"
   ]
  },
  {
   "cell_type": "markdown",
   "metadata": {},
   "source": [
    "### method"
   ]
  },
  {
   "cell_type": "code",
   "execution_count": 32,
   "metadata": {},
   "outputs": [
    {
     "data": {
      "text/html": [
       "'Welch Two Sample t-test'"
      ],
      "text/latex": [
       "'Welch Two Sample t-test'"
      ],
      "text/markdown": [
       "'Welch Two Sample t-test'"
      ],
      "text/plain": [
       "[1] \"Welch Two Sample t-test\""
      ]
     },
     "metadata": {},
     "output_type": "display_data"
    }
   ],
   "source": [
    "income_ttest$method"
   ]
  },
  {
   "cell_type": "markdown",
   "metadata": {},
   "source": [
    "### data"
   ]
  },
  {
   "cell_type": "code",
   "execution_count": 33,
   "metadata": {},
   "outputs": [
    {
     "data": {
      "text/html": [
       "'Income by factor(CreditCard)'"
      ],
      "text/latex": [
       "'Income by factor(CreditCard)'"
      ],
      "text/markdown": [
       "'Income by factor(CreditCard)'"
      ],
      "text/plain": [
       "[1] \"Income by factor(CreditCard)\""
      ]
     },
     "metadata": {},
     "output_type": "display_data"
    }
   ],
   "source": [
    "income_ttest$data.name"
   ]
  },
  {
   "cell_type": "markdown",
   "metadata": {},
   "source": [
    "### t-test"
   ]
  },
  {
   "cell_type": "code",
   "execution_count": 34,
   "metadata": {},
   "outputs": [
    {
     "data": {
      "text/html": [
       "<strong>t:</strong> 0.168416519752249"
      ],
      "text/latex": [
       "\\textbf{t:} 0.168416519752249"
      ],
      "text/markdown": [
       "**t:** 0.168416519752249"
      ],
      "text/plain": [
       "        t \n",
       "0.1684165 "
      ]
     },
     "metadata": {},
     "output_type": "display_data"
    }
   ],
   "source": [
    "income_ttest$statistic"
   ]
  },
  {
   "cell_type": "markdown",
   "metadata": {},
   "source": [
    "### p-value"
   ]
  },
  {
   "cell_type": "code",
   "execution_count": 35,
   "metadata": {},
   "outputs": [
    {
     "data": {
      "text/html": [
       "0.866268035057383"
      ],
      "text/latex": [
       "0.866268035057383"
      ],
      "text/markdown": [
       "0.866268035057383"
      ],
      "text/plain": [
       "[1] 0.866268"
      ]
     },
     "metadata": {},
     "output_type": "display_data"
    }
   ],
   "source": [
    "income_ttest$p.value"
   ]
  },
  {
   "cell_type": "markdown",
   "metadata": {},
   "source": [
    "### Quantile-Quantile(Q-Q) Plot\n",
    "The Q-Q plot, or quantile-quantile plot, is a graphical tool to help us assess if a set of data plausibly came from some theoretical distribution such as a Normal or exponential. For example, if we run a statistical analysis that assumes our dependent variable is Normally distributed, we can use a Normal Q-Q plot to check that assumption. It’s just a visual check, not an air-tight proof, so it is somewhat subjective. But it allows us to see at-a-glance if our assumption is plausible, and if not, how the assumption is violated and what data points contribute to the violation.\n",
    "\n",
    "\n",
    "https://www.itl.nist.gov/div898/handbook/eda/section3/qqplot.htm\n",
    "\n",
    "https://data.library.virginia.edu/understanding-q-q-plots/\n",
    "\n",
    "https://www.andrew.cmu.edu/user/achoulde/94842/lectures/lecture07/lecture07-94842.html#qq-plot"
   ]
  },
  {
   "cell_type": "markdown",
   "metadata": {},
   "source": [
    "### Q-Q Plot for `Income`"
   ]
  },
  {
   "cell_type": "code",
   "execution_count": 40,
   "metadata": {},
   "outputs": [
    {
     "data": {
      "image/png": "[encoded data removed]",
      "text/plain": [
       "plot without title"
      ]
     },
     "metadata": {},
     "output_type": "display_data"
    }
   ],
   "source": [
    "qq_plot <- ggplot(data = bank_loan_data, aes(sample = bank_loan_data$Income))\n",
    "\n",
    "qq_plot + stat_qq() + stat_qq_line()"
   ]
  },
  {
   "cell_type": "markdown",
   "metadata": {},
   "source": [
    "### Q-Q plot sample wise(`Method-I`)"
   ]
  },
  {
   "cell_type": "code",
   "execution_count": 41,
   "metadata": {},
   "outputs": [
    {
     "data": {
      "image/png": "[encoded data removed]",
      "text/plain": [
       "plot without title"
      ]
     },
     "metadata": {},
     "output_type": "display_data"
    }
   ],
   "source": [
    "qq_plot + stat_qq() + stat_qq_line() + facet_grid(. ~ CreditCard)"
   ]
  },
  {
   "cell_type": "markdown",
   "metadata": {},
   "source": [
    "### Note:-\n",
    "\n",
    "https://www.andrew.cmu.edu/user/achoulde/94842/lectures/lecture07/lecture07-94842.html#what-if-sample-is-small-and-data-are-non-gaussian\n",
    "\n",
    "https://en.wikipedia.org/wiki/Wilcoxon_signed-rank_test"
   ]
  },
  {
   "cell_type": "code",
   "execution_count": 67,
   "metadata": {},
   "outputs": [
    {
     "data": {
      "text/plain": [
       "\n",
       "\tWilcoxon rank sum test with continuity correction\n",
       "\n",
       "data:  bank_loan_data$Income by factor(bank_loan_data$CreditCard)\n",
       "W = 2605671, p-value = 0.811\n",
       "alternative hypothesis: true location shift is not equal to 0\n",
       "95 percent confidence interval:\n",
       " -1.999992  2.999955\n",
       "sample estimates:\n",
       "difference in location \n",
       "          3.144437e-05 \n"
      ]
     },
     "metadata": {},
     "output_type": "display_data"
    }
   ],
   "source": [
    "wilcox_test <- wilcox.test(bank_loan_data$Income ~ factor(bank_loan_data$CreditCard), conf.int = T)\n",
    "wilcox_test"
   ]
  },
  {
   "cell_type": "markdown",
   "metadata": {},
   "source": [
    "### Kruskal test\n",
    "\n",
    "https://en.wikipedia.org/wiki/Kruskal%E2%80%93Wallis_one-way_analysis_of_variance\n",
    "\n",
    "https://en.wikipedia.org/wiki/Wilcoxon_signed-rank_test\n",
    "\n",
    "https://stats.stackexchange.com/questions/302464/wilcoxon-signed-rank-vs-kruskal-wallis"
   ]
  },
  {
   "cell_type": "code",
   "execution_count": 99,
   "metadata": {},
   "outputs": [
    {
     "data": {
      "text/plain": [
       "\n",
       "\tKruskal-Wallis rank sum test\n",
       "\n",
       "data:  bank_loan_data$Income by factor(bank_loan_data$CreditCard)\n",
       "Kruskal-Wallis chi-squared = 0.057196, df = 1, p-value = 0.811\n"
      ]
     },
     "metadata": {},
     "output_type": "display_data"
    }
   ],
   "source": [
    "kruskal.test(bank_loan_data$Income ~ factor(bank_loan_data$CreditCard), data = bank_loan_data)"
   ]
  },
  {
   "cell_type": "markdown",
   "metadata": {},
   "source": [
    "## Type-I error and Type-II error\n",
    "\n",
    "http://www.sethspielman.org/courses/geog5023/r_examples/Type_I_and_II_Errors.html"
   ]
  },
  {
   "cell_type": "code",
   "execution_count": 69,
   "metadata": {},
   "outputs": [],
   "source": [
    "credit_card_uses <- with(bank_loan_data, bank_loan_data$Income[CreditCard == 1])\n",
    "\n",
    "credit_card_not_uses <- with(bank_loan_data, bank_loan_data$Income[CreditCard == 0])"
   ]
  },
  {
   "cell_type": "code",
   "execution_count": 70,
   "metadata": {},
   "outputs": [
    {
     "data": {
      "text/plain": [
       "   Min. 1st Qu.  Median    Mean 3rd Qu.    Max. \n",
       "    8.0    38.0    64.0    73.6    98.0   224.0 "
      ]
     },
     "metadata": {},
     "output_type": "display_data"
    }
   ],
   "source": [
    "summary(credit_card_uses)"
   ]
  },
  {
   "cell_type": "code",
   "execution_count": 71,
   "metadata": {},
   "outputs": [
    {
     "data": {
      "text/plain": [
       "   Min. 1st Qu.  Median    Mean 3rd Qu.    Max. \n",
       "   8.00   39.00   63.50   73.85   98.00  218.00 "
      ]
     },
     "metadata": {},
     "output_type": "display_data"
    }
   ],
   "source": [
    "summary(credit_card_not_uses)"
   ]
  },
  {
   "cell_type": "markdown",
   "metadata": {},
   "source": [
    "## Type-1 error"
   ]
  },
  {
   "cell_type": "code",
   "execution_count": 74,
   "metadata": {},
   "outputs": [],
   "source": [
    "num_test <- 1000\n",
    "alpha_taken <- c(0.001, 0.01, 0.05, 0.1, 0.2)\n",
    "\n",
    "tested_df <- data.frame(error = NA, p_value = NA, alpha = NA)\n",
    "\n",
    "counter <- 1\n",
    "\n",
    "for (i in 1:num_test){\n",
    "    for (alpha in alpha_taken){\n",
    "        \n",
    "        sample_01 <- sample(credit_card_uses, 200)\n",
    "        sample_02 <- sample(credit_card_not_uses, 200)\n",
    "        \n",
    "        t_test <- t.test(sample_01, sample_02)\n",
    "        \n",
    "        if (t_test$p.value < alpha){\n",
    "            tested_df[counter, 1] <- 1\n",
    "            tested_df[counter, 2] <- t_test$p.value\n",
    "            tested_df[counter, 3] <- alpha\n",
    "        } else {\n",
    "            tested_df[counter, 1] <- 0\n",
    "            tested_df[counter, 2] <- t_test$p.value\n",
    "            tested_df[counter, 3] <- alpha\n",
    "        }\n",
    "        \n",
    "        counter <- counter + 1\n",
    "    }\n",
    "}"
   ]
  },
  {
   "cell_type": "markdown",
   "metadata": {},
   "source": [
    "### See, first ten records of `p.value` on different - different values of `alpha` and detect flag error, "
   ]
  },
  {
   "cell_type": "code",
   "execution_count": 75,
   "metadata": {},
   "outputs": [
    {
     "data": {
      "text/html": [
       "<table>\n",
       "<thead><tr><th scope=col>error</th><th scope=col>p_value</th><th scope=col>alpha</th></tr></thead>\n",
       "<tbody>\n",
       "\t<tr><td>0        </td><td>0.6072814</td><td>0.001    </td></tr>\n",
       "\t<tr><td>0        </td><td>0.4864692</td><td>0.010    </td></tr>\n",
       "\t<tr><td>0        </td><td>0.3448589</td><td>0.050    </td></tr>\n",
       "\t<tr><td>0        </td><td>0.8276171</td><td>0.100    </td></tr>\n",
       "\t<tr><td>0        </td><td>0.2803239</td><td>0.200    </td></tr>\n",
       "\t<tr><td>0        </td><td>0.8181079</td><td>0.001    </td></tr>\n",
       "\t<tr><td>0        </td><td>0.1956456</td><td>0.010    </td></tr>\n",
       "\t<tr><td>0        </td><td>0.9693631</td><td>0.050    </td></tr>\n",
       "\t<tr><td>0        </td><td>0.5193874</td><td>0.100    </td></tr>\n",
       "\t<tr><td>0        </td><td>0.2058988</td><td>0.200    </td></tr>\n",
       "</tbody>\n",
       "</table>\n"
      ],
      "text/latex": [
       "\\begin{tabular}{r|lll}\n",
       " error & p\\_value & alpha\\\\\n",
       "\\hline\n",
       "\t 0         & 0.6072814 & 0.001    \\\\\n",
       "\t 0         & 0.4864692 & 0.010    \\\\\n",
       "\t 0         & 0.3448589 & 0.050    \\\\\n",
       "\t 0         & 0.8276171 & 0.100    \\\\\n",
       "\t 0         & 0.2803239 & 0.200    \\\\\n",
       "\t 0         & 0.8181079 & 0.001    \\\\\n",
       "\t 0         & 0.1956456 & 0.010    \\\\\n",
       "\t 0         & 0.9693631 & 0.050    \\\\\n",
       "\t 0         & 0.5193874 & 0.100    \\\\\n",
       "\t 0         & 0.2058988 & 0.200    \\\\\n",
       "\\end{tabular}\n"
      ],
      "text/markdown": [
       "\n",
       "| error | p_value | alpha |\n",
       "|---|---|---|\n",
       "| 0         | 0.6072814 | 0.001     |\n",
       "| 0         | 0.4864692 | 0.010     |\n",
       "| 0         | 0.3448589 | 0.050     |\n",
       "| 0         | 0.8276171 | 0.100     |\n",
       "| 0         | 0.2803239 | 0.200     |\n",
       "| 0         | 0.8181079 | 0.001     |\n",
       "| 0         | 0.1956456 | 0.010     |\n",
       "| 0         | 0.9693631 | 0.050     |\n",
       "| 0         | 0.5193874 | 0.100     |\n",
       "| 0         | 0.2058988 | 0.200     |\n",
       "\n"
      ],
      "text/plain": [
       "   error p_value   alpha\n",
       "1  0     0.6072814 0.001\n",
       "2  0     0.4864692 0.010\n",
       "3  0     0.3448589 0.050\n",
       "4  0     0.8276171 0.100\n",
       "5  0     0.2803239 0.200\n",
       "6  0     0.8181079 0.001\n",
       "7  0     0.1956456 0.010\n",
       "8  0     0.9693631 0.050\n",
       "9  0     0.5193874 0.100\n",
       "10 0     0.2058988 0.200"
      ]
     },
     "metadata": {},
     "output_type": "display_data"
    }
   ],
   "source": [
    "head(tested_df, 10)"
   ]
  },
  {
   "cell_type": "markdown",
   "metadata": {},
   "source": [
    "### Calculate  type-1 error(`error`) on different - different values of alpha"
   ]
  },
  {
   "cell_type": "code",
   "execution_count": 76,
   "metadata": {},
   "outputs": [
    {
     "data": {
      "text/html": [
       "<table>\n",
       "<thead><tr><th scope=col>tested_df$alpha</th><th scope=col>tested_df$error</th></tr></thead>\n",
       "<tbody>\n",
       "\t<tr><td>0.001</td><td>  2  </td></tr>\n",
       "\t<tr><td>0.010</td><td> 11  </td></tr>\n",
       "\t<tr><td>0.050</td><td> 44  </td></tr>\n",
       "\t<tr><td>0.100</td><td> 89  </td></tr>\n",
       "\t<tr><td>0.200</td><td>165  </td></tr>\n",
       "</tbody>\n",
       "</table>\n"
      ],
      "text/latex": [
       "\\begin{tabular}{r|ll}\n",
       " tested\\_df\\$alpha & tested\\_df\\$error\\\\\n",
       "\\hline\n",
       "\t 0.001 &   2  \\\\\n",
       "\t 0.010 &  11  \\\\\n",
       "\t 0.050 &  44  \\\\\n",
       "\t 0.100 &  89  \\\\\n",
       "\t 0.200 & 165  \\\\\n",
       "\\end{tabular}\n"
      ],
      "text/markdown": [
       "\n",
       "| tested_df$alpha | tested_df$error |\n",
       "|---|---|\n",
       "| 0.001 |   2   |\n",
       "| 0.010 |  11   |\n",
       "| 0.050 |  44   |\n",
       "| 0.100 |  89   |\n",
       "| 0.200 | 165   |\n",
       "\n"
      ],
      "text/plain": [
       "  tested_df$alpha tested_df$error\n",
       "1 0.001             2            \n",
       "2 0.010            11            \n",
       "3 0.050            44            \n",
       "4 0.100            89            \n",
       "5 0.200           165            "
      ]
     },
     "metadata": {},
     "output_type": "display_data"
    }
   ],
   "source": [
    "aggregate(tested_df$error ~ tested_df$alpha, FUN = sum)"
   ]
  },
  {
   "cell_type": "markdown",
   "metadata": {},
   "source": [
    "#### As we increase alpha value the number of false positives increases."
   ]
  },
  {
   "cell_type": "code",
   "execution_count": null,
   "metadata": {},
   "outputs": [],
   "source": []
  },
  {
   "cell_type": "markdown",
   "metadata": {},
   "source": [
    "## Type-2 error"
   ]
  },
  {
   "cell_type": "code",
   "execution_count": 110,
   "metadata": {},
   "outputs": [
    {
     "data": {
      "text/plain": [
       "\n",
       "\tWelch Two Sample t-test\n",
       "\n",
       "data:  Income by factor(PersonalLoan)\n",
       "t = -50.233, df = 659.49, p-value < 2.2e-16\n",
       "alternative hypothesis: true difference in means is not equal to 0\n",
       "95 percent confidence interval:\n",
       " -81.57726 -75.43963\n",
       "sample estimates:\n",
       "mean in group 0 mean in group 1 \n",
       "       66.23739       144.74583 \n"
      ]
     },
     "metadata": {},
     "output_type": "display_data"
    }
   ],
   "source": [
    "income_ttest <- t.test(Income ~ factor(PersonalLoan), data = bank_loan_data)\n",
    "\n",
    "income_ttest"
   ]
  },
  {
   "cell_type": "code",
   "execution_count": 111,
   "metadata": {},
   "outputs": [
    {
     "data": {
      "text/html": [
       "1.33073507246028e-227"
      ],
      "text/latex": [
       "1.33073507246028e-227"
      ],
      "text/markdown": [
       "1.33073507246028e-227"
      ],
      "text/plain": [
       "[1] 1.330735e-227"
      ]
     },
     "metadata": {},
     "output_type": "display_data"
    }
   ],
   "source": [
    "income_ttest$p.value"
   ]
  },
  {
   "cell_type": "code",
   "execution_count": 112,
   "metadata": {},
   "outputs": [],
   "source": [
    "personal_loan_has <- with(bank_loan_data, bank_loan_data$Income[PersonalLoan == 1])\n",
    "\n",
    "personal_loan_not_has <- with(bank_loan_data, bank_loan_data$Income[PersonalLoan == 0])"
   ]
  },
  {
   "cell_type": "code",
   "execution_count": 113,
   "metadata": {},
   "outputs": [],
   "source": [
    "num_test <- 1000\n",
    "alpha_taken <- c(0.001, 0.01, 0.05, 0.1, 0.2)\n",
    "\n",
    "tested_df <- data.frame(error = NA, p_value = NA, alpha = NA)\n",
    "\n",
    "counter <- 1\n",
    "\n",
    "for (i in 1:num_test){\n",
    "    for (alpha in alpha_taken){\n",
    "        \n",
    "        sample_01 <- sample(personal_loan_has, 200)\n",
    "        sample_02 <- sample(personal_loan_not_has, 200)\n",
    "        \n",
    "        t_test <- t.test(sample_01, sample_02)\n",
    "        \n",
    "        if (t_test$p.value > alpha){\n",
    "            tested_df[counter, 1] <- 1\n",
    "            tested_df[counter, 2] <- t_test$p.value\n",
    "            tested_df[counter, 3] <- alpha\n",
    "        } else {\n",
    "            tested_df[counter, 1] <- 0\n",
    "            tested_df[counter, 2] <- t_test$p.value\n",
    "            tested_df[counter, 3] <- alpha\n",
    "        }\n",
    "        \n",
    "        counter <- counter + 1\n",
    "    }\n",
    "}\n"
   ]
  },
  {
   "cell_type": "markdown",
   "metadata": {},
   "source": [
    "### See, first ten records of `p.value` on different - different values of `alpha` and detect flag error, "
   ]
  },
  {
   "cell_type": "code",
   "execution_count": 114,
   "metadata": {},
   "outputs": [
    {
     "data": {
      "text/html": [
       "<table>\n",
       "<thead><tr><th scope=col>error</th><th scope=col>p_value</th><th scope=col>alpha</th></tr></thead>\n",
       "<tbody>\n",
       "\t<tr><td>0           </td><td>8.248632e-78</td><td>0.001       </td></tr>\n",
       "\t<tr><td>0           </td><td>1.363151e-66</td><td>0.010       </td></tr>\n",
       "\t<tr><td>0           </td><td>9.762872e-67</td><td>0.050       </td></tr>\n",
       "\t<tr><td>0           </td><td>6.876145e-65</td><td>0.100       </td></tr>\n",
       "\t<tr><td>0           </td><td>3.955433e-65</td><td>0.200       </td></tr>\n",
       "\t<tr><td>0           </td><td>2.277351e-63</td><td>0.001       </td></tr>\n",
       "\t<tr><td>0           </td><td>7.996761e-54</td><td>0.010       </td></tr>\n",
       "\t<tr><td>0           </td><td>2.303791e-68</td><td>0.050       </td></tr>\n",
       "\t<tr><td>0           </td><td>3.064832e-67</td><td>0.100       </td></tr>\n",
       "\t<tr><td>0           </td><td>1.137655e-49</td><td>0.200       </td></tr>\n",
       "</tbody>\n",
       "</table>\n"
      ],
      "text/latex": [
       "\\begin{tabular}{r|lll}\n",
       " error & p\\_value & alpha\\\\\n",
       "\\hline\n",
       "\t 0            & 8.248632e-78 & 0.001       \\\\\n",
       "\t 0            & 1.363151e-66 & 0.010       \\\\\n",
       "\t 0            & 9.762872e-67 & 0.050       \\\\\n",
       "\t 0            & 6.876145e-65 & 0.100       \\\\\n",
       "\t 0            & 3.955433e-65 & 0.200       \\\\\n",
       "\t 0            & 2.277351e-63 & 0.001       \\\\\n",
       "\t 0            & 7.996761e-54 & 0.010       \\\\\n",
       "\t 0            & 2.303791e-68 & 0.050       \\\\\n",
       "\t 0            & 3.064832e-67 & 0.100       \\\\\n",
       "\t 0            & 1.137655e-49 & 0.200       \\\\\n",
       "\\end{tabular}\n"
      ],
      "text/markdown": [
       "\n",
       "| error | p_value | alpha |\n",
       "|---|---|---|\n",
       "| 0            | 8.248632e-78 | 0.001        |\n",
       "| 0            | 1.363151e-66 | 0.010        |\n",
       "| 0            | 9.762872e-67 | 0.050        |\n",
       "| 0            | 6.876145e-65 | 0.100        |\n",
       "| 0            | 3.955433e-65 | 0.200        |\n",
       "| 0            | 2.277351e-63 | 0.001        |\n",
       "| 0            | 7.996761e-54 | 0.010        |\n",
       "| 0            | 2.303791e-68 | 0.050        |\n",
       "| 0            | 3.064832e-67 | 0.100        |\n",
       "| 0            | 1.137655e-49 | 0.200        |\n",
       "\n"
      ],
      "text/plain": [
       "   error p_value      alpha\n",
       "1  0     8.248632e-78 0.001\n",
       "2  0     1.363151e-66 0.010\n",
       "3  0     9.762872e-67 0.050\n",
       "4  0     6.876145e-65 0.100\n",
       "5  0     3.955433e-65 0.200\n",
       "6  0     2.277351e-63 0.001\n",
       "7  0     7.996761e-54 0.010\n",
       "8  0     2.303791e-68 0.050\n",
       "9  0     3.064832e-67 0.100\n",
       "10 0     1.137655e-49 0.200"
      ]
     },
     "metadata": {},
     "output_type": "display_data"
    }
   ],
   "source": [
    "head(tested_df, 10)"
   ]
  },
  {
   "cell_type": "markdown",
   "metadata": {},
   "source": [
    "### Calculate  type-2 error(`error`) on different - different values of alpha"
   ]
  },
  {
   "cell_type": "code",
   "execution_count": 115,
   "metadata": {},
   "outputs": [
    {
     "data": {
      "text/html": [
       "<table>\n",
       "<thead><tr><th scope=col>tested_df$alpha</th><th scope=col>tested_df$error</th></tr></thead>\n",
       "<tbody>\n",
       "\t<tr><td>0.001</td><td>0    </td></tr>\n",
       "\t<tr><td>0.010</td><td>0    </td></tr>\n",
       "\t<tr><td>0.050</td><td>0    </td></tr>\n",
       "\t<tr><td>0.100</td><td>0    </td></tr>\n",
       "\t<tr><td>0.200</td><td>0    </td></tr>\n",
       "</tbody>\n",
       "</table>\n"
      ],
      "text/latex": [
       "\\begin{tabular}{r|ll}\n",
       " tested\\_df\\$alpha & tested\\_df\\$error\\\\\n",
       "\\hline\n",
       "\t 0.001 & 0    \\\\\n",
       "\t 0.010 & 0    \\\\\n",
       "\t 0.050 & 0    \\\\\n",
       "\t 0.100 & 0    \\\\\n",
       "\t 0.200 & 0    \\\\\n",
       "\\end{tabular}\n"
      ],
      "text/markdown": [
       "\n",
       "| tested_df$alpha | tested_df$error |\n",
       "|---|---|\n",
       "| 0.001 | 0     |\n",
       "| 0.010 | 0     |\n",
       "| 0.050 | 0     |\n",
       "| 0.100 | 0     |\n",
       "| 0.200 | 0     |\n",
       "\n"
      ],
      "text/plain": [
       "  tested_df$alpha tested_df$error\n",
       "1 0.001           0              \n",
       "2 0.010           0              \n",
       "3 0.050           0              \n",
       "4 0.100           0              \n",
       "5 0.200           0              "
      ]
     },
     "metadata": {},
     "output_type": "display_data"
    }
   ],
   "source": [
    "aggregate(tested_df$error ~ tested_df$alpha, FUN=sum)"
   ]
  },
  {
   "cell_type": "code",
   "execution_count": null,
   "metadata": {},
   "outputs": [],
   "source": []
  },
  {
   "cell_type": "code",
   "execution_count": null,
   "metadata": {},
   "outputs": [],
   "source": []
  },
  {
   "cell_type": "code",
   "execution_count": null,
   "metadata": {},
   "outputs": [],
   "source": []
  }
 ],
 "metadata": {
  "kernelspec": {
   "display_name": "R",
   "language": "R",
   "name": "ir"
  },
  "language_info": {
   "codemirror_mode": "r",
   "file_extension": ".r",
   "mimetype": "text/x-r-source",
   "name": "R",
   "pygments_lexer": "r",
   "version": "3.6.1"
  }
 },
 "nbformat": 4,
 "nbformat_minor": 2
}
