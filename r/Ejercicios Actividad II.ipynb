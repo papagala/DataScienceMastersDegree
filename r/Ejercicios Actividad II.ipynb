{
 "cells": [
  {
   "cell_type": "markdown",
   "metadata": {},
   "source": [
    "# Ejercicios Actividad II"
   ]
  },
  {
   "cell_type": "markdown",
   "metadata": {},
   "source": [
    "#### Desarrollar una función en R que reciba dos valores, determine y retorne cuál de los dos valores es el menor (no usar la función min de R)."
   ]
  },
  {
   "cell_type": "code",
   "execution_count": 2,
   "metadata": {},
   "outputs": [
    {
     "data": {
      "text/html": [
       "20"
      ],
      "text/latex": [
       "20"
      ],
      "text/markdown": [
       "20"
      ],
      "text/plain": [
       "[1] 20"
      ]
     },
     "metadata": {},
     "output_type": "display_data"
    }
   ],
   "source": [
    "menor <- function(A,B) {\n",
    "  if(A < B) {\n",
    "    return(A)\n",
    "  }\n",
    "  else {\n",
    "    return(B)\n",
    "  }  \n",
    "}\n",
    "\n",
    "menor(20,30)"
   ]
  },
  {
   "cell_type": "code",
   "execution_count": 6,
   "metadata": {},
   "outputs": [
    {
     "data": {
      "text/html": [
       "20"
      ],
      "text/latex": [
       "20"
      ],
      "text/markdown": [
       "20"
      ],
      "text/plain": [
       "[1] 20"
      ]
     },
     "metadata": {},
     "output_type": "display_data"
    }
   ],
   "source": [
    "menor(30,20)"
   ]
  },
  {
   "cell_type": "code",
   "execution_count": 9,
   "metadata": {},
   "outputs": [
    {
     "data": {
      "text/html": [
       "10"
      ],
      "text/latex": [
       "10"
      ],
      "text/markdown": [
       "10"
      ],
      "text/plain": [
       "[1] 10"
      ]
     },
     "metadata": {},
     "output_type": "display_data"
    }
   ],
   "source": [
    "menor(10,10)"
   ]
  },
  {
   "cell_type": "markdown",
   "metadata": {},
   "source": [
    "#### Programe en R una función que reciba tres valores A, B, y C y retorne el menor (no usar la función min de R)."
   ]
  },
  {
   "cell_type": "code",
   "execution_count": 11,
   "metadata": {},
   "outputs": [],
   "source": [
    "menor <- function(A,B,C) {\n",
    "  if((A < B) && (A < C)) {\n",
    "    return(A)\n",
    "  }\n",
    "  else {\n",
    "    if((B < A) && (B < C)) {\n",
    "      return(B)\n",
    "    }\n",
    "    else {\n",
    "      return(C)  \n",
    "    }  \n",
    "  }  \n",
    "}\n"
   ]
  },
  {
   "cell_type": "code",
   "execution_count": 12,
   "metadata": {},
   "outputs": [
    {
     "data": {
      "text/html": [
       "1"
      ],
      "text/latex": [
       "1"
      ],
      "text/markdown": [
       "1"
      ],
      "text/plain": [
       "[1] 1"
      ]
     },
     "metadata": {},
     "output_type": "display_data"
    }
   ],
   "source": [
    "menor(1,2,3)"
   ]
  },
  {
   "cell_type": "code",
   "execution_count": 13,
   "metadata": {},
   "outputs": [
    {
     "data": {
      "text/html": [
       "1"
      ],
      "text/latex": [
       "1"
      ],
      "text/markdown": [
       "1"
      ],
      "text/plain": [
       "[1] 1"
      ]
     },
     "metadata": {},
     "output_type": "display_data"
    }
   ],
   "source": [
    "menor(3,2,1)"
   ]
  },
  {
   "cell_type": "code",
   "execution_count": 16,
   "metadata": {},
   "outputs": [
    {
     "data": {
      "text/html": [
       "1"
      ],
      "text/latex": [
       "1"
      ],
      "text/markdown": [
       "1"
      ],
      "text/plain": [
       "[1] 1"
      ]
     },
     "metadata": {},
     "output_type": "display_data"
    }
   ],
   "source": [
    "menor(2,1,3)"
   ]
  },
  {
   "cell_type": "code",
   "execution_count": 17,
   "metadata": {},
   "outputs": [
    {
     "data": {
      "text/html": [
       "10"
      ],
      "text/latex": [
       "10"
      ],
      "text/markdown": [
       "10"
      ],
      "text/plain": [
       "[1] 10"
      ]
     },
     "metadata": {},
     "output_type": "display_data"
    }
   ],
   "source": [
    "menor(100,10,1000)"
   ]
  },
  {
   "cell_type": "markdown",
   "metadata": {},
   "source": [
    "##### Programe en R una función que recibe cuatro números y retorne el mayor (no usar la función max de R)."
   ]
  },
  {
   "cell_type": "code",
   "execution_count": 18,
   "metadata": {},
   "outputs": [],
   "source": [
    "mayor <- function(A,B,C,D) {\n",
    "  if((A > B) && (A > C) && (A > D) ) {\n",
    "      return(A)\n",
    "  }\n",
    "  else if ((B > A) && (B > C) && (B > D) ) {\n",
    "      return(B)\n",
    "  } else if ((C > A) && (C > B) && (C > D) ) {\n",
    "      return(C)  \n",
    "  } else {\n",
    "      return(D)\n",
    "  }\n",
    "}\n"
   ]
  },
  {
   "cell_type": "code",
   "execution_count": 19,
   "metadata": {},
   "outputs": [
    {
     "data": {
      "text/html": [
       "40"
      ],
      "text/latex": [
       "40"
      ],
      "text/markdown": [
       "40"
      ],
      "text/plain": [
       "[1] 40"
      ]
     },
     "metadata": {},
     "output_type": "display_data"
    }
   ],
   "source": [
    "mayor(10,20,30,40)"
   ]
  },
  {
   "cell_type": "code",
   "execution_count": 20,
   "metadata": {},
   "outputs": [
    {
     "data": {
      "text/html": [
       "40"
      ],
      "text/latex": [
       "40"
      ],
      "text/markdown": [
       "40"
      ],
      "text/plain": [
       "[1] 40"
      ]
     },
     "metadata": {},
     "output_type": "display_data"
    }
   ],
   "source": [
    "mayor(40,40,40,40)"
   ]
  },
  {
   "cell_type": "code",
   "execution_count": 21,
   "metadata": {},
   "outputs": [
    {
     "data": {
      "text/html": [
       "40"
      ],
      "text/latex": [
       "40"
      ],
      "text/markdown": [
       "40"
      ],
      "text/plain": [
       "[1] 40"
      ]
     },
     "metadata": {},
     "output_type": "display_data"
    }
   ],
   "source": [
    "mayor(40,30,20,10)"
   ]
  },
  {
   "cell_type": "code",
   "execution_count": 24,
   "metadata": {},
   "outputs": [
    {
     "data": {
      "text/html": [
       "36.4621596072079"
      ],
      "text/latex": [
       "36.4621596072079"
      ],
      "text/markdown": [
       "36.4621596072079"
      ],
      "text/plain": [
       "[1] 36.46216"
      ]
     },
     "metadata": {},
     "output_type": "display_data"
    }
   ],
   "source": [
    "mayor(pi,pi^2,pi^3,pi^pi)"
   ]
  },
  {
   "cell_type": "code",
   "execution_count": 25,
   "metadata": {},
   "outputs": [
    {
     "data": {
      "text/html": [
       "36.4621596072079"
      ],
      "text/latex": [
       "36.4621596072079"
      ],
      "text/markdown": [
       "36.4621596072079"
      ],
      "text/plain": [
       "[1] 36.46216"
      ]
     },
     "metadata": {},
     "output_type": "display_data"
    }
   ],
   "source": [
    "pi^pi"
   ]
  },
  {
   "cell_type": "markdown",
   "metadata": {},
   "source": [
    "#### Programe en R una función que reciba un número n y retorne la sumatoria de los números enteros comprendidos entre el 1 y n."
   ]
  },
  {
   "cell_type": "code",
   "execution_count": 29,
   "metadata": {},
   "outputs": [],
   "source": [
    "suma <- function(n) {\n",
    "    suma<-0\n",
    "    for (x in seq(1:n)){\n",
    "        suma<-suma + x\n",
    "    }\n",
    "    return (suma)\n",
    "}"
   ]
  },
  {
   "cell_type": "code",
   "execution_count": 33,
   "metadata": {},
   "outputs": [
    {
     "data": {
      "text/html": [
       "TRUE"
      ],
      "text/latex": [
       "TRUE"
      ],
      "text/markdown": [
       "TRUE"
      ],
      "text/plain": [
       "[1] TRUE"
      ]
     },
     "metadata": {},
     "output_type": "display_data"
    }
   ],
   "source": [
    "suma(100) == sum(seq(1:100))"
   ]
  },
  {
   "cell_type": "markdown",
   "metadata": {},
   "source": [
    "#### Desarrolle una función que realice la sumatoria de los números enteros pares comprendidos entre el 1 y n.\n"
   ]
  },
  {
   "cell_type": "code",
   "execution_count": 38,
   "metadata": {},
   "outputs": [],
   "source": [
    "suma_pares <- function(n) {\n",
    "    suma<-0\n",
    "    for (x in seq(1:n)){\n",
    "        if (x %% 2 == 0){\n",
    "            suma<-suma + x\n",
    "        }\n",
    "    }\n",
    "    return (suma)\n",
    "}"
   ]
  },
  {
   "cell_type": "code",
   "execution_count": 50,
   "metadata": {},
   "outputs": [
    {
     "data": {
      "text/html": [
       "TRUE"
      ],
      "text/latex": [
       "TRUE"
      ],
      "text/markdown": [
       "TRUE"
      ],
      "text/plain": [
       "[1] TRUE"
      ]
     },
     "metadata": {},
     "output_type": "display_data"
    }
   ],
   "source": [
    "suma_pares(10000)==sum(seq(2,10000,2))"
   ]
  },
  {
   "cell_type": "markdown",
   "metadata": {},
   "source": [
    "#### Desarrolle una función que realice la sumatoria de los números enteros múltiplos de 5, comprendidos entre el 1 y n."
   ]
  },
  {
   "cell_type": "code",
   "execution_count": 60,
   "metadata": {},
   "outputs": [],
   "source": [
    "suma_multiplos_cinco <- function(n) {\n",
    "    suma<-0\n",
    "    for (x in seq(1:n)){\n",
    "        if (x %% 5 == 0){\n",
    "            suma<-suma + x\n",
    "        }\n",
    "    }\n",
    "    return (suma)\n",
    "}"
   ]
  },
  {
   "cell_type": "code",
   "execution_count": 61,
   "metadata": {},
   "outputs": [
    {
     "data": {
      "text/html": [
       "TRUE"
      ],
      "text/latex": [
       "TRUE"
      ],
      "text/markdown": [
       "TRUE"
      ],
      "text/plain": [
       "[1] TRUE"
      ]
     },
     "metadata": {},
     "output_type": "display_data"
    }
   ],
   "source": [
    "suma_multiplos_cinco(500)==sum(seq(5,500,5))"
   ]
  },
  {
   "cell_type": "markdown",
   "metadata": {},
   "source": [
    "#### Programe en R una función que genere 20 números al azar entre 1 y 100 y luego calcule cuántos están entre el 1 y 10."
   ]
  },
  {
   "cell_type": "code",
   "execution_count": 100,
   "metadata": {},
   "outputs": [],
   "source": [
    "random_in_range <- function(n=20){\n",
    "    # Obtiene 20 n números entre 0-100 usando una normal centrada en 50 con desviación estándar de 25\n",
    "    aleatorios<-rnorm(n, mean=50, sd=50)\n",
    "    lista <- c()\n",
    "    for (num in aleatorios){\n",
    "        if (num <= 10 && num >= 1){\n",
    "            lista <- c(lista,num)\n",
    "        }\n",
    "    }\n",
    "    return (lista)\n",
    "}"
   ]
  },
  {
   "cell_type": "code",
   "execution_count": 102,
   "metadata": {},
   "outputs": [
    {
     "data": {
      "text/html": [
       "<style>\n",
       ".list-inline {list-style: none; margin:0; padding: 0}\n",
       ".list-inline>li {display: inline-block}\n",
       ".list-inline>li:not(:last-child)::after {content: \"\\00b7\"; padding: 0 .5ex}\n",
       "</style>\n",
       "<ol class=list-inline><li>3.19873290387817</li><li>7.27307436579552</li></ol>\n"
      ],
      "text/latex": [
       "\\begin{enumerate*}\n",
       "\\item 3.19873290387817\n",
       "\\item 7.27307436579552\n",
       "\\end{enumerate*}\n"
      ],
      "text/markdown": [
       "1. 3.19873290387817\n",
       "2. 7.27307436579552\n",
       "\n",
       "\n"
      ],
      "text/plain": [
       "[1] 3.198733 7.273074"
      ]
     },
     "metadata": {},
     "output_type": "display_data"
    }
   ],
   "source": [
    "random_in_range()"
   ]
  },
  {
   "cell_type": "code",
   "execution_count": 103,
   "metadata": {},
   "outputs": [],
   "source": [
    "costo <- function(t){\n",
    "    if (t<1){\n",
    "        return (0.4)\n",
    "    } else {\n",
    "        return (0.4 + (t-1)/4)\n",
    "    }\n",
    "}"
   ]
  },
  {
   "cell_type": "code",
   "execution_count": 107,
   "metadata": {},
   "outputs": [
    {
     "data": {
      "text/html": [
       "5.15"
      ],
      "text/latex": [
       "5.15"
      ],
      "text/markdown": [
       "5.15"
      ],
      "text/plain": [
       "[1] 5.15"
      ]
     },
     "metadata": {},
     "output_type": "display_data"
    }
   ],
   "source": [
    "costo(20)"
   ]
  },
  {
   "cell_type": "markdown",
   "metadata": {},
   "source": [
    "#### Desarrolle una función que reciba un vector de números reales y un número real x, tal que indique el porcentaje de elementos menores o iguales a un valor x."
   ]
  },
  {
   "cell_type": "code",
   "execution_count": 111,
   "metadata": {},
   "outputs": [],
   "source": [
    "porcentaje <- function(vector,x){\n",
    "    contador <- 0\n",
    "    for (element in vector){\n",
    "        if (element <= x){\n",
    "            contador <- contador + 1\n",
    "        }\n",
    "    }\n",
    "    return (contador/length(vector)*100)\n",
    "}"
   ]
  },
  {
   "cell_type": "code",
   "execution_count": 112,
   "metadata": {},
   "outputs": [],
   "source": [
    "vec <- c(1.1,2.2,3.3,4.4) "
   ]
  },
  {
   "cell_type": "code",
   "execution_count": 113,
   "metadata": {},
   "outputs": [
    {
     "data": {
      "text/html": [
       "50"
      ],
      "text/latex": [
       "50"
      ],
      "text/markdown": [
       "50"
      ],
      "text/plain": [
       "[1] 50"
      ]
     },
     "metadata": {},
     "output_type": "display_data"
    }
   ],
   "source": [
    "porcentaje(vec,3)"
   ]
  },
  {
   "cell_type": "markdown",
   "metadata": {},
   "source": [
    "#### Desarrolle una función que permita convertir calificaciones numéricas en alfanuméricas, según la siguiente tabla: A = 19 y 20, B =16, 17 y 18, C = 13, 14 y 15, D = 10, 11 y 12, E = 1 hasta el 9, se asume que la calificación es un número entero que está entre 1 y 20. Es decir, la función debe recibir la calificación entre 1 y 20 y retornar la letra correspondiente."
   ]
  },
  {
   "cell_type": "code",
   "execution_count": 135,
   "metadata": {},
   "outputs": [],
   "source": [
    "calificacion <- function(numero){\n",
    "  numero<-round(numero)\n",
    "  if( (numero == 19) || (numero == 20)) {\n",
    "      return(\"A\")\n",
    "  }\n",
    "  else if (numero == 16 || numero == 17 || numero == 18) {\n",
    "      return(\"B\")\n",
    "  }\n",
    "  else if (numero == 13 || numero == 14 || numero == 15 ) {\n",
    "      return(\"C\")  \n",
    "  }\n",
    "  else if (numero == 10 || numero == 11 || numero == 12 ) {\n",
    "      return(\"D\")  \n",
    "  }     \n",
    "  else {\n",
    "      return(\"E\")\n",
    "  }\n",
    "\n",
    "}"
   ]
  },
  {
   "cell_type": "code",
   "execution_count": 139,
   "metadata": {},
   "outputs": [
    {
     "data": {
      "text/html": [
       "'E'"
      ],
      "text/latex": [
       "'E'"
      ],
      "text/markdown": [
       "'E'"
      ],
      "text/plain": [
       "[1] \"E\""
      ]
     },
     "metadata": {},
     "output_type": "display_data"
    }
   ],
   "source": [
    "calificacion(9)"
   ]
  },
  {
   "cell_type": "code",
   "execution_count": 140,
   "metadata": {},
   "outputs": [
    {
     "data": {
      "text/html": [
       "'A'"
      ],
      "text/latex": [
       "'A'"
      ],
      "text/markdown": [
       "'A'"
      ],
      "text/plain": [
       "[1] \"A\""
      ]
     },
     "metadata": {},
     "output_type": "display_data"
    }
   ],
   "source": [
    "calificacion(19)"
   ]
  },
  {
   "cell_type": "markdown",
   "metadata": {},
   "source": [
    "#### Desarrolle una función que reciba un número natural n (suponiendo que n > 1) y que construya y retorne un vector v de tamaño n tal que vk = vk−1/3 + 0,5 para k = 2,....,n y siendo que v1 = 1."
   ]
  },
  {
   "cell_type": "code",
   "execution_count": 144,
   "metadata": {},
   "outputs": [
    {
     "data": {
      "text/html": [
       "<style>\n",
       ".list-inline {list-style: none; margin:0; padding: 0}\n",
       ".list-inline>li {display: inline-block}\n",
       ".list-inline>li:not(:last-child)::after {content: \"\\00b7\"; padding: 0 .5ex}\n",
       "</style>\n",
       "<ol class=list-inline><li>1</li><li>0.833333333333333</li><li>0.777777777777778</li><li>0.759259259259259</li><li>0.753086419753086</li><li>0.751028806584362</li><li>0.750342935528121</li><li>0.750114311842707</li><li>0.750038103947569</li></ol>\n"
      ],
      "text/latex": [
       "\\begin{enumerate*}\n",
       "\\item 1\n",
       "\\item 0.833333333333333\n",
       "\\item 0.777777777777778\n",
       "\\item 0.759259259259259\n",
       "\\item 0.753086419753086\n",
       "\\item 0.751028806584362\n",
       "\\item 0.750342935528121\n",
       "\\item 0.750114311842707\n",
       "\\item 0.750038103947569\n",
       "\\end{enumerate*}\n"
      ],
      "text/markdown": [
       "1. 1\n",
       "2. 0.833333333333333\n",
       "3. 0.777777777777778\n",
       "4. 0.759259259259259\n",
       "5. 0.753086419753086\n",
       "6. 0.751028806584362\n",
       "7. 0.750342935528121\n",
       "8. 0.750114311842707\n",
       "9. 0.750038103947569\n",
       "\n",
       "\n"
      ],
      "text/plain": [
       "[1] 1.0000000 0.8333333 0.7777778 0.7592593 0.7530864 0.7510288 0.7503429\n",
       "[8] 0.7501143 0.7500381"
      ]
     },
     "metadata": {},
     "output_type": "display_data"
    }
   ],
   "source": [
    "problema_once.f <- function(n) {\n",
    "  v<-rep(0,n) # Inicializa un vector con n ceros\n",
    "  v[1] <- 1\n",
    "  for(k in 2:n) {\n",
    "    v[k]<-v[k-1]/3 + 0.5\n",
    "  }\n",
    "  return(v)\n",
    "}\n",
    "\n",
    "problema_once.f(9)"
   ]
  },
  {
   "cell_type": "markdown",
   "metadata": {},
   "source": [
    "#### Desarrolle una función que recibe una matriz cuadrada A de tamaño n × n y calcule la suma de los elementos de la diagonal. Por ejemplo, la suma de la diagonal de la siguiente matriz:"
   ]
  },
  {
   "cell_type": "code",
   "execution_count": 159,
   "metadata": {},
   "outputs": [],
   "source": [
    "suma_diagonal <- function(A) {\n",
    "    is = seq(1,nrow(A))\n",
    "    js = is\n",
    "    suma <- 0\n",
    "    for (i in is){\n",
    "        for (j in js){\n",
    "            if (i == j){\n",
    "                suma <- suma + A[i,j]\n",
    "            }\n",
    "        }\n",
    "    }\n",
    "    return (suma)\n",
    " }"
   ]
  },
  {
   "cell_type": "code",
   "execution_count": 160,
   "metadata": {},
   "outputs": [
    {
     "data": {
      "text/html": [
       "<table>\n",
       "<caption>A matrix: 3 × 3 of type dbl</caption>\n",
       "<tbody>\n",
       "\t<tr><td>1</td><td>2</td><td>3</td></tr>\n",
       "\t<tr><td>4</td><td>5</td><td>6</td></tr>\n",
       "\t<tr><td>7</td><td>8</td><td>9</td></tr>\n",
       "</tbody>\n",
       "</table>\n"
      ],
      "text/latex": [
       "A matrix: 3 × 3 of type dbl\n",
       "\\begin{tabular}{lll}\n",
       "\t 1 & 2 & 3\\\\\n",
       "\t 4 & 5 & 6\\\\\n",
       "\t 7 & 8 & 9\\\\\n",
       "\\end{tabular}\n"
      ],
      "text/markdown": [
       "\n",
       "A matrix: 3 × 3 of type dbl\n",
       "\n",
       "| 1 | 2 | 3 |\n",
       "| 4 | 5 | 6 |\n",
       "| 7 | 8 | 9 |\n",
       "\n"
      ],
      "text/plain": [
       "     [,1] [,2] [,3]\n",
       "[1,] 1    2    3   \n",
       "[2,] 4    5    6   \n",
       "[3,] 7    8    9   "
      ]
     },
     "metadata": {},
     "output_type": "display_data"
    }
   ],
   "source": [
    "A = matrix(c(1,2,3,4,5,6,7,8,9), nrow=3,\"byrow\"=\"true\")\n",
    "A"
   ]
  },
  {
   "cell_type": "code",
   "execution_count": 161,
   "metadata": {},
   "outputs": [
    {
     "data": {
      "text/html": [
       "15"
      ],
      "text/latex": [
       "15"
      ],
      "text/markdown": [
       "15"
      ],
      "text/plain": [
       "[1] 15"
      ]
     },
     "metadata": {},
     "output_type": "display_data"
    }
   ],
   "source": [
    "suma_diagonal(A)"
   ]
  },
  {
   "cell_type": "code",
   "execution_count": 164,
   "metadata": {},
   "outputs": [],
   "source": [
    "divisible_entre_3 <- function(DF) {\n",
    "  n<-dim(DF)[1]\n",
    "  m<-dim(DF)[2]\n",
    "  cantidad <- 0\n",
    "  for(i in 1:n) {\n",
    "    for(j in 1:m) {\n",
    "      if(DF[i,j] %% 3 == 0) {\n",
    "        cantidad <- cantidad + 1\n",
    "      }\n",
    "    }\n",
    "  }\n",
    "  return(cantidad)\n",
    "}  "
   ]
  },
  {
   "cell_type": "code",
   "execution_count": 165,
   "metadata": {},
   "outputs": [
    {
     "data": {
      "text/html": [
       "8"
      ],
      "text/latex": [
       "8"
      ],
      "text/markdown": [
       "8"
      ],
      "text/plain": [
       "[1] 8"
      ]
     },
     "metadata": {},
     "output_type": "display_data"
    }
   ],
   "source": [
    "## Vamos a establecer el directorio\n",
    "setwd(\"/home/jovyan/work/tratamiento\")\n",
    "Datos<-read.table(\"EjemploEstudiantes.csv\",header=TRUE,sep=\";\",dec=\",\",row.names=1)\n",
    "divisible_entre_3(Datos)"
   ]
  },
  {
   "cell_type": "code",
   "execution_count": 166,
   "metadata": {},
   "outputs": [
    {
     "data": {
      "text/html": [
       "<table>\n",
       "<caption>A data.frame: 10 × 5</caption>\n",
       "<thead>\n",
       "\t<tr><th></th><th scope=col>Matematicas</th><th scope=col>Ciencias</th><th scope=col>Espanol</th><th scope=col>Historia</th><th scope=col>EdFisica</th></tr>\n",
       "\t<tr><th></th><th scope=col>&lt;dbl&gt;</th><th scope=col>&lt;dbl&gt;</th><th scope=col>&lt;dbl&gt;</th><th scope=col>&lt;dbl&gt;</th><th scope=col>&lt;dbl&gt;</th></tr>\n",
       "</thead>\n",
       "<tbody>\n",
       "\t<tr><th scope=row>Lucia</th><td>7.0</td><td>6.5</td><td>9.2</td><td>8.6</td><td>8.0</td></tr>\n",
       "\t<tr><th scope=row>Pedro</th><td>7.5</td><td>9.4</td><td>7.3</td><td>7.0</td><td>7.0</td></tr>\n",
       "\t<tr><th scope=row>Ines</th><td>7.6</td><td>9.2</td><td>8.0</td><td>8.0</td><td>7.5</td></tr>\n",
       "\t<tr><th scope=row>Luis</th><td>5.0</td><td>6.5</td><td>6.5</td><td>7.0</td><td>9.0</td></tr>\n",
       "\t<tr><th scope=row>Andres</th><td>6.0</td><td>6.0</td><td>7.8</td><td>8.9</td><td>7.3</td></tr>\n",
       "\t<tr><th scope=row>Ana</th><td>7.8</td><td>9.6</td><td>7.7</td><td>8.0</td><td>6.5</td></tr>\n",
       "\t<tr><th scope=row>Carlos</th><td>6.3</td><td>6.4</td><td>8.2</td><td>9.0</td><td>7.2</td></tr>\n",
       "\t<tr><th scope=row>Jose</th><td>7.9</td><td>9.7</td><td>7.5</td><td>8.0</td><td>6.0</td></tr>\n",
       "\t<tr><th scope=row>Sonia</th><td>6.0</td><td>6.0</td><td>6.5</td><td>5.5</td><td>8.7</td></tr>\n",
       "\t<tr><th scope=row>Maria</th><td>6.8</td><td>7.2</td><td>8.7</td><td>9.0</td><td>7.0</td></tr>\n",
       "</tbody>\n",
       "</table>\n"
      ],
      "text/latex": [
       "A data.frame: 10 × 5\n",
       "\\begin{tabular}{r|lllll}\n",
       "  & Matematicas & Ciencias & Espanol & Historia & EdFisica\\\\\n",
       "  & <dbl> & <dbl> & <dbl> & <dbl> & <dbl>\\\\\n",
       "\\hline\n",
       "\tLucia & 7.0 & 6.5 & 9.2 & 8.6 & 8.0\\\\\n",
       "\tPedro & 7.5 & 9.4 & 7.3 & 7.0 & 7.0\\\\\n",
       "\tInes & 7.6 & 9.2 & 8.0 & 8.0 & 7.5\\\\\n",
       "\tLuis & 5.0 & 6.5 & 6.5 & 7.0 & 9.0\\\\\n",
       "\tAndres & 6.0 & 6.0 & 7.8 & 8.9 & 7.3\\\\\n",
       "\tAna & 7.8 & 9.6 & 7.7 & 8.0 & 6.5\\\\\n",
       "\tCarlos & 6.3 & 6.4 & 8.2 & 9.0 & 7.2\\\\\n",
       "\tJose & 7.9 & 9.7 & 7.5 & 8.0 & 6.0\\\\\n",
       "\tSonia & 6.0 & 6.0 & 6.5 & 5.5 & 8.7\\\\\n",
       "\tMaria & 6.8 & 7.2 & 8.7 & 9.0 & 7.0\\\\\n",
       "\\end{tabular}\n"
      ],
      "text/markdown": [
       "\n",
       "A data.frame: 10 × 5\n",
       "\n",
       "| <!--/--> | Matematicas &lt;dbl&gt; | Ciencias &lt;dbl&gt; | Espanol &lt;dbl&gt; | Historia &lt;dbl&gt; | EdFisica &lt;dbl&gt; |\n",
       "|---|---|---|---|---|---|\n",
       "| Lucia | 7.0 | 6.5 | 9.2 | 8.6 | 8.0 |\n",
       "| Pedro | 7.5 | 9.4 | 7.3 | 7.0 | 7.0 |\n",
       "| Ines | 7.6 | 9.2 | 8.0 | 8.0 | 7.5 |\n",
       "| Luis | 5.0 | 6.5 | 6.5 | 7.0 | 9.0 |\n",
       "| Andres | 6.0 | 6.0 | 7.8 | 8.9 | 7.3 |\n",
       "| Ana | 7.8 | 9.6 | 7.7 | 8.0 | 6.5 |\n",
       "| Carlos | 6.3 | 6.4 | 8.2 | 9.0 | 7.2 |\n",
       "| Jose | 7.9 | 9.7 | 7.5 | 8.0 | 6.0 |\n",
       "| Sonia | 6.0 | 6.0 | 6.5 | 5.5 | 8.7 |\n",
       "| Maria | 6.8 | 7.2 | 8.7 | 9.0 | 7.0 |\n",
       "\n"
      ],
      "text/plain": [
       "       Matematicas Ciencias Espanol Historia EdFisica\n",
       "Lucia  7.0         6.5      9.2     8.6      8.0     \n",
       "Pedro  7.5         9.4      7.3     7.0      7.0     \n",
       "Ines   7.6         9.2      8.0     8.0      7.5     \n",
       "Luis   5.0         6.5      6.5     7.0      9.0     \n",
       "Andres 6.0         6.0      7.8     8.9      7.3     \n",
       "Ana    7.8         9.6      7.7     8.0      6.5     \n",
       "Carlos 6.3         6.4      8.2     9.0      7.2     \n",
       "Jose   7.9         9.7      7.5     8.0      6.0     \n",
       "Sonia  6.0         6.0      6.5     5.5      8.7     \n",
       "Maria  6.8         7.2      8.7     9.0      7.0     "
      ]
     },
     "metadata": {},
     "output_type": "display_data"
    }
   ],
   "source": [
    "Datos"
   ]
  },
  {
   "cell_type": "markdown",
   "metadata": {},
   "source": [
    "Podemos ver que efectivamente hay 8 entradas divisibles entre 3"
   ]
  }
 ],
 "metadata": {
  "kernelspec": {
   "display_name": "R",
   "language": "R",
   "name": "ir"
  },
  "language_info": {
   "codemirror_mode": "r",
   "file_extension": ".r",
   "mimetype": "text/x-r-source",
   "name": "R",
   "pygments_lexer": "r",
   "version": "3.6.3"
  }
 },
 "nbformat": 4,
 "nbformat_minor": 4
}
